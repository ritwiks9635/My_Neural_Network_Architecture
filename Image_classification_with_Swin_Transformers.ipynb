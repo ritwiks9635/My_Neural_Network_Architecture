{
  "metadata": {
    "kernelspec": {
      "display_name": "Python 3",
      "name": "python3"
    },
    "language_info": {
      "name": "python",
      "version": "3.10.12",
      "mimetype": "text/x-python",
      "codemirror_mode": {
        "name": "ipython",
        "version": 3
      },
      "pygments_lexer": "ipython3",
      "nbconvert_exporter": "python",
      "file_extension": ".py"
    },
    "colab": {
      "provenance": [],
      "gpuType": "T4",
      "include_colab_link": true
    },
    "accelerator": "GPU"
  },
  "nbformat_minor": 0,
  "nbformat": 4,
  "cells": [
    {
      "cell_type": "markdown",
      "metadata": {
        "id": "view-in-github",
        "colab_type": "text"
      },
      "source": [
        "<a href=\"https://colab.research.google.com/github/ritwiks9635/My_Neural_Network_Architecture/blob/main/Image_classification_with_Swin_Transformers.ipynb\" target=\"_parent\"><img src=\"https://colab.research.google.com/assets/colab-badge.svg\" alt=\"Open In Colab\"/></a>"
      ]
    },
    {
      "cell_type": "markdown",
      "source": [
        "# **Image classification with Swin Transformers**"
      ],
      "metadata": {
        "id": "mcVylcRFA0Xu"
      }
    },
    {
      "cell_type": "markdown",
      "source": [
        "**Swin Transformer (Shifted Window Transformer) can serve as a general-purpose backbone for computer vision. Swin Transformer is a hierarchical Transformer whose representations are computed with shifted windows. The shifted window scheme brings greater efficiency by limiting self-attention computation to non-overlapping local windows while also allowing for cross-window connections. This architecture has the flexibility to model information at various scales and has a linear computational complexity with respect to image size.**"
      ],
      "metadata": {
        "id": "Qf3w77KDBavH"
      }
    },
    {
      "cell_type": "code",
      "source": [
        "pip install tensorflow_addons"
      ],
      "metadata": {
        "colab": {
          "base_uri": "https://localhost:8080/"
        },
        "id": "dSBF8zHE2p0K",
        "outputId": "8c6fc67b-936f-4e2a-a44f-33d81e48d655"
      },
      "execution_count": null,
      "outputs": [
        {
          "output_type": "stream",
          "name": "stdout",
          "text": [
            "Collecting tensorflow_addons\n",
            "  Downloading tensorflow_addons-0.22.0-cp310-cp310-manylinux_2_17_x86_64.manylinux2014_x86_64.whl (612 kB)\n",
            "\u001b[2K     \u001b[90m━━━━━━━━━━━━━━━━━━━━━━━━━━━━━━━━━━━━━━━━\u001b[0m \u001b[32m612.3/612.3 kB\u001b[0m \u001b[31m6.2 MB/s\u001b[0m eta \u001b[36m0:00:00\u001b[0m\n",
            "\u001b[?25hRequirement already satisfied: packaging in /usr/local/lib/python3.10/dist-packages (from tensorflow_addons) (23.2)\n",
            "Collecting typeguard<3.0.0,>=2.7 (from tensorflow_addons)\n",
            "  Downloading typeguard-2.13.3-py3-none-any.whl (17 kB)\n",
            "Installing collected packages: typeguard, tensorflow_addons\n",
            "Successfully installed tensorflow_addons-0.22.0 typeguard-2.13.3\n"
          ]
        }
      ]
    },
    {
      "cell_type": "code",
      "source": [
        "import matplotlib.pyplot as plt\n",
        "import numpy as np\n",
        "import tensorflow as tf\n",
        "import tensorflow_addons as tfa\n",
        "from tensorflow import keras\n",
        "from tensorflow.keras import layers"
      ],
      "metadata": {
        "colab": {
          "base_uri": "https://localhost:8080/"
        },
        "id": "aAVB0d4Z2wP0",
        "outputId": "f915787e-65da-41a7-915c-37a313741a36"
      },
      "execution_count": null,
      "outputs": [
        {
          "output_type": "stream",
          "name": "stderr",
          "text": [
            "/usr/local/lib/python3.10/dist-packages/tensorflow_addons/utils/tfa_eol_msg.py:23: UserWarning: \n",
            "\n",
            "TensorFlow Addons (TFA) has ended development and introduction of new features.\n",
            "TFA has entered a minimal maintenance and release mode until a planned end of life in May 2024.\n",
            "Please modify downstream libraries to take dependencies from other repositories in our TensorFlow community (e.g. Keras, Keras-CV, and Keras-NLP). \n",
            "\n",
            "For more information see: https://github.com/tensorflow/addons/issues/2807 \n",
            "\n",
            "  warnings.warn(\n"
          ]
        }
      ]
    },
    {
      "cell_type": "code",
      "source": [
        "num_classes = 100\n",
        "input_shape = (32, 32, 3)\n",
        "(x_train, y_train), (x_test, y_test) = keras.datasets.cifar100.load_data()\n",
        "x_train, x_test = x_train / 255.0, x_test / 255.0\n",
        "y_train = keras.utils.to_categorical(y_train, num_classes)\n",
        "y_test = keras.utils.to_categorical(y_test, num_classes)\n",
        "\n",
        "print(f\"x_train shape is :: {x_train.shape}, y_train shape is :: {y_train.shape}\")\n",
        "print(f\"x_test shape is :: {x_test.shape}, y_test shape is :: {y_test.shape}\")"
      ],
      "metadata": {
        "colab": {
          "base_uri": "https://localhost:8080/"
        },
        "id": "6edoEpFM3J31",
        "outputId": "dfe865de-edeb-42b8-bdf8-7f993ac8dc2e"
      },
      "execution_count": null,
      "outputs": [
        {
          "output_type": "stream",
          "name": "stdout",
          "text": [
            "Downloading data from https://www.cs.toronto.edu/~kriz/cifar-100-python.tar.gz\n",
            "169001437/169001437 [==============================] - 2s 0us/step\n",
            "x_train shape is :: (50000, 32, 32, 3), y_train shape is :: (50000, 100)\n",
            "x_test shape is :: (10000, 32, 32, 3), y_test shape is :: (10000, 100)\n"
          ]
        }
      ]
    },
    {
      "cell_type": "code",
      "source": [
        "plt.figure(figsize=(10,10))\n",
        "for i in range(9):\n",
        "  plt.subplot(3, 3, i+1)\n",
        "  plt.imshow(x_train[i])\n",
        "  plt.xticks([])\n",
        "  plt.yticks([])\n",
        "  plt.axis(\"off\")\n",
        "plt.show()"
      ],
      "metadata": {
        "colab": {
          "base_uri": "https://localhost:8080/",
          "height": 340
        },
        "id": "-stVXpti5i-i",
        "outputId": "0c66c984-262a-4fc9-fdc6-0f5cf5baa8eb"
      },
      "execution_count": null,
      "outputs": [
        {
          "output_type": "display_data",
          "data": {
            "text/plain": [
              "<Figure size 1000x1000 with 9 Axes>"
            ],
            "image/png": "[encoded data removed]"
          },
          "metadata": {}
        }
      ]
    },
    {
      "cell_type": "code",
      "source": [],
      "metadata": {
        "id": "7Cb1YVmq7aoL"
      },
      "execution_count": null,
      "outputs": []
    },
    {
      "cell_type": "code",
      "source": [
        "patch_size = (2, 2)  # 2-by-2 sized patches\n",
        "dropout_rate = 0.03  # Dropout rate\n",
        "num_heads = 8  # Attention heads\n",
        "embed_dim = 64  # Embedding dimension\n",
        "num_mlp = 256  # MLP layer size\n",
        "qkv_bias = True  # Convert embedded patches to query, key, and values with a learnable additive value\n",
        "window_size = 2  # Size of attention window\n",
        "shift_size = 1  # Size of shifting window\n",
        "image_dimension = 32  # Initial image size\n",
        "\n",
        "num_patch_x = input_shape[0] // patch_size[0]\n",
        "num_patch_y = input_shape[1] // patch_size[1]\n",
        "\n",
        "learning_rate = 1e-3\n",
        "batch_size = 128\n",
        "num_epochs = 40\n",
        "validation_split = 0.1\n",
        "weight_decay = 0.0001\n",
        "label_smoothing = 0.1"
      ],
      "metadata": {
        "id": "kDycmxHQ6Aa1"
      },
      "execution_count": null,
      "outputs": []
    },
    {
      "cell_type": "markdown",
      "source": [
        "**Helper functions**\n",
        "\n",
        "We create two helper functions to help us get a sequence of patches from the image, merge patches, and apply dropout."
      ],
      "metadata": {
        "id": "kulI0jbsFHiG"
      }
    },
    {
      "cell_type": "code",
      "source": [
        "def window_partition(x, window_size):\n",
        "    _, height, width, channels = x.shape\n",
        "    patch_num_y = height // window_size\n",
        "    patch_num_x = width // window_size\n",
        "    x = tf.reshape(\n",
        "        x, shape=(-1, patch_num_y, window_size, patch_num_x, window_size, channels)\n",
        "    )\n",
        "    x = tf.transpose(x, (0, 1, 3, 2, 4, 5))\n",
        "    windows = tf.reshape(x, shape=(-1, window_size, window_size, channels))\n",
        "    return windows\n",
        "\n",
        "\n",
        "def window_reverse(windows, window_size, height, width, channels):\n",
        "    patch_num_y = height // window_size\n",
        "    patch_num_x = width // window_size\n",
        "    x = tf.reshape(\n",
        "        windows,\n",
        "        shape=(-1, patch_num_y, patch_num_x, window_size, window_size, channels),\n",
        "    )\n",
        "    x = tf.transpose(x, perm=(0, 1, 3, 2, 4, 5))\n",
        "    x = tf.reshape(x, shape=(-1, height, width, channels))\n",
        "    return x\n",
        "\n",
        "\n",
        "class DropPath(layers.Layer):\n",
        "    def __init__(self, drop_prob=None, **kwargs):\n",
        "        super().__init__(**kwargs)\n",
        "        self.drop_prob = drop_prob\n",
        "\n",
        "    def call(self, x):\n",
        "        input_shape = tf.shape(x)\n",
        "        batch_size = input_shape[0]\n",
        "        rank = x.shape.rank\n",
        "        shape = (batch_size,) + (1,) * (rank - 1)\n",
        "        random_tensor = (1 - self.drop_prob) + tf.random.uniform(shape, dtype=x.dtype)\n",
        "        path_mask = tf.floor(random_tensor)\n",
        "        output = tf.math.divide(x, 1 - self.drop_prob) * path_mask\n",
        "        return output"
      ],
      "metadata": {
        "id": "uTxl-SSe6doB"
      },
      "execution_count": null,
      "outputs": []
    },
    {
      "cell_type": "markdown",
      "source": [
        "**Window based multi-head self-attention**\n",
        "\n",
        "Usually Transformers perform global self-attention, where the relationships between a token and all other tokens are computed. The global computation leads to quadratic complexity with respect to the number of tokens. Here, as the original paper suggests, we compute self-attention within local windows, in a non-overlapping manner. Global self-attention leads to quadratic computational complexity in the number of patches, whereas window-based self-attention leads to linear complexity and is easily scalable."
      ],
      "metadata": {
        "id": "Mw--qTtfFQ3N"
      }
    },
    {
      "cell_type": "code",
      "source": [
        "class WindowAttention(layers.Layer):\n",
        "    def __init__(\n",
        "        self, dim, window_size, num_heads, qkv_bias=True, dropout_rate=0.0, **kwargs):\n",
        "        super().__init__(**kwargs)\n",
        "        self.dim = dim\n",
        "        self.window_size = window_size\n",
        "        self.num_heads = num_heads\n",
        "        self.scale = (dim // num_heads) ** -0.5\n",
        "        self.qkv = layers.Dense(dim * 3, use_bias=qkv_bias)\n",
        "        self.dropout = layers.Dropout(dropout_rate)\n",
        "        self.proj = layers.Dense(dim)\n",
        "\n",
        "    def build(self, input_shape):\n",
        "        num_window_elements = (2 * self.window_size[0] - 1) * (\n",
        "            2 * self.window_size[1] - 1\n",
        "        )\n",
        "        self.relative_position_bias_table = self.add_weight(\n",
        "            shape=(num_window_elements, self.num_heads),\n",
        "            initializer=tf.initializers.Zeros(),\n",
        "            trainable=True,\n",
        "        )\n",
        "        coords_h = np.arange(self.window_size[0])\n",
        "        coords_w = np.arange(self.window_size[1])\n",
        "        coords_matrix = np.meshgrid(coords_h, coords_w, indexing=\"ij\")\n",
        "        coords = np.stack(coords_matrix)\n",
        "        coords_flatten = coords.reshape(2, -1)\n",
        "        relative_coords = coords_flatten[:, :, None] - coords_flatten[:, None, :]\n",
        "        relative_coords = relative_coords.transpose([1, 2, 0])\n",
        "        relative_coords[:, :, 0] += self.window_size[0] - 1\n",
        "        relative_coords[:, :, 1] += self.window_size[1] - 1\n",
        "        relative_coords[:, :, 0] *= 2 * self.window_size[1] - 1\n",
        "        relative_position_index = relative_coords.sum(-1)\n",
        "\n",
        "        self.relative_position_index = tf.Variable(\n",
        "            initial_value=tf.convert_to_tensor(relative_position_index), trainable=False\n",
        "        )\n",
        "\n",
        "    def call(self, x, mask=None):\n",
        "        _, size, channels = x.shape\n",
        "        head_dim = channels // self.num_heads\n",
        "        x_qkv = self.qkv(x)\n",
        "        x_qkv = tf.reshape(x_qkv, shape=(-1, size, 3, self.num_heads, head_dim))\n",
        "        x_qkv = tf.transpose(x_qkv, perm=(2, 0, 3, 1, 4))\n",
        "        q, k, v = x_qkv[0], x_qkv[1], x_qkv[2]\n",
        "        q = q * self.scale\n",
        "        k = tf.transpose(k, perm=(0, 1, 3, 2))\n",
        "        attn = q @ k\n",
        "\n",
        "        num_window_elements = self.window_size[0] * self.window_size[1]\n",
        "        relative_position_index_flat = tf.reshape(\n",
        "            self.relative_position_index, shape=(-1,)\n",
        "        )\n",
        "        relative_position_bias = tf.gather(\n",
        "            self.relative_position_bias_table, relative_position_index_flat\n",
        "        )\n",
        "        relative_position_bias = tf.reshape(\n",
        "            relative_position_bias, shape=(num_window_elements, num_window_elements, -1)\n",
        "        )\n",
        "        relative_position_bias = tf.transpose(relative_position_bias, perm=(2, 0, 1))\n",
        "        attn = attn + tf.expand_dims(relative_position_bias, axis=0)\n",
        "\n",
        "        if mask is not None:\n",
        "            nW = mask.get_shape()[0]\n",
        "            mask_float = tf.cast(\n",
        "                tf.expand_dims(tf.expand_dims(mask, axis=1), axis=0), tf.float32\n",
        "            )\n",
        "            attn = (\n",
        "                tf.reshape(attn, shape=(-1, nW, self.num_heads, size, size))\n",
        "                + mask_float\n",
        "            )\n",
        "            attn = tf.reshape(attn, shape=(-1, self.num_heads, size, size))\n",
        "            attn = keras.activations.softmax(attn, axis=-1)\n",
        "        else:\n",
        "            attn = keras.activations.softmax(attn, axis=-1)\n",
        "        attn = self.dropout(attn)\n",
        "\n",
        "        x_qkv = attn @ v\n",
        "        x_qkv = tf.transpose(x_qkv, perm=(0, 2, 1, 3))\n",
        "        x_qkv = tf.reshape(x_qkv, shape=(-1, size, channels))\n",
        "        x_qkv = self.proj(x_qkv)\n",
        "        x_qkv = self.dropout(x_qkv)\n",
        "        return x_qkv"
      ],
      "metadata": {
        "id": "hv5GqWCZ6kbn"
      },
      "execution_count": null,
      "outputs": []
    },
    {
      "cell_type": "markdown",
      "source": [
        "**The complete Swin Transformer model**\n",
        "\n",
        "Finally, we put together the complete Swin Transformer by replacing the standard multi-head attention (MHA) with shifted windows attention. As suggested in the original paper, we create a model comprising of a shifted window-based MHA layer, followed by a 2-layer MLP with GELU nonlinearity in between, applying LayerNormalization before each MSA layer and each MLP, and a residual connection after each of these layers.\n",
        "\n",
        "Notice that we only create a simple MLP with 2 Dense and 2 Dropout layers. Often you will see models using ResNet-50 as the MLP which is quite standard in the literature. However in this paper the authors use a 2-layer MLP with GELU nonlinearity in between."
      ],
      "metadata": {
        "id": "pnRJWypmFfPm"
      }
    },
    {
      "cell_type": "code",
      "source": [
        "class SwinTransformer(layers.Layer):\n",
        "    def __init__(\n",
        "        self,\n",
        "        dim,\n",
        "        num_patch,\n",
        "        num_heads,\n",
        "        window_size=7,\n",
        "        shift_size=0,\n",
        "        num_mlp=1024,\n",
        "        qkv_bias=True,\n",
        "        dropout_rate=0.0,\n",
        "        **kwargs,\n",
        "    ):\n",
        "        super().__init__(**kwargs)\n",
        "\n",
        "        self.dim = dim  # number of input dimensions\n",
        "        self.num_patch = num_patch  # number of embedded patches\n",
        "        self.num_heads = num_heads  # number of attention heads\n",
        "        self.window_size = window_size  # size of window\n",
        "        self.shift_size = shift_size  # size of window shift\n",
        "        self.num_mlp = num_mlp  # number of MLP nodes\n",
        "\n",
        "        self.norm1 = layers.LayerNormalization(epsilon=1e-5)\n",
        "        self.attn = WindowAttention(\n",
        "            dim,\n",
        "            window_size=(self.window_size, self.window_size),\n",
        "            num_heads=num_heads,\n",
        "            qkv_bias=qkv_bias,\n",
        "            dropout_rate=dropout_rate,\n",
        "        )\n",
        "        self.drop_path = DropPath(dropout_rate)\n",
        "        self.norm2 = layers.LayerNormalization(epsilon=1e-5)\n",
        "\n",
        "        self.mlp = keras.Sequential(\n",
        "            [\n",
        "                layers.Dense(num_mlp),\n",
        "                layers.Activation(keras.activations.gelu),\n",
        "                layers.Dropout(dropout_rate),\n",
        "                layers.Dense(dim),\n",
        "                layers.Dropout(dropout_rate),\n",
        "            ]\n",
        "        )\n",
        "\n",
        "        if min(self.num_patch) < self.window_size:\n",
        "            self.shift_size = 0\n",
        "            self.window_size = min(self.num_patch)\n",
        "\n",
        "    def build(self, input_shape):\n",
        "        if self.shift_size == 0:\n",
        "            self.attn_mask = None\n",
        "        else:\n",
        "            height, width = self.num_patch\n",
        "            h_slices = (\n",
        "                slice(0, -self.window_size),\n",
        "                slice(-self.window_size, -self.shift_size),\n",
        "                slice(-self.shift_size, None),\n",
        "            )\n",
        "            w_slices = (\n",
        "                slice(0, -self.window_size),\n",
        "                slice(-self.window_size, -self.shift_size),\n",
        "                slice(-self.shift_size, None),\n",
        "            )\n",
        "            mask_array = np.zeros((1, height, width, 1))\n",
        "            count = 0\n",
        "            for h in h_slices:\n",
        "                for w in w_slices:\n",
        "                    mask_array[:, h, w, :] = count\n",
        "                    count += 1\n",
        "            mask_array = tf.convert_to_tensor(mask_array)\n",
        "\n",
        "            # mask array to windows\n",
        "            mask_windows = window_partition(mask_array, self.window_size)\n",
        "            mask_windows = tf.reshape(\n",
        "                mask_windows, shape=[-1, self.window_size * self.window_size]\n",
        "            )\n",
        "            attn_mask = tf.expand_dims(mask_windows, axis=1) - tf.expand_dims(\n",
        "                mask_windows, axis=2\n",
        "            )\n",
        "            attn_mask = tf.where(attn_mask != 0, -100.0, attn_mask)\n",
        "            attn_mask = tf.where(attn_mask == 0, 0.0, attn_mask)\n",
        "            self.attn_mask = tf.Variable(initial_value=attn_mask, trainable=False)\n",
        "\n",
        "    def call(self, x):\n",
        "        height, width = self.num_patch\n",
        "        _, num_patches_before, channels = x.shape\n",
        "        x_skip = x\n",
        "        x = self.norm1(x)\n",
        "        x = tf.reshape(x, shape=(-1, height, width, channels))\n",
        "        if self.shift_size > 0:\n",
        "            shifted_x = tf.roll(\n",
        "                x, shift=[-self.shift_size, -self.shift_size], axis=[1, 2]\n",
        "            )\n",
        "        else:\n",
        "            shifted_x = x\n",
        "\n",
        "        x_windows = window_partition(shifted_x, self.window_size)\n",
        "        x_windows = tf.reshape(\n",
        "            x_windows, shape=(-1, self.window_size * self.window_size, channels)\n",
        "        )\n",
        "        attn_windows = self.attn(x_windows, mask=self.attn_mask)\n",
        "\n",
        "        attn_windows = tf.reshape(\n",
        "            attn_windows, shape=(-1, self.window_size, self.window_size, channels)\n",
        "        )\n",
        "        shifted_x = window_reverse(\n",
        "            attn_windows, self.window_size, height, width, channels\n",
        "        )\n",
        "        if self.shift_size > 0:\n",
        "            x = tf.roll(\n",
        "                shifted_x, shift=[self.shift_size, self.shift_size], axis=[1, 2]\n",
        "            )\n",
        "        else:\n",
        "            x = shifted_x\n",
        "\n",
        "        x = tf.reshape(x, shape=(-1, height * width, channels))\n",
        "        x = self.drop_path(x)\n",
        "        x = x_skip + x\n",
        "        x_skip = x\n",
        "        x = self.norm2(x)\n",
        "        x = self.mlp(x)\n",
        "        x = self.drop_path(x)\n",
        "        x = x_skip + x\n",
        "        return x"
      ],
      "metadata": {
        "id": "owePRDJ_7ciS"
      },
      "execution_count": null,
      "outputs": []
    },
    {
      "cell_type": "markdown",
      "source": [
        "**Model training and evaluation**\n",
        "\n",
        "**Extract and embed patches**\n",
        "\n",
        "We first create 3 layers to help us extract, embed and merge patches from the images on top of which we will later use the Swin Transformer class we built."
      ],
      "metadata": {
        "id": "8EXAwldLFo9k"
      }
    },
    {
      "cell_type": "code",
      "source": [
        "class PatchExtract(layers.Layer):\n",
        "    def __init__(self, patch_size, **kwargs):\n",
        "        super().__init__(**kwargs)\n",
        "        self.patch_size_x = patch_size[0]\n",
        "        self.patch_size_y = patch_size[0]\n",
        "\n",
        "    def call(self, images):\n",
        "        batch_size = tf.shape(images)[0]\n",
        "        patches = tf.image.extract_patches(\n",
        "            images=images,\n",
        "            sizes=(1, self.patch_size_x, self.patch_size_y, 1),\n",
        "            strides=(1, self.patch_size_x, self.patch_size_y, 1),\n",
        "            rates=(1, 1, 1, 1),\n",
        "            padding=\"VALID\",\n",
        "        )\n",
        "        patch_dim = patches.shape[-1]\n",
        "        patch_num = patches.shape[1]\n",
        "        return tf.reshape(patches, (batch_size, patch_num * patch_num, patch_dim))\n",
        "\n",
        "\n",
        "class PatchEmbedding(layers.Layer):\n",
        "    def __init__(self, num_patch, embed_dim, **kwargs):\n",
        "        super().__init__(**kwargs)\n",
        "        self.num_patch = num_patch\n",
        "        self.proj = layers.Dense(embed_dim)\n",
        "        self.pos_embed = layers.Embedding(input_dim=num_patch, output_dim=embed_dim)\n",
        "\n",
        "    def call(self, patch):\n",
        "        pos = tf.range(start=0, limit=self.num_patch, delta=1)\n",
        "        return self.proj(patch) + self.pos_embed(pos)\n",
        "\n",
        "\n",
        "class PatchMerging(tf.keras.layers.Layer):\n",
        "    def __init__(self, num_patch, embed_dim):\n",
        "        super().__init__()\n",
        "        self.num_patch = num_patch\n",
        "        self.embed_dim = embed_dim\n",
        "        self.linear_trans = layers.Dense(2 * embed_dim, use_bias=False)\n",
        "\n",
        "    def call(self, x):\n",
        "        height, width = self.num_patch\n",
        "        _, _, C = x.get_shape().as_list()\n",
        "        x = tf.reshape(x, shape=(-1, height, width, C))\n",
        "        x0 = x[:, 0::2, 0::2, :]\n",
        "        x1 = x[:, 1::2, 0::2, :]\n",
        "        x2 = x[:, 0::2, 1::2, :]\n",
        "        x3 = x[:, 1::2, 1::2, :]\n",
        "        x = tf.concat((x0, x1, x2, x3), axis=-1)\n",
        "        x = tf.reshape(x, shape=(-1, (height // 2) * (width // 2), 4 * C))\n",
        "        return self.linear_trans(x)"
      ],
      "metadata": {
        "id": "bkpu35bs98W7"
      },
      "execution_count": null,
      "outputs": []
    },
    {
      "cell_type": "code",
      "source": [
        "input = layers.Input(input_shape)\n",
        "x = layers.RandomCrop(image_dimension, image_dimension)(input)\n",
        "x = layers.RandomFlip(\"horizontal\")(x)\n",
        "x = PatchExtract(patch_size)(x)\n",
        "x = PatchEmbedding(num_patch_x * num_patch_y, embed_dim)(x)\n",
        "x = SwinTransformer(\n",
        "    dim=embed_dim,\n",
        "    num_patch=(num_patch_x, num_patch_y),\n",
        "    num_heads=num_heads,\n",
        "    window_size=window_size,\n",
        "    shift_size=0,\n",
        "    num_mlp=num_mlp,\n",
        "    qkv_bias=qkv_bias,\n",
        "    dropout_rate=dropout_rate,\n",
        ")(x)\n",
        "x = SwinTransformer(\n",
        "    dim=embed_dim,\n",
        "    num_patch=(num_patch_x, num_patch_y),\n",
        "    num_heads=num_heads,\n",
        "    window_size=window_size,\n",
        "    shift_size=shift_size,\n",
        "    num_mlp=num_mlp,\n",
        "    qkv_bias=qkv_bias,\n",
        "    dropout_rate=dropout_rate,\n",
        ")(x)\n",
        "x = PatchMerging((num_patch_x, num_patch_y), embed_dim=embed_dim)(x)\n",
        "x = layers.GlobalAveragePooling1D()(x)\n",
        "output = layers.Dense(num_classes, activation=\"softmax\")(x)"
      ],
      "metadata": {
        "id": "cdkiDLkV-I6s"
      },
      "execution_count": null,
      "outputs": []
    },
    {
      "cell_type": "code",
      "source": [
        "model = keras.Model(input, output)\n",
        "model.compile(\n",
        "    loss=keras.losses.CategoricalCrossentropy(label_smoothing=label_smoothing),\n",
        "    optimizer=tfa.optimizers.AdamW(\n",
        "        learning_rate=learning_rate, weight_decay=weight_decay\n",
        "    ),\n",
        "    metrics=[\n",
        "        keras.metrics.CategoricalAccuracy(name=\"accuracy\"),\n",
        "        keras.metrics.TopKCategoricalAccuracy(5, name=\"top-5-accuracy\"),\n",
        "    ],\n",
        ")\n",
        "\n",
        "history = model.fit(\n",
        "    x_train,\n",
        "    y_train,\n",
        "    batch_size=batch_size,\n",
        "    epochs=num_epochs,\n",
        "    validation_split=validation_split,\n",
        ")"
      ],
      "metadata": {
        "colab": {
          "base_uri": "https://localhost:8080/"
        },
        "id": "gv4KX4xI-pCf",
        "outputId": "5f355c31-bc9d-4d10-d778-2f8b783c492a"
      },
      "execution_count": null,
      "outputs": [
        {
          "output_type": "stream",
          "name": "stdout",
          "text": [
            "Epoch 1/40\n",
            "352/352 [==============================] - 37s 75ms/step - loss: 4.1780 - accuracy: 0.0806 - top-5-accuracy: 0.2529 - val_loss: 3.8998 - val_accuracy: 0.1148 - val_top-5-accuracy: 0.3610\n",
            "Epoch 2/40\n",
            "352/352 [==============================] - 26s 74ms/step - loss: 3.7415 - accuracy: 0.1593 - top-5-accuracy: 0.4163 - val_loss: 3.6769 - val_accuracy: 0.1766 - val_top-5-accuracy: 0.4436\n",
            "Epoch 3/40\n",
            "352/352 [==============================] - 26s 73ms/step - loss: 3.5385 - accuracy: 0.2062 - top-5-accuracy: 0.4923 - val_loss: 3.4642 - val_accuracy: 0.2294 - val_top-5-accuracy: 0.5134\n",
            "Epoch 4/40\n",
            "352/352 [==============================] - 26s 73ms/step - loss: 3.3905 - accuracy: 0.2367 - top-5-accuracy: 0.5408 - val_loss: 3.3706 - val_accuracy: 0.2418 - val_top-5-accuracy: 0.5492\n",
            "Epoch 5/40\n",
            "352/352 [==============================] - 25s 72ms/step - loss: 3.2921 - accuracy: 0.2650 - top-5-accuracy: 0.5714 - val_loss: 3.2933 - val_accuracy: 0.2654 - val_top-5-accuracy: 0.5672\n",
            "Epoch 6/40\n",
            "352/352 [==============================] - 26s 74ms/step - loss: 3.2043 - accuracy: 0.2892 - top-5-accuracy: 0.5992 - val_loss: 3.1965 - val_accuracy: 0.2886 - val_top-5-accuracy: 0.6060\n",
            "Epoch 7/40\n",
            "352/352 [==============================] - 26s 73ms/step - loss: 3.1446 - accuracy: 0.3043 - top-5-accuracy: 0.6165 - val_loss: 3.1497 - val_accuracy: 0.2990 - val_top-5-accuracy: 0.6172\n",
            "Epoch 8/40\n",
            "352/352 [==============================] - 26s 74ms/step - loss: 3.0884 - accuracy: 0.3172 - top-5-accuracy: 0.6328 - val_loss: 3.1133 - val_accuracy: 0.3130 - val_top-5-accuracy: 0.6312\n",
            "Epoch 9/40\n",
            "352/352 [==============================] - 26s 73ms/step - loss: 3.0407 - accuracy: 0.3308 - top-5-accuracy: 0.6476 - val_loss: 3.0755 - val_accuracy: 0.3262 - val_top-5-accuracy: 0.6350\n",
            "Epoch 10/40\n",
            "352/352 [==============================] - 26s 73ms/step - loss: 3.0088 - accuracy: 0.3408 - top-5-accuracy: 0.6554 - val_loss: 3.0491 - val_accuracy: 0.3316 - val_top-5-accuracy: 0.6436\n",
            "Epoch 11/40\n",
            "352/352 [==============================] - 26s 73ms/step - loss: 2.9675 - accuracy: 0.3491 - top-5-accuracy: 0.6691 - val_loss: 3.0270 - val_accuracy: 0.3290 - val_top-5-accuracy: 0.6532\n",
            "Epoch 12/40\n",
            "352/352 [==============================] - 26s 74ms/step - loss: 2.9380 - accuracy: 0.3575 - top-5-accuracy: 0.6762 - val_loss: 3.0308 - val_accuracy: 0.3384 - val_top-5-accuracy: 0.6544\n",
            "Epoch 13/40\n",
            "352/352 [==============================] - 26s 75ms/step - loss: 2.9106 - accuracy: 0.3685 - top-5-accuracy: 0.6833 - val_loss: 2.9669 - val_accuracy: 0.3406 - val_top-5-accuracy: 0.6688\n",
            "Epoch 14/40\n",
            "352/352 [==============================] - 26s 74ms/step - loss: 2.8899 - accuracy: 0.3741 - top-5-accuracy: 0.6923 - val_loss: 2.9601 - val_accuracy: 0.3588 - val_top-5-accuracy: 0.6714\n",
            "Epoch 15/40\n",
            "352/352 [==============================] - 26s 73ms/step - loss: 2.8704 - accuracy: 0.3788 - top-5-accuracy: 0.6973 - val_loss: 2.9429 - val_accuracy: 0.3582 - val_top-5-accuracy: 0.6750\n",
            "Epoch 16/40\n",
            "352/352 [==============================] - 26s 74ms/step - loss: 2.8490 - accuracy: 0.3829 - top-5-accuracy: 0.6993 - val_loss: 2.9620 - val_accuracy: 0.3524 - val_top-5-accuracy: 0.6672\n",
            "Epoch 17/40\n",
            "352/352 [==============================] - 26s 73ms/step - loss: 2.8284 - accuracy: 0.3881 - top-5-accuracy: 0.7061 - val_loss: 2.9554 - val_accuracy: 0.3516 - val_top-5-accuracy: 0.6716\n",
            "Epoch 18/40\n",
            "352/352 [==============================] - 26s 74ms/step - loss: 2.8125 - accuracy: 0.3936 - top-5-accuracy: 0.7106 - val_loss: 2.9593 - val_accuracy: 0.3490 - val_top-5-accuracy: 0.6784\n",
            "Epoch 19/40\n",
            "352/352 [==============================] - 26s 74ms/step - loss: 2.7948 - accuracy: 0.4005 - top-5-accuracy: 0.7135 - val_loss: 2.9052 - val_accuracy: 0.3698 - val_top-5-accuracy: 0.6834\n",
            "Epoch 20/40\n",
            "352/352 [==============================] - 26s 75ms/step - loss: 2.7783 - accuracy: 0.4027 - top-5-accuracy: 0.7185 - val_loss: 2.9050 - val_accuracy: 0.3700 - val_top-5-accuracy: 0.6892\n",
            "Epoch 21/40\n",
            "352/352 [==============================] - 26s 74ms/step - loss: 2.7682 - accuracy: 0.4050 - top-5-accuracy: 0.7226 - val_loss: 2.8748 - val_accuracy: 0.3742 - val_top-5-accuracy: 0.6946\n",
            "Epoch 22/40\n",
            "352/352 [==============================] - 26s 74ms/step - loss: 2.7527 - accuracy: 0.4093 - top-5-accuracy: 0.7262 - val_loss: 2.8779 - val_accuracy: 0.3804 - val_top-5-accuracy: 0.6934\n",
            "Epoch 23/40\n",
            "352/352 [==============================] - 26s 74ms/step - loss: 2.7403 - accuracy: 0.4118 - top-5-accuracy: 0.7297 - val_loss: 2.8693 - val_accuracy: 0.3772 - val_top-5-accuracy: 0.6982\n",
            "Epoch 24/40\n",
            "352/352 [==============================] - 26s 75ms/step - loss: 2.7273 - accuracy: 0.4162 - top-5-accuracy: 0.7339 - val_loss: 2.8518 - val_accuracy: 0.3844 - val_top-5-accuracy: 0.7000\n",
            "Epoch 25/40\n",
            "352/352 [==============================] - 26s 73ms/step - loss: 2.7193 - accuracy: 0.4193 - top-5-accuracy: 0.7348 - val_loss: 2.8329 - val_accuracy: 0.3862 - val_top-5-accuracy: 0.7030\n",
            "Epoch 26/40\n",
            "352/352 [==============================] - 26s 74ms/step - loss: 2.7060 - accuracy: 0.4248 - top-5-accuracy: 0.7360 - val_loss: 2.8461 - val_accuracy: 0.3824 - val_top-5-accuracy: 0.7080\n",
            "Epoch 27/40\n",
            "352/352 [==============================] - 26s 75ms/step - loss: 2.6964 - accuracy: 0.4255 - top-5-accuracy: 0.7377 - val_loss: 2.8040 - val_accuracy: 0.3966 - val_top-5-accuracy: 0.7158\n",
            "Epoch 28/40\n",
            "352/352 [==============================] - 26s 74ms/step - loss: 2.6917 - accuracy: 0.4282 - top-5-accuracy: 0.7406 - val_loss: 2.8110 - val_accuracy: 0.3922 - val_top-5-accuracy: 0.7038\n",
            "Epoch 29/40\n",
            "352/352 [==============================] - 26s 73ms/step - loss: 2.6774 - accuracy: 0.4331 - top-5-accuracy: 0.7451 - val_loss: 2.8115 - val_accuracy: 0.3930 - val_top-5-accuracy: 0.7064\n",
            "Epoch 30/40\n",
            "352/352 [==============================] - 26s 74ms/step - loss: 2.6689 - accuracy: 0.4338 - top-5-accuracy: 0.7467 - val_loss: 2.8164 - val_accuracy: 0.3902 - val_top-5-accuracy: 0.7054\n",
            "Epoch 31/40\n",
            "352/352 [==============================] - 26s 75ms/step - loss: 2.6631 - accuracy: 0.4360 - top-5-accuracy: 0.7485 - val_loss: 2.8225 - val_accuracy: 0.4024 - val_top-5-accuracy: 0.7086\n",
            "Epoch 32/40\n",
            "352/352 [==============================] - 26s 74ms/step - loss: 2.6472 - accuracy: 0.4402 - top-5-accuracy: 0.7498 - val_loss: 2.8024 - val_accuracy: 0.4032 - val_top-5-accuracy: 0.7144\n",
            "Epoch 33/40\n",
            "352/352 [==============================] - 26s 75ms/step - loss: 2.6435 - accuracy: 0.4418 - top-5-accuracy: 0.7515 - val_loss: 2.8244 - val_accuracy: 0.4000 - val_top-5-accuracy: 0.7108\n",
            "Epoch 34/40\n",
            "352/352 [==============================] - 26s 74ms/step - loss: 2.6330 - accuracy: 0.4446 - top-5-accuracy: 0.7563 - val_loss: 2.8074 - val_accuracy: 0.3936 - val_top-5-accuracy: 0.7114\n",
            "Epoch 35/40\n",
            "352/352 [==============================] - 26s 74ms/step - loss: 2.6311 - accuracy: 0.4460 - top-5-accuracy: 0.7571 - val_loss: 2.7809 - val_accuracy: 0.4002 - val_top-5-accuracy: 0.7244\n",
            "Epoch 36/40\n",
            "352/352 [==============================] - 26s 75ms/step - loss: 2.6224 - accuracy: 0.4479 - top-5-accuracy: 0.7582 - val_loss: 2.7864 - val_accuracy: 0.4078 - val_top-5-accuracy: 0.7178\n",
            "Epoch 37/40\n",
            "352/352 [==============================] - 26s 75ms/step - loss: 2.6177 - accuracy: 0.4490 - top-5-accuracy: 0.7616 - val_loss: 2.7661 - val_accuracy: 0.4078 - val_top-5-accuracy: 0.7216\n",
            "Epoch 38/40\n",
            "352/352 [==============================] - 26s 73ms/step - loss: 2.6108 - accuracy: 0.4522 - top-5-accuracy: 0.7597 - val_loss: 2.7906 - val_accuracy: 0.4020 - val_top-5-accuracy: 0.7084\n",
            "Epoch 39/40\n",
            "352/352 [==============================] - 26s 75ms/step - loss: 2.6041 - accuracy: 0.4525 - top-5-accuracy: 0.7632 - val_loss: 2.7559 - val_accuracy: 0.4168 - val_top-5-accuracy: 0.7200\n",
            "Epoch 40/40\n",
            "352/352 [==============================] - 26s 74ms/step - loss: 2.5975 - accuracy: 0.4547 - top-5-accuracy: 0.7644 - val_loss: 2.7508 - val_accuracy: 0.4124 - val_top-5-accuracy: 0.7210\n"
          ]
        }
      ]
    },
    {
      "cell_type": "code",
      "source": [
        "plt.plot(history.history[\"loss\"], label=\"train_loss\")\n",
        "plt.plot(history.history[\"val_loss\"], label=\"val_loss\")\n",
        "plt.xlabel(\"Epochs\")\n",
        "plt.ylabel(\"Loss\")\n",
        "plt.title(\"Train and Validation Losses Over Epochs\", fontsize=14)\n",
        "plt.legend()\n",
        "plt.grid()\n",
        "plt.show()"
      ],
      "metadata": {
        "colab": {
          "base_uri": "https://localhost:8080/",
          "height": 278
        },
        "id": "Lpiv-R_eAnSu",
        "outputId": "3d4aff4e-c01a-4a4d-b6b3-35009537082f"
      },
      "execution_count": null,
      "outputs": [
        {
          "output_type": "display_data",
          "data": {
            "text/plain": [
              "<Figure size 640x480 with 1 Axes>"
            ],
            "image/png": "[encoded data removed]"
          },
          "metadata": {}
        }
      ]
    },
    {
      "cell_type": "code",
      "source": [
        "\n",
        "loss, accuracy, top_5_accuracy = model.evaluate(x_test, y_test)\n",
        "print(f\"Test loss: {round(loss, 2)}\")\n",
        "print(f\"Test accuracy: {round(accuracy * 100, 2)}%\")\n",
        "print(f\"Test top 5 accuracy: {round(top_5_accuracy * 100, 2)}%\")"
      ],
      "metadata": {
        "colab": {
          "base_uri": "https://localhost:8080/"
        },
        "id": "X8vjvsgRDKR5",
        "outputId": "7d502ed1-2c37-492a-fee7-c5a488df71aa"
      },
      "execution_count": null,
      "outputs": [
        {
          "output_type": "stream",
          "name": "stdout",
          "text": [
            "313/313 [==============================] - 4s 14ms/step - loss: 2.7082 - accuracy: 0.4262 - top-5-accuracy: 0.7329\n",
            "Test loss: 2.71\n",
            "Test accuracy: 42.62%\n",
            "Test top 5 accuracy: 73.29%\n"
          ]
        }
      ]
    },
    {
      "cell_type": "markdown",
      "source": [
        "\n",
        "The Swin Transformer model we just trained has just 152K parameters, and it gets us to ~75% test top-5 accuracy within just 40 epochs without any signs of overfitting as well as seen in above graph. This means we can train this network for longer (perhaps with a bit more regularization) and obtain even better performance. This performance can further be improved by additional techniques like cosine decay learning rate schedule, other data augmentation techniques. While experimenting, I tried training the model for 150 epochs with a slightly higher dropout and greater embedding dimensions which pushes the performance to ~72% test accuracy on CIFAR-100 as you can see in the screenshot.\n",
        "\n",
        "The authors present a top-1 accuracy of 87.3% on ImageNet. The authors also present a number of experiments to study how input sizes, optimizers etc. affect the final performance of this model. The authors further present using this model for object detection, semantic segmentation and instance segmentation as well and report competitive results for these. You are strongly advised to also check out the original paper."
      ],
      "metadata": {
        "id": "WLzhy_GKF9ID"
      }
    }
  ]
}