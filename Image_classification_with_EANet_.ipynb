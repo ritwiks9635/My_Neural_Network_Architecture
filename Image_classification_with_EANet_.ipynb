{
  "cells": [
    {
      "cell_type": "markdown",
      "metadata": {
        "id": "view-in-github",
        "colab_type": "text"
      },
      "source": [
        "<a href=\"https://colab.research.google.com/github/ritwiks9635/My_Neural_Network_Architecture/blob/main/Image_classification_with_EANet_.ipynb\" target=\"_parent\"><img src=\"https://colab.research.google.com/assets/colab-badge.svg\" alt=\"Open In Colab\"/></a>"
      ]
    },
    {
      "cell_type": "markdown",
      "metadata": {
        "id": "sXbq9VF1qhJY"
      },
      "source": [
        "# **Image classification with EANet (External Attention Transformer)**"
      ]
    },
    {
      "cell_type": "markdown",
      "source": [
        "**This example implements the EANet model for image classification, and demonstrates it on the CIFAR-100 dataset. EANet introduces a novel attention mechanism named external attention, based on two external, small, learnable, and shared memories, which can be implemented easily by simply using two cascaded linear layers and two normalization layers. It conveniently replaces self-attention as used in existing architectures. External attention has linear complexity, as it only implicitly considers the correlations between all samples.**"
      ],
      "metadata": {
        "id": "eCawhdq_E6Ks"
      }
    },
    {
      "cell_type": "code",
      "execution_count": 1,
      "metadata": {
        "colab": {
          "base_uri": "https://localhost:8080/"
        },
        "id": "o31LsqigqiC0",
        "outputId": "adf0f7c6-2b5e-4d61-ee14-5854006d9060"
      },
      "outputs": [
        {
          "output_type": "stream",
          "name": "stdout",
          "text": [
            "Collecting tensorflow_addons\n",
            "  Downloading tensorflow_addons-0.21.0-cp310-cp310-manylinux_2_17_x86_64.manylinux2014_x86_64.whl (612 kB)\n",
            "\u001b[?25l     \u001b[90m━━━━━━━━━━━━━━━━━━━━━━━━━━━━━━━━━━━━━━━━\u001b[0m \u001b[32m0.0/612.1 kB\u001b[0m \u001b[31m?\u001b[0m eta \u001b[36m-:--:--\u001b[0m\r\u001b[2K     \u001b[91m━━━━━\u001b[0m\u001b[90m╺\u001b[0m\u001b[90m━━━━━━━━━━━━━━━━━━━━━━━━━━━━━━━━━━\u001b[0m \u001b[32m81.9/612.1 kB\u001b[0m \u001b[31m2.8 MB/s\u001b[0m eta \u001b[36m0:00:01\u001b[0m\r\u001b[2K     \u001b[90m━━━━━━━━━━━━━━━━━━━━━━━━━━━━━━━━━━━━━━\u001b[0m \u001b[32m612.1/612.1 kB\u001b[0m \u001b[31m12.6 MB/s\u001b[0m eta \u001b[36m0:00:00\u001b[0m\n",
            "\u001b[?25hRequirement already satisfied: packaging in /usr/local/lib/python3.10/dist-packages (from tensorflow_addons) (23.1)\n",
            "Collecting typeguard<3.0.0,>=2.7 (from tensorflow_addons)\n",
            "  Downloading typeguard-2.13.3-py3-none-any.whl (17 kB)\n",
            "Installing collected packages: typeguard, tensorflow_addons\n",
            "Successfully installed tensorflow_addons-0.21.0 typeguard-2.13.3\n"
          ]
        }
      ],
      "source": [
        "pip install tensorflow_addons"
      ]
    },
    {
      "cell_type": "code",
      "execution_count": 2,
      "metadata": {
        "id": "tiXqGYfzq5JY",
        "colab": {
          "base_uri": "https://localhost:8080/"
        },
        "outputId": "9ee818e3-eab0-4f74-a4e7-dfdfcb49dfc5"
      },
      "outputs": [
        {
          "output_type": "stream",
          "name": "stderr",
          "text": [
            "/usr/local/lib/python3.10/dist-packages/tensorflow_addons/utils/tfa_eol_msg.py:23: UserWarning: \n",
            "\n",
            "TensorFlow Addons (TFA) has ended development and introduction of new features.\n",
            "TFA has entered a minimal maintenance and release mode until a planned end of life in May 2024.\n",
            "Please modify downstream libraries to take dependencies from other repositories in our TensorFlow community (e.g. Keras, Keras-CV, and Keras-NLP). \n",
            "\n",
            "For more information see: https://github.com/tensorflow/addons/issues/2807 \n",
            "\n",
            "  warnings.warn(\n"
          ]
        }
      ],
      "source": [
        "import numpy as np\n",
        "import tensorflow as tf\n",
        "from tensorflow import keras\n",
        "import matplotlib.pyplot as plt\n",
        "import tensorflow_addons as tfa\n",
        "from tensorflow.keras import layers"
      ]
    },
    {
      "cell_type": "code",
      "execution_count": 3,
      "metadata": {
        "colab": {
          "base_uri": "https://localhost:8080/"
        },
        "id": "y32rVh2Krm5M",
        "outputId": "5279ab1e-47b4-4126-ce05-9664c751d0a0"
      },
      "outputs": [
        {
          "output_type": "stream",
          "name": "stdout",
          "text": [
            "Downloading data from https://www.cs.toronto.edu/~kriz/cifar-100-python.tar.gz\n",
            "169001437/169001437 [==============================] - 14s 0us/step\n",
            "x_train shape: (50000, 32, 32, 3) - y_train shape: (50000, 100)\n",
            "x_test shape: (10000, 32, 32, 3) - y_test shape: (10000, 100)\n"
          ]
        }
      ],
      "source": [
        "num_classes = 100\n",
        "input_shape = (32, 32, 3)\n",
        "(x_train, y_train), (x_test, y_test) = keras.datasets.cifar100.load_data()\n",
        "y_train = keras.utils.to_categorical(y_train)\n",
        "y_test = keras.utils.to_categorical(y_test)\n",
        "print(f\"x_train shape: {x_train.shape} - y_train shape: {y_train.shape}\")\n",
        "print(f\"x_test shape: {x_test.shape} - y_test shape: {y_test.shape}\")"
      ]
    },
    {
      "cell_type": "code",
      "execution_count": 4,
      "metadata": {
        "colab": {
          "base_uri": "https://localhost:8080/"
        },
        "id": "sfB4S-Xovn3Y",
        "outputId": "1c645e1b-0c86-4f65-fa18-7a0532c068dc"
      },
      "outputs": [
        {
          "output_type": "stream",
          "name": "stdout",
          "text": [
            "Patch size: 2 X 2 = 4 \n",
            "Patches per image: 256\n"
          ]
        }
      ],
      "source": [
        "weight_decay = 0.0001\n",
        "learning_rate = 0.001\n",
        "label_smoothing = 0.1\n",
        "validation_split = 0.2\n",
        "batch_size = 128\n",
        "num_epochs = 50\n",
        "patch_size = 2  # Size of the patches to be extracted from the input images.\n",
        "num_patches = (input_shape[0] // patch_size) ** 2  # Number of patch\n",
        "embedding_dim = 64  # Number of hidden units.\n",
        "mlp_dim = 64\n",
        "dim_coefficient = 4\n",
        "num_heads = 4\n",
        "attention_dropout = 0.2\n",
        "projection_dropout = 0.2\n",
        "num_transformer_blocks = 8  # Number of repetitions of the transformer layer\n",
        "\n",
        "print(f\"Patch size: {patch_size} X {patch_size} = {patch_size ** 2} \")\n",
        "print(f\"Patches per image: {num_patches}\")"
      ]
    },
    {
      "cell_type": "code",
      "execution_count": 5,
      "metadata": {
        "id": "uMMAq0jtv-LX"
      },
      "outputs": [],
      "source": [
        "data_augmentation = keras.Sequential([\n",
        "    layers.Normalization(),\n",
        "    layers.RandomFlip(\"horizontal\"),\n",
        "    layers.RandomRotation(factor = 0.1),\n",
        "    layers.RandomContrast(factor = 0.1),\n",
        "    layers.RandomZoom(height_factor = 0.2, width_factor = 0.2)\n",
        "    ], name = \"data_augmentation\")\n",
        "\n",
        "data_augmentation.layers[0].adapt(x_train)"
      ]
    },
    {
      "cell_type": "markdown",
      "source": [
        "**Implement the patch extraction and encoding layer**"
      ],
      "metadata": {
        "id": "x4mlbx0PFEnB"
      }
    },
    {
      "cell_type": "code",
      "execution_count": 6,
      "metadata": {
        "id": "YP0xVeW-y-tP"
      },
      "outputs": [],
      "source": [
        "class PatchExtract(layers.Layer):\n",
        "    def __init__(self, patch_size, **kwargs):\n",
        "        super().__init__(**kwargs)\n",
        "        self.patch_size = patch_size\n",
        "\n",
        "    def call(self, images):\n",
        "        batch_size = tf.shape(images)[0]\n",
        "        patches = tf.image.extract_patches(\n",
        "            images=images,\n",
        "            sizes=(1, self.patch_size, self.patch_size, 1),\n",
        "            strides=(1, self.patch_size, self.patch_size, 1),\n",
        "            rates=(1, 1, 1, 1),\n",
        "            padding=\"VALID\",\n",
        "        )\n",
        "        patch_dim = patches.shape[-1]\n",
        "        patch_num = patches.shape[1]\n",
        "        return tf.reshape(patches, (batch_size, patch_num * patch_num, patch_dim))\n",
        "\n",
        "\n",
        "class PatchEmbedding(layers.Layer):\n",
        "    def __init__(self, num_patch, embed_dim, **kwargs):\n",
        "        super().__init__(**kwargs)\n",
        "        self.num_patch = num_patch\n",
        "        self.proj = layers.Dense(embed_dim)\n",
        "        self.pos_embed = layers.Embedding(input_dim=num_patch, output_dim=embed_dim)\n",
        "\n",
        "    def call(self, patch):\n",
        "        pos = tf.range(start=0, limit=self.num_patch, delta=1)\n",
        "        return self.proj(patch) + self.pos_embed(pos)"
      ]
    },
    {
      "cell_type": "markdown",
      "source": [
        "**Implement the external attention block**"
      ],
      "metadata": {
        "id": "GO-au0OXFK0Q"
      }
    },
    {
      "cell_type": "code",
      "execution_count": 7,
      "metadata": {
        "id": "wFJafhFo1mul"
      },
      "outputs": [],
      "source": [
        "def external_attention(\n",
        "    x, dim, num_heads, dim_coefficient=4, attention_dropout=0, projection_dropout=0\n",
        "):\n",
        "    _, num_patch, channel = x.shape\n",
        "    assert dim % num_heads == 0\n",
        "    num_heads = num_heads * dim_coefficient\n",
        "\n",
        "    x = layers.Dense(dim * dim_coefficient)(x)\n",
        "    # create tensor [batch_size, num_patches, num_heads, dim*dim_coefficient//num_heads]\n",
        "    x = tf.reshape(x, shape=(-1, num_patch, num_heads, dim * dim_coefficient // num_heads))\n",
        "    x = tf.transpose(x, perm=[0, 2, 1, 3])\n",
        "    # a linear layer M_k\n",
        "    attn = layers.Dense(dim // dim_coefficient)(x)\n",
        "    # normalize attention map\n",
        "    attn = layers.Softmax(axis=2)(attn)\n",
        "    # dobule-normalization\n",
        "    attn = attn / (1e-9 + tf.reduce_sum(attn, axis=-1, keepdims=True))\n",
        "    attn = layers.Dropout(attention_dropout)(attn)\n",
        "    # a linear layer M_v\n",
        "    x = layers.Dense(dim * dim_coefficient // num_heads)(attn)\n",
        "    x = tf.transpose(x, perm=[0, 2, 1, 3])\n",
        "    x = tf.reshape(x, [-1, num_patch, dim * dim_coefficient])\n",
        "    # a linear layer to project original dim\n",
        "    x = layers.Dense(dim)(x)\n",
        "    x = layers.Dropout(projection_dropout)(x)\n",
        "    return x"
      ]
    },
    {
      "cell_type": "markdown",
      "source": [
        "**Implement the MLP block**"
      ],
      "metadata": {
        "id": "Drw8Vt5OFRQe"
      }
    },
    {
      "cell_type": "code",
      "execution_count": 8,
      "metadata": {
        "id": "_cF5pBnI_mOv"
      },
      "outputs": [],
      "source": [
        "def mlp(x, embedding_dim, mlp_dim, drop_rate=0.2):\n",
        "    x = layers.Dense(mlp_dim, activation=tf.nn.gelu)(x)\n",
        "    x = layers.Dropout(drop_rate)(x)\n",
        "    x = layers.Dense(embedding_dim)(x)\n",
        "    x = layers.Dropout(drop_rate)(x)\n",
        "    return x"
      ]
    },
    {
      "cell_type": "markdown",
      "source": [
        "**Implement the Transformer block**"
      ],
      "metadata": {
        "id": "--mK1nKeFZkY"
      }
    },
    {
      "cell_type": "code",
      "execution_count": 9,
      "metadata": {
        "id": "IuuEDL7o_2Vx"
      },
      "outputs": [],
      "source": [
        "def transformer_encoder(\n",
        "    x,\n",
        "    embedding_dim,\n",
        "    mlp_dim,\n",
        "    num_heads,\n",
        "    dim_coefficient,\n",
        "    attention_dropout,\n",
        "    projection_dropout,\n",
        "    attention_type=\"external_attention\",\n",
        "):\n",
        "    residual_1 = x\n",
        "    x = layers.LayerNormalization(epsilon=1e-5)(x)\n",
        "    if attention_type == \"external_attention\":\n",
        "        x = external_attention(\n",
        "            x,\n",
        "            embedding_dim,\n",
        "            num_heads,\n",
        "            dim_coefficient,\n",
        "            attention_dropout,\n",
        "            projection_dropout,\n",
        "        )\n",
        "    elif attention_type == \"self_attention\":\n",
        "        x = layers.MultiHeadAttention(\n",
        "            num_heads=num_heads, key_dim=embedding_dim, dropout=attention_dropout\n",
        "        )(x, x)\n",
        "    x = layers.add([x, residual_1])\n",
        "    residual_2 = x\n",
        "    x = layers.LayerNormalization(epsilon=1e-5)(x)\n",
        "    x = mlp(x, embedding_dim, mlp_dim)\n",
        "    x = layers.add([x, residual_2])\n",
        "    return x"
      ]
    },
    {
      "cell_type": "markdown",
      "source": [
        "***Implement the EANet model***\n",
        "\n",
        "The EANet model leverages external attention. The computational complexity of traditional self attention is O(d * N ** 2), where d is the embedding size, and N is the number of patch. the authors find that most pixels are closely related to just a few other pixels, and an N-to-N attention matrix may be redundant. So, they propose as an alternative an external attention module where the computational complexity of external attention is O(d * S * N). As d and S are hyper-parameters, the proposed algorithm is linear in the number of pixels. In fact, this is equivalent to a drop patch operation, because a lot of information contained in a patch in an image is redundant and unimportant."
      ],
      "metadata": {
        "id": "pUFQLSXhFkMb"
      }
    },
    {
      "cell_type": "code",
      "execution_count": 10,
      "metadata": {
        "id": "nncTOdMyAKnn"
      },
      "outputs": [],
      "source": [
        "def get_model(attention_type=\"external_attention\"):\n",
        "    inputs = layers.Input(shape=input_shape)\n",
        "    # Image augment\n",
        "    x = data_augmentation(inputs)\n",
        "    # Extract patches.\n",
        "    x = PatchExtract(patch_size)(x)\n",
        "    # Create patch embedding.\n",
        "    x = PatchEmbedding(num_patches, embedding_dim)(x)\n",
        "    # Create Transformer block.\n",
        "    for _ in range(num_transformer_blocks):\n",
        "        x = transformer_encoder(\n",
        "            x,\n",
        "            embedding_dim,\n",
        "            mlp_dim,\n",
        "            num_heads,\n",
        "            dim_coefficient,\n",
        "            attention_dropout,\n",
        "            projection_dropout,\n",
        "            attention_type,\n",
        "        )\n",
        "\n",
        "    x = layers.GlobalAvgPool1D()(x)\n",
        "    outputs = layers.Dense(num_classes, activation=\"softmax\")(x)\n",
        "    model = keras.Model(inputs=inputs, outputs=outputs)\n",
        "    return model"
      ]
    },
    {
      "cell_type": "code",
      "execution_count": 11,
      "metadata": {
        "colab": {
          "base_uri": "https://localhost:8080/"
        },
        "id": "vf9Xaam1BKKQ",
        "outputId": "e809c18f-0994-4bd5-c967-cb9d27cd8f3c"
      },
      "outputs": [
        {
          "output_type": "stream",
          "name": "stdout",
          "text": [
            "Epoch 1/50\n",
            "313/313 [==============================] - 99s 269ms/step - loss: 4.3182 - accuracy: 0.0551 - top-5-accuracy: 0.1935 - val_loss: 4.5586 - val_accuracy: 0.0670 - val_top-5-accuracy: 0.2163\n",
            "Epoch 2/50\n",
            "313/313 [==============================] - 84s 268ms/step - loss: 4.0202 - accuracy: 0.1020 - top-5-accuracy: 0.3077 - val_loss: 4.6457 - val_accuracy: 0.0830 - val_top-5-accuracy: 0.2500\n",
            "Epoch 3/50\n",
            "313/313 [==============================] - 84s 267ms/step - loss: 3.8558 - accuracy: 0.1369 - top-5-accuracy: 0.3675 - val_loss: 5.0717 - val_accuracy: 0.0794 - val_top-5-accuracy: 0.2562\n",
            "Epoch 4/50\n",
            "313/313 [==============================] - 85s 270ms/step - loss: 3.7523 - accuracy: 0.1567 - top-5-accuracy: 0.4094 - val_loss: 5.1343 - val_accuracy: 0.0867 - val_top-5-accuracy: 0.2642\n",
            "Epoch 5/50\n",
            "313/313 [==============================] - 82s 261ms/step - loss: 3.6610 - accuracy: 0.1784 - top-5-accuracy: 0.4390 - val_loss: 4.9599 - val_accuracy: 0.1034 - val_top-5-accuracy: 0.2763\n",
            "Epoch 6/50\n",
            "313/313 [==============================] - 79s 251ms/step - loss: 3.5888 - accuracy: 0.1938 - top-5-accuracy: 0.4646 - val_loss: 5.0346 - val_accuracy: 0.1038 - val_top-5-accuracy: 0.2873\n",
            "Epoch 7/50\n",
            "313/313 [==============================] - 82s 262ms/step - loss: 3.5299 - accuracy: 0.2085 - top-5-accuracy: 0.4852 - val_loss: 5.0741 - val_accuracy: 0.1100 - val_top-5-accuracy: 0.2968\n",
            "Epoch 8/50\n",
            "313/313 [==============================] - 82s 262ms/step - loss: 3.4845 - accuracy: 0.2189 - top-5-accuracy: 0.4985 - val_loss: 4.7990 - val_accuracy: 0.1208 - val_top-5-accuracy: 0.3141\n",
            "Epoch 9/50\n",
            "313/313 [==============================] - 82s 262ms/step - loss: 3.4495 - accuracy: 0.2264 - top-5-accuracy: 0.5084 - val_loss: 4.8714 - val_accuracy: 0.1157 - val_top-5-accuracy: 0.3099\n",
            "Epoch 10/50\n",
            "313/313 [==============================] - 78s 250ms/step - loss: 3.4078 - accuracy: 0.2365 - top-5-accuracy: 0.5239 - val_loss: 4.8630 - val_accuracy: 0.1222 - val_top-5-accuracy: 0.3070\n",
            "Epoch 11/50\n",
            "313/313 [==============================] - 81s 260ms/step - loss: 3.3833 - accuracy: 0.2429 - top-5-accuracy: 0.5287 - val_loss: 4.7918 - val_accuracy: 0.1250 - val_top-5-accuracy: 0.3243\n",
            "Epoch 12/50\n",
            "313/313 [==============================] - 82s 261ms/step - loss: 3.3488 - accuracy: 0.2491 - top-5-accuracy: 0.5413 - val_loss: 4.8306 - val_accuracy: 0.1259 - val_top-5-accuracy: 0.3280\n",
            "Epoch 13/50\n",
            "313/313 [==============================] - 82s 261ms/step - loss: 3.3243 - accuracy: 0.2566 - top-5-accuracy: 0.5483 - val_loss: 5.0591 - val_accuracy: 0.1221 - val_top-5-accuracy: 0.3117\n",
            "Epoch 14/50\n",
            "313/313 [==============================] - 82s 262ms/step - loss: 3.2973 - accuracy: 0.2623 - top-5-accuracy: 0.5562 - val_loss: 4.8183 - val_accuracy: 0.1284 - val_top-5-accuracy: 0.3269\n",
            "Epoch 15/50\n",
            "313/313 [==============================] - 78s 250ms/step - loss: 3.2752 - accuracy: 0.2678 - top-5-accuracy: 0.5628 - val_loss: 4.8709 - val_accuracy: 0.1238 - val_top-5-accuracy: 0.3259\n",
            "Epoch 16/50\n",
            "313/313 [==============================] - 82s 261ms/step - loss: 3.2556 - accuracy: 0.2725 - top-5-accuracy: 0.5702 - val_loss: 5.0733 - val_accuracy: 0.1176 - val_top-5-accuracy: 0.3092\n",
            "Epoch 17/50\n",
            "313/313 [==============================] - 82s 261ms/step - loss: 3.2324 - accuracy: 0.2780 - top-5-accuracy: 0.5780 - val_loss: 4.9116 - val_accuracy: 0.1297 - val_top-5-accuracy: 0.3246\n",
            "Epoch 18/50\n",
            "313/313 [==============================] - 82s 261ms/step - loss: 3.2129 - accuracy: 0.2799 - top-5-accuracy: 0.5833 - val_loss: 4.9840 - val_accuracy: 0.1268 - val_top-5-accuracy: 0.3214\n",
            "Epoch 19/50\n",
            "313/313 [==============================] - 82s 262ms/step - loss: 3.2000 - accuracy: 0.2855 - top-5-accuracy: 0.5859 - val_loss: 4.6997 - val_accuracy: 0.1418 - val_top-5-accuracy: 0.3392\n",
            "Epoch 20/50\n",
            "313/313 [==============================] - 82s 261ms/step - loss: 3.1827 - accuracy: 0.2901 - top-5-accuracy: 0.5897 - val_loss: 4.5711 - val_accuracy: 0.1451 - val_top-5-accuracy: 0.3661\n",
            "Epoch 21/50\n",
            "313/313 [==============================] - 79s 252ms/step - loss: 3.1607 - accuracy: 0.2952 - top-5-accuracy: 0.6004 - val_loss: 4.6148 - val_accuracy: 0.1487 - val_top-5-accuracy: 0.3503\n",
            "Epoch 22/50\n",
            "313/313 [==============================] - 79s 252ms/step - loss: 3.1527 - accuracy: 0.2981 - top-5-accuracy: 0.6005 - val_loss: 4.7155 - val_accuracy: 0.1400 - val_top-5-accuracy: 0.3475\n",
            "Epoch 23/50\n",
            "313/313 [==============================] - 82s 262ms/step - loss: 3.1377 - accuracy: 0.2991 - top-5-accuracy: 0.6054 - val_loss: 4.7286 - val_accuracy: 0.1388 - val_top-5-accuracy: 0.3549\n",
            "Epoch 24/50\n",
            "313/313 [==============================] - 79s 252ms/step - loss: 3.1248 - accuracy: 0.3034 - top-5-accuracy: 0.6107 - val_loss: 4.5405 - val_accuracy: 0.1451 - val_top-5-accuracy: 0.3620\n",
            "Epoch 25/50\n",
            "313/313 [==============================] - 82s 261ms/step - loss: 3.1155 - accuracy: 0.3084 - top-5-accuracy: 0.6121 - val_loss: 4.5044 - val_accuracy: 0.1488 - val_top-5-accuracy: 0.3760\n",
            "Epoch 26/50\n",
            "313/313 [==============================] - 82s 262ms/step - loss: 3.0953 - accuracy: 0.3108 - top-5-accuracy: 0.6198 - val_loss: 4.4959 - val_accuracy: 0.1465 - val_top-5-accuracy: 0.3813\n",
            "Epoch 27/50\n",
            "313/313 [==============================] - 79s 251ms/step - loss: 3.0861 - accuracy: 0.3122 - top-5-accuracy: 0.6200 - val_loss: 4.4722 - val_accuracy: 0.1496 - val_top-5-accuracy: 0.3759\n",
            "Epoch 28/50\n",
            "313/313 [==============================] - 82s 261ms/step - loss: 3.0777 - accuracy: 0.3161 - top-5-accuracy: 0.6231 - val_loss: 4.3623 - val_accuracy: 0.1618 - val_top-5-accuracy: 0.3858\n",
            "Epoch 29/50\n",
            "313/313 [==============================] - 82s 262ms/step - loss: 3.0590 - accuracy: 0.3187 - top-5-accuracy: 0.6279 - val_loss: 4.3979 - val_accuracy: 0.1640 - val_top-5-accuracy: 0.3942\n",
            "Epoch 30/50\n",
            "313/313 [==============================] - 82s 263ms/step - loss: 3.0496 - accuracy: 0.3221 - top-5-accuracy: 0.6319 - val_loss: 4.4047 - val_accuracy: 0.1504 - val_top-5-accuracy: 0.3867\n",
            "Epoch 31/50\n",
            "313/313 [==============================] - 82s 262ms/step - loss: 3.0408 - accuracy: 0.3253 - top-5-accuracy: 0.6327 - val_loss: 4.5204 - val_accuracy: 0.1531 - val_top-5-accuracy: 0.3694\n",
            "Epoch 32/50\n",
            "313/313 [==============================] - 82s 263ms/step - loss: 3.0422 - accuracy: 0.3249 - top-5-accuracy: 0.6323 - val_loss: 4.2796 - val_accuracy: 0.1691 - val_top-5-accuracy: 0.3977\n",
            "Epoch 33/50\n",
            "313/313 [==============================] - 82s 262ms/step - loss: 3.0276 - accuracy: 0.3282 - top-5-accuracy: 0.6389 - val_loss: 4.3878 - val_accuracy: 0.1587 - val_top-5-accuracy: 0.3854\n",
            "Epoch 34/50\n",
            "313/313 [==============================] - 82s 262ms/step - loss: 3.0180 - accuracy: 0.3316 - top-5-accuracy: 0.6392 - val_loss: 4.1206 - val_accuracy: 0.1775 - val_top-5-accuracy: 0.4273\n",
            "Epoch 35/50\n",
            "313/313 [==============================] - 82s 262ms/step - loss: 3.0061 - accuracy: 0.3332 - top-5-accuracy: 0.6443 - val_loss: 4.2783 - val_accuracy: 0.1592 - val_top-5-accuracy: 0.4044\n",
            "Epoch 36/50\n",
            "313/313 [==============================] - 82s 262ms/step - loss: 2.9977 - accuracy: 0.3368 - top-5-accuracy: 0.6460 - val_loss: 4.3810 - val_accuracy: 0.1617 - val_top-5-accuracy: 0.3877\n",
            "Epoch 37/50\n",
            "313/313 [==============================] - 82s 262ms/step - loss: 2.9852 - accuracy: 0.3426 - top-5-accuracy: 0.6464 - val_loss: 4.2565 - val_accuracy: 0.1692 - val_top-5-accuracy: 0.4097\n",
            "Epoch 38/50\n",
            "313/313 [==============================] - 82s 262ms/step - loss: 2.9811 - accuracy: 0.3397 - top-5-accuracy: 0.6493 - val_loss: 4.3755 - val_accuracy: 0.1583 - val_top-5-accuracy: 0.3968\n",
            "Epoch 39/50\n",
            "313/313 [==============================] - 82s 262ms/step - loss: 2.9746 - accuracy: 0.3378 - top-5-accuracy: 0.6513 - val_loss: 4.3437 - val_accuracy: 0.1584 - val_top-5-accuracy: 0.4011\n",
            "Epoch 40/50\n",
            "313/313 [==============================] - 82s 262ms/step - loss: 2.9671 - accuracy: 0.3434 - top-5-accuracy: 0.6570 - val_loss: 4.2864 - val_accuracy: 0.1729 - val_top-5-accuracy: 0.4034\n",
            "Epoch 41/50\n",
            "313/313 [==============================] - 82s 262ms/step - loss: 2.9594 - accuracy: 0.3455 - top-5-accuracy: 0.6564 - val_loss: 4.2811 - val_accuracy: 0.1694 - val_top-5-accuracy: 0.4010\n",
            "Epoch 42/50\n",
            "313/313 [==============================] - 82s 263ms/step - loss: 2.9548 - accuracy: 0.3463 - top-5-accuracy: 0.6594 - val_loss: 4.1906 - val_accuracy: 0.1700 - val_top-5-accuracy: 0.4158\n",
            "Epoch 43/50\n",
            "313/313 [==============================] - 82s 262ms/step - loss: 2.9486 - accuracy: 0.3481 - top-5-accuracy: 0.6617 - val_loss: 3.9612 - val_accuracy: 0.1916 - val_top-5-accuracy: 0.4461\n",
            "Epoch 44/50\n",
            "313/313 [==============================] - 82s 261ms/step - loss: 2.9394 - accuracy: 0.3529 - top-5-accuracy: 0.6634 - val_loss: 4.0335 - val_accuracy: 0.1867 - val_top-5-accuracy: 0.4411\n",
            "Epoch 45/50\n",
            "313/313 [==============================] - 82s 262ms/step - loss: 2.9368 - accuracy: 0.3531 - top-5-accuracy: 0.6633 - val_loss: 4.1532 - val_accuracy: 0.1745 - val_top-5-accuracy: 0.4249\n",
            "Epoch 46/50\n",
            "313/313 [==============================] - 79s 251ms/step - loss: 2.9265 - accuracy: 0.3523 - top-5-accuracy: 0.6661 - val_loss: 4.2893 - val_accuracy: 0.1609 - val_top-5-accuracy: 0.4065\n",
            "Epoch 47/50\n",
            "313/313 [==============================] - 82s 262ms/step - loss: 2.9237 - accuracy: 0.3554 - top-5-accuracy: 0.6646 - val_loss: 3.9518 - val_accuracy: 0.1936 - val_top-5-accuracy: 0.4497\n",
            "Epoch 48/50\n",
            "313/313 [==============================] - 82s 262ms/step - loss: 2.9099 - accuracy: 0.3605 - top-5-accuracy: 0.6722 - val_loss: 4.1390 - val_accuracy: 0.1677 - val_top-5-accuracy: 0.4285\n",
            "Epoch 49/50\n",
            "313/313 [==============================] - 82s 262ms/step - loss: 2.9162 - accuracy: 0.3581 - top-5-accuracy: 0.6689 - val_loss: 4.1994 - val_accuracy: 0.1754 - val_top-5-accuracy: 0.4259\n",
            "Epoch 50/50\n",
            "313/313 [==============================] - 82s 263ms/step - loss: 2.9002 - accuracy: 0.3605 - top-5-accuracy: 0.6730 - val_loss: 3.9257 - val_accuracy: 0.1995 - val_top-5-accuracy: 0.4598\n"
          ]
        }
      ],
      "source": [
        "model = get_model(attention_type=\"external_attention\")\n",
        "\n",
        "model.compile(\n",
        "    loss=keras.losses.CategoricalCrossentropy(label_smoothing=label_smoothing),\n",
        "    optimizer=tfa.optimizers.AdamW(\n",
        "        learning_rate=learning_rate, weight_decay=weight_decay\n",
        "    ),\n",
        "    metrics=[\n",
        "        keras.metrics.CategoricalAccuracy(name=\"accuracy\"),\n",
        "        keras.metrics.TopKCategoricalAccuracy(5, name=\"top-5-accuracy\"),\n",
        "    ],\n",
        ")\n",
        "\n",
        "history = model.fit(\n",
        "    x_train,\n",
        "    y_train,\n",
        "    batch_size=batch_size,\n",
        "    epochs=num_epochs,\n",
        "    validation_split=validation_split)"
      ]
    },
    {
      "cell_type": "code",
      "source": [
        "plt.plot(history.history[\"loss\"], label=\"train_loss\")\n",
        "plt.plot(history.history[\"val_loss\"], label=\"val_loss\")\n",
        "plt.xlabel(\"Epochs\")\n",
        "plt.ylabel(\"Loss\")\n",
        "plt.title(\"Train and Validation Losses Over Epochs\", fontsize=14)\n",
        "plt.legend()\n",
        "plt.grid()\n",
        "plt.show()"
      ],
      "metadata": {
        "colab": {
          "base_uri": "https://localhost:8080/",
          "height": 278
        },
        "id": "Zq6Bv7R9Esd6",
        "outputId": "f95dbffa-5c55-4aee-9311-fdf86dcc0d81"
      },
      "execution_count": 12,
      "outputs": [
        {
          "output_type": "display_data",
          "data": {
            "text/plain": [
              "<Figure size 640x480 with 1 Axes>"
            ],
            "image/png": "[encoded data removed]"
          },
          "metadata": {}
        }
      ]
    },
    {
      "cell_type": "code",
      "source": [
        "loss, accuracy, top_5_accuracy = model.evaluate(x_test, y_test)\n",
        "print(f\"Test loss: {round(loss, 2)}\")\n",
        "print(f\"Test accuracy: {round(accuracy * 100, 2)}%\")\n",
        "print(f\"Test top 5 accuracy: {round(top_5_accuracy * 100, 2)}%\")"
      ],
      "metadata": {
        "colab": {
          "base_uri": "https://localhost:8080/"
        },
        "id": "m5_ghVOsF9GT",
        "outputId": "88856249-30a8-4305-a2a5-6801cf6584e3"
      },
      "execution_count": 13,
      "outputs": [
        {
          "output_type": "stream",
          "name": "stdout",
          "text": [
            "313/313 [==============================] - 12s 39ms/step - loss: 3.8807 - accuracy: 0.2063 - top-5-accuracy: 0.4720\n",
            "Test loss: 3.88\n",
            "Test accuracy: 20.63%\n",
            "Test top 5 accuracy: 47.2%\n"
          ]
        }
      ]
    },
    {
      "cell_type": "markdown",
      "source": [
        "**EANet just replaces self attention in Vit with external attention. The traditional Vit achieved a ~73% test top-5 accuracy and ~41 top-1 accuracy after training 50 epochs, but with 0.6M parameters. Under the same experimental environment and the same hyperparameters, The EANet model we just trained has just 0.3M parameters, and it gets us to ~73% test top-5 accuracy and ~43% top-1 accuracy. This fully demonstrates the effectiveness of external attention. We only show the training process of EANet, you can train Vit under the same experimental conditions and observe the test results.**"
      ],
      "metadata": {
        "id": "2veXgyDKFvDo"
      }
    }
  ],
  "metadata": {
    "accelerator": "GPU",
    "colab": {
      "provenance": [],
      "authorship_tag": "ABX9TyPQJ798gKFcjm4eVckwxbsE",
      "include_colab_link": true
    },
    "kernelspec": {
      "display_name": "Python 3",
      "name": "python3"
    },
    "language_info": {
      "name": "python"
    }
  },
  "nbformat": 4,
  "nbformat_minor": 0
}