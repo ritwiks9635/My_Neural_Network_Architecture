{
  "cells": [
    {
      "cell_type": "markdown",
      "metadata": {
        "id": "view-in-github",
        "colab_type": "text"
      },
      "source": [
        "<a href=\"https://colab.research.google.com/github/ritwiks9635/My_Neural_Network_Architecture/blob/main/Siamese_Network_with_contrastive_loss.ipynb\" target=\"_parent\"><img src=\"https://colab.research.google.com/assets/colab-badge.svg\" alt=\"Open In Colab\"/></a>"
      ]
    },
    {
      "cell_type": "markdown",
      "source": [
        "# **Image similarity estimation using a Siamese Network with a contrastive loss**"
      ],
      "metadata": {
        "id": "1C5o_UIswjzD"
      }
    },
    {
      "cell_type": "markdown",
      "source": [
        "## Introduction\n",
        "\n",
        "[Siamese Networks](https://en.wikipedia.org/wiki/Siamese_neural_network)\n",
        "are neural networks which share weights between two or more sister networks,\n",
        "each producing embedding vectors of its respective inputs.\n",
        "\n",
        "In supervised similarity learning, the networks are then trained to maximize the\n",
        "contrast (distance) between embeddings of inputs of different classes, while minimizing the distance between\n",
        "embeddings of similar classes, resulting in embedding spaces that reflect\n",
        "the class segmentation of the training inputs."
      ],
      "metadata": {
        "id": "h8WTIeJgx7iH"
      }
    },
    {
      "cell_type": "code",
      "source": [
        "import random\n",
        "import numpy as np\n",
        "import tensorflow as tf\n",
        "from tensorflow import keras\n",
        "import matplotlib.pyplot as plt\n",
        "from tensorflow.keras import layers"
      ],
      "metadata": {
        "id": "GCRQd-I6ZsFa"
      },
      "execution_count": 1,
      "outputs": []
    },
    {
      "cell_type": "code",
      "source": [
        "epochs = 10\n",
        "batch_size = 16\n",
        "margin = 1  # Margin for contrastive loss."
      ],
      "metadata": {
        "id": "wWfcDlVLbd6F"
      },
      "execution_count": 2,
      "outputs": []
    },
    {
      "cell_type": "code",
      "source": [
        "(x_train_val, y_train_val), (x_test, y_test) = keras.datasets.mnist.load_data()\n",
        "\n",
        "x_train_val = x_train_val.astype(\"float32\")\n",
        "x_test = x_test.astype(\"float32\")"
      ],
      "metadata": {
        "colab": {
          "base_uri": "https://localhost:8080/"
        },
        "id": "EnA0rHpEbkSo",
        "outputId": "97887baa-bc30-485b-ce52-e846d6aa442e"
      },
      "execution_count": 3,
      "outputs": [
        {
          "output_type": "stream",
          "name": "stdout",
          "text": [
            "Downloading data from https://storage.googleapis.com/tensorflow/tf-keras-datasets/mnist.npz\n",
            "11490434/11490434 [==============================] - 0s 0us/step\n"
          ]
        }
      ]
    },
    {
      "cell_type": "code",
      "source": [
        "x_train, x_val = x_train_val[: 30000], x_train_val[30000 :]\n",
        "y_train, y_val = y_train_val[: 30000], y_train_val[30000 :]\n",
        "\n",
        "del x_train_val\n",
        "del y_train_val"
      ],
      "metadata": {
        "id": "iuqFpxm3d6fF"
      },
      "execution_count": 4,
      "outputs": []
    },
    {
      "cell_type": "markdown",
      "source": [
        "## Create pairs of images\n",
        "\n",
        "We will train the model to differentiate between digits of different classes. For\n",
        "example, digit `0` needs to be differentiated from the rest of the\n",
        "digits (`1` through `9`), digit `1` - from `0` and `2` through `9`, and so on.\n",
        "To carry this out, we will select N random images from class A (for example,\n",
        "for digit `0`) and pair them with N random images from another class B\n",
        "(for example, for digit `1`). Then, we can repeat this process for all classes\n",
        "of digits (until digit `9`). Once we have paired digit `0` with other digits,\n",
        "we can repeat this process for the remaining classes for the rest of the digits\n",
        "(from `1` until `9`)."
      ],
      "metadata": {
        "id": "9jHc2XmfyC0X"
      }
    },
    {
      "cell_type": "code",
      "source": [
        "def make_pairs(x, y):\n",
        "    \"\"\"Creates a tuple containing image pairs with corresponding label.\n",
        "\n",
        "    Arguments:\n",
        "        x: List containing images, each index in this list corresponds to one image.\n",
        "        y: List containing labels, each label with datatype of `int`.\n",
        "\n",
        "    Returns:\n",
        "        Tuple containing two numpy arrays as (pairs_of_samples, labels),\n",
        "        where pairs_of_samples' shape is (2len(x), 2,n_features_dims) and\n",
        "        labels are a binary array of shape (2len(x)).\n",
        "    \"\"\"\n",
        "\n",
        "    num_classes = max(y) + 1\n",
        "    digit_indices = [np.where(y == i)[0] for i in range(num_classes)]\n",
        "\n",
        "    pairs = []\n",
        "    labels = []\n",
        "\n",
        "    for idx1 in range(len(x)):\n",
        "        # add a matching example\n",
        "        x1 = x[idx1]\n",
        "        label1 = y[idx1]\n",
        "        idx2 = random.choice(digit_indices[label1])\n",
        "        x2 = x[idx2]\n",
        "\n",
        "        pairs += [[x1, x2]]\n",
        "        labels += [0]\n",
        "\n",
        "        # add a non-matching example\n",
        "        label2 = random.randint(0, num_classes - 1)\n",
        "        while label2 == label1:\n",
        "            label2 = random.randint(0, num_classes - 1)\n",
        "\n",
        "        idx2 = random.choice(digit_indices[label2])\n",
        "        x2 = x[idx2]\n",
        "\n",
        "        pairs += [[x1, x2]]\n",
        "        labels += [1]\n",
        "\n",
        "    return np.array(pairs), np.array(labels).astype(\"float32\")\n",
        "\n",
        "\n",
        "# make train pairs\n",
        "pairs_train, labels_train = make_pairs(x_train, y_train)\n",
        "\n",
        "# make validation pairs\n",
        "pairs_val, labels_val = make_pairs(x_val, y_val)\n",
        "\n",
        "# make test pairs\n",
        "pairs_test, labels_test = make_pairs(x_test, y_test)"
      ],
      "metadata": {
        "id": "YxbX3yFXesHK"
      },
      "execution_count": 5,
      "outputs": []
    },
    {
      "cell_type": "code",
      "source": [
        "pairs_train[:, 0].shape"
      ],
      "metadata": {
        "id": "CEnFwUOje2OC",
        "colab": {
          "base_uri": "https://localhost:8080/"
        },
        "outputId": "db04aa7c-4b1e-456e-dcf5-baa45b9b2a7b"
      },
      "execution_count": 6,
      "outputs": [
        {
          "output_type": "execute_result",
          "data": {
            "text/plain": [
              "(60000, 28, 28)"
            ]
          },
          "metadata": {},
          "execution_count": 6
        }
      ]
    },
    {
      "cell_type": "markdown",
      "source": [
        "We get:\n",
        "\n",
        "**pairs_train.shape = (60000, 2, 28, 28)**\n",
        "\n",
        "- We have 60,000 pairs\n",
        "- Each pair contains 2 images\n",
        "- Each image has shape `(28, 28)`\n",
        "\n",
        "\n",
        "\n",
        "Split the training pairs"
      ],
      "metadata": {
        "id": "Cd365jRMyZj0"
      }
    },
    {
      "cell_type": "code",
      "source": [
        "x_train_1 = pairs_train[:, 0]\n",
        "x_train_2 = pairs_train[:, 1]"
      ],
      "metadata": {
        "id": "xcbBSOJKj3FY"
      },
      "execution_count": 7,
      "outputs": []
    },
    {
      "cell_type": "code",
      "source": [
        "x_val_1 = pairs_val[:, 0]\n",
        "x_val_2 = pairs_val[:, 1]"
      ],
      "metadata": {
        "id": "mlNvXAO1kOG-"
      },
      "execution_count": 8,
      "outputs": []
    },
    {
      "cell_type": "code",
      "source": [
        "x_test_1 = pairs_test[:, 0]\n",
        "x_test_2 = pairs_test[:, 1]"
      ],
      "metadata": {
        "id": "ojFnpJT4kYYW"
      },
      "execution_count": 9,
      "outputs": []
    },
    {
      "cell_type": "markdown",
      "source": [
        "## Visualize pairs and their labels"
      ],
      "metadata": {
        "id": "dAoAlDFoysg-"
      }
    },
    {
      "cell_type": "code",
      "source": [
        "def visualize(pairs, labels, to_show=6, num_col=3, predictions=None, test=False):\n",
        "    \"\"\"Creates a plot of pairs and labels, and prediction if it's test dataset.\n",
        "\n",
        "    Arguments:\n",
        "        pairs: Numpy Array, of pairs to visualize, having shape\n",
        "               (Number of pairs, 2, 28, 28).\n",
        "        to_show: Int, number of examples to visualize (default is 6)\n",
        "                `to_show` must be an integral multiple of `num_col`.\n",
        "                 Otherwise it will be trimmed if it is greater than num_col,\n",
        "                 and incremented if if it is less then num_col.\n",
        "        num_col: Int, number of images in one row - (default is 3)\n",
        "                 For test and train respectively, it should not exceed 3 and 7.\n",
        "        predictions: Numpy Array of predictions with shape (to_show, 1) -\n",
        "                     (default is None)\n",
        "                     Must be passed when test=True.\n",
        "        test: Boolean telling whether the dataset being visualized is\n",
        "              train dataset or test dataset - (default False).\n",
        "\n",
        "    Returns:\n",
        "        None.\n",
        "    \"\"\"\n",
        "\n",
        "    # Define num_row\n",
        "    # If to_show % num_col != 0\n",
        "    #    trim to_show,\n",
        "    #       to trim to_show limit num_row to the point where\n",
        "    #       to_show % num_col == 0\n",
        "    #\n",
        "    # If to_show//num_col == 0\n",
        "    #    then it means num_col is greater then to_show\n",
        "    #    increment to_show\n",
        "    #       to increment to_show set num_row to 1\n",
        "    num_row = to_show // num_col if to_show // num_col != 0 else 1\n",
        "\n",
        "    # `to_show` must be an integral multiple of `num_col`\n",
        "    #  we found num_row and we have num_col\n",
        "    #  to increment or decrement to_show\n",
        "    #  to make it integral multiple of `num_col`\n",
        "    #  simply set it equal to num_row * num_col\n",
        "    to_show = num_row * num_col\n",
        "\n",
        "    # Plot the images\n",
        "    fig, axes = plt.subplots(num_row, num_col, figsize=(5, 5))\n",
        "    for i in range(to_show):\n",
        "\n",
        "        # If the number of rows is 1, the axes array is one-dimensional\n",
        "        if num_row == 1:\n",
        "            ax = axes[i % num_col]\n",
        "        else:\n",
        "            ax = axes[i // num_col, i % num_col]\n",
        "\n",
        "        ax.imshow(tf.concat([pairs[i][0], pairs[i][1]], axis=1), cmap=\"gray\")\n",
        "        ax.set_axis_off()\n",
        "        if test:\n",
        "            ax.set_title(\"True: {} | Pred: {:.5f}\".format(labels[i], predictions[i][0]))\n",
        "        else:\n",
        "            ax.set_title(\"Label: {}\".format(labels[i]))\n",
        "    if test:\n",
        "        plt.tight_layout(rect=(0, 0, 1.9, 1.9), w_pad=0.0)\n",
        "    else:\n",
        "        plt.tight_layout(rect=(0, 0, 1.5, 1.5))\n",
        "    plt.show()"
      ],
      "metadata": {
        "id": "9v2cchCrk2Cw"
      },
      "execution_count": 10,
      "outputs": []
    },
    {
      "cell_type": "code",
      "source": [
        "visualize(pairs_train[:-1], labels_train[:-1], to_show = 4, num_col = 4)"
      ],
      "metadata": {
        "colab": {
          "base_uri": "https://localhost:8080/",
          "height": 72
        },
        "id": "6DDawCbilTPx",
        "outputId": "bca261a9-3c68-46cc-b15d-bc3911d07dc8"
      },
      "execution_count": 11,
      "outputs": [
        {
          "output_type": "display_data",
          "data": {
            "text/plain": [
              "<Figure size 500x500 with 4 Axes>"
            ],
            "image/png": "[encoded data removed]"
          },
          "metadata": {}
        }
      ]
    },
    {
      "cell_type": "code",
      "source": [
        "visualize(pairs_val[:-1], labels_val[:-1], to_show = 4, num_col = 4)"
      ],
      "metadata": {
        "colab": {
          "base_uri": "https://localhost:8080/",
          "height": 72
        },
        "id": "GSRmpHDDlwBL",
        "outputId": "7b00f464-06ec-4581-c208-8ff8ee2bba9c"
      },
      "execution_count": 12,
      "outputs": [
        {
          "output_type": "display_data",
          "data": {
            "text/plain": [
              "<Figure size 500x500 with 4 Axes>"
            ],
            "image/png": "[encoded data removed]"
          },
          "metadata": {}
        }
      ]
    },
    {
      "cell_type": "code",
      "source": [
        "visualize(pairs_test[:-1], labels_test[:-1], to_show = 4, num_col = 4)"
      ],
      "metadata": {
        "colab": {
          "base_uri": "https://localhost:8080/",
          "height": 72
        },
        "id": "JU6eeLMLl3-2",
        "outputId": "46b1a748-6214-44ea-f473-34d666f36ca3"
      },
      "execution_count": 13,
      "outputs": [
        {
          "output_type": "display_data",
          "data": {
            "text/plain": [
              "<Figure size 500x500 with 4 Axes>"
            ],
            "image/png": "[encoded data removed]"
          },
          "metadata": {}
        }
      ]
    },
    {
      "cell_type": "markdown",
      "source": [
        "## Define the model\n",
        "\n",
        "There are two input layers, each leading to its own network, which\n",
        "produces embeddings. A `Lambda` layer then merges them using an\n",
        "[Euclidean distance](https://en.wikipedia.org/wiki/Euclidean_distance) and the\n",
        "merged output is fed to the final network."
      ],
      "metadata": {
        "id": "Z00NpHK4y1Zb"
      }
    },
    {
      "cell_type": "code",
      "source": [
        "# Provided two tensors t1 and t2\n",
        "# Euclidean distance = sqrt(sum(square(t1-t2)))\n",
        "def euclidean_distance(vects):\n",
        "    \"\"\"Find the Euclidean distance between two vectors.\n",
        "\n",
        "    Arguments:\n",
        "        vects: List containing two tensors of same length.\n",
        "\n",
        "    Returns:\n",
        "        Tensor containing euclidean distance\n",
        "        (as floating point value) between vectors.\n",
        "    \"\"\"\n",
        "\n",
        "    x, y = vects\n",
        "    sum_square = tf.math.reduce_sum(tf.math.square(x - y), axis=1, keepdims=True)\n",
        "    return tf.math.sqrt(tf.math.maximum(sum_square, tf.keras.backend.epsilon()))"
      ],
      "metadata": {
        "id": "ORlMblcUl9I4"
      },
      "execution_count": 14,
      "outputs": []
    },
    {
      "cell_type": "code",
      "source": [
        "input = keras.Input((28, 28, 1))\n",
        "x = layers.BatchNormalization()(input)\n",
        "x = layers.Conv2D(4, (5, 5), activation = \"tanh\")(x)\n",
        "x = layers.AveragePooling2D(pool_size = (2, 2))(x)\n",
        "x = layers.Conv2D(16, (5, 5), activation = \"tanh\")(x)\n",
        "x = layers.AveragePooling2D(pool_size = (2,2))(x)\n",
        "x = layers.Flatten()(x)\n",
        "\n",
        "x = layers.BatchNormalization()(x)\n",
        "x = layers.Dense(10, activation = \"tanh\")(x)\n",
        "embedding_network = keras.Model(input, x)\n",
        "\n",
        "input_1 = layers.Input((28, 28, 1))\n",
        "input_2 = layers.Input((28, 28, 1))\n",
        "\n",
        "# As mentioned above, Siamese Network share weights between\n",
        "# tower networks (sister networks). To allow this, we will use\n",
        "# same embedding network for both tower networks.\n",
        "tower_1 = embedding_network(input_1)\n",
        "tower_2 = embedding_network(input_2)\n",
        "\n",
        "merge_layer = layers.Lambda(euclidean_distance)([tower_1, tower_2])\n",
        "normal_layer = layers.BatchNormalization()(merge_layer)\n",
        "output_layer = layers.Dense(1, activation = \"sigmoid\")(normal_layer)\n",
        "siamese = keras.Model(inputs = [input_1, input_2], outputs = output_layer)"
      ],
      "metadata": {
        "id": "V_--mk-xmPbM"
      },
      "execution_count": 15,
      "outputs": []
    },
    {
      "cell_type": "markdown",
      "source": [
        "## Define the contrastive Loss"
      ],
      "metadata": {
        "id": "AiARVC89y9T0"
      }
    },
    {
      "cell_type": "code",
      "source": [
        "def loss(margin=1):\n",
        "    \"\"\"Provides 'contrastive_loss' an enclosing scope with variable 'margin'.\n",
        "\n",
        "    Arguments:\n",
        "        margin: Integer, defines the baseline for distance for which pairs\n",
        "                should be classified as dissimilar. - (default is 1).\n",
        "\n",
        "    Returns:\n",
        "        'contrastive_loss' function with data ('margin') attached.\n",
        "    \"\"\"\n",
        "\n",
        "    # Contrastive loss = mean( (1-true_value) * square(prediction) +\n",
        "    #                         true_value * square( max(margin-prediction, 0) ))\n",
        "    def contrastive_loss(y_true, y_pred):\n",
        "        \"\"\"Calculates the contrastive loss.\n",
        "\n",
        "        Arguments:\n",
        "            y_true: List of labels, each label is of type float32.\n",
        "            y_pred: List of predictions of same length as of y_true,\n",
        "                    each label is of type float32.\n",
        "\n",
        "        Returns:\n",
        "            A tensor containing contrastive loss as floating point value.\n",
        "        \"\"\"\n",
        "\n",
        "        square_pred = tf.math.square(y_pred)\n",
        "        margin_square = tf.math.square(tf.math.maximum(margin - (y_pred), 0))\n",
        "        return tf.math.reduce_mean(\n",
        "            (1 - y_true) * square_pred + (y_true) * margin_square\n",
        "        )\n",
        "\n",
        "    return contrastive_loss"
      ],
      "metadata": {
        "id": "ShefkbnOszsz"
      },
      "execution_count": 16,
      "outputs": []
    },
    {
      "cell_type": "code",
      "source": [
        "siamese.compile(optimizer = \"RMSprop\", loss = loss(margin = margin), metrics = [\"accuracy\"])\n",
        "siamese.summary()"
      ],
      "metadata": {
        "colab": {
          "base_uri": "https://localhost:8080/"
        },
        "id": "NSsfSOjftQjl",
        "outputId": "434cf1c2-e66d-4446-a2fb-65c8575e6434"
      },
      "execution_count": 17,
      "outputs": [
        {
          "output_type": "stream",
          "name": "stdout",
          "text": [
            "Model: \"model_1\"\n",
            "__________________________________________________________________________________________________\n",
            " Layer (type)                Output Shape                 Param #   Connected to                  \n",
            "==================================================================================================\n",
            " input_2 (InputLayer)        [(None, 28, 28, 1)]          0         []                            \n",
            "                                                                                                  \n",
            " input_3 (InputLayer)        [(None, 28, 28, 1)]          0         []                            \n",
            "                                                                                                  \n",
            " model (Functional)          (None, 10)                   5318      ['input_2[0][0]',             \n",
            "                                                                     'input_3[0][0]']             \n",
            "                                                                                                  \n",
            " lambda (Lambda)             (None, 1)                    0         ['model[0][0]',               \n",
            "                                                                     'model[1][0]']               \n",
            "                                                                                                  \n",
            " batch_normalization_2 (Bat  (None, 1)                    4         ['lambda[0][0]']              \n",
            " chNormalization)                                                                                 \n",
            "                                                                                                  \n",
            " dense_1 (Dense)             (None, 1)                    2         ['batch_normalization_2[0][0]'\n",
            "                                                                    ]                             \n",
            "                                                                                                  \n",
            "==================================================================================================\n",
            "Total params: 5324 (20.80 KB)\n",
            "Trainable params: 4808 (18.78 KB)\n",
            "Non-trainable params: 516 (2.02 KB)\n",
            "__________________________________________________________________________________________________\n"
          ]
        }
      ]
    },
    {
      "cell_type": "code",
      "source": [
        "history = siamese.fit(\n",
        "    [x_train_1, x_train_2],\n",
        "    labels_train,\n",
        "    validation_data=([x_val_1, x_val_2], labels_val),\n",
        "    batch_size=batch_size,\n",
        "    epochs=epochs)"
      ],
      "metadata": {
        "colab": {
          "base_uri": "https://localhost:8080/"
        },
        "id": "ixPSVzH_t3qC",
        "outputId": "35487aa9-8900-40ce-d3a7-09a2d68c3831"
      },
      "execution_count": 18,
      "outputs": [
        {
          "output_type": "stream",
          "name": "stdout",
          "text": [
            "Epoch 1/10\n",
            "3750/3750 [==============================] - 45s 9ms/step - loss: 0.2543 - accuracy: 0.4914 - val_loss: 0.2500 - val_accuracy: 0.5000\n",
            "Epoch 2/10\n",
            "3750/3750 [==============================] - 35s 9ms/step - loss: 0.2500 - accuracy: 0.5007 - val_loss: 0.2500 - val_accuracy: 0.5000\n",
            "Epoch 3/10\n",
            "3750/3750 [==============================] - 34s 9ms/step - loss: 0.1567 - accuracy: 0.7671 - val_loss: 0.0540 - val_accuracy: 0.9275\n",
            "Epoch 4/10\n",
            "3750/3750 [==============================] - 32s 8ms/step - loss: 0.0608 - accuracy: 0.9186 - val_loss: 0.0299 - val_accuracy: 0.9603\n",
            "Epoch 5/10\n",
            "3750/3750 [==============================] - 33s 9ms/step - loss: 0.0460 - accuracy: 0.9391 - val_loss: 0.0234 - val_accuracy: 0.9698\n",
            "Epoch 6/10\n",
            "3750/3750 [==============================] - 32s 9ms/step - loss: 0.0400 - accuracy: 0.9468 - val_loss: 0.0240 - val_accuracy: 0.9675\n",
            "Epoch 7/10\n",
            "3750/3750 [==============================] - 37s 10ms/step - loss: 0.0367 - accuracy: 0.9529 - val_loss: 0.0200 - val_accuracy: 0.9747\n",
            "Epoch 8/10\n",
            "3750/3750 [==============================] - 31s 8ms/step - loss: 0.0347 - accuracy: 0.9548 - val_loss: 0.0212 - val_accuracy: 0.9732\n",
            "Epoch 9/10\n",
            "3750/3750 [==============================] - 32s 8ms/step - loss: 0.0342 - accuracy: 0.9549 - val_loss: 0.0173 - val_accuracy: 0.9780\n",
            "Epoch 10/10\n",
            "3750/3750 [==============================] - 44s 12ms/step - loss: 0.0324 - accuracy: 0.9575 - val_loss: 0.0184 - val_accuracy: 0.9757\n"
          ]
        }
      ]
    },
    {
      "cell_type": "code",
      "source": [
        "def plt_metric(history, metric, title, has_valid=True):\n",
        "    \"\"\"Plots the given 'metric' from 'history'.\n",
        "\n",
        "    Arguments:\n",
        "        history: history attribute of History object returned from Model.fit.\n",
        "        metric: Metric to plot, a string value present as key in 'history'.\n",
        "        title: A string to be used as title of plot.\n",
        "        has_valid: Boolean, true if valid data was passed to Model.fit else false.\n",
        "\n",
        "    Returns:\n",
        "        None.\n",
        "    \"\"\"\n",
        "    plt.plot(history[metric])\n",
        "    if has_valid:\n",
        "        plt.plot(history[\"val_\" + metric])\n",
        "        plt.legend([\"train\", \"validation\"], loc=\"upper left\")\n",
        "    plt.title(title)\n",
        "    plt.ylabel(metric)\n",
        "    plt.xlabel(\"epoch\")\n",
        "    plt.show()\n",
        "\n",
        "\n",
        "# Plot the accuracy\n",
        "plt_metric(history=history.history, metric=\"accuracy\", title=\"Model accuracy\")\n",
        "\n",
        "# Plot the contrastive loss\n",
        "plt_metric(history=history.history, metric=\"loss\", title=\"Contrastive Loss\")"
      ],
      "metadata": {
        "id": "uxlBfEjfxYsu",
        "outputId": "aefb0981-2dd6-4238-b2ae-32824a7bd40f",
        "colab": {
          "base_uri": "https://localhost:8080/",
          "height": 533
        }
      },
      "execution_count": 20,
      "outputs": [
        {
          "output_type": "display_data",
          "data": {
            "text/plain": [
              "<Figure size 640x480 with 1 Axes>"
            ],
            "image/png": "[encoded data removed]"
          },
          "metadata": {}
        },
        {
          "output_type": "display_data",
          "data": {
            "text/plain": [
              "<Figure size 640x480 with 1 Axes>"
            ],
            "image/png": "[encoded data removed]"
          },
          "metadata": {}
        }
      ]
    },
    {
      "cell_type": "code",
      "source": [
        "results = siamese.evaluate([x_test_1, x_test_2], labels_test)\n",
        "print(\"test loss, test acc:\", results)"
      ],
      "metadata": {
        "id": "ZsmgtTPIxZ2Y",
        "outputId": "e105b4e0-10f6-4e03-b42f-c6a8277c520d",
        "colab": {
          "base_uri": "https://localhost:8080/"
        }
      },
      "execution_count": 21,
      "outputs": [
        {
          "output_type": "stream",
          "name": "stdout",
          "text": [
            "625/625 [==============================] - 3s 4ms/step - loss: 0.0152 - accuracy: 0.9799\n",
            "test loss, test acc: [0.015172767452895641, 0.9799000024795532]\n"
          ]
        }
      ]
    },
    {
      "cell_type": "markdown",
      "source": [
        "## Visualize the predictions"
      ],
      "metadata": {
        "id": "m6QRI8lrzQuV"
      }
    },
    {
      "cell_type": "code",
      "source": [
        "predictions = siamese.predict([x_test_1, x_test_2])\n",
        "visualize(pairs_test, labels_test, to_show=3, predictions=predictions, test=True)"
      ],
      "metadata": {
        "id": "TzL4FL3Lxe5H",
        "outputId": "60424fbb-4e68-4ab2-e77b-7c35e980a330",
        "colab": {
          "base_uri": "https://localhost:8080/",
          "height": 122
        }
      },
      "execution_count": 22,
      "outputs": [
        {
          "output_type": "stream",
          "name": "stdout",
          "text": [
            "625/625 [==============================] - 2s 2ms/step\n"
          ]
        },
        {
          "output_type": "display_data",
          "data": {
            "text/plain": [
              "<Figure size 500x500 with 3 Axes>"
            ],
            "image/png": "[encoded data removed]"
          },
          "metadata": {}
        }
      ]
    }
  ],
  "metadata": {
    "colab": {
      "provenance": [],
      "gpuType": "T4",
      "include_colab_link": true
    },
    "kernelspec": {
      "display_name": "Python 3",
      "name": "python3"
    },
    "language_info": {
      "codemirror_mode": {
        "name": "ipython",
        "version": 3
      },
      "file_extension": ".py",
      "mimetype": "text/x-python",
      "name": "python",
      "nbconvert_exporter": "python",
      "pygments_lexer": "ipython3",
      "version": "3.10.12"
    },
    "accelerator": "GPU"
  },
  "nbformat": 4,
  "nbformat_minor": 0
}