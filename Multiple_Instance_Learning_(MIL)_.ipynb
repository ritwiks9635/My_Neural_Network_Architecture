{
  "cells": [
    {
      "cell_type": "markdown",
      "metadata": {
        "id": "view-in-github",
        "colab_type": "text"
      },
      "source": [
        "<a href=\"https://colab.research.google.com/github/ritwiks9635/My_Neural_Network_Architecture/blob/main/Multiple_Instance_Learning_(MIL)_.ipynb\" target=\"_parent\"><img src=\"https://colab.research.google.com/assets/colab-badge.svg\" alt=\"Open In Colab\"/></a>"
      ]
    },
    {
      "cell_type": "markdown",
      "source": [
        "#****Classification using Attention-based Deep Multiple Instance Learning (MIL)****"
      ],
      "metadata": {
        "id": "Kldr9oNPI0bn"
      }
    },
    {
      "cell_type": "markdown",
      "source": [
        "# **What is Multiple Instance Learning (MIL)?**\n",
        "Usually, with supervised learning algorithms, the learner receives labels for a set of instances. In the case of MIL, the learner receives labels for a set of bags, each of which contains a set of instances. The bag is labeled positive if it contains at least one positive instance, and negative if it does not contain any.\n",
        "\n",
        "\n",
        "(**Motivation**)\n",
        "\n",
        "\n",
        "It is often assumed in image classification tasks that each image clearly represents a class label. In medical imaging (e.g. computational pathology, etc.) an entire image is represented by a single class label (cancerous/non-cancerous) or a region of interest could be given. However, one will be interested in knowing which patterns in the image is actually causing it to belong to that class. In this context, the image(s) will be divided and the subimages will form the bag of instances.\n",
        "\n",
        "Therefore, the goals are to:\n",
        "\n",
        "Learn a model to predict a class label for a bag of instances.Find out which instances within the bag caused a position class label prediction.\n",
        "**Implementation**\n",
        "\n",
        "\n",
        "\n",
        "The following steps describe how the model works:\n",
        "The feature extractor layers extract feature embeddings.The embeddings are fed into the MIL attention layer to get the attention scores. The layer is designed as permutation-invariant.Input features and their corresponding attention scores are multiplied together.The resulting output is passed to a softmax function for classification."
      ],
      "metadata": {
        "id": "bOmkKjeqySyD"
      }
    },
    {
      "cell_type": "code",
      "source": [],
      "metadata": {
        "id": "RlOdhVk2S72s"
      },
      "execution_count": null,
      "outputs": []
    },
    {
      "cell_type": "code",
      "source": [
        "import numpy as np\n",
        "from tqdm import tqdm\n",
        "import tensorflow as tf\n",
        "from tensorflow import keras\n",
        "import matplotlib.pyplot as plt\n",
        "from tensorflow.keras import layers\n",
        "\n",
        "plt.style.use(\"ggplot\")"
      ],
      "metadata": {
        "id": "IVMIzUMzg7Bk"
      },
      "execution_count": null,
      "outputs": []
    },
    {
      "cell_type": "markdown",
      "source": [
        "***Create dataset:::***\n",
        "We will create a set of bags and assign their labels according to their contents. If at least one positive instance is available in a bag, the bag is considered as a positive bag. If it does not contain any positive instance, the bag will be considered as negative.\n",
        "***Configuration parameters:::***POSITIVE_CLASS: The desired class to be kept in the positive bag.BAG_COUNT: The number of training bags.VAL_BAG_COUNT: The number of validation bags.BAG_SIZE: The number of instances in a bag.PLOT_SIZE: The number of bags to plot.ENSEMBLE_AVG_COUNT: The number of models to create and average together. (Optional: often results in better performance - set to 1 for single model"
      ],
      "metadata": {
        "id": "6QFLaEsfHuXU"
      }
    },
    {
      "cell_type": "code",
      "source": [
        "Positive_class = 1\n",
        "Bag_count = 1000\n",
        "Val_bag_count = 300\n",
        "Bag_size = 3\n",
        "Plot_size = 3\n",
        "Ensemble_avg_count = 1"
      ],
      "metadata": {
        "id": "hV1ckUDyir9j"
      },
      "execution_count": null,
      "outputs": []
    },
    {
      "cell_type": "code",
      "source": [
        "def create_bags(input_data, input_label, positive_class, bag_count, instance_count):\n",
        "    bags = []\n",
        "    bag_labels = []\n",
        "    input_data = np.divide(input_data, 255.0)\n",
        "    count = 0\n",
        "\n",
        "    for _  in range(bag_count):\n",
        "        index = np.random.choice(input_data.shape[0], instance_count, replace = False)\n",
        "        instance_data = input_data[index]\n",
        "        instance_label = input_label[index]\n",
        "\n",
        "        bag_label = 0\n",
        "\n",
        "        if positive_class in instance_label:\n",
        "            bag_label = 1\n",
        "            count += 1\n",
        "        bags.append(instance_data)\n",
        "        bag_labels.append(np.array([bag_label]))\n",
        "\n",
        "    print(f\"Positive bags: {count}\")\n",
        "    print(f\"Negative bags: {bag_count - count}\")\n",
        "    return (list(np.swapaxes(bags, 0, 1)), np.array(bag_labels))"
      ],
      "metadata": {
        "id": "DUhfttLokZqg"
      },
      "execution_count": null,
      "outputs": []
    },
    {
      "cell_type": "code",
      "source": [
        "(x_train, y_train),(x_val, y_val) = keras.datasets.mnist.load_data()"
      ],
      "metadata": {
        "colab": {
          "base_uri": "https://localhost:8080/"
        },
        "id": "Ng2zcuIFyYiw",
        "outputId": "95817562-082c-40a3-8608-edad09a18db7"
      },
      "execution_count": null,
      "outputs": [
        {
          "output_type": "stream",
          "name": "stdout",
          "text": [
            "Downloading data from https://storage.googleapis.com/tensorflow/tf-keras-datasets/mnist.npz\n",
            "11490434/11490434 [==============================] - 0s 0us/step\n"
          ]
        }
      ]
    },
    {
      "cell_type": "code",
      "source": [
        "train_data, train_label = create_bags(x_train, y_train, Positive_class, Bag_count, Bag_size)"
      ],
      "metadata": {
        "colab": {
          "base_uri": "https://localhost:8080/"
        },
        "id": "gn8ZLW6AywXu",
        "outputId": "82832d53-176b-4c3e-f311-29848e6ea268"
      },
      "execution_count": null,
      "outputs": [
        {
          "output_type": "stream",
          "name": "stdout",
          "text": [
            "Positive bags: 299\n",
            "Negative bags: 701\n"
          ]
        }
      ]
    },
    {
      "cell_type": "code",
      "source": [
        "val_data, val_label = create_bags(x_val, y_val, Positive_class, Val_bag_count, Bag_size)"
      ],
      "metadata": {
        "colab": {
          "base_uri": "https://localhost:8080/"
        },
        "id": "DtKv8Wp_1Fja",
        "outputId": "169b6f34-d18a-4b4d-9e94-f913e65f0fed"
      },
      "execution_count": null,
      "outputs": [
        {
          "output_type": "stream",
          "name": "stdout",
          "text": [
            "Positive bags: 95\n",
            "Negative bags: 205\n"
          ]
        }
      ]
    },
    {
      "cell_type": "markdown",
      "source": [
        "***Create the model***\n",
        "\n",
        "We will now build the attention layer, prepare some utilities, then build and train the entire model.\n",
        "\n",
        "***Attention operator implementation***\n",
        "\n",
        "The output size of this layer is decided by the size of a single bag.\n",
        "The attention mechanism uses a weighted average of instances in a bag, in which the sum of the weights must equal to 1 (invariant of the bag size).\n",
        "The weight matrices (parameters) are w and v. To include positive and negative values, hyperbolic tangent element-wise non-linearity is utilized.\n",
        "A Gated attention mechanism can be used to deal with complex relations. Another weight matrix, u, is added to the computation. A sigmoid non-linearity is used to overcome approximately linear behavior for x ∈ [−1, 1] by hyperbolic tangent non-linearity."
      ],
      "metadata": {
        "id": "CawgEzrOIFhS"
      }
    },
    {
      "cell_type": "code",
      "source": [
        "class MILAttentionLayer(layers.Layer):\n",
        "    \"\"\"Implementation of the attention-based Deep MIL layer.\n",
        "\n",
        "    Args:\n",
        "      weight_params_dim: Positive Integer. Dimension of the weight matrix.\n",
        "      kernel_initializer: Initializer for the `kernel` matrix.\n",
        "      kernel_regularizer: Regularizer function applied to the `kernel` matrix.\n",
        "      use_gated: Boolean, whether or not to use the gated mechanism.\n",
        "\n",
        "    Returns:\n",
        "      List of 2D tensors with BAG_SIZE length.\n",
        "      The tensors are the attention scores after softmax with shape `(batch_size, 1)`.\n",
        "    \"\"\"\n",
        "\n",
        "    def __init__(\n",
        "        self,\n",
        "        weight_params_dim,\n",
        "        kernel_initializer=\"glorot_uniform\",\n",
        "        kernel_regularizer=None,\n",
        "        use_gated=False,\n",
        "        **kwargs,\n",
        "    ):\n",
        "\n",
        "        super().__init__(**kwargs)\n",
        "\n",
        "        self.weight_params_dim = weight_params_dim\n",
        "        self.use_gated = use_gated\n",
        "\n",
        "        self.kernel_initializer = keras.initializers.get(kernel_initializer)\n",
        "        self.kernel_regularizer = keras.regularizers.get(kernel_regularizer)\n",
        "\n",
        "        self.v_init = self.kernel_initializer\n",
        "        self.w_init = self.kernel_initializer\n",
        "        self.u_init = self.kernel_initializer\n",
        "\n",
        "        self.v_regularizer = self.kernel_regularizer\n",
        "        self.w_regularizer = self.kernel_regularizer\n",
        "        self.u_regularizer = self.kernel_regularizer\n",
        "\n",
        "    def build(self, input_shape):\n",
        "\n",
        "        # Input shape.\n",
        "        # List of 2D tensors with shape: (batch_size, input_dim).\n",
        "        input_dim = input_shape[0][1]\n",
        "\n",
        "        self.v_weight_params = self.add_weight(\n",
        "            shape=(input_dim, self.weight_params_dim),\n",
        "            initializer=self.v_init,\n",
        "            name=\"v\",\n",
        "            regularizer=self.v_regularizer,\n",
        "            trainable=True,\n",
        "        )\n",
        "\n",
        "        self.w_weight_params = self.add_weight(\n",
        "            shape=(self.weight_params_dim, 1),\n",
        "            initializer=self.w_init,\n",
        "            name=\"w\",\n",
        "            regularizer=self.w_regularizer,\n",
        "            trainable=True,\n",
        "        )\n",
        "\n",
        "        if self.use_gated:\n",
        "            self.u_weight_params = self.add_weight(\n",
        "                shape=(input_dim, self.weight_params_dim),\n",
        "                initializer=self.u_init,\n",
        "                name=\"u\",\n",
        "                regularizer=self.u_regularizer,\n",
        "                trainable=True,\n",
        "            )\n",
        "        else:\n",
        "            self.u_weight_params = None\n",
        "\n",
        "        self.input_built = True\n",
        "\n",
        "    def call(self, inputs):\n",
        "\n",
        "        # Assigning variables from the number of inputs.\n",
        "        instances = [self.compute_attention_scores(instance) for instance in inputs]\n",
        "\n",
        "        # Apply softmax over instances such that the output summation is equal to 1.\n",
        "        alpha = tf.math.softmax(instances, axis=0)\n",
        "\n",
        "        return [alpha[i] for i in range(alpha.shape[0])]\n",
        "\n",
        "    def compute_attention_scores(self, instance):\n",
        "\n",
        "        # Reserve in-case \"gated mechanism\" used.\n",
        "        original_instance = instance\n",
        "\n",
        "        # tanh(v*h_k^T)\n",
        "        instance = tf.math.tanh(tf.tensordot(instance, self.v_weight_params, axes=1))\n",
        "\n",
        "        # for learning non-linear relations efficiently.\n",
        "        if self.use_gated:\n",
        "\n",
        "            instance = instance * tf.math.sigmoid(\n",
        "                tf.tensordot(original_instance, self.u_weight_params, axes=1)\n",
        "            )\n",
        "\n",
        "        # w^T*(tanh(v*h_k^T)) / w^T*(tanh(v*h_k^T)*sigmoid(u*h_k^T))\n",
        "        return tf.tensordot(instance, self.w_weight_params, axes=1)"
      ],
      "metadata": {
        "id": "6NXEY3hn1Y9v"
      },
      "execution_count": null,
      "outputs": []
    },
    {
      "cell_type": "code",
      "source": [
        "def plot(data, labels, bag_class, prediction = None, attention_weights = None):\n",
        "    labels = np.array(labels).reshape(-1)\n",
        "\n",
        "    if bag_class == \"positive\":\n",
        "\n",
        "        if prediction is not None:\n",
        "            labels = np.where(prediction.argmax(1) == 1)[0]\n",
        "            bags = np.array(data)[:, labels[0:Plot_size]]\n",
        "\n",
        "        else:\n",
        "            labels = np.where(labels == 1)[0]\n",
        "            bags = np.array(data)[:, labels[0:Plot_size]]\n",
        "\n",
        "    elif bag_class == \"negative\":\n",
        "\n",
        "        if prediction is not None:\n",
        "            labels = np.where(prediction.argmax(1) == 0)[0]\n",
        "            bags = np.array(data)[:, labels[0:Plot_size]]\n",
        "\n",
        "        else:\n",
        "            labels = np.where(labels == 0)[0]\n",
        "            bags = np.array(data)[:, labels[0:Plot_size]]\n",
        "\n",
        "    else:\n",
        "        print(f\"There is no class {bag_class}\")\n",
        "        return\n",
        "\n",
        "    print(f\"The bag class label is {bag_class}\")\n",
        "    for i in range(Plot_size):\n",
        "        figure = plt.figure(figsize=(8, 8))\n",
        "        print(f\"Bag number: {labels[i]}\")\n",
        "        for j in range(Bag_size):\n",
        "            image = bags[j][i]\n",
        "            figure.add_subplot(1, Bag_size, j + 1)\n",
        "            plt.grid(False)\n",
        "            if attention_weights is not None:\n",
        "                plt.title(np.around(attention_weights[labels[i]][j], 2))\n",
        "            plt.imshow(image)\n",
        "        plt.show()"
      ],
      "metadata": {
        "id": "2hVM4msX3py-"
      },
      "execution_count": null,
      "outputs": []
    },
    {
      "cell_type": "code",
      "source": [
        "plot(val_data, val_label, \"positive\")\n",
        "plot(val_data, val_label, \"negative\")"
      ],
      "metadata": {
        "colab": {
          "base_uri": "https://localhost:8080/",
          "height": 821
        },
        "id": "5saXedA99KEi",
        "outputId": "2a5f27ab-b9ca-4474-941d-c494683d1b50"
      },
      "execution_count": null,
      "outputs": [
        {
          "output_type": "stream",
          "name": "stdout",
          "text": [
            "The bag class label is positive\n",
            "Bag number: 0\n"
          ]
        },
        {
          "output_type": "display_data",
          "data": {
            "text/plain": [
              "<Figure size 800x800 with 3 Axes>"
            ],
            "image/png": "[encoded data removed]"
          },
          "metadata": {}
        },
        {
          "output_type": "stream",
          "name": "stdout",
          "text": [
            "Bag number: 7\n"
          ]
        },
        {
          "output_type": "display_data",
          "data": {
            "text/plain": [
              "<Figure size 800x800 with 3 Axes>"
            ],
            "image/png": "[encoded data removed]"
          },
          "metadata": {}
        },
        {
          "output_type": "stream",
          "name": "stdout",
          "text": [
            "Bag number: 13\n"
          ]
        },
        {
          "output_type": "display_data",
          "data": {
            "text/plain": [
              "<Figure size 800x800 with 3 Axes>"
            ],
            "image/png": "[encoded data removed]"
          },
          "metadata": {}
        },
        {
          "output_type": "stream",
          "name": "stdout",
          "text": [
            "The bag class label is negative\n",
            "Bag number: 1\n"
          ]
        },
        {
          "output_type": "display_data",
          "data": {
            "text/plain": [
              "<Figure size 800x800 with 3 Axes>"
            ],
            "image/png": "[encoded data removed]"
          },
          "metadata": {}
        },
        {
          "output_type": "stream",
          "name": "stdout",
          "text": [
            "Bag number: 2\n"
          ]
        },
        {
          "output_type": "display_data",
          "data": {
            "text/plain": [
              "<Figure size 800x800 with 3 Axes>"
            ],
            "image/png": "[encoded data removed]"
          },
          "metadata": {}
        },
        {
          "output_type": "stream",
          "name": "stdout",
          "text": [
            "Bag number: 3\n"
          ]
        },
        {
          "output_type": "display_data",
          "data": {
            "text/plain": [
              "<Figure size 800x800 with 3 Axes>"
            ],
            "image/png": "[encoded data removed]"
          },
          "metadata": {}
        }
      ]
    },
    {
      "cell_type": "code",
      "source": [
        "def create_model(instance_shape):\n",
        "    inputs, embeddings = [], []\n",
        "    dense_layer_1 = layers.Dense(128, activation = \"relu\")\n",
        "    dense_layer_2 = layers.Dense(64, activation = \"relu\")\n",
        "    for _ in range(Bag_size):\n",
        "        input = layers.Input(instance_shape)\n",
        "        flatten = layers.Flatten()(input)\n",
        "        dense1 = dense_layer_1(flatten)\n",
        "        dense2 = dense_layer_2(dense1)\n",
        "        inputs.append(input)\n",
        "        embeddings.append(dense2)\n",
        "\n",
        "    alpha = MILAttentionLayer(\n",
        "        weight_params_dim=256,\n",
        "        kernel_regularizer=keras.regularizers.l2(0.01),\n",
        "        use_gated=True,\n",
        "        name=\"alpha\",\n",
        "        )(embeddings)\n",
        "\n",
        "    multiply_layers = [\n",
        "        layers.multiply([alpha[i], embeddings[i]]) for i in range(len(alpha))]\n",
        "\n",
        "    concat = layers.concatenate(multiply_layers, axis = 1)\n",
        "\n",
        "    output = layers.Dense(2, activation = \"softmax\")(concat)\n",
        "    return keras.Model(inputs, output)"
      ],
      "metadata": {
        "id": "x7-7AYxWB_Ca"
      },
      "execution_count": null,
      "outputs": []
    },
    {
      "cell_type": "markdown",
      "source": [
        "***::Class weights::***\n",
        "\n",
        "Since this kind of problem could simply turn into imbalanced data classification problem, class weighting should be considered.\n",
        "Let's say there are 1000 bags. There often could be cases were ~90 % of the bags do not contain any positive label and ~10 % do. Such data can be referred to as Imbalanced data.\n",
        "Using class weights, the model will tend to give a higher weight to the rare class."
      ],
      "metadata": {
        "id": "tyV4Qjw2IYGh"
      }
    },
    {
      "cell_type": "code",
      "source": [
        "def compute_class_weights(labels):\n",
        "\n",
        "    # Count number of postive and negative bags.\n",
        "    negative_count = len(np.where(labels == 0)[0])\n",
        "    positive_count = len(np.where(labels == 1)[0])\n",
        "    total_count = negative_count + positive_count\n",
        "\n",
        "    # Build class weight dictionary.\n",
        "    return {\n",
        "        0: (1 / negative_count) * (total_count / 2),\n",
        "        1: (1 / positive_count) * (total_count / 2),\n",
        "    }"
      ],
      "metadata": {
        "id": "jJBvyPEDMb7N"
      },
      "execution_count": null,
      "outputs": []
    },
    {
      "cell_type": "code",
      "source": [
        "def train(train_data, train_labels, val_data, val_labels, model):\n",
        "    file_path = \"best_model_weights.h5\"\n",
        "    checkpoint = keras.callbacks.ModelCheckpoint(\n",
        "        file_path,\n",
        "        monitor = \"val_loss\",\n",
        "        verbose = 0,\n",
        "        mode = \"min\",\n",
        "        save_best_only = True,\n",
        "        save_weights_only = True)\n",
        "\n",
        "    er_stoping = keras.callbacks.EarlyStopping(\n",
        "        monitor = \"val_loss\",\n",
        "        patience = 10,\n",
        "        mode = \"min\")\n",
        "\n",
        "    model.compile(optimizer = \"adam\", loss=\"sparse_categorical_crossentropy\", metrics = [\"accuracy\"])\n",
        "\n",
        "    model.fit(\n",
        "        train_data,\n",
        "        train_labels,\n",
        "        validation_data=(val_data, val_labels),\n",
        "        epochs=20,\n",
        "        class_weight=compute_class_weights(train_labels),\n",
        "        batch_size=1,\n",
        "        callbacks=[er_stoping, checkpoint],\n",
        "        verbose=0)\n",
        "\n",
        "    model.load_weights(file_path)\n",
        "    return model"
      ],
      "metadata": {
        "id": "dkHukVWPMgEc"
      },
      "execution_count": null,
      "outputs": []
    },
    {
      "cell_type": "code",
      "source": [
        "instance_shape = train_data[0][0].shape\n",
        "model = [create_model(instance_shape) for _ in range(Ensemble_avg_count)]"
      ],
      "metadata": {
        "colab": {
          "base_uri": "https://localhost:8080/"
        },
        "id": "4MRjFbYcPbEr",
        "outputId": "fff2fddc-786a-41f2-d595-a2ac859601e9"
      },
      "execution_count": null,
      "outputs": [
        {
          "output_type": "stream",
          "name": "stderr",
          "text": [
            "/usr/local/lib/python3.10/dist-packages/keras/src/initializers/initializers.py:120: UserWarning: The initializer GlorotUniform is unseeded and being called multiple times, which will return identical values each time (even if the initializer is unseeded). Please update your code to provide a seed to the initializer, or avoid using the same initializer instance more than once.\n",
            "  warnings.warn(\n"
          ]
        }
      ]
    },
    {
      "cell_type": "code",
      "source": [
        "model[0].summary()"
      ],
      "metadata": {
        "colab": {
          "base_uri": "https://localhost:8080/"
        },
        "id": "6Sewh7fVQjr7",
        "outputId": "bdbb24b5-21a6-4a75-ae09-abe01a3f4494"
      },
      "execution_count": null,
      "outputs": [
        {
          "output_type": "stream",
          "name": "stdout",
          "text": [
            "Model: \"model\"\n",
            "__________________________________________________________________________________________________\n",
            " Layer (type)                Output Shape                 Param #   Connected to                  \n",
            "==================================================================================================\n",
            " input_1 (InputLayer)        [(None, 28, 28)]             0         []                            \n",
            "                                                                                                  \n",
            " input_2 (InputLayer)        [(None, 28, 28)]             0         []                            \n",
            "                                                                                                  \n",
            " input_3 (InputLayer)        [(None, 28, 28)]             0         []                            \n",
            "                                                                                                  \n",
            " flatten (Flatten)           (None, 784)                  0         ['input_1[0][0]']             \n",
            "                                                                                                  \n",
            " flatten_1 (Flatten)         (None, 784)                  0         ['input_2[0][0]']             \n",
            "                                                                                                  \n",
            " flatten_2 (Flatten)         (None, 784)                  0         ['input_3[0][0]']             \n",
            "                                                                                                  \n",
            " dense (Dense)               (None, 128)                  100480    ['flatten[0][0]',             \n",
            "                                                                     'flatten_1[0][0]',           \n",
            "                                                                     'flatten_2[0][0]']           \n",
            "                                                                                                  \n",
            " dense_1 (Dense)             (None, 64)                   8256      ['dense[0][0]',               \n",
            "                                                                     'dense[1][0]',               \n",
            "                                                                     'dense[2][0]']               \n",
            "                                                                                                  \n",
            " alpha (MILAttentionLayer)   [(None, 1),                  33024     ['dense_1[0][0]',             \n",
            "                              (None, 1),                             'dense_1[1][0]',             \n",
            "                              (None, 1)]                             'dense_1[2][0]']             \n",
            "                                                                                                  \n",
            " multiply (Multiply)         (None, 64)                   0         ['alpha[0][0]',               \n",
            "                                                                     'dense_1[0][0]']             \n",
            "                                                                                                  \n",
            " multiply_1 (Multiply)       (None, 64)                   0         ['alpha[0][1]',               \n",
            "                                                                     'dense_1[1][0]']             \n",
            "                                                                                                  \n",
            " multiply_2 (Multiply)       (None, 64)                   0         ['alpha[0][2]',               \n",
            "                                                                     'dense_1[2][0]']             \n",
            "                                                                                                  \n",
            " concatenate (Concatenate)   (None, 192)                  0         ['multiply[0][0]',            \n",
            "                                                                     'multiply_1[0][0]',          \n",
            "                                                                     'multiply_2[0][0]']          \n",
            "                                                                                                  \n",
            " dense_2 (Dense)             (None, 2)                    386       ['concatenate[0][0]']         \n",
            "                                                                                                  \n",
            "==================================================================================================\n",
            "Total params: 142146 (555.26 KB)\n",
            "Trainable params: 142146 (555.26 KB)\n",
            "Non-trainable params: 0 (0.00 Byte)\n",
            "__________________________________________________________________________________________________\n"
          ]
        }
      ]
    },
    {
      "cell_type": "code",
      "source": [
        "trained_models = [\n",
        "    train(train_data, train_label, val_data, val_label, model)\n",
        "    for model in tqdm(model)\n",
        "]"
      ],
      "metadata": {
        "colab": {
          "base_uri": "https://localhost:8080/"
        },
        "id": "xA_VSSc7QyLN",
        "outputId": "a1b9402e-839f-4b43-f812-65ba45e6764f"
      },
      "execution_count": null,
      "outputs": [
        {
          "output_type": "stream",
          "name": "stderr",
          "text": [
            "100%|██████████| 1/1 [01:39<00:00, 99.18s/it]\n"
          ]
        }
      ]
    },
    {
      "cell_type": "code",
      "source": [
        "def predict(data, labels, trained_models):\n",
        "\n",
        "    # Collect info per model.\n",
        "    models_predictions = []\n",
        "    models_attention_weights = []\n",
        "    models_losses = []\n",
        "    models_accuracies = []\n",
        "\n",
        "    for model in trained_models:\n",
        "\n",
        "        # Predict output classes on data.\n",
        "        predictions = model.predict(data)\n",
        "        models_predictions.append(predictions)\n",
        "\n",
        "        # Create intermediate model to get MIL attention layer weights.\n",
        "        intermediate_model = keras.Model(model.input, model.get_layer(\"alpha\").output)\n",
        "\n",
        "        # Predict MIL attention layer weights.\n",
        "        intermediate_predictions = intermediate_model.predict(data)\n",
        "\n",
        "        attention_weights = np.squeeze(np.swapaxes(intermediate_predictions, 1, 0))\n",
        "        models_attention_weights.append(attention_weights)\n",
        "\n",
        "        loss, accuracy = model.evaluate(data, labels, verbose=0)\n",
        "        models_losses.append(loss)\n",
        "        models_accuracies.append(accuracy)\n",
        "\n",
        "    print(\n",
        "        f\"The average loss and accuracy are {np.sum(models_losses, axis=0) / Ensemble_avg_count:.2f}\"\n",
        "        f\" and {100 * np.sum(models_accuracies, axis=0) / Ensemble_avg_count:.2f} % resp.\"\n",
        "    )\n",
        "\n",
        "    return (\n",
        "        np.sum(models_predictions, axis=0) / Ensemble_avg_count,\n",
        "        np.sum(models_attention_weights, axis=0) / Ensemble_avg_count,\n",
        "    )\n",
        "\n",
        "\n",
        "# Evaluate and predict classes and attention scores on validation data.\n",
        "class_predictions, attention_params = predict(val_data, val_label, trained_models)\n",
        "\n",
        "# Plot some results from our validation data.\n",
        "plot(\n",
        "    val_data,\n",
        "    val_label,\n",
        "    \"positive\",\n",
        "    prediction=class_predictions,\n",
        "    attention_weights=attention_params,\n",
        ")\n",
        "plot(\n",
        "    val_data,\n",
        "    val_label,\n",
        "    \"negative\",\n",
        "    prediction=class_predictions,\n",
        "    attention_weights=attention_params,\n",
        ")"
      ],
      "metadata": {
        "colab": {
          "base_uri": "https://localhost:8080/",
          "height": 954
        },
        "id": "E-WwTdhpS9sC",
        "outputId": "f3a37c21-4b0f-4c46-c12e-0f755271e9a6"
      },
      "execution_count": null,
      "outputs": [
        {
          "output_type": "stream",
          "name": "stdout",
          "text": [
            "10/10 [==============================] - 0s 4ms/step\n",
            "10/10 [==============================] - 0s 4ms/step\n",
            "The average loss and accuracy are 0.01 and 99.67 % resp.\n",
            "The bag class label is positive\n",
            "Bag number: 0\n"
          ]
        },
        {
          "output_type": "display_data",
          "data": {
            "text/plain": [
              "<Figure size 800x800 with 3 Axes>"
            ],
            "image/png": "[encoded data removed]"
          },
          "metadata": {}
        },
        {
          "output_type": "stream",
          "name": "stdout",
          "text": [
            "Bag number: 7\n"
          ]
        },
        {
          "output_type": "display_data",
          "data": {
            "text/plain": [
              "<Figure size 800x800 with 3 Axes>"
            ],
            "image/png": "[encoded data removed]"
          },
          "metadata": {}
        },
        {
          "output_type": "stream",
          "name": "stdout",
          "text": [
            "Bag number: 13\n"
          ]
        },
        {
          "output_type": "display_data",
          "data": {
            "text/plain": [
              "<Figure size 800x800 with 3 Axes>"
            ],
            "image/png": "[encoded data removed]"
          },
          "metadata": {}
        },
        {
          "output_type": "stream",
          "name": "stdout",
          "text": [
            "The bag class label is negative\n",
            "Bag number: 1\n"
          ]
        },
        {
          "output_type": "display_data",
          "data": {
            "text/plain": [
              "<Figure size 800x800 with 3 Axes>"
            ],
            "image/png": "[encoded data removed]"
          },
          "metadata": {}
        },
        {
          "output_type": "stream",
          "name": "stdout",
          "text": [
            "Bag number: 2\n"
          ]
        },
        {
          "output_type": "display_data",
          "data": {
            "text/plain": [
              "<Figure size 800x800 with 3 Axes>"
            ],
            "image/png": "[encoded data removed]"
          },
          "metadata": {}
        },
        {
          "output_type": "stream",
          "name": "stdout",
          "text": [
            "Bag number: 3\n"
          ]
        },
        {
          "output_type": "display_data",
          "data": {
            "text/plain": [
              "<Figure size 800x800 with 3 Axes>"
            ],
            "image/png": "[encoded data removed]"
          },
          "metadata": {}
        }
      ]
    },
    {
      "cell_type": "markdown",
      "source": [
        "***Conclusion:::***\n",
        "\n",
        "From the above plot, you can notice that the weights always sum to 1. In a positively predict bag, the instance which resulted in the positive labeling will have a substantially higher attention score than the rest of the bag. However, in a negatively predicted bag, there are two cases:\n",
        "All instances will have approximately similar scores.An instance will have relatively higher score (but not as high as of a positive instance). This is because the feature space of this instance is close to that of the positive instance."
      ],
      "metadata": {
        "id": "T3dEEJ_9InYJ"
      }
    }
  ],
  "metadata": {
    "accelerator": "GPU",
    "colab": {
      "provenance": [],
      "gpuType": "T4",
      "authorship_tag": "ABX9TyMQW0TCwJLM2sP+lf/ECu8N",
      "include_colab_link": true
    },
    "kernelspec": {
      "display_name": "Python 3",
      "name": "python3"
    },
    "language_info": {
      "name": "python"
    }
  },
  "nbformat": 4,
  "nbformat_minor": 0
}