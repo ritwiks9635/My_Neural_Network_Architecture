{
  "cells": [
    {
      "cell_type": "markdown",
      "metadata": {
        "id": "view-in-github",
        "colab_type": "text"
      },
      "source": [
        "<a href=\"https://colab.research.google.com/github/ritwiks9635/My_Neural_Network_Architecture/blob/main/Large_scale_multi_label_text_classification.ipynb\" target=\"_parent\"><img src=\"https://colab.research.google.com/assets/colab-badge.svg\" alt=\"Open In Colab\"/></a>"
      ]
    },
    {
      "cell_type": "markdown",
      "source": [
        "#**Large-scale multi-label text classification**"
      ],
      "metadata": {
        "id": "pVkm1S6a4_Le"
      }
    },
    {
      "cell_type": "markdown",
      "source": [
        "## Introduction\n",
        "\n",
        "In this example, we will build a multi-label text classifier to predict the subject areas\n",
        "of arXiv papers from their abstract bodies. This type of classifier can be useful for\n",
        "conference submission portals like [OpenReview](https://openreview.net/). Given a paper\n",
        "abstract, the portal could provide suggestions for which areas the paper would\n",
        "best belong to.\n",
        "\n",
        "The dataset was collected using the\n",
        "[`arXiv` Python library](https://github.com/lukasschwab/arxiv.py)\n",
        "that provides a wrapper around the\n",
        "[original arXiv API](http://arxiv.org/help/api/index).\n",
        "To learn more about the data collection process, please refer to\n",
        "[this notebook](https://github.com/soumik12345/multi-label-text-classification/blob/master/arxiv_scrape.ipynb).\n",
        "Additionally, you can also find the dataset on\n",
        "[Kaggle](https://www.kaggle.com/spsayakpaul/arxiv-paper-abstracts)."
      ],
      "metadata": {
        "id": "PNqOr0hNdOBh"
      }
    },
    {
      "cell_type": "code",
      "source": [
        "import numpy as np\n",
        "import pandas as pd\n",
        "import tensorflow as tf\n",
        "from ast import literal_eval\n",
        "from tensorflow import keras\n",
        "import matplotlib.pyplot as plt\n",
        "from tensorflow.keras import layers\n",
        "from sklearn.model_selection import train_test_split"
      ],
      "metadata": {
        "id": "vPcscsiR5BXt"
      },
      "execution_count": 1,
      "outputs": []
    },
    {
      "cell_type": "code",
      "source": [
        "arxiv_data = pd.read_csv(\"https://github.com/soumik12345/multi-label-text-classification/releases/download/v0.2/arxiv_data.csv\")\n",
        "arxiv_data.head()"
      ],
      "metadata": {
        "colab": {
          "base_uri": "https://localhost:8080/",
          "height": 590
        },
        "id": "b4dk-riz52tn",
        "outputId": "483328ec-df32-418d-94df-fb20a52e1e3a"
      },
      "execution_count": 2,
      "outputs": [
        {
          "output_type": "execute_result",
          "data": {
            "text/plain": [
              "                                              titles  \\\n",
              "0  Survey on Semantic Stereo Matching / Semantic ...   \n",
              "1  FUTURE-AI: Guiding Principles and Consensus Re...   \n",
              "2  Enforcing Mutual Consistency of Hard Regions f...   \n",
              "3  Parameter Decoupling Strategy for Semi-supervi...   \n",
              "4  Background-Foreground Segmentation for Interio...   \n",
              "\n",
              "                                           summaries  \\\n",
              "0  Stereo matching is one of the widely used tech...   \n",
              "1  The recent advancements in artificial intellig...   \n",
              "2  In this paper, we proposed a novel mutual cons...   \n",
              "3  Consistency training has proven to be an advan...   \n",
              "4  To ensure safety in automated driving, the cor...   \n",
              "\n",
              "                         terms  \n",
              "0           ['cs.CV', 'cs.LG']  \n",
              "1  ['cs.CV', 'cs.AI', 'cs.LG']  \n",
              "2           ['cs.CV', 'cs.AI']  \n",
              "3                    ['cs.CV']  \n",
              "4           ['cs.CV', 'cs.LG']  "
            ],
            "text/html": [
              "\n",
              "  <div id=\"df-6a0ba2c3-24df-454c-b85f-f56104ae7562\" class=\"colab-df-container\">\n",
              "    <div>\n",
              "<style scoped>\n",
              "    .dataframe tbody tr th:only-of-type {\n",
              "        vertical-align: middle;\n",
              "    }\n",
              "\n",
              "    .dataframe tbody tr th {\n",
              "        vertical-align: top;\n",
              "    }\n",
              "\n",
              "    .dataframe thead th {\n",
              "        text-align: right;\n",
              "    }\n",
              "</style>\n",
              "<table border=\"1\" class=\"dataframe\">\n",
              "  <thead>\n",
              "    <tr style=\"text-align: right;\">\n",
              "      <th></th>\n",
              "      <th>titles</th>\n",
              "      <th>summaries</th>\n",
              "      <th>terms</th>\n",
              "    </tr>\n",
              "  </thead>\n",
              "  <tbody>\n",
              "    <tr>\n",
              "      <th>0</th>\n",
              "      <td>Survey on Semantic Stereo Matching / Semantic ...</td>\n",
              "      <td>Stereo matching is one of the widely used tech...</td>\n",
              "      <td>['cs.CV', 'cs.LG']</td>\n",
              "    </tr>\n",
              "    <tr>\n",
              "      <th>1</th>\n",
              "      <td>FUTURE-AI: Guiding Principles and Consensus Re...</td>\n",
              "      <td>The recent advancements in artificial intellig...</td>\n",
              "      <td>['cs.CV', 'cs.AI', 'cs.LG']</td>\n",
              "    </tr>\n",
              "    <tr>\n",
              "      <th>2</th>\n",
              "      <td>Enforcing Mutual Consistency of Hard Regions f...</td>\n",
              "      <td>In this paper, we proposed a novel mutual cons...</td>\n",
              "      <td>['cs.CV', 'cs.AI']</td>\n",
              "    </tr>\n",
              "    <tr>\n",
              "      <th>3</th>\n",
              "      <td>Parameter Decoupling Strategy for Semi-supervi...</td>\n",
              "      <td>Consistency training has proven to be an advan...</td>\n",
              "      <td>['cs.CV']</td>\n",
              "    </tr>\n",
              "    <tr>\n",
              "      <th>4</th>\n",
              "      <td>Background-Foreground Segmentation for Interio...</td>\n",
              "      <td>To ensure safety in automated driving, the cor...</td>\n",
              "      <td>['cs.CV', 'cs.LG']</td>\n",
              "    </tr>\n",
              "  </tbody>\n",
              "</table>\n",
              "</div>\n",
              "    <div class=\"colab-df-buttons\">\n",
              "\n",
              "  <div class=\"colab-df-container\">\n",
              "    <button class=\"colab-df-convert\" onclick=\"convertToInteractive('df-6a0ba2c3-24df-454c-b85f-f56104ae7562')\"\n",
              "            title=\"Convert this dataframe to an interactive table.\"\n",
              "            style=\"display:none;\">\n",
              "\n",
              "  <svg xmlns=\"http://www.w3.org/2000/svg\" height=\"24px\" viewBox=\"0 -960 960 960\">\n",
              "    <path d=\"M120-120v-720h720v720H120Zm60-500h600v-160H180v160Zm220 220h160v-160H400v160Zm0 220h160v-160H400v160ZM180-400h160v-160H180v160Zm440 0h160v-160H620v160ZM180-180h160v-160H180v160Zm440 0h160v-160H620v160Z\"/>\n",
              "  </svg>\n",
              "    </button>\n",
              "\n",
              "  <style>\n",
              "    .colab-df-container {\n",
              "      display:flex;\n",
              "      gap: 12px;\n",
              "    }\n",
              "\n",
              "    .colab-df-convert {\n",
              "      background-color: #E8F0FE;\n",
              "      border: none;\n",
              "      border-radius: 50%;\n",
              "      cursor: pointer;\n",
              "      display: none;\n",
              "      fill: #1967D2;\n",
              "      height: 32px;\n",
              "      padding: 0 0 0 0;\n",
              "      width: 32px;\n",
              "    }\n",
              "\n",
              "    .colab-df-convert:hover {\n",
              "      background-color: #E2EBFA;\n",
              "      box-shadow: 0px 1px 2px rgba(60, 64, 67, 0.3), 0px 1px 3px 1px rgba(60, 64, 67, 0.15);\n",
              "      fill: #174EA6;\n",
              "    }\n",
              "\n",
              "    .colab-df-buttons div {\n",
              "      margin-bottom: 4px;\n",
              "    }\n",
              "\n",
              "    [theme=dark] .colab-df-convert {\n",
              "      background-color: #3B4455;\n",
              "      fill: #D2E3FC;\n",
              "    }\n",
              "\n",
              "    [theme=dark] .colab-df-convert:hover {\n",
              "      background-color: #434B5C;\n",
              "      box-shadow: 0px 1px 3px 1px rgba(0, 0, 0, 0.15);\n",
              "      filter: drop-shadow(0px 1px 2px rgba(0, 0, 0, 0.3));\n",
              "      fill: #FFFFFF;\n",
              "    }\n",
              "  </style>\n",
              "\n",
              "    <script>\n",
              "      const buttonEl =\n",
              "        document.querySelector('#df-6a0ba2c3-24df-454c-b85f-f56104ae7562 button.colab-df-convert');\n",
              "      buttonEl.style.display =\n",
              "        google.colab.kernel.accessAllowed ? 'block' : 'none';\n",
              "\n",
              "      async function convertToInteractive(key) {\n",
              "        const element = document.querySelector('#df-6a0ba2c3-24df-454c-b85f-f56104ae7562');\n",
              "        const dataTable =\n",
              "          await google.colab.kernel.invokeFunction('convertToInteractive',\n",
              "                                                    [key], {});\n",
              "        if (!dataTable) return;\n",
              "\n",
              "        const docLinkHtml = 'Like what you see? Visit the ' +\n",
              "          '<a target=\"_blank\" href=https://colab.research.google.com/notebooks/data_table.ipynb>data table notebook</a>'\n",
              "          + ' to learn more about interactive tables.';\n",
              "        element.innerHTML = '';\n",
              "        dataTable['output_type'] = 'display_data';\n",
              "        await google.colab.output.renderOutput(dataTable, element);\n",
              "        const docLink = document.createElement('div');\n",
              "        docLink.innerHTML = docLinkHtml;\n",
              "        element.appendChild(docLink);\n",
              "      }\n",
              "    </script>\n",
              "  </div>\n",
              "\n",
              "\n",
              "<div id=\"df-031f74ca-d5fe-40bc-95bb-7012d109a665\">\n",
              "  <button class=\"colab-df-quickchart\" onclick=\"quickchart('df-031f74ca-d5fe-40bc-95bb-7012d109a665')\"\n",
              "            title=\"Suggest charts\"\n",
              "            style=\"display:none;\">\n",
              "\n",
              "<svg xmlns=\"http://www.w3.org/2000/svg\" height=\"24px\"viewBox=\"0 0 24 24\"\n",
              "     width=\"24px\">\n",
              "    <g>\n",
              "        <path d=\"M19 3H5c-1.1 0-2 .9-2 2v14c0 1.1.9 2 2 2h14c1.1 0 2-.9 2-2V5c0-1.1-.9-2-2-2zM9 17H7v-7h2v7zm4 0h-2V7h2v10zm4 0h-2v-4h2v4z\"/>\n",
              "    </g>\n",
              "</svg>\n",
              "  </button>\n",
              "\n",
              "<style>\n",
              "  .colab-df-quickchart {\n",
              "      --bg-color: #E8F0FE;\n",
              "      --fill-color: #1967D2;\n",
              "      --hover-bg-color: #E2EBFA;\n",
              "      --hover-fill-color: #174EA6;\n",
              "      --disabled-fill-color: #AAA;\n",
              "      --disabled-bg-color: #DDD;\n",
              "  }\n",
              "\n",
              "  [theme=dark] .colab-df-quickchart {\n",
              "      --bg-color: #3B4455;\n",
              "      --fill-color: #D2E3FC;\n",
              "      --hover-bg-color: #434B5C;\n",
              "      --hover-fill-color: #FFFFFF;\n",
              "      --disabled-bg-color: #3B4455;\n",
              "      --disabled-fill-color: #666;\n",
              "  }\n",
              "\n",
              "  .colab-df-quickchart {\n",
              "    background-color: var(--bg-color);\n",
              "    border: none;\n",
              "    border-radius: 50%;\n",
              "    cursor: pointer;\n",
              "    display: none;\n",
              "    fill: var(--fill-color);\n",
              "    height: 32px;\n",
              "    padding: 0;\n",
              "    width: 32px;\n",
              "  }\n",
              "\n",
              "  .colab-df-quickchart:hover {\n",
              "    background-color: var(--hover-bg-color);\n",
              "    box-shadow: 0 1px 2px rgba(60, 64, 67, 0.3), 0 1px 3px 1px rgba(60, 64, 67, 0.15);\n",
              "    fill: var(--button-hover-fill-color);\n",
              "  }\n",
              "\n",
              "  .colab-df-quickchart-complete:disabled,\n",
              "  .colab-df-quickchart-complete:disabled:hover {\n",
              "    background-color: var(--disabled-bg-color);\n",
              "    fill: var(--disabled-fill-color);\n",
              "    box-shadow: none;\n",
              "  }\n",
              "\n",
              "  .colab-df-spinner {\n",
              "    border: 2px solid var(--fill-color);\n",
              "    border-color: transparent;\n",
              "    border-bottom-color: var(--fill-color);\n",
              "    animation:\n",
              "      spin 1s steps(1) infinite;\n",
              "  }\n",
              "\n",
              "  @keyframes spin {\n",
              "    0% {\n",
              "      border-color: transparent;\n",
              "      border-bottom-color: var(--fill-color);\n",
              "      border-left-color: var(--fill-color);\n",
              "    }\n",
              "    20% {\n",
              "      border-color: transparent;\n",
              "      border-left-color: var(--fill-color);\n",
              "      border-top-color: var(--fill-color);\n",
              "    }\n",
              "    30% {\n",
              "      border-color: transparent;\n",
              "      border-left-color: var(--fill-color);\n",
              "      border-top-color: var(--fill-color);\n",
              "      border-right-color: var(--fill-color);\n",
              "    }\n",
              "    40% {\n",
              "      border-color: transparent;\n",
              "      border-right-color: var(--fill-color);\n",
              "      border-top-color: var(--fill-color);\n",
              "    }\n",
              "    60% {\n",
              "      border-color: transparent;\n",
              "      border-right-color: var(--fill-color);\n",
              "    }\n",
              "    80% {\n",
              "      border-color: transparent;\n",
              "      border-right-color: var(--fill-color);\n",
              "      border-bottom-color: var(--fill-color);\n",
              "    }\n",
              "    90% {\n",
              "      border-color: transparent;\n",
              "      border-bottom-color: var(--fill-color);\n",
              "    }\n",
              "  }\n",
              "</style>\n",
              "\n",
              "  <script>\n",
              "    async function quickchart(key) {\n",
              "      const quickchartButtonEl =\n",
              "        document.querySelector('#' + key + ' button');\n",
              "      quickchartButtonEl.disabled = true;  // To prevent multiple clicks.\n",
              "      quickchartButtonEl.classList.add('colab-df-spinner');\n",
              "      try {\n",
              "        const charts = await google.colab.kernel.invokeFunction(\n",
              "            'suggestCharts', [key], {});\n",
              "      } catch (error) {\n",
              "        console.error('Error during call to suggestCharts:', error);\n",
              "      }\n",
              "      quickchartButtonEl.classList.remove('colab-df-spinner');\n",
              "      quickchartButtonEl.classList.add('colab-df-quickchart-complete');\n",
              "    }\n",
              "    (() => {\n",
              "      let quickchartButtonEl =\n",
              "        document.querySelector('#df-031f74ca-d5fe-40bc-95bb-7012d109a665 button');\n",
              "      quickchartButtonEl.style.display =\n",
              "        google.colab.kernel.accessAllowed ? 'block' : 'none';\n",
              "    })();\n",
              "  </script>\n",
              "</div>\n",
              "    </div>\n",
              "  </div>\n"
            ]
          },
          "metadata": {},
          "execution_count": 2
        }
      ]
    },
    {
      "cell_type": "code",
      "source": [
        "arxiv_data.titles[0]"
      ],
      "metadata": {
        "colab": {
          "base_uri": "https://localhost:8080/",
          "height": 53
        },
        "id": "HhLY3HnM5-85",
        "outputId": "985c3311-f4fa-417a-ae00-6b86aab32746"
      },
      "execution_count": 3,
      "outputs": [
        {
          "output_type": "execute_result",
          "data": {
            "text/plain": [
              "'Survey on Semantic Stereo Matching / Semantic Depth Estimation'"
            ],
            "application/vnd.google.colaboratory.intrinsic+json": {
              "type": "string"
            }
          },
          "metadata": {},
          "execution_count": 3
        }
      ]
    },
    {
      "cell_type": "code",
      "source": [
        "arxiv_data.summaries[0]"
      ],
      "metadata": {
        "colab": {
          "base_uri": "https://localhost:8080/",
          "height": 417
        },
        "id": "mAM1CsWw6fCx",
        "outputId": "f8baee1e-dd50-4e66-8e9a-c9e82f48e85e"
      },
      "execution_count": 4,
      "outputs": [
        {
          "output_type": "execute_result",
          "data": {
            "text/plain": [
              "'Stereo matching is one of the widely used techniques for inferring depth from\\nstereo images owing to its robustness and speed. It has become one of the major\\ntopics of research since it finds its applications in autonomous driving,\\nrobotic navigation, 3D reconstruction, and many other fields. Finding pixel\\ncorrespondences in non-textured, occluded and reflective areas is the major\\nchallenge in stereo matching. Recent developments have shown that semantic cues\\nfrom image segmentation can be used to improve the results of stereo matching.\\nMany deep neural network architectures have been proposed to leverage the\\nadvantages of semantic segmentation in stereo matching. This paper aims to give\\na comparison among the state of art networks both in terms of accuracy and in\\nterms of speed which are of higher importance in real-time applications.'"
            ],
            "application/vnd.google.colaboratory.intrinsic+json": {
              "type": "string"
            }
          },
          "metadata": {},
          "execution_count": 4
        }
      ]
    },
    {
      "cell_type": "markdown",
      "source": [
        "Our text features are present in the `summaries` column and their corresponding labels\n",
        "are in `terms`. As you can notice, there are multiple categories associated with a\n",
        "particular entry."
      ],
      "metadata": {
        "id": "g362sJn3dZ9A"
      }
    },
    {
      "cell_type": "code",
      "source": [
        "arxiv_data.shape"
      ],
      "metadata": {
        "colab": {
          "base_uri": "https://localhost:8080/"
        },
        "id": "gC-A5QQMBezD",
        "outputId": "198dd98b-61d6-4760-c847-43b8f6ac8155"
      },
      "execution_count": 5,
      "outputs": [
        {
          "output_type": "execute_result",
          "data": {
            "text/plain": [
              "(51774, 3)"
            ]
          },
          "metadata": {},
          "execution_count": 5
        }
      ]
    },
    {
      "cell_type": "markdown",
      "source": [
        "Real-world data is noisy. One of the most commonly observed source of noise is data\n",
        "duplication. Here we notice that our initial dataset has got about 13k duplicate entries."
      ],
      "metadata": {
        "id": "ZmC91zRDdohV"
      }
    },
    {
      "cell_type": "code",
      "source": [
        "total_duplicate_titles = sum(arxiv_data[\"titles\"].duplicated())\n",
        "print(f\"There are {total_duplicate_titles} duplicate titles.\")"
      ],
      "metadata": {
        "colab": {
          "base_uri": "https://localhost:8080/"
        },
        "id": "05_GsKWTBwum",
        "outputId": "3f6b61e6-5db3-4358-aa98-b6756085f039"
      },
      "execution_count": 6,
      "outputs": [
        {
          "output_type": "stream",
          "name": "stdout",
          "text": [
            "There are 12802 duplicate titles.\n"
          ]
        }
      ]
    },
    {
      "cell_type": "markdown",
      "source": [
        "Before proceeding further, we drop these entries."
      ],
      "metadata": {
        "id": "Pbmmv-PCd0W-"
      }
    },
    {
      "cell_type": "code",
      "source": [
        "arxiv_data = arxiv_data[~arxiv_data[\"titles\"].duplicated()]\n",
        "print(f\"There are {len(arxiv_data)} rows in the deduplicated dataset.\")\n",
        "\n",
        "# There are some terms with occurrence as low as 1.\n",
        "print(sum(arxiv_data[\"terms\"].value_counts() == 1))\n",
        "\n",
        "# How many unique terms?\n",
        "print(arxiv_data[\"terms\"].nunique())"
      ],
      "metadata": {
        "colab": {
          "base_uri": "https://localhost:8080/"
        },
        "id": "5wfYvuXrByfO",
        "outputId": "c8ac70b7-ff48-4192-a0b7-69e7394f957f"
      },
      "execution_count": 7,
      "outputs": [
        {
          "output_type": "stream",
          "name": "stdout",
          "text": [
            "There are 38972 rows in the deduplicated dataset.\n",
            "2321\n",
            "3157\n"
          ]
        }
      ]
    },
    {
      "cell_type": "code",
      "source": [
        "arxiv_data.shape"
      ],
      "metadata": {
        "colab": {
          "base_uri": "https://localhost:8080/"
        },
        "id": "ubiT7KZLCPYw",
        "outputId": "8555218e-bf5f-4dc5-9871-6a072203dbb1"
      },
      "execution_count": 8,
      "outputs": [
        {
          "output_type": "execute_result",
          "data": {
            "text/plain": [
              "(38972, 3)"
            ]
          },
          "metadata": {},
          "execution_count": 8
        }
      ]
    },
    {
      "cell_type": "markdown",
      "source": [
        "As observed above, out of 3,157 unique combinations of `terms`, 2,321 entries have the\n",
        "lowest occurrence. To prepare our train, validation, and test sets with\n",
        "[stratification](https://en.wikipedia.org/wiki/Stratified_sampling), we need to drop\n",
        "these terms."
      ],
      "metadata": {
        "id": "5Bou8r49dyCe"
      }
    },
    {
      "cell_type": "code",
      "source": [
        "arxiv_data_filterd = arxiv_data.groupby(\"terms\").filter(lambda x : len(x) > 1)\n",
        "arxiv_data_filterd.shape"
      ],
      "metadata": {
        "colab": {
          "base_uri": "https://localhost:8080/"
        },
        "id": "wSDZh-qmC3IL",
        "outputId": "28d74b75-758e-4531-80c7-b485975b9ff8"
      },
      "execution_count": 9,
      "outputs": [
        {
          "output_type": "execute_result",
          "data": {
            "text/plain": [
              "(36651, 3)"
            ]
          },
          "metadata": {},
          "execution_count": 9
        }
      ]
    },
    {
      "cell_type": "markdown",
      "source": [
        "## Convert the string labels to lists of strings\n",
        "\n",
        "The initial labels are represented as raw strings. Here we make them `List[str]` for a\n",
        "more compact representation."
      ],
      "metadata": {
        "id": "Ka3lrRnGesEP"
      }
    },
    {
      "cell_type": "code",
      "source": [
        "arxiv_data_filterd[\"terms\"] = arxiv_data_filterd[\"terms\"].apply(lambda x : literal_eval(x))\n",
        "arxiv_data_filterd[\"terms\"].values[:5]"
      ],
      "metadata": {
        "colab": {
          "base_uri": "https://localhost:8080/"
        },
        "id": "I2g-4uVkGVEJ",
        "outputId": "15f45436-fdf5-463c-f4a7-b4b05a8564ad"
      },
      "execution_count": 10,
      "outputs": [
        {
          "output_type": "execute_result",
          "data": {
            "text/plain": [
              "array([list(['cs.CV', 'cs.LG']), list(['cs.CV', 'cs.AI', 'cs.LG']),\n",
              "       list(['cs.CV', 'cs.AI']), list(['cs.CV']),\n",
              "       list(['cs.CV', 'cs.LG'])], dtype=object)"
            ]
          },
          "metadata": {},
          "execution_count": 10
        }
      ]
    },
    {
      "cell_type": "markdown",
      "source": [
        "## Use stratified splits because of class imbalance\n",
        "\n",
        "The dataset has a\n",
        "[class imbalance problem](https://developers.google.com/machine-learning/glossary/#class-imbalanced-dataset).\n",
        "So, to have a fair evaluation result, we need to ensure the datasets are sampled with\n",
        "stratification. To know more about different strategies to deal with the class imbalance\n",
        "problem, you can follow\n",
        "[this tutorial](https://www.tensorflow.org/tutorials/structured_data/imbalanced_data).\n",
        "For an end-to-end demonstration of classification with imbablanced data, refer to\n",
        "[Imbalanced classification: credit card fraud detection](https://keras.io/examples/structured_data/imbalanced_classification/)."
      ],
      "metadata": {
        "id": "upy_WOBqeyLY"
      }
    },
    {
      "cell_type": "code",
      "source": [
        "test_split = 0.1\n",
        "\n",
        "# Initial train and test split.\n",
        "train_df, test_df = train_test_split(\n",
        "    arxiv_data_filterd,\n",
        "    test_size=test_split,\n",
        "    stratify=arxiv_data_filterd[\"terms\"].values)\n",
        "\n",
        "# Splitting the test set further into validation\n",
        "# and new test sets.\n",
        "val_df = test_df.sample(frac=0.5)\n",
        "test_df.drop(val_df.index, inplace=True)\n",
        "\n",
        "print(f\"Number of rows in training set: {len(train_df)}\")\n",
        "print(f\"Number of rows in validation set: {len(val_df)}\")\n",
        "print(f\"Number of rows in test set: {len(test_df)}\")"
      ],
      "metadata": {
        "colab": {
          "base_uri": "https://localhost:8080/"
        },
        "id": "78adfEUzJcy-",
        "outputId": "bf00c419-dd27-43de-a388-9eece336e775"
      },
      "execution_count": 11,
      "outputs": [
        {
          "output_type": "stream",
          "name": "stdout",
          "text": [
            "Number of rows in training set: 32985\n",
            "Number of rows in validation set: 1833\n",
            "Number of rows in test set: 1833\n"
          ]
        }
      ]
    },
    {
      "cell_type": "markdown",
      "source": [
        "## Multi-label binarization\n",
        "\n",
        "Now we preprocess our labels using the\n",
        "[`StringLookup`](https://keras.io/api/layers/preprocessing_layers/categorical/string_lookup)\n",
        "layer."
      ],
      "metadata": {
        "id": "0IEQQYete1C2"
      }
    },
    {
      "cell_type": "code",
      "source": [
        "terms = tf.ragged.constant(train_df[\"terms\"].values)\n",
        "lookup = tf.keras.layers.StringLookup(output_mode=\"multi_hot\")\n",
        "lookup.adapt(terms)\n",
        "vocab = lookup.get_vocabulary()\n",
        "\n",
        "\n",
        "def invert_multi_hot(encoded_labels):\n",
        "    \"\"\"Reverse a single multi-hot encoded label to a tuple of vocab terms.\"\"\"\n",
        "    hot_indices = np.argwhere(encoded_labels == 1.0)[..., 0]\n",
        "    return np.take(vocab, hot_indices)\n",
        "\n",
        "\n",
        "print(\"Vocabulary:\\n\")\n",
        "print(vocab)"
      ],
      "metadata": {
        "colab": {
          "base_uri": "https://localhost:8080/"
        },
        "id": "ZSqTfR1sKVDw",
        "outputId": "5f3d59d5-d643-4c88-d943-77b7650cf5b1"
      },
      "execution_count": 12,
      "outputs": [
        {
          "output_type": "stream",
          "name": "stdout",
          "text": [
            "Vocabulary:\n",
            "\n",
            "['[UNK]', 'cs.CV', 'cs.LG', 'stat.ML', 'cs.AI', 'eess.IV', 'cs.RO', 'cs.CL', 'cs.NE', 'cs.CR', 'math.OC', 'eess.SP', 'cs.GR', 'cs.SI', 'cs.MM', 'cs.SY', 'cs.IR', 'cs.MA', 'eess.SY', 'cs.HC', 'math.IT', 'cs.IT', 'cs.DC', 'cs.CY', 'stat.AP', 'stat.TH', 'math.ST', 'stat.ME', 'eess.AS', 'cs.SD', 'q-bio.QM', 'q-bio.NC', 'cs.DS', 'cs.GT', 'cs.CG', 'cs.SE', 'cs.NI', 'I.2.6', 'stat.CO', 'math.NA', 'cs.NA', 'physics.chem-ph', 'cs.DB', 'q-bio.BM', 'cs.LO', 'cs.PL', 'cond-mat.dis-nn', '68T45', 'math.PR', 'physics.comp-ph', 'I.2.10', 'cs.CE', 'cs.AR', 'q-fin.ST', 'cond-mat.stat-mech', 'math.DS', 'cs.CC', '68T05', 'quant-ph', 'physics.data-an', 'I.4.6', 'physics.soc-ph', 'physics.ao-ph', 'cs.DM', 'q-bio.GN', 'econ.EM', 'physics.med-ph', 'astro-ph.IM', 'I.4.8', 'math.AT', 'cs.PF', 'cs.FL', 'I.4', 'q-fin.TR', 'I.5.4', 'I.2', '68U10', 'physics.geo-ph', 'hep-ex', '68T10', 'physics.optics', 'cond-mat.mtrl-sci', 'physics.flu-dyn', 'math.AP', 'I.4; I.5', 'I.4.9', 'I.2.6; I.2.8', 'I.2.10; I.4; I.5', '68T01', '65D19', 'q-fin.CP', 'nlin.CD', 'math.CO', 'cs.MS', 'I.2.6; I.5.1', 'I.2.0; I.2.6', '68T07', 'cs.SC', 'cs.ET', 'K.3.2', 'I.2; I.5', 'I.2.8', '68U01', '68T30', 'q-fin.GN', 'q-fin.EC', 'q-bio.MN', 'econ.GN', 'I.4.9; I.5.4', 'I.4.5', 'I.2; I.4; I.5', 'I.2.6; I.2.7', 'I.2.10; I.4.8', '68T99', '68Q32', '68', '62H30', 'q-fin.RM', 'q-fin.PM', 'q-bio.TO', 'q-bio.OT', 'physics.bio-ph', 'nlin.AO', 'math.LO', 'math.FA', 'hep-ph', 'cond-mat.soft', 'I.4.6; I.4.8', 'I.4.4', 'I.4.3', 'I.4.0', 'I.2; J.2', 'I.2; I.2.6; I.2.7', 'I.2.7', 'I.2.6; I.5.4', 'I.2.6; I.2.9', 'I.2.6; I.2.7; H.3.1; H.3.3', 'I.2.6; I.2.10', 'I.2.6, I.5.4', 'I.2.1; J.3', 'I.2.10; I.5.1; I.4.8', 'I.2.10; I.4.8; I.5.4', 'I.2.10; I.2.6', 'I.2.1', 'H.3.1; I.2.6; I.2.7', 'H.3.1; H.3.3; I.2.6; I.2.7', 'G.3', 'F.2.2; I.2.7', 'E.5; E.4; E.2; H.1.1; F.1.1; F.1.3', '68Txx', '62H99', '62H35', '14J60 (Primary) 14F05, 14J26 (Secondary)']\n"
          ]
        }
      ]
    },
    {
      "cell_type": "markdown",
      "source": [
        "Here we are separating the individual unique classes available from the label\n",
        "pool and then using this information to represent a given label set with 0's and 1's.\n",
        "Below is an example."
      ],
      "metadata": {
        "id": "LoBpOQu6e9ve"
      }
    },
    {
      "cell_type": "code",
      "source": [
        "sample_label = train_df[\"terms\"].iloc[0]\n",
        "print(f\"Original label: {sample_label}\")\n",
        "\n",
        "label_binarized = lookup([sample_label])\n",
        "print(f\"Label-binarized representation: {label_binarized}\")"
      ],
      "metadata": {
        "colab": {
          "base_uri": "https://localhost:8080/"
        },
        "id": "kBjkc-42K9N5",
        "outputId": "6371bd68-bc10-45c3-b3e4-3765f00011a0"
      },
      "execution_count": 13,
      "outputs": [
        {
          "output_type": "stream",
          "name": "stdout",
          "text": [
            "Original label: ['cs.LG', 'cs.DS', 'stat.ML']\n",
            "Label-binarized representation: [[0. 0. 1. 1. 0. 0. 0. 0. 0. 0. 0. 0. 0. 0. 0. 0. 0. 0. 0. 0. 0. 0. 0. 0.\n",
            "  0. 0. 0. 0. 0. 0. 0. 0. 1. 0. 0. 0. 0. 0. 0. 0. 0. 0. 0. 0. 0. 0. 0. 0.\n",
            "  0. 0. 0. 0. 0. 0. 0. 0. 0. 0. 0. 0. 0. 0. 0. 0. 0. 0. 0. 0. 0. 0. 0. 0.\n",
            "  0. 0. 0. 0. 0. 0. 0. 0. 0. 0. 0. 0. 0. 0. 0. 0. 0. 0. 0. 0. 0. 0. 0. 0.\n",
            "  0. 0. 0. 0. 0. 0. 0. 0. 0. 0. 0. 0. 0. 0. 0. 0. 0. 0. 0. 0. 0. 0. 0. 0.\n",
            "  0. 0. 0. 0. 0. 0. 0. 0. 0. 0. 0. 0. 0. 0. 0. 0. 0. 0. 0. 0. 0. 0. 0. 0.\n",
            "  0. 0. 0. 0. 0. 0. 0. 0. 0.]]\n"
          ]
        }
      ]
    },
    {
      "cell_type": "markdown",
      "source": [
        "## Data preprocessing and `tf.data.Dataset` objects\n",
        "\n",
        "We first get percentile estimates of the sequence lengths. The purpose will be clear in a\n",
        "moment."
      ],
      "metadata": {
        "id": "wLHpeX0FfCfh"
      }
    },
    {
      "cell_type": "code",
      "source": [
        "train_df[\"summaries\"].apply(lambda x : len(x.split(\" \"))).describe()"
      ],
      "metadata": {
        "colab": {
          "base_uri": "https://localhost:8080/"
        },
        "id": "_PzDu8POLevc",
        "outputId": "a3bf1ae4-6686-42d4-bfae-84a84f05593c"
      },
      "execution_count": 14,
      "outputs": [
        {
          "output_type": "execute_result",
          "data": {
            "text/plain": [
              "count    32985.000000\n",
              "mean       156.564590\n",
              "std         41.478356\n",
              "min          5.000000\n",
              "25%        128.000000\n",
              "50%        155.000000\n",
              "75%        183.000000\n",
              "max        462.000000\n",
              "Name: summaries, dtype: float64"
            ]
          },
          "metadata": {},
          "execution_count": 14
        }
      ]
    },
    {
      "cell_type": "markdown",
      "source": [
        "Notice that 50% of the abstracts have a length of 154 (you may get a different number\n",
        "based on the split). So, any number close to that value is a good enough approximate for the\n",
        "maximum sequence length.\n",
        "\n",
        "Now, we implement utilities to prepare our datasets."
      ],
      "metadata": {
        "id": "EV54QlfBfHGH"
      }
    },
    {
      "cell_type": "code",
      "source": [
        "max_seqlen = 150\n",
        "batch_size = 128\n",
        "padding_token = \"<pad>\"\n",
        "auto = tf.data.AUTOTUNE\n",
        "\n",
        "\n",
        "def make_dataset(dataframe, is_train=True):\n",
        "    labels = tf.ragged.constant(dataframe[\"terms\"].values)\n",
        "    label_binarized = lookup(labels).numpy()\n",
        "    dataset = tf.data.Dataset.from_tensor_slices(\n",
        "        (dataframe[\"summaries\"].values, label_binarized))\n",
        "    dataset = dataset.shuffle(batch_size * 10) if is_train else dataset\n",
        "    return dataset.batch(batch_size)"
      ],
      "metadata": {
        "id": "4dkkg_ehMMuG"
      },
      "execution_count": 15,
      "outputs": []
    },
    {
      "cell_type": "code",
      "source": [
        "train_dataset = make_dataset(train_df, is_train = True)\n",
        "test_dataset = make_dataset(test_df, is_train = False)\n",
        "val_dataset = make_dataset(val_df, is_train = False)"
      ],
      "metadata": {
        "id": "yl2n4-Y1Q4bz"
      },
      "execution_count": 16,
      "outputs": []
    },
    {
      "cell_type": "code",
      "source": [
        "text_batch, label_batch = next(iter(train_dataset))\n",
        "\n",
        "for i, text in enumerate(text_batch[:5]):\n",
        "    label = label_batch[i].numpy()[None, ...]\n",
        "    print(f\"Abstract: {text}\")\n",
        "    print(f\"Label(s): {invert_multi_hot(label[0])}\")\n",
        "    print(\" \")"
      ],
      "metadata": {
        "colab": {
          "base_uri": "https://localhost:8080/"
        },
        "id": "jscEI-QqRXuI",
        "outputId": "ea14ca63-b2a6-4627-bea2-e2b68c90c710"
      },
      "execution_count": 17,
      "outputs": [
        {
          "output_type": "stream",
          "name": "stdout",
          "text": [
            "Abstract: b'The explore{exploit dilemma is one of the central challenges in Reinforcement\\nLearning (RL). Bayesian RL solves the dilemma by providing the agent with\\ninformation in the form of a prior distribution over environments; however,\\nfull Bayesian planning is intractable. Planning with the mean MDP is a common\\nmyopic approximation of Bayesian planning. We derive a novel reward bonus that\\nis a function of the posterior distribution over environments, which, when\\nadded to the reward in planning with the mean MDP, results in an agent which\\nexplores efficiently and effectively. Although our method is similar to\\nexisting methods when given an uninformative or unstructured prior, unlike\\nexisting methods, our method can exploit structured priors. We prove that our\\nmethod results in a polynomial sample complexity and empirically demonstrate\\nits advantages in a structured exploration task.'\n",
            "Label(s): ['cs.LG' 'stat.ML' 'cs.AI']\n",
            " \n",
            "Abstract: b'Bayesian reinforcement learning (BRL) offers a decision-theoretic solution\\nfor reinforcement learning. While \"model-based\" BRL algorithms have focused\\neither on maintaining a posterior distribution on models or value functions and\\ncombining this with approximate dynamic programming or tree search, previous\\nBayesian \"model-free\" value function distribution approaches implicitly make\\nstrong assumptions or approximations. We describe a novel Bayesian framework,\\nInferential Induction, for correctly inferring value function distributions\\nfrom data, which leads to the development of a new class of BRL algorithms. We\\ndesign an algorithm, Bayesian Backwards Induction, with this framework. We\\nexperimentally demonstrate that the proposed algorithm is competitive with\\nrespect to the state of the art.'\n",
            "Label(s): ['cs.LG' 'stat.ML']\n",
            " \n",
            "Abstract: b'In this paper, we will investigate the contribution of color names for the\\ntask of salient object detection. An input image is first converted to color\\nname space, which is consisted of 11 probabilistic channels. By exploiting a\\nsurroundedness cue, we obtain a saliency map through a linear combination of a\\nset of sequential attention maps. To overcome the limitation of only using the\\nsurroundedness cue, two global cues with respect to color names are invoked to\\nguide the computation of a weighted saliency map. Finally, we integrate the\\nabove two saliency maps into a unified framework to generate the final result.\\nIn addition, an improved post-processing procedure is introduced to effectively\\nsuppress image backgrounds while uniformly highlight salient objects.\\nExperimental results show that the proposed model produces more accurate\\nsaliency maps and performs well against twenty-one saliency models in terms of\\nthree evaluation metrics on three public data sets.'\n",
            "Label(s): ['cs.CV' 'I.4']\n",
            " \n",
            "Abstract: b'Motivated by the fact that most of the information relevant to the prediction\\nof target tokens is drawn from the source sentence $S=s_1, \\\\ldots, s_S$, we\\npropose truncating the target-side window used for computing self-attention by\\nmaking an $N$-gram assumption. Experiments on WMT EnDe and EnFr data sets show\\nthat the $N$-gram masked self-attention model loses very little in BLEU score\\nfor $N$ values in the range $4, \\\\ldots, 8$, depending on the task.'\n",
            "Label(s): ['cs.LG' 'stat.ML' 'cs.CL']\n",
            " \n",
            "Abstract: b'Identification of abnormalities in red blood cells (RBC) is key to diagnosing\\na range of medical conditions from anaemia to liver disease. Currently this is\\ndone manually, a time-consuming and subjective process. This paper presents an\\nautomated process utilising the advantages of machine learning to increase\\ncapacity and standardisation of cell abnormality detection, and its performance\\nis analysed. Three different machine learning technologies were used: a Support\\nVector Machine (SVM), a classical machine learning technology; TabNet, a deep\\nlearning architecture for tabular data; U-Net, a semantic segmentation network\\ndesigned for medical image segmentation. A critical issue was the highly\\nimbalanced nature of the dataset which impacts the efficacy of machine\\nlearning. To address this, synthesising minority class samples in feature space\\nwas investigated via Synthetic Minority Over-sampling Technique (SMOTE) and\\ncost-sensitive learning. A combination of these two methods is investigated to\\nimprove the overall performance. These strategies were found to increase\\nsensitivity to minority classes. The impact of unknown cells on semantic\\nsegmentation is demonstrated, with some evidence of the model applying learning\\nof labelled cells to these anonymous cells. These findings indicate both\\nclassical models and new deep learning networks as promising methods in\\nautomating RBC abnormality detection.'\n",
            "Label(s): ['cs.CV']\n",
            " \n"
          ]
        }
      ]
    },
    {
      "cell_type": "markdown",
      "source": [
        "## Vectorization\n",
        "\n",
        "Before we feed the data to our model, we need to vectorize it (represent it in a numerical form).\n",
        "For that purpose, we will use the\n",
        "[`TextVectorization` layer](https://keras.io/api/layers/preprocessing_layers/text/text_vectorization).\n",
        "It can operate as a part of your main model so that the model is excluded from the core\n",
        "preprocessing logic. This greatly reduces the chances of training / serving skew during inference.\n",
        "\n",
        "We first calculate the number of unique words present in the abstracts."
      ],
      "metadata": {
        "id": "M2_LfKx-fNgs"
      }
    },
    {
      "cell_type": "code",
      "source": [
        "# Source: https://stackoverflow.com/a/18937309/7636462\n",
        "vocabulary = set()\n",
        "train_df[\"summaries\"].str.lower().str.split().apply(vocabulary.update)\n",
        "vocabulary_size = len(vocabulary)\n",
        "print(vocabulary_size)"
      ],
      "metadata": {
        "colab": {
          "base_uri": "https://localhost:8080/"
        },
        "id": "G4mjxJmaSn97",
        "outputId": "667f98d3-794a-469b-c39d-1ac0d7d17802"
      },
      "execution_count": 18,
      "outputs": [
        {
          "output_type": "stream",
          "name": "stdout",
          "text": [
            "153162\n"
          ]
        }
      ]
    },
    {
      "cell_type": "code",
      "source": [
        "text_vectorizer = layers.TextVectorization(\n",
        "    max_tokens=vocabulary_size, ngrams=2, output_mode=\"tf_idf\")\n",
        "\n",
        "# `TextVectorization` layer needs to be adapted as per the vocabulary from our\n",
        "# training set.\n",
        "with tf.device(\"/CPU:0\"):\n",
        "    text_vectorizer.adapt(train_dataset.map(lambda text, label: text))\n",
        "\n",
        "train_dataset = train_dataset.map(\n",
        "    lambda text, label: (text_vectorizer(text), label), num_parallel_calls=auto\n",
        ").prefetch(auto)\n",
        "validation_dataset = val_dataset.map(\n",
        "    lambda text, label: (text_vectorizer(text), label), num_parallel_calls=auto\n",
        ").prefetch(auto)\n",
        "test_dataset = test_dataset.map(\n",
        "    lambda text, label: (text_vectorizer(text), label), num_parallel_calls=auto\n",
        ").prefetch(auto)"
      ],
      "metadata": {
        "id": "Si_JEV37VOzJ"
      },
      "execution_count": 19,
      "outputs": []
    },
    {
      "cell_type": "markdown",
      "source": [
        "A batch of raw text will first go through the `TextVectorization` layer and it will\n",
        "generate their integer representations. Internally, the `TextVectorization` layer will\n",
        "first create bi-grams out of the sequences and then represent them using\n",
        "[TF-IDF](https://wikipedia.org/wiki/Tf%E2%80%93idf). The output representations will then\n",
        "be passed to the shallow model responsible for text classification.\n",
        "\n",
        "To learn more about other possible configurations with `TextVectorizer`, please consult\n",
        "the\n",
        "[official documentation](https://keras.io/api/layers/preprocessing_layers/text/text_vectorization).\n",
        "\n",
        "**Note**: Setting the `max_tokens` argument to a pre-calculated vocabulary size is\n",
        "not a requirement.\n",
        "\n",
        "\n",
        "\n",
        "## Create a text classification model\n",
        "\n",
        "We will keep our model simple -- it will be a small stack of fully-connected layers with\n",
        "ReLU as the non-linearity."
      ],
      "metadata": {
        "id": "SLmEtM62fthA"
      }
    },
    {
      "cell_type": "code",
      "source": [
        "def make_model():\n",
        "    shallow_mlp_model = keras.Sequential(\n",
        "        [\n",
        "            layers.Dense(512, activation=\"relu\"),\n",
        "            layers.Dense(256, activation=\"relu\"),\n",
        "            layers.Dense(lookup.vocabulary_size(), activation=\"sigmoid\"),\n",
        "        ]  # More on why \"sigmoid\" has been used here in a moment.\n",
        "    )\n",
        "    return shallow_mlp_model"
      ],
      "metadata": {
        "id": "8q__0dckVza8"
      },
      "execution_count": 20,
      "outputs": []
    },
    {
      "cell_type": "markdown",
      "source": [
        "## Train the model\n",
        "\n",
        "We will train our model using the binary crossentropy loss. This is because the labels\n",
        "are not disjoint. For a given abstract, we may have multiple categories. So, we will\n",
        "divide the prediction task into a series of multiple binary classification problems. This\n",
        "is also why we kept the activation function of the classification layer in our model to\n",
        "sigmoid. Researchers have used other combinations of loss function and activation\n",
        "function as well. For example, in [Exploring the Limits of Weakly Supervised Pretraining](https://arxiv.org/abs/1805.00932),\n",
        "Mahajan et al. used the softmax activation function and cross-entropy loss to train\n",
        "their models.\n",
        "\n",
        "There are several options of metrics that can be used in multi-label classification.\n",
        "To keep this code example narrow we decided to use the\n",
        "[binary accuracy metric](https://keras.io/api/metrics/accuracy_metrics/#binaryaccuracy-class).\n",
        "To see the explanation why this metric is used we refer to this\n",
        "[pull-request](https://github.com/keras-team/keras-io/pull/1133#issuecomment-1322736860).\n",
        "There are also other suitable metrics for multi-label classification, like\n",
        "[F1 Score](https://www.tensorflow.org/addons/api_docs/python/tfa/metrics/F1Score) or\n",
        "[Hamming loss](https://www.tensorflow.org/addons/api_docs/python/tfa/metrics/HammingLoss)."
      ],
      "metadata": {
        "id": "1CMpk-dgfxIj"
      }
    },
    {
      "cell_type": "code",
      "source": [
        "shallow_mlp_model = make_model()\n",
        "shallow_mlp_model.compile(\n",
        "    loss=\"binary_crossentropy\", optimizer=\"adam\", metrics=[\"binary_accuracy\"])\n",
        "\n",
        "history = shallow_mlp_model.fit(\n",
        "    train_dataset, validation_data=validation_dataset, epochs=20)\n",
        "\n",
        "\n",
        "def plot_result(item):\n",
        "    plt.plot(history.history[item], label=item)\n",
        "    plt.plot(history.history[\"val_\" + item], label=\"val_\" + item)\n",
        "    plt.xlabel(\"Epochs\")\n",
        "    plt.ylabel(item)\n",
        "    plt.title(\"Train and Validation {} Over Epochs\".format(item), fontsize=14)\n",
        "    plt.legend()\n",
        "    plt.grid()\n",
        "    plt.show()\n",
        "\n",
        "\n",
        "plot_result(\"loss\")\n",
        "plot_result(\"binary_accuracy\")"
      ],
      "metadata": {
        "colab": {
          "base_uri": "https://localhost:8080/",
          "height": 1000
        },
        "id": "gMXGG9sgZU2e",
        "outputId": "207b82c8-247e-4918-f965-67ecebd9d710"
      },
      "execution_count": 21,
      "outputs": [
        {
          "output_type": "stream",
          "name": "stdout",
          "text": [
            "Epoch 1/20\n",
            "258/258 [==============================] - 27s 84ms/step - loss: 0.0316 - binary_accuracy: 0.9899 - val_loss: 0.0189 - val_binary_accuracy: 0.9941\n",
            "Epoch 2/20\n",
            "258/258 [==============================] - 22s 83ms/step - loss: 0.0031 - binary_accuracy: 0.9991 - val_loss: 0.0270 - val_binary_accuracy: 0.9938\n",
            "Epoch 3/20\n",
            "258/258 [==============================] - 24s 95ms/step - loss: 8.1023e-04 - binary_accuracy: 0.9998 - val_loss: 0.0329 - val_binary_accuracy: 0.9934\n",
            "Epoch 4/20\n",
            "258/258 [==============================] - 20s 78ms/step - loss: 3.8977e-04 - binary_accuracy: 0.9999 - val_loss: 0.0370 - val_binary_accuracy: 0.9939\n",
            "Epoch 5/20\n",
            "258/258 [==============================] - 23s 90ms/step - loss: 2.0005e-04 - binary_accuracy: 1.0000 - val_loss: 0.0398 - val_binary_accuracy: 0.9939\n",
            "Epoch 6/20\n",
            "258/258 [==============================] - 22s 86ms/step - loss: 1.0975e-04 - binary_accuracy: 1.0000 - val_loss: 0.0417 - val_binary_accuracy: 0.9939\n",
            "Epoch 7/20\n",
            "258/258 [==============================] - 21s 80ms/step - loss: 7.4838e-05 - binary_accuracy: 1.0000 - val_loss: 0.0436 - val_binary_accuracy: 0.9939\n",
            "Epoch 8/20\n",
            "258/258 [==============================] - 23s 88ms/step - loss: 6.6797e-05 - binary_accuracy: 1.0000 - val_loss: 0.0454 - val_binary_accuracy: 0.9940\n",
            "Epoch 9/20\n",
            "258/258 [==============================] - 25s 96ms/step - loss: 4.5407e-05 - binary_accuracy: 1.0000 - val_loss: 0.0459 - val_binary_accuracy: 0.9939\n",
            "Epoch 10/20\n",
            "258/258 [==============================] - 20s 78ms/step - loss: 4.3254e-05 - binary_accuracy: 1.0000 - val_loss: 0.0471 - val_binary_accuracy: 0.9940\n",
            "Epoch 11/20\n",
            "258/258 [==============================] - 21s 80ms/step - loss: 3.9864e-05 - binary_accuracy: 1.0000 - val_loss: 0.0483 - val_binary_accuracy: 0.9938\n",
            "Epoch 12/20\n",
            "258/258 [==============================] - 24s 91ms/step - loss: 4.9970e-05 - binary_accuracy: 1.0000 - val_loss: 0.0502 - val_binary_accuracy: 0.9938\n",
            "Epoch 13/20\n",
            "258/258 [==============================] - 22s 83ms/step - loss: 6.4285e-04 - binary_accuracy: 0.9998 - val_loss: 0.0397 - val_binary_accuracy: 0.9936\n",
            "Epoch 14/20\n",
            "258/258 [==============================] - 23s 87ms/step - loss: 0.0017 - binary_accuracy: 0.9995 - val_loss: 0.0409 - val_binary_accuracy: 0.9932\n",
            "Epoch 15/20\n",
            "258/258 [==============================] - 22s 84ms/step - loss: 0.0018 - binary_accuracy: 0.9995 - val_loss: 0.0452 - val_binary_accuracy: 0.9932\n",
            "Epoch 16/20\n",
            "258/258 [==============================] - 21s 82ms/step - loss: 0.0013 - binary_accuracy: 0.9996 - val_loss: 0.0475 - val_binary_accuracy: 0.9930\n",
            "Epoch 17/20\n",
            "258/258 [==============================] - 22s 85ms/step - loss: 6.5907e-04 - binary_accuracy: 0.9998 - val_loss: 0.0537 - val_binary_accuracy: 0.9930\n",
            "Epoch 18/20\n",
            "258/258 [==============================] - 20s 78ms/step - loss: 3.1160e-04 - binary_accuracy: 0.9999 - val_loss: 0.0591 - val_binary_accuracy: 0.9931\n",
            "Epoch 19/20\n",
            "258/258 [==============================] - 21s 80ms/step - loss: 1.4114e-04 - binary_accuracy: 1.0000 - val_loss: 0.0613 - val_binary_accuracy: 0.9932\n",
            "Epoch 20/20\n",
            "258/258 [==============================] - 20s 76ms/step - loss: 1.1172e-04 - binary_accuracy: 1.0000 - val_loss: 0.0626 - val_binary_accuracy: 0.9931\n"
          ]
        },
        {
          "output_type": "display_data",
          "data": {
            "text/plain": [
              "<Figure size 640x480 with 1 Axes>"
            ],
            "image/png": "[encoded data removed]"
          },
          "metadata": {}
        },
        {
          "output_type": "display_data",
          "data": {
            "text/plain": [
              "<Figure size 640x480 with 1 Axes>"
            ],
            "image/png": "[encoded data removed]"
          },
          "metadata": {}
        }
      ]
    },
    {
      "cell_type": "code",
      "source": [
        "_, binary_acc = shallow_mlp_model.evaluate(test_dataset)\n",
        "print(f\"Categorical accuracy on the test set: {round(binary_acc * 100, 2)}%.\")"
      ],
      "metadata": {
        "colab": {
          "base_uri": "https://localhost:8080/"
        },
        "id": "DxSeU7msc4Ny",
        "outputId": "5b39d36a-d5ee-4f38-bb52-9561d58a72c4"
      },
      "execution_count": 22,
      "outputs": [
        {
          "output_type": "stream",
          "name": "stdout",
          "text": [
            "15/15 [==============================] - 1s 85ms/step - loss: 0.0585 - binary_accuracy: 0.9932\n",
            "Categorical accuracy on the test set: 99.32%.\n"
          ]
        }
      ]
    },
    {
      "cell_type": "markdown",
      "source": [
        "## Inference\n",
        "\n",
        "An important feature of the\n",
        "[preprocessing layers provided by Keras](https://keras.io/guides/preprocessing_layers/)\n",
        "is that they can be included inside a `tf.keras.Model`. We will export an inference model\n",
        "by including the `text_vectorization` layer on top of `shallow_mlp_model`. This will\n",
        "allow our inference model to directly operate on raw strings.\n",
        "\n",
        "**Note** that during training it is always preferable to use these preprocessing\n",
        "layers as a part of the data input pipeline rather than the model to avoid\n",
        "surfacing bottlenecks for the hardware accelerators. This also allows for\n",
        "asynchronous data processing."
      ],
      "metadata": {
        "id": "0xcaaolSgDvO"
      }
    },
    {
      "cell_type": "code",
      "source": [
        "# Create a model for inference.\n",
        "model_for_inference = keras.Sequential([text_vectorizer, shallow_mlp_model])\n",
        "\n",
        "# Create a small dataset just for demoing inference.\n",
        "inference_dataset = make_dataset(test_df.sample(100), is_train=False)\n",
        "text_batch, label_batch = next(iter(inference_dataset))\n",
        "predicted_probabilities = model_for_inference.predict(text_batch)\n",
        "\n",
        "# Perform inference.\n",
        "for i, text in enumerate(text_batch[:5]):\n",
        "    label = label_batch[i].numpy()[None, ...]\n",
        "    print(f\"Abstract: {text}\")\n",
        "    print(f\"Label(s): {invert_multi_hot(label[0])}\")\n",
        "    predicted_proba = [proba for proba in predicted_probabilities[i]]\n",
        "    top_3_labels = [\n",
        "        x\n",
        "        for _, x in sorted(\n",
        "            zip(predicted_probabilities[i], lookup.get_vocabulary()),\n",
        "            key=lambda pair: pair[0],\n",
        "            reverse=True,\n",
        "        )\n",
        "    ][:3]\n",
        "    print(f\"Predicted Label(s): ({', '.join([label for label in top_3_labels])})\")\n",
        "    print(\" \")"
      ],
      "metadata": {
        "colab": {
          "base_uri": "https://localhost:8080/"
        },
        "id": "S3xVwK05dCC1",
        "outputId": "d2935a1e-4d16-436f-8a21-146e8fa3577d"
      },
      "execution_count": 23,
      "outputs": [
        {
          "output_type": "stream",
          "name": "stdout",
          "text": [
            "4/4 [==============================] - 1s 8ms/step\n",
            "Abstract: b'Medical images are naturally associated with rich semantics about the human\\nanatomy, reflected in an abundance of recurring anatomical patterns, offering\\nunique potential to foster deep semantic representation learning and yield\\nsemantically more powerful models for different medical applications. But how\\nexactly such strong yet free semantics embedded in medical images can be\\nharnessed for self-supervised learning remains largely unexplored. To this end,\\nwe train deep models to learn semantically enriched visual representation by\\nself-discovery, self-classification, and self-restoration of the anatomy\\nunderneath medical images, resulting in a semantics-enriched, general-purpose,\\npre-trained 3D model, named Semantic Genesis. We examine our Semantic Genesis\\nwith all the publicly-available pre-trained models, by either self-supervision\\nor fully supervision, on the six distinct target tasks, covering both\\nclassification and segmentation in various medical modalities (i.e.,CT, MRI,\\nand X-ray). Our extensive experiments demonstrate that Semantic Genesis\\nsignificantly exceeds all of its 3D counterparts as well as the de facto\\nImageNet-based transfer learning in 2D. This performance is attributed to our\\nnovel self-supervised learning framework, encouraging deep models to learn\\ncompelling semantic representation from abundant anatomical patterns resulting\\nfrom consistent anatomies embedded in medical images. Code and pre-trained\\nSemantic Genesis are available at https://github.com/JLiangLab/SemanticGenesis .'\n",
            "Label(s): ['cs.CV' 'eess.IV']\n",
            "Predicted Label(s): (cs.CV, eess.IV, cs.AI)\n",
            " \n",
            "Abstract: b'Wavelets are well known for data compression, yet have rarely been applied to\\nthe compression of neural networks. This paper shows how the fast wavelet\\ntransform can be used to compress linear layers in neural networks. Linear\\nlayers still occupy a significant portion of the parameters in recurrent neural\\nnetworks (RNNs). Through our method, we can learn both the wavelet bases and\\ncorresponding coefficients to efficiently represent the linear layers of RNNs.\\nOur wavelet compressed RNNs have significantly fewer parameters yet still\\nperform competitively with the state-of-the-art on synthetic and real-world RNN\\nbenchmarks. Wavelet optimization adds basis flexibility, without large numbers\\nof extra weights. Source code is available at\\nhttps://github.com/v0lta/Wavelet-network-compression.'\n",
            "Label(s): ['cs.LG' 'stat.ML']\n",
            "Predicted Label(s): (stat.ML, cs.LG, cs.CV)\n",
            " \n",
            "Abstract: b'Probabilistic finite mixture models are widely used for unsupervised\\nclustering. These models can often be improved by adapting them to the topology\\nof the data. For instance, in order to classify spatially adjacent data points\\nsimilarly, it is common to introduce a Laplacian constraint on the posterior\\nprobability that each data point belongs to a class. Alternatively, the mixing\\nprobabilities can be treated as free parameters, while assuming Gauss-Markov or\\nmore complex priors to regularize those mixing probabilities. However, these\\napproaches are constrained by the shape of the prior and often lead to\\ncomplicated or intractable inference. Here, we propose a new parametrization of\\nthe Dirichlet distribution to flexibly regularize the mixing probabilities of\\nover-parametrized mixture distributions. Using the Expectation-Maximization\\nalgorithm, we show that our approach allows us to define any linear update rule\\nfor the mixing probabilities, including spatial smoothing regularization as a\\nspecial case. We then show that this flexible design can be extended to share\\nclass information between multiple mixture models. We apply our algorithm to\\nartificial and natural image segmentation tasks, and we provide quantitative\\nand qualitative comparison of the performance of Gaussian and Student-t\\nmixtures on the Berkeley Segmentation Dataset. We also demonstrate how to\\npropagate class information across the layers of deep convolutional neural\\nnetworks in a probabilistically optimal way, suggesting a new interpretation\\nfor feedback signals in biological visual systems. Our flexible approach can be\\neasily generalized to adapt probabilistic mixture models to arbitrary data\\ntopologies.'\n",
            "Label(s): ['cs.CV' 'cs.LG' 'q-bio.NC']\n",
            "Predicted Label(s): (cs.LG, cs.CV, stat.ML)\n",
            " \n",
            "Abstract: b'Most of the existing literature regarding hyperbolic embedding concentrate\\nupon supervised learning, whereas the use of unsupervised hyperbolic embedding\\nis less well explored. In this paper, we analyze how unsupervised tasks can\\nbenefit from learned representations in hyperbolic space. To explore how well\\nthe hierarchical structure of unlabeled data can be represented in hyperbolic\\nspaces, we design a novel hyperbolic message passing auto-encoder whose overall\\nauto-encoding is performed in hyperbolic space. The proposed model conducts\\nauto-encoding the networks via fully utilizing hyperbolic geometry in message\\npassing. Through extensive quantitative and qualitative analyses, we validate\\nthe properties and benefits of the unsupervised hyperbolic representations.\\nCodes are available at https://github.com/junhocho/HGCAE.'\n",
            "Label(s): ['cs.LG']\n",
            "Predicted Label(s): (cs.LG, cs.CV, stat.ML)\n",
            " \n",
            "Abstract: b'Recent years have witnessed some exciting developments in the domain of\\ngenerating images from scene-based text descriptions. These approaches have\\nprimarily focused on generating images from a static text description and are\\nlimited to generating images in a single pass. They are unable to generate an\\nimage interactively based on an incrementally additive text description\\n(something that is more intuitive and similar to the way we describe an image).\\nWe propose a method to generate an image incrementally based on a sequence of\\ngraphs of scene descriptions (scene-graphs). We propose a recurrent network\\narchitecture that preserves the image content generated in previous steps and\\nmodifies the cumulative image as per the newly provided scene information. Our\\nmodel utilizes Graph Convolutional Networks (GCN) to cater to variable-sized\\nscene graphs along with Generative Adversarial image translation networks to\\ngenerate realistic multi-object images without needing any intermediate\\nsupervision during training. We experiment with Coco-Stuff dataset which has\\nmulti-object images along with annotations describing the visual scene and show\\nthat our model significantly outperforms other approaches on the same dataset\\nin generating visually consistent images for incrementally growing scene\\ngraphs.'\n",
            "Label(s): ['cs.CV' 'cs.LG' 'cs.AI']\n",
            "Predicted Label(s): (cs.CV, cs.RO, cs.LG)\n",
            " \n"
          ]
        }
      ]
    },
    {
      "cell_type": "markdown",
      "source": [
        "The prediction results are not that great but not below the par for a simple model like\n",
        "ours. We can improve this performance with models that consider word order like LSTM or\n",
        "even those that use Transformers ([Vaswani et al.](https://arxiv.org/abs/1706.03762)).\n",
        "\n",
        "\n",
        "\n",
        "## Acknowledgements\n",
        "\n",
        "We would like to thank [Matt Watson](https://github.com/mattdangerw) for helping us\n",
        "tackle the multi-label binarization part and inverse-transforming the processed labels\n",
        "to the original form.\n",
        "\n",
        "Thanks to [Cingis Kratochvil](https://github.com/cumbalik) for suggesting and extending this code example by introducing binary accuracy as the evaluation metric."
      ],
      "metadata": {
        "id": "0RzYaq5hgGFH"
      }
    }
  ],
  "metadata": {
    "colab": {
      "provenance": [],
      "gpuType": "T4",
      "include_colab_link": true
    },
    "kernelspec": {
      "display_name": "Python 3",
      "name": "python3"
    },
    "language_info": {
      "codemirror_mode": {
        "name": "ipython",
        "version": 3
      },
      "file_extension": ".py",
      "mimetype": "text/x-python",
      "name": "python",
      "nbconvert_exporter": "python",
      "pygments_lexer": "ipython3",
      "version": "3.10.12"
    },
    "accelerator": "GPU"
  },
  "nbformat": 4,
  "nbformat_minor": 0
}