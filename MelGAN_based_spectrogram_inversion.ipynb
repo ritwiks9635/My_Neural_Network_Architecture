{
  "cells": [
    {
      "cell_type": "markdown",
      "metadata": {
        "id": "view-in-github",
        "colab_type": "text"
      },
      "source": [
        "<a href=\"https://colab.research.google.com/github/ritwiks9635/My_Neural_Network_Architecture/blob/main/MelGAN_based_spectrogram_inversion.ipynb\" target=\"_parent\"><img src=\"https://colab.research.google.com/assets/colab-badge.svg\" alt=\"Open In Colab\"/></a>"
      ]
    },
    {
      "cell_type": "markdown",
      "metadata": {
        "id": "53HvouJ8ACYf"
      },
      "source": [
        "#**MelGAN-based spectrogram inversion using feature matching**"
      ]
    },
    {
      "cell_type": "markdown",
      "source": [
        "## Introduction\n",
        "\n",
        "Autoregressive vocoders have been ubiquitous for a majority of the history of speech processing,\n",
        "but for most of their existence they have lacked parallelism.\n",
        "[MelGAN](https://arxiv.org/abs/1910.06711) is a\n",
        "non-autoregressive, fully convolutional vocoder architecture used for purposes ranging\n",
        "from spectral inversion and speech enhancement to present-day state-of-the-art\n",
        "speech synthesis when used as a decoder\n",
        "with models like Tacotron2 or FastSpeech that convert text to mel spectrograms.\n",
        "\n",
        "In this tutorial, we will have a look at the MelGAN architecture and how it can achieve\n",
        "fast spectral inversion, i.e. conversion of spectrograms to audio waves. The MelGAN\n",
        "implemented in this tutorial is similar to the original implementation with only the\n",
        "difference of method of padding for convolutions where we will use 'same' instead of\n",
        "reflect padding."
      ],
      "metadata": {
        "id": "pWSLGRFuvouJ"
      }
    },
    {
      "cell_type": "code",
      "execution_count": null,
      "metadata": {
        "colab": {
          "base_uri": "https://localhost:8080/"
        },
        "id": "Y8g6tBJBAHF6",
        "outputId": "75806ad9-8efa-43c3-c167-2118e7c5dc66"
      },
      "outputs": [
        {
          "output_type": "stream",
          "name": "stdout",
          "text": [
            "\u001b[2K     \u001b[90m━━━━━━━━━━━━━━━━━━━━━━━━━━━━━━━━━━━━━━━━\u001b[0m \u001b[32m611.8/611.8 kB\u001b[0m \u001b[31m15.8 MB/s\u001b[0m eta \u001b[36m0:00:00\u001b[0m\n",
            "\u001b[2K     \u001b[90m━━━━━━━━━━━━━━━━━━━━━━━━━━━━━━━━━━━━━━━━\u001b[0m \u001b[32m47.3/47.3 MB\u001b[0m \u001b[31m18.4 MB/s\u001b[0m eta \u001b[36m0:00:00\u001b[0m\n",
            "\u001b[?25h"
          ]
        }
      ],
      "source": [
        "!pip install -qqq tensorflow_addons\n",
        "!pip install -qqq tensorflow-io"
      ]
    },
    {
      "cell_type": "code",
      "execution_count": null,
      "metadata": {
        "colab": {
          "base_uri": "https://localhost:8080/"
        },
        "id": "OKbkJYC7ExYn",
        "outputId": "18df49dd-bc51-4cb0-d97d-1535b17c638f"
      },
      "outputs": [
        {
          "output_type": "stream",
          "name": "stderr",
          "text": [
            "/usr/local/lib/python3.10/dist-packages/tensorflow_addons/utils/tfa_eol_msg.py:23: UserWarning: \n",
            "\n",
            "TensorFlow Addons (TFA) has ended development and introduction of new features.\n",
            "TFA has entered a minimal maintenance and release mode until a planned end of life in May 2024.\n",
            "Please modify downstream libraries to take dependencies from other repositories in our TensorFlow community (e.g. Keras, Keras-CV, and Keras-NLP). \n",
            "\n",
            "For more information see: https://github.com/tensorflow/addons/issues/2807 \n",
            "\n",
            "  warnings.warn(\n"
          ]
        }
      ],
      "source": [
        "import tensorflow as tf\n",
        "import tensorflow_io as tfio\n",
        "from tensorflow import keras\n",
        "from tensorflow.keras import layers\n",
        "from tensorflow_addons import layers as addon_layers\n",
        "\n",
        "# Setting logger level to avoid input shape warnings\n",
        "tf.get_logger().setLevel(\"ERROR\")\n",
        "\n",
        "# Defining hyperparameters\n",
        "\n",
        "DESIRED_SAMPLES = 8192\n",
        "LEARNING_RATE_GEN = 1e-5\n",
        "LEARNING_RATE_DISC = 1e-6\n",
        "BATCH_SIZE = 16\n",
        "\n",
        "mse = keras.losses.MeanSquaredError()\n",
        "mae = keras.losses.MeanAbsoluteError()"
      ]
    },
    {
      "cell_type": "markdown",
      "source": [
        "## Loading the Dataset\n",
        "\n",
        "This example uses the [LJSpeech dataset](https://keithito.com/LJ-Speech-Dataset/).\n",
        "\n",
        "The LJSpeech dataset is primarily used for text-to-speech and consists of 13,100 discrete\n",
        "speech samples taken from 7 non-fiction books, having a total length of approximately 24\n",
        "hours. The MelGAN training is only concerned with the audio waves so we process only the\n",
        "WAV files and ignore the audio annotations."
      ],
      "metadata": {
        "id": "C-I2hJFKwxs8"
      }
    },
    {
      "cell_type": "code",
      "execution_count": null,
      "metadata": {
        "colab": {
          "base_uri": "https://localhost:8080/"
        },
        "id": "FEF5iBswE2-W",
        "outputId": "ebf8b79f-2cc1-4e49-e205-c68e9b9744d7"
      },
      "outputs": [
        {
          "output_type": "stream",
          "name": "stdout",
          "text": [
            "--2024-02-02 16:32:29--  https://data.keithito.com/data/speech/LJSpeech-1.1.tar.bz2\n",
            "Resolving data.keithito.com (data.keithito.com)... 24.199.73.137\n",
            "Connecting to data.keithito.com (data.keithito.com)|24.199.73.137|:443... connected.\n",
            "HTTP request sent, awaiting response... 200 OK\n",
            "Length: 2748572632 (2.6G) [text/plain]\n",
            "Saving to: ‘LJSpeech-1.1.tar.bz2’\n",
            "\n",
            "LJSpeech-1.1.tar.bz 100%[===================>]   2.56G  17.0MB/s    in 2m 37s  \n",
            "\n",
            "2024-02-02 16:35:07 (16.7 MB/s) - ‘LJSpeech-1.1.tar.bz2’ saved [2748572632/2748572632]\n",
            "\n"
          ]
        }
      ],
      "source": [
        "!wget https://data.keithito.com/data/speech/LJSpeech-1.1.tar.bz2\n",
        "!tar -xf /content/LJSpeech-1.1.tar.bz2"
      ]
    },
    {
      "cell_type": "markdown",
      "source": [
        "We create a `tf.data.Dataset` to load and process the audio files on the fly.\n",
        "The `preprocess()` function takes the file path as input and returns two instances of the\n",
        "wave, one for input and one as the ground truth for comparison. The input wave will be\n",
        "mapped to a spectrogram using the custom `MelSpec` layer as shown later in this example."
      ],
      "metadata": {
        "id": "IfqUdI96w2wA"
      }
    },
    {
      "cell_type": "code",
      "source": [
        "wavs = tf.io.gfile.glob(\"LJSpeech-1.1/wavs/*.wav\")\n",
        "print(\"Total audio file is ::\", len(wavs))\n",
        "\n",
        "def preprocess(filename):\n",
        "    audio = tf.audio.decode_wav(tf.io.read_file(filename), 1, DESIRED_SAMPLES).audio\n",
        "    return audio, audio\n",
        "\n",
        "train_dataset = tf.data.Dataset.from_tensor_slices((wavs,))\n",
        "train_dataset = train_dataset.map(preprocess, num_parallel_calls = tf.data.AUTOTUNE)"
      ],
      "metadata": {
        "colab": {
          "base_uri": "https://localhost:8080/"
        },
        "id": "mZLIXxBiL9IH",
        "outputId": "8a1a1929-0e43-43a1-c7e4-108330ed7dd4"
      },
      "execution_count": null,
      "outputs": [
        {
          "output_type": "stream",
          "name": "stdout",
          "text": [
            "Total audio file is :: 13100\n"
          ]
        }
      ]
    },
    {
      "cell_type": "code",
      "source": [
        "for x, y in train_dataset:\n",
        "    print(x.numpy())\n",
        "    print(y.numpy())\n",
        "    break"
      ],
      "metadata": {
        "colab": {
          "base_uri": "https://localhost:8080/"
        },
        "id": "ybRO9MPrOn07",
        "outputId": "43058720-f13b-41b9-c9f9-72802d8b2570"
      },
      "execution_count": null,
      "outputs": [
        {
          "output_type": "stream",
          "name": "stdout",
          "text": [
            "[[ 0.00045776]\n",
            " [ 0.00039673]\n",
            " [ 0.00024414]\n",
            " ...\n",
            " [ 0.05899048]\n",
            " [ 0.07904053]\n",
            " [-0.00436401]]\n",
            "[[ 0.00045776]\n",
            " [ 0.00039673]\n",
            " [ 0.00024414]\n",
            " ...\n",
            " [ 0.05899048]\n",
            " [ 0.07904053]\n",
            " [-0.00436401]]\n"
          ]
        }
      ]
    },
    {
      "cell_type": "markdown",
      "source": [
        "## Defining custom layers for MelGAN\n",
        "\n",
        "The MelGAN architecture consists of 3 main modules:\n",
        "\n",
        "1. The residual block\n",
        "2. Dilated convolutional block\n",
        "3. Discriminator block\n",
        "\n",
        "![MelGAN](https://i.imgur.com/ZdxwzPG.png)\n",
        "\n",
        "\n",
        "\n",
        "Since the network takes a mel-spectrogram as input, we will create an additional custom\n",
        "layer\n",
        "which can convert the raw audio wave to a spectrogram on-the-fly. We use the raw audio\n",
        "tensor from `train_dataset` and map it to a mel-spectrogram using the `MelSpec` layer\n",
        "below."
      ],
      "metadata": {
        "id": "PM57lYtRw5jj"
      }
    },
    {
      "cell_type": "code",
      "source": [
        "# Custom keras layer for on-the-fly audio to spectrogram conversion\n",
        "\n",
        "\n",
        "class MelSpec(layers.Layer):\n",
        "    def __init__(\n",
        "        self,\n",
        "        frame_length=1024,\n",
        "        frame_step=256,\n",
        "        fft_length=None,\n",
        "        sampling_rate=22050,\n",
        "        num_mel_channels=80,\n",
        "        freq_min=125,\n",
        "        freq_max=7600,\n",
        "        **kwargs,\n",
        "    ):\n",
        "        super().__init__(**kwargs)\n",
        "        self.frame_length = frame_length\n",
        "        self.frame_step = frame_step\n",
        "        self.fft_length = fft_length\n",
        "        self.sampling_rate = sampling_rate\n",
        "        self.num_mel_channels = num_mel_channels\n",
        "        self.freq_min = freq_min\n",
        "        self.freq_max = freq_max\n",
        "        # Defining mel filter. This filter will be multiplied with the STFT output\n",
        "        self.mel_filterbank = tf.signal.linear_to_mel_weight_matrix(\n",
        "            num_mel_bins=self.num_mel_channels,\n",
        "            num_spectrogram_bins=self.frame_length // 2 + 1,\n",
        "            sample_rate=self.sampling_rate,\n",
        "            lower_edge_hertz=self.freq_min,\n",
        "            upper_edge_hertz=self.freq_max,\n",
        "        )\n",
        "\n",
        "    def call(self, audio, training=True):\n",
        "        # We will only perform the transformation during training.\n",
        "        if training:\n",
        "            # Taking the Short Time Fourier Transform. Ensure that the audio is padded.\n",
        "            # In the paper, the STFT output is padded using the 'REFLECT' strategy.\n",
        "            stft = tf.signal.stft(\n",
        "                tf.squeeze(audio, -1),\n",
        "                self.frame_length,\n",
        "                self.frame_step,\n",
        "                self.fft_length,\n",
        "                pad_end=True,\n",
        "            )\n",
        "\n",
        "            # Taking the magnitude of the STFT output\n",
        "            magnitude = tf.abs(stft)\n",
        "\n",
        "            # Multiplying the Mel-filterbank with the magnitude and scaling it using the db scale\n",
        "            mel = tf.matmul(tf.square(magnitude), self.mel_filterbank)\n",
        "            log_mel_spec = tfio.audio.dbscale(mel, top_db=80)\n",
        "            return log_mel_spec\n",
        "        else:\n",
        "            return audio\n",
        "\n",
        "    def get_config(self):\n",
        "        config = super().get_config()\n",
        "        config.update(\n",
        "            {\n",
        "                \"frame_length\": self.frame_length,\n",
        "                \"frame_step\": self.frame_step,\n",
        "                \"fft_length\": self.fft_length,\n",
        "                \"sampling_rate\": self.sampling_rate,\n",
        "                \"num_mel_channels\": self.num_mel_channels,\n",
        "                \"freq_min\": self.freq_min,\n",
        "                \"freq_max\": self.freq_max,\n",
        "            }\n",
        "        )\n",
        "        return config"
      ],
      "metadata": {
        "id": "QfSIv3YpUkob"
      },
      "execution_count": null,
      "outputs": []
    },
    {
      "cell_type": "markdown",
      "source": [
        "The residual convolutional block extensively uses dilations and has a total receptive\n",
        "field of 27 timesteps per block. The dilations must grow as a power of the `kernel_size`\n",
        "to ensure reduction of hissing noise in the output. The network proposed by the paper is\n",
        "as follows:\n",
        "\n",
        "![ConvBlock](https://i.imgur.com/sFnnsCll.jpg)"
      ],
      "metadata": {
        "id": "9bBxH3PvxBtZ"
      }
    },
    {
      "cell_type": "code",
      "source": [
        "def residual_stack(input, filters):\n",
        "    c1 = addon_layers.WeightNormalization(\n",
        "        layers.Conv1D(filters, 3, dilation_rate = 1, padding = \"same\"), data_init = False)(input)\n",
        "    lrelu1 = layers.LeakyReLU()(c1)\n",
        "\n",
        "    c2 = addon_layers.WeightNormalization(\n",
        "        layers.Conv1D(filters, 3, dilation_rate = 1, padding = \"same\"), data_init = False)(lrelu1)\n",
        "    add1 = layers.Add()([c2, input])\n",
        "    lrelu2 = layers.LeakyReLU()(add1)\n",
        "\n",
        "    c3 = addon_layers.WeightNormalization(\n",
        "        layers.Conv1D(filters, 3, dilation_rate = 3, padding = \"same\"), data_init = False)(lrelu2)\n",
        "    lrelu3 = layers.LeakyReLU()(c3)\n",
        "\n",
        "    c4 = addon_layers.WeightNormalization(\n",
        "        layers.Conv1D(filters, 3, dilation_rate = 1, padding = \"same\"), data_init = False)(lrelu3)\n",
        "    add2 = layers.Add()([c4, add1])\n",
        "    lrelu4 = layers.LeakyReLU()(add2)\n",
        "\n",
        "    c5 = addon_layers.WeightNormalization(\n",
        "        layers.Conv1D(filters, 3, dilation_rate = 9, padding = \"same\"), data_init = False)(lrelu4)\n",
        "    lrelu5 = layers.LeakyReLU()(c5)\n",
        "\n",
        "    c6 = addon_layers.WeightNormalization(\n",
        "        layers.Conv1D(filters, 3, dilation_rate = 1, padding = \"same\"), data_init = False)(lrelu5)\n",
        "    add3 = layers.Add()([c6, add2])\n",
        "    return add3"
      ],
      "metadata": {
        "id": "bpHu8la4VbSt"
      },
      "execution_count": null,
      "outputs": []
    },
    {
      "cell_type": "markdown",
      "source": [
        "Each convolutional block uses the dilations offered by the residual stack\n",
        "and upsamples the input data by the `upsampling_factor`."
      ],
      "metadata": {
        "id": "g_o3yyeQxPgt"
      }
    },
    {
      "cell_type": "code",
      "source": [
        "def conv_block(input, conv_dim, upsampling_factor):\n",
        "    conv_t = addon_layers.WeightNormalization(\n",
        "        layers.Conv1DTranspose(conv_dim, 16, upsampling_factor, padding = \"same\"), data_init = False)(input)\n",
        "    lrelu1 = layers.LeakyReLU()(conv_t)\n",
        "\n",
        "    res_stack = residual_stack(lrelu1, conv_dim)\n",
        "    lrelu2 = layers.LeakyReLU()(res_stack)\n",
        "    return lrelu2"
      ],
      "metadata": {
        "id": "Z2_kv5GRfIzh"
      },
      "execution_count": null,
      "outputs": []
    },
    {
      "cell_type": "markdown",
      "source": [
        "The discriminator block consists of convolutions and downsampling layers. This block is\n",
        "essential for the implementation of the feature matching technique.\n",
        "\n",
        "Each discriminator outputs a list of feature maps that will be compared during training\n",
        "to compute the feature matching loss."
      ],
      "metadata": {
        "id": "al8CBEKrxVOe"
      }
    },
    {
      "cell_type": "code",
      "source": [
        "def discriminator_block(input):\n",
        "    conv1 = addon_layers.WeightNormalization(layers.Conv1D(16, 15, 1, \"same\"), data_init=False)(input)\n",
        "    lrelu1 = layers.LeakyReLU()(conv1)\n",
        "\n",
        "    conv2 = addon_layers.WeightNormalization(layers.Conv1D(64, 41, 4, \"same\", groups=4), data_init=False)(lrelu1)\n",
        "    lrelu2 = layers.LeakyReLU()(conv2)\n",
        "\n",
        "    conv3 = addon_layers.WeightNormalization(layers.Conv1D(256, 41, 4, \"same\", groups=16), data_init=False)(lrelu2)\n",
        "    lrelu3 = layers.LeakyReLU()(conv3)\n",
        "\n",
        "    conv4 = addon_layers.WeightNormalization(layers.Conv1D(1024, 41, 4, \"same\", groups=64), data_init=False)(lrelu3)\n",
        "    lrelu4 = layers.LeakyReLU()(conv4)\n",
        "\n",
        "    conv5 = addon_layers.WeightNormalization(layers.Conv1D(1024, 41, 4, \"same\", groups=256), data_init=False)(lrelu4)\n",
        "    lrelu5 = layers.LeakyReLU()(conv5)\n",
        "\n",
        "    conv6 = addon_layers.WeightNormalization(layers.Conv1D(1024, 5, 1, \"same\"), data_init=False)(lrelu5)\n",
        "    lrelu6 = layers.LeakyReLU()(conv6)\n",
        "\n",
        "    conv7 = addon_layers.WeightNormalization(layers.Conv1D(1, 3, 1, \"same\"), data_init=False)(lrelu6)\n",
        "    return [lrelu1, lrelu2, lrelu3, lrelu4, lrelu5, lrelu6, conv7]"
      ],
      "metadata": {
        "id": "IQq01i88kuzi"
      },
      "execution_count": null,
      "outputs": []
    },
    {
      "cell_type": "markdown",
      "source": [
        "### Create the generator"
      ],
      "metadata": {
        "id": "iiIhSVBmxcTa"
      }
    },
    {
      "cell_type": "code",
      "source": [
        "def create_generator(input_shape):\n",
        "    inp = keras.Input(input_shape)\n",
        "    x = MelSpec()(inp)\n",
        "    x = layers.Conv1D(512, 7, padding=\"same\")(x)\n",
        "    x = layers.LeakyReLU()(x)\n",
        "    x = conv_block(x, 256, 8)\n",
        "    x = conv_block(x, 128, 8)\n",
        "    x = conv_block(x, 64, 2)\n",
        "    x = conv_block(x, 32, 2)\n",
        "    x = addon_layers.WeightNormalization(\n",
        "        layers.Conv1D(1, 7, padding=\"same\", activation=\"tanh\")\n",
        "    )(x)\n",
        "    return keras.Model(inp, x)\n",
        "\n",
        "\n",
        "# We use a dynamic input shape for the generator since the model is fully convolutional\n",
        "generator = create_generator((None, 1))\n",
        "generator.summary()"
      ],
      "metadata": {
        "colab": {
          "base_uri": "https://localhost:8080/"
        },
        "id": "1t1Bghbekr9a",
        "outputId": "82cb72db-b8f6-43e4-94b7-94f7191c3386"
      },
      "execution_count": null,
      "outputs": [
        {
          "output_type": "stream",
          "name": "stdout",
          "text": [
            "Model: \"model\"\n",
            "__________________________________________________________________________________________________\n",
            " Layer (type)                Output Shape                 Param #   Connected to                  \n",
            "==================================================================================================\n",
            " input_1 (InputLayer)        [(None, None, 1)]            0         []                            \n",
            "                                                                                                  \n",
            " mel_spec (MelSpec)          (None, None, 80)             0         ['input_1[0][0]']             \n",
            "                                                                                                  \n",
            " conv1d (Conv1D)             (None, None, 512)            287232    ['mel_spec[0][0]']            \n",
            "                                                                                                  \n",
            " leaky_re_lu (LeakyReLU)     (None, None, 512)            0         ['conv1d[0][0]']              \n",
            "                                                                                                  \n",
            " weight_normalization (Weig  (None, None, 256)            2097921   ['leaky_re_lu[0][0]']         \n",
            " htNormalization)                                                                                 \n",
            "                                                                                                  \n",
            " leaky_re_lu_1 (LeakyReLU)   (None, None, 256)            0         ['weight_normalization[0][0]']\n",
            "                                                                                                  \n",
            " weight_normalization_1 (We  (None, None, 256)            197121    ['leaky_re_lu_1[0][0]']       \n",
            " ightNormalization)                                                                               \n",
            "                                                                                                  \n",
            " leaky_re_lu_2 (LeakyReLU)   (None, None, 256)            0         ['weight_normalization_1[0][0]\n",
            "                                                                    ']                            \n",
            "                                                                                                  \n",
            " weight_normalization_2 (We  (None, None, 256)            197121    ['leaky_re_lu_2[0][0]']       \n",
            " ightNormalization)                                                                               \n",
            "                                                                                                  \n",
            " add (Add)                   (None, None, 256)            0         ['weight_normalization_2[0][0]\n",
            "                                                                    ',                            \n",
            "                                                                     'leaky_re_lu_1[0][0]']       \n",
            "                                                                                                  \n",
            " leaky_re_lu_3 (LeakyReLU)   (None, None, 256)            0         ['add[0][0]']                 \n",
            "                                                                                                  \n",
            " weight_normalization_3 (We  (None, None, 256)            197121    ['leaky_re_lu_3[0][0]']       \n",
            " ightNormalization)                                                                               \n",
            "                                                                                                  \n",
            " leaky_re_lu_4 (LeakyReLU)   (None, None, 256)            0         ['weight_normalization_3[0][0]\n",
            "                                                                    ']                            \n",
            "                                                                                                  \n",
            " weight_normalization_4 (We  (None, None, 256)            197121    ['leaky_re_lu_4[0][0]']       \n",
            " ightNormalization)                                                                               \n",
            "                                                                                                  \n",
            " add_1 (Add)                 (None, None, 256)            0         ['weight_normalization_4[0][0]\n",
            "                                                                    ',                            \n",
            "                                                                     'add[0][0]']                 \n",
            "                                                                                                  \n",
            " leaky_re_lu_5 (LeakyReLU)   (None, None, 256)            0         ['add_1[0][0]']               \n",
            "                                                                                                  \n",
            " weight_normalization_5 (We  (None, None, 256)            197121    ['leaky_re_lu_5[0][0]']       \n",
            " ightNormalization)                                                                               \n",
            "                                                                                                  \n",
            " leaky_re_lu_6 (LeakyReLU)   (None, None, 256)            0         ['weight_normalization_5[0][0]\n",
            "                                                                    ']                            \n",
            "                                                                                                  \n",
            " weight_normalization_6 (We  (None, None, 256)            197121    ['leaky_re_lu_6[0][0]']       \n",
            " ightNormalization)                                                                               \n",
            "                                                                                                  \n",
            " add_2 (Add)                 (None, None, 256)            0         ['weight_normalization_6[0][0]\n",
            "                                                                    ',                            \n",
            "                                                                     'add_1[0][0]']               \n",
            "                                                                                                  \n",
            " leaky_re_lu_7 (LeakyReLU)   (None, None, 256)            0         ['add_2[0][0]']               \n",
            "                                                                                                  \n",
            " weight_normalization_7 (We  (None, None, 128)            524673    ['leaky_re_lu_7[0][0]']       \n",
            " ightNormalization)                                                                               \n",
            "                                                                                                  \n",
            " leaky_re_lu_8 (LeakyReLU)   (None, None, 128)            0         ['weight_normalization_7[0][0]\n",
            "                                                                    ']                            \n",
            "                                                                                                  \n",
            " weight_normalization_8 (We  (None, None, 128)            49409     ['leaky_re_lu_8[0][0]']       \n",
            " ightNormalization)                                                                               \n",
            "                                                                                                  \n",
            " leaky_re_lu_9 (LeakyReLU)   (None, None, 128)            0         ['weight_normalization_8[0][0]\n",
            "                                                                    ']                            \n",
            "                                                                                                  \n",
            " weight_normalization_9 (We  (None, None, 128)            49409     ['leaky_re_lu_9[0][0]']       \n",
            " ightNormalization)                                                                               \n",
            "                                                                                                  \n",
            " add_3 (Add)                 (None, None, 128)            0         ['weight_normalization_9[0][0]\n",
            "                                                                    ',                            \n",
            "                                                                     'leaky_re_lu_8[0][0]']       \n",
            "                                                                                                  \n",
            " leaky_re_lu_10 (LeakyReLU)  (None, None, 128)            0         ['add_3[0][0]']               \n",
            "                                                                                                  \n",
            " weight_normalization_10 (W  (None, None, 128)            49409     ['leaky_re_lu_10[0][0]']      \n",
            " eightNormalization)                                                                              \n",
            "                                                                                                  \n",
            " leaky_re_lu_11 (LeakyReLU)  (None, None, 128)            0         ['weight_normalization_10[0][0\n",
            "                                                                    ]']                           \n",
            "                                                                                                  \n",
            " weight_normalization_11 (W  (None, None, 128)            49409     ['leaky_re_lu_11[0][0]']      \n",
            " eightNormalization)                                                                              \n",
            "                                                                                                  \n",
            " add_4 (Add)                 (None, None, 128)            0         ['weight_normalization_11[0][0\n",
            "                                                                    ]',                           \n",
            "                                                                     'add_3[0][0]']               \n",
            "                                                                                                  \n",
            " leaky_re_lu_12 (LeakyReLU)  (None, None, 128)            0         ['add_4[0][0]']               \n",
            "                                                                                                  \n",
            " weight_normalization_12 (W  (None, None, 128)            49409     ['leaky_re_lu_12[0][0]']      \n",
            " eightNormalization)                                                                              \n",
            "                                                                                                  \n",
            " leaky_re_lu_13 (LeakyReLU)  (None, None, 128)            0         ['weight_normalization_12[0][0\n",
            "                                                                    ]']                           \n",
            "                                                                                                  \n",
            " weight_normalization_13 (W  (None, None, 128)            49409     ['leaky_re_lu_13[0][0]']      \n",
            " eightNormalization)                                                                              \n",
            "                                                                                                  \n",
            " add_5 (Add)                 (None, None, 128)            0         ['weight_normalization_13[0][0\n",
            "                                                                    ]',                           \n",
            "                                                                     'add_4[0][0]']               \n",
            "                                                                                                  \n",
            " leaky_re_lu_14 (LeakyReLU)  (None, None, 128)            0         ['add_5[0][0]']               \n",
            "                                                                                                  \n",
            " weight_normalization_14 (W  (None, None, 64)             131265    ['leaky_re_lu_14[0][0]']      \n",
            " eightNormalization)                                                                              \n",
            "                                                                                                  \n",
            " leaky_re_lu_15 (LeakyReLU)  (None, None, 64)             0         ['weight_normalization_14[0][0\n",
            "                                                                    ]']                           \n",
            "                                                                                                  \n",
            " weight_normalization_15 (W  (None, None, 64)             12417     ['leaky_re_lu_15[0][0]']      \n",
            " eightNormalization)                                                                              \n",
            "                                                                                                  \n",
            " leaky_re_lu_16 (LeakyReLU)  (None, None, 64)             0         ['weight_normalization_15[0][0\n",
            "                                                                    ]']                           \n",
            "                                                                                                  \n",
            " weight_normalization_16 (W  (None, None, 64)             12417     ['leaky_re_lu_16[0][0]']      \n",
            " eightNormalization)                                                                              \n",
            "                                                                                                  \n",
            " add_6 (Add)                 (None, None, 64)             0         ['weight_normalization_16[0][0\n",
            "                                                                    ]',                           \n",
            "                                                                     'leaky_re_lu_15[0][0]']      \n",
            "                                                                                                  \n",
            " leaky_re_lu_17 (LeakyReLU)  (None, None, 64)             0         ['add_6[0][0]']               \n",
            "                                                                                                  \n",
            " weight_normalization_17 (W  (None, None, 64)             12417     ['leaky_re_lu_17[0][0]']      \n",
            " eightNormalization)                                                                              \n",
            "                                                                                                  \n",
            " leaky_re_lu_18 (LeakyReLU)  (None, None, 64)             0         ['weight_normalization_17[0][0\n",
            "                                                                    ]']                           \n",
            "                                                                                                  \n",
            " weight_normalization_18 (W  (None, None, 64)             12417     ['leaky_re_lu_18[0][0]']      \n",
            " eightNormalization)                                                                              \n",
            "                                                                                                  \n",
            " add_7 (Add)                 (None, None, 64)             0         ['weight_normalization_18[0][0\n",
            "                                                                    ]',                           \n",
            "                                                                     'add_6[0][0]']               \n",
            "                                                                                                  \n",
            " leaky_re_lu_19 (LeakyReLU)  (None, None, 64)             0         ['add_7[0][0]']               \n",
            "                                                                                                  \n",
            " weight_normalization_19 (W  (None, None, 64)             12417     ['leaky_re_lu_19[0][0]']      \n",
            " eightNormalization)                                                                              \n",
            "                                                                                                  \n",
            " leaky_re_lu_20 (LeakyReLU)  (None, None, 64)             0         ['weight_normalization_19[0][0\n",
            "                                                                    ]']                           \n",
            "                                                                                                  \n",
            " weight_normalization_20 (W  (None, None, 64)             12417     ['leaky_re_lu_20[0][0]']      \n",
            " eightNormalization)                                                                              \n",
            "                                                                                                  \n",
            " add_8 (Add)                 (None, None, 64)             0         ['weight_normalization_20[0][0\n",
            "                                                                    ]',                           \n",
            "                                                                     'add_7[0][0]']               \n",
            "                                                                                                  \n",
            " leaky_re_lu_21 (LeakyReLU)  (None, None, 64)             0         ['add_8[0][0]']               \n",
            "                                                                                                  \n",
            " weight_normalization_21 (W  (None, None, 32)             32865     ['leaky_re_lu_21[0][0]']      \n",
            " eightNormalization)                                                                              \n",
            "                                                                                                  \n",
            " leaky_re_lu_22 (LeakyReLU)  (None, None, 32)             0         ['weight_normalization_21[0][0\n",
            "                                                                    ]']                           \n",
            "                                                                                                  \n",
            " weight_normalization_22 (W  (None, None, 32)             3137      ['leaky_re_lu_22[0][0]']      \n",
            " eightNormalization)                                                                              \n",
            "                                                                                                  \n",
            " leaky_re_lu_23 (LeakyReLU)  (None, None, 32)             0         ['weight_normalization_22[0][0\n",
            "                                                                    ]']                           \n",
            "                                                                                                  \n",
            " weight_normalization_23 (W  (None, None, 32)             3137      ['leaky_re_lu_23[0][0]']      \n",
            " eightNormalization)                                                                              \n",
            "                                                                                                  \n",
            " add_9 (Add)                 (None, None, 32)             0         ['weight_normalization_23[0][0\n",
            "                                                                    ]',                           \n",
            "                                                                     'leaky_re_lu_22[0][0]']      \n",
            "                                                                                                  \n",
            " leaky_re_lu_24 (LeakyReLU)  (None, None, 32)             0         ['add_9[0][0]']               \n",
            "                                                                                                  \n",
            " weight_normalization_24 (W  (None, None, 32)             3137      ['leaky_re_lu_24[0][0]']      \n",
            " eightNormalization)                                                                              \n",
            "                                                                                                  \n",
            " leaky_re_lu_25 (LeakyReLU)  (None, None, 32)             0         ['weight_normalization_24[0][0\n",
            "                                                                    ]']                           \n",
            "                                                                                                  \n",
            " weight_normalization_25 (W  (None, None, 32)             3137      ['leaky_re_lu_25[0][0]']      \n",
            " eightNormalization)                                                                              \n",
            "                                                                                                  \n",
            " add_10 (Add)                (None, None, 32)             0         ['weight_normalization_25[0][0\n",
            "                                                                    ]',                           \n",
            "                                                                     'add_9[0][0]']               \n",
            "                                                                                                  \n",
            " leaky_re_lu_26 (LeakyReLU)  (None, None, 32)             0         ['add_10[0][0]']              \n",
            "                                                                                                  \n",
            " weight_normalization_26 (W  (None, None, 32)             3137      ['leaky_re_lu_26[0][0]']      \n",
            " eightNormalization)                                                                              \n",
            "                                                                                                  \n",
            " leaky_re_lu_27 (LeakyReLU)  (None, None, 32)             0         ['weight_normalization_26[0][0\n",
            "                                                                    ]']                           \n",
            "                                                                                                  \n",
            " weight_normalization_27 (W  (None, None, 32)             3137      ['leaky_re_lu_27[0][0]']      \n",
            " eightNormalization)                                                                              \n",
            "                                                                                                  \n",
            " add_11 (Add)                (None, None, 32)             0         ['weight_normalization_27[0][0\n",
            "                                                                    ]',                           \n",
            "                                                                     'add_10[0][0]']              \n",
            "                                                                                                  \n",
            " leaky_re_lu_28 (LeakyReLU)  (None, None, 32)             0         ['add_11[0][0]']              \n",
            "                                                                                                  \n",
            " weight_normalization_28 (W  (None, None, 1)              452       ['leaky_re_lu_28[0][0]']      \n",
            " eightNormalization)                                                                              \n",
            "                                                                                                  \n",
            "==================================================================================================\n",
            "Total params: 4646912 (17.73 MB)\n",
            "Trainable params: 4646658 (17.73 MB)\n",
            "Non-trainable params: 254 (929.00 Byte)\n",
            "__________________________________________________________________________________________________\n"
          ]
        }
      ]
    },
    {
      "cell_type": "markdown",
      "source": [
        "### Create the discriminator"
      ],
      "metadata": {
        "id": "inbGICagxfGt"
      }
    },
    {
      "cell_type": "code",
      "source": [
        "def create_discriminator(input_shape):\n",
        "    inp = keras.Input(input_shape)\n",
        "    out_map1 = discriminator_block(inp)\n",
        "    pool1 = layers.AveragePooling1D()(inp)\n",
        "    out_map2 = discriminator_block(pool1)\n",
        "    pool2 = layers.AveragePooling1D()(pool1)\n",
        "    out_map3 = discriminator_block(pool2)\n",
        "    return keras.Model(inp, [out_map1, out_map2, out_map3])\n",
        "\n",
        "\n",
        "# We use a dynamic input shape for the discriminator\n",
        "# This is done because the input shape for the generator is unknown\n",
        "discriminator = create_discriminator((None, 1))\n",
        "\n",
        "discriminator.summary()"
      ],
      "metadata": {
        "colab": {
          "base_uri": "https://localhost:8080/"
        },
        "id": "pTlnfmGInORw",
        "outputId": "1ab82fc9-4482-4f87-dffa-55fc273255f5"
      },
      "execution_count": null,
      "outputs": [
        {
          "output_type": "stream",
          "name": "stdout",
          "text": [
            "Model: \"model_1\"\n",
            "__________________________________________________________________________________________________\n",
            " Layer (type)                Output Shape                 Param #   Connected to                  \n",
            "==================================================================================================\n",
            " input_2 (InputLayer)        [(None, None, 1)]            0         []                            \n",
            "                                                                                                  \n",
            " average_pooling1d (Average  (None, None, 1)              0         ['input_2[0][0]']             \n",
            " Pooling1D)                                                                                       \n",
            "                                                                                                  \n",
            " average_pooling1d_1 (Avera  (None, None, 1)              0         ['average_pooling1d[0][0]']   \n",
            " gePooling1D)                                                                                     \n",
            "                                                                                                  \n",
            " weight_normalization_29 (W  (None, None, 16)             273       ['input_2[0][0]']             \n",
            " eightNormalization)                                                                              \n",
            "                                                                                                  \n",
            " weight_normalization_36 (W  (None, None, 16)             273       ['average_pooling1d[0][0]']   \n",
            " eightNormalization)                                                                              \n",
            "                                                                                                  \n",
            " weight_normalization_43 (W  (None, None, 16)             273       ['average_pooling1d_1[0][0]'] \n",
            " eightNormalization)                                                                              \n",
            "                                                                                                  \n",
            " leaky_re_lu_29 (LeakyReLU)  (None, None, 16)             0         ['weight_normalization_29[0][0\n",
            "                                                                    ]']                           \n",
            "                                                                                                  \n",
            " leaky_re_lu_35 (LeakyReLU)  (None, None, 16)             0         ['weight_normalization_36[0][0\n",
            "                                                                    ]']                           \n",
            "                                                                                                  \n",
            " leaky_re_lu_41 (LeakyReLU)  (None, None, 16)             0         ['weight_normalization_43[0][0\n",
            "                                                                    ]']                           \n",
            "                                                                                                  \n",
            " weight_normalization_30 (W  (None, None, 64)             10625     ['leaky_re_lu_29[0][0]']      \n",
            " eightNormalization)                                                                              \n",
            "                                                                                                  \n",
            " weight_normalization_37 (W  (None, None, 64)             10625     ['leaky_re_lu_35[0][0]']      \n",
            " eightNormalization)                                                                              \n",
            "                                                                                                  \n",
            " weight_normalization_44 (W  (None, None, 64)             10625     ['leaky_re_lu_41[0][0]']      \n",
            " eightNormalization)                                                                              \n",
            "                                                                                                  \n",
            " leaky_re_lu_30 (LeakyReLU)  (None, None, 64)             0         ['weight_normalization_30[0][0\n",
            "                                                                    ]']                           \n",
            "                                                                                                  \n",
            " leaky_re_lu_36 (LeakyReLU)  (None, None, 64)             0         ['weight_normalization_37[0][0\n",
            "                                                                    ]']                           \n",
            "                                                                                                  \n",
            " leaky_re_lu_42 (LeakyReLU)  (None, None, 64)             0         ['weight_normalization_44[0][0\n",
            "                                                                    ]']                           \n",
            "                                                                                                  \n",
            " weight_normalization_31 (W  (None, None, 256)            42497     ['leaky_re_lu_30[0][0]']      \n",
            " eightNormalization)                                                                              \n",
            "                                                                                                  \n",
            " weight_normalization_38 (W  (None, None, 256)            42497     ['leaky_re_lu_36[0][0]']      \n",
            " eightNormalization)                                                                              \n",
            "                                                                                                  \n",
            " weight_normalization_45 (W  (None, None, 256)            42497     ['leaky_re_lu_42[0][0]']      \n",
            " eightNormalization)                                                                              \n",
            "                                                                                                  \n",
            " leaky_re_lu_31 (LeakyReLU)  (None, None, 256)            0         ['weight_normalization_31[0][0\n",
            "                                                                    ]']                           \n",
            "                                                                                                  \n",
            " leaky_re_lu_37 (LeakyReLU)  (None, None, 256)            0         ['weight_normalization_38[0][0\n",
            "                                                                    ]']                           \n",
            "                                                                                                  \n",
            " leaky_re_lu_43 (LeakyReLU)  (None, None, 256)            0         ['weight_normalization_45[0][0\n",
            "                                                                    ]']                           \n",
            "                                                                                                  \n",
            " weight_normalization_32 (W  (None, None, 1024)           169985    ['leaky_re_lu_31[0][0]']      \n",
            " eightNormalization)                                                                              \n",
            "                                                                                                  \n",
            " weight_normalization_39 (W  (None, None, 1024)           169985    ['leaky_re_lu_37[0][0]']      \n",
            " eightNormalization)                                                                              \n",
            "                                                                                                  \n",
            " weight_normalization_46 (W  (None, None, 1024)           169985    ['leaky_re_lu_43[0][0]']      \n",
            " eightNormalization)                                                                              \n",
            "                                                                                                  \n",
            " leaky_re_lu_32 (LeakyReLU)  (None, None, 1024)           0         ['weight_normalization_32[0][0\n",
            "                                                                    ]']                           \n",
            "                                                                                                  \n",
            " leaky_re_lu_38 (LeakyReLU)  (None, None, 1024)           0         ['weight_normalization_39[0][0\n",
            "                                                                    ]']                           \n",
            "                                                                                                  \n",
            " leaky_re_lu_44 (LeakyReLU)  (None, None, 1024)           0         ['weight_normalization_46[0][0\n",
            "                                                                    ]']                           \n",
            "                                                                                                  \n",
            " weight_normalization_33 (W  (None, None, 1024)           169985    ['leaky_re_lu_32[0][0]']      \n",
            " eightNormalization)                                                                              \n",
            "                                                                                                  \n",
            " weight_normalization_40 (W  (None, None, 1024)           169985    ['leaky_re_lu_38[0][0]']      \n",
            " eightNormalization)                                                                              \n",
            "                                                                                                  \n",
            " weight_normalization_47 (W  (None, None, 1024)           169985    ['leaky_re_lu_44[0][0]']      \n",
            " eightNormalization)                                                                              \n",
            "                                                                                                  \n",
            " leaky_re_lu_33 (LeakyReLU)  (None, None, 1024)           0         ['weight_normalization_33[0][0\n",
            "                                                                    ]']                           \n",
            "                                                                                                  \n",
            " leaky_re_lu_39 (LeakyReLU)  (None, None, 1024)           0         ['weight_normalization_40[0][0\n",
            "                                                                    ]']                           \n",
            "                                                                                                  \n",
            " leaky_re_lu_45 (LeakyReLU)  (None, None, 1024)           0         ['weight_normalization_47[0][0\n",
            "                                                                    ]']                           \n",
            "                                                                                                  \n",
            " weight_normalization_34 (W  (None, None, 1024)           5244929   ['leaky_re_lu_33[0][0]']      \n",
            " eightNormalization)                                                                              \n",
            "                                                                                                  \n",
            " weight_normalization_41 (W  (None, None, 1024)           5244929   ['leaky_re_lu_39[0][0]']      \n",
            " eightNormalization)                                                                              \n",
            "                                                                                                  \n",
            " weight_normalization_48 (W  (None, None, 1024)           5244929   ['leaky_re_lu_45[0][0]']      \n",
            " eightNormalization)                                                                              \n",
            "                                                                                                  \n",
            " leaky_re_lu_34 (LeakyReLU)  (None, None, 1024)           0         ['weight_normalization_34[0][0\n",
            "                                                                    ]']                           \n",
            "                                                                                                  \n",
            " leaky_re_lu_40 (LeakyReLU)  (None, None, 1024)           0         ['weight_normalization_41[0][0\n",
            "                                                                    ]']                           \n",
            "                                                                                                  \n",
            " leaky_re_lu_46 (LeakyReLU)  (None, None, 1024)           0         ['weight_normalization_48[0][0\n",
            "                                                                    ]']                           \n",
            "                                                                                                  \n",
            " weight_normalization_35 (W  (None, None, 1)              3075      ['leaky_re_lu_34[0][0]']      \n",
            " eightNormalization)                                                                              \n",
            "                                                                                                  \n",
            " weight_normalization_42 (W  (None, None, 1)              3075      ['leaky_re_lu_40[0][0]']      \n",
            " eightNormalization)                                                                              \n",
            "                                                                                                  \n",
            " weight_normalization_49 (W  (None, None, 1)              3075      ['leaky_re_lu_46[0][0]']      \n",
            " eightNormalization)                                                                              \n",
            "                                                                                                  \n",
            "==================================================================================================\n",
            "Total params: 16924107 (64.56 MB)\n",
            "Trainable params: 16924086 (64.56 MB)\n",
            "Non-trainable params: 21 (21.00 Byte)\n",
            "__________________________________________________________________________________________________\n"
          ]
        }
      ]
    },
    {
      "cell_type": "markdown",
      "source": [
        "## Defining the loss functions\n",
        "\n",
        "**Generator Loss**\n",
        "\n",
        "The generator architecture uses a combination of two losses\n",
        "\n",
        "1. Mean Squared Error:\n",
        "\n",
        "This is the standard MSE generator loss calculated between ones and the outputs from the\n",
        "discriminator with _N_ layers.\n",
        "\n",
        "<p align=\"center\">\n",
        "<img src=\"https://i.imgur.com/dz4JS3I.png\" width=300px;></img>\n",
        "</p>\n",
        "\n",
        "2. Feature Matching Loss:\n",
        "\n",
        "This loss involves extracting the outputs of every layer from the discriminator for both\n",
        "the generator and ground truth and compare each layer output _k_ using Mean Absolute Error.\n",
        "\n",
        "<p align=\"center\">\n",
        "<img src=\"https://i.imgur.com/gEpSBar.png\" width=400px;></img>\n",
        "</p>\n",
        "\n",
        "**Discriminator Loss**\n",
        "\n",
        "The discriminator uses the Mean Absolute Error and compares the real data predictions\n",
        "with ones and generated predictions with zeros.\n",
        "\n",
        "<p align=\"center\">\n",
        "<img src=\"https://i.imgur.com/bbEnJ3t.png\" width=425px;></img>\n",
        "</p>"
      ],
      "metadata": {
        "id": "JQTbm4GXxt8x"
      }
    },
    {
      "cell_type": "code",
      "source": [
        "def generator_loss(real_pred, fake_pred):\n",
        "    \"\"\"Loss function for the generator.\n",
        "\n",
        "    Args:\n",
        "        real_pred: Tensor, output of the ground truth wave passed through the discriminator.\n",
        "        fake_pred: Tensor, output of the generator prediction passed through the discriminator.\n",
        "\n",
        "    Returns:\n",
        "        Loss for the generator.\n",
        "    \"\"\"\n",
        "    gen_loss = []\n",
        "    for i in range(len(fake_pred)):\n",
        "        gen_loss.append(mse(tf.ones_like(fake_pred[i][-1]), fake_pred[i][-1]))\n",
        "\n",
        "    return tf.reduce_mean(gen_loss)\n",
        "\n",
        "\n",
        "def feature_matching_loss(real_pred, fake_pred):\n",
        "    \"\"\"Implements the feature matching loss.\n",
        "\n",
        "    Args:\n",
        "        real_pred: Tensor, output of the ground truth wave passed through the discriminator.\n",
        "        fake_pred: Tensor, output of the generator prediction passed through the discriminator.\n",
        "\n",
        "    Returns:\n",
        "        Feature Matching Loss.\n",
        "    \"\"\"\n",
        "    fm_loss = []\n",
        "    for i in range(len(fake_pred)):\n",
        "        for j in range(len(fake_pred[i]) - 1):\n",
        "            fm_loss.append(mae(real_pred[i][j], fake_pred[i][j]))\n",
        "\n",
        "    return tf.reduce_mean(fm_loss)\n",
        "\n",
        "\n",
        "def discriminator_loss(real_pred, fake_pred):\n",
        "    \"\"\"Implements the discriminator loss.\n",
        "\n",
        "    Args:\n",
        "        real_pred: Tensor, output of the ground truth wave passed through the discriminator.\n",
        "        fake_pred: Tensor, output of the generator prediction passed through the discriminator.\n",
        "\n",
        "    Returns:\n",
        "        Discriminator Loss.\n",
        "    \"\"\"\n",
        "    real_loss, fake_loss = [], []\n",
        "    for i in range(len(real_pred)):\n",
        "        real_loss.append(mse(tf.ones_like(real_pred[i][-1]), real_pred[i][-1]))\n",
        "        fake_loss.append(mse(tf.zeros_like(fake_pred[i][-1]), fake_pred[i][-1]))\n",
        "\n",
        "    # Calculating the final discriminator loss after scaling\n",
        "    disc_loss = tf.reduce_mean(real_loss) + tf.reduce_mean(fake_loss)\n",
        "    return disc_loss"
      ],
      "metadata": {
        "id": "7ivAwzoVnaaS"
      },
      "execution_count": null,
      "outputs": []
    },
    {
      "cell_type": "markdown",
      "source": [
        "Defining the MelGAN model for training.\n",
        "This subclass overrides the `train_step()` method to implement the training logic."
      ],
      "metadata": {
        "id": "fezVCaQ-x3oB"
      }
    },
    {
      "cell_type": "code",
      "source": [
        "class MelGAN(keras.Model):\n",
        "    def __init__(self, generator, discriminator, **kwargs):\n",
        "        \"\"\"MelGAN trainer class\n",
        "\n",
        "        Args:\n",
        "            generator: keras.Model, Generator model\n",
        "            discriminator: keras.Model, Discriminator model\n",
        "        \"\"\"\n",
        "        super().__init__(**kwargs)\n",
        "        self.generator = generator\n",
        "        self.discriminator = discriminator\n",
        "\n",
        "    def compile(\n",
        "        self,\n",
        "        gen_optimizer,\n",
        "        disc_optimizer,\n",
        "        generator_loss,\n",
        "        feature_matching_loss,\n",
        "        discriminator_loss,\n",
        "    ):\n",
        "        \"\"\"MelGAN compile method.\n",
        "\n",
        "        Args:\n",
        "            gen_optimizer: keras.optimizer, optimizer to be used for training\n",
        "            disc_optimizer: keras.optimizer, optimizer to be used for training\n",
        "            generator_loss: callable, loss function for generator\n",
        "            feature_matching_loss: callable, loss function for feature matching\n",
        "            discriminator_loss: callable, loss function for discriminator\n",
        "        \"\"\"\n",
        "        super().compile()\n",
        "\n",
        "        # Optimizers\n",
        "        self.gen_optimizer = gen_optimizer\n",
        "        self.disc_optimizer = disc_optimizer\n",
        "\n",
        "        # Losses\n",
        "        self.generator_loss = generator_loss\n",
        "        self.feature_matching_loss = feature_matching_loss\n",
        "        self.discriminator_loss = discriminator_loss\n",
        "\n",
        "        # Trackers\n",
        "        self.gen_loss_tracker = keras.metrics.Mean(name=\"gen_loss\")\n",
        "        self.disc_loss_tracker = keras.metrics.Mean(name=\"disc_loss\")\n",
        "\n",
        "    def train_step(self, batch):\n",
        "        x_batch_train, y_batch_train = batch\n",
        "\n",
        "        with tf.GradientTape() as gen_tape, tf.GradientTape() as disc_tape:\n",
        "            # Generating the audio wave\n",
        "            gen_audio_wave = generator(x_batch_train, training=True)\n",
        "\n",
        "            # Generating the features using the discriminator\n",
        "            real_pred = discriminator(y_batch_train)\n",
        "            fake_pred = discriminator(gen_audio_wave)\n",
        "\n",
        "            # Calculating the generator losses\n",
        "            gen_loss = generator_loss(real_pred, fake_pred)\n",
        "            fm_loss = feature_matching_loss(real_pred, fake_pred)\n",
        "\n",
        "            # Calculating final generator loss\n",
        "            gen_fm_loss = gen_loss + 10 * fm_loss\n",
        "\n",
        "            # Calculating the discriminator losses\n",
        "            disc_loss = discriminator_loss(real_pred, fake_pred)\n",
        "\n",
        "        # Calculating and applying the gradients for generator and discriminator\n",
        "        grads_gen = gen_tape.gradient(gen_fm_loss, generator.trainable_weights)\n",
        "        grads_disc = disc_tape.gradient(disc_loss, discriminator.trainable_weights)\n",
        "        gen_optimizer.apply_gradients(zip(grads_gen, generator.trainable_weights))\n",
        "        disc_optimizer.apply_gradients(zip(grads_disc, discriminator.trainable_weights))\n",
        "\n",
        "        self.gen_loss_tracker.update_state(gen_fm_loss)\n",
        "        self.disc_loss_tracker.update_state(disc_loss)\n",
        "\n",
        "        return {\n",
        "            \"gen_loss\": self.gen_loss_tracker.result(),\n",
        "            \"disc_loss\": self.disc_loss_tracker.result(),\n",
        "        }"
      ],
      "metadata": {
        "id": "Mj8Obk-ln2L5"
      },
      "execution_count": null,
      "outputs": []
    },
    {
      "cell_type": "markdown",
      "source": [
        "## Training\n",
        "\n",
        "The paper suggests that the training with dynamic shapes takes around 400,000 steps (~500\n",
        "epochs). For this example, we will run it only for a single epoch (819 steps).\n",
        "Longer training time (greater than 300 epochs) will almost certainly provide better results."
      ],
      "metadata": {
        "id": "U8yyYiltx8w5"
      }
    },
    {
      "cell_type": "code",
      "source": [
        "gen_optimizer = keras.optimizers.Adam(\n",
        "    LEARNING_RATE_GEN, beta_1=0.5, beta_2=0.9, clipnorm=1\n",
        ")\n",
        "disc_optimizer = keras.optimizers.Adam(\n",
        "    LEARNING_RATE_DISC, beta_1=0.5, beta_2=0.9, clipnorm=1\n",
        ")\n",
        "\n",
        "# Start training\n",
        "generator = create_generator((None, 1))\n",
        "discriminator = create_discriminator((None, 1))\n",
        "\n",
        "mel_gan = MelGAN(generator, discriminator)\n",
        "mel_gan.compile(\n",
        "    gen_optimizer,\n",
        "    disc_optimizer,\n",
        "    generator_loss,\n",
        "    feature_matching_loss,\n",
        "    discriminator_loss,\n",
        ")\n",
        "mel_gan.fit(\n",
        "    train_dataset.shuffle(200).batch(BATCH_SIZE).prefetch(tf.data.AUTOTUNE), epochs=1\n",
        ")"
      ],
      "metadata": {
        "colab": {
          "base_uri": "https://localhost:8080/"
        },
        "id": "t8tCE4akpP_2",
        "outputId": "406ebc3e-b14f-48cc-f578-5c5f91e375c0"
      },
      "execution_count": null,
      "outputs": [
        {
          "output_type": "stream",
          "name": "stdout",
          "text": [
            "819/819 [==============================] - 365s 359ms/step - gen_loss: 1.0043 - disc_loss: 0.9355\n"
          ]
        },
        {
          "output_type": "execute_result",
          "data": {
            "text/plain": [
              "<keras.src.callbacks.History at 0x791d5de85ae0>"
            ]
          },
          "metadata": {},
          "execution_count": 14
        }
      ]
    },
    {
      "cell_type": "markdown",
      "source": [
        "## Testing the model\n",
        "\n",
        "The trained model can now be used for real time text-to-speech translation tasks.\n",
        "To test how fast the MelGAN inference can be, let us take a sample audio mel-spectrogram\n",
        "and convert it. Note that the actual model pipeline will not include the `MelSpec` layer\n",
        "and hence this layer will be disabled during inference. The inference input will be a\n",
        "mel-spectrogram processed similar to the `MelSpec` layer configuration.\n",
        "\n",
        "For testing this, we will create a randomly uniformly distributed tensor to simulate the\n",
        "behavior of the inference pipeline."
      ],
      "metadata": {
        "id": "WtZngaAJyEyB"
      }
    },
    {
      "cell_type": "code",
      "source": [
        "# Sampling a random tensor to mimic a batch of 128 spectrograms of shape [50, 80]\n",
        "audio_sample = tf.random.uniform([128, 50, 80])"
      ],
      "metadata": {
        "id": "dGLquxu7t7kF"
      },
      "execution_count": null,
      "outputs": []
    },
    {
      "cell_type": "markdown",
      "source": [
        "Timing the inference speed of a single sample. Running this, you can see that the average\n",
        "inference time per spectrogram ranges from 8 milliseconds to 10 milliseconds on a K80 GPU which is\n",
        "pretty fast."
      ],
      "metadata": {
        "id": "kMYjtHr_yMDu"
      }
    },
    {
      "cell_type": "code",
      "source": [
        "pred = generator.predict(audio_sample, batch_size=32, verbose=1)"
      ],
      "metadata": {
        "colab": {
          "base_uri": "https://localhost:8080/"
        },
        "id": "5jjGIE3cu9TM",
        "outputId": "9cc05bc0-2523-4a68-ede6-53e185c362e7"
      },
      "execution_count": null,
      "outputs": [
        {
          "output_type": "stream",
          "name": "stdout",
          "text": [
            "4/4 [==============================] - 6s 126ms/step\n"
          ]
        }
      ]
    },
    {
      "cell_type": "markdown",
      "source": [
        "## Conclusion\n",
        "\n",
        "The MelGAN is a highly effective architecture for spectral inversion that has a Mean\n",
        "Opinion Score (MOS) of 3.61 that  considerably outperforms the Griffin\n",
        "Lim algorithm having a MOS of just 1.57. In contrast with this, the MelGAN compares with\n",
        "the state-of-the-art WaveGlow and WaveNet architectures on text-to-speech and speech\n",
        "enhancement tasks on\n",
        "the LJSpeech and VCTK datasets <sup>[1]</sup>.\n",
        "\n",
        "This tutorial highlights:\n",
        "\n",
        "1. The advantages of using dilated convolutions that grow with the filter size\n",
        "2. Implementation of a custom layer for on-the-fly conversion of audio waves to\n",
        "mel-spectrograms\n",
        "3. Effectiveness of using the feature matching loss function for training GAN generators.\n",
        "\n",
        "Further reading\n",
        "\n",
        "1. [MelGAN paper](https://arxiv.org/abs/1910.06711) (Kundan Kumar et al.) to\n",
        "understand the reasoning behind the architecture and training process\n",
        "2. For in-depth understanding of the feature matching loss, you can refer to [Improved\n",
        "Techniques for Training GANs](https://arxiv.org/abs/1606.03498) (Tim Salimans et\n",
        "al.)."
      ],
      "metadata": {
        "id": "hApCilNGyOCZ"
      }
    }
  ],
  "metadata": {
    "colab": {
      "provenance": [],
      "include_colab_link": true
    },
    "kernelspec": {
      "display_name": "Python 3",
      "name": "python3"
    },
    "language_info": {
      "codemirror_mode": {
        "name": "ipython",
        "version": 3
      },
      "file_extension": ".py",
      "mimetype": "text/x-python",
      "name": "python",
      "nbconvert_exporter": "python",
      "pygments_lexer": "ipython3",
      "version": "3.10.12"
    }
  },
  "nbformat": 4,
  "nbformat_minor": 0
}