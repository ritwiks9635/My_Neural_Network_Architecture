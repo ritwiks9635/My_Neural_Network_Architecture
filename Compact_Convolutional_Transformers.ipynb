{
  "cells": [
    {
      "cell_type": "markdown",
      "metadata": {
        "id": "view-in-github",
        "colab_type": "text"
      },
      "source": [
        "<a href=\"https://colab.research.google.com/github/ritwiks9635/My_Neural_Network_Architecture/blob/main/Compact_Convolutional_Transformers.ipynb\" target=\"_parent\"><img src=\"https://colab.research.google.com/assets/colab-badge.svg\" alt=\"Open In Colab\"/></a>"
      ]
    },
    {
      "cell_type": "markdown",
      "source": [
        "# **Compact Convolutional Transformers**"
      ],
      "metadata": {
        "id": "8oNQd8frf97S"
      }
    },
    {
      "cell_type": "markdown",
      "source": [
        "\n",
        "As discussed in the Vision Transformers (ViT) paper, a Transformer-based architecture for vision typically requires a larger dataset than usual, as well as a longer pre-training schedule. ImageNet-1k (which has about a million images) is considered to fall under the medium-sized data regime with respect to ViTs. This is primarily because, unlike CNNs, ViTs (or a typical Transformer-based architecture) do not have well-informed inductive biases (such as convolutions for processing images). This begs the question: can't we combine the benefits of convolution and the benefits of Transformers in a single network architecture? These benefits include parameter-efficiency, and self-attention to process long-range and global dependencies (interactions between different regions in an image).\n",
        "\n",
        "\n",
        "In Escaping the Big Data Paradigm with Compact Transformers, Hassani et al. present an approach for doing exactly this. They proposed the Compact Convolutional Transformer (CCT) architecture. In this example, we will work on an implementation of CCT and we will see how well it performs on the CIFAR-10 dataset.\n",
        "\n",
        "\n",
        "If you are unfamiliar with the concept of self-attention or Transformers, you can read this chapter from François Chollet's book Deep Learning with Python. This example uses code snippets from another example, Image classification with Vision Transformer."
      ],
      "metadata": {
        "id": "uJwebE-sfGuo"
      }
    },
    {
      "cell_type": "code",
      "source": [],
      "metadata": {
        "id": "XIH5nT1ImpNz"
      },
      "execution_count": null,
      "outputs": []
    },
    {
      "cell_type": "code",
      "source": [
        "pip install tensorflow_addons"
      ],
      "metadata": {
        "colab": {
          "base_uri": "https://localhost:8080/"
        },
        "id": "y_IyAUTpsC1L",
        "outputId": "e298eda6-6003-45d0-dadc-bb78052a49c7"
      },
      "execution_count": 1,
      "outputs": [
        {
          "output_type": "stream",
          "name": "stdout",
          "text": [
            "Collecting tensorflow_addons\n",
            "  Downloading tensorflow_addons-0.21.0-cp310-cp310-manylinux_2_17_x86_64.manylinux2014_x86_64.whl (612 kB)\n",
            "\u001b[?25l     \u001b[90m━━━━━━━━━━━━━━━━━━━━━━━━━━━━━━━━━━━━━━━━\u001b[0m \u001b[32m0.0/612.1 kB\u001b[0m \u001b[31m?\u001b[0m eta \u001b[36m-:--:--\u001b[0m\r\u001b[2K     \u001b[91m━━━━━━━━━\u001b[0m\u001b[90m╺\u001b[0m\u001b[90m━━━━━━━━━━━━━━━━━━━━━━━━━━━━━\u001b[0m \u001b[32m143.4/612.1 kB\u001b[0m \u001b[31m4.3 MB/s\u001b[0m eta \u001b[36m0:00:01\u001b[0m\r\u001b[2K     \u001b[90m━━━━━━━━━━━━━━━━━━━━━━━━━━━━━━━━━━━━━━━\u001b[0m \u001b[32m612.1/612.1 kB\u001b[0m \u001b[31m9.5 MB/s\u001b[0m eta \u001b[36m0:00:00\u001b[0m\n",
            "\u001b[?25hRequirement already satisfied: packaging in /usr/local/lib/python3.10/dist-packages (from tensorflow_addons) (23.1)\n",
            "Collecting typeguard<3.0.0,>=2.7 (from tensorflow_addons)\n",
            "  Downloading typeguard-2.13.3-py3-none-any.whl (17 kB)\n",
            "Installing collected packages: typeguard, tensorflow_addons\n",
            "Successfully installed tensorflow_addons-0.21.0 typeguard-2.13.3\n"
          ]
        }
      ]
    },
    {
      "cell_type": "code",
      "source": [
        "import tensorflow as tf\n",
        "from tensorflow import keras\n",
        "from tensorflow.keras import layers\n",
        "import tensorflow_addons as tfa\n",
        "import matplotlib.pyplot as plt\n",
        "import numpy as np"
      ],
      "metadata": {
        "id": "0r862Sw9tb7E",
        "colab": {
          "base_uri": "https://localhost:8080/"
        },
        "outputId": "a87b8c1e-56b8-4601-dd99-fa0c2a105171"
      },
      "execution_count": 2,
      "outputs": [
        {
          "output_type": "stream",
          "name": "stderr",
          "text": [
            "/usr/local/lib/python3.10/dist-packages/tensorflow_addons/utils/tfa_eol_msg.py:23: UserWarning: \n",
            "\n",
            "TensorFlow Addons (TFA) has ended development and introduction of new features.\n",
            "TFA has entered a minimal maintenance and release mode until a planned end of life in May 2024.\n",
            "Please modify downstream libraries to take dependencies from other repositories in our TensorFlow community (e.g. Keras, Keras-CV, and Keras-NLP). \n",
            "\n",
            "For more information see: https://github.com/tensorflow/addons/issues/2807 \n",
            "\n",
            "  warnings.warn(\n"
          ]
        }
      ]
    },
    {
      "cell_type": "markdown",
      "source": [
        "**Hyperparameters and constants**"
      ],
      "metadata": {
        "id": "dlDwvWkmewBL"
      }
    },
    {
      "cell_type": "code",
      "source": [
        "positional_emb = True\n",
        "conv_layers = 2\n",
        "projection_dim = 128\n",
        "\n",
        "num_heads = 2\n",
        "transformer_units = [\n",
        "    projection_dim,\n",
        "    projection_dim,\n",
        "]\n",
        "transformer_layers = 2\n",
        "stochastic_depth_rate = 0.1\n",
        "\n",
        "learning_rate = 0.001\n",
        "weight_decay = 0.0001\n",
        "batch_size = 128\n",
        "num_epochs = 30\n",
        "image_size = 32"
      ],
      "metadata": {
        "id": "8eH4AiA3sPDR"
      },
      "execution_count": 3,
      "outputs": []
    },
    {
      "cell_type": "code",
      "source": [
        "num_classes=10\n",
        "input_shape = (32,32,3)\n",
        "(x_train, y_train),(x_test, y_test) = keras.datasets.cifar10.load_data()\n",
        "y_train = keras.utils.to_categorical(y_train, num_classes)\n",
        "y_test = keras.utils.to_categorical(y_test, num_classes)\n",
        "print(x_train.shape, y_train.shape, x_test.shape, y_test.shape)"
      ],
      "metadata": {
        "colab": {
          "base_uri": "https://localhost:8080/"
        },
        "id": "rstl0TvbsYJs",
        "outputId": "aba16f0a-7b8b-4b26-c366-c2b5e97441e2"
      },
      "execution_count": 4,
      "outputs": [
        {
          "output_type": "stream",
          "name": "stdout",
          "text": [
            "Downloading data from https://www.cs.toronto.edu/~kriz/cifar-10-python.tar.gz\n",
            "170498071/170498071 [==============================] - 2s 0us/step\n",
            "(50000, 32, 32, 3) (50000, 10) (10000, 32, 32, 3) (10000, 10)\n"
          ]
        }
      ]
    },
    {
      "cell_type": "markdown",
      "source": [
        "**The CCT tokenizer**\n",
        "\n",
        "The first recipe introduced by the CCT authors is the tokenizer for processing the images. In a standard ViT, images are organized into uniform non-overlapping patches. This eliminates the boundary-level information present in between different patches. This is important for a neural network to effectively exploit the locality information. The figure below presents an illustration of how images are organized into patches.\n",
        "\n",
        "We already know that convolutions are quite good at exploiting locality information. So, based on this, the authors introduce an all-convolution mini-network to produce image patches."
      ],
      "metadata": {
        "id": "g1SOudIPe8HH"
      }
    },
    {
      "cell_type": "code",
      "source": [
        "class CCTTokenizer(layers.Layer):\n",
        "    def __init__(\n",
        "        self,\n",
        "        kernel_size=3,\n",
        "        stride=1,\n",
        "        padding=1,\n",
        "        pooling_kernel_size=3,\n",
        "        pooling_stride=2,\n",
        "        num_conv_layers=conv_layers,\n",
        "        num_output_channels=[64, 128],\n",
        "        positional_emb=positional_emb,\n",
        "        **kwargs,\n",
        "    ):\n",
        "        super().__init__(**kwargs)\n",
        "\n",
        "        # This is our tokenizer.\n",
        "        self.conv_model = keras.Sequential()\n",
        "        for i in range(num_conv_layers):\n",
        "            self.conv_model.add(\n",
        "                layers.Conv2D(\n",
        "                    num_output_channels[i],\n",
        "                    kernel_size,\n",
        "                    stride,\n",
        "                    padding=\"valid\",\n",
        "                    use_bias=False,\n",
        "                    activation=\"relu\",\n",
        "                    kernel_initializer=\"he_normal\",\n",
        "                )\n",
        "            )\n",
        "            self.conv_model.add(layers.ZeroPadding2D(padding))\n",
        "            self.conv_model.add(\n",
        "                layers.MaxPool2D(pooling_kernel_size, pooling_stride, \"same\")\n",
        "            )\n",
        "\n",
        "        self.positional_emb = positional_emb\n",
        "\n",
        "    def call(self, images):\n",
        "        outputs = self.conv_model(images)\n",
        "        # After passing the images through our mini-network the spatial dimensions\n",
        "        # are flattened to form sequences.\n",
        "        reshaped = tf.reshape(\n",
        "            outputs,\n",
        "            (-1, tf.shape(outputs)[1] * tf.shape(outputs)[2], tf.shape(outputs)[-1]),\n",
        "        )\n",
        "        return reshaped\n",
        "\n",
        "    def positional_embedding(self, image_size):\n",
        "        # Positional embeddings are optional in CCT. Here, we calculate\n",
        "        # the number of sequences and initialize an `Embedding` layer to\n",
        "        # compute the positional embeddings later.\n",
        "        if self.positional_emb:\n",
        "            dummy_inputs = tf.ones((1, image_size, image_size, 3))\n",
        "            dummy_outputs = self.call(dummy_inputs)\n",
        "            sequence_length = tf.shape(dummy_outputs)[1]\n",
        "            projection_dim = tf.shape(dummy_outputs)[-1]\n",
        "\n",
        "            embed_layer = layers.Embedding(\n",
        "                input_dim=sequence_length, output_dim=projection_dim\n",
        "            )\n",
        "            return embed_layer, sequence_length\n",
        "        else:\n",
        "            return None"
      ],
      "metadata": {
        "id": "hVo8q6ubuGbc"
      },
      "execution_count": 11,
      "outputs": []
    },
    {
      "cell_type": "markdown",
      "source": [
        "**Stochastic depth for regularization**\n",
        "\n",
        "Stochastic depth is a regularization technique that randomly drops a set of layers. During inference, the layers are kept as they are. It is very much similar to Dropout but only that it operates on a block of layers rather than individual nodes present inside a layer. In CCT, stochastic depth is used just before the residual blocks of a Transformers encoder."
      ],
      "metadata": {
        "id": "95NZcHdvfGZo"
      }
    },
    {
      "cell_type": "code",
      "source": [
        "# Referred from: github.com:rwightman/pytorch-image-models.\n",
        "class StochasticDepth(layers.Layer):\n",
        "    def __init__(self, drop_prop, **kwargs):\n",
        "        super().__init__(**kwargs)\n",
        "        self.drop_prob = drop_prop\n",
        "\n",
        "    def call(self, x, training=None):\n",
        "        if training:\n",
        "            keep_prob = 1 - self.drop_prob\n",
        "            shape = (tf.shape(x)[0],) + (1,) * (tf.shape(x).shape[0] - 1)\n",
        "            random_tensor = keep_prob + tf.random.uniform(shape, 0, 1)\n",
        "            random_tensor = tf.floor(random_tensor)\n",
        "            return (x / keep_prob) * random_tensor\n",
        "        return x"
      ],
      "metadata": {
        "id": "qf2RGOMpNfiT"
      },
      "execution_count": 20,
      "outputs": []
    },
    {
      "cell_type": "markdown",
      "source": [
        "**MLP for the Transformers encoder**"
      ],
      "metadata": {
        "id": "zV1yHUidfSFD"
      }
    },
    {
      "cell_type": "code",
      "source": [
        "def mlp(x, hidden_units,  dropout_rate):\n",
        "  for units in hidden_units:\n",
        "    x = layers.Dense(units, activation = tf.nn.gelu)(x)\n",
        "    x = layers.Dropout(dropout_rate)(x)\n",
        "  return x"
      ],
      "metadata": {
        "id": "jZRPX7PsmqtA"
      },
      "execution_count": 21,
      "outputs": []
    },
    {
      "cell_type": "code",
      "source": [
        "data_augmentation = keras.Sequential([\n",
        "    layers.Rescaling(1./255.0),\n",
        "    layers.RandomCrop(image_size, image_size),\n",
        "    layers.RandomFlip(\"horizontal\")\n",
        "    ])"
      ],
      "metadata": {
        "id": "ysRuMmIOnbfc"
      },
      "execution_count": 22,
      "outputs": []
    },
    {
      "cell_type": "markdown",
      "source": [
        "**The final CCT model**\n",
        "\n",
        "Another recipe introduced in CCT is attention pooling or sequence pooling. In ViT, only the feature map corresponding to the class token is pooled and is then used for the subsequent classification task (or any other downstream task). In CCT, outputs from the Transformers encoder are weighted and then passed on to the final task-specific layer (in this example, we do classification)."
      ],
      "metadata": {
        "id": "sC5CBoeJfbMh"
      }
    },
    {
      "cell_type": "code",
      "source": [
        "def create_cct_model(\n",
        "    image_size=image_size,\n",
        "    input_shape=input_shape,\n",
        "    num_heads=num_heads,\n",
        "    projection_dim=projection_dim,\n",
        "    transformer_units=transformer_units,\n",
        "):\n",
        "    inputs = layers.Input(input_shape)\n",
        "\n",
        "    # Augment data.\n",
        "    augmented = data_augmentation(inputs)\n",
        "\n",
        "    # Encode patches.\n",
        "    cct_tokenizer = CCTTokenizer()\n",
        "    encoded_patches = cct_tokenizer(augmented)\n",
        "\n",
        "    # Apply positional embedding.\n",
        "    if positional_emb:\n",
        "        pos_embed, seq_length = cct_tokenizer.positional_embedding(image_size)\n",
        "        positions = tf.range(start=0, limit=seq_length, delta=1)\n",
        "        position_embeddings = pos_embed(positions)\n",
        "        encoded_patches += position_embeddings\n",
        "\n",
        "    # Calculate Stochastic Depth probabilities.\n",
        "    dpr = [x for x in np.linspace(0, stochastic_depth_rate, transformer_layers)]\n",
        "\n",
        "    # Create multiple layers of the Transformer block.\n",
        "    for i in range(transformer_layers):\n",
        "        # Layer normalization 1.\n",
        "        x1 = layers.LayerNormalization(epsilon=1e-5)(encoded_patches)\n",
        "\n",
        "        # Create a multi-head attention layer.\n",
        "        attention_output = layers.MultiHeadAttention(\n",
        "            num_heads=num_heads, key_dim=projection_dim, dropout=0.1\n",
        "        )(x1, x1)\n",
        "\n",
        "        # Skip connection 1.\n",
        "        attention_output = StochasticDepth(dpr[i])(attention_output)\n",
        "        x2 = layers.Add()([attention_output, encoded_patches])\n",
        "\n",
        "        # Layer normalization 2.\n",
        "        x3 = layers.LayerNormalization(epsilon=1e-5)(x2)\n",
        "\n",
        "        # MLP.\n",
        "        x3 = mlp(x3, hidden_units=transformer_units, dropout_rate=0.1)\n",
        "\n",
        "        # Skip connection 2.\n",
        "        x3 = StochasticDepth(dpr[i])(x3)\n",
        "        encoded_patches = layers.Add()([x3, x2])\n",
        "\n",
        "    # Apply sequence pooling.\n",
        "    representation = layers.LayerNormalization(epsilon=1e-5)(encoded_patches)\n",
        "    attention_weights = tf.nn.softmax(layers.Dense(1)(representation), axis=1)\n",
        "    weighted_representation = tf.matmul(\n",
        "        attention_weights, representation, transpose_a=True\n",
        "    )\n",
        "    weighted_representation = tf.squeeze(weighted_representation, -2)\n",
        "\n",
        "    # Classify outputs.\n",
        "    logits = layers.Dense(num_classes)(weighted_representation)\n",
        "    # Create the Keras model.\n",
        "    model = keras.Model(inputs=inputs, outputs=logits)\n",
        "    return model"
      ],
      "metadata": {
        "id": "mW6HZ5dPoHSi"
      },
      "execution_count": 23,
      "outputs": []
    },
    {
      "cell_type": "markdown",
      "source": [
        "***Model training and evaluation***"
      ],
      "metadata": {
        "id": "PCX5aeydfh24"
      }
    },
    {
      "cell_type": "code",
      "source": [
        "def run_experiment(model):\n",
        "    optimizer = tfa.optimizers.AdamW(learning_rate=0.001, weight_decay=0.0001)\n",
        "\n",
        "    model.compile(\n",
        "        optimizer=optimizer,\n",
        "        loss=keras.losses.CategoricalCrossentropy(\n",
        "            from_logits=True, label_smoothing=0.1\n",
        "        ),\n",
        "        metrics=[\n",
        "            keras.metrics.CategoricalAccuracy(name=\"accuracy\"),\n",
        "            keras.metrics.TopKCategoricalAccuracy(5, name=\"top-5-accuracy\"),\n",
        "        ],\n",
        "    )\n",
        "\n",
        "    checkpoint_filepath = \"/tmp/checkpoint\"\n",
        "    checkpoint_callback = keras.callbacks.ModelCheckpoint(\n",
        "        checkpoint_filepath,\n",
        "        monitor=\"val_accuracy\",\n",
        "        save_best_only=True,\n",
        "        save_weights_only=True,\n",
        "    )\n",
        "\n",
        "    history = model.fit(\n",
        "        x=x_train,\n",
        "        y=y_train,\n",
        "        batch_size=batch_size,\n",
        "        epochs=num_epochs,\n",
        "        validation_split=0.1,\n",
        "        callbacks=[checkpoint_callback],\n",
        "    )\n",
        "\n",
        "    model.load_weights(checkpoint_filepath)\n",
        "    _, accuracy, top_5_accuracy = model.evaluate(x_test, y_test)\n",
        "    print(f\"Test accuracy: {round(accuracy * 100, 2)}%\")\n",
        "    print(f\"Test top 5 accuracy: {round(top_5_accuracy * 100, 2)}%\")\n",
        "\n",
        "    return history\n",
        "\n",
        "\n",
        "cct_model = create_cct_model()\n",
        "history = run_experiment(cct_model)"
      ],
      "metadata": {
        "colab": {
          "base_uri": "https://localhost:8080/"
        },
        "id": "x-ibP-zCYmr8",
        "outputId": "06d39c0a-c637-4cde-fa2d-7013fb948089"
      },
      "execution_count": 24,
      "outputs": [
        {
          "output_type": "stream",
          "name": "stdout",
          "text": [
            "Epoch 1/30\n",
            "352/352 [==============================] - 19s 39ms/step - loss: 1.8850 - accuracy: 0.3405 - top-5-accuracy: 0.8474 - val_loss: 1.6442 - val_accuracy: 0.4600 - val_top-5-accuracy: 0.9234\n",
            "Epoch 2/30\n",
            "352/352 [==============================] - 13s 36ms/step - loss: 1.5711 - accuracy: 0.5011 - top-5-accuracy: 0.9319 - val_loss: 1.4619 - val_accuracy: 0.5462 - val_top-5-accuracy: 0.9534\n",
            "Epoch 3/30\n",
            "352/352 [==============================] - 13s 36ms/step - loss: 1.4352 - accuracy: 0.5703 - top-5-accuracy: 0.9513 - val_loss: 1.3629 - val_accuracy: 0.5982 - val_top-5-accuracy: 0.9626\n",
            "Epoch 4/30\n",
            "352/352 [==============================] - 13s 36ms/step - loss: 1.3523 - accuracy: 0.6076 - top-5-accuracy: 0.9604 - val_loss: 1.2845 - val_accuracy: 0.6472 - val_top-5-accuracy: 0.9678\n",
            "Epoch 5/30\n",
            "352/352 [==============================] - 13s 36ms/step - loss: 1.2898 - accuracy: 0.6409 - top-5-accuracy: 0.9672 - val_loss: 1.2554 - val_accuracy: 0.6546 - val_top-5-accuracy: 0.9690\n",
            "Epoch 6/30\n",
            "352/352 [==============================] - 13s 36ms/step - loss: 1.2511 - accuracy: 0.6596 - top-5-accuracy: 0.9702 - val_loss: 1.2108 - val_accuracy: 0.6804 - val_top-5-accuracy: 0.9726\n",
            "Epoch 7/30\n",
            "352/352 [==============================] - 13s 37ms/step - loss: 1.2114 - accuracy: 0.6784 - top-5-accuracy: 0.9739 - val_loss: 1.2167 - val_accuracy: 0.6694 - val_top-5-accuracy: 0.9790\n",
            "Epoch 8/30\n",
            "352/352 [==============================] - 13s 38ms/step - loss: 1.1745 - accuracy: 0.6959 - top-5-accuracy: 0.9768 - val_loss: 1.1703 - val_accuracy: 0.7044 - val_top-5-accuracy: 0.9750\n",
            "Epoch 9/30\n",
            "352/352 [==============================] - 13s 36ms/step - loss: 1.1538 - accuracy: 0.7036 - top-5-accuracy: 0.9786 - val_loss: 1.1489 - val_accuracy: 0.7050 - val_top-5-accuracy: 0.9778\n",
            "Epoch 10/30\n",
            "352/352 [==============================] - 13s 36ms/step - loss: 1.1296 - accuracy: 0.7152 - top-5-accuracy: 0.9803 - val_loss: 1.1491 - val_accuracy: 0.7090 - val_top-5-accuracy: 0.9816\n",
            "Epoch 11/30\n",
            "352/352 [==============================] - 13s 36ms/step - loss: 1.1037 - accuracy: 0.7298 - top-5-accuracy: 0.9821 - val_loss: 1.0941 - val_accuracy: 0.7314 - val_top-5-accuracy: 0.9822\n",
            "Epoch 12/30\n",
            "352/352 [==============================] - 12s 35ms/step - loss: 1.0840 - accuracy: 0.7377 - top-5-accuracy: 0.9828 - val_loss: 1.1334 - val_accuracy: 0.7166 - val_top-5-accuracy: 0.9810\n",
            "Epoch 13/30\n",
            "352/352 [==============================] - 12s 36ms/step - loss: 1.0669 - accuracy: 0.7469 - top-5-accuracy: 0.9836 - val_loss: 1.1559 - val_accuracy: 0.7120 - val_top-5-accuracy: 0.9822\n",
            "Epoch 14/30\n",
            "352/352 [==============================] - 13s 36ms/step - loss: 1.0523 - accuracy: 0.7540 - top-5-accuracy: 0.9845 - val_loss: 1.0646 - val_accuracy: 0.7536 - val_top-5-accuracy: 0.9830\n",
            "Epoch 15/30\n",
            "352/352 [==============================] - 13s 36ms/step - loss: 1.0334 - accuracy: 0.7621 - top-5-accuracy: 0.9863 - val_loss: 1.1109 - val_accuracy: 0.7290 - val_top-5-accuracy: 0.9828\n",
            "Epoch 16/30\n",
            "352/352 [==============================] - 13s 36ms/step - loss: 1.0232 - accuracy: 0.7669 - top-5-accuracy: 0.9859 - val_loss: 1.0336 - val_accuracy: 0.7628 - val_top-5-accuracy: 0.9844\n",
            "Epoch 17/30\n",
            "352/352 [==============================] - 13s 36ms/step - loss: 1.0119 - accuracy: 0.7726 - top-5-accuracy: 0.9867 - val_loss: 1.0486 - val_accuracy: 0.7572 - val_top-5-accuracy: 0.9830\n",
            "Epoch 18/30\n",
            "352/352 [==============================] - 13s 36ms/step - loss: 0.9973 - accuracy: 0.7793 - top-5-accuracy: 0.9869 - val_loss: 1.0426 - val_accuracy: 0.7604 - val_top-5-accuracy: 0.9862\n",
            "Epoch 19/30\n",
            "352/352 [==============================] - 13s 36ms/step - loss: 0.9898 - accuracy: 0.7834 - top-5-accuracy: 0.9883 - val_loss: 1.0547 - val_accuracy: 0.7578 - val_top-5-accuracy: 0.9828\n",
            "Epoch 20/30\n",
            "352/352 [==============================] - 13s 36ms/step - loss: 0.9830 - accuracy: 0.7864 - top-5-accuracy: 0.9883 - val_loss: 1.0688 - val_accuracy: 0.7520 - val_top-5-accuracy: 0.9856\n",
            "Epoch 21/30\n",
            "352/352 [==============================] - 12s 35ms/step - loss: 0.9663 - accuracy: 0.7935 - top-5-accuracy: 0.9894 - val_loss: 1.0377 - val_accuracy: 0.7626 - val_top-5-accuracy: 0.9848\n",
            "Epoch 22/30\n",
            "352/352 [==============================] - 13s 36ms/step - loss: 0.9638 - accuracy: 0.7951 - top-5-accuracy: 0.9881 - val_loss: 1.0530 - val_accuracy: 0.7570 - val_top-5-accuracy: 0.9858\n",
            "Epoch 23/30\n",
            "352/352 [==============================] - 12s 35ms/step - loss: 0.9510 - accuracy: 0.8000 - top-5-accuracy: 0.9899 - val_loss: 1.0099 - val_accuracy: 0.7824 - val_top-5-accuracy: 0.9860\n",
            "Epoch 24/30\n",
            "352/352 [==============================] - 12s 35ms/step - loss: 0.9525 - accuracy: 0.7994 - top-5-accuracy: 0.9897 - val_loss: 1.0111 - val_accuracy: 0.7706 - val_top-5-accuracy: 0.9866\n",
            "Epoch 25/30\n",
            "352/352 [==============================] - 12s 36ms/step - loss: 0.9381 - accuracy: 0.8046 - top-5-accuracy: 0.9900 - val_loss: 1.0239 - val_accuracy: 0.7736 - val_top-5-accuracy: 0.9864\n",
            "Epoch 26/30\n",
            "352/352 [==============================] - 14s 39ms/step - loss: 0.9428 - accuracy: 0.8038 - top-5-accuracy: 0.9896 - val_loss: 0.9986 - val_accuracy: 0.7870 - val_top-5-accuracy: 0.9876\n",
            "Epoch 27/30\n",
            "352/352 [==============================] - 13s 37ms/step - loss: 0.9271 - accuracy: 0.8108 - top-5-accuracy: 0.9905 - val_loss: 1.0082 - val_accuracy: 0.7802 - val_top-5-accuracy: 0.9880\n",
            "Epoch 28/30\n",
            "352/352 [==============================] - 12s 35ms/step - loss: 0.9235 - accuracy: 0.8125 - top-5-accuracy: 0.9905 - val_loss: 1.0158 - val_accuracy: 0.7788 - val_top-5-accuracy: 0.9866\n",
            "Epoch 29/30\n",
            "352/352 [==============================] - 14s 39ms/step - loss: 0.9131 - accuracy: 0.8167 - top-5-accuracy: 0.9915 - val_loss: 1.0040 - val_accuracy: 0.7856 - val_top-5-accuracy: 0.9842\n",
            "Epoch 30/30\n",
            "352/352 [==============================] - 13s 36ms/step - loss: 0.9179 - accuracy: 0.8154 - top-5-accuracy: 0.9910 - val_loss: 1.0059 - val_accuracy: 0.7836 - val_top-5-accuracy: 0.9864\n",
            "313/313 [==============================] - 3s 9ms/step - loss: 1.0070 - accuracy: 0.7820 - top-5-accuracy: 0.9861\n",
            "Test accuracy: 78.2%\n",
            "Test top 5 accuracy: 98.61%\n"
          ]
        }
      ]
    },
    {
      "cell_type": "code",
      "source": [
        "plt.plot(history.history[\"loss\"], label=\"train_loss\")\n",
        "plt.plot(history.history[\"val_loss\"], label=\"val_loss\")\n",
        "plt.xlabel(\"Epochs\")\n",
        "plt.ylabel(\"Loss\")\n",
        "plt.title(\"Train and Validation Losses Over Epochs\", fontsize=14)\n",
        "plt.legend()\n",
        "plt.grid()\n",
        "plt.show()"
      ],
      "metadata": {
        "colab": {
          "base_uri": "https://localhost:8080/",
          "height": 277
        },
        "id": "9N1XJNKufnMv",
        "outputId": "a70701bb-30d5-479c-a7f1-9ef569d32211"
      },
      "execution_count": 25,
      "outputs": [
        {
          "output_type": "display_data",
          "data": {
            "text/plain": [
              "<Figure size 640x480 with 1 Axes>"
            ],
            "image/png": "[encoded data removed]"
          },
          "metadata": {}
        }
      ]
    },
    {
      "cell_type": "markdown",
      "source": [
        "\n",
        "The CCT model we just trained has just 0.4 million parameters, and it gets us to ~78% top-1 accuracy within 30 epochs. The plot above shows no signs of overfitting as well. This means we can train this network for longer (perhaps with a bit more regularization) and may obtain even better performance. This performance can further be improved by additional recipes like cosine decay learning rate schedule, other data augmentation techniques like AutoAugment, MixUp or Cutmix. With these modifications, the authors present 95.1% top-1 accuracy on the CIFAR-10 dataset. The authors also present a number of experiments to study how the number of convolution blocks, Transformers layers, etc. affect the final performance of CCTs.\n",
        "\n",
        "\n",
        "For a comparison, a ViT model takes about 4.7 million parameters and 100 epochs of training to reach a top-1 accuracy of 78.22% on the CIFAR-10 dataset. You can refer to this notebook to know about the experimental setup."
      ],
      "metadata": {
        "id": "nhv7oNWwf0dP"
      }
    }
  ],
  "metadata": {
    "accelerator": "GPU",
    "colab": {
      "provenance": [],
      "gpuType": "T4",
      "authorship_tag": "ABX9TyP5v2QEiH2MkIlKfx+n2y/R",
      "include_colab_link": true
    },
    "kernelspec": {
      "display_name": "Python 3",
      "name": "python3"
    },
    "language_info": {
      "name": "python"
    }
  },
  "nbformat": 4,
  "nbformat_minor": 0
}