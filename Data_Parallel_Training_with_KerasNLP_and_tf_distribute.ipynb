{
  "cells": [
    {
      "cell_type": "markdown",
      "metadata": {
        "id": "view-in-github",
        "colab_type": "text"
      },
      "source": [
        "<a href=\"https://colab.research.google.com/github/ritwiks9635/My_Neural_Network_Architecture/blob/main/Data_Parallel_Training_with_KerasNLP_and_tf_distribute.ipynb\" target=\"_parent\"><img src=\"https://colab.research.google.com/assets/colab-badge.svg\" alt=\"Open In Colab\"/></a>"
      ]
    },
    {
      "cell_type": "markdown",
      "source": [
        "#**Data Parallel Training with KerasNLP and tf.distribute**"
      ],
      "metadata": {
        "id": "tUiyUSY5u2JL"
      }
    },
    {
      "cell_type": "markdown",
      "source": [
        "## Introduction\n",
        "\n",
        "Distributed training is a technique used to train deep learning models on multiple devices\n",
        "or machines simultaneously. It helps to reduce training time and allows for training larger\n",
        "models with more data. KerasNLP is a library that provides tools and utilities for natural\n",
        "language processing tasks, including distributed training.\n",
        "\n",
        "In this tutorial, we will use KerasNLP to train a BERT-based masked language model (MLM)\n",
        "on the wikitext-2 dataset (a 2 million word dataset of wikipedia articles). The MLM task\n",
        "involves predicting the masked words in a sentence, which helps the model learn contextual\n",
        "representations of words.\n",
        "\n",
        "This guide focuses on data parallelism, in particular synchronous data parallelism, where\n",
        "each accelerator (a GPU or TPU) holds a complete replica of the model, and sees a\n",
        "different partial batch of the input data. Partial gradients are computed on each device,\n",
        "aggregated, and used to compute a global gradient update.\n",
        "\n",
        "Specifically, this guide teaches you how to use the `tf.distribute` API to train Keras\n",
        "models on multiple GPUs, with minimal changes to your code, in the following two setups:\n",
        "\n",
        "- On multiple GPUs (typically 2 to 8) installed on a single machine (single host,\n",
        "multi-device training). This is the most common setup for researchers and small-scale\n",
        "industry workflows.\n",
        "- On a cluster of many machines, each hosting one or multiple GPUs (multi-worker\n",
        "distributed training). This is a good setup for large-scale industry workflows, e.g.\n",
        "training high-resolution text summarization models on billion word datasets on 20-100 GPUs."
      ],
      "metadata": {
        "id": "w3HzFUaYksiY"
      }
    },
    {
      "cell_type": "code",
      "source": [
        "!pip install -q --upgrade keras-nlp\n",
        "!pip install -q --upgrade keras  # Upgrade to Keras 3."
      ],
      "metadata": {
        "id": "7XNlmBYPu_RN"
      },
      "execution_count": null,
      "outputs": []
    },
    {
      "cell_type": "code",
      "source": [
        "import os\n",
        "\n",
        "os.environ[\"KERAS_BACKEND\"] = \"tensorflow\"\n",
        "\n",
        "import tensorflow as tf\n",
        "import keras\n",
        "import keras_nlp"
      ],
      "metadata": {
        "id": "A6QvkhOjcnmH"
      },
      "execution_count": 2,
      "outputs": []
    },
    {
      "cell_type": "markdown",
      "source": [
        "Before we start any training, let's configure our single GPU to show up as two logical\n",
        "devices.\n",
        "\n",
        "When you are training with two or more phsyical GPUs, this is totally uncessary. This\n",
        "is just a trick to show real distributed training on the default colab GPU runtime,\n",
        "which has only one GPU available."
      ],
      "metadata": {
        "id": "INMJ5NW0kzqU"
      }
    },
    {
      "cell_type": "code",
      "source": [
        "!nvidia-smi --query-gpu=memory.total --format=csv,noheader"
      ],
      "metadata": {
        "colab": {
          "base_uri": "https://localhost:8080/"
        },
        "id": "yifHSzjzc-n6",
        "outputId": "ae094dbd-30ca-44c7-ec77-ab8de532049e"
      },
      "execution_count": 3,
      "outputs": [
        {
          "output_type": "stream",
          "name": "stdout",
          "text": [
            "15360 MiB\n"
          ]
        }
      ]
    },
    {
      "cell_type": "code",
      "source": [
        "physical_devices = tf.config.list_physical_devices(\"GPU\")\n",
        "tf.config.set_logical_device_configuration(\n",
        "    physical_devices[0],\n",
        "    [\n",
        "        tf.config.LogicalDeviceConfiguration(memory_limit=15360 // 2),\n",
        "        tf.config.LogicalDeviceConfiguration(memory_limit=15360 // 2),\n",
        "    ],\n",
        ")\n",
        "\n",
        "logical_devices = tf.config.list_logical_devices(\"GPU\")\n",
        "logical_devices"
      ],
      "metadata": {
        "id": "sJDmuVatg_Rh"
      },
      "execution_count": null,
      "outputs": []
    },
    {
      "cell_type": "code",
      "source": [
        "EPOCHS = 3"
      ],
      "metadata": {
        "id": "rNrM2VAbkOIy"
      },
      "execution_count": 10,
      "outputs": []
    },
    {
      "cell_type": "markdown",
      "source": [
        "To do single-host, multi-device synchronous training with a Keras model, you would use\n",
        "the `tf.distribute.MirroredStrategy` API. Here's how it works:\n",
        "\n",
        "- Instantiate a `MirroredStrategy`, optionally configuring which specific devices you\n",
        "want to use (by default the strategy will use all GPUs available).\n",
        "- Use the strategy object to open a scope, and within this scope, create all the Keras\n",
        "objects you need that contain variables. Typically, that means **creating & compiling the\n",
        "model** inside the distribution scope.\n",
        "- Train the model via `fit()` as usual."
      ],
      "metadata": {
        "id": "SGoCs_ink54H"
      }
    },
    {
      "cell_type": "code",
      "source": [
        "strategy = tf.distribute.MirroredStrategy()\n",
        "print(f\"Number of devices: {strategy.num_replicas_in_sync}\")"
      ],
      "metadata": {
        "colab": {
          "base_uri": "https://localhost:8080/"
        },
        "id": "wazoc70xjs4x",
        "outputId": "59319be7-1eed-47eb-82c2-a3a6cc7ff373"
      },
      "execution_count": 5,
      "outputs": [
        {
          "output_type": "stream",
          "name": "stdout",
          "text": [
            "Number of devices: 1\n"
          ]
        }
      ]
    },
    {
      "cell_type": "code",
      "source": [
        "base_batch_size = 32\n",
        "base_learning_rate = 1e-4"
      ],
      "metadata": {
        "id": "yBy2mKa9jywy"
      },
      "execution_count": 6,
      "outputs": []
    },
    {
      "cell_type": "markdown",
      "source": [
        "Calculate scaled batch size and learning rate"
      ],
      "metadata": {
        "id": "XyJrJtRSlFyF"
      }
    },
    {
      "cell_type": "code",
      "source": [
        "scaled_batch_size = base_batch_size * strategy.num_replicas_in_sync\n",
        "scaled_learning_rate = base_learning_rate * strategy.num_replicas_in_sync"
      ],
      "metadata": {
        "id": "xNBY2RjMj3GE"
      },
      "execution_count": 7,
      "outputs": []
    },
    {
      "cell_type": "markdown",
      "source": [
        "Now, we need to download and preprocess the wikitext-2 dataset. This dataset will be\n",
        "used for pretraining the BERT model. We will filter out short lines to ensure that the\n",
        "data has enough context for training."
      ],
      "metadata": {
        "id": "_poSxBbplIZ8"
      }
    },
    {
      "cell_type": "code",
      "source": [
        "keras.utils.get_file(\n",
        "    origin=\"https://s3.amazonaws.com/research.metamind.io/wikitext/wikitext-2-v1.zip\",\n",
        "    extract=True,\n",
        ")\n",
        "wiki_dir = os.path.expanduser(\"~/.keras/datasets/wikitext-2/\")\n",
        "\n",
        "# Load wikitext-103 and filter out short lines.\n",
        "wiki_train_ds = (\n",
        "    tf.data.TextLineDataset(\n",
        "        wiki_dir + \"wiki.train.tokens\",\n",
        "    )\n",
        "    .filter(lambda x: tf.strings.length(x) > 100)\n",
        "    .shuffle(buffer_size=500)\n",
        "    .batch(scaled_batch_size)\n",
        "    .cache()\n",
        "    .prefetch(tf.data.AUTOTUNE)\n",
        ")\n",
        "wiki_val_ds = (\n",
        "    tf.data.TextLineDataset(wiki_dir + \"wiki.valid.tokens\")\n",
        "    .filter(lambda x: tf.strings.length(x) > 100)\n",
        "    .shuffle(buffer_size=500)\n",
        "    .batch(scaled_batch_size)\n",
        "    .cache()\n",
        "    .prefetch(tf.data.AUTOTUNE)\n",
        ")\n",
        "wiki_test_ds = (\n",
        "    tf.data.TextLineDataset(wiki_dir + \"wiki.test.tokens\")\n",
        "    .filter(lambda x: tf.strings.length(x) > 100)\n",
        "    .shuffle(buffer_size=500)\n",
        "    .batch(scaled_batch_size)\n",
        "    .cache()\n",
        "    .prefetch(tf.data.AUTOTUNE)\n",
        ")"
      ],
      "metadata": {
        "colab": {
          "base_uri": "https://localhost:8080/"
        },
        "id": "Lm4B8-oSj7lu",
        "outputId": "dedb9025-7a51-403e-91fe-467b71d1deb1"
      },
      "execution_count": 8,
      "outputs": [
        {
          "output_type": "stream",
          "name": "stdout",
          "text": [
            "Downloading data from https://s3.amazonaws.com/research.metamind.io/wikitext/wikitext-2-v1.zip\n",
            "\u001b[1m4475746/4475746\u001b[0m \u001b[32m━━━━━━━━━━━━━━━━━━━━\u001b[0m\u001b[37m\u001b[0m \u001b[1m1s\u001b[0m 0us/step\n"
          ]
        }
      ]
    },
    {
      "cell_type": "markdown",
      "source": [
        "In the above code, we download the wikitext-2 dataset and extract it. Then, we define\n",
        "three datasets: wiki_train_ds, wiki_val_ds, and wiki_test_ds. These datasets are\n",
        "filtered to remove short lines and are batched for efficient training.\n",
        "\n",
        "\n",
        "\n",
        "It's a common practice to use a decayed learning rate in NLP training/tuning. We'll\n",
        "use `PolynomialDecay` schedule here."
      ],
      "metadata": {
        "id": "j1rUOSRslN6s"
      }
    },
    {
      "cell_type": "code",
      "source": [
        "total_training_steps = sum(1 for _ in wiki_train_ds.as_numpy_iterator()) * EPOCHS\n",
        "lr_schedule = tf.keras.optimizers.schedules.PolynomialDecay(\n",
        "    initial_learning_rate=scaled_learning_rate,\n",
        "    decay_steps=total_training_steps,\n",
        "    end_learning_rate=0.0,\n",
        ")\n",
        "\n",
        "\n",
        "class PrintLR(tf.keras.callbacks.Callback):\n",
        "    def on_epoch_end(self, epoch, logs=None):\n",
        "        print(\n",
        "            f\"\\nLearning rate for epoch {epoch + 1} is {model_dist.optimizer.learning_rate.numpy()}\"\n",
        "        )"
      ],
      "metadata": {
        "id": "tWUfEjBskCnr"
      },
      "execution_count": 11,
      "outputs": []
    },
    {
      "cell_type": "markdown",
      "source": [
        "Let's also make a callback to TensorBoard, this will enable visualization of different\n",
        "metrics while we train the model in later part of this tutorial. We put all the callbacks\n",
        "together as follows:"
      ],
      "metadata": {
        "id": "U03mT2bflVGD"
      }
    },
    {
      "cell_type": "code",
      "source": [
        "callbacks = [\n",
        "    tf.keras.callbacks.TensorBoard(log_dir=\"./logs\"),\n",
        "    PrintLR(),\n",
        "]\n",
        "\n",
        "\n",
        "print(tf.config.list_physical_devices(\"GPU\"))"
      ],
      "metadata": {
        "id": "amgXVmZDkJJs"
      },
      "execution_count": null,
      "outputs": []
    },
    {
      "cell_type": "markdown",
      "source": [
        "With the datasets prepared, we now initialize and compile our model and optimizer within\n",
        "the `strategy.scope()`:"
      ],
      "metadata": {
        "id": "FLsMCirvla2t"
      }
    },
    {
      "cell_type": "code",
      "source": [
        "with strategy.scope():\n",
        "    # Everything that creates variables should be under the strategy scope.\n",
        "    # In general this is only model construction & `compile()`.\n",
        "    model_dist = keras_nlp.models.BertMaskedLM.from_preset(\"bert_tiny_en_uncased\")\n",
        "\n",
        "    # This line just sets pooled_dense layer as non-trainiable, we do this to avoid\n",
        "    # warnings of this layer being unused\n",
        "    model_dist.get_layer(\"bert_backbone\").get_layer(\"pooled_dense\").trainable = False\n",
        "\n",
        "    model_dist.compile(\n",
        "        loss=keras.losses.SparseCategoricalCrossentropy(from_logits=True),\n",
        "        optimizer=tf.keras.optimizers.AdamW(learning_rate=scaled_learning_rate),\n",
        "        weighted_metrics=[keras.metrics.SparseCategoricalAccuracy()],\n",
        "        jit_compile=False,\n",
        "    )\n",
        "\n",
        "    model_dist.fit(\n",
        "        wiki_train_ds, validation_data=wiki_val_ds, epochs=EPOCHS, callbacks=callbacks\n",
        "    )"
      ],
      "metadata": {
        "colab": {
          "base_uri": "https://localhost:8080/"
        },
        "id": "qfIevbF6kVgT",
        "outputId": "cfaa6816-4ee4-42e1-845a-f542d206c940"
      },
      "execution_count": null,
      "outputs": [
        {
          "output_type": "stream",
          "name": "stdout",
          "text": [
            "Downloading data from https://storage.googleapis.com/keras-nlp/models/bert_tiny_en_uncased/v1/vocab.txt\n",
            "\u001b[1m231508/231508\u001b[0m \u001b[32m━━━━━━━━━━━━━━━━━━━━\u001b[0m\u001b[37m\u001b[0m \u001b[1m0s\u001b[0m 1us/step\n",
            "Downloading data from https://storage.googleapis.com/keras-nlp/models/bert_tiny_en_uncased/v1/model.h5\n",
            "\u001b[1m17602216/17602216\u001b[0m \u001b[32m━━━━━━━━━━━━━━━━━━━━\u001b[0m\u001b[37m\u001b[0m \u001b[1m1s\u001b[0m 0us/step\n",
            "Epoch 1/3\n",
            "    154/Unknown \u001b[1m910s\u001b[0m 6s/step - loss: 2.0403 - sparse_categorical_accuracy: 0.0409"
          ]
        }
      ]
    },
    {
      "cell_type": "code",
      "source": [
        "model_dist.evaluate(wiki_test_ds)"
      ],
      "metadata": {
        "id": "bg8En-8Skd7I"
      },
      "execution_count": null,
      "outputs": []
    },
    {
      "cell_type": "markdown",
      "source": [
        "For distributed training across multiple machines (as opposed to training that only leverages\n",
        "multiple devices on a single machine), there are two distribution strategies you\n",
        "could use: `MultiWorkerMirroredStrategy` and `ParameterServerStrategy`:\n",
        "\n",
        "- `tf.distribute.MultiWorkerMirroredStrategy` implements a synchronous CPU/GPU\n",
        "multi-worker solution to work with Keras-style model building and training loop,\n",
        "using synchronous reduction of gradients across the replicas.\n",
        "- `tf.distribute.experimental.ParameterServerStrategy` implements an asynchronous CPU/GPU\n",
        "multi-worker solution, where the parameters are stored on parameter servers, and\n",
        "workers update the gradients to parameter servers asynchronously.\n",
        "\n",
        "### Further reading\n",
        "\n",
        "1. [TensorFlow distributed training guide](https://www.tensorflow.org/guide/distributed_training)\n",
        "2. [Tutorial on multi-worker training with Keras](https://www.tensorflow.org/tutorials/distribute/multi_worker_with_keras)\n",
        "3. [MirroredStrategy docs](https://www.tensorflow.org/api_docs/python/tf/distribute/MirroredStrategy)\n",
        "4. [MultiWorkerMirroredStrategy docs](https://www.tensorflow.org/api_docs/python/tf/distribute/experimental/MultiWorkerMirroredStrategy)\n",
        "5. [Distributed training in tf.keras with Weights & Biases](https://towardsdatascience.com/distributed-training-in-tf-keras-with-w-b-ccf021f9322e)"
      ],
      "metadata": {
        "id": "DzwMu7jIlgx0"
      }
    }
  ],
  "metadata": {
    "colab": {
      "provenance": [],
      "gpuType": "T4",
      "include_colab_link": true
    },
    "kernelspec": {
      "display_name": "Python 3",
      "name": "python3"
    },
    "language_info": {
      "codemirror_mode": {
        "name": "ipython",
        "version": 3
      },
      "file_extension": ".py",
      "mimetype": "text/x-python",
      "name": "python",
      "nbconvert_exporter": "python",
      "pygments_lexer": "ipython3",
      "version": "3.10.12"
    },
    "accelerator": "GPU"
  },
  "nbformat": 4,
  "nbformat_minor": 0
}