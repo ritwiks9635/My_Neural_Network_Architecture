{
  "cells": [
    {
      "cell_type": "markdown",
      "metadata": {
        "id": "view-in-github",
        "colab_type": "text"
      },
      "source": [
        "<a href=\"https://colab.research.google.com/github/ritwiks9635/My_Neural_Network_Architecture/blob/main/Abstractive_Text_Summarization_with_BART.ipynb\" target=\"_parent\"><img src=\"https://colab.research.google.com/assets/colab-badge.svg\" alt=\"Open In Colab\"/></a>"
      ]
    },
    {
      "cell_type": "markdown",
      "source": [
        "#**Abstractive Text Summarization with BART**"
      ],
      "metadata": {
        "id": "c5UMzQdxhSXX"
      }
    },
    {
      "cell_type": "markdown",
      "source": [
        "## Introduction\n",
        "\n",
        "In the era of information overload, it has become crucial to extract the crux\n",
        "of a long document or a conversation and express it in a few sentences. Owing\n",
        "to the fact that summarization has widespread applications in different domains,\n",
        "it has become a key, well-studied NLP task in recent years.\n",
        "\n",
        "[Bidirectional Autoregressive Transformer (BART)](https://arxiv.org/abs/1910.13461)\n",
        "is a Transformer-based encoder-decoder model, often used for\n",
        "sequence-to-sequence tasks like summarization and neural machine translation.\n",
        "BART is pre-trained in a self-supervised fashion on a large text corpus. During\n",
        "pre-training, the text is corrupted and BART is trained to reconstruct the\n",
        "original text (hence called a \"denoising autoencoder\"). Some pre-training tasks\n",
        "include token masking, token deletion, sentence permutation (shuffle sentences\n",
        "and train BART to fix the order), etc.\n",
        "\n",
        "In this example, we will demonstrate how to fine-tune BART on the abstractive\n",
        "summarization task (on conversations!) using KerasNLP, and generate summaries\n",
        "using the fine-tuned model.\n",
        "\n",
        "\n",
        "\n",
        "## Setup\n",
        "\n",
        "Before we start implementing the pipeline, let's install and import all the\n",
        "libraries we need. We'll be using the KerasNLP library. We will also need a\n",
        "couple of utility libraries."
      ],
      "metadata": {
        "id": "a2bsAOxjLcZO"
      }
    },
    {
      "cell_type": "code",
      "source": [
        "!pip install git+https://github.com/keras-team/keras-nlp.git py7zr -q"
      ],
      "metadata": {
        "id": "wtwZiZX0fut2",
        "colab": {
          "base_uri": "https://localhost:8080/"
        },
        "outputId": "7c22c4af-3f79-445d-f738-de00d9c563fe"
      },
      "execution_count": 1,
      "outputs": [
        {
          "output_type": "stream",
          "name": "stdout",
          "text": [
            "  Installing build dependencies ... \u001b[?25l\u001b[?25hdone\n",
            "  Getting requirements to build wheel ... \u001b[?25l\u001b[?25hdone\n",
            "  Preparing metadata (pyproject.toml) ... \u001b[?25l\u001b[?25hdone\n",
            "\u001b[2K     \u001b[90m━━━━━━━━━━━━━━━━━━━━━━━━━━━━━━━━━━━━━━━━\u001b[0m \u001b[32m67.0/67.0 kB\u001b[0m \u001b[31m1.6 MB/s\u001b[0m eta \u001b[36m0:00:00\u001b[0m\n",
            "\u001b[2K     \u001b[90m━━━━━━━━━━━━━━━━━━━━━━━━━━━━━━━━━━━━━━━━\u001b[0m \u001b[32m950.8/950.8 kB\u001b[0m \u001b[31m28.8 MB/s\u001b[0m eta \u001b[36m0:00:00\u001b[0m\n",
            "\u001b[2K     \u001b[90m━━━━━━━━━━━━━━━━━━━━━━━━━━━━━━━━━━━━━━━━\u001b[0m \u001b[32m5.2/5.2 MB\u001b[0m \u001b[31m77.1 MB/s\u001b[0m eta \u001b[36m0:00:00\u001b[0m\n",
            "\u001b[2K     \u001b[90m━━━━━━━━━━━━━━━━━━━━━━━━━━━━━━━━━━━━━━━━\u001b[0m \u001b[32m2.1/2.1 MB\u001b[0m \u001b[31m80.2 MB/s\u001b[0m eta \u001b[36m0:00:00\u001b[0m\n",
            "\u001b[2K     \u001b[90m━━━━━━━━━━━━━━━━━━━━━━━━━━━━━━━━━━━━━━━━\u001b[0m \u001b[32m412.3/412.3 kB\u001b[0m \u001b[31m36.2 MB/s\u001b[0m eta \u001b[36m0:00:00\u001b[0m\n",
            "\u001b[2K     \u001b[90m━━━━━━━━━━━━━━━━━━━━━━━━━━━━━━━━━━━━━━━━\u001b[0m \u001b[32m138.9/138.9 kB\u001b[0m \u001b[31m6.8 MB/s\u001b[0m eta \u001b[36m0:00:00\u001b[0m\n",
            "\u001b[2K     \u001b[90m━━━━━━━━━━━━━━━━━━━━━━━━━━━━━━━━━━━━━━━━\u001b[0m \u001b[32m49.7/49.7 kB\u001b[0m \u001b[31m6.4 MB/s\u001b[0m eta \u001b[36m0:00:00\u001b[0m\n",
            "\u001b[2K     \u001b[90m━━━━━━━━━━━━━━━━━━━━━━━━━━━━━━━━━━━━━━━━\u001b[0m \u001b[32m93.1/93.1 kB\u001b[0m \u001b[31m13.0 MB/s\u001b[0m eta \u001b[36m0:00:00\u001b[0m\n",
            "\u001b[2K     \u001b[90m━━━━━━━━━━━━━━━━━━━━━━━━━━━━━━━━━━━━━━━━\u001b[0m \u001b[32m3.0/3.0 MB\u001b[0m \u001b[31m92.5 MB/s\u001b[0m eta \u001b[36m0:00:00\u001b[0m\n",
            "\u001b[?25h  Building wheel for keras-nlp (pyproject.toml) ... \u001b[?25l\u001b[?25hdone\n"
          ]
        }
      ]
    },
    {
      "cell_type": "markdown",
      "source": [
        "This examples uses [Keras Core](https://keras.io/keras_core/) to work in any of\n",
        "`\"tensorflow\"`, `\"jax\"` or `\"torch\"`. Support for Keras Core is baked into\n",
        "KerasNLP, simply change the `\"KERAS_BACKEND\"` environment variable to select\n",
        "the backend of your choice. We select the JAX backend below."
      ],
      "metadata": {
        "id": "WeK3Oo_9LjD6"
      }
    },
    {
      "cell_type": "code",
      "source": [
        "import os\n",
        "\n",
        "os.environ[\"KERAS_BACKEND\"] = \"jax\""
      ],
      "metadata": {
        "id": "dFoLZD3-F7rD"
      },
      "execution_count": 2,
      "outputs": []
    },
    {
      "cell_type": "code",
      "source": [
        "import py7zr\n",
        "import time\n",
        "\n",
        "import keras_nlp\n",
        "import tensorflow as tf\n",
        "import tensorflow_datasets as tfds\n",
        "\n",
        "import keras_core as keras"
      ],
      "metadata": {
        "id": "ixMYfPVzGASd"
      },
      "execution_count": null,
      "outputs": []
    },
    {
      "cell_type": "code",
      "source": [
        "BATCH_SIZE = 8\n",
        "NUM_BATCHES = 600\n",
        "EPOCHS = 1  # Can be set to a higher value for better results\n",
        "MAX_ENCODER_SEQUENCE_LENGTH = 512\n",
        "MAX_DECODER_SEQUENCE_LENGTH = 128\n",
        "MAX_GENERATION_LENGTH = 40"
      ],
      "metadata": {
        "id": "jjM4-KI4GDoa"
      },
      "execution_count": null,
      "outputs": []
    },
    {
      "cell_type": "markdown",
      "source": [
        "## Dataset\n",
        "\n",
        "Let's load the [SAMSum dataset](https://arxiv.org/abs/1911.12237). This dataset\n",
        "contains around 15,000 pairs of conversations/dialogues and summaries."
      ],
      "metadata": {
        "id": "LzQKINh6Lof5"
      }
    },
    {
      "cell_type": "code",
      "source": [
        "# Download the dataset.\n",
        "filename = keras.utils.get_file(\n",
        "    \"corpus.7z\",\n",
        "    origin=\"https://huggingface.co/datasets/samsum/resolve/main/data/corpus.7z\",\n",
        ")\n",
        "\n",
        "# Extract the `.7z` file.\n",
        "with py7zr.SevenZipFile(filename, mode=\"r\") as z:\n",
        "    z.extractall(path=\"/root/tensorflow_datasets/downloads/manual\")\n",
        "\n",
        "# Load data using TFDS.\n",
        "samsum_ds = tfds.load(\"samsum\", split=\"train\", as_supervised=True)"
      ],
      "metadata": {
        "id": "erKllYssGO-P"
      },
      "execution_count": null,
      "outputs": []
    },
    {
      "cell_type": "code",
      "source": [
        "for dialogue, summary in samsum_ds:\n",
        "    print(dialogue.numpy())\n",
        "    print(summary.numpy())\n",
        "    break"
      ],
      "metadata": {
        "id": "0q0rKBzTGXp2"
      },
      "execution_count": null,
      "outputs": []
    },
    {
      "cell_type": "markdown",
      "source": [
        "We'll now batch the dataset and retain only a subset of the dataset for the\n",
        "purpose of this example. The dialogue is fed to the encoder, and the\n",
        "corresponding summary serves as input to the decoder. We will, therefore, change\n",
        "the format of the dataset to a dictionary having two keys: `\"encoder_text\"` and\n",
        "`\"decoder_text\"`.This is how `keras_nlp.models.BartSeq2SeqLMPreprocessor`\n",
        "expects the input format to be."
      ],
      "metadata": {
        "id": "QgJV4DDRLvcu"
      }
    },
    {
      "cell_type": "code",
      "source": [
        "train_ds = (\n",
        "    samsum_ds.map(\n",
        "        lambda dialogue, summary: {\"encoder_text\": dialogue, \"decoder_text\": summary}\n",
        "    )\n",
        "    .batch(BATCH_SIZE)\n",
        "    .cache()\n",
        ")\n",
        "train_ds = train_ds.take(NUM_BATCHES)"
      ],
      "metadata": {
        "id": "xQ_7YlZnGa9E"
      },
      "execution_count": null,
      "outputs": []
    },
    {
      "cell_type": "markdown",
      "source": [
        "## Fine-tune BART\n",
        "\n",
        "Let's load the model and preprocessor first. We use sequence lengths of 512\n",
        "and 128 for the encoder and decoder, respectively, instead of 1024 (which is the\n",
        "default sequence length). This will allow us to run this example quickly\n",
        "on Colab.\n",
        "\n",
        "If you observe carefully, the preprocessor is attached to the model. What this\n",
        "means is that we don't have to worry about preprocessing the text inputs;\n",
        "everything will be done internally. The preprocessor tokenizes the encoder text\n",
        "and the decoder text, adds special tokens and pads them. To generate labels\n",
        "for auto-regressive training, the preprocessor shifts the decoder text one\n",
        "position to the right. This is done because at every timestep, the model is\n",
        "trained to predict the next token."
      ],
      "metadata": {
        "id": "S_24fZc1L0wN"
      }
    },
    {
      "cell_type": "code",
      "source": [
        "preprocessor = keras_nlp.models.BartSeq2SeqLMPreprocessor.from_preset(\n",
        "    \"bart_base_en\",\n",
        "    encoder_sequence_length=MAX_ENCODER_SEQUENCE_LENGTH,\n",
        "    decoder_sequence_length=MAX_DECODER_SEQUENCE_LENGTH,\n",
        ")\n",
        "bart_lm = keras_nlp.models.BartSeq2SeqLM.from_preset(\n",
        "    \"bart_base_en\", preprocessor=preprocessor\n",
        ")\n",
        "\n",
        "bart_lm.summary()"
      ],
      "metadata": {
        "id": "RbenJ7sZGhKX"
      },
      "execution_count": null,
      "outputs": []
    },
    {
      "cell_type": "markdown",
      "source": [
        "Define the optimizer and loss. We use the Adam optimizer with a linearly\n",
        "decaying learning rate. Compile the model."
      ],
      "metadata": {
        "id": "DqGxUmBZL6iV"
      }
    },
    {
      "cell_type": "code",
      "source": [
        "optimizer = keras.optimizers.AdamW(\n",
        "    learning_rate=5e-5,\n",
        "    weight_decay=0.01,\n",
        "    epsilon=1e-6,\n",
        "    global_clipnorm=1.0,  # Gradient clipping.\n",
        ")\n",
        "# Exclude layernorm and bias terms from weight decay.\n",
        "optimizer.exclude_from_weight_decay(var_names=[\"bias\"])\n",
        "optimizer.exclude_from_weight_decay(var_names=[\"gamma\"])\n",
        "optimizer.exclude_from_weight_decay(var_names=[\"beta\"])\n",
        "\n",
        "loss = keras.losses.SparseCategoricalCrossentropy(from_logits=True)\n",
        "\n",
        "bart_lm.compile(\n",
        "    optimizer=optimizer,\n",
        "    loss=loss,\n",
        "    weighted_metrics=[\"accuracy\"],\n",
        ")"
      ],
      "metadata": {
        "id": "x5oLPkaaGpI7"
      },
      "execution_count": null,
      "outputs": []
    },
    {
      "cell_type": "code",
      "source": [
        "bart_lm.fit(train_ds, epochs=EPOCHS)"
      ],
      "metadata": {
        "id": "13Bff784KFcM"
      },
      "execution_count": null,
      "outputs": []
    },
    {
      "cell_type": "markdown",
      "source": [
        "## Generate summaries and evaluate them!\n",
        "\n",
        "Now that the model has been trained, let's get to the fun part - actually\n",
        "generating summaries! Let's pick the first 100 samples from the validation set\n",
        "and generate summaries for them. We will use the default decoding strategy, i.e.,\n",
        "greedy search.\n",
        "\n",
        "Generation in KerasNLP is highly optimized. It is backed by the power of XLA.\n",
        "Secondly, key/value tensors in the self-attention layer and cross-attention layer\n",
        "in the decoder are cached to avoid recomputation at every timestep."
      ],
      "metadata": {
        "id": "gd4fTA2FMB7F"
      }
    },
    {
      "cell_type": "code",
      "source": [
        "def generate_text(model, input_text, max_length=200, print_time_taken=False):\n",
        "    start = time.time()\n",
        "    output = model.generate(input_text, max_length=max_length)\n",
        "    end = time.time()\n",
        "    print(f\"Total Time Elapsed: {end - start:.2f}s\")\n",
        "    return output\n",
        "\n",
        "\n",
        "# Load the dataset.\n",
        "val_ds = tfds.load(\"samsum\", split=\"validation\", as_supervised=True)\n",
        "val_ds = val_ds.take(100)\n",
        "\n",
        "dialogues = []\n",
        "ground_truth_summaries = []\n",
        "for dialogue, summary in val_ds:\n",
        "    dialogues.append(dialogue.numpy())\n",
        "    ground_truth_summaries.append(summary.numpy())\n",
        "\n",
        "# Let's make a dummy call - the first call to XLA generally takes a bit longer.\n",
        "_ = generate_text(bart_lm, \"sample text\", max_length=MAX_GENERATION_LENGTH)\n",
        "\n",
        "# Generate summaries.\n",
        "generated_summaries = generate_text(\n",
        "    bart_lm,\n",
        "    val_ds.map(lambda dialogue, _: dialogue).batch(8),\n",
        "    max_length=MAX_GENERATION_LENGTH,\n",
        "    print_time_taken=True,\n",
        ")"
      ],
      "metadata": {
        "id": "viWQ7kKhKc2w"
      },
      "execution_count": null,
      "outputs": []
    },
    {
      "cell_type": "markdown",
      "source": [
        "The generated summaries look awesome! Not bad for a model trained only for 1\n",
        "epoch and on 5000 examples :)"
      ],
      "metadata": {
        "id": "hNV2Uh59MIOH"
      }
    },
    {
      "cell_type": "code",
      "source": [
        "for dialogue, generated_summary, ground_truth_summary in zip(\n",
        "    dialogues[:5], generated_summaries[:5], ground_truth_summaries[:5]):\n",
        "    print(\"Dialogue:\", dialogue)\n",
        "    print(\"Generated Summary:\", generated_summary)\n",
        "    print(\"Ground Truth Summary:\", ground_truth_summary)\n",
        "    print(\"=============================\")"
      ],
      "metadata": {
        "id": "danbmxyVLJ8Z"
      },
      "execution_count": null,
      "outputs": []
    }
  ],
  "metadata": {
    "colab": {
      "provenance": [],
      "include_colab_link": true
    },
    "kernelspec": {
      "display_name": "Python 3",
      "name": "python3"
    },
    "language_info": {
      "codemirror_mode": {
        "name": "ipython",
        "version": 3
      },
      "file_extension": ".py",
      "mimetype": "text/x-python",
      "name": "python",
      "nbconvert_exporter": "python",
      "pygments_lexer": "ipython3",
      "version": "3.10.12"
    }
  },
  "nbformat": 4,
  "nbformat_minor": 0
}