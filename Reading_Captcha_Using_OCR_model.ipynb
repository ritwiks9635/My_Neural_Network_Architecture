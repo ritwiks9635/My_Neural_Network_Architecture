{
  "cells": [
    {
      "cell_type": "markdown",
      "metadata": {
        "id": "view-in-github",
        "colab_type": "text"
      },
      "source": [
        "<a href=\"https://colab.research.google.com/github/ritwiks9635/My_Neural_Network_Architecture/blob/main/Reading_Captcha_Using_OCR_model.ipynb\" target=\"_parent\"><img src=\"https://colab.research.google.com/assets/colab-badge.svg\" alt=\"Open In Colab\"/></a>"
      ]
    },
    {
      "cell_type": "markdown",
      "source": [
        "⭐⭐⭐⭐⭐⭐⭐⭐⭐⭐⭐⭐⭐⭐⭐⭐⭐⭐⭐"
      ],
      "metadata": {
        "id": "RoIJST0deRO_"
      }
    },
    {
      "cell_type": "code",
      "source": [
        "import cv2\n",
        "import glob\n",
        "import numpy as np\n",
        "import pandas as pd\n",
        "from pathlib import Path\n",
        "import tensorflow as tf\n",
        "from collections import Counter\n",
        "import matplotlib.pyplot as plt"
      ],
      "metadata": {
        "id": "-0YSMChJyVfe"
      },
      "execution_count": null,
      "outputs": []
    },
    {
      "cell_type": "code",
      "source": [],
      "metadata": {
        "id": "o71mp7WweQtb"
      },
      "execution_count": null,
      "outputs": []
    },
    {
      "cell_type": "code",
      "source": [
        "seed = 1234\n",
        "np.random.seed(seed)\n",
        "tf.random.set_seed(seed)"
      ],
      "metadata": {
        "id": "rXkmq8sM01vV"
      },
      "execution_count": null,
      "outputs": []
    },
    {
      "cell_type": "code",
      "source": [
        "data_dir = Path(\"/content/samples/\")\n",
        "#data_dir\n",
        "print(len(os.listdir(data_dir)))\n",
        "images = list(data_dir.glob(\"*.png\"))\n",
        "print(len(images))"
      ],
      "metadata": {
        "colab": {
          "base_uri": "https://localhost:8080/"
        },
        "id": "6hyK4LvF0690",
        "outputId": "4491d860-f05d-436a-f6bf-57a79e364690"
      },
      "execution_count": null,
      "outputs": [
        {
          "output_type": "stream",
          "name": "stdout",
          "text": [
            "1071\n",
            "1040\n"
          ]
        }
      ]
    },
    {
      "cell_type": "code",
      "source": [
        "img_s = images[:4]\n",
        "_, ax = plt.subplots(2,2, figsize = (4,3))\n",
        "for i in range(4):\n",
        "    img = cv2.imread(str(img_s[i]))\n",
        "    print(\"Shape of image: \", img.shape)\n",
        "    ax[i//2, i%2].imshow(img)\n",
        "    ax[i//2, i%2].axis('off')\n",
        "plt.show()"
      ],
      "metadata": {
        "colab": {
          "base_uri": "https://localhost:8080/",
          "height": 264
        },
        "id": "_hcwzriC4QYT",
        "outputId": "2925244d-0e5f-4c55-a2cf-4afa37deaced"
      },
      "execution_count": null,
      "outputs": [
        {
          "output_type": "stream",
          "name": "stdout",
          "text": [
            "Shape of image:  (50, 200, 3)\n",
            "Shape of image:  (50, 200, 3)\n",
            "Shape of image:  (50, 200, 3)\n",
            "Shape of image:  (50, 200, 3)\n"
          ]
        },
        {
          "output_type": "display_data",
          "data": {
            "text/plain": [
              "<Figure size 400x300 with 4 Axes>"
            ],
            "image/png": "[encoded data removed]"
          },
          "metadata": {}
        }
      ]
    },
    {
      "cell_type": "code",
      "source": [
        "characters = set()\n",
        "\n",
        "captcha_length = []\n",
        "\n",
        "dataset = []\n",
        "\n",
        "\n",
        "for img_path in images:\n",
        "    label = img_path.name.split(\".png\")[0]\n",
        "    captcha_length.append(len(label))\n",
        "    dataset.append((str(img_path), label))\n",
        "    for ch in label:\n",
        "        characters.add(ch)\n",
        "\n",
        "\n",
        "characters = sorted(characters)\n",
        "\n",
        "dataset = pd.DataFrame(dataset, columns=[\"img_path\", \"label\"], index=None)\n",
        "\n",
        "dataset = dataset.sample(frac=1.).reset_index(drop=True)\n",
        "\n",
        "\n",
        "print(\"Number of unqiue charcaters in the whole dataset: \", len(characters))\n",
        "print(\"Maximum length of any captcha: \", max(Counter(captcha_length).keys()))\n",
        "print(\"Characters present: \", characters)\n",
        "print(\"Total number of samples in the dataset: \", len(dataset))\n",
        "dataset.head()"
      ],
      "metadata": {
        "id": "MPg1m2g96H01",
        "colab": {
          "base_uri": "https://localhost:8080/",
          "height": 295
        },
        "outputId": "84d78f64-ff3b-44b4-ac7f-f1e7d860180f"
      },
      "execution_count": null,
      "outputs": [
        {
          "output_type": "stream",
          "name": "stdout",
          "text": [
            "Number of unqiue charcaters in the whole dataset:  19\n",
            "Maximum length of any captcha:  5\n",
            "Characters present:  ['2', '3', '4', '5', '6', '7', '8', 'b', 'c', 'd', 'e', 'f', 'g', 'm', 'n', 'p', 'w', 'x', 'y']\n",
            "Total number of samples in the dataset:  1040\n"
          ]
        },
        {
          "output_type": "execute_result",
          "data": {
            "text/plain": [
              "                     img_path  label\n",
              "0  /content/samples/445cc.png  445cc\n",
              "1  /content/samples/f5e5e.png  f5e5e\n",
              "2  /content/samples/nxx25.png  nxx25\n",
              "3  /content/samples/3n2b4.png  3n2b4\n",
              "4  /content/samples/xc68n.png  xc68n"
            ],
            "text/html": [
              "\n",
              "  <div id=\"df-b16fcb00-7166-4aca-8f76-eefb7ce6c90f\" class=\"colab-df-container\">\n",
              "    <div>\n",
              "<style scoped>\n",
              "    .dataframe tbody tr th:only-of-type {\n",
              "        vertical-align: middle;\n",
              "    }\n",
              "\n",
              "    .dataframe tbody tr th {\n",
              "        vertical-align: top;\n",
              "    }\n",
              "\n",
              "    .dataframe thead th {\n",
              "        text-align: right;\n",
              "    }\n",
              "</style>\n",
              "<table border=\"1\" class=\"dataframe\">\n",
              "  <thead>\n",
              "    <tr style=\"text-align: right;\">\n",
              "      <th></th>\n",
              "      <th>img_path</th>\n",
              "      <th>label</th>\n",
              "    </tr>\n",
              "  </thead>\n",
              "  <tbody>\n",
              "    <tr>\n",
              "      <th>0</th>\n",
              "      <td>/content/samples/445cc.png</td>\n",
              "      <td>445cc</td>\n",
              "    </tr>\n",
              "    <tr>\n",
              "      <th>1</th>\n",
              "      <td>/content/samples/f5e5e.png</td>\n",
              "      <td>f5e5e</td>\n",
              "    </tr>\n",
              "    <tr>\n",
              "      <th>2</th>\n",
              "      <td>/content/samples/nxx25.png</td>\n",
              "      <td>nxx25</td>\n",
              "    </tr>\n",
              "    <tr>\n",
              "      <th>3</th>\n",
              "      <td>/content/samples/3n2b4.png</td>\n",
              "      <td>3n2b4</td>\n",
              "    </tr>\n",
              "    <tr>\n",
              "      <th>4</th>\n",
              "      <td>/content/samples/xc68n.png</td>\n",
              "      <td>xc68n</td>\n",
              "    </tr>\n",
              "  </tbody>\n",
              "</table>\n",
              "</div>\n",
              "    <div class=\"colab-df-buttons\">\n",
              "\n",
              "  <div class=\"colab-df-container\">\n",
              "    <button class=\"colab-df-convert\" onclick=\"convertToInteractive('df-b16fcb00-7166-4aca-8f76-eefb7ce6c90f')\"\n",
              "            title=\"Convert this dataframe to an interactive table.\"\n",
              "            style=\"display:none;\">\n",
              "\n",
              "  <svg xmlns=\"http://www.w3.org/2000/svg\" height=\"24px\" viewBox=\"0 -960 960 960\">\n",
              "    <path d=\"M120-120v-720h720v720H120Zm60-500h600v-160H180v160Zm220 220h160v-160H400v160Zm0 220h160v-160H400v160ZM180-400h160v-160H180v160Zm440 0h160v-160H620v160ZM180-180h160v-160H180v160Zm440 0h160v-160H620v160Z\"/>\n",
              "  </svg>\n",
              "    </button>\n",
              "\n",
              "  <style>\n",
              "    .colab-df-container {\n",
              "      display:flex;\n",
              "      gap: 12px;\n",
              "    }\n",
              "\n",
              "    .colab-df-convert {\n",
              "      background-color: #E8F0FE;\n",
              "      border: none;\n",
              "      border-radius: 50%;\n",
              "      cursor: pointer;\n",
              "      display: none;\n",
              "      fill: #1967D2;\n",
              "      height: 32px;\n",
              "      padding: 0 0 0 0;\n",
              "      width: 32px;\n",
              "    }\n",
              "\n",
              "    .colab-df-convert:hover {\n",
              "      background-color: #E2EBFA;\n",
              "      box-shadow: 0px 1px 2px rgba(60, 64, 67, 0.3), 0px 1px 3px 1px rgba(60, 64, 67, 0.15);\n",
              "      fill: #174EA6;\n",
              "    }\n",
              "\n",
              "    .colab-df-buttons div {\n",
              "      margin-bottom: 4px;\n",
              "    }\n",
              "\n",
              "    [theme=dark] .colab-df-convert {\n",
              "      background-color: #3B4455;\n",
              "      fill: #D2E3FC;\n",
              "    }\n",
              "\n",
              "    [theme=dark] .colab-df-convert:hover {\n",
              "      background-color: #434B5C;\n",
              "      box-shadow: 0px 1px 3px 1px rgba(0, 0, 0, 0.15);\n",
              "      filter: drop-shadow(0px 1px 2px rgba(0, 0, 0, 0.3));\n",
              "      fill: #FFFFFF;\n",
              "    }\n",
              "  </style>\n",
              "\n",
              "    <script>\n",
              "      const buttonEl =\n",
              "        document.querySelector('#df-b16fcb00-7166-4aca-8f76-eefb7ce6c90f button.colab-df-convert');\n",
              "      buttonEl.style.display =\n",
              "        google.colab.kernel.accessAllowed ? 'block' : 'none';\n",
              "\n",
              "      async function convertToInteractive(key) {\n",
              "        const element = document.querySelector('#df-b16fcb00-7166-4aca-8f76-eefb7ce6c90f');\n",
              "        const dataTable =\n",
              "          await google.colab.kernel.invokeFunction('convertToInteractive',\n",
              "                                                    [key], {});\n",
              "        if (!dataTable) return;\n",
              "\n",
              "        const docLinkHtml = 'Like what you see? Visit the ' +\n",
              "          '<a target=\"_blank\" href=https://colab.research.google.com/notebooks/data_table.ipynb>data table notebook</a>'\n",
              "          + ' to learn more about interactive tables.';\n",
              "        element.innerHTML = '';\n",
              "        dataTable['output_type'] = 'display_data';\n",
              "        await google.colab.output.renderOutput(dataTable, element);\n",
              "        const docLink = document.createElement('div');\n",
              "        docLink.innerHTML = docLinkHtml;\n",
              "        element.appendChild(docLink);\n",
              "      }\n",
              "    </script>\n",
              "  </div>\n",
              "\n",
              "\n",
              "<div id=\"df-fc398944-0b65-419c-afda-5b6e504ec76f\">\n",
              "  <button class=\"colab-df-quickchart\" onclick=\"quickchart('df-fc398944-0b65-419c-afda-5b6e504ec76f')\"\n",
              "            title=\"Suggest charts.\"\n",
              "            style=\"display:none;\">\n",
              "\n",
              "<svg xmlns=\"http://www.w3.org/2000/svg\" height=\"24px\"viewBox=\"0 0 24 24\"\n",
              "     width=\"24px\">\n",
              "    <g>\n",
              "        <path d=\"M19 3H5c-1.1 0-2 .9-2 2v14c0 1.1.9 2 2 2h14c1.1 0 2-.9 2-2V5c0-1.1-.9-2-2-2zM9 17H7v-7h2v7zm4 0h-2V7h2v10zm4 0h-2v-4h2v4z\"/>\n",
              "    </g>\n",
              "</svg>\n",
              "  </button>\n",
              "\n",
              "<style>\n",
              "  .colab-df-quickchart {\n",
              "      --bg-color: #E8F0FE;\n",
              "      --fill-color: #1967D2;\n",
              "      --hover-bg-color: #E2EBFA;\n",
              "      --hover-fill-color: #174EA6;\n",
              "      --disabled-fill-color: #AAA;\n",
              "      --disabled-bg-color: #DDD;\n",
              "  }\n",
              "\n",
              "  [theme=dark] .colab-df-quickchart {\n",
              "      --bg-color: #3B4455;\n",
              "      --fill-color: #D2E3FC;\n",
              "      --hover-bg-color: #434B5C;\n",
              "      --hover-fill-color: #FFFFFF;\n",
              "      --disabled-bg-color: #3B4455;\n",
              "      --disabled-fill-color: #666;\n",
              "  }\n",
              "\n",
              "  .colab-df-quickchart {\n",
              "    background-color: var(--bg-color);\n",
              "    border: none;\n",
              "    border-radius: 50%;\n",
              "    cursor: pointer;\n",
              "    display: none;\n",
              "    fill: var(--fill-color);\n",
              "    height: 32px;\n",
              "    padding: 0;\n",
              "    width: 32px;\n",
              "  }\n",
              "\n",
              "  .colab-df-quickchart:hover {\n",
              "    background-color: var(--hover-bg-color);\n",
              "    box-shadow: 0 1px 2px rgba(60, 64, 67, 0.3), 0 1px 3px 1px rgba(60, 64, 67, 0.15);\n",
              "    fill: var(--button-hover-fill-color);\n",
              "  }\n",
              "\n",
              "  .colab-df-quickchart-complete:disabled,\n",
              "  .colab-df-quickchart-complete:disabled:hover {\n",
              "    background-color: var(--disabled-bg-color);\n",
              "    fill: var(--disabled-fill-color);\n",
              "    box-shadow: none;\n",
              "  }\n",
              "\n",
              "  .colab-df-spinner {\n",
              "    border: 2px solid var(--fill-color);\n",
              "    border-color: transparent;\n",
              "    border-bottom-color: var(--fill-color);\n",
              "    animation:\n",
              "      spin 1s steps(1) infinite;\n",
              "  }\n",
              "\n",
              "  @keyframes spin {\n",
              "    0% {\n",
              "      border-color: transparent;\n",
              "      border-bottom-color: var(--fill-color);\n",
              "      border-left-color: var(--fill-color);\n",
              "    }\n",
              "    20% {\n",
              "      border-color: transparent;\n",
              "      border-left-color: var(--fill-color);\n",
              "      border-top-color: var(--fill-color);\n",
              "    }\n",
              "    30% {\n",
              "      border-color: transparent;\n",
              "      border-left-color: var(--fill-color);\n",
              "      border-top-color: var(--fill-color);\n",
              "      border-right-color: var(--fill-color);\n",
              "    }\n",
              "    40% {\n",
              "      border-color: transparent;\n",
              "      border-right-color: var(--fill-color);\n",
              "      border-top-color: var(--fill-color);\n",
              "    }\n",
              "    60% {\n",
              "      border-color: transparent;\n",
              "      border-right-color: var(--fill-color);\n",
              "    }\n",
              "    80% {\n",
              "      border-color: transparent;\n",
              "      border-right-color: var(--fill-color);\n",
              "      border-bottom-color: var(--fill-color);\n",
              "    }\n",
              "    90% {\n",
              "      border-color: transparent;\n",
              "      border-bottom-color: var(--fill-color);\n",
              "    }\n",
              "  }\n",
              "</style>\n",
              "\n",
              "  <script>\n",
              "    async function quickchart(key) {\n",
              "      const quickchartButtonEl =\n",
              "        document.querySelector('#' + key + ' button');\n",
              "      quickchartButtonEl.disabled = true;  // To prevent multiple clicks.\n",
              "      quickchartButtonEl.classList.add('colab-df-spinner');\n",
              "      try {\n",
              "        const charts = await google.colab.kernel.invokeFunction(\n",
              "            'suggestCharts', [key], {});\n",
              "      } catch (error) {\n",
              "        console.error('Error during call to suggestCharts:', error);\n",
              "      }\n",
              "      quickchartButtonEl.classList.remove('colab-df-spinner');\n",
              "      quickchartButtonEl.classList.add('colab-df-quickchart-complete');\n",
              "    }\n",
              "    (() => {\n",
              "      let quickchartButtonEl =\n",
              "        document.querySelector('#df-fc398944-0b65-419c-afda-5b6e504ec76f button');\n",
              "      quickchartButtonEl.style.display =\n",
              "        google.colab.kernel.accessAllowed ? 'block' : 'none';\n",
              "    })();\n",
              "  </script>\n",
              "</div>\n",
              "    </div>\n",
              "  </div>\n"
            ]
          },
          "metadata": {},
          "execution_count": 14
        }
      ]
    },
    {
      "cell_type": "code",
      "source": [
        "from sklearn.model_selection import train_test_split"
      ],
      "metadata": {
        "id": "mPzOXmcyHh4w"
      },
      "execution_count": null,
      "outputs": []
    },
    {
      "cell_type": "code",
      "source": [
        "training_data, validation_data = train_test_split(dataset, test_size=0.1, random_state=seed)\n",
        "\n",
        "training_data = training_data.reset_index(drop=True)\n",
        "validation_data = validation_data.reset_index(drop=True)\n",
        "\n",
        "print(\"Number of training samples: \", len(training_data))\n",
        "print(\"Number of validation samples: \", len(validation_data))"
      ],
      "metadata": {
        "colab": {
          "base_uri": "https://localhost:8080/"
        },
        "id": "nHOmK96mGvvc",
        "outputId": "8018b858-bdcd-470a-b021-2f8665ddf18b"
      },
      "execution_count": null,
      "outputs": [
        {
          "output_type": "stream",
          "name": "stdout",
          "text": [
            "Number of training samples:  936\n",
            "Number of validation samples:  104\n"
          ]
        }
      ]
    },
    {
      "cell_type": "code",
      "source": [
        "char_to_labels = {char:idx for idx, char in enumerate(characters)}\n",
        "\n",
        "labels_to_char = {val:key for key, val in char_to_labels.items()}\n",
        "\n",
        "\n",
        "def is_valid_captcha(captcha):\n",
        "    for ch in captcha:\n",
        "        if not ch in characters:\n",
        "            return False\n",
        "    return True"
      ],
      "metadata": {
        "id": "SCO86pEWIgcF"
      },
      "execution_count": null,
      "outputs": []
    },
    {
      "cell_type": "code",
      "source": [
        "def generate_arrays(df, resize=True, img_height=50, img_width=200):\n",
        "    num_items = len(df)\n",
        "    images = np.zeros((num_items, img_height, img_width), dtype=np.float32)\n",
        "    labels = [0]*num_items\n",
        "\n",
        "    for i in range(num_items):\n",
        "        img = cv2.imread(df[\"img_path\"][i])\n",
        "        img = cv2.cvtColor(img, cv2.COLOR_BGR2GRAY)\n",
        "\n",
        "        if resize:\n",
        "            img = cv2.resize(img, (img_width, img_height))\n",
        "\n",
        "        img = (img/255.).astype(np.float32)\n",
        "        label = df[\"label\"][i]\n",
        "\n",
        "        # Add only if it is a valid captcha\n",
        "        if is_valid_captcha(label):\n",
        "            images[i, :, :] = img\n",
        "            labels[i] = label\n",
        "\n",
        "    return images, np.array(labels)"
      ],
      "metadata": {
        "id": "Uo0xzcN7MZsB"
      },
      "execution_count": null,
      "outputs": []
    },
    {
      "cell_type": "code",
      "source": [
        "training_data, training_labels = generate_arrays(df=training_data)\n",
        "print(\"Number of training images: \", training_data.shape)\n",
        "print(\"Number of training labels: \", training_labels.shape)\n",
        "\n",
        "\n",
        "\n",
        "validation_data, validation_labels = generate_arrays(df=validation_data)\n",
        "print(\"Number of validation images: \", validation_data.shape)\n",
        "print(\"Number of validation labels: \", validation_labels.shape)"
      ],
      "metadata": {
        "colab": {
          "base_uri": "https://localhost:8080/"
        },
        "id": "vyP5kw5-UZwu",
        "outputId": "94099e91-eb8b-4963-e2c7-7bfb0068ef2f"
      },
      "execution_count": null,
      "outputs": [
        {
          "output_type": "stream",
          "name": "stdout",
          "text": [
            "Number of training images:  (936, 50, 200)\n",
            "Number of training labels:  (936,)\n",
            "Number of validation images:  (104, 50, 200)\n",
            "Number of validation labels:  (104,)\n"
          ]
        }
      ]
    },
    {
      "cell_type": "code",
      "source": [
        "class DataGenerator(tf.keras.utils.Sequence):\n",
        "    def __init__(self,\n",
        "                 data,\n",
        "                 labels,\n",
        "                 char_map,\n",
        "                 batch_size=16,\n",
        "                 img_width=200,\n",
        "                 img_height=50,\n",
        "                 downsample_factor=4,\n",
        "                 max_length=5,\n",
        "                 shuffle=True\n",
        "                ):\n",
        "        self.data = data\n",
        "        self.labels = labels\n",
        "        self.char_map = char_map\n",
        "        self.batch_size = batch_size\n",
        "        self.img_width = img_width\n",
        "        self.img_height = img_height\n",
        "        self.downsample_factor = downsample_factor\n",
        "        self.max_length = max_length\n",
        "        self.shuffle = shuffle\n",
        "        self.indices = np.arange(len(data))\n",
        "        self.on_epoch_end()\n",
        "\n",
        "    def __len__(self):\n",
        "        return int(np.ceil(len(self.data) / self.batch_size))\n",
        "\n",
        "    def __getitem__(self, idx):\n",
        "\n",
        "        curr_batch_idx = self.indices[idx*self.batch_size:(idx+1)*self.batch_size]\n",
        "\n",
        "\n",
        "        batch_len = len(curr_batch_idx)\n",
        "\n",
        "\n",
        "        batch_images = np.ones((batch_len, self.img_width, self.img_height, 1),\n",
        "                               dtype=np.float32)\n",
        "        batch_labels = np.ones((batch_len, self.max_length), dtype=np.float32)\n",
        "        input_length = np.ones((batch_len, 1), dtype=np.int64) * \\\n",
        "                                (self.img_width // self.downsample_factor - 2)\n",
        "        label_length = np.zeros((batch_len, 1), dtype=np.int64)\n",
        "\n",
        "\n",
        "        for j, idx in enumerate(curr_batch_idx):\n",
        "\n",
        "            img = self.data[idx].T\n",
        "\n",
        "            img = np.expand_dims(img, axis=-1)\n",
        "\n",
        "            text = self.labels[idx]\n",
        "\n",
        "            if is_valid_captcha(text):\n",
        "                label = [self.char_map[ch] for ch in text]\n",
        "                batch_images[j] = img\n",
        "                batch_labels[j] = label\n",
        "                label_length[j] = len(text)\n",
        "\n",
        "        batch_inputs = {\n",
        "                'input_data': batch_images,\n",
        "                'input_label': batch_labels,\n",
        "                'input_length': input_length,\n",
        "                'label_length': label_length,\n",
        "                }\n",
        "        return batch_inputs, np.zeros(batch_len).astype(np.float32)\n",
        "\n",
        "\n",
        "    def on_epoch_end(self):\n",
        "        if self.shuffle:\n",
        "            np.random.shuffle(self.indices)"
      ],
      "metadata": {
        "id": "unwkowbtc70_"
      },
      "execution_count": null,
      "outputs": []
    },
    {
      "cell_type": "code",
      "source": [
        "img_width = 200\n",
        "img_height = 50\n",
        "batch_size = 16\n",
        "downsample_factor = 4\n",
        "max_length = 5"
      ],
      "metadata": {
        "id": "HEQxHTM4texQ"
      },
      "execution_count": null,
      "outputs": []
    },
    {
      "cell_type": "code",
      "source": [
        "train_data_generator = DataGenerator(data=training_data,\n",
        "                                     labels=training_labels,\n",
        "                                     char_map=char_to_labels,\n",
        "                                     batch_size=batch_size,\n",
        "                                     img_width=img_width,\n",
        "                                     img_height=img_height,\n",
        "                                     downsample_factor=downsample_factor,\n",
        "                                     max_length=max_length,\n",
        "                                     shuffle=True\n",
        "                                    )\n",
        "\n",
        "\n",
        "valid_data_generator = DataGenerator(data=validation_data,\n",
        "                                     labels=validation_labels,\n",
        "                                     char_map=char_to_labels,\n",
        "                                     batch_size=batch_size,\n",
        "                                     img_width=img_width,\n",
        "                                     img_height=img_height,\n",
        "                                     downsample_factor=downsample_factor,\n",
        "                                     max_length=max_length,\n",
        "                                     shuffle=False\n",
        "                                    )"
      ],
      "metadata": {
        "id": "eY8ZcQFcdFLq"
      },
      "execution_count": null,
      "outputs": []
    },
    {
      "cell_type": "code",
      "source": [
        "class CTCLayer(tf.keras.layers.Layer):\n",
        "    def __init__(self, name=None):\n",
        "        super().__init__(name=name)\n",
        "        self.loss_fn = tf.keras.backend.ctc_batch_cost\n",
        "\n",
        "    def call(self, y_true, y_pred, input_length, label_length):\n",
        "\n",
        "        loss = self.loss_fn(y_true, y_pred, input_length, label_length)\n",
        "        self.add_loss(loss)\n",
        "\n",
        "        return loss\n",
        "\n",
        "\n",
        "\n",
        "def build_model():\n",
        "    # Inputs to the model\n",
        "    input_img = tf.keras.layers.Input(shape=(img_width, img_height, 1),\n",
        "                            name='input_data',\n",
        "                            dtype='float32')\n",
        "    labels = tf.keras.layers.Input(name='input_label', shape=[max_length], dtype='float32')\n",
        "    input_length = tf.keras.layers.Input(name='input_length', shape=[1], dtype='int64')\n",
        "    label_length = tf.keras.layers.Input(name='label_length', shape=[1], dtype='int64')\n",
        "\n",
        "    # First conv block\n",
        "    x = tf.keras.layers.Conv2D(32,\n",
        "               (3,3),\n",
        "               activation='relu',\n",
        "               kernel_initializer='he_normal',\n",
        "               padding='same',\n",
        "               name='Conv1')(input_img)\n",
        "    x = tf.keras.layers.MaxPooling2D((2,2), name='pool1')(x)\n",
        "\n",
        "    # Second conv block\n",
        "    x = tf.keras.layers.Conv2D(64,\n",
        "               (3,3),\n",
        "               activation='relu',\n",
        "               kernel_initializer='he_normal',\n",
        "               padding='same',\n",
        "               name='Conv2')(x)\n",
        "    x = tf.keras.layers.MaxPooling2D((2,2), name='pool2')(x)\n",
        "\n",
        "\n",
        "    new_shape = ((img_width // 4), (img_height // 4)*64)\n",
        "    x = tf.keras.layers.Reshape(target_shape=new_shape, name='reshape')(x)\n",
        "    x = tf.keras.layers.Dense(64, activation='relu', name='dense1')(x)\n",
        "    x = tf.keras.layers.Dropout(0.2)(x)\n",
        "\n",
        "    # RNNs\n",
        "    x = tf.keras.layers.Bidirectional(tf.keras.layers.LSTM(128,\n",
        "                                         return_sequences=True,\n",
        "                                         dropout=0.2))(x)\n",
        "    x = tf.keras.layers.Bidirectional(tf.keras.layers.LSTM(64,\n",
        "                                         return_sequences=True,\n",
        "                                         dropout=0.25))(x)\n",
        "\n",
        "    # Predictions\n",
        "    x = tf.keras.layers.Dense(len(characters)+1,\n",
        "              activation='softmax',\n",
        "              name='dense2',\n",
        "              kernel_initializer='he_normal')(x)\n",
        "\n",
        "    # Calculate CTC\n",
        "    output = CTCLayer(name='ctc_loss')(labels, x, input_length, label_length)\n",
        "\n",
        "    # Define the model\n",
        "    model = tf.keras.models.Model(inputs=[input_img,\n",
        "                                       labels,\n",
        "                                       input_length,\n",
        "                                       label_length],\n",
        "                                outputs=output,\n",
        "                                name='ocr_model_v1')\n",
        "\n",
        "    # Optimizer\n",
        "    sgd = tf.keras.optimizers.experimental.SGD(learning_rate=0.002,\n",
        "                               weight_decay=1e-6,\n",
        "                               momentum=0.9,\n",
        "                               nesterov=True,\n",
        "                               clipnorm=5)\n",
        "\n",
        "    # Compile the model and return\n",
        "    model.compile(optimizer=sgd)\n",
        "    return model"
      ],
      "metadata": {
        "id": "TvXrEL3wplRQ"
      },
      "execution_count": null,
      "outputs": []
    },
    {
      "cell_type": "code",
      "source": [
        "model = build_model()\n",
        "model.summary()"
      ],
      "metadata": {
        "colab": {
          "base_uri": "https://localhost:8080/"
        },
        "id": "BGtVNXZ0wuFx",
        "outputId": "db97c71f-0d2c-4988-ac4f-9dcff07e328a"
      },
      "execution_count": null,
      "outputs": [
        {
          "output_type": "stream",
          "name": "stdout",
          "text": [
            "Model: \"ocr_model_v1\"\n",
            "__________________________________________________________________________________________________\n",
            " Layer (type)                Output Shape                 Param #   Connected to                  \n",
            "==================================================================================================\n",
            " input_data (InputLayer)     [(None, 200, 50, 1)]         0         []                            \n",
            "                                                                                                  \n",
            " Conv1 (Conv2D)              (None, 200, 50, 32)          320       ['input_data[0][0]']          \n",
            "                                                                                                  \n",
            " pool1 (MaxPooling2D)        (None, 100, 25, 32)          0         ['Conv1[0][0]']               \n",
            "                                                                                                  \n",
            " Conv2 (Conv2D)              (None, 100, 25, 64)          18496     ['pool1[0][0]']               \n",
            "                                                                                                  \n",
            " pool2 (MaxPooling2D)        (None, 50, 12, 64)           0         ['Conv2[0][0]']               \n",
            "                                                                                                  \n",
            " reshape (Reshape)           (None, 50, 768)              0         ['pool2[0][0]']               \n",
            "                                                                                                  \n",
            " dense1 (Dense)              (None, 50, 64)               49216     ['reshape[0][0]']             \n",
            "                                                                                                  \n",
            " dropout_1 (Dropout)         (None, 50, 64)               0         ['dense1[0][0]']              \n",
            "                                                                                                  \n",
            " bidirectional_2 (Bidirecti  (None, 50, 256)              197632    ['dropout_1[0][0]']           \n",
            " onal)                                                                                            \n",
            "                                                                                                  \n",
            " bidirectional_3 (Bidirecti  (None, 50, 128)              164352    ['bidirectional_2[0][0]']     \n",
            " onal)                                                                                            \n",
            "                                                                                                  \n",
            " input_label (InputLayer)    [(None, 5)]                  0         []                            \n",
            "                                                                                                  \n",
            " dense2 (Dense)              (None, 50, 20)               2580      ['bidirectional_3[0][0]']     \n",
            "                                                                                                  \n",
            " input_length (InputLayer)   [(None, 1)]                  0         []                            \n",
            "                                                                                                  \n",
            " label_length (InputLayer)   [(None, 1)]                  0         []                            \n",
            "                                                                                                  \n",
            " ctc_loss (CTCLayer)         (None, 1)                    0         ['input_label[0][0]',         \n",
            "                                                                     'dense2[0][0]',              \n",
            "                                                                     'input_length[0][0]',        \n",
            "                                                                     'label_length[0][0]']        \n",
            "                                                                                                  \n",
            "==================================================================================================\n",
            "Total params: 432596 (1.65 MB)\n",
            "Trainable params: 432596 (1.65 MB)\n",
            "Non-trainable params: 0 (0.00 Byte)\n",
            "__________________________________________________________________________________________________\n"
          ]
        }
      ]
    },
    {
      "cell_type": "code",
      "source": [
        "e_s = tf.keras.callbacks.EarlyStopping(monitor = \"val_loss\", patience = 5, restore_best_weights = True)"
      ],
      "metadata": {
        "id": "muG0alc31H_Q"
      },
      "execution_count": null,
      "outputs": []
    },
    {
      "cell_type": "code",
      "source": [
        "history = model.fit(train_data_generator, validation_data = valid_data_generator, epochs = 50, callbacks = [e_s])"
      ],
      "metadata": {
        "colab": {
          "base_uri": "https://localhost:8080/"
        },
        "id": "GoL2m9MH1qSs",
        "outputId": "8cb1b68e-b838-4adc-dd31-ee840c77d78d"
      },
      "execution_count": null,
      "outputs": [
        {
          "output_type": "stream",
          "name": "stdout",
          "text": [
            "Epoch 1/50\n",
            "59/59 [==============================] - 2s 37ms/step - loss: 0.3295 - val_loss: 0.2656\n",
            "Epoch 2/50\n",
            "59/59 [==============================] - 2s 34ms/step - loss: 0.2542 - val_loss: 0.2310\n",
            "Epoch 3/50\n",
            "59/59 [==============================] - 2s 27ms/step - loss: 0.1991 - val_loss: 0.1856\n",
            "Epoch 4/50\n",
            "59/59 [==============================] - 2s 27ms/step - loss: 0.1890 - val_loss: 0.1748\n",
            "Epoch 5/50\n",
            "59/59 [==============================] - 2s 28ms/step - loss: 0.1389 - val_loss: 0.2011\n",
            "Epoch 6/50\n",
            "59/59 [==============================] - 2s 27ms/step - loss: 0.1244 - val_loss: 0.1713\n",
            "Epoch 7/50\n",
            "59/59 [==============================] - 2s 28ms/step - loss: 0.0928 - val_loss: 0.1712\n",
            "Epoch 8/50\n",
            "59/59 [==============================] - 2s 32ms/step - loss: 0.1025 - val_loss: 0.1853\n",
            "Epoch 9/50\n",
            "59/59 [==============================] - 2s 26ms/step - loss: 0.0764 - val_loss: 0.1813\n",
            "Epoch 10/50\n",
            "59/59 [==============================] - 2s 26ms/step - loss: 0.0774 - val_loss: 0.1328\n",
            "Epoch 11/50\n",
            "59/59 [==============================] - 2s 27ms/step - loss: 0.0659 - val_loss: 0.1773\n",
            "Epoch 12/50\n",
            "59/59 [==============================] - 2s 26ms/step - loss: 0.0670 - val_loss: 0.1716\n",
            "Epoch 13/50\n",
            "59/59 [==============================] - 2s 37ms/step - loss: 0.0469 - val_loss: 0.1930\n",
            "Epoch 14/50\n",
            "59/59 [==============================] - 2s 26ms/step - loss: 0.0564 - val_loss: 0.1570\n",
            "Epoch 15/50\n",
            "59/59 [==============================] - 2s 27ms/step - loss: 0.0482 - val_loss: 0.1652\n"
          ]
        }
      ]
    },
    {
      "cell_type": "code",
      "source": [
        "prediction_model = tf.keras.models.Model(model.get_layer(name='input_data').input,\n",
        "                                        model.get_layer(name='dense2').output)"
      ],
      "metadata": {
        "id": "FgWWXo69Icdr"
      },
      "execution_count": null,
      "outputs": []
    },
    {
      "cell_type": "code",
      "source": [
        "def decode_batch_predictions(pred):\n",
        "    pred = pred[:, :-2]\n",
        "    input_len = np.ones(pred.shape[0])*pred.shape[1]\n",
        "\n",
        "    # Use greedy search. For complex tasks, you can use beam search\n",
        "    results = tf.keras.backend.ctc_decode(pred,\n",
        "                                        input_length=input_len,\n",
        "                                        greedy=True)[0][0]\n",
        "\n",
        "    # Iterate over the results and get back the text\n",
        "    output_text = []\n",
        "    for res in results.numpy():\n",
        "        outstr = ''\n",
        "        for c in res:\n",
        "            if c < len(characters) and c >=0:\n",
        "                outstr += labels_to_char[c]\n",
        "        output_text.append(outstr)\n",
        "\n",
        "    # return final text results\n",
        "    return output_text"
      ],
      "metadata": {
        "id": "BgW3ApXXI8tE"
      },
      "execution_count": null,
      "outputs": []
    },
    {
      "cell_type": "code",
      "source": [
        "for p, (inp_value, _) in enumerate(valid_data_generator):\n",
        "    bs = inp_value['input_data'].shape[0]\n",
        "    X_data = inp_value['input_data']\n",
        "    labels = inp_value['input_label']\n",
        "\n",
        "    preds = prediction_model.predict(X_data)\n",
        "    pred_texts = decode_batch_predictions(preds)\n",
        "\n",
        "\n",
        "    orig_texts = []\n",
        "    for label in labels:\n",
        "        text = ''.join([labels_to_char[int(x)] for x in label])\n",
        "        orig_texts.append(text)\n",
        "\n",
        "    for i in range(bs):\n",
        "        print(f'Ground truth: {orig_texts[i]} \\t Predicted: {pred_texts[i]}')\n",
        "    break"
      ],
      "metadata": {
        "colab": {
          "base_uri": "https://localhost:8080/"
        },
        "id": "_zTg0hboJVQA",
        "outputId": "7af027f1-9452-4a37-fc52-eda102674bc9"
      },
      "execution_count": null,
      "outputs": [
        {
          "output_type": "stream",
          "name": "stdout",
          "text": [
            "1/1 [==============================] - 2s 2s/step\n",
            "Ground truth: wf684 \t Predicted: wf684\n",
            "Ground truth: 2nf26 \t Predicted: 2nf26\n",
            "Ground truth: 5bg8f \t Predicted: 5bg8f\n",
            "Ground truth: gpnxn \t Predicted: gpnxn\n",
            "Ground truth: p2ym2 \t Predicted: p2ym2\n",
            "Ground truth: cy3nw \t Predicted: cy3nw\n",
            "Ground truth: xw465 \t Predicted: xw465\n",
            "Ground truth: 8y63f \t Predicted: 8y63f\n",
            "Ground truth: mxnw4 \t Predicted: mxmw4\n",
            "Ground truth: d6fcn \t Predicted: d6fcn\n",
            "Ground truth: 2mpnn \t Predicted: 2mpnn\n",
            "Ground truth: n7g4f \t Predicted: n7g4f\n",
            "Ground truth: 4c8n8 \t Predicted: 4c8n8\n",
            "Ground truth: c4bny \t Predicted: c4bny\n",
            "Ground truth: 34fxm \t Predicted: 34fxm\n",
            "Ground truth: xce8d \t Predicted: xce8d\n"
          ]
        }
      ]
    },
    {
      "cell_type": "markdown",
      "source": [
        "😃😃😃😃😃😃😃😃😃😃😃😃😃😃😃😃😃😃😃"
      ],
      "metadata": {
        "id": "gewvzCR3fNPS"
      }
    }
  ],
  "metadata": {
    "accelerator": "GPU",
    "colab": {
      "provenance": [],
      "gpuType": "T4",
      "authorship_tag": "ABX9TyMxrEyswMrGQp6SvgMuj3wn",
      "include_colab_link": true
    },
    "kernelspec": {
      "display_name": "Python 3",
      "name": "python3"
    },
    "language_info": {
      "name": "python"
    }
  },
  "nbformat": 4,
  "nbformat_minor": 0
}