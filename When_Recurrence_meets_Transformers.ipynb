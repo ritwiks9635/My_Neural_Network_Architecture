{
  "cells": [
    {
      "cell_type": "markdown",
      "metadata": {
        "id": "view-in-github",
        "colab_type": "text"
      },
      "source": [
        "<a href=\"https://colab.research.google.com/github/ritwiks9635/My_Neural_Network_Architecture/blob/main/When_Recurrence_meets_Transformers.ipynb\" target=\"_parent\"><img src=\"https://colab.research.google.com/assets/colab-badge.svg\" alt=\"Open In Colab\"/></a>"
      ]
    },
    {
      "cell_type": "markdown",
      "source": [
        "#**When Recurrence meets Transformers**"
      ],
      "metadata": {
        "id": "i2m2qcsrpceq"
      }
    },
    {
      "cell_type": "markdown",
      "source": [
        "## Introduction\n",
        "\n",
        "A simple Recurrent Neural Network (RNN) displays a strong inductive bias towards learning\n",
        "**temporally compressed representations**. **Equation 1** shows the recurrence formula,\n",
        "where `h_t` is the compressed representation (a single vector) of the entire input\n",
        "sequence `x`.\n",
        "\n",
        "| ![Equation of RNN](https://i.imgur.com/Kdyj2jr.png) |\n",
        "| :--: |\n",
        "| **Equation 1**: The recurrence equation. (Source: Aritra and Suvaditya)|\n",
        "\n",
        "On the other hand, Transformers ([Vaswani et. al](https://arxiv.org/abs/1706.03762)) have\n",
        "little inductive bias towards learning temporally compressed representations.\n",
        "Transformer has achieved SoTA results in Natural Language Processing (NLP)\n",
        "and Vision tasks with its pairwise attention mechanism.\n",
        "\n",
        "While the Transformer has the ability to **attend** to different sections of the input\n",
        "sequence, the computation of attention is quadratic in nature.\n",
        "\n",
        "[Didolkar et. al](https://arxiv.org/abs/2205.14794) argue that having a more compressed\n",
        "representation of a sequence may be beneficial for *generalization*, as it can be easily\n",
        "**re-used** and **re-purposed** with fewer irrelevant details. While compression is good,\n",
        "they also notice that too much of it can harm expressiveness.\n",
        "\n",
        "The authors propose a solution that divides computation into **two streams**. A *slow\n",
        "stream* that is recurrent in nature and a *fast stream* that is parameterized as a\n",
        "Transformer. While this method has the novelty of introducing different processing\n",
        "streams in order to preserve and process latent states, it has parallels drawn in other\n",
        "works like the [Perceiver Mechanism (by Jaegle et. al.)](https://arxiv.org/abs/2103.03206)\n",
        "and [Grounded Language Learning Fast and Slow (by Hill et. al.)](https://arxiv.org/abs/2009.01719).\n",
        "\n",
        "The following example explores how we can make use of the new Temporal Latent Bottleneck\n",
        "mechanism to perform image classification on the CIFAR-10 dataset. We implement this\n",
        "model by making a custom `RNNCell` implementation in order to make a **performant** and\n",
        "**vectorized** design.\n",
        "\n",
        "_Note_: This example makes use of `TensorFlow 2.12.0`, which must be installed into our\n",
        "system"
      ],
      "metadata": {
        "id": "bbK7CtBBGT3G"
      }
    },
    {
      "cell_type": "code",
      "source": [
        "import random\n",
        "import tensorflow as tf\n",
        "from tensorflow import keras\n",
        "import matplotlib.pyplot as plt\n",
        "from tensorflow.keras import layers\n",
        "from tensorflow.keras import mixed_precision\n",
        "from tensorflow.keras.optimizers import AdamW\n",
        "\n",
        "\n",
        "tf.random.set_seed(42)"
      ],
      "metadata": {
        "id": "-X5CnxXupibp"
      },
      "execution_count": 7,
      "outputs": []
    },
    {
      "cell_type": "markdown",
      "source": [
        "## Setting required configuration\n",
        "\n",
        "We set a few configuration parameters that are needed within the pipeline we have\n",
        "designed. The current parameters are for use with the\n",
        "[CIFAR10 dataset](https://www.cs.toronto.edu/~kriz/cifar.html).\n",
        "\n",
        "\n",
        "The model also supports `mixed-precision` settings, which would quantize the model to use\n",
        "`16-bit` float numbers where it can, while keeping some parameters in `32-bit` as needed\n",
        "for numerical stability. This brings performance benefits as the footprint of the model\n",
        "decreases significantly while bringing speed boosts at inference-time."
      ],
      "metadata": {
        "id": "4WHnxZtzGh8P"
      }
    },
    {
      "cell_type": "code",
      "source": [
        "config = {\n",
        "    \"mixed_precision\": True,\n",
        "    \"dataset\": \"cifar10\",\n",
        "    \"train_slice\": 40_000,\n",
        "    \"batch_size\": 2048,\n",
        "    \"buffer_size\": 2048 * 2,\n",
        "    \"input_shape\": [32, 32, 3],\n",
        "    \"image_size\": 48,\n",
        "    \"num_classes\": 10,\n",
        "    \"learning_rate\": 1e-4,\n",
        "    \"weight_decay\": 1e-4,\n",
        "    \"epochs\": 30,\n",
        "    \"patch_size\": 4,\n",
        "    \"embed_dim\": 64,\n",
        "    \"chunk_size\": 8,\n",
        "    \"r\": 2,\n",
        "    \"num_layers\": 4,\n",
        "    \"ffn_drop\": 0.2,\n",
        "    \"attn_drop\": 0.2,\n",
        "    \"num_heads\": 1,\n",
        "}\n",
        "\n",
        "if config[\"mixed_precision\"]:\n",
        "    policy = mixed_precision.Policy(\"mixed_float16\")\n",
        "    mixed_precision.set_global_policy(policy)"
      ],
      "metadata": {
        "id": "TDXjO9SeuzOD"
      },
      "execution_count": 8,
      "outputs": []
    },
    {
      "cell_type": "code",
      "source": [
        "(x_train, y_train), (x_test, y_test) = keras.datasets.cifar10.load_data()\n",
        "(x_train, y_train), (x_val, y_val) = (\n",
        "    (x_train[: config[\"train_slice\"]], y_train[: config[\"train_slice\"]]),\n",
        "    (x_train[config[\"train_slice\"] :], y_train[config[\"train_slice\"] :]),\n",
        ")\n",
        "print(x_train.shape, x_test.shape, x_val.shape)"
      ],
      "metadata": {
        "colab": {
          "base_uri": "https://localhost:8080/"
        },
        "id": "ZHApPgFovuX-",
        "outputId": "a055bf4c-328e-48ad-8321-2c95b500fa94"
      },
      "execution_count": 9,
      "outputs": [
        {
          "output_type": "stream",
          "name": "stdout",
          "text": [
            "(40000, 32, 32, 3) (10000, 32, 32, 3) (10000, 32, 32, 3)\n"
          ]
        }
      ]
    },
    {
      "cell_type": "markdown",
      "source": [
        "## Define data augmentation for the training and validation/test pipelines\n",
        "\n",
        "We define separate pipelines for performing image augmentation on our data. This step is\n",
        "important to make the model more robust to changes, helping it generalize better.\n",
        "The preprocessing and augmentation steps we perform are as follows:\n",
        "\n",
        "- `Rescaling` (training, test): This step is performed to normalize all image pixel\n",
        "values from the `[0,255]` range to `[0,1)`. This helps in maintaining numerical stability\n",
        "later ahead during training.\n",
        "\n",
        "- `Resizing` (training, test): We resize the image from it's original size of (32, 32) to\n",
        "(52, 52). This is done to account for the Random Crop, as well as comply with the\n",
        "specifications of the data given in the paper.\n",
        "\n",
        "- `RandomCrop` (training): This layer randomly selects a crop/sub-region of the image\n",
        "with size `(48, 48)`.\n",
        "\n",
        "- `RandomFlip` (training): This layer randomly flips all the images horizontally,\n",
        "keeping image sizes the same."
      ],
      "metadata": {
        "id": "l19W-OHYG1MK"
      }
    },
    {
      "cell_type": "code",
      "source": [
        "AUTO = tf.data.AUTOTUNE"
      ],
      "metadata": {
        "id": "y32HQ_xH2jjc"
      },
      "execution_count": 10,
      "outputs": []
    },
    {
      "cell_type": "code",
      "source": [
        "# Build the `train` augmentation pipeline.\n",
        "train_augmentation = keras.Sequential(\n",
        "    [\n",
        "        layers.Rescaling(1 / 255.0, dtype=\"float32\"),\n",
        "        layers.Resizing(\n",
        "            config[\"input_shape\"][0] + 20,\n",
        "            config[\"input_shape\"][0] + 20,\n",
        "            dtype=\"float32\",\n",
        "        ),\n",
        "        layers.RandomCrop(config[\"image_size\"], config[\"image_size\"], dtype=\"float32\"),\n",
        "        layers.RandomFlip(\"horizontal\", dtype=\"float32\"),\n",
        "    ],\n",
        "    name=\"train_data_augmentation\",\n",
        ")\n",
        "\n",
        "# Build the `val` and `test` data pipeline.\n",
        "test_augmentation = keras.Sequential(\n",
        "    [\n",
        "        layers.Rescaling(1 / 255.0, dtype=\"float32\"),\n",
        "        layers.Resizing(config[\"image_size\"], config[\"image_size\"], dtype=\"float32\"),\n",
        "    ],\n",
        "    name=\"test_data_augmentation\",\n",
        ")\n",
        "\n",
        "# We define functions in place of simple lambda functions to run through the\n",
        "# [`keras.Sequential`](/api/models/sequential#sequential-class)in order to solve this warning:\n",
        "# (https://github.com/tensorflow/tensorflow/issues/56089)\n",
        "\n",
        "\n",
        "def train_map_fn(image, label):\n",
        "    return train_augmentation(image), label\n",
        "\n",
        "\n",
        "def test_map_fn(image, label):\n",
        "    return test_augmentation(image), label"
      ],
      "metadata": {
        "id": "1DXhxqkixgPd"
      },
      "execution_count": 11,
      "outputs": []
    },
    {
      "cell_type": "markdown",
      "source": [
        "## Load dataset into `tf.data.Dataset` object\n",
        "\n",
        "- We take the `np.ndarray` instance of the datasets and move them into a\n",
        "`tf.data.Dataset` instance\n",
        "- Apply augmentations using\n",
        "[`.map()`](https://www.tensorflow.org/api_docs/python/tf/data/Dataset#map)\n",
        "- Shuffle the dataset using\n",
        "[`.shuffle()`](https://www.tensorflow.org/api_docs/python/tf/data/Dataset#shuffle)\n",
        "- Batch the dataset using\n",
        "[`.batch()`](https://www.tensorflow.org/api_docs/python/tf/data/Dataset#batch)\n",
        "- Enable pre-fetching of batches using\n",
        "[`.prefetch()`](https://www.tensorflow.org/api_docs/python/tf/data/Dataset#prefetch)"
      ],
      "metadata": {
        "id": "gG3MVnywG4La"
      }
    },
    {
      "cell_type": "code",
      "source": [
        "train_ds = tf.data.Dataset.from_tensor_slices((x_train, y_train))\n",
        "train_ds = (\n",
        "    train_ds.map(train_map_fn, num_parallel_calls=AUTO)\n",
        "    .shuffle(config[\"buffer_size\"])\n",
        "    .batch(config[\"batch_size\"], num_parallel_calls=AUTO)\n",
        "    .prefetch(AUTO)\n",
        ")\n",
        "\n",
        "val_ds = tf.data.Dataset.from_tensor_slices((x_val, y_val))\n",
        "val_ds = (\n",
        "    val_ds.map(test_map_fn, num_parallel_calls=AUTO)\n",
        "    .batch(config[\"batch_size\"], num_parallel_calls=AUTO)\n",
        "    .prefetch(AUTO)\n",
        ")\n",
        "\n",
        "test_ds = tf.data.Dataset.from_tensor_slices((x_test, y_test))\n",
        "test_ds = (\n",
        "    test_ds.map(test_map_fn, num_parallel_calls=AUTO)\n",
        "    .batch(config[\"batch_size\"], num_parallel_calls=AUTO)\n",
        "    .prefetch(AUTO)\n",
        ")"
      ],
      "metadata": {
        "id": "HhFvquHs1XZ_"
      },
      "execution_count": 12,
      "outputs": []
    },
    {
      "cell_type": "markdown",
      "source": [
        "## Temporal Latent Bottleneck\n",
        "\n",
        "An excerpt from the paper:\n",
        "\n",
        "> In the brain, short-term and long-term memory have developed in a specialized way.\n",
        "Short-term memory is allowed to change very quickly to react to immediate sensory inputs\n",
        "and perception. By contrast, long-term memory changes slowly, is highly selective and\n",
        "involves repeated consolidation.\n",
        "\n",
        "Inspired from the short-term and long-term memory the authors introduce the fast stream\n",
        "and slow stream computation. The fast stream has a short-term memory with a high capacity\n",
        "that reacts quickly to sensory input (Transformers). The slow stream has long-term memory\n",
        "which updates at a slower rate and summarizes the most relevant information (Recurrence).\n",
        "\n",
        "To implement this idea we need to:\n",
        "\n",
        "- Take a sequence of data.\n",
        "- Divide the sequence into fixed-size chunks.\n",
        "- Fast stream operates within each chunk. It provides fine-grained local information.\n",
        "- Slow stream consolidates and aggregates information across chunks. It provides\n",
        "coarse-grained distant information.\n",
        "\n",
        "The fast and slow stream induce what is called **information asymmetry**. The two streams\n",
        "interact with each other through a bottleneck of attention. **Figure 1** shows the\n",
        "architecture of the model.\n",
        "\n",
        "| ![Architecture of the model](https://i.imgur.com/bxdLPNH.png) |\n",
        "| :--: |\n",
        "| Figure 1: Architecture of the model. (Source: https://arxiv.org/abs/2205.14794) |\n",
        "\n",
        "A PyTorch-style pseudocode is also proposed by the authors as shown in **Algorithm 1**.\n",
        "\n",
        "| ![Pseudocode of the model](https://i.imgur.com/s8a5Vz9.png) |\n",
        "| :--: |\n",
        "| Algorithm 1: PyTorch style pseudocode. (Source: https://arxiv.org/abs/2205.14794) |\n",
        "\n",
        "\n",
        "\n",
        "\n",
        "### `PatchEmbedding` layer\n",
        "\n",
        "This custom `keras.layers.Layer` is useful for generating patches from the image and\n",
        "transform them into a higher-dimensional embedding space using `keras.layers.Embedding`.\n",
        "The patching operation is done using a `keras.layers.Conv2D` instance instead of a\n",
        "traditional `tf.image.extract_patches` to allow for vectorization.\n",
        "\n",
        "Once the patching of images is complete, we reshape the image patches in order to get a\n",
        "flattened representation where the number of dimensions is the embedding dimension. At\n",
        "this stage, we also inject positional information to the tokens.\n",
        "\n",
        "After we obtain the tokens we chunk them. The chunking operation involves taking\n",
        "fixed-size sequences from the embedding output to create 'chunks', which will then be\n",
        "used as the final input to the model."
      ],
      "metadata": {
        "id": "qLvquuwhH6eM"
      }
    },
    {
      "cell_type": "code",
      "source": [
        "class PatchEmbedding(layers.Layer):\n",
        "    \"\"\"Image to Patch Embedding.\n",
        "    Args:\n",
        "        image_size (`Tuple[int]`): Size of the input image.\n",
        "        patch_size (`Tuple[int]`): Size of the patch.\n",
        "        embed_dim (`int`): Dimension of the embedding.\n",
        "        chunk_size (`int`): Number of patches to be chunked.\n",
        "    \"\"\"\n",
        "\n",
        "    def __init__(\n",
        "        self,\n",
        "        image_size,\n",
        "        patch_size,\n",
        "        embed_dim,\n",
        "        chunk_size,\n",
        "        **kwargs):\n",
        "        super().__init__(**kwargs)\n",
        "\n",
        "        # Compute the patch resolution.\n",
        "        patch_resolution = [\n",
        "            image_size[0] // patch_size[0],\n",
        "            image_size[1] // patch_size[1],\n",
        "        ]\n",
        "\n",
        "        # Store the parameters.\n",
        "        self.image_size = image_size\n",
        "        self.patch_size = patch_size\n",
        "        self.embed_dim = embed_dim\n",
        "        self.patch_resolution = patch_resolution\n",
        "        self.num_patches = patch_resolution[0] * patch_resolution[1]\n",
        "\n",
        "        # Define the positions of the patches.\n",
        "        self.positions = tf.range(start=0, limit=self.num_patches, delta=1)\n",
        "\n",
        "        # Create the layers.\n",
        "        self.projection = layers.Conv2D(\n",
        "            filters=embed_dim,\n",
        "            kernel_size=patch_size,\n",
        "            strides=patch_size,\n",
        "            name=\"projection\",\n",
        "        )\n",
        "        self.flatten = layers.Reshape(\n",
        "            target_shape=(-1, embed_dim),\n",
        "            name=\"flatten\",\n",
        "        )\n",
        "        self.position_embedding = layers.Embedding(\n",
        "            input_dim=self.num_patches,\n",
        "            output_dim=embed_dim,\n",
        "            name=\"position_embedding\",\n",
        "        )\n",
        "        self.layernorm = keras.layers.LayerNormalization(\n",
        "            epsilon=1e-5,\n",
        "            name=\"layernorm\",\n",
        "        )\n",
        "        self.chunking_layer = layers.Reshape(\n",
        "            target_shape=(self.num_patches // chunk_size, chunk_size, embed_dim),\n",
        "            name=\"chunking_layer\",\n",
        "        )\n",
        "\n",
        "    def call(self, inputs):\n",
        "        # Project the inputs to the embedding dimension.\n",
        "        x = self.projection(inputs)\n",
        "\n",
        "        # Flatten the pathces and add position embedding.\n",
        "        x = self.flatten(x)\n",
        "        x = x + self.position_embedding(self.positions)\n",
        "\n",
        "        # Normalize the embeddings.\n",
        "        x = self.layernorm(x)\n",
        "\n",
        "        # Chunk the tokens.\n",
        "        x = self.chunking_layer(x)\n",
        "\n",
        "        return x"
      ],
      "metadata": {
        "id": "VyI1TFZw_aPu"
      },
      "execution_count": 13,
      "outputs": []
    },
    {
      "cell_type": "markdown",
      "source": [
        "### `FeedForwardNetwork` Layer\n",
        "\n",
        "This custom `keras.layers.Layer` instance allows us to define a generic FFN along with a\n",
        "dropout."
      ],
      "metadata": {
        "id": "ichjYzSHIFTD"
      }
    },
    {
      "cell_type": "code",
      "source": [
        "class FeedForwardNetwork(layers.Layer):\n",
        "    \"\"\"Feed Forward Network.\n",
        "    Args:\n",
        "        dims (`int`): Number of units in FFN.\n",
        "        dropout (`float`): Dropout probability for FFN.\n",
        "    \"\"\"\n",
        "\n",
        "    def __init__(self, dims, dropout, **kwargs):\n",
        "        super().__init__(**kwargs)\n",
        "\n",
        "        # Create the layers.\n",
        "        self.ffn = keras.Sequential(\n",
        "            [\n",
        "                layers.Dense(units=4 * dims, activation=tf.nn.gelu),\n",
        "                layers.Dense(units=dims),\n",
        "                layers.Dropout(rate=dropout),\n",
        "            ],\n",
        "            name=\"ffn\",\n",
        "        )\n",
        "        self.layernorm = layers.LayerNormalization(\n",
        "            epsilon=1e-5,\n",
        "            name=\"layernorm\",\n",
        "        )\n",
        "\n",
        "    def call(self, inputs):\n",
        "        # Apply the FFN.\n",
        "        x = self.layernorm(inputs)\n",
        "        x = inputs + self.ffn(x)\n",
        "        return x"
      ],
      "metadata": {
        "id": "Rs7qWn1MBH74"
      },
      "execution_count": 14,
      "outputs": []
    },
    {
      "cell_type": "markdown",
      "source": [
        "### `BaseAttention` layer\n",
        "\n",
        "This custom `keras.layers.Layer` instance is a `super`/`base` class that wraps a\n",
        "`keras.layers.MultiHeadAttention` layer along with some other components. This gives us\n",
        "basic common denominator functionality for all the Attention layers/modules in our model."
      ],
      "metadata": {
        "id": "SxoGdqH6IL8_"
      }
    },
    {
      "cell_type": "code",
      "source": [
        "class BaseAttention(layers.Layer):\n",
        "    \"\"\"Base Attention Module.\n",
        "    Args:\n",
        "        num_heads (`int`): Number of attention heads.\n",
        "        key_dim (`int`): Size of each attention head for key.\n",
        "        dropout (`float`): Dropout probability for attention module.\n",
        "    \"\"\"\n",
        "\n",
        "    def __init__(self, num_heads, key_dim, dropout, **kwargs):\n",
        "        super().__init__(**kwargs)\n",
        "        self.multi_head_attention = layers.MultiHeadAttention(\n",
        "            num_heads=num_heads,\n",
        "            key_dim=key_dim,\n",
        "            dropout=dropout,\n",
        "            name=\"mha\",\n",
        "        )\n",
        "        self.query_layernorm = layers.LayerNormalization(\n",
        "            epsilon=1e-5,\n",
        "            name=\"q_layernorm\",\n",
        "        )\n",
        "        self.key_layernorm = layers.LayerNormalization(\n",
        "            epsilon=1e-5,\n",
        "            name=\"k_layernorm\",\n",
        "        )\n",
        "        self.value_layernorm = layers.LayerNormalization(\n",
        "            epsilon=1e-5,\n",
        "            name=\"v_layernorm\",\n",
        "        )\n",
        "\n",
        "        self.attention_scores = None\n",
        "\n",
        "    def call(self, input_query, key, value):\n",
        "        # Apply the attention module.\n",
        "        query = self.query_layernorm(input_query)\n",
        "        key = self.key_layernorm(key)\n",
        "        value = self.value_layernorm(value)\n",
        "        (attention_outputs, attention_scores) = self.multi_head_attention(\n",
        "            query=query,\n",
        "            key=key,\n",
        "            value=value,\n",
        "            return_attention_scores=True,\n",
        "        )\n",
        "\n",
        "        # Save the attention scores for later visualization.\n",
        "        self.attention_scores = attention_scores\n",
        "\n",
        "        # Add the input to the attention output.\n",
        "        x = input_query + attention_outputs\n",
        "        return x"
      ],
      "metadata": {
        "id": "bOSDlej3BSh7"
      },
      "execution_count": 15,
      "outputs": []
    },
    {
      "cell_type": "markdown",
      "source": [
        "### `Attention` with `FeedForwardNetwork` layer\n",
        "\n",
        "This custom `keras.layers.Layer` implementation combines the `BaseAttention` and\n",
        "`FeedForwardNetwork` components to develop one block which will be used repeatedly within\n",
        "the model. This module is highly customizable and flexible, allowing for changes within\n",
        "the internal layers."
      ],
      "metadata": {
        "id": "r-_cafCbIwiO"
      }
    },
    {
      "cell_type": "code",
      "source": [
        "class AttentionWithFFN(layers.Layer):\n",
        "    \"\"\"Attention with Feed Forward Network.\n",
        "    Args:\n",
        "        ffn_dims (`int`): Number of units in FFN.\n",
        "        ffn_dropout (`float`): Dropout probability for FFN.\n",
        "        num_heads (`int`): Number of attention heads.\n",
        "        key_dim (`int`): Size of each attention head for key.\n",
        "        attn_dropout (`float`): Dropout probability for attention module.\n",
        "    \"\"\"\n",
        "\n",
        "    def __init__(\n",
        "        self,\n",
        "        ffn_dims,\n",
        "        ffn_dropout,\n",
        "        num_heads,\n",
        "        key_dim,\n",
        "        attn_dropout,\n",
        "        **kwargs,\n",
        "    ):\n",
        "        super().__init__(**kwargs)\n",
        "        # Create the layers.\n",
        "        self.attention = BaseAttention(\n",
        "            num_heads=num_heads,\n",
        "            key_dim=key_dim,\n",
        "            dropout=attn_dropout,\n",
        "            name=\"base_attn\",\n",
        "        )\n",
        "        self.ffn = FeedForwardNetwork(\n",
        "            dims=ffn_dims,\n",
        "            dropout=ffn_dropout,\n",
        "            name=\"ffn\",\n",
        "        )\n",
        "\n",
        "        self.attention_scores = None\n",
        "\n",
        "    def call(self, query, key, value):\n",
        "        # Apply the attention module.\n",
        "        x = self.attention(query, key, value)\n",
        "\n",
        "        # Save the attention scores for later visualization.\n",
        "        self.attention_scores = self.attention.attention_scores\n",
        "\n",
        "        # Apply the FFN.\n",
        "        x = self.ffn(x)\n",
        "        return x"
      ],
      "metadata": {
        "id": "PrUtB0kBBxzB"
      },
      "execution_count": 16,
      "outputs": []
    },
    {
      "cell_type": "markdown",
      "source": [
        "### Custom RNN Cell for **Temporal Latent Bottleneck** and **Perceptual Module**\n",
        "\n",
        "**Algorithm 1** (the pseudocode) depicts recurrence with the help of for loops. Looping\n",
        "does make the implementation simpler, harming the training time. In this section we wrap\n",
        "the custom recurrence logic inside of the `CustomRecurrentCell`. This custom cell will\n",
        "then be wrapped with the [Keras RNN API](https://keras.io/api/layers/recurrent_layers/rnn/)\n",
        "that makes the entire code vectorizable.\n",
        "\n",
        "This custom cell, implemented as a `keras.layers.Layer`, is the integral part of the\n",
        "logic for the model.\n",
        "The cell's functionality can be divided into 2 parts:\n",
        "- **Slow Stream (Temporal Latent Bottleneck):**\n",
        "\n",
        "- This module consists of a single `AttentionWithFFN` layer that parses the output of the\n",
        "previous Slow Stream, an intermediate hidden representation (which is the *latent* in\n",
        "Temporal Latent Bottleneck) as the Query, and the output of the latest Fast Stream as Key\n",
        "and Value. This layer can also be construed as a *CrossAttention* layer.\n",
        "\n",
        "- **Fast Stream (Perceptual Module):**\n",
        "\n",
        "- This module consists of intertwined `AttentionWithFFN` layers. This stream consists of\n",
        "*n* layers of `SelfAttention` and `CrossAttention` in a sequential manner.\n",
        "- Here, some layers take the chunked input as the Query, Key and Value (Also referred to\n",
        "as the *SelfAttention* layer).\n",
        "- The other layers take the intermediate state outputs from within the Temporal Latent\n",
        "Bottleneck module as the Query while using the output of the previous Self-Attention\n",
        "layers before it as the Key and Value."
      ],
      "metadata": {
        "id": "HtACj2MUJwlZ"
      }
    },
    {
      "cell_type": "code",
      "source": [
        "class CustomRecurrentCell(layers.Layer):\n",
        "    \"\"\"Custom Recurrent Cell.\n",
        "    Args:\n",
        "        chunk_size (`int`): Number of tokens in a chunk.\n",
        "        r (`int`): One Cross Attention per **r** Self Attention.\n",
        "        num_layers (`int`): Number of layers.\n",
        "        ffn_dims (`int`): Number of units in FFN.\n",
        "        ffn_dropout (`float`): Dropout probability for FFN.\n",
        "        num_heads (`int`): Number of attention heads.\n",
        "        key_dim (`int`): Size of each attention head for key.\n",
        "        attn_dropout (`float`): Dropout probability for attention module.\n",
        "    \"\"\"\n",
        "\n",
        "    def __init__(\n",
        "        self,\n",
        "        chunk_size,\n",
        "        r,\n",
        "        num_layers,\n",
        "        ffn_dims,\n",
        "        ffn_dropout,\n",
        "        num_heads,\n",
        "        key_dim,\n",
        "        attn_dropout,\n",
        "        **kwargs,\n",
        "    ):\n",
        "        super().__init__(**kwargs)\n",
        "        # Save the arguments.\n",
        "        self.chunk_size = chunk_size\n",
        "        self.r = r\n",
        "        self.num_layers = num_layers\n",
        "        self.ffn_dims = ffn_dims\n",
        "        self.ffn_droput = ffn_dropout\n",
        "        self.num_heads = num_heads\n",
        "        self.key_dim = key_dim\n",
        "        self.attn_dropout = attn_dropout\n",
        "\n",
        "        # Create the state_size and output_size. This is important for\n",
        "        # custom recurrence logic.\n",
        "        self.state_size = tf.TensorShape([chunk_size, ffn_dims])\n",
        "        self.output_size = tf.TensorShape([chunk_size, ffn_dims])\n",
        "\n",
        "        self.get_attention_scores = False\n",
        "        self.attention_scores = []\n",
        "\n",
        "        # Perceptual Module\n",
        "        perceptual_module = list()\n",
        "        for layer_idx in range(num_layers):\n",
        "            perceptual_module.append(\n",
        "                AttentionWithFFN(\n",
        "                    ffn_dims=ffn_dims,\n",
        "                    ffn_dropout=ffn_dropout,\n",
        "                    num_heads=num_heads,\n",
        "                    key_dim=key_dim,\n",
        "                    attn_dropout=attn_dropout,\n",
        "                    name=f\"pm_self_attn_{layer_idx}\",\n",
        "                )\n",
        "            )\n",
        "            if layer_idx % r == 0:\n",
        "                perceptual_module.append(\n",
        "                    AttentionWithFFN(\n",
        "                        ffn_dims=ffn_dims,\n",
        "                        ffn_dropout=ffn_dropout,\n",
        "                        num_heads=num_heads,\n",
        "                        key_dim=key_dim,\n",
        "                        attn_dropout=attn_dropout,\n",
        "                        name=f\"pm_cross_attn_ffn_{layer_idx}\",\n",
        "                    )\n",
        "                )\n",
        "        self.perceptual_module = perceptual_module\n",
        "\n",
        "        # Temporal Latent Bottleneck Module\n",
        "        self.tlb_module = AttentionWithFFN(\n",
        "            ffn_dims=ffn_dims,\n",
        "            ffn_dropout=ffn_dropout,\n",
        "            num_heads=num_heads,\n",
        "            key_dim=key_dim,\n",
        "            attn_dropout=attn_dropout,\n",
        "            name=f\"tlb_cross_attn_ffn\",\n",
        "        )\n",
        "\n",
        "    def call(self, inputs, states):\n",
        "        # inputs => (batch, chunk_size, dims)\n",
        "        # states => [(batch, chunk_size, units)]\n",
        "        slow_stream = states[0]\n",
        "        fast_stream = inputs\n",
        "\n",
        "        for layer_idx, layer in enumerate(self.perceptual_module):\n",
        "            fast_stream = layer(query=fast_stream, key=fast_stream, value=fast_stream)\n",
        "\n",
        "            if layer_idx % self.r == 0:\n",
        "                fast_stream = layer(\n",
        "                    query=fast_stream, key=slow_stream, value=slow_stream\n",
        "                )\n",
        "\n",
        "        slow_stream = self.tlb_module(\n",
        "            query=slow_stream, key=fast_stream, value=fast_stream\n",
        "        )\n",
        "\n",
        "        # Save the attention scores for later visualization.\n",
        "        if self.get_attention_scores:\n",
        "            self.attention_scores.append(self.tlb_module.attention_scores)\n",
        "\n",
        "        return fast_stream, [slow_stream]"
      ],
      "metadata": {
        "id": "dk_fT1ITCBYN"
      },
      "execution_count": 17,
      "outputs": []
    },
    {
      "cell_type": "markdown",
      "source": [
        "### `TemporalLatentBottleneckModel` to encapsulate full model\n",
        "\n",
        "Here, we just wrap the full model as to expose it for training."
      ],
      "metadata": {
        "id": "D0SZHZJUJ4qY"
      }
    },
    {
      "cell_type": "code",
      "source": [
        "class TemporalLatentBottleneckModel(keras.Model):\n",
        "    \"\"\"Model Trainer.\n",
        "    Args:\n",
        "        patch_layer ([`keras.layers.Layer`](/api/layers/base_layer#layer-class)): Patching layer.\n",
        "        custom_cell ([`keras.layers.Layer`](/api/layers/base_layer#layer-class)): Custom Recurrent Cell.\n",
        "    \"\"\"\n",
        "\n",
        "    def __init__(self, patch_layer, custom_cell, **kwargs):\n",
        "        super().__init__(**kwargs)\n",
        "        self.patch_layer = patch_layer\n",
        "        self.rnn = layers.RNN(custom_cell, name=\"rnn\")\n",
        "        self.gap = layers.GlobalAveragePooling1D(name=\"gap\")\n",
        "        self.head = layers.Dense(10, activation=\"softmax\", dtype=\"float32\", name=\"head\")\n",
        "\n",
        "    def call(self, inputs):\n",
        "        x = self.patch_layer(inputs)\n",
        "        x = self.rnn(x)\n",
        "        x = self.gap(x)\n",
        "        outputs = self.head(x)\n",
        "        return outputs"
      ],
      "metadata": {
        "id": "hGBhfgjtE-B_"
      },
      "execution_count": 18,
      "outputs": []
    },
    {
      "cell_type": "markdown",
      "source": [
        "## Build the model\n",
        "\n",
        "To begin training, we now define the components individually and pass them as arguments\n",
        "to our wrapper class, which will prepare the final model for training. We define a\n",
        "`PatchEmbed` layer, and the `CustomCell`-based RNN."
      ],
      "metadata": {
        "id": "HdHnoYc4J-CG"
      }
    },
    {
      "cell_type": "code",
      "source": [
        "# Build the model.\n",
        "patch_layer = PatchEmbedding(\n",
        "    image_size=(config[\"image_size\"], config[\"image_size\"]),\n",
        "    patch_size=(config[\"patch_size\"], config[\"patch_size\"]),\n",
        "    embed_dim=config[\"embed_dim\"],\n",
        "    chunk_size=config[\"chunk_size\"],\n",
        ")\n",
        "custom_rnn_cell = CustomRecurrentCell(\n",
        "    chunk_size=config[\"chunk_size\"],\n",
        "    r=config[\"r\"],\n",
        "    num_layers=config[\"num_layers\"],\n",
        "    ffn_dims=config[\"embed_dim\"],\n",
        "    ffn_dropout=config[\"ffn_drop\"],\n",
        "    num_heads=config[\"num_heads\"],\n",
        "    key_dim=config[\"embed_dim\"],\n",
        "    attn_dropout=config[\"attn_drop\"],\n",
        ")\n",
        "model = TemporalLatentBottleneckModel(\n",
        "    patch_layer=patch_layer,\n",
        "    custom_cell=custom_rnn_cell,\n",
        ")"
      ],
      "metadata": {
        "id": "5NczthiaFLs_"
      },
      "execution_count": 19,
      "outputs": []
    },
    {
      "cell_type": "markdown",
      "source": [
        "## Metrics and Callbacks\n",
        "\n",
        "We use the `AdamW` optimizer since it has been shown to perform very well on several benchmark\n",
        "tasks from an optimization perspective. It is a version of the `keras.optimizers.Adam`\n",
        "optimizer, along with Weight Decay in place.\n",
        "\n",
        "For a loss function, we make use of the `keras.losses.SparseCategoricalCrossentropy`\n",
        "function that makes use of simple Cross-entropy between prediction and actual logits. We\n",
        "also calculate accuracy on our data as a sanity-check."
      ],
      "metadata": {
        "id": "Cyp2HJ0kKCYX"
      }
    },
    {
      "cell_type": "code",
      "source": [
        "optimizer = AdamW(\n",
        "    learning_rate=config[\"learning_rate\"], weight_decay=config[\"weight_decay\"]\n",
        ")\n",
        "model.compile(\n",
        "    optimizer=optimizer,\n",
        "    loss=\"sparse_categorical_crossentropy\",\n",
        "    metrics=[\"accuracy\"],\n",
        ")"
      ],
      "metadata": {
        "id": "GAl14FheFfhq"
      },
      "execution_count": 20,
      "outputs": []
    },
    {
      "cell_type": "code",
      "source": [
        "history = model.fit(\n",
        "    train_ds,\n",
        "    epochs=config[\"epochs\"],\n",
        "    validation_data=val_ds,\n",
        ")"
      ],
      "metadata": {
        "id": "xQLi2LcKFrck"
      },
      "execution_count": null,
      "outputs": []
    },
    {
      "cell_type": "code",
      "source": [
        "plt.plot(history.history[\"loss\"], label=\"loss\")\n",
        "plt.plot(history.history[\"val_loss\"], label=\"val_loss\")\n",
        "plt.legend()\n",
        "plt.show()\n",
        "\n",
        "plt.plot(history.history[\"accuracy\"], label=\"accuracy\")\n",
        "plt.plot(history.history[\"val_accuracy\"], label=\"val_accuracy\")\n",
        "plt.legend()\n",
        "plt.show()"
      ],
      "metadata": {
        "id": "leIYddiLF6yN"
      },
      "execution_count": null,
      "outputs": []
    },
    {
      "cell_type": "markdown",
      "source": [
        "## Visualize attention maps from the Temporal Latent Bottleneck\n",
        "\n",
        "Now that we have trained our model, it is time for some visualizations. The Fast Stream\n",
        "(Transformers) processes a chunk of tokens. The Slow Stream processes each chunk and\n",
        "attends to tokens that are useful for the task.\n",
        "\n",
        "In this section we visualize the attention map of the Slow Stream. This is done by\n",
        "extracting the attention scores from the TLB layer at each chunk's intersection and\n",
        "storing it within the RNN's state. This is followed by 'ballooning' it up and returning\n",
        "these values."
      ],
      "metadata": {
        "id": "4gF1hGN8KHau"
      }
    },
    {
      "cell_type": "code",
      "source": [
        "def score_to_viz(chunk_score):\n",
        "    # get the most attended token\n",
        "    chunk_viz = tf.math.reduce_max(chunk_score, axis=-2)\n",
        "    # get the mean across heads\n",
        "    chunk_viz = tf.math.reduce_mean(chunk_viz, axis=1)\n",
        "    return chunk_viz\n",
        "\n",
        "\n",
        "# Get a batch of images and labels from the testing dataset\n",
        "images, labels = next(iter(test_ds))\n",
        "\n",
        "# Set the get_attn_scores flag to True\n",
        "model.rnn.cell.get_attention_scores = True\n",
        "\n",
        "# Run the model with the testing images and grab the\n",
        "# attention scores.\n",
        "outputs = model(images)\n",
        "list_chunk_scores = model.rnn.cell.attention_scores\n",
        "\n",
        "# Process the attention scores in order to visualize them\n",
        "list_chunk_viz = [score_to_viz(x) for x in list_chunk_scores]\n",
        "chunk_viz = tf.concat(list_chunk_viz[1:], axis=-1)\n",
        "chunk_viz = tf.reshape(\n",
        "    chunk_viz,\n",
        "    (\n",
        "        config[\"batch_size\"],\n",
        "        config[\"image_size\"] // config[\"patch_size\"],\n",
        "        config[\"image_size\"] // config[\"patch_size\"],\n",
        "        1,\n",
        "    ),\n",
        ")\n",
        "upsampled_heat_map = layers.UpSampling2D(\n",
        "    size=(4, 4), interpolation=\"bilinear\", dtype=\"float32\"\n",
        ")(chunk_viz)"
      ],
      "metadata": {
        "id": "f0ISpSTfF_XD"
      },
      "execution_count": null,
      "outputs": []
    },
    {
      "cell_type": "code",
      "source": [
        "# Sample a random image\n",
        "index = random.randint(0, config[\"batch_size\"])\n",
        "orig_image = images[index]\n",
        "overlay_image = upsampled_heat_map[index, ..., 0]\n",
        "\n",
        "# Plot the visualization\n",
        "fig, ax = plt.subplots(nrows=1, ncols=2, figsize=(10, 5))\n",
        "\n",
        "ax[0].imshow(orig_image)\n",
        "ax[0].set_title(\"Original:\")\n",
        "ax[0].axis(\"off\")\n",
        "\n",
        "image = ax[1].imshow(orig_image)\n",
        "ax[1].imshow(\n",
        "    overlay_image,\n",
        "    cmap=\"inferno\",\n",
        "    alpha=0.6,\n",
        "    extent=image.get_extent(),\n",
        ")\n",
        "ax[1].set_title(\"TLB Attention:\")\n",
        "\n",
        "plt.show()"
      ],
      "metadata": {
        "id": "1LXejmJpGJhR"
      },
      "execution_count": null,
      "outputs": []
    },
    {
      "cell_type": "markdown",
      "source": [
        "## Conclusion\n",
        "\n",
        "This example has demonstrated an implementation of the Temporal Latent Bottleneck\n",
        "mechanism. The example highlights the use of compression and storage of historical states\n",
        "in the form of a Temporal Latent Bottleneck with regular updates from a Perceptual Module\n",
        "as an effective method to do so.\n",
        "\n",
        "In the original paper, the authors have conducted highly extensive tests around different\n",
        "modalities ranging from Supervised Image Classification to applications in Reinforcement\n",
        "Learning.\n",
        "\n",
        "While we have only displayed a method to apply this mechanism to Image Classification, it\n",
        "can be extended to other modalities too with minimal changes.\n",
        "\n",
        "*Note*: While building this example we did not have the official code to refer to. This\n",
        "means that our implementation is inspired by the paper with no claims of being a\n",
        "complete reproduction. For more details on the training process one can head over to\n",
        "[our GitHub repository](https://github.com/suvadityamuk/Temporal-Latent-Bottleneck-TF)."
      ],
      "metadata": {
        "id": "XTDhJGNXKUNj"
      }
    }
  ],
  "metadata": {
    "accelerator": "GPU",
    "colab": {
      "provenance": [],
      "gpuType": "T4",
      "include_colab_link": true
    },
    "kernelspec": {
      "display_name": "Python 3",
      "name": "python3"
    },
    "language_info": {
      "codemirror_mode": {
        "name": "ipython",
        "version": 3
      },
      "file_extension": ".py",
      "mimetype": "text/x-python",
      "name": "python",
      "nbconvert_exporter": "python",
      "pygments_lexer": "ipython3",
      "version": "3.10.12"
    }
  },
  "nbformat": 4,
  "nbformat_minor": 0
}