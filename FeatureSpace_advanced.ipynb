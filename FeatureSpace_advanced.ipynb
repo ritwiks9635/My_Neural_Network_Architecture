{
  "cells": [
    {
      "cell_type": "markdown",
      "metadata": {
        "id": "view-in-github",
        "colab_type": "text"
      },
      "source": [
        "<a href=\"https://colab.research.google.com/github/ritwiks9635/My_Neural_Network_Architecture/blob/main/FeatureSpace_advanced.ipynb\" target=\"_parent\"><img src=\"https://colab.research.google.com/assets/colab-badge.svg\" alt=\"Open In Colab\"/></a>"
      ]
    },
    {
      "cell_type": "markdown",
      "source": [
        "#**FeatureSpace advanced use cases**"
      ],
      "metadata": {
        "id": "T1RtRhBHnPtw"
      }
    },
    {
      "cell_type": "markdown",
      "source": [
        "## Introduction\n",
        "\n",
        "This example is an extension of the\n",
        "[Structured data classification with FeatureSpace](https://keras.io/examples/structured_data/structured_data_classification_with_feature_space/)\n",
        "code example, and here we will extend it to cover more complex use\n",
        "cases of the [`keras.utils.FeatureSpace`](https://keras.io/api/utils/feature_space/)\n",
        "preprocessing utility, like feature hashing, feature crosses, handling missing values and\n",
        "integrating [Keras preprocessing layers](https://keras.io/guides/preprocessing_layers/)\n",
        "with FeatureSpace.\n",
        "\n",
        "The general task still is structured data classification (also known as tabular data\n",
        "classification) using a data that includes numerical features, integer categorical\n",
        "features, and string categorical features.\n",
        "\n",
        "\n",
        "\n",
        "### The dataset\n",
        "\n",
        "[Our dataset](https://archive.ics.uci.edu/dataset/222/bank+marketing) is provided by a\n",
        "Portuguese banking institution.\n",
        "It's a CSV file with 4119 rows. Each row contains information about marketing campaigns\n",
        "based on phone calls, and each column describes an attribute of the client. We use the\n",
        "features to predict whether the client subscribed ('yes') or not ('no') to the product\n",
        "(bank term deposit).\n",
        "\n",
        "Here's the description of each feature:\n",
        "\n",
        "Column| Description| Feature Type\n",
        "------|------------|-------------\n",
        "Age | Age of the client | Numerical\n",
        "Job | Type of job | Categorical\n",
        "Marital | Marital status | Categorical\n",
        "Education | Education level of the client | Categorical\n",
        "Default | Has credit in default? | Categorical\n",
        "Housing | Has housing loan? | Categorical\n",
        "Loan | Has personal loan? | Categorical\n",
        "Contact | Contact communication type | Categorical\n",
        "Month | Last contact month of year | Categorical\n",
        "Day_of_week | Last contact day of the week | Categorical\n",
        "Duration | Last contact duration, in seconds | Numerical\n",
        "Campaign | Number of contacts performed during this campaign and for this client | Numerical\n",
        "Pdays | Number of days that passed by after the client was last contacted from a previous campaign | Numerical\n",
        "Previous | Number of contacts performed before this campaign and for this client | Numerical\n",
        "Poutcome | Outcome of the previous marketing campaign | Categorical\n",
        "Emp.var.rate | Employment variation rate | Numerical\n",
        "Cons.price.idx | Consumer price index | Numerical\n",
        "Cons.conf.idx | Consumer confidence index | Numerical\n",
        "Euribor3m | Euribor 3 month rate | Numerical\n",
        "Nr.employed | Number of employees | Numerical\n",
        "Y | Has the client subscribed a term deposit? | Target\n",
        "\n",
        "**Important note regarding the feature `duration`**:  this attribute highly affects the\n",
        "output target (e.g., if duration=0 then y='no'). Yet, the duration is not known before a\n",
        "call is performed. Also, after the end of the call y is obviously known. Thus, this input\n",
        "should only be included for benchmark purposes and should be discarded if the intention\n",
        "is to have a realistic predictive model. For this reason we will drop it."
      ],
      "metadata": {
        "id": "Pb4Uf52ThJS9"
      }
    },
    {
      "cell_type": "code",
      "source": [
        "import pandas as pd\n",
        "import tensorflow as tf\n",
        "from pathlib import Path\n",
        "from zipfile import ZipFile\n",
        "from tensorflow.keras.utils import FeatureSpace"
      ],
      "metadata": {
        "id": "o0mnHfyejz-k"
      },
      "execution_count": 1,
      "outputs": []
    },
    {
      "cell_type": "code",
      "source": [
        "data_url = \"https://archive.ics.uci.edu/static/public/222/bank+marketing.zip\"\n",
        "data_zipped_path = tf.keras.utils.get_file(\"bank_marketing.zip\", data_url, extract=True)\n",
        "keras_datasets_path = Path(data_zipped_path).parents[0]\n",
        "with ZipFile(f\"{keras_datasets_path}/bank-additional.zip\", \"r\") as zip:\n",
        "    # Extract files\n",
        "    zip.extractall(path=keras_datasets_path)\n",
        "\n",
        "dataframe = pd.read_csv(\n",
        "    f\"{keras_datasets_path}/bank-additional/bank-additional.csv\", sep=\";\"\n",
        ")"
      ],
      "metadata": {
        "id": "Zxu4mrtrnWNJ",
        "colab": {
          "base_uri": "https://localhost:8080/"
        },
        "outputId": "317b9b8c-1e49-48a3-e96d-de8fe955ec8b"
      },
      "execution_count": 2,
      "outputs": [
        {
          "output_type": "stream",
          "name": "stdout",
          "text": [
            "Downloading data from https://archive.ics.uci.edu/static/public/222/bank+marketing.zip\n",
            "   8192/Unknown - 0s 0us/step"
          ]
        }
      ]
    },
    {
      "cell_type": "code",
      "source": [
        "dataframe.head()"
      ],
      "metadata": {
        "colab": {
          "base_uri": "https://localhost:8080/",
          "height": 272
        },
        "id": "A0R7yZcmnfAq",
        "outputId": "fe2c2790-b521-4270-ef5d-d2687657a3cd"
      },
      "execution_count": 3,
      "outputs": [
        {
          "output_type": "execute_result",
          "data": {
            "text/plain": [
              "   age          job  marital          education default  housing     loan  \\\n",
              "0   30  blue-collar  married           basic.9y      no      yes       no   \n",
              "1   39     services   single        high.school      no       no       no   \n",
              "2   25     services  married        high.school      no      yes       no   \n",
              "3   38     services  married           basic.9y      no  unknown  unknown   \n",
              "4   47       admin.  married  university.degree      no      yes       no   \n",
              "\n",
              "     contact month day_of_week  ...  campaign  pdays  previous     poutcome  \\\n",
              "0   cellular   may         fri  ...         2    999         0  nonexistent   \n",
              "1  telephone   may         fri  ...         4    999         0  nonexistent   \n",
              "2  telephone   jun         wed  ...         1    999         0  nonexistent   \n",
              "3  telephone   jun         fri  ...         3    999         0  nonexistent   \n",
              "4   cellular   nov         mon  ...         1    999         0  nonexistent   \n",
              "\n",
              "  emp.var.rate  cons.price.idx  cons.conf.idx  euribor3m  nr.employed   y  \n",
              "0         -1.8          92.893          -46.2      1.313       5099.1  no  \n",
              "1          1.1          93.994          -36.4      4.855       5191.0  no  \n",
              "2          1.4          94.465          -41.8      4.962       5228.1  no  \n",
              "3          1.4          94.465          -41.8      4.959       5228.1  no  \n",
              "4         -0.1          93.200          -42.0      4.191       5195.8  no  \n",
              "\n",
              "[5 rows x 21 columns]"
            ],
            "text/html": [
              "\n",
              "  <div id=\"df-a2fcee01-d5b0-4831-9a17-99018fd1bffc\" class=\"colab-df-container\">\n",
              "    <div>\n",
              "<style scoped>\n",
              "    .dataframe tbody tr th:only-of-type {\n",
              "        vertical-align: middle;\n",
              "    }\n",
              "\n",
              "    .dataframe tbody tr th {\n",
              "        vertical-align: top;\n",
              "    }\n",
              "\n",
              "    .dataframe thead th {\n",
              "        text-align: right;\n",
              "    }\n",
              "</style>\n",
              "<table border=\"1\" class=\"dataframe\">\n",
              "  <thead>\n",
              "    <tr style=\"text-align: right;\">\n",
              "      <th></th>\n",
              "      <th>age</th>\n",
              "      <th>job</th>\n",
              "      <th>marital</th>\n",
              "      <th>education</th>\n",
              "      <th>default</th>\n",
              "      <th>housing</th>\n",
              "      <th>loan</th>\n",
              "      <th>contact</th>\n",
              "      <th>month</th>\n",
              "      <th>day_of_week</th>\n",
              "      <th>...</th>\n",
              "      <th>campaign</th>\n",
              "      <th>pdays</th>\n",
              "      <th>previous</th>\n",
              "      <th>poutcome</th>\n",
              "      <th>emp.var.rate</th>\n",
              "      <th>cons.price.idx</th>\n",
              "      <th>cons.conf.idx</th>\n",
              "      <th>euribor3m</th>\n",
              "      <th>nr.employed</th>\n",
              "      <th>y</th>\n",
              "    </tr>\n",
              "  </thead>\n",
              "  <tbody>\n",
              "    <tr>\n",
              "      <th>0</th>\n",
              "      <td>30</td>\n",
              "      <td>blue-collar</td>\n",
              "      <td>married</td>\n",
              "      <td>basic.9y</td>\n",
              "      <td>no</td>\n",
              "      <td>yes</td>\n",
              "      <td>no</td>\n",
              "      <td>cellular</td>\n",
              "      <td>may</td>\n",
              "      <td>fri</td>\n",
              "      <td>...</td>\n",
              "      <td>2</td>\n",
              "      <td>999</td>\n",
              "      <td>0</td>\n",
              "      <td>nonexistent</td>\n",
              "      <td>-1.8</td>\n",
              "      <td>92.893</td>\n",
              "      <td>-46.2</td>\n",
              "      <td>1.313</td>\n",
              "      <td>5099.1</td>\n",
              "      <td>no</td>\n",
              "    </tr>\n",
              "    <tr>\n",
              "      <th>1</th>\n",
              "      <td>39</td>\n",
              "      <td>services</td>\n",
              "      <td>single</td>\n",
              "      <td>high.school</td>\n",
              "      <td>no</td>\n",
              "      <td>no</td>\n",
              "      <td>no</td>\n",
              "      <td>telephone</td>\n",
              "      <td>may</td>\n",
              "      <td>fri</td>\n",
              "      <td>...</td>\n",
              "      <td>4</td>\n",
              "      <td>999</td>\n",
              "      <td>0</td>\n",
              "      <td>nonexistent</td>\n",
              "      <td>1.1</td>\n",
              "      <td>93.994</td>\n",
              "      <td>-36.4</td>\n",
              "      <td>4.855</td>\n",
              "      <td>5191.0</td>\n",
              "      <td>no</td>\n",
              "    </tr>\n",
              "    <tr>\n",
              "      <th>2</th>\n",
              "      <td>25</td>\n",
              "      <td>services</td>\n",
              "      <td>married</td>\n",
              "      <td>high.school</td>\n",
              "      <td>no</td>\n",
              "      <td>yes</td>\n",
              "      <td>no</td>\n",
              "      <td>telephone</td>\n",
              "      <td>jun</td>\n",
              "      <td>wed</td>\n",
              "      <td>...</td>\n",
              "      <td>1</td>\n",
              "      <td>999</td>\n",
              "      <td>0</td>\n",
              "      <td>nonexistent</td>\n",
              "      <td>1.4</td>\n",
              "      <td>94.465</td>\n",
              "      <td>-41.8</td>\n",
              "      <td>4.962</td>\n",
              "      <td>5228.1</td>\n",
              "      <td>no</td>\n",
              "    </tr>\n",
              "    <tr>\n",
              "      <th>3</th>\n",
              "      <td>38</td>\n",
              "      <td>services</td>\n",
              "      <td>married</td>\n",
              "      <td>basic.9y</td>\n",
              "      <td>no</td>\n",
              "      <td>unknown</td>\n",
              "      <td>unknown</td>\n",
              "      <td>telephone</td>\n",
              "      <td>jun</td>\n",
              "      <td>fri</td>\n",
              "      <td>...</td>\n",
              "      <td>3</td>\n",
              "      <td>999</td>\n",
              "      <td>0</td>\n",
              "      <td>nonexistent</td>\n",
              "      <td>1.4</td>\n",
              "      <td>94.465</td>\n",
              "      <td>-41.8</td>\n",
              "      <td>4.959</td>\n",
              "      <td>5228.1</td>\n",
              "      <td>no</td>\n",
              "    </tr>\n",
              "    <tr>\n",
              "      <th>4</th>\n",
              "      <td>47</td>\n",
              "      <td>admin.</td>\n",
              "      <td>married</td>\n",
              "      <td>university.degree</td>\n",
              "      <td>no</td>\n",
              "      <td>yes</td>\n",
              "      <td>no</td>\n",
              "      <td>cellular</td>\n",
              "      <td>nov</td>\n",
              "      <td>mon</td>\n",
              "      <td>...</td>\n",
              "      <td>1</td>\n",
              "      <td>999</td>\n",
              "      <td>0</td>\n",
              "      <td>nonexistent</td>\n",
              "      <td>-0.1</td>\n",
              "      <td>93.200</td>\n",
              "      <td>-42.0</td>\n",
              "      <td>4.191</td>\n",
              "      <td>5195.8</td>\n",
              "      <td>no</td>\n",
              "    </tr>\n",
              "  </tbody>\n",
              "</table>\n",
              "<p>5 rows × 21 columns</p>\n",
              "</div>\n",
              "    <div class=\"colab-df-buttons\">\n",
              "\n",
              "  <div class=\"colab-df-container\">\n",
              "    <button class=\"colab-df-convert\" onclick=\"convertToInteractive('df-a2fcee01-d5b0-4831-9a17-99018fd1bffc')\"\n",
              "            title=\"Convert this dataframe to an interactive table.\"\n",
              "            style=\"display:none;\">\n",
              "\n",
              "  <svg xmlns=\"http://www.w3.org/2000/svg\" height=\"24px\" viewBox=\"0 -960 960 960\">\n",
              "    <path d=\"M120-120v-720h720v720H120Zm60-500h600v-160H180v160Zm220 220h160v-160H400v160Zm0 220h160v-160H400v160ZM180-400h160v-160H180v160Zm440 0h160v-160H620v160ZM180-180h160v-160H180v160Zm440 0h160v-160H620v160Z\"/>\n",
              "  </svg>\n",
              "    </button>\n",
              "\n",
              "  <style>\n",
              "    .colab-df-container {\n",
              "      display:flex;\n",
              "      gap: 12px;\n",
              "    }\n",
              "\n",
              "    .colab-df-convert {\n",
              "      background-color: #E8F0FE;\n",
              "      border: none;\n",
              "      border-radius: 50%;\n",
              "      cursor: pointer;\n",
              "      display: none;\n",
              "      fill: #1967D2;\n",
              "      height: 32px;\n",
              "      padding: 0 0 0 0;\n",
              "      width: 32px;\n",
              "    }\n",
              "\n",
              "    .colab-df-convert:hover {\n",
              "      background-color: #E2EBFA;\n",
              "      box-shadow: 0px 1px 2px rgba(60, 64, 67, 0.3), 0px 1px 3px 1px rgba(60, 64, 67, 0.15);\n",
              "      fill: #174EA6;\n",
              "    }\n",
              "\n",
              "    .colab-df-buttons div {\n",
              "      margin-bottom: 4px;\n",
              "    }\n",
              "\n",
              "    [theme=dark] .colab-df-convert {\n",
              "      background-color: #3B4455;\n",
              "      fill: #D2E3FC;\n",
              "    }\n",
              "\n",
              "    [theme=dark] .colab-df-convert:hover {\n",
              "      background-color: #434B5C;\n",
              "      box-shadow: 0px 1px 3px 1px rgba(0, 0, 0, 0.15);\n",
              "      filter: drop-shadow(0px 1px 2px rgba(0, 0, 0, 0.3));\n",
              "      fill: #FFFFFF;\n",
              "    }\n",
              "  </style>\n",
              "\n",
              "    <script>\n",
              "      const buttonEl =\n",
              "        document.querySelector('#df-a2fcee01-d5b0-4831-9a17-99018fd1bffc button.colab-df-convert');\n",
              "      buttonEl.style.display =\n",
              "        google.colab.kernel.accessAllowed ? 'block' : 'none';\n",
              "\n",
              "      async function convertToInteractive(key) {\n",
              "        const element = document.querySelector('#df-a2fcee01-d5b0-4831-9a17-99018fd1bffc');\n",
              "        const dataTable =\n",
              "          await google.colab.kernel.invokeFunction('convertToInteractive',\n",
              "                                                    [key], {});\n",
              "        if (!dataTable) return;\n",
              "\n",
              "        const docLinkHtml = 'Like what you see? Visit the ' +\n",
              "          '<a target=\"_blank\" href=https://colab.research.google.com/notebooks/data_table.ipynb>data table notebook</a>'\n",
              "          + ' to learn more about interactive tables.';\n",
              "        element.innerHTML = '';\n",
              "        dataTable['output_type'] = 'display_data';\n",
              "        await google.colab.output.renderOutput(dataTable, element);\n",
              "        const docLink = document.createElement('div');\n",
              "        docLink.innerHTML = docLinkHtml;\n",
              "        element.appendChild(docLink);\n",
              "      }\n",
              "    </script>\n",
              "  </div>\n",
              "\n",
              "\n",
              "<div id=\"df-dedb419b-6f84-46e5-9df0-5a0fb53b77ba\">\n",
              "  <button class=\"colab-df-quickchart\" onclick=\"quickchart('df-dedb419b-6f84-46e5-9df0-5a0fb53b77ba')\"\n",
              "            title=\"Suggest charts\"\n",
              "            style=\"display:none;\">\n",
              "\n",
              "<svg xmlns=\"http://www.w3.org/2000/svg\" height=\"24px\"viewBox=\"0 0 24 24\"\n",
              "     width=\"24px\">\n",
              "    <g>\n",
              "        <path d=\"M19 3H5c-1.1 0-2 .9-2 2v14c0 1.1.9 2 2 2h14c1.1 0 2-.9 2-2V5c0-1.1-.9-2-2-2zM9 17H7v-7h2v7zm4 0h-2V7h2v10zm4 0h-2v-4h2v4z\"/>\n",
              "    </g>\n",
              "</svg>\n",
              "  </button>\n",
              "\n",
              "<style>\n",
              "  .colab-df-quickchart {\n",
              "      --bg-color: #E8F0FE;\n",
              "      --fill-color: #1967D2;\n",
              "      --hover-bg-color: #E2EBFA;\n",
              "      --hover-fill-color: #174EA6;\n",
              "      --disabled-fill-color: #AAA;\n",
              "      --disabled-bg-color: #DDD;\n",
              "  }\n",
              "\n",
              "  [theme=dark] .colab-df-quickchart {\n",
              "      --bg-color: #3B4455;\n",
              "      --fill-color: #D2E3FC;\n",
              "      --hover-bg-color: #434B5C;\n",
              "      --hover-fill-color: #FFFFFF;\n",
              "      --disabled-bg-color: #3B4455;\n",
              "      --disabled-fill-color: #666;\n",
              "  }\n",
              "\n",
              "  .colab-df-quickchart {\n",
              "    background-color: var(--bg-color);\n",
              "    border: none;\n",
              "    border-radius: 50%;\n",
              "    cursor: pointer;\n",
              "    display: none;\n",
              "    fill: var(--fill-color);\n",
              "    height: 32px;\n",
              "    padding: 0;\n",
              "    width: 32px;\n",
              "  }\n",
              "\n",
              "  .colab-df-quickchart:hover {\n",
              "    background-color: var(--hover-bg-color);\n",
              "    box-shadow: 0 1px 2px rgba(60, 64, 67, 0.3), 0 1px 3px 1px rgba(60, 64, 67, 0.15);\n",
              "    fill: var(--button-hover-fill-color);\n",
              "  }\n",
              "\n",
              "  .colab-df-quickchart-complete:disabled,\n",
              "  .colab-df-quickchart-complete:disabled:hover {\n",
              "    background-color: var(--disabled-bg-color);\n",
              "    fill: var(--disabled-fill-color);\n",
              "    box-shadow: none;\n",
              "  }\n",
              "\n",
              "  .colab-df-spinner {\n",
              "    border: 2px solid var(--fill-color);\n",
              "    border-color: transparent;\n",
              "    border-bottom-color: var(--fill-color);\n",
              "    animation:\n",
              "      spin 1s steps(1) infinite;\n",
              "  }\n",
              "\n",
              "  @keyframes spin {\n",
              "    0% {\n",
              "      border-color: transparent;\n",
              "      border-bottom-color: var(--fill-color);\n",
              "      border-left-color: var(--fill-color);\n",
              "    }\n",
              "    20% {\n",
              "      border-color: transparent;\n",
              "      border-left-color: var(--fill-color);\n",
              "      border-top-color: var(--fill-color);\n",
              "    }\n",
              "    30% {\n",
              "      border-color: transparent;\n",
              "      border-left-color: var(--fill-color);\n",
              "      border-top-color: var(--fill-color);\n",
              "      border-right-color: var(--fill-color);\n",
              "    }\n",
              "    40% {\n",
              "      border-color: transparent;\n",
              "      border-right-color: var(--fill-color);\n",
              "      border-top-color: var(--fill-color);\n",
              "    }\n",
              "    60% {\n",
              "      border-color: transparent;\n",
              "      border-right-color: var(--fill-color);\n",
              "    }\n",
              "    80% {\n",
              "      border-color: transparent;\n",
              "      border-right-color: var(--fill-color);\n",
              "      border-bottom-color: var(--fill-color);\n",
              "    }\n",
              "    90% {\n",
              "      border-color: transparent;\n",
              "      border-bottom-color: var(--fill-color);\n",
              "    }\n",
              "  }\n",
              "</style>\n",
              "\n",
              "  <script>\n",
              "    async function quickchart(key) {\n",
              "      const quickchartButtonEl =\n",
              "        document.querySelector('#' + key + ' button');\n",
              "      quickchartButtonEl.disabled = true;  // To prevent multiple clicks.\n",
              "      quickchartButtonEl.classList.add('colab-df-spinner');\n",
              "      try {\n",
              "        const charts = await google.colab.kernel.invokeFunction(\n",
              "            'suggestCharts', [key], {});\n",
              "      } catch (error) {\n",
              "        console.error('Error during call to suggestCharts:', error);\n",
              "      }\n",
              "      quickchartButtonEl.classList.remove('colab-df-spinner');\n",
              "      quickchartButtonEl.classList.add('colab-df-quickchart-complete');\n",
              "    }\n",
              "    (() => {\n",
              "      let quickchartButtonEl =\n",
              "        document.querySelector('#df-dedb419b-6f84-46e5-9df0-5a0fb53b77ba button');\n",
              "      quickchartButtonEl.style.display =\n",
              "        google.colab.kernel.accessAllowed ? 'block' : 'none';\n",
              "    })();\n",
              "  </script>\n",
              "</div>\n",
              "\n",
              "    </div>\n",
              "  </div>\n"
            ]
          },
          "metadata": {},
          "execution_count": 3
        }
      ]
    },
    {
      "cell_type": "code",
      "source": [
        "dataframe.columns"
      ],
      "metadata": {
        "colab": {
          "base_uri": "https://localhost:8080/"
        },
        "id": "TQNehtA5n4IM",
        "outputId": "c729c262-5b16-49ed-f9d0-73bdcefc8557"
      },
      "execution_count": 4,
      "outputs": [
        {
          "output_type": "execute_result",
          "data": {
            "text/plain": [
              "Index(['age', 'job', 'marital', 'education', 'default', 'housing', 'loan',\n",
              "       'contact', 'month', 'day_of_week', 'duration', 'campaign', 'pdays',\n",
              "       'previous', 'poutcome', 'emp.var.rate', 'cons.price.idx',\n",
              "       'cons.conf.idx', 'euribor3m', 'nr.employed', 'y'],\n",
              "      dtype='object')"
            ]
          },
          "metadata": {},
          "execution_count": 4
        }
      ]
    },
    {
      "cell_type": "markdown",
      "source": [
        "We will create a new feature `previously_contacted` to be able to demonstrate some useful\n",
        "preprocessing techniques, this feature is based on `pdays`. According to the dataset\n",
        "information if `pdays = 999` it means that the client was not previously contacted, so\n",
        "let's create a feature to capture that."
      ],
      "metadata": {
        "id": "WgYOw6C5hZBW"
      }
    },
    {
      "cell_type": "code",
      "source": [
        "dataframe.drop(\"duration\", axis = 1, inplace = True)\n",
        "\n",
        "dataframe[\"previously_contacted\"] = dataframe[\"pdays\"].map(lambda x : 0 if x == 999 else 1)"
      ],
      "metadata": {
        "id": "mwSh23SYoSeA"
      },
      "execution_count": 5,
      "outputs": []
    },
    {
      "cell_type": "code",
      "source": [
        "print(\"Dataframe shape is ::\", dataframe.shape)\n",
        "display(dataframe.head())"
      ],
      "metadata": {
        "colab": {
          "base_uri": "https://localhost:8080/",
          "height": 290
        },
        "id": "a_-1yaIRpbXl",
        "outputId": "b6987ec7-e167-444e-e350-a3004000ef08"
      },
      "execution_count": 6,
      "outputs": [
        {
          "output_type": "stream",
          "name": "stdout",
          "text": [
            "Dataframe shape is :: (4119, 21)\n"
          ]
        },
        {
          "output_type": "display_data",
          "data": {
            "text/plain": [
              "   age          job  marital          education default  housing     loan  \\\n",
              "0   30  blue-collar  married           basic.9y      no      yes       no   \n",
              "1   39     services   single        high.school      no       no       no   \n",
              "2   25     services  married        high.school      no      yes       no   \n",
              "3   38     services  married           basic.9y      no  unknown  unknown   \n",
              "4   47       admin.  married  university.degree      no      yes       no   \n",
              "\n",
              "     contact month day_of_week  ...  pdays  previous     poutcome  \\\n",
              "0   cellular   may         fri  ...    999         0  nonexistent   \n",
              "1  telephone   may         fri  ...    999         0  nonexistent   \n",
              "2  telephone   jun         wed  ...    999         0  nonexistent   \n",
              "3  telephone   jun         fri  ...    999         0  nonexistent   \n",
              "4   cellular   nov         mon  ...    999         0  nonexistent   \n",
              "\n",
              "  emp.var.rate  cons.price.idx  cons.conf.idx  euribor3m  nr.employed   y  \\\n",
              "0         -1.8          92.893          -46.2      1.313       5099.1  no   \n",
              "1          1.1          93.994          -36.4      4.855       5191.0  no   \n",
              "2          1.4          94.465          -41.8      4.962       5228.1  no   \n",
              "3          1.4          94.465          -41.8      4.959       5228.1  no   \n",
              "4         -0.1          93.200          -42.0      4.191       5195.8  no   \n",
              "\n",
              "  previously_contacted  \n",
              "0                    0  \n",
              "1                    0  \n",
              "2                    0  \n",
              "3                    0  \n",
              "4                    0  \n",
              "\n",
              "[5 rows x 21 columns]"
            ],
            "text/html": [
              "\n",
              "  <div id=\"df-11fe48dc-e7ec-4068-9ea7-34b7339e54df\" class=\"colab-df-container\">\n",
              "    <div>\n",
              "<style scoped>\n",
              "    .dataframe tbody tr th:only-of-type {\n",
              "        vertical-align: middle;\n",
              "    }\n",
              "\n",
              "    .dataframe tbody tr th {\n",
              "        vertical-align: top;\n",
              "    }\n",
              "\n",
              "    .dataframe thead th {\n",
              "        text-align: right;\n",
              "    }\n",
              "</style>\n",
              "<table border=\"1\" class=\"dataframe\">\n",
              "  <thead>\n",
              "    <tr style=\"text-align: right;\">\n",
              "      <th></th>\n",
              "      <th>age</th>\n",
              "      <th>job</th>\n",
              "      <th>marital</th>\n",
              "      <th>education</th>\n",
              "      <th>default</th>\n",
              "      <th>housing</th>\n",
              "      <th>loan</th>\n",
              "      <th>contact</th>\n",
              "      <th>month</th>\n",
              "      <th>day_of_week</th>\n",
              "      <th>...</th>\n",
              "      <th>pdays</th>\n",
              "      <th>previous</th>\n",
              "      <th>poutcome</th>\n",
              "      <th>emp.var.rate</th>\n",
              "      <th>cons.price.idx</th>\n",
              "      <th>cons.conf.idx</th>\n",
              "      <th>euribor3m</th>\n",
              "      <th>nr.employed</th>\n",
              "      <th>y</th>\n",
              "      <th>previously_contacted</th>\n",
              "    </tr>\n",
              "  </thead>\n",
              "  <tbody>\n",
              "    <tr>\n",
              "      <th>0</th>\n",
              "      <td>30</td>\n",
              "      <td>blue-collar</td>\n",
              "      <td>married</td>\n",
              "      <td>basic.9y</td>\n",
              "      <td>no</td>\n",
              "      <td>yes</td>\n",
              "      <td>no</td>\n",
              "      <td>cellular</td>\n",
              "      <td>may</td>\n",
              "      <td>fri</td>\n",
              "      <td>...</td>\n",
              "      <td>999</td>\n",
              "      <td>0</td>\n",
              "      <td>nonexistent</td>\n",
              "      <td>-1.8</td>\n",
              "      <td>92.893</td>\n",
              "      <td>-46.2</td>\n",
              "      <td>1.313</td>\n",
              "      <td>5099.1</td>\n",
              "      <td>no</td>\n",
              "      <td>0</td>\n",
              "    </tr>\n",
              "    <tr>\n",
              "      <th>1</th>\n",
              "      <td>39</td>\n",
              "      <td>services</td>\n",
              "      <td>single</td>\n",
              "      <td>high.school</td>\n",
              "      <td>no</td>\n",
              "      <td>no</td>\n",
              "      <td>no</td>\n",
              "      <td>telephone</td>\n",
              "      <td>may</td>\n",
              "      <td>fri</td>\n",
              "      <td>...</td>\n",
              "      <td>999</td>\n",
              "      <td>0</td>\n",
              "      <td>nonexistent</td>\n",
              "      <td>1.1</td>\n",
              "      <td>93.994</td>\n",
              "      <td>-36.4</td>\n",
              "      <td>4.855</td>\n",
              "      <td>5191.0</td>\n",
              "      <td>no</td>\n",
              "      <td>0</td>\n",
              "    </tr>\n",
              "    <tr>\n",
              "      <th>2</th>\n",
              "      <td>25</td>\n",
              "      <td>services</td>\n",
              "      <td>married</td>\n",
              "      <td>high.school</td>\n",
              "      <td>no</td>\n",
              "      <td>yes</td>\n",
              "      <td>no</td>\n",
              "      <td>telephone</td>\n",
              "      <td>jun</td>\n",
              "      <td>wed</td>\n",
              "      <td>...</td>\n",
              "      <td>999</td>\n",
              "      <td>0</td>\n",
              "      <td>nonexistent</td>\n",
              "      <td>1.4</td>\n",
              "      <td>94.465</td>\n",
              "      <td>-41.8</td>\n",
              "      <td>4.962</td>\n",
              "      <td>5228.1</td>\n",
              "      <td>no</td>\n",
              "      <td>0</td>\n",
              "    </tr>\n",
              "    <tr>\n",
              "      <th>3</th>\n",
              "      <td>38</td>\n",
              "      <td>services</td>\n",
              "      <td>married</td>\n",
              "      <td>basic.9y</td>\n",
              "      <td>no</td>\n",
              "      <td>unknown</td>\n",
              "      <td>unknown</td>\n",
              "      <td>telephone</td>\n",
              "      <td>jun</td>\n",
              "      <td>fri</td>\n",
              "      <td>...</td>\n",
              "      <td>999</td>\n",
              "      <td>0</td>\n",
              "      <td>nonexistent</td>\n",
              "      <td>1.4</td>\n",
              "      <td>94.465</td>\n",
              "      <td>-41.8</td>\n",
              "      <td>4.959</td>\n",
              "      <td>5228.1</td>\n",
              "      <td>no</td>\n",
              "      <td>0</td>\n",
              "    </tr>\n",
              "    <tr>\n",
              "      <th>4</th>\n",
              "      <td>47</td>\n",
              "      <td>admin.</td>\n",
              "      <td>married</td>\n",
              "      <td>university.degree</td>\n",
              "      <td>no</td>\n",
              "      <td>yes</td>\n",
              "      <td>no</td>\n",
              "      <td>cellular</td>\n",
              "      <td>nov</td>\n",
              "      <td>mon</td>\n",
              "      <td>...</td>\n",
              "      <td>999</td>\n",
              "      <td>0</td>\n",
              "      <td>nonexistent</td>\n",
              "      <td>-0.1</td>\n",
              "      <td>93.200</td>\n",
              "      <td>-42.0</td>\n",
              "      <td>4.191</td>\n",
              "      <td>5195.8</td>\n",
              "      <td>no</td>\n",
              "      <td>0</td>\n",
              "    </tr>\n",
              "  </tbody>\n",
              "</table>\n",
              "<p>5 rows × 21 columns</p>\n",
              "</div>\n",
              "    <div class=\"colab-df-buttons\">\n",
              "\n",
              "  <div class=\"colab-df-container\">\n",
              "    <button class=\"colab-df-convert\" onclick=\"convertToInteractive('df-11fe48dc-e7ec-4068-9ea7-34b7339e54df')\"\n",
              "            title=\"Convert this dataframe to an interactive table.\"\n",
              "            style=\"display:none;\">\n",
              "\n",
              "  <svg xmlns=\"http://www.w3.org/2000/svg\" height=\"24px\" viewBox=\"0 -960 960 960\">\n",
              "    <path d=\"M120-120v-720h720v720H120Zm60-500h600v-160H180v160Zm220 220h160v-160H400v160Zm0 220h160v-160H400v160ZM180-400h160v-160H180v160Zm440 0h160v-160H620v160ZM180-180h160v-160H180v160Zm440 0h160v-160H620v160Z\"/>\n",
              "  </svg>\n",
              "    </button>\n",
              "\n",
              "  <style>\n",
              "    .colab-df-container {\n",
              "      display:flex;\n",
              "      gap: 12px;\n",
              "    }\n",
              "\n",
              "    .colab-df-convert {\n",
              "      background-color: #E8F0FE;\n",
              "      border: none;\n",
              "      border-radius: 50%;\n",
              "      cursor: pointer;\n",
              "      display: none;\n",
              "      fill: #1967D2;\n",
              "      height: 32px;\n",
              "      padding: 0 0 0 0;\n",
              "      width: 32px;\n",
              "    }\n",
              "\n",
              "    .colab-df-convert:hover {\n",
              "      background-color: #E2EBFA;\n",
              "      box-shadow: 0px 1px 2px rgba(60, 64, 67, 0.3), 0px 1px 3px 1px rgba(60, 64, 67, 0.15);\n",
              "      fill: #174EA6;\n",
              "    }\n",
              "\n",
              "    .colab-df-buttons div {\n",
              "      margin-bottom: 4px;\n",
              "    }\n",
              "\n",
              "    [theme=dark] .colab-df-convert {\n",
              "      background-color: #3B4455;\n",
              "      fill: #D2E3FC;\n",
              "    }\n",
              "\n",
              "    [theme=dark] .colab-df-convert:hover {\n",
              "      background-color: #434B5C;\n",
              "      box-shadow: 0px 1px 3px 1px rgba(0, 0, 0, 0.15);\n",
              "      filter: drop-shadow(0px 1px 2px rgba(0, 0, 0, 0.3));\n",
              "      fill: #FFFFFF;\n",
              "    }\n",
              "  </style>\n",
              "\n",
              "    <script>\n",
              "      const buttonEl =\n",
              "        document.querySelector('#df-11fe48dc-e7ec-4068-9ea7-34b7339e54df button.colab-df-convert');\n",
              "      buttonEl.style.display =\n",
              "        google.colab.kernel.accessAllowed ? 'block' : 'none';\n",
              "\n",
              "      async function convertToInteractive(key) {\n",
              "        const element = document.querySelector('#df-11fe48dc-e7ec-4068-9ea7-34b7339e54df');\n",
              "        const dataTable =\n",
              "          await google.colab.kernel.invokeFunction('convertToInteractive',\n",
              "                                                    [key], {});\n",
              "        if (!dataTable) return;\n",
              "\n",
              "        const docLinkHtml = 'Like what you see? Visit the ' +\n",
              "          '<a target=\"_blank\" href=https://colab.research.google.com/notebooks/data_table.ipynb>data table notebook</a>'\n",
              "          + ' to learn more about interactive tables.';\n",
              "        element.innerHTML = '';\n",
              "        dataTable['output_type'] = 'display_data';\n",
              "        await google.colab.output.renderOutput(dataTable, element);\n",
              "        const docLink = document.createElement('div');\n",
              "        docLink.innerHTML = docLinkHtml;\n",
              "        element.appendChild(docLink);\n",
              "      }\n",
              "    </script>\n",
              "  </div>\n",
              "\n",
              "\n",
              "<div id=\"df-325c144a-22b4-44f3-b691-f15f83f12be8\">\n",
              "  <button class=\"colab-df-quickchart\" onclick=\"quickchart('df-325c144a-22b4-44f3-b691-f15f83f12be8')\"\n",
              "            title=\"Suggest charts\"\n",
              "            style=\"display:none;\">\n",
              "\n",
              "<svg xmlns=\"http://www.w3.org/2000/svg\" height=\"24px\"viewBox=\"0 0 24 24\"\n",
              "     width=\"24px\">\n",
              "    <g>\n",
              "        <path d=\"M19 3H5c-1.1 0-2 .9-2 2v14c0 1.1.9 2 2 2h14c1.1 0 2-.9 2-2V5c0-1.1-.9-2-2-2zM9 17H7v-7h2v7zm4 0h-2V7h2v10zm4 0h-2v-4h2v4z\"/>\n",
              "    </g>\n",
              "</svg>\n",
              "  </button>\n",
              "\n",
              "<style>\n",
              "  .colab-df-quickchart {\n",
              "      --bg-color: #E8F0FE;\n",
              "      --fill-color: #1967D2;\n",
              "      --hover-bg-color: #E2EBFA;\n",
              "      --hover-fill-color: #174EA6;\n",
              "      --disabled-fill-color: #AAA;\n",
              "      --disabled-bg-color: #DDD;\n",
              "  }\n",
              "\n",
              "  [theme=dark] .colab-df-quickchart {\n",
              "      --bg-color: #3B4455;\n",
              "      --fill-color: #D2E3FC;\n",
              "      --hover-bg-color: #434B5C;\n",
              "      --hover-fill-color: #FFFFFF;\n",
              "      --disabled-bg-color: #3B4455;\n",
              "      --disabled-fill-color: #666;\n",
              "  }\n",
              "\n",
              "  .colab-df-quickchart {\n",
              "    background-color: var(--bg-color);\n",
              "    border: none;\n",
              "    border-radius: 50%;\n",
              "    cursor: pointer;\n",
              "    display: none;\n",
              "    fill: var(--fill-color);\n",
              "    height: 32px;\n",
              "    padding: 0;\n",
              "    width: 32px;\n",
              "  }\n",
              "\n",
              "  .colab-df-quickchart:hover {\n",
              "    background-color: var(--hover-bg-color);\n",
              "    box-shadow: 0 1px 2px rgba(60, 64, 67, 0.3), 0 1px 3px 1px rgba(60, 64, 67, 0.15);\n",
              "    fill: var(--button-hover-fill-color);\n",
              "  }\n",
              "\n",
              "  .colab-df-quickchart-complete:disabled,\n",
              "  .colab-df-quickchart-complete:disabled:hover {\n",
              "    background-color: var(--disabled-bg-color);\n",
              "    fill: var(--disabled-fill-color);\n",
              "    box-shadow: none;\n",
              "  }\n",
              "\n",
              "  .colab-df-spinner {\n",
              "    border: 2px solid var(--fill-color);\n",
              "    border-color: transparent;\n",
              "    border-bottom-color: var(--fill-color);\n",
              "    animation:\n",
              "      spin 1s steps(1) infinite;\n",
              "  }\n",
              "\n",
              "  @keyframes spin {\n",
              "    0% {\n",
              "      border-color: transparent;\n",
              "      border-bottom-color: var(--fill-color);\n",
              "      border-left-color: var(--fill-color);\n",
              "    }\n",
              "    20% {\n",
              "      border-color: transparent;\n",
              "      border-left-color: var(--fill-color);\n",
              "      border-top-color: var(--fill-color);\n",
              "    }\n",
              "    30% {\n",
              "      border-color: transparent;\n",
              "      border-left-color: var(--fill-color);\n",
              "      border-top-color: var(--fill-color);\n",
              "      border-right-color: var(--fill-color);\n",
              "    }\n",
              "    40% {\n",
              "      border-color: transparent;\n",
              "      border-right-color: var(--fill-color);\n",
              "      border-top-color: var(--fill-color);\n",
              "    }\n",
              "    60% {\n",
              "      border-color: transparent;\n",
              "      border-right-color: var(--fill-color);\n",
              "    }\n",
              "    80% {\n",
              "      border-color: transparent;\n",
              "      border-right-color: var(--fill-color);\n",
              "      border-bottom-color: var(--fill-color);\n",
              "    }\n",
              "    90% {\n",
              "      border-color: transparent;\n",
              "      border-bottom-color: var(--fill-color);\n",
              "    }\n",
              "  }\n",
              "</style>\n",
              "\n",
              "  <script>\n",
              "    async function quickchart(key) {\n",
              "      const quickchartButtonEl =\n",
              "        document.querySelector('#' + key + ' button');\n",
              "      quickchartButtonEl.disabled = true;  // To prevent multiple clicks.\n",
              "      quickchartButtonEl.classList.add('colab-df-spinner');\n",
              "      try {\n",
              "        const charts = await google.colab.kernel.invokeFunction(\n",
              "            'suggestCharts', [key], {});\n",
              "      } catch (error) {\n",
              "        console.error('Error during call to suggestCharts:', error);\n",
              "      }\n",
              "      quickchartButtonEl.classList.remove('colab-df-spinner');\n",
              "      quickchartButtonEl.classList.add('colab-df-quickchart-complete');\n",
              "    }\n",
              "    (() => {\n",
              "      let quickchartButtonEl =\n",
              "        document.querySelector('#df-325c144a-22b4-44f3-b691-f15f83f12be8 button');\n",
              "      quickchartButtonEl.style.display =\n",
              "        google.colab.kernel.accessAllowed ? 'block' : 'none';\n",
              "    })();\n",
              "  </script>\n",
              "</div>\n",
              "\n",
              "    </div>\n",
              "  </div>\n"
            ]
          },
          "metadata": {}
        }
      ]
    },
    {
      "cell_type": "code",
      "source": [
        "dataframe.info()"
      ],
      "metadata": {
        "colab": {
          "base_uri": "https://localhost:8080/"
        },
        "id": "CJW6K8P9qqd2",
        "outputId": "1ca1f1da-db54-4b17-8159-31ee6c27e749"
      },
      "execution_count": 7,
      "outputs": [
        {
          "output_type": "stream",
          "name": "stdout",
          "text": [
            "<class 'pandas.core.frame.DataFrame'>\n",
            "RangeIndex: 4119 entries, 0 to 4118\n",
            "Data columns (total 21 columns):\n",
            " #   Column                Non-Null Count  Dtype  \n",
            "---  ------                --------------  -----  \n",
            " 0   age                   4119 non-null   int64  \n",
            " 1   job                   4119 non-null   object \n",
            " 2   marital               4119 non-null   object \n",
            " 3   education             4119 non-null   object \n",
            " 4   default               4119 non-null   object \n",
            " 5   housing               4119 non-null   object \n",
            " 6   loan                  4119 non-null   object \n",
            " 7   contact               4119 non-null   object \n",
            " 8   month                 4119 non-null   object \n",
            " 9   day_of_week           4119 non-null   object \n",
            " 10  campaign              4119 non-null   int64  \n",
            " 11  pdays                 4119 non-null   int64  \n",
            " 12  previous              4119 non-null   int64  \n",
            " 13  poutcome              4119 non-null   object \n",
            " 14  emp.var.rate          4119 non-null   float64\n",
            " 15  cons.price.idx        4119 non-null   float64\n",
            " 16  cons.conf.idx         4119 non-null   float64\n",
            " 17  euribor3m             4119 non-null   float64\n",
            " 18  nr.employed           4119 non-null   float64\n",
            " 19  y                     4119 non-null   object \n",
            " 20  previously_contacted  4119 non-null   int64  \n",
            "dtypes: float64(5), int64(5), object(11)\n",
            "memory usage: 675.9+ KB\n"
          ]
        }
      ]
    },
    {
      "cell_type": "markdown",
      "source": [
        "The column, \"y\", indicates whether the client has subscribed a term deposit or not.\n",
        "\n",
        "\n",
        "\n",
        "## Train/validation split\n",
        "\n",
        "Let's split the data into a training and validation set:"
      ],
      "metadata": {
        "id": "bVoP0BsKhhrC"
      }
    },
    {
      "cell_type": "code",
      "source": [
        "valid_dataframe = dataframe.sample(frac = 0.2, random_state = 0)\n",
        "\n",
        "train_dataframe = dataframe.drop(valid_dataframe.index)\n",
        "\n",
        "print(\n",
        "    f\"Using {len(train_dataframe)} samples for training and \"\n",
        "    f\"{len(valid_dataframe)} for validation\")"
      ],
      "metadata": {
        "colab": {
          "base_uri": "https://localhost:8080/"
        },
        "id": "qsBW8kXRp8WK",
        "outputId": "3b3d1fb6-ee7a-4155-c954-863d07db75ef"
      },
      "execution_count": 8,
      "outputs": [
        {
          "output_type": "stream",
          "name": "stdout",
          "text": [
            "Using 3295 samples for training and 824 for validation\n"
          ]
        }
      ]
    },
    {
      "cell_type": "markdown",
      "source": [
        "## Generating TF datasets\n",
        "\n",
        "Let's generate\n",
        "[`tf.data.Dataset`](https://www.tensorflow.org/api_docs/python/tf/data/Dataset) objects\n",
        "for each dataframe, since our target column `y` is a string we also need to encode it as\n",
        "an integer to be able to train our model with it. To achieve this we will create a\n",
        "`StringLookup` layer that will map the strings \"no\" and \"yes\" into \"0\" and \"1\"\n",
        "respectively."
      ],
      "metadata": {
        "id": "_KFp50rohnu5"
      }
    },
    {
      "cell_type": "code",
      "source": [
        "label_lookup = tf.keras.layers.StringLookup(\n",
        "    # the order here is important since the first index will be encoded as 0\n",
        "    vocabulary=[\"no\", \"yes\"],\n",
        "    num_oov_indices=0,\n",
        ")\n",
        "\n",
        "\n",
        "def encode_label(x, y):\n",
        "    encoded_y = label_lookup(y)\n",
        "    return x, encoded_y\n",
        "\n",
        "\n",
        "def dataframe_to_dataset(dataframe):\n",
        "    dataframe = dataframe.copy()\n",
        "    labels = dataframe.pop(\"y\")\n",
        "    ds = tf.data.Dataset.from_tensor_slices((dict(dataframe), labels))\n",
        "    ds = ds.map(encode_label, num_parallel_calls=tf.data.AUTOTUNE)\n",
        "    ds = ds.shuffle(buffer_size=len(dataframe))\n",
        "    return ds\n",
        "\n",
        "\n",
        "train_ds = dataframe_to_dataset(train_dataframe)\n",
        "valid_ds = dataframe_to_dataset(valid_dataframe)"
      ],
      "metadata": {
        "id": "reL50q2kqgGE",
        "colab": {
          "base_uri": "https://localhost:8080/"
        },
        "outputId": "2c0b972b-25e3-4da3-baac-d55f9c7c4def"
      },
      "execution_count": 9,
      "outputs": [
        {
          "output_type": "stream",
          "name": "stderr",
          "text": [
            "/usr/local/lib/python3.10/dist-packages/numpy/core/numeric.py:2463: FutureWarning: elementwise comparison failed; returning scalar instead, but in the future will perform elementwise comparison\n",
            "  return bool(asarray(a1 == a2).all())\n"
          ]
        }
      ]
    },
    {
      "cell_type": "code",
      "source": [
        "for x, y in train_ds.take(1):\n",
        "    print(\"Input ::\", x)\n",
        "    print(\"Target ::\", y)"
      ],
      "metadata": {
        "colab": {
          "base_uri": "https://localhost:8080/"
        },
        "id": "4rfg33lqh97d",
        "outputId": "a88761b0-8574-4631-bf57-a008a1898830"
      },
      "execution_count": 10,
      "outputs": [
        {
          "output_type": "stream",
          "name": "stdout",
          "text": [
            "Input :: {'age': <tf.Tensor: shape=(), dtype=int64, numpy=35>, 'job': <tf.Tensor: shape=(), dtype=string, numpy=b'admin.'>, 'marital': <tf.Tensor: shape=(), dtype=string, numpy=b'married'>, 'education': <tf.Tensor: shape=(), dtype=string, numpy=b'professional.course'>, 'default': <tf.Tensor: shape=(), dtype=string, numpy=b'no'>, 'housing': <tf.Tensor: shape=(), dtype=string, numpy=b'no'>, 'loan': <tf.Tensor: shape=(), dtype=string, numpy=b'no'>, 'contact': <tf.Tensor: shape=(), dtype=string, numpy=b'cellular'>, 'month': <tf.Tensor: shape=(), dtype=string, numpy=b'jul'>, 'day_of_week': <tf.Tensor: shape=(), dtype=string, numpy=b'tue'>, 'campaign': <tf.Tensor: shape=(), dtype=int64, numpy=1>, 'pdays': <tf.Tensor: shape=(), dtype=int64, numpy=999>, 'previous': <tf.Tensor: shape=(), dtype=int64, numpy=0>, 'poutcome': <tf.Tensor: shape=(), dtype=string, numpy=b'nonexistent'>, 'emp.var.rate': <tf.Tensor: shape=(), dtype=float64, numpy=1.4>, 'cons.price.idx': <tf.Tensor: shape=(), dtype=float64, numpy=93.918>, 'cons.conf.idx': <tf.Tensor: shape=(), dtype=float64, numpy=-42.7>, 'euribor3m': <tf.Tensor: shape=(), dtype=float64, numpy=4.961>, 'nr.employed': <tf.Tensor: shape=(), dtype=float64, numpy=5228.1>, 'previously_contacted': <tf.Tensor: shape=(), dtype=int64, numpy=0>}\n",
            "Target :: tf.Tensor(0, shape=(), dtype=int64)\n"
          ]
        }
      ]
    },
    {
      "cell_type": "markdown",
      "source": [
        "## Preprocessing\n",
        "\n",
        "Usually our data is not on the proper or best format for modeling, this is why most of\n",
        "the time we need to do some kind of preprocessing on the features to make them compatible\n",
        "with the model or to extract the most of them for the task. We need to do this\n",
        "preprocessing step for training but but at inference we also need to make sure that the\n",
        "data goes through the same process, this where a utility like `FeatureSpace` shines, we\n",
        "can define all the preprocessing once and re-use it at different stages of our system.\n",
        "\n",
        "Here we will see how to use `FeatureSpace` to perform more complex transformations and\n",
        "its flexibility, then combine everything together into a single component to preprocess\n",
        "data for our model.\n",
        "\n",
        "\n",
        "\n",
        "The `FeatureSpace` utility learns how to process the data by using the `adapt()` function\n",
        "to learn from it, this requires a dataset containing only feature, so let's create it\n",
        "together with a utility function to show the preprocessing example in practice:"
      ],
      "metadata": {
        "id": "oAng3ZPXh4uX"
      }
    },
    {
      "cell_type": "code",
      "source": [
        "train_ds_with_no_labels = train_ds.map(lambda x, _: x)\n",
        "\n",
        "\n",
        "def example_feature_space(dataset, feature_space, feature_names):\n",
        "    feature_space.adapt(dataset)\n",
        "    for x in dataset.take(1):\n",
        "        inputs = {feature_name: x[feature_name] for feature_name in feature_names}\n",
        "        preprocessed_x = feature_space(inputs)\n",
        "        print(f\"Input: {[{k:v.numpy()} for k, v in inputs.items()]}\")\n",
        "        print(\n",
        "            f\"Preprocessed output: {[{k:v.numpy()} for k, v in preprocessed_x.items()]}\"\n",
        "        )"
      ],
      "metadata": {
        "id": "JFVIWd4ujOY_"
      },
      "execution_count": 11,
      "outputs": []
    },
    {
      "cell_type": "markdown",
      "source": [
        "### Feature hashing\n",
        "\n",
        "\n",
        "\n",
        "**Feature hashing** means hashing or encoding a set of values into a defined number of\n",
        "bins, in this case we have `campaign` (number of contacts performed during this campaign\n",
        "and for a client) which is a numerical feature that can assume a varying range of values\n",
        "and we will hash it into 4 bins, this means that any possible value of the original\n",
        "feature will be placed into one of those possible 4 bins. The output here can be a\n",
        "one-hot encoded vector or a single number."
      ],
      "metadata": {
        "id": "Gmln5LfSiJOm"
      }
    },
    {
      "cell_type": "code",
      "source": [
        "feature_space = FeatureSpace(\n",
        "    features={\"campaign\": FeatureSpace.integer_hashed(num_bins=4, output_mode=\"one_hot\")},\n",
        "    output_mode=\"dict\")\n",
        "example_feature_space(train_ds_with_no_labels, feature_space, [\"campaign\"])"
      ],
      "metadata": {
        "colab": {
          "base_uri": "https://localhost:8080/"
        },
        "id": "OC8diDJZpqQL",
        "outputId": "39ceab0a-ccc6-4b3b-f25e-e6f3d4164ab0"
      },
      "execution_count": 12,
      "outputs": [
        {
          "output_type": "stream",
          "name": "stdout",
          "text": [
            "Input: [{'campaign': 1}]\n",
            "Preprocessed output: [{'campaign': array([0., 1., 0., 0.], dtype=float32)}]\n"
          ]
        }
      ]
    },
    {
      "cell_type": "markdown",
      "source": [
        "**Feature hashing** can also be used for string features."
      ],
      "metadata": {
        "id": "c0fS-htEiNGs"
      }
    },
    {
      "cell_type": "code",
      "source": [
        "feature_space = FeatureSpace(\n",
        "    features={\n",
        "        \"education\": FeatureSpace.integer_hashed(num_bins=3, output_mode=\"one_hot\")\n",
        "    },\n",
        "    output_mode=\"dict\",\n",
        ")\n",
        "example_feature_space(train_ds_with_no_labels, feature_space, [\"education\"])"
      ],
      "metadata": {
        "colab": {
          "base_uri": "https://localhost:8080/"
        },
        "id": "S-CmLtDEqKw2",
        "outputId": "4b05444d-4955-4c7b-edba-79bea61a94bb"
      },
      "execution_count": 13,
      "outputs": [
        {
          "output_type": "stream",
          "name": "stdout",
          "text": [
            "Input: [{'education': b'high.school'}]\n",
            "Preprocessed output: [{'education': array([1., 0., 0.], dtype=float32)}]\n"
          ]
        }
      ]
    },
    {
      "cell_type": "markdown",
      "source": [
        "For numerical features we can get a similar behavior by using the `float_discretized`\n",
        "option, the main difference between this and `integer_hashed` is that with the former we\n",
        "bin the values while keeping some numerical relationship (close values will likely be\n",
        "placed at the same bin) while the later (hashing) we cannot guarantee that those numbers\n",
        "will be hashed into the same bin, it depends on the hashing function."
      ],
      "metadata": {
        "id": "gx17At-RiTEc"
      }
    },
    {
      "cell_type": "code",
      "source": [
        "feature_space = FeatureSpace(\n",
        "    features={\"age\": FeatureSpace.float_discretized(num_bins=3, output_mode=\"one_hot\")},\n",
        "    output_mode=\"dict\",\n",
        ")\n",
        "example_feature_space(train_ds_with_no_labels, feature_space, [\"age\"])"
      ],
      "metadata": {
        "id": "O0etvYz3q7us",
        "colab": {
          "base_uri": "https://localhost:8080/"
        },
        "outputId": "76a73c09-7aeb-420b-8e8f-00f2fde2d20f"
      },
      "execution_count": 14,
      "outputs": [
        {
          "output_type": "stream",
          "name": "stdout",
          "text": [
            "Input: [{'age': 26}]\n",
            "Preprocessed output: [{'age': array([1., 0., 0.], dtype=float32)}]\n"
          ]
        }
      ]
    },
    {
      "cell_type": "markdown",
      "source": [
        "### Feature indexing\n",
        "\n",
        "\n",
        "\n",
        "**Indexing** a string feature essentially means creating a discrete numerical\n",
        "representation for it, this is especially important for string features since most models\n",
        "only accept numerical features. This transformation will place the string values into\n",
        "different categories. The output here can be a one-hot encoded vector or a single number.\n",
        "\n",
        "Note that by specifying `num_oov_indices=1` we leave one spot at our output vector for\n",
        "OOV (out of vocabulary) values this is an important tool to handle missing or unseen\n",
        "values after the training (values that were not seen during the `adapt()` step)"
      ],
      "metadata": {
        "id": "GHU0bJ9BigoE"
      }
    },
    {
      "cell_type": "code",
      "source": [
        "feature_space = FeatureSpace(\n",
        "    features={\n",
        "        \"default\": FeatureSpace.string_categorical(\n",
        "            num_oov_indices=1, output_mode=\"one_hot\"\n",
        "        )\n",
        "    },\n",
        "    output_mode=\"dict\",\n",
        ")\n",
        "example_feature_space(train_ds_with_no_labels, feature_space, [\"default\"])"
      ],
      "metadata": {
        "colab": {
          "base_uri": "https://localhost:8080/"
        },
        "id": "_5acuRAwCr-h",
        "outputId": "0ab2c02d-d7e2-4b9a-c34e-49f1b96d3d6f"
      },
      "execution_count": 15,
      "outputs": [
        {
          "output_type": "stream",
          "name": "stdout",
          "text": [
            "Input: [{'default': b'no'}]\n",
            "Preprocessed output: [{'default': array([0., 1., 0., 0.], dtype=float32)}]\n"
          ]
        }
      ]
    },
    {
      "cell_type": "markdown",
      "source": [
        "We also can do **feature indexing** for integer features, this can be quite important for\n",
        "some datasets where categorical features are replaced by numbers, for instance features\n",
        "like `sex` or `gender` where values like (`1 and 0`) do not have a numerical relationship\n",
        "between them, they are just different categories, this behavior can be perfectly captured\n",
        "by this transformation.\n",
        "\n",
        "On this dataset we can use the feature that we created `previously_contacted`. For this\n",
        "case we want to explicitly set `num_oov_indices=0`, the reason is that we only expect two\n",
        "possible values for the feature, anything else would be either wrong input or an issue\n",
        "with the data creation, for this reason we would probably just want the code to throw an\n",
        "error so that we can be aware of the issue and fix it."
      ],
      "metadata": {
        "id": "OjT49T4tipLd"
      }
    },
    {
      "cell_type": "code",
      "source": [
        "feature_space = FeatureSpace(\n",
        "    features={\n",
        "        \"previously_contacted\": FeatureSpace.integer_categorical(\n",
        "            num_oov_indices=0, output_mode=\"one_hot\"\n",
        "        )\n",
        "    },\n",
        "    output_mode=\"dict\",\n",
        ")\n",
        "example_feature_space(train_ds_with_no_labels, feature_space, [\"previously_contacted\"])"
      ],
      "metadata": {
        "colab": {
          "base_uri": "https://localhost:8080/"
        },
        "id": "epEUHxwBD-Je",
        "outputId": "fceb0dde-be4c-4eb3-dce4-3537822d1905"
      },
      "execution_count": 16,
      "outputs": [
        {
          "output_type": "stream",
          "name": "stdout",
          "text": [
            "Input: [{'previously_contacted': 0}]\n",
            "Preprocessed output: [{'previously_contacted': array([1., 0.], dtype=float32)}]\n"
          ]
        }
      ]
    },
    {
      "cell_type": "markdown",
      "source": [
        "### Feature crosses (mixing features of diverse types)\n",
        "\n",
        "With **crosses** we can do feature interactions between an arbitrary number of features\n",
        "of mixed types as long as they are categorical features, you can think of instead of\n",
        "having a feature {'age': 20} and another {'job': 'entrepreneur'} we can have\n",
        "{'age_X_job': 20_entrepreneur}, but with `FeatureSpace` and **crosses** we can apply\n",
        "specific preprocessing to each individual feature and to the feature cross itself. This\n",
        "option can be very powerful for specific use cases, here might be a good option since age\n",
        "combined with job can have different meanings for the banking domain.\n",
        "\n",
        "We will cross `age` and `job` and hash the combination output of them into a vector\n",
        "representation of size 8. The output here can be a one-hot encoded vector or a single\n",
        "number.\n",
        "\n",
        "Sometimes the combination of multiple features can result into on a super large feature\n",
        "space, think about crossing someone's ZIP code with its last name, the possibilities\n",
        "would be in the thousands, that is why the `crossing_dim` parameter is so important it\n",
        "limits the output dimension of the cross feature.\n",
        "\n",
        "Note that the combination of possible values of the 6 bins of `age` and the 12 values of\n",
        "`job` would be 72, so by choosing `crossing_dim = 8` we are choosing to constrain the\n",
        "output vector."
      ],
      "metadata": {
        "id": "0cOf94zHisEy"
      }
    },
    {
      "cell_type": "code",
      "source": [
        "feature_space = FeatureSpace(\n",
        "    features={\n",
        "        \"age\": FeatureSpace.integer_hashed(num_bins=6, output_mode=\"one_hot\"),\n",
        "        \"job\": FeatureSpace.string_categorical(\n",
        "            num_oov_indices=0, output_mode=\"one_hot\"\n",
        "        ),\n",
        "    },\n",
        "    crosses=[\n",
        "        FeatureSpace.cross(\n",
        "            feature_names=(\"age\", \"job\"),\n",
        "            crossing_dim=8,\n",
        "            output_mode=\"one_hot\",\n",
        "        )\n",
        "    ],\n",
        "    output_mode=\"dict\",\n",
        ")\n",
        "example_feature_space(train_ds_with_no_labels, feature_space, [\"age\", \"job\"])"
      ],
      "metadata": {
        "colab": {
          "base_uri": "https://localhost:8080/"
        },
        "id": "JVJR0_pWEQpw",
        "outputId": "2d280c76-5861-4a21-8e74-375f20848ea4"
      },
      "execution_count": 17,
      "outputs": [
        {
          "output_type": "stream",
          "name": "stdout",
          "text": [
            "Input: [{'age': 54}, {'job': b'retired'}]\n",
            "Preprocessed output: [{'age': array([0., 0., 0., 0., 0., 1.], dtype=float32)}, {'job': array([0., 0., 0., 0., 0., 1., 0., 0., 0., 0., 0., 0.], dtype=float32)}, {'age_X_job': array([0., 0., 0., 0., 0., 0., 0., 1.], dtype=float32)}]\n"
          ]
        }
      ]
    },
    {
      "cell_type": "markdown",
      "source": [
        "### FeatureSpace using a Keras preprocessing layer\n",
        "\n",
        "To be a really flexible and extensible feature we cannot only rely on those pre-defined\n",
        "transformation, we must be able to re-use other transformations from the Keras/TensorFlow\n",
        "ecosystem and customize our own, this is why `FeatureSpace` is also designed to work with\n",
        "[Keras preprocessing layers](https://keras.io/guides/preprocessing_layers/), this way we\n",
        "can use sophisticated data transformations provided by the framework, you can even create\n",
        "your own custom Keras preprocessing layers and use it in the same way.\n",
        "\n",
        "Here we are going to use the\n",
        "[`tf.keras.layers.TextVectorization`](https://keras.io/api/layers/preprocessing_layers/text/text_vectorization/#textvectorization-class)\n",
        "preprocessing layer to create a TF-IDF\n",
        "feature from our data. Note that this feature is not a really good use case for TF-IDF,\n",
        "this is just for demonstration purposes."
      ],
      "metadata": {
        "id": "0QuDdKL6kIj2"
      }
    },
    {
      "cell_type": "code",
      "source": [
        "custom_layer = tf.keras.layers.TextVectorization(output_mode=\"tf_idf\")\n",
        "\n",
        "feature_space = FeatureSpace(\n",
        "    features={\n",
        "        \"education\": FeatureSpace.feature(\n",
        "            preprocessor=custom_layer, dtype=\"string\", output_mode=\"float\"\n",
        "        )\n",
        "    },\n",
        "    output_mode=\"dict\",\n",
        ")\n",
        "example_feature_space(train_ds_with_no_labels, feature_space, [\"education\"])"
      ],
      "metadata": {
        "colab": {
          "base_uri": "https://localhost:8080/"
        },
        "id": "HFRI9xv_EaVI",
        "outputId": "51c0bc0d-1fe6-496e-98e9-b0333e1268e3"
      },
      "execution_count": 18,
      "outputs": [
        {
          "output_type": "stream",
          "name": "stdout",
          "text": [
            "Input: [{'education': b'basic.6y'}]\n",
            "Preprocessed output: [{'education': array([0.       , 0.       , 0.       , 0.       , 0.       , 0.       ,\n",
            "       2.9709904, 0.       , 0.       ], dtype=float32)}]\n"
          ]
        }
      ]
    },
    {
      "cell_type": "markdown",
      "source": [
        "## Configuring the final `FeatureSpace`\n",
        "\n",
        "Now that we know how to use `FeatureSpace` for more complex use cases let's pick the ones\n",
        "that looks more useful for this task and create the final `FeatureSpace` component.\n",
        "\n",
        "To configure how each feature should be preprocessed,\n",
        "we instantiate a `keras.utils.FeatureSpace`, and we\n",
        "pass to it a dictionary that maps the name of our features\n",
        "to the feature transformation function."
      ],
      "metadata": {
        "id": "d2KvtW2GkSde"
      }
    },
    {
      "cell_type": "code",
      "source": [
        "feature_space = FeatureSpace(\n",
        "    features={\n",
        "        # Categorical features encoded as integers\n",
        "        \"previously_contacted\": FeatureSpace.integer_categorical(num_oov_indices=0),\n",
        "        # Categorical features encoded as string\n",
        "        \"marital\": FeatureSpace.string_categorical(num_oov_indices=0),\n",
        "        \"education\": FeatureSpace.string_categorical(num_oov_indices=0),\n",
        "        \"default\": FeatureSpace.string_categorical(num_oov_indices=0),\n",
        "        \"housing\": FeatureSpace.string_categorical(num_oov_indices=0),\n",
        "        \"loan\": FeatureSpace.string_categorical(num_oov_indices=0),\n",
        "        \"contact\": FeatureSpace.string_categorical(num_oov_indices=0),\n",
        "        \"month\": FeatureSpace.string_categorical(num_oov_indices=0),\n",
        "        \"day_of_week\": FeatureSpace.string_categorical(num_oov_indices=0),\n",
        "        \"poutcome\": FeatureSpace.string_categorical(num_oov_indices=0),\n",
        "        # Categorical features to hash and bin\n",
        "        \"job\": FeatureSpace.string_hashed(num_bins=3),\n",
        "        # Numerical features to hash and bin\n",
        "        \"pdays\": FeatureSpace.integer_hashed(num_bins=4),\n",
        "        # Numerical features to normalize and bin\n",
        "        \"age\": FeatureSpace.float_discretized(num_bins=4),\n",
        "        # Numerical features to normalize\n",
        "        \"campaign\": FeatureSpace.float_normalized(),\n",
        "        \"previous\": FeatureSpace.float_normalized(),\n",
        "        \"emp.var.rate\": FeatureSpace.float_normalized(),\n",
        "        \"cons.price.idx\": FeatureSpace.float_normalized(),\n",
        "        \"cons.conf.idx\": FeatureSpace.float_normalized(),\n",
        "        \"euribor3m\": FeatureSpace.float_normalized(),\n",
        "        \"nr.employed\": FeatureSpace.float_normalized(),\n",
        "    },\n",
        "    # Specify feature cross with a custom crossing dim.\n",
        "    crosses=[\n",
        "        FeatureSpace.cross(feature_names=(\"age\", \"job\"), crossing_dim=8),\n",
        "        FeatureSpace.cross(\n",
        "            feature_names=(\"default\", \"housing\", \"loan\"), crossing_dim=6\n",
        "        ),\n",
        "        FeatureSpace.cross(\n",
        "            feature_names=(\"poutcome\", \"previously_contacted\"), crossing_dim=2\n",
        "        ),\n",
        "    ],\n",
        "    output_mode=\"concat\",\n",
        ")"
      ],
      "metadata": {
        "id": "Let4E3nIErwy"
      },
      "execution_count": 19,
      "outputs": []
    },
    {
      "cell_type": "markdown",
      "source": [
        "## Adapt the `FeatureSpace` to the training data\n",
        "\n",
        "Before we start using the `FeatureSpace` to build a model, we have\n",
        "to adapt it to the training data. During `adapt()`, the `FeatureSpace` will:\n",
        "\n",
        "- Index the set of possible values for categorical features.\n",
        "- Compute the mean and variance for numerical features to normalize.\n",
        "- Compute the value boundaries for the different bins for numerical features to\n",
        "discretize.\n",
        "- Any other kind of preprocessing required by custom layers.\n",
        "\n",
        "Note that `adapt()` should be called on a `tf.data.Dataset` which yields dicts\n",
        "of feature values -- no labels.\n",
        "\n",
        "But first let's batch the datasets"
      ],
      "metadata": {
        "id": "ezRXfCokkYDz"
      }
    },
    {
      "cell_type": "code",
      "source": [
        "train_ds = train_ds.batch(32)\n",
        "valid_ds = valid_ds.batch(32)\n",
        "\n",
        "train_ds_with_no_labels = train_ds.map(lambda x, y : x)\n",
        "feature_space.adapt(train_ds_with_no_labels)"
      ],
      "metadata": {
        "id": "7mhYKYf8Et8p"
      },
      "execution_count": 20,
      "outputs": []
    },
    {
      "cell_type": "markdown",
      "source": [
        "At this point, the `FeatureSpace` can be called on a dict of raw feature values, and\n",
        "because we set `output_mode=\"concat\"` it will return a single concatenate vector for each\n",
        "sample, combining encoded features and feature crosses."
      ],
      "metadata": {
        "id": "Gw-cztAJkhYD"
      }
    },
    {
      "cell_type": "code",
      "source": [
        "for x, _ in train_ds.take(1):\n",
        "    preprocessed_x = feature_space(x)\n",
        "    print(f\"preprocessed_x shape: {preprocessed_x.shape}\")\n",
        "    print(f\"preprocessed_x sample: \\n{preprocessed_x[0]}\")"
      ],
      "metadata": {
        "colab": {
          "base_uri": "https://localhost:8080/"
        },
        "id": "HQYHsrWVGmMS",
        "outputId": "d6883bd2-b398-489c-f594-fe93aa430d0d"
      },
      "execution_count": 21,
      "outputs": [
        {
          "output_type": "stream",
          "name": "stdout",
          "text": [
            "preprocessed_x shape: (32, 77)\n",
            "preprocessed_x sample: \n",
            "[ 0.          0.          0.          1.          1.3735335   0.95908624\n",
            " -0.22542833  1.          0.          0.          0.          0.\n",
            "  1.          0.          0.          1.          0.          1.\n",
            "  0.          0.          0.          0.          0.          0.\n",
            "  0.          0.8486568   0.7803554   0.          1.          0.\n",
            "  1.          0.          0.          1.          0.          0.\n",
            "  1.          0.          0.          0.          0.          0.\n",
            "  1.          0.          0.          0.          0.          0.\n",
            "  0.          0.          0.84005636  0.          0.          1.\n",
            "  0.          1.          0.          0.         -0.3569186   1.\n",
            "  0.          1.          0.          0.          0.          0.\n",
            "  0.          0.          0.          0.          0.          1.\n",
            "  0.          0.          0.          1.          0.        ]\n"
          ]
        }
      ]
    },
    {
      "cell_type": "markdown",
      "source": [
        "## Saving the `FeatureSpace`\n",
        "\n",
        "At this point we can choose to save our `FeatureSpace` component, this have many\n",
        "advantages like re-using it on different experiments that use the same model, saving time\n",
        "if you need to re-run the preprocessing step, and mainly for model deployment, where by\n",
        "loading it you can be sure that you will be applying the same preprocessing steps don't\n",
        "matter the device or environment, this is a great way to reduce\n",
        "[training/servingskew](https://developers.google.com/machine-learning/guides/rules-of-ml#training-serving_skew)."
      ],
      "metadata": {
        "id": "e2fo-vKpkjP6"
      }
    },
    {
      "cell_type": "code",
      "source": [
        "feature_space.save(\"myfeaturespace.keras\")"
      ],
      "metadata": {
        "id": "Kcdg0LOAWr9g"
      },
      "execution_count": 22,
      "outputs": []
    },
    {
      "cell_type": "markdown",
      "source": [
        "## Preprocessing with `FeatureSpace` as part of the tf.data pipeline\n",
        "\n",
        "We will opt to use our component asynchronously by making it part of the tf.data\n",
        "pipeline, as noted at the\n",
        "[previous guide](https://keras.io/examples/structured_data/structured_data_classification_with_feature_space/)\n",
        "This enables asynchronous parallel preprocessing of the data on CPU before it\n",
        "hits the model. Usually, this is always the right thing to do during training.\n",
        "\n",
        "Let's create a training and validation dataset of preprocessed batches:"
      ],
      "metadata": {
        "id": "ihggiF-ekpPj"
      }
    },
    {
      "cell_type": "code",
      "source": [
        "preprocessed_train_ds = train_ds.map(\n",
        "    lambda x, y : (feature_space(x), y), num_parallel_calls = tf.data.AUTOTUNE\n",
        "    ).prefetch(tf.data.AUTOTUNE)\n",
        "\n",
        "preprocessed_valid_ds = valid_ds.map(\n",
        "    lambda x, y : (feature_space(x), y), num_parallel_calls = tf.data.AUTOTUNE\n",
        "    ).prefetch(tf.data.AUTOTUNE)"
      ],
      "metadata": {
        "id": "9kOdvgB2XK-J"
      },
      "execution_count": 24,
      "outputs": []
    },
    {
      "cell_type": "markdown",
      "source": [
        "## Model\n",
        "\n",
        "We will take advantage of our `FeatureSpace` component to build the model, as we want the\n",
        "model to be compatible with our preprocessing function, let's use the the `FeatureSpace`\n",
        "feature map as the input of our model."
      ],
      "metadata": {
        "id": "CwpNU_KNkyl0"
      }
    },
    {
      "cell_type": "code",
      "source": [
        "encoded_features = feature_space.get_encoded_features()\n",
        "print(encoded_features)"
      ],
      "metadata": {
        "colab": {
          "base_uri": "https://localhost:8080/"
        },
        "id": "3PZeQLEeYnoA",
        "outputId": "567421b8-f3e6-4091-e8f9-efad5c587282"
      },
      "execution_count": 25,
      "outputs": [
        {
          "output_type": "stream",
          "name": "stdout",
          "text": [
            "KerasTensor(type_spec=TensorSpec(shape=(None, 77), dtype=tf.float32, name=None), name='concatenate/concat:0', description=\"created by layer 'concatenate'\")\n"
          ]
        }
      ]
    },
    {
      "cell_type": "markdown",
      "source": [
        "This model is quite trivial only for demonstration purposes so don't pay too much\n",
        "attention to the architecture."
      ],
      "metadata": {
        "id": "Hq61nR2Sk469"
      }
    },
    {
      "cell_type": "code",
      "source": [
        "x = tf.keras.layers.Dense(64, activation = \"relu\")(encoded_features)\n",
        "x = tf.keras.layers.Dropout(0.5)(x)\n",
        "outputs = tf.keras.layers.Dense(1, activation = \"sigmoid\")(x)\n",
        "\n",
        "model = tf.keras.Model(inputs = encoded_features, outputs = outputs)\n",
        "model.compile(optimizer = \"adam\", loss = \"binary_crossentropy\", metrics = [\"accuracy\"])"
      ],
      "metadata": {
        "id": "Q4ztjEFgbA67"
      },
      "execution_count": 26,
      "outputs": []
    },
    {
      "cell_type": "code",
      "source": [
        "model.fit(preprocessed_train_ds, validation_data = preprocessed_valid_ds, epochs = 20)"
      ],
      "metadata": {
        "colab": {
          "base_uri": "https://localhost:8080/"
        },
        "id": "uhXWMh6afZN5",
        "outputId": "225f9c2d-b9ba-4cac-8d2d-88d776a3ddc2"
      },
      "execution_count": 27,
      "outputs": [
        {
          "output_type": "stream",
          "name": "stdout",
          "text": [
            "Epoch 1/20\n",
            "103/103 [==============================] - 4s 20ms/step - loss: 0.3596 - accuracy: 0.8710 - val_loss: 0.2724 - val_accuracy: 0.9102\n",
            "Epoch 2/20\n",
            "103/103 [==============================] - 1s 9ms/step - loss: 0.3052 - accuracy: 0.8935 - val_loss: 0.2692 - val_accuracy: 0.9090\n",
            "Epoch 3/20\n",
            "103/103 [==============================] - 2s 12ms/step - loss: 0.2986 - accuracy: 0.8947 - val_loss: 0.2683 - val_accuracy: 0.9078\n",
            "Epoch 4/20\n",
            "103/103 [==============================] - 1s 11ms/step - loss: 0.2883 - accuracy: 0.8977 - val_loss: 0.2657 - val_accuracy: 0.9102\n",
            "Epoch 5/20\n",
            "103/103 [==============================] - 1s 9ms/step - loss: 0.2874 - accuracy: 0.8974 - val_loss: 0.2667 - val_accuracy: 0.9066\n",
            "Epoch 6/20\n",
            "103/103 [==============================] - 1s 10ms/step - loss: 0.2851 - accuracy: 0.9023 - val_loss: 0.2655 - val_accuracy: 0.9090\n",
            "Epoch 7/20\n",
            "103/103 [==============================] - 2s 13ms/step - loss: 0.2849 - accuracy: 0.8986 - val_loss: 0.2656 - val_accuracy: 0.9090\n",
            "Epoch 8/20\n",
            "103/103 [==============================] - 1s 11ms/step - loss: 0.2840 - accuracy: 0.9011 - val_loss: 0.2658 - val_accuracy: 0.9078\n",
            "Epoch 9/20\n",
            "103/103 [==============================] - 1s 10ms/step - loss: 0.2794 - accuracy: 0.9011 - val_loss: 0.2645 - val_accuracy: 0.9090\n",
            "Epoch 10/20\n",
            "103/103 [==============================] - 1s 9ms/step - loss: 0.2739 - accuracy: 0.9050 - val_loss: 0.2664 - val_accuracy: 0.9090\n",
            "Epoch 11/20\n",
            "103/103 [==============================] - 1s 9ms/step - loss: 0.2748 - accuracy: 0.9044 - val_loss: 0.2642 - val_accuracy: 0.9078\n",
            "Epoch 12/20\n",
            "103/103 [==============================] - 1s 9ms/step - loss: 0.2749 - accuracy: 0.8986 - val_loss: 0.2629 - val_accuracy: 0.9102\n",
            "Epoch 13/20\n",
            "103/103 [==============================] - 2s 16ms/step - loss: 0.2734 - accuracy: 0.9002 - val_loss: 0.2634 - val_accuracy: 0.9090\n",
            "Epoch 14/20\n",
            "103/103 [==============================] - 1s 10ms/step - loss: 0.2693 - accuracy: 0.9056 - val_loss: 0.2631 - val_accuracy: 0.9102\n",
            "Epoch 15/20\n",
            "103/103 [==============================] - 1s 9ms/step - loss: 0.2696 - accuracy: 0.9047 - val_loss: 0.2639 - val_accuracy: 0.9090\n",
            "Epoch 16/20\n",
            "103/103 [==============================] - 1s 10ms/step - loss: 0.2667 - accuracy: 0.9074 - val_loss: 0.2641 - val_accuracy: 0.9066\n",
            "Epoch 17/20\n",
            "103/103 [==============================] - 1s 11ms/step - loss: 0.2688 - accuracy: 0.9008 - val_loss: 0.2640 - val_accuracy: 0.9090\n",
            "Epoch 18/20\n",
            "103/103 [==============================] - 2s 15ms/step - loss: 0.2699 - accuracy: 0.9011 - val_loss: 0.2633 - val_accuracy: 0.9090\n",
            "Epoch 19/20\n",
            "103/103 [==============================] - 2s 13ms/step - loss: 0.2632 - accuracy: 0.9074 - val_loss: 0.2635 - val_accuracy: 0.9114\n",
            "Epoch 20/20\n",
            "103/103 [==============================] - 1s 9ms/step - loss: 0.2642 - accuracy: 0.9053 - val_loss: 0.2661 - val_accuracy: 0.9066\n"
          ]
        },
        {
          "output_type": "execute_result",
          "data": {
            "text/plain": [
              "<keras.src.callbacks.History at 0x7dd66dab8f70>"
            ]
          },
          "metadata": {},
          "execution_count": 27
        }
      ]
    },
    {
      "cell_type": "markdown",
      "source": [
        "## Inference on new data with the end-to-end model\n",
        "\n",
        "Now, we can build our inference model (which includes the `FeatureSpace`) to make\n",
        "predictions based on dicts of raw features values, as follows:\n",
        "\n",
        "\n",
        "\n",
        "### Loading the `FeatureSpace`\n",
        "\n",
        "First let's load the `FeatureSpace` that we saved a few moment ago, this can be quite\n",
        "handy if you train a model but want to do inference at different time, possibly using a\n",
        "different device or environment."
      ],
      "metadata": {
        "id": "Z4iGe7OKlA_D"
      }
    },
    {
      "cell_type": "code",
      "source": [
        "loaded_feature_space = tf.keras.models.load_model(\"myfeaturespace.keras\")"
      ],
      "metadata": {
        "colab": {
          "base_uri": "https://localhost:8080/"
        },
        "id": "qN6kb4WPfu8Q",
        "outputId": "a51e5a2c-46ab-4425-9530-edbc50ebbf7d"
      },
      "execution_count": 28,
      "outputs": [
        {
          "output_type": "stream",
          "name": "stderr",
          "text": [
            "/usr/local/lib/python3.10/dist-packages/numpy/core/numeric.py:2463: FutureWarning: elementwise comparison failed; returning scalar instead, but in the future will perform elementwise comparison\n",
            "  return bool(asarray(a1 == a2).all())\n"
          ]
        }
      ]
    },
    {
      "cell_type": "markdown",
      "source": [
        "### Building the inference end-to-end model\n",
        "\n",
        "To build the inference model we need both the feature input map and the preprocessing\n",
        "encoded Keras tensors."
      ],
      "metadata": {
        "id": "sfcnjuGTlHzQ"
      }
    },
    {
      "cell_type": "code",
      "source": [
        "dict_inputs = loaded_feature_space.get_inputs()\n",
        "encoded_features = loaded_feature_space.get_encoded_features()\n",
        "print(encoded_features)\n",
        "\n",
        "print(dict_inputs)\n",
        "\n",
        "outputs = model(encoded_features)\n",
        "inference_model = tf.keras.Model(inputs=dict_inputs, outputs=outputs)\n",
        "\n",
        "sample = {\n",
        "    \"age\": 30,\n",
        "    \"job\": \"blue-collar\",\n",
        "    \"marital\": \"married\",\n",
        "    \"education\": \"basic.9y\",\n",
        "    \"default\": \"no\",\n",
        "    \"housing\": \"yes\",\n",
        "    \"loan\": \"no\",\n",
        "    \"contact\": \"cellular\",\n",
        "    \"month\": \"may\",\n",
        "    \"day_of_week\": \"fri\",\n",
        "    \"campaign\": 2,\n",
        "    \"pdays\": 999,\n",
        "    \"previous\": 0,\n",
        "    \"poutcome\": \"nonexistent\",\n",
        "    \"emp.var.rate\": -1.8,\n",
        "    \"cons.price.idx\": 92.893,\n",
        "    \"cons.conf.idx\": -46.2,\n",
        "    \"euribor3m\": 1.313,\n",
        "    \"nr.employed\": 5099.1,\n",
        "    \"previously_contacted\": 0,\n",
        "}\n",
        "\n",
        "input_dict = {name: tf.convert_to_tensor([value]) for name, value in sample.items()}\n",
        "predictions = inference_model.predict(input_dict)\n",
        "\n",
        "print(\n",
        "    f\"This particular client has a {100 * predictions[0][0]:.2f}% probability \"\n",
        "    \"of subscribing a term deposit, as evaluated by our model.\"\n",
        ")"
      ],
      "metadata": {
        "colab": {
          "base_uri": "https://localhost:8080/"
        },
        "id": "kJJWfnpif3Pi",
        "outputId": "b2751889-da94-465d-856e-66b80adddebc"
      },
      "execution_count": 29,
      "outputs": [
        {
          "output_type": "stream",
          "name": "stdout",
          "text": [
            "KerasTensor(type_spec=TensorSpec(shape=(None, 77), dtype=tf.float32, name=None), name='concatenate_1/concat:0', description=\"created by layer 'concatenate_1'\")\n",
            "{'previously_contacted': <KerasTensor: shape=(None, 1) dtype=int64 (created by layer 'previously_contacted')>, 'marital': <KerasTensor: shape=(None, 1) dtype=string (created by layer 'marital')>, 'education': <KerasTensor: shape=(None, 1) dtype=string (created by layer 'education')>, 'default': <KerasTensor: shape=(None, 1) dtype=string (created by layer 'default')>, 'housing': <KerasTensor: shape=(None, 1) dtype=string (created by layer 'housing')>, 'loan': <KerasTensor: shape=(None, 1) dtype=string (created by layer 'loan')>, 'contact': <KerasTensor: shape=(None, 1) dtype=string (created by layer 'contact')>, 'month': <KerasTensor: shape=(None, 1) dtype=string (created by layer 'month')>, 'day_of_week': <KerasTensor: shape=(None, 1) dtype=string (created by layer 'day_of_week')>, 'poutcome': <KerasTensor: shape=(None, 1) dtype=string (created by layer 'poutcome')>, 'job': <KerasTensor: shape=(None, 1) dtype=string (created by layer 'job')>, 'pdays': <KerasTensor: shape=(None, 1) dtype=int64 (created by layer 'pdays')>, 'age': <KerasTensor: shape=(None, 1) dtype=float32 (created by layer 'age')>, 'campaign': <KerasTensor: shape=(None, 1) dtype=float32 (created by layer 'campaign')>, 'previous': <KerasTensor: shape=(None, 1) dtype=float32 (created by layer 'previous')>, 'emp.var.rate': <KerasTensor: shape=(None, 1) dtype=float32 (created by layer 'emp.var.rate')>, 'cons.price.idx': <KerasTensor: shape=(None, 1) dtype=float32 (created by layer 'cons.price.idx')>, 'cons.conf.idx': <KerasTensor: shape=(None, 1) dtype=float32 (created by layer 'cons.conf.idx')>, 'euribor3m': <KerasTensor: shape=(None, 1) dtype=float32 (created by layer 'euribor3m')>, 'nr.employed': <KerasTensor: shape=(None, 1) dtype=float32 (created by layer 'nr.employed')>}\n",
            "1/1 [==============================] - 1s 838ms/step\n",
            "This particular client has a 11.33% probability of subscribing a term deposit, as evaluated by our model.\n"
          ]
        }
      ]
    }
  ],
  "metadata": {
    "colab": {
      "provenance": [],
      "include_colab_link": true
    },
    "kernelspec": {
      "display_name": "Python 3",
      "name": "python3"
    },
    "language_info": {
      "codemirror_mode": {
        "name": "ipython",
        "version": 3
      },
      "file_extension": ".py",
      "mimetype": "text/x-python",
      "name": "python",
      "nbconvert_exporter": "python",
      "pygments_lexer": "ipython3",
      "version": "3.10.12"
    }
  },
  "nbformat": 4,
  "nbformat_minor": 0
}