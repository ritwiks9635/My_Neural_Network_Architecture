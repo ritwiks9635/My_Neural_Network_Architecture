{
  "metadata": {
    "kernelspec": {
      "display_name": "Python 3",
      "name": "python3"
    },
    "language_info": {
      "name": "python",
      "version": "3.10.12",
      "mimetype": "text/x-python",
      "codemirror_mode": {
        "name": "ipython",
        "version": 3
      },
      "pygments_lexer": "ipython3",
      "nbconvert_exporter": "python",
      "file_extension": ".py"
    },
    "colab": {
      "provenance": [],
      "gpuType": "T4",
      "include_colab_link": true
    },
    "accelerator": "GPU"
  },
  "nbformat_minor": 0,
  "nbformat": 4,
  "cells": [
    {
      "cell_type": "markdown",
      "metadata": {
        "id": "view-in-github",
        "colab_type": "text"
      },
      "source": [
        "<a href=\"https://colab.research.google.com/github/ritwiks9635/My_Neural_Network_Architecture/blob/main/MixUp_Augmentation.ipynb\" target=\"_parent\"><img src=\"https://colab.research.google.com/assets/colab-badge.svg\" alt=\"Open In Colab\"/></a>"
      ]
    },
    {
      "cell_type": "markdown",
      "source": [
        "# **MixUp augmentation for image classification**"
      ],
      "metadata": {
        "id": "T_SnnMvSFEz1"
      }
    },
    {
      "cell_type": "markdown",
      "source": [
        "## Introduction\n",
        "\n",
        "\n",
        "_mixup_ is a *domain-agnostic* data augmentation technique proposed in [mixup: Beyond Empirical Risk Minimization](https://arxiv.org/abs/1710.09412)\n",
        "by Zhang et al. It's implemented with the following formulas:\n",
        "\n",
        "![](https://i.ibb.co/DRyHYww/image.png)\n",
        "\n",
        "(Note that the lambda values are values with the [0, 1] range and are sampled from the\n",
        "[Beta distribution](https://en.wikipedia.org/wiki/Beta_distribution).)\n",
        "\n",
        "The technique is quite systematically named. We are literally mixing up the features and\n",
        "their corresponding labels. Implementation-wise it's simple. Neural networks are prone\n",
        "to [memorizing corrupt labels](https://arxiv.org/abs/1611.03530). mixup relaxes this by\n",
        "combining different features with one another (same happens for the labels too) so that\n",
        "a network does not get overconfident about the relationship between the features and\n",
        "their labels.\n",
        "\n",
        "mixup is specifically useful when we are not sure about selecting a set of augmentation\n",
        "transforms for a given dataset, medical imaging datasets, for example. mixup can be\n",
        "extended to a variety of data modalities such as computer vision, naturallanguage\n",
        "processing, speech, and so on.\n",
        "\n",
        "This example requires TensorFlow 2.4 or higher."
      ],
      "metadata": {
        "id": "Wref-xgYI4Nt"
      }
    },
    {
      "cell_type": "code",
      "source": [
        "import numpy as np\n",
        "import tensorflow as tf\n",
        "import matplotlib.pyplot as plt\n",
        "from tensorflow.keras import layers"
      ],
      "metadata": {
        "id": "SE0AST7ZD_ui"
      },
      "execution_count": 1,
      "outputs": []
    },
    {
      "cell_type": "code",
      "source": [
        "(x_train, y_train), (x_test, y_test) = tf.keras.datasets.fashion_mnist.load_data()\n",
        "\n",
        "x_train = x_train.astype(\"float32\") / 255.0\n",
        "x_train = np.reshape(x_train, (-1, 28, 28, 1))\n",
        "y_train = tf.one_hot(y_train, 10)\n",
        "\n",
        "x_test = x_test.astype(\"float32\") / 255.0\n",
        "x_test = np.reshape(x_test, (-1, 28, 28, 1))\n",
        "y_test = tf.one_hot(y_test, 10)"
      ],
      "metadata": {
        "colab": {
          "base_uri": "https://localhost:8080/"
        },
        "id": "5aieaotmF4YT",
        "outputId": "c46aad87-5a00-4469-9eaa-412424a573f2"
      },
      "execution_count": 2,
      "outputs": [
        {
          "output_type": "stream",
          "name": "stdout",
          "text": [
            "Downloading data from https://storage.googleapis.com/tensorflow/tf-keras-datasets/train-labels-idx1-ubyte.gz\n",
            "29515/29515 [==============================] - 0s 1us/step\n",
            "Downloading data from https://storage.googleapis.com/tensorflow/tf-keras-datasets/train-images-idx3-ubyte.gz\n",
            "26421880/26421880 [==============================] - 2s 0us/step\n",
            "Downloading data from https://storage.googleapis.com/tensorflow/tf-keras-datasets/t10k-labels-idx1-ubyte.gz\n",
            "5148/5148 [==============================] - 0s 0us/step\n",
            "Downloading data from https://storage.googleapis.com/tensorflow/tf-keras-datasets/t10k-images-idx3-ubyte.gz\n",
            "4422102/4422102 [==============================] - 2s 0us/step\n"
          ]
        }
      ]
    },
    {
      "cell_type": "code",
      "source": [
        "AUTO = tf.data.AUTOTUNE\n",
        "BATCH_SIZE = 64\n",
        "EPOCHS = 10"
      ],
      "metadata": {
        "id": "-VzAdOuWGKT1"
      },
      "execution_count": 3,
      "outputs": []
    },
    {
      "cell_type": "code",
      "source": [
        "# Put aside a few samples to create our validation set\n",
        "val_samples = 2000\n",
        "x_val, y_val = x_train[:val_samples], y_train[:val_samples]\n",
        "new_x_train, new_y_train = x_train[val_samples:], y_train[val_samples:]\n",
        "\n",
        "train_ds_one = (\n",
        "    tf.data.Dataset.from_tensor_slices((new_x_train, new_y_train))\n",
        "    .shuffle(BATCH_SIZE * 100)\n",
        "    .batch(BATCH_SIZE))\n",
        "train_ds_two = (\n",
        "    tf.data.Dataset.from_tensor_slices((new_x_train, new_y_train))\n",
        "    .shuffle(BATCH_SIZE * 100)\n",
        "    .batch(BATCH_SIZE))\n",
        "# Because we will be mixing up the images and their corresponding labels, we will be\n",
        "# combining two shuffled datasets from the same training data.\n",
        "train_ds = tf.data.Dataset.zip((train_ds_one, train_ds_two))\n",
        "\n",
        "val_ds = tf.data.Dataset.from_tensor_slices((x_val, y_val)).batch(BATCH_SIZE)\n",
        "\n",
        "test_ds = tf.data.Dataset.from_tensor_slices((x_test, y_test)).batch(BATCH_SIZE)"
      ],
      "metadata": {
        "id": "l3_9dUZ0GQ7Y"
      },
      "execution_count": 4,
      "outputs": []
    },
    {
      "cell_type": "markdown",
      "source": [
        "## Define the mixup technique function\n",
        "\n",
        "To perform the mixup routine, we create new virtual datasets using the training data from\n",
        "the same dataset, and apply a lambda value within the [0, 1] range sampled from a [Beta distribution](https://en.wikipedia.org/wiki/Beta_distribution)\n",
        "— such that, for example, `new_x = lambda * x1 + (1 - lambda) * x2` (where\n",
        "`x1` and `x2` are images) and the same equation is applied to the labels as well."
      ],
      "metadata": {
        "id": "J40TaG4YJC2S"
      }
    },
    {
      "cell_type": "code",
      "source": [
        "def sample_beta_distribution(size, concentration_0=0.2, concentration_1=0.2):\n",
        "    gamma_1_sample = tf.random.gamma(shape=[size], alpha=concentration_1)\n",
        "    gamma_2_sample = tf.random.gamma(shape=[size], alpha=concentration_0)\n",
        "    return gamma_1_sample / (gamma_1_sample + gamma_2_sample)\n",
        "\n",
        "\n",
        "def mix_up(ds_one, ds_two, alpha=0.2):\n",
        "    # Unpack two datasets\n",
        "    images_one, labels_one = ds_one\n",
        "    images_two, labels_two = ds_two\n",
        "    batch_size = tf.shape(images_one)[0]\n",
        "\n",
        "    # Sample lambda and reshape it to do the mixup\n",
        "    l = sample_beta_distribution(batch_size, alpha, alpha)\n",
        "    x_l = tf.reshape(l, (batch_size, 1, 1, 1))\n",
        "    y_l = tf.reshape(l, (batch_size, 1))\n",
        "\n",
        "    # Perform mixup on both images and labels by combining a pair of images/labels\n",
        "    # (one from each dataset) into one image/label\n",
        "    images = images_one * x_l + images_two * (1 - x_l)\n",
        "    labels = labels_one * y_l + labels_two * (1 - y_l)\n",
        "    return (images, labels)"
      ],
      "metadata": {
        "id": "NDBsxKwBGa_M"
      },
      "execution_count": 5,
      "outputs": []
    },
    {
      "cell_type": "markdown",
      "source": [
        "**Note** that here , we are combining two images to create a single one. Theoretically,\n",
        "we can combine as many we want but that comes at an increased computation cost. In\n",
        "certain cases, it may not help improve the performance as well."
      ],
      "metadata": {
        "id": "-TeUkZvOJOv5"
      }
    },
    {
      "cell_type": "code",
      "source": [
        "# First create the new dataset using our `mix_up` utility\n",
        "train_ds_mu = train_ds.map(\n",
        "    lambda ds_one, ds_two: mix_up(ds_one, ds_two, alpha=0.2), num_parallel_calls=AUTO)\n",
        "\n",
        "# Let's preview 9 samples from the dataset\n",
        "sample_images, sample_labels = next(iter(train_ds_mu))\n",
        "plt.figure(figsize=(10, 10))\n",
        "for i, (image, label) in enumerate(zip(sample_images[:9], sample_labels[:9])):\n",
        "    ax = plt.subplot(3, 3, i + 1)\n",
        "    plt.imshow(image.numpy().squeeze())\n",
        "    print(label.numpy().tolist())\n",
        "    plt.axis(\"off\")"
      ],
      "metadata": {
        "colab": {
          "base_uri": "https://localhost:8080/",
          "height": 478
        },
        "id": "COR-W6R1GiBi",
        "outputId": "04580389-3a92-4cde-bee3-96581c331a59"
      },
      "execution_count": 6,
      "outputs": [
        {
          "output_type": "stream",
          "name": "stdout",
          "text": [
            "[0.0, 0.0, 0.0, 0.0, 0.1369541883468628, 0.0, 0.0, 0.0, 0.0, 0.8630458116531372]\n",
            "[1.046899344991914e-09, 1.0, 0.0, 0.0, 0.0, 0.0, 0.0, 0.0, 0.0, 0.0]\n",
            "[0.0, 0.0, 0.0, 0.0, 0.0, 0.0, 0.0, 0.0, 0.0, 1.0]\n",
            "[0.0, 0.0, 0.0, 0.0, 1.688979733849294e-09, 1.0, 0.0, 0.0, 0.0, 0.0]\n",
            "[0.0, 0.0, 0.0, 0.0, 0.0, 0.4180036187171936, 0.0, 0.5819963812828064, 0.0, 0.0]\n",
            "[0.0, 0.0, 0.0, 0.0, 0.0, 0.0, 0.0, 0.5488394498825073, 0.0, 0.45116057991981506]\n",
            "[0.0, 0.0, 0.024746716022491455, 0.0, 0.0, 0.0, 0.0, 0.9752532839775085, 0.0, 0.0]\n",
            "[0.0, 0.0, 0.0, 0.0, 0.6943102478981018, 0.0, 0.0, 0.3056897521018982, 0.0, 0.0]\n",
            "[0.0, 0.0, 0.0, 7.611513137817383e-05, 0.0, 0.9999238848686218, 0.0, 0.0, 0.0, 0.0]\n"
          ]
        },
        {
          "output_type": "display_data",
          "data": {
            "text/plain": [
              "<Figure size 1000x1000 with 9 Axes>"
            ],
            "image/png": "[encoded data removed]"
          },
          "metadata": {}
        }
      ]
    },
    {
      "cell_type": "code",
      "source": [
        "def get_training_model():\n",
        "    model = tf.keras.Sequential(\n",
        "        [\n",
        "            layers.Conv2D(16, (5, 5), activation=\"relu\", input_shape=(28, 28, 1)),\n",
        "            layers.MaxPooling2D(pool_size=(2, 2)),\n",
        "            layers.Conv2D(32, (5, 5), activation=\"relu\"),\n",
        "            layers.MaxPooling2D(pool_size=(2, 2)),\n",
        "            layers.Dropout(0.2),\n",
        "            layers.GlobalAvgPool2D(),\n",
        "            layers.Dense(128, activation=\"relu\"),\n",
        "            layers.Dense(10, activation=\"softmax\"),])\n",
        "    return model"
      ],
      "metadata": {
        "id": "Xe7CCjrxHgJD"
      },
      "execution_count": 7,
      "outputs": []
    },
    {
      "cell_type": "code",
      "source": [
        "initial_model = get_training_model()\n",
        "initial_model.save_weights(\"initial_weights.h5\")"
      ],
      "metadata": {
        "id": "ZK7yCyXoHpSr"
      },
      "execution_count": 8,
      "outputs": []
    },
    {
      "cell_type": "markdown",
      "source": [
        "## 1. Train the model with the mixed up dataset"
      ],
      "metadata": {
        "id": "5Ufrp8kLKAQz"
      }
    },
    {
      "cell_type": "code",
      "source": [
        "model = get_training_model()\n",
        "model.load_weights(\"initial_weights.h5\")\n",
        "model.compile(loss=\"categorical_crossentropy\", optimizer=\"adam\", metrics=[\"accuracy\"])\n",
        "model.fit(train_ds_mu, validation_data=val_ds, epochs=EPOCHS)\n",
        "_, test_acc = model.evaluate(test_ds)\n",
        "print(\"Test accuracy: {:.2f}%\".format(test_acc * 100))"
      ],
      "metadata": {
        "colab": {
          "base_uri": "https://localhost:8080/"
        },
        "id": "paItQks_HwnK",
        "outputId": "0810ed84-b8ce-44c1-c8d8-8fe8f45044cc"
      },
      "execution_count": 9,
      "outputs": [
        {
          "output_type": "stream",
          "name": "stdout",
          "text": [
            "Epoch 1/10\n",
            "907/907 [==============================] - 19s 5ms/step - loss: 1.1997 - accuracy: 0.6214 - val_loss: 0.6995 - val_accuracy: 0.7555\n",
            "Epoch 2/10\n",
            "907/907 [==============================] - 5s 5ms/step - loss: 0.9543 - accuracy: 0.7258 - val_loss: 0.5912 - val_accuracy: 0.7910\n",
            "Epoch 3/10\n",
            "907/907 [==============================] - 6s 6ms/step - loss: 0.8613 - accuracy: 0.7646 - val_loss: 0.5017 - val_accuracy: 0.8305\n",
            "Epoch 4/10\n",
            "907/907 [==============================] - 4s 5ms/step - loss: 0.8076 - accuracy: 0.7872 - val_loss: 0.4498 - val_accuracy: 0.8495\n",
            "Epoch 5/10\n",
            "907/907 [==============================] - 5s 5ms/step - loss: 0.7695 - accuracy: 0.7994 - val_loss: 0.4226 - val_accuracy: 0.8580\n",
            "Epoch 6/10\n",
            "907/907 [==============================] - 5s 6ms/step - loss: 0.7496 - accuracy: 0.8068 - val_loss: 0.4099 - val_accuracy: 0.8640\n",
            "Epoch 7/10\n",
            "907/907 [==============================] - 5s 5ms/step - loss: 0.7232 - accuracy: 0.8162 - val_loss: 0.3832 - val_accuracy: 0.8680\n",
            "Epoch 8/10\n",
            "907/907 [==============================] - 5s 6ms/step - loss: 0.7127 - accuracy: 0.8181 - val_loss: 0.3736 - val_accuracy: 0.8730\n",
            "Epoch 9/10\n",
            "907/907 [==============================] - 5s 6ms/step - loss: 0.6973 - accuracy: 0.8227 - val_loss: 0.3651 - val_accuracy: 0.8745\n",
            "Epoch 10/10\n",
            "907/907 [==============================] - 5s 5ms/step - loss: 0.6855 - accuracy: 0.8260 - val_loss: 0.3458 - val_accuracy: 0.8785\n",
            "157/157 [==============================] - 0s 3ms/step - loss: 0.3788 - accuracy: 0.8675\n",
            "Test accuracy: 86.75%\n"
          ]
        }
      ]
    },
    {
      "cell_type": "markdown",
      "source": [
        "## 2. Train the model *without* the mixed up dataset"
      ],
      "metadata": {
        "id": "1QZuexZqKIUq"
      }
    },
    {
      "cell_type": "code",
      "source": [
        "model = get_training_model()\n",
        "model.load_weights(\"initial_weights.h5\")\n",
        "model.compile(loss=\"categorical_crossentropy\", optimizer=\"adam\", metrics=[\"accuracy\"])\n",
        "# Notice that we are NOT using the mixed up dataset here\n",
        "model.fit(train_ds_one, validation_data=val_ds, epochs=EPOCHS)\n",
        "_, test_acc = model.evaluate(test_ds)\n",
        "print(\"Test accuracy: {:.2f}%\".format(test_acc * 100))"
      ],
      "metadata": {
        "colab": {
          "base_uri": "https://localhost:8080/"
        },
        "id": "rAF8etNaH5nZ",
        "outputId": "7b3624ff-f384-460e-ea34-708a7e095584"
      },
      "execution_count": 10,
      "outputs": [
        {
          "output_type": "stream",
          "name": "stdout",
          "text": [
            "Epoch 1/10\n",
            "907/907 [==============================] - 10s 7ms/step - loss: 0.8913 - accuracy: 0.6688 - val_loss: 0.6590 - val_accuracy: 0.7535\n",
            "Epoch 2/10\n",
            "907/907 [==============================] - 4s 5ms/step - loss: 0.6397 - accuracy: 0.7568 - val_loss: 0.5775 - val_accuracy: 0.7860\n",
            "Epoch 3/10\n",
            "907/907 [==============================] - 5s 5ms/step - loss: 0.5616 - accuracy: 0.7904 - val_loss: 0.4988 - val_accuracy: 0.8185\n",
            "Epoch 4/10\n",
            "907/907 [==============================] - 5s 5ms/step - loss: 0.5011 - accuracy: 0.8167 - val_loss: 0.4432 - val_accuracy: 0.8400\n",
            "Epoch 5/10\n",
            "907/907 [==============================] - 4s 5ms/step - loss: 0.4603 - accuracy: 0.8329 - val_loss: 0.3967 - val_accuracy: 0.8620\n",
            "Epoch 6/10\n",
            "907/907 [==============================] - 5s 5ms/step - loss: 0.4364 - accuracy: 0.8404 - val_loss: 0.3909 - val_accuracy: 0.8585\n",
            "Epoch 7/10\n",
            "907/907 [==============================] - 5s 5ms/step - loss: 0.4110 - accuracy: 0.8495 - val_loss: 0.3631 - val_accuracy: 0.8665\n",
            "Epoch 8/10\n",
            "907/907 [==============================] - 4s 5ms/step - loss: 0.3945 - accuracy: 0.8570 - val_loss: 0.3756 - val_accuracy: 0.8610\n",
            "Epoch 9/10\n",
            "907/907 [==============================] - 5s 5ms/step - loss: 0.3832 - accuracy: 0.8612 - val_loss: 0.3408 - val_accuracy: 0.8770\n",
            "Epoch 10/10\n",
            "907/907 [==============================] - 5s 5ms/step - loss: 0.3691 - accuracy: 0.8656 - val_loss: 0.3295 - val_accuracy: 0.8825\n",
            "157/157 [==============================] - 0s 3ms/step - loss: 0.3692 - accuracy: 0.8697\n",
            "Test accuracy: 86.97%\n"
          ]
        }
      ]
    },
    {
      "cell_type": "markdown",
      "source": [
        "Readers are encouraged to try out mixup on different datasets from different domains and\n",
        "experiment with the lambda parameter. You are strongly advised to check out the\n",
        "[original paper](https://arxiv.org/abs/1710.09412) as well - the authors present several ablation studies on mixup\n",
        "showing how it can improve generalization, as well as show their results of combining\n",
        "more than two images to create a single one.\n",
        "\n",
        "\n",
        "\n",
        "## Notes\n",
        "\n",
        "* With mixup, you can create synthetic examples — especially when you lack a large\n",
        "dataset - without incurring high computational costs.\n",
        "* [Label smoothing](https://www.pyimagesearch.com/2019/12/30/label-smoothing-with-keras-tensorflow-and-deep-learning/) and mixup usually do not work well together because label smoothing\n",
        "already modifies the hard labels by some factor.\n",
        "* mixup does not work well when you are using [Supervised Contrastive\n",
        "Learning](https://arxiv.org/abs/2004.11362) (SCL) since SCL expects the true labels\n",
        "during its pre-training phase.\n",
        "* A few other benefits of mixup include (as described in the [paper](https://arxiv.org/abs/1710.09412)) robustness to\n",
        "adversarial examples and stabilized GAN (Generative Adversarial Networks) training.\n",
        "* There are a number of data augmentation techniques that extend mixup such as\n",
        "[CutMix](https://arxiv.org/abs/1905.04899) and [AugMix](https://arxiv.org/abs/1912.02781)."
      ],
      "metadata": {
        "id": "BnHg52EaJmSO"
      }
    }
  ]
}