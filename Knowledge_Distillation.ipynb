{
  "cells": [
    {
      "cell_type": "markdown",
      "metadata": {
        "id": "view-in-github",
        "colab_type": "text"
      },
      "source": [
        "<a href=\"https://colab.research.google.com/github/ritwiks9635/My_Neural_Network_Architecture/blob/main/Knowledge_Distillation.ipynb\" target=\"_parent\"><img src=\"https://colab.research.google.com/assets/colab-badge.svg\" alt=\"Open In Colab\"/></a>"
      ]
    },
    {
      "cell_type": "markdown",
      "source": [
        "#**Knowledge Distillation**"
      ],
      "metadata": {
        "id": "iLm5jAJwxVBT"
      }
    },
    {
      "cell_type": "markdown",
      "source": [
        "## Introduction to Knowledge Distillation\n",
        "\n",
        "Knowledge Distillation is a procedure for model\n",
        "compression, in which a small (student) model is trained to match a large pre-trained\n",
        "(teacher) model. Knowledge is transferred from the teacher model to the student\n",
        "by minimizing a loss function, aimed at matching softened teacher logits as well as\n",
        "ground-truth labels.\n",
        "\n",
        "The logits are softened by applying a \"temperature\" scaling function in the softmax,\n",
        "effectively smoothing out the probability distribution and revealing\n",
        "inter-class relationships learned by the teacher."
      ],
      "metadata": {
        "id": "x3sDMK25MG4_"
      }
    },
    {
      "cell_type": "code",
      "source": [
        "import numpy as np\n",
        "import tensorflow as tf\n",
        "from tensorflow import keras\n",
        "from tensorflow.keras import layers"
      ],
      "metadata": {
        "id": "t2ugw3NLxyPV"
      },
      "execution_count": 1,
      "outputs": []
    },
    {
      "cell_type": "markdown",
      "source": [
        "## Construct `Distiller()` class\n",
        "\n",
        "The custom `Distiller()` class, overrides the `Model` methods `compile`, `compute_loss`,\n",
        "and `call`. In order to use the distiller, we need:\n",
        "\n",
        "- A trained teacher model\n",
        "- A student model to train\n",
        "- A student loss function on the difference between student predictions and ground-truth\n",
        "- A distillation loss function, along with a `temperature`, on the difference between the\n",
        "soft student predictions and the soft teacher labels\n",
        "- An `alpha` factor to weight the student and distillation loss\n",
        "- An optimizer for the student and (optional) metrics to evaluate performance\n",
        "\n",
        "In the `compute_loss` method, we perform a forward pass of both the teacher and student,\n",
        "calculate the loss with weighting of the `student_loss` and `distillation_loss` by `alpha`\n",
        "and `1 - alpha`, respectively. Note: only the student weights are updated."
      ],
      "metadata": {
        "id": "rRyDPCtgMyiu"
      }
    },
    {
      "cell_type": "code",
      "source": [
        "class Distiller(keras.Model):\n",
        "    def __init__(self, student, teacher):\n",
        "        super().__init__()\n",
        "        self.teacher = teacher\n",
        "        self.student = student\n",
        "\n",
        "    def compile(\n",
        "        self,\n",
        "        optimizer,\n",
        "        metrics,\n",
        "        student_loss_fn,\n",
        "        distillation_loss_fn,\n",
        "        alpha=0.1,\n",
        "        temperature=3):\n",
        "        \"\"\" Configure the distiller.\n",
        "\n",
        "        Args:\n",
        "            optimizer: Keras optimizer for the student weights\n",
        "            metrics: Keras metrics for evaluation\n",
        "            student_loss_fn: Loss function of difference between student\n",
        "                predictions and ground-truth\n",
        "            distillation_loss_fn: Loss function of difference between soft\n",
        "                student predictions and soft teacher predictions\n",
        "            alpha: weight to student_loss_fn and 1-alpha to distillation_loss_fn\n",
        "            temperature: Temperature for softening probability distributions.\n",
        "                Larger temperature gives softer distributions.\n",
        "        \"\"\"\n",
        "        super().compile(optimizer=optimizer, metrics=metrics)\n",
        "        self.student_loss_fn = student_loss_fn\n",
        "        self.distillation_loss_fn = distillation_loss_fn\n",
        "        self.alpha = alpha\n",
        "        self.temperature = temperature\n",
        "\n",
        "    def train_step(self, data):\n",
        "        # Unpack data\n",
        "        x, y = data\n",
        "\n",
        "        # Forward pass of teacher\n",
        "        teacher_predictions = self.teacher(x, training=False)\n",
        "\n",
        "        with tf.GradientTape() as tape:\n",
        "            # Forward pass of student\n",
        "            student_predictions = self.student(x, training=True)\n",
        "\n",
        "            # Compute losses\n",
        "            student_loss = self.student_loss_fn(y, student_predictions)\n",
        "\n",
        "            # Compute scaled distillation loss from https://arxiv.org/abs/1503.02531\n",
        "            # The magnitudes of the gradients produced by the soft targets scale\n",
        "            # as 1/T^2, multiply them by T^2 when using both hard and soft targets.\n",
        "            distillation_loss = (\n",
        "                self.distillation_loss_fn(\n",
        "                    tf.nn.softmax(teacher_predictions / self.temperature, axis=1),\n",
        "                    tf.nn.softmax(student_predictions / self.temperature, axis=1),\n",
        "                )\n",
        "                * self.temperature**2\n",
        "            )\n",
        "\n",
        "            loss = self.alpha * student_loss + (1 - self.alpha) * distillation_loss\n",
        "\n",
        "        # Compute gradients\n",
        "        trainable_vars = self.student.trainable_variables\n",
        "        gradients = tape.gradient(loss, trainable_vars)\n",
        "\n",
        "        # Update weights\n",
        "        self.optimizer.apply_gradients(zip(gradients, trainable_vars))\n",
        "\n",
        "        # Update the metrics configured in `compile()`.\n",
        "        self.compiled_metrics.update_state(y, student_predictions)\n",
        "\n",
        "        # Return a dict of performance\n",
        "        results = {m.name: m.result() for m in self.metrics}\n",
        "        results.update(\n",
        "            {\"student_loss\": student_loss, \"distillation_loss\": distillation_loss}\n",
        "        )\n",
        "        return results\n",
        "\n",
        "    def test_step(self, data):\n",
        "        # Unpack the data\n",
        "        x, y = data\n",
        "\n",
        "        # Compute predictions\n",
        "        y_prediction = self.student(x, training=False)\n",
        "\n",
        "        # Calculate the loss\n",
        "        student_loss = self.student_loss_fn(y, y_prediction)\n",
        "\n",
        "        # Update the metrics.\n",
        "        self.compiled_metrics.update_state(y, y_prediction)\n",
        "\n",
        "        # Return a dict of performance\n",
        "        results = {m.name: m.result() for m in self.metrics}\n",
        "        results.update({\"student_loss\": student_loss})\n",
        "        return results"
      ],
      "metadata": {
        "id": "CoiHO7gVyKwo"
      },
      "execution_count": 2,
      "outputs": []
    },
    {
      "cell_type": "markdown",
      "source": [
        "## Create student and teacher models\n",
        "\n",
        "Initialy, we create a teacher model and a smaller student model. Both models are\n",
        "convolutional neural networks and created using `Sequential()`,\n",
        "but could be any Keras model."
      ],
      "metadata": {
        "id": "vK_UNHmNM-iY"
      }
    },
    {
      "cell_type": "code",
      "source": [
        "teacher = keras.Sequential(\n",
        "    [\n",
        "        keras.Input(shape = (28, 28, 1)),\n",
        "        layers.Conv2D(256, (3,3), strides = (2, 2), padding = \"same\"),\n",
        "        layers.LeakyReLU(alpha = 0.2),\n",
        "        layers.MaxPooling2D(pool_size = (2, 2), strides = (1, 1), padding = \"same\"),\n",
        "        layers.Conv2D(512, (3, 3), strides = (2, 2), padding = \"same\"),\n",
        "        layers.Flatten(),\n",
        "        layers.Dense(10)\n",
        "    ], name = \"teacher\")\n",
        "\n",
        "\n",
        "student =  keras.Sequential(\n",
        "    [\n",
        "        keras.Input(shape = (28, 28, 1)),\n",
        "        layers.Conv2D(16, (3,3), strides = (2, 2), padding = \"same\"),\n",
        "        layers.LeakyReLU(alpha = 0.2),\n",
        "        layers.MaxPooling2D(pool_size = (2, 2), strides = (1, 1), padding = \"same\"),\n",
        "        layers.Conv2D(32, (3, 3), strides = (2, 2), padding = \"same\"),\n",
        "        layers.Flatten(),\n",
        "        layers.Dense(10)\n",
        "    ], name = \"student\")\n",
        "\n",
        "# Clone student for later comparison\n",
        "student_scratch = keras.models.clone_model(student)"
      ],
      "metadata": {
        "id": "TBnymRc60F-y"
      },
      "execution_count": 3,
      "outputs": []
    },
    {
      "cell_type": "code",
      "source": [
        "batch_size = 64\n",
        "(x_train, y_train), (x_test, y_test) = keras.datasets.mnist.load_data()\n",
        "\n",
        "# Normalize data\n",
        "x_train = x_train.astype(\"float32\") / 255.0\n",
        "x_train = np.reshape(x_train, (-1, 28, 28, 1))\n",
        "\n",
        "x_test = x_test.astype(\"float32\") / 255.0\n",
        "x_test = np.reshape(x_test, (-1, 28, 28, 1))"
      ],
      "metadata": {
        "id": "Kr07aNvvGm8x"
      },
      "execution_count": 6,
      "outputs": []
    },
    {
      "cell_type": "markdown",
      "source": [
        "## Train the teacher\n",
        "\n",
        "In knowledge distillation we assume that the teacher is trained and fixed. Thus, we start\n",
        "by training the teacher model on the training set in the usual way."
      ],
      "metadata": {
        "id": "8p5SRg8fNE2n"
      }
    },
    {
      "cell_type": "code",
      "source": [
        "teacher.compile(\n",
        "    optimizer=keras.optimizers.Adam(),\n",
        "    loss=keras.losses.SparseCategoricalCrossentropy(from_logits=True),\n",
        "    metrics=[keras.metrics.SparseCategoricalAccuracy()],)\n",
        "\n",
        "# Train and evaluate teacher on data.\n",
        "teacher.fit(x_train, y_train, epochs=5)\n",
        "teacher.evaluate(x_test, y_test)"
      ],
      "metadata": {
        "colab": {
          "base_uri": "https://localhost:8080/"
        },
        "id": "Xv1XsBn_KQvD",
        "outputId": "a9a4f88d-b883-41f6-f3b0-223e252985d4"
      },
      "execution_count": 7,
      "outputs": [
        {
          "output_type": "stream",
          "name": "stdout",
          "text": [
            "Epoch 1/5\n",
            "1875/1875 [==============================] - 15s 7ms/step - loss: 0.0656 - sparse_categorical_accuracy: 0.9821\n",
            "Epoch 2/5\n",
            "1875/1875 [==============================] - 17s 9ms/step - loss: 0.0617 - sparse_categorical_accuracy: 0.9836\n",
            "Epoch 3/5\n",
            "1875/1875 [==============================] - 14s 7ms/step - loss: 0.0652 - sparse_categorical_accuracy: 0.9838\n",
            "Epoch 4/5\n",
            "1875/1875 [==============================] - 14s 7ms/step - loss: 0.0560 - sparse_categorical_accuracy: 0.9863\n",
            "Epoch 5/5\n",
            "1875/1875 [==============================] - 14s 7ms/step - loss: 0.0619 - sparse_categorical_accuracy: 0.9857\n",
            "313/313 [==============================] - 1s 4ms/step - loss: 0.1180 - sparse_categorical_accuracy: 0.9811\n"
          ]
        },
        {
          "output_type": "execute_result",
          "data": {
            "text/plain": [
              "[0.11799122393131256, 0.9811000227928162]"
            ]
          },
          "metadata": {},
          "execution_count": 7
        }
      ]
    },
    {
      "cell_type": "markdown",
      "source": [
        "## Distill teacher to student\n",
        "\n",
        "We have already trained the teacher model, and we only need to initialize a\n",
        "`Distiller(student, teacher)` instance, `compile()` it with the desired losses,\n",
        "hyperparameters and optimizer, and distill the teacher to the student."
      ],
      "metadata": {
        "id": "wKBgtBfXNG5q"
      }
    },
    {
      "cell_type": "code",
      "source": [
        "# Initialize and compile distiller\n",
        "distiller = Distiller(student=student, teacher=teacher)\n",
        "distiller.compile(\n",
        "    optimizer=keras.optimizers.Adam(),\n",
        "    metrics=[keras.metrics.SparseCategoricalAccuracy()],\n",
        "    student_loss_fn=keras.losses.SparseCategoricalCrossentropy(from_logits=True),\n",
        "    distillation_loss_fn=keras.losses.KLDivergence(),\n",
        "    alpha=0.1,\n",
        "    temperature=10)\n",
        "\n",
        "# Distill teacher to student\n",
        "distiller.fit(x_train, y_train, epochs=3)\n",
        "\n",
        "# Evaluate student on test dataset\n",
        "distiller.evaluate(x_test, y_test)"
      ],
      "metadata": {
        "id": "twtKZS_pK0dN",
        "outputId": "aaed7ab6-ba74-468f-9bce-d777444dbf5c",
        "colab": {
          "base_uri": "https://localhost:8080/"
        }
      },
      "execution_count": 8,
      "outputs": [
        {
          "output_type": "stream",
          "name": "stdout",
          "text": [
            "Epoch 1/3\n",
            "1875/1875 [==============================] - 12s 4ms/step - sparse_categorical_accuracy: 0.8884 - student_loss: 0.9057 - distillation_loss: 22.2962\n",
            "Epoch 2/3\n",
            "1875/1875 [==============================] - 7s 4ms/step - sparse_categorical_accuracy: 0.9621 - student_loss: 0.2867 - distillation_loss: 6.1866\n",
            "Epoch 3/3\n",
            "1875/1875 [==============================] - 8s 4ms/step - sparse_categorical_accuracy: 0.9729 - student_loss: 0.1867 - distillation_loss: 3.7891\n",
            "313/313 [==============================] - 1s 2ms/step - sparse_categorical_accuracy: 0.9768 - student_loss: 0.1375\n"
          ]
        },
        {
          "output_type": "execute_result",
          "data": {
            "text/plain": [
              "[0.9768000245094299, 0.0]"
            ]
          },
          "metadata": {},
          "execution_count": 8
        }
      ]
    },
    {
      "cell_type": "markdown",
      "source": [
        "## Train student from scratch for comparison\n",
        "\n",
        "We can also train an equivalent student model from scratch without the teacher, in order\n",
        "to evaluate the performance gain obtained by knowledge distillation."
      ],
      "metadata": {
        "id": "XKzuEeV8NL6Y"
      }
    },
    {
      "cell_type": "code",
      "source": [
        "# Train student as doen usually\n",
        "student_scratch.compile(\n",
        "    optimizer=keras.optimizers.Adam(),\n",
        "    loss=keras.losses.SparseCategoricalCrossentropy(from_logits=True),\n",
        "    metrics=[keras.metrics.SparseCategoricalAccuracy()])\n",
        "\n",
        "# Train and evaluate student trained from scratch.\n",
        "student_scratch.fit(x_train, y_train, epochs=3)\n",
        "student_scratch.evaluate(x_test, y_test)"
      ],
      "metadata": {
        "id": "3fLh7DHWLyrL",
        "outputId": "295a2322-7a0c-490a-8d6f-302146e5a4fb",
        "colab": {
          "base_uri": "https://localhost:8080/"
        }
      },
      "execution_count": 9,
      "outputs": [
        {
          "output_type": "stream",
          "name": "stdout",
          "text": [
            "Epoch 1/3\n",
            "1875/1875 [==============================] - 7s 3ms/step - loss: 0.2402 - sparse_categorical_accuracy: 0.9294\n",
            "Epoch 2/3\n",
            "1875/1875 [==============================] - 6s 3ms/step - loss: 0.0897 - sparse_categorical_accuracy: 0.9730\n",
            "Epoch 3/3\n",
            "1875/1875 [==============================] - 6s 3ms/step - loss: 0.0738 - sparse_categorical_accuracy: 0.9774\n",
            "313/313 [==============================] - 1s 3ms/step - loss: 0.0711 - sparse_categorical_accuracy: 0.9772\n"
          ]
        },
        {
          "output_type": "execute_result",
          "data": {
            "text/plain": [
              "[0.0711127445101738, 0.9771999716758728]"
            ]
          },
          "metadata": {},
          "execution_count": 9
        }
      ]
    },
    {
      "cell_type": "markdown",
      "source": [
        "If the teacher is trained for 5 full epochs and the student is distilled on this teacher\n",
        "for 3 full epochs, you should in this example experience a performance boost compared to\n",
        "training the same student model from scratch, and even compared to the teacher itself.\n",
        "You should expect the teacher to have accuracy around 97.6%, the student trained from\n",
        "scratch should be around 97.6%, and the distilled student should be around 98.1%. Remove\n",
        "or try out different seeds to use different weight initializations."
      ],
      "metadata": {
        "id": "S7NZCNeENQa6"
      }
    }
  ],
  "metadata": {
    "colab": {
      "provenance": [],
      "include_colab_link": true
    },
    "kernelspec": {
      "display_name": "Python 3",
      "name": "python3"
    },
    "language_info": {
      "codemirror_mode": {
        "name": "ipython",
        "version": 3
      },
      "file_extension": ".py",
      "mimetype": "text/x-python",
      "name": "python",
      "nbconvert_exporter": "python",
      "pygments_lexer": "ipython3",
      "version": "3.10.12"
    }
  },
  "nbformat": 4,
  "nbformat_minor": 0
}