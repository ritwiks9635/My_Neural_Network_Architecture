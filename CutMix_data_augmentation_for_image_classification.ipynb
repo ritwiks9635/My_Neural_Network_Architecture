{
  "cells": [
    {
      "cell_type": "markdown",
      "metadata": {
        "id": "view-in-github",
        "colab_type": "text"
      },
      "source": [
        "<a href=\"https://colab.research.google.com/github/ritwiks9635/My_Neural_Network_Architecture/blob/main/CutMix_data_augmentation_for_image_classification.ipynb\" target=\"_parent\"><img src=\"https://colab.research.google.com/assets/colab-badge.svg\" alt=\"Open In Colab\"/></a>"
      ]
    },
    {
      "cell_type": "markdown",
      "source": [
        "# **CutMix data augmentation for image classification**"
      ],
      "metadata": {
        "id": "ppRjewX0ePG5"
      }
    },
    {
      "cell_type": "markdown",
      "source": [
        "## Introduction\n",
        "\n",
        "\n",
        "\n",
        "_CutMix_ is a data augmentation technique that addresses the issue of information loss\n",
        "and inefficiency present in regional dropout strategies.\n",
        "Instead of removing pixels and filling them with black or grey pixels or Gaussian noise,\n",
        "you replace the removed regions with a patch from another image,\n",
        "while the ground truth labels are mixed proportionally to the number of pixels of combined images.\n",
        "CutMix was proposed in\n",
        "[CutMix: Regularization Strategy to Train Strong Classifiers with Localizable Features](https://arxiv.org/abs/1905.04899)\n",
        "(Yun et al., 2019)\n",
        "\n",
        "It's implemented via the following formulas:\n",
        "\n",
        "<img src=\"https://i.imgur.com/cGvd13V.png\" width=\"200\"/>\n",
        "\n",
        "where `M` is the binary mask which indicates the cutout and the fill-in\n",
        "regions from the two randomly drawn images and `λ` (in `[0, 1]`) is drawn from a\n",
        "[`Beta(α, α)` distribution](https://en.wikipedia.org/wiki/Beta_distribution)\n",
        "\n",
        "The coordinates of bounding boxes are:\n",
        "\n",
        "<img src=\"https://i.imgur.com/eNisep4.png\" width=\"150\"/>\n",
        "\n",
        "which indicates the cutout and fill-in regions in case of the images.\n",
        "The bounding box sampling is represented by:\n",
        "\n",
        "<img src=\"https://i.imgur.com/Snph9aj.png\" width=\"200\"/>\n",
        "\n",
        "where `rx, ry` are randomly drawn from a uniform distribution with upper bound."
      ],
      "metadata": {
        "id": "GaMlpBmlgtYN"
      }
    },
    {
      "cell_type": "code",
      "source": [
        "import numpy as np\n",
        "import pandas as pd\n",
        "import tensorflow as tf\n",
        "from tensorflow import keras\n",
        "import matplotlib.pyplot as plt\n",
        "\n",
        "np.random.seed(42)\n",
        "tf.random.set_seed(42)"
      ],
      "metadata": {
        "id": "89AO2g0zMC7B"
      },
      "execution_count": 1,
      "outputs": []
    },
    {
      "cell_type": "code",
      "source": [
        "(x_train, y_train), (x_test, y_test) = keras.datasets.cifar10.load_data()\n",
        "y_train = keras.utils.to_categorical(y_train, num_classes = 10)\n",
        "y_test = keras.utils.to_categorical(y_test, num_classes = 10)\n",
        "\n",
        "print(x_train.shape)\n",
        "print(y_train.shape)\n",
        "print(x_test.shape)\n",
        "print(y_test.shape)"
      ],
      "metadata": {
        "colab": {
          "base_uri": "https://localhost:8080/"
        },
        "id": "gQNkB0ATMdJM",
        "outputId": "de740c12-afce-4de2-e79d-36ac2f571223"
      },
      "execution_count": 2,
      "outputs": [
        {
          "output_type": "stream",
          "name": "stdout",
          "text": [
            "Downloading data from https://www.cs.toronto.edu/~kriz/cifar-10-python.tar.gz\n",
            "170498071/170498071 [==============================] - 2s 0us/step\n",
            "(50000, 32, 32, 3)\n",
            "(50000, 10)\n",
            "(10000, 32, 32, 3)\n",
            "(10000, 10)\n"
          ]
        }
      ]
    },
    {
      "cell_type": "code",
      "source": [
        "class_names = [\n",
        "    \"Airplane\",\n",
        "    \"Automobile\",\n",
        "    \"Bird\",\n",
        "    \"Cat\",\n",
        "    \"Deer\",\n",
        "    \"Dog\",\n",
        "    \"Frog\",\n",
        "    \"Horse\",\n",
        "    \"Ship\",\n",
        "    \"Truck\",\n",
        "]"
      ],
      "metadata": {
        "id": "2dx-9UUwNfNE"
      },
      "execution_count": 3,
      "outputs": []
    },
    {
      "cell_type": "code",
      "source": [
        "AUTO = tf.data.AUTOTUNE\n",
        "BATCH_SIZE = 32\n",
        "IMG_SIZE = 32"
      ],
      "metadata": {
        "id": "PawbmlmkNgud"
      },
      "execution_count": 4,
      "outputs": []
    },
    {
      "cell_type": "code",
      "source": [
        "def preprocess_image(image, label):\n",
        "    image = tf.image.resize(image, (IMG_SIZE, IMG_SIZE))\n",
        "    image = tf.image.convert_image_dtype(image, tf.float32) / 255.0\n",
        "    return image, label"
      ],
      "metadata": {
        "id": "7gVjcdBaNzIL"
      },
      "execution_count": 5,
      "outputs": []
    },
    {
      "cell_type": "code",
      "source": [
        "train_ds_one = (\n",
        "    tf.data.Dataset.from_tensor_slices((x_train, y_train))\n",
        "    .shuffle(1024)\n",
        "    .map(preprocess_image, num_parallel_calls=AUTO)\n",
        ")\n",
        "train_ds_two = (\n",
        "    tf.data.Dataset.from_tensor_slices((x_train, y_train))\n",
        "    .shuffle(1024)\n",
        "    .map(preprocess_image, num_parallel_calls=AUTO)\n",
        ")\n",
        "\n",
        "train_ds_simple = tf.data.Dataset.from_tensor_slices((x_train, y_train))\n",
        "\n",
        "test_ds = tf.data.Dataset.from_tensor_slices((x_test, y_test))\n",
        "\n",
        "train_ds_simple = (\n",
        "    train_ds_simple.map(preprocess_image, num_parallel_calls=AUTO)\n",
        "    .batch(BATCH_SIZE)\n",
        "    .prefetch(AUTO)\n",
        ")\n",
        "\n",
        "# Combine two shuffled datasets from the same training data.\n",
        "train_ds = tf.data.Dataset.zip((train_ds_one, train_ds_two))\n",
        "\n",
        "test_ds = (\n",
        "    test_ds.map(preprocess_image, num_parallel_calls=AUTO)\n",
        "    .batch(BATCH_SIZE)\n",
        "    .prefetch(AUTO)\n",
        ")"
      ],
      "metadata": {
        "id": "oAtIeQR2PGRy"
      },
      "execution_count": 6,
      "outputs": []
    },
    {
      "cell_type": "markdown",
      "source": [
        "## Define the CutMix data augmentation function\n",
        "\n",
        "The CutMix function takes two `image` and `label` pairs to perform the augmentation. It samples `λ(l)` from the [Beta distribution](https://en.wikipedia.org/wiki/Beta_distribution) and returns a bounding box from `get_box` function. We then crop the second image (`image2`) and pad this image in the final padded image at the same location."
      ],
      "metadata": {
        "id": "qYsYnqTzhFGg"
      }
    },
    {
      "cell_type": "code",
      "source": [
        "def sample_beta_distribution(size, concentration_0=0.2, concentration_1=0.2):\n",
        "    gamma_1_sample = tf.random.gamma(shape=[size], alpha=concentration_1)\n",
        "    gamma_2_sample = tf.random.gamma(shape=[size], alpha=concentration_0)\n",
        "    return gamma_1_sample / (gamma_1_sample + gamma_2_sample)\n",
        "\n",
        "\n",
        "@tf.function\n",
        "def get_box(lambda_value):\n",
        "    cut_rat = tf.math.sqrt(1.0 - lambda_value)\n",
        "\n",
        "    cut_w = IMG_SIZE * cut_rat  # rw\n",
        "    cut_w = tf.cast(cut_w, tf.int32)\n",
        "\n",
        "    cut_h = IMG_SIZE * cut_rat  # rh\n",
        "    cut_h = tf.cast(cut_h, tf.int32)\n",
        "\n",
        "    cut_x = tf.random.uniform((1,), minval=0, maxval=IMG_SIZE, dtype=tf.int32)  # rx\n",
        "    cut_y = tf.random.uniform((1,), minval=0, maxval=IMG_SIZE, dtype=tf.int32)  # ry\n",
        "\n",
        "    boundaryx1 = tf.clip_by_value(cut_x[0] - cut_w // 2, 0, IMG_SIZE)\n",
        "    boundaryy1 = tf.clip_by_value(cut_y[0] - cut_h // 2, 0, IMG_SIZE)\n",
        "    bbx2 = tf.clip_by_value(cut_x[0] + cut_w // 2, 0, IMG_SIZE)\n",
        "    bby2 = tf.clip_by_value(cut_y[0] + cut_h // 2, 0, IMG_SIZE)\n",
        "\n",
        "    target_h = bby2 - boundaryy1\n",
        "    if target_h == 0:\n",
        "        target_h += 1\n",
        "\n",
        "    target_w = bbx2 - boundaryx1\n",
        "    if target_w == 0:\n",
        "        target_w += 1\n",
        "\n",
        "    return boundaryx1, boundaryy1, target_h, target_w\n",
        "\n",
        "\n",
        "@tf.function\n",
        "def cutmix(train_ds_one, train_ds_two):\n",
        "    (image1, label1), (image2, label2) = train_ds_one, train_ds_two\n",
        "\n",
        "    alpha = [0.25]\n",
        "    beta = [0.25]\n",
        "\n",
        "    # Get a sample from the Beta distribution\n",
        "    lambda_value = sample_beta_distribution(1, alpha, beta)\n",
        "\n",
        "    # Define Lambda\n",
        "    lambda_value = lambda_value[0][0]\n",
        "\n",
        "    # Get the bounding box offsets, heights and widths\n",
        "    boundaryx1, boundaryy1, target_h, target_w = get_box(lambda_value)\n",
        "\n",
        "    # Get a patch from the second image (`image2`)\n",
        "    crop2 = tf.image.crop_to_bounding_box(\n",
        "        image2, boundaryy1, boundaryx1, target_h, target_w\n",
        "    )\n",
        "    # Pad the `image2` patch (`crop2`) with the same offset\n",
        "    image2 = tf.image.pad_to_bounding_box(\n",
        "        crop2, boundaryy1, boundaryx1, IMG_SIZE, IMG_SIZE\n",
        "    )\n",
        "    # Get a patch from the first image (`image1`)\n",
        "    crop1 = tf.image.crop_to_bounding_box(\n",
        "        image1, boundaryy1, boundaryx1, target_h, target_w\n",
        "    )\n",
        "    # Pad the `image1` patch (`crop1`) with the same offset\n",
        "    img1 = tf.image.pad_to_bounding_box(\n",
        "        crop1, boundaryy1, boundaryx1, IMG_SIZE, IMG_SIZE\n",
        "    )\n",
        "\n",
        "    # Modify the first image by subtracting the patch from `image1`\n",
        "    # (before applying the `image2` patch)\n",
        "    image1 = image1 - img1\n",
        "    # Add the modified `image1` and `image2`  together to get the CutMix image\n",
        "    image = image1 + image2\n",
        "\n",
        "    # Adjust Lambda in accordance to the pixel ration\n",
        "    lambda_value = 1 - (target_w * target_h) / (IMG_SIZE * IMG_SIZE)\n",
        "    lambda_value = tf.cast(lambda_value, tf.float32)\n",
        "\n",
        "    # Combine the labels of both images\n",
        "    label = lambda_value * label1 + (1 - lambda_value) * label2\n",
        "    return image, label"
      ],
      "metadata": {
        "id": "bVQbSsxpYwIW"
      },
      "execution_count": 7,
      "outputs": []
    },
    {
      "cell_type": "markdown",
      "source": [
        "**Note**: we are combining two images to create a single one.\n",
        "\n",
        "## Visualize the new dataset after applying the CutMix augmentation"
      ],
      "metadata": {
        "id": "Ig6-YhOehUCf"
      }
    },
    {
      "cell_type": "code",
      "source": [
        "# Create the new dataset using our `cutmix` utility\n",
        "train_ds_cmu = (\n",
        "    train_ds.shuffle(1024)\n",
        "    .map(cutmix, num_parallel_calls=AUTO)\n",
        "    .batch(BATCH_SIZE)\n",
        "    .prefetch(AUTO)\n",
        ")\n",
        "\n",
        "# Let's preview 9 samples from the dataset\n",
        "image_batch, label_batch = next(iter(train_ds_cmu))\n",
        "plt.figure(figsize=(10, 10))\n",
        "for i in range(9):\n",
        "    ax = plt.subplot(3, 3, i + 1)\n",
        "    plt.title(class_names[np.argmax(label_batch[i])])\n",
        "    plt.imshow(image_batch[i])\n",
        "    plt.axis(\"off\")"
      ],
      "metadata": {
        "colab": {
          "base_uri": "https://localhost:8080/",
          "height": 310
        },
        "id": "dqfzo61sZjX5",
        "outputId": "3042a096-d929-4048-e9de-0afe0190117b"
      },
      "execution_count": 8,
      "outputs": [
        {
          "output_type": "display_data",
          "data": {
            "text/plain": [
              "<Figure size 1000x1000 with 9 Axes>"
            ],
            "image/png": "[encoded data removed]"
          },
          "metadata": {}
        }
      ]
    },
    {
      "cell_type": "markdown",
      "source": [
        "## Define a ResNet-20 model"
      ],
      "metadata": {
        "id": "y54eRg7Dhbmk"
      }
    },
    {
      "cell_type": "code",
      "source": [
        "def resnet_layer(\n",
        "    inputs,\n",
        "    num_filters=16,\n",
        "    kernel_size=3,\n",
        "    strides=1,\n",
        "    activation=\"relu\",\n",
        "    batch_normalization=True,\n",
        "    conv_first=True,\n",
        "):\n",
        "    conv = keras.layers.Conv2D(\n",
        "        num_filters,\n",
        "        kernel_size=kernel_size,\n",
        "        strides=strides,\n",
        "        padding=\"same\",\n",
        "        kernel_initializer=\"he_normal\",\n",
        "        kernel_regularizer=keras.regularizers.l2(1e-4),\n",
        "    )\n",
        "    x = inputs\n",
        "    if conv_first:\n",
        "        x = conv(x)\n",
        "        if batch_normalization:\n",
        "            x = keras.layers.BatchNormalization()(x)\n",
        "        if activation is not None:\n",
        "            x = keras.layers.Activation(activation)(x)\n",
        "    else:\n",
        "        if batch_normalization:\n",
        "            x = keras.layers.BatchNormalization()(x)\n",
        "        if activation is not None:\n",
        "            x = keras.layers.Activation(activation)(x)\n",
        "        x = conv(x)\n",
        "    return x\n",
        "\n",
        "\n",
        "def resnet_v20(input_shape, depth, num_classes=10):\n",
        "    if (depth - 2) % 6 != 0:\n",
        "        raise ValueError(\"depth should be 6n+2 (eg 20, 32, 44 in [a])\")\n",
        "    # Start model definition.\n",
        "    num_filters = 16\n",
        "    num_res_blocks = int((depth - 2) / 6)\n",
        "\n",
        "    inputs = keras.layers.Input(shape=input_shape)\n",
        "    x = resnet_layer(inputs=inputs)\n",
        "    # Instantiate the stack of residual units\n",
        "    for stack in range(3):\n",
        "        for res_block in range(num_res_blocks):\n",
        "            strides = 1\n",
        "            if stack > 0 and res_block == 0:  # first layer but not first stack\n",
        "                strides = 2  # downsample\n",
        "            y = resnet_layer(inputs=x, num_filters=num_filters, strides=strides)\n",
        "            y = resnet_layer(inputs=y, num_filters=num_filters, activation=None)\n",
        "            if stack > 0 and res_block == 0:  # first layer but not first stack\n",
        "                # linear projection residual shortcut connection to match\n",
        "                # changed dims\n",
        "                x = resnet_layer(\n",
        "                    inputs=x,\n",
        "                    num_filters=num_filters,\n",
        "                    kernel_size=1,\n",
        "                    strides=strides,\n",
        "                    activation=None,\n",
        "                    batch_normalization=False,\n",
        "                )\n",
        "            x = keras.layers.add([x, y])\n",
        "            x = keras.layers.Activation(\"relu\")(x)\n",
        "        num_filters *= 2\n",
        "\n",
        "    # Add classifier on top.\n",
        "    # v1 does not use BN after last shortcut connection-ReLU\n",
        "    x = keras.layers.AveragePooling2D(pool_size=8)(x)\n",
        "    y = keras.layers.Flatten()(x)\n",
        "    outputs = keras.layers.Dense(\n",
        "        num_classes, activation=\"softmax\", kernel_initializer=\"he_normal\"\n",
        "    )(y)\n",
        "\n",
        "    # Instantiate model.\n",
        "    model = keras.models.Model(inputs=inputs, outputs=outputs)\n",
        "    return model\n",
        "\n",
        "\n",
        "def training_model():\n",
        "    return resnet_v20((32, 32, 3), 20)\n",
        "\n",
        "\n",
        "initial_model = training_model()\n",
        "initial_model.save_weights(\"initial_weights.h5\")"
      ],
      "metadata": {
        "id": "rGL5HRWpeixD"
      },
      "execution_count": 9,
      "outputs": []
    },
    {
      "cell_type": "markdown",
      "source": [
        "## Train the model with the dataset augmented by CutMix"
      ],
      "metadata": {
        "id": "0drBAXGLh0fK"
      }
    },
    {
      "cell_type": "code",
      "source": [
        "model = training_model()\n",
        "model.load_weights(\"initial_weights.h5\")\n",
        "\n",
        "model.compile(loss=\"categorical_crossentropy\", optimizer=\"adam\", metrics=[\"accuracy\"])\n",
        "model.fit(train_ds_cmu, validation_data=test_ds, epochs=15)\n",
        "\n",
        "test_loss, test_accuracy = model.evaluate(test_ds)\n",
        "print(\"Test accuracy: {:.2f}%\".format(test_accuracy * 100))"
      ],
      "metadata": {
        "colab": {
          "base_uri": "https://localhost:8080/"
        },
        "id": "v6hNt3M7e39U",
        "outputId": "8a94c356-29e5-4929-9a1b-9702551c6386"
      },
      "execution_count": 12,
      "outputs": [
        {
          "output_type": "stream",
          "name": "stdout",
          "text": [
            "Epoch 1/15\n",
            "1563/1563 [==============================] - 57s 30ms/step - loss: 1.9227 - accuracy: 0.4064 - val_loss: 1.4203 - val_accuracy: 0.5446\n",
            "Epoch 2/15\n",
            "1563/1563 [==============================] - 45s 29ms/step - loss: 1.6672 - accuracy: 0.5305 - val_loss: 1.1488 - val_accuracy: 0.6442\n",
            "Epoch 3/15\n",
            "1563/1563 [==============================] - 45s 29ms/step - loss: 1.5500 - accuracy: 0.5843 - val_loss: 1.2016 - val_accuracy: 0.6350\n",
            "Epoch 4/15\n",
            "1563/1563 [==============================] - 48s 31ms/step - loss: 1.4911 - accuracy: 0.6125 - val_loss: 1.1300 - val_accuracy: 0.6609\n",
            "Epoch 5/15\n",
            "1563/1563 [==============================] - 44s 28ms/step - loss: 1.4532 - accuracy: 0.6290 - val_loss: 0.9360 - val_accuracy: 0.7411\n",
            "Epoch 6/15\n",
            "1563/1563 [==============================] - 46s 29ms/step - loss: 1.4147 - accuracy: 0.6497 - val_loss: 0.9445 - val_accuracy: 0.7432\n",
            "Epoch 7/15\n",
            "1563/1563 [==============================] - 46s 29ms/step - loss: 1.3938 - accuracy: 0.6607 - val_loss: 0.9290 - val_accuracy: 0.7379\n",
            "Epoch 8/15\n",
            "1563/1563 [==============================] - 43s 28ms/step - loss: 1.3677 - accuracy: 0.6705 - val_loss: 0.8564 - val_accuracy: 0.7691\n",
            "Epoch 9/15\n",
            "1563/1563 [==============================] - 46s 29ms/step - loss: 1.3465 - accuracy: 0.6829 - val_loss: 0.7981 - val_accuracy: 0.7922\n",
            "Epoch 10/15\n",
            "1563/1563 [==============================] - 45s 29ms/step - loss: 1.3364 - accuracy: 0.6853 - val_loss: 0.8550 - val_accuracy: 0.7713\n",
            "Epoch 11/15\n",
            "1563/1563 [==============================] - 46s 29ms/step - loss: 1.3266 - accuracy: 0.6921 - val_loss: 0.8021 - val_accuracy: 0.7900\n",
            "Epoch 12/15\n",
            "1563/1563 [==============================] - 44s 28ms/step - loss: 1.3091 - accuracy: 0.6988 - val_loss: 0.7950 - val_accuracy: 0.7925\n",
            "Epoch 13/15\n",
            "1563/1563 [==============================] - 45s 28ms/step - loss: 1.3003 - accuracy: 0.7055 - val_loss: 0.8665 - val_accuracy: 0.7683\n",
            "Epoch 14/15\n",
            "1563/1563 [==============================] - 46s 29ms/step - loss: 1.2991 - accuracy: 0.7063 - val_loss: 0.7557 - val_accuracy: 0.7991\n",
            "Epoch 15/15\n",
            "1563/1563 [==============================] - 47s 30ms/step - loss: 1.2882 - accuracy: 0.7137 - val_loss: 0.8310 - val_accuracy: 0.7864\n",
            "313/313 [==============================] - 2s 7ms/step - loss: 0.8310 - accuracy: 0.7864\n",
            "Test accuracy: 78.64%\n"
          ]
        }
      ]
    },
    {
      "cell_type": "markdown",
      "source": [
        "## Train the model using the original non-augmented dataset"
      ],
      "metadata": {
        "id": "IQhW8QO2geZi"
      }
    },
    {
      "cell_type": "code",
      "source": [
        "model = training_model()\n",
        "model.load_weights(\"initial_weights.h5\")\n",
        "model.compile(loss=\"categorical_crossentropy\", optimizer=\"adam\", metrics=[\"accuracy\"])\n",
        "model.fit(train_ds_simple, validation_data=test_ds, epochs=15)\n",
        "\n",
        "test_loss, test_accuracy = model.evaluate(test_ds)\n",
        "print(\"Test accuracy: {:.2f}%\".format(test_accuracy * 100))"
      ],
      "metadata": {
        "id": "XL9EyESJgWGn",
        "outputId": "8afe1805-75f5-4ed4-ca6c-0d1e754f321e",
        "colab": {
          "base_uri": "https://localhost:8080/"
        }
      },
      "execution_count": 11,
      "outputs": [
        {
          "output_type": "stream",
          "name": "stdout",
          "text": [
            "Epoch 1/15\n",
            "1563/1563 [==============================] - 41s 19ms/step - loss: 1.5018 - accuracy: 0.5155 - val_loss: 1.4922 - val_accuracy: 0.5544\n",
            "Epoch 2/15\n",
            "1563/1563 [==============================] - 34s 22ms/step - loss: 1.0742 - accuracy: 0.6752 - val_loss: 1.1825 - val_accuracy: 0.6607\n",
            "Epoch 3/15\n",
            "1563/1563 [==============================] - 31s 20ms/step - loss: 0.9007 - accuracy: 0.7407 - val_loss: 1.1961 - val_accuracy: 0.6584\n",
            "Epoch 4/15\n",
            "1563/1563 [==============================] - 32s 21ms/step - loss: 0.7975 - accuracy: 0.7801 - val_loss: 1.0429 - val_accuracy: 0.7118\n",
            "Epoch 5/15\n",
            "1563/1563 [==============================] - 31s 20ms/step - loss: 0.7245 - accuracy: 0.8112 - val_loss: 1.0174 - val_accuracy: 0.7287\n",
            "Epoch 6/15\n",
            "1563/1563 [==============================] - 32s 20ms/step - loss: 0.6632 - accuracy: 0.8365 - val_loss: 1.0612 - val_accuracy: 0.7269\n",
            "Epoch 7/15\n",
            "1563/1563 [==============================] - 35s 22ms/step - loss: 0.6159 - accuracy: 0.8563 - val_loss: 1.0502 - val_accuracy: 0.7331\n",
            "Epoch 8/15\n",
            "1563/1563 [==============================] - 30s 19ms/step - loss: 0.5801 - accuracy: 0.8707 - val_loss: 1.2650 - val_accuracy: 0.6974\n",
            "Epoch 9/15\n",
            "1563/1563 [==============================] - 32s 21ms/step - loss: 0.5538 - accuracy: 0.8826 - val_loss: 1.2144 - val_accuracy: 0.7179\n",
            "Epoch 10/15\n",
            "1563/1563 [==============================] - 37s 23ms/step - loss: 0.5322 - accuracy: 0.8942 - val_loss: 1.3235 - val_accuracy: 0.7105\n",
            "Epoch 11/15\n",
            "1563/1563 [==============================] - 35s 22ms/step - loss: 0.5182 - accuracy: 0.9002 - val_loss: 1.4796 - val_accuracy: 0.7023\n",
            "Epoch 12/15\n",
            "1563/1563 [==============================] - 32s 20ms/step - loss: 0.5030 - accuracy: 0.9096 - val_loss: 1.6107 - val_accuracy: 0.7080\n",
            "Epoch 13/15\n",
            "1563/1563 [==============================] - 36s 23ms/step - loss: 0.4929 - accuracy: 0.9152 - val_loss: 1.8042 - val_accuracy: 0.6754\n",
            "Epoch 14/15\n",
            "1563/1563 [==============================] - 32s 20ms/step - loss: 0.4870 - accuracy: 0.9199 - val_loss: 1.7779 - val_accuracy: 0.6775\n",
            "Epoch 15/15\n",
            "1563/1563 [==============================] - 32s 21ms/step - loss: 0.4788 - accuracy: 0.9248 - val_loss: 1.6095 - val_accuracy: 0.7305\n",
            "313/313 [==============================] - 2s 6ms/step - loss: 1.6095 - accuracy: 0.7305\n",
            "Test accuracy: 73.05%\n"
          ]
        }
      ]
    },
    {
      "cell_type": "markdown",
      "source": [
        "## Notes\n",
        "\n",
        "In this example, we trained our model for 15 epochs.\n",
        "In our experiment, the model with CutMix achieves a better accuracy on the CIFAR-10 dataset\n",
        "(78.64% in our experiment) compared to the model that doesn't use the augmentation (72.70%).\n",
        "You may notice it takes less time to train the model with the CutMix augmentation."
      ],
      "metadata": {
        "id": "AqPyvU7kiNOp"
      }
    }
  ],
  "metadata": {
    "accelerator": "GPU",
    "colab": {
      "provenance": [],
      "gpuType": "T4",
      "include_colab_link": true
    },
    "kernelspec": {
      "display_name": "Python 3",
      "name": "python3"
    },
    "language_info": {
      "codemirror_mode": {
        "name": "ipython",
        "version": 3
      },
      "file_extension": ".py",
      "mimetype": "text/x-python",
      "name": "python",
      "nbconvert_exporter": "python",
      "pygments_lexer": "ipython3",
      "version": "3.10.12"
    }
  },
  "nbformat": 4,
  "nbformat_minor": 0
}