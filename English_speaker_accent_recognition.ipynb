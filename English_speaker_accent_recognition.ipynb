{
  "cells": [
    {
      "cell_type": "markdown",
      "metadata": {
        "id": "view-in-github",
        "colab_type": "text"
      },
      "source": [
        "<a href=\"https://colab.research.google.com/github/ritwiks9635/My_Neural_Network_Architecture/blob/main/English_speaker_accent_recognition.ipynb\" target=\"_parent\"><img src=\"https://colab.research.google.com/assets/colab-badge.svg\" alt=\"Open In Colab\"/></a>"
      ]
    },
    {
      "cell_type": "markdown",
      "source": [
        "#**English speaker accent recognition using Transfer Learning**"
      ],
      "metadata": {
        "id": "oco_gIGIoZCL"
      }
    },
    {
      "cell_type": "markdown",
      "source": [
        "## Introduction\n",
        "\n",
        "The following example shows how to use feature extraction in order to\n",
        "train a model to classify the English accent spoken in an audio wave.\n",
        "\n",
        "Instead of training a model from scratch, transfer learning enables us to\n",
        "take advantage of existing state-of-the-art deep learning models and use them as feature extractors.\n",
        "\n",
        "Our process:\n",
        "\n",
        "* Use a TF Hub pre-trained model (Yamnet) and apply it as part of the tf.data pipeline which transforms\n",
        "the audio files into feature vectors.\n",
        "* Train a dense model on the feature vectors.\n",
        "* Use the trained model for inference on a new audio file.\n",
        "\n",
        "Note:\n",
        "\n",
        "* We need to install TensorFlow IO in order to resample audio files to 16 kHz as required by Yamnet model.\n",
        "* In the test section, ffmpeg is used to convert the mp3 file to wav.\n",
        "\n",
        "You can install TensorFlow IO with the following command:"
      ],
      "metadata": {
        "id": "UnvSeUr2GcKD"
      }
    },
    {
      "cell_type": "code",
      "source": [
        "!pip install -U -q tensorflow_io"
      ],
      "metadata": {
        "colab": {
          "base_uri": "https://localhost:8080/"
        },
        "id": "ZhjKnmA36MTK",
        "outputId": "a0dc36f6-8633-45a6-9467-ef404ce4b4da"
      },
      "execution_count": 1,
      "outputs": [
        {
          "output_type": "stream",
          "name": "stdout",
          "text": [
            "\u001b[2K     \u001b[90m━━━━━━━━━━━━━━━━━━━━━━━━━━━━━━━━━━━━━━━━\u001b[0m \u001b[32m49.4/49.4 MB\u001b[0m \u001b[31m15.2 MB/s\u001b[0m eta \u001b[36m0:00:00\u001b[0m\n",
            "\u001b[2K     \u001b[90m━━━━━━━━━━━━━━━━━━━━━━━━━━━━━━━━━━━━━━━━\u001b[0m \u001b[32m5.1/5.1 MB\u001b[0m \u001b[31m42.4 MB/s\u001b[0m eta \u001b[36m0:00:00\u001b[0m\n",
            "\u001b[?25h"
          ]
        }
      ]
    },
    {
      "cell_type": "code",
      "source": [
        "import os\n",
        "import io\n",
        "import csv\n",
        "import numpy as np\n",
        "import pandas as pd\n",
        "import tensorflow as tf\n",
        "import tensorflow_hub as hub\n",
        "import tensorflow_io as tfio\n",
        "from tensorflow import keras\n",
        "import matplotlib.pyplot as plt\n",
        "import seaborn as sns\n",
        "from scipy import stats\n",
        "from IPython.display import Audio\n",
        "\n",
        "\n",
        "# Set all random seeds in order to get reproducible results\n",
        "keras.utils.set_random_seed(SEED)\n",
        "\n",
        "# Where to download the dataset\n",
        "DATASET_DESTINATION = os.path.join(CACHE_DIR if CACHE_DIR else \"~/.keras/\", \"datasets\")"
      ],
      "metadata": {
        "id": "iI6la5GE7YmI"
      },
      "execution_count": 2,
      "outputs": []
    },
    {
      "cell_type": "code",
      "source": [
        "SEED = 1337\n",
        "EPOCHS = 100\n",
        "BATCH_SIZE = 64\n",
        "VALIDATION_RATIO = 0.1\n",
        "MODEL_NAME = \"uk_irish_accent_recognition\"\n",
        "\n",
        "# Location where the dataset will be downloaded.\n",
        "# By default (None), keras.utils.get_file will use ~/.keras/ as the CACHE_DIR\n",
        "CACHE_DIR = None\n",
        "\n",
        "# The location of the dataset\n",
        "URL_PATH = \"https://www.openslr.org/resources/83/\"\n",
        "\n",
        "# List of datasets compressed files that contain the audio files\n",
        "zip_files = {\n",
        "    0: \"irish_english_male.zip\",\n",
        "    1: \"midlands_english_female.zip\",\n",
        "    2: \"midlands_english_male.zip\",\n",
        "    3: \"northern_english_female.zip\",\n",
        "    4: \"northern_english_male.zip\",\n",
        "    5: \"scottish_english_female.zip\",\n",
        "    6: \"scottish_english_male.zip\",\n",
        "    7: \"southern_english_female.zip\",\n",
        "    8: \"southern_english_male.zip\",\n",
        "    9: \"welsh_english_female.zip\",\n",
        "    10: \"welsh_english_male.zip\",\n",
        "}\n",
        "\n",
        "# We see that there are 2 compressed files for each accent (except Irish):\n",
        "# - One for male speakers\n",
        "# - One for female speakers\n",
        "# However, we will be using a gender agnostic dataset.\n",
        "\n",
        "# List of gender agnostic categories\n",
        "gender_agnostic_categories = [\n",
        "    \"ir\",  # Irish\n",
        "    \"mi\",  # Midlands\n",
        "    \"no\",  # Northern\n",
        "    \"sc\",  # Scottish\n",
        "    \"so\",  # Southern\n",
        "    \"we\",  # Welsh\n",
        "]\n",
        "\n",
        "class_names = [\n",
        "    \"Irish\",\n",
        "    \"Midlands\",\n",
        "    \"Northern\",\n",
        "    \"Scottish\",\n",
        "    \"Southern\",\n",
        "    \"Welsh\",\n",
        "    \"Not a speech\",\n",
        "]"
      ],
      "metadata": {
        "id": "mhct1W_g7ucN"
      },
      "execution_count": 3,
      "outputs": []
    },
    {
      "cell_type": "markdown",
      "source": [
        "## Yamnet Model\n",
        "\n",
        "Yamnet is an audio event classifier trained on the AudioSet dataset to predict audio\n",
        "events from the AudioSet ontology. It is available on TensorFlow Hub.\n",
        "\n",
        "Yamnet accepts a 1-D tensor of audio samples with a sample rate of 16 kHz.\n",
        "As output, the model returns a 3-tuple:\n",
        "\n",
        "* Scores of shape `(N, 521)` representing the scores of the 521 classes.\n",
        "* Embeddings of shape `(N, 1024)`.\n",
        "* The log-mel spectrogram of the entire audio frame.\n",
        "\n",
        "We will use the embeddings, which are the features extracted from the audio samples, as the input to our dense model.\n",
        "\n",
        "For more detailed information about Yamnet, please refer to its [TensorFlow Hub](https://tfhub.dev/google/yamnet/1) page."
      ],
      "metadata": {
        "id": "uKEvseLrHplb"
      }
    },
    {
      "cell_type": "code",
      "source": [
        "yamnet_model = hub.load(\"https://tfhub.dev/google/yamnet/1\")"
      ],
      "metadata": {
        "id": "rhrCivucAGMN"
      },
      "execution_count": 7,
      "outputs": []
    },
    {
      "cell_type": "code",
      "source": [
        "yamnet_model"
      ],
      "metadata": {
        "colab": {
          "base_uri": "https://localhost:8080/"
        },
        "id": "Uj6gcGE4Ax7n",
        "outputId": "e6396804-15cb-4205-8ef4-63a38d36ea31"
      },
      "execution_count": 8,
      "outputs": [
        {
          "output_type": "execute_result",
          "data": {
            "text/plain": [
              "<tensorflow.python.saved_model.load.Loader._recreate_base_user_object.<locals>._UserObject at 0x7813b05219c0>"
            ]
          },
          "metadata": {},
          "execution_count": 8
        }
      ]
    },
    {
      "cell_type": "markdown",
      "source": [
        "## Dataset\n",
        "\n",
        "The dataset used is the\n",
        "[Crowdsourced high-quality UK and Ireland English Dialect speech data set](https://openslr.org/83/)\n",
        "which consists of a total of 17,877 high-quality audio wav files.\n",
        "\n",
        "This dataset includes over 31 hours of recording from 120 volunteers who self-identify as\n",
        "native speakers of Southern England, Midlands, Northern England, Wales, Scotland and Ireland.\n",
        "\n",
        "For more info, please refer to the above link or to the following paper:\n",
        "[Open-source Multi-speaker Corpora of the English Accents in the British Isles](https://aclanthology.org/2020.lrec-1.804.pdf)\n",
        "\n",
        "\n",
        "\n",
        "## Download the data"
      ],
      "metadata": {
        "id": "M3v3iU2KHzWi"
      }
    },
    {
      "cell_type": "code",
      "source": [
        "# CSV file that contains information about the dataset. For each entry, we have:\n",
        "# - ID\n",
        "# - wav file name\n",
        "# - transcript\n",
        "line_index_file = keras.utils.get_file(\n",
        "    fname=\"line_index_file\", origin=URL_PATH + \"line_index_all.csv\"\n",
        ")\n",
        "\n",
        "# Download the list of compressed files that contain the audio wav files\n",
        "for i in zip_files:\n",
        "    fname = zip_files[i].split(\".\")[0]\n",
        "    url = URL_PATH + zip_files[i]\n",
        "\n",
        "    zip_file = keras.utils.get_file(fname=fname, origin=url, extract=True)\n",
        "    os.remove(zip_file)"
      ],
      "metadata": {
        "colab": {
          "base_uri": "https://localhost:8080/"
        },
        "id": "affReI9iA3g_",
        "outputId": "7095bcd7-2a4a-41df-bb1d-3426846ea632"
      },
      "execution_count": 9,
      "outputs": [
        {
          "output_type": "stream",
          "name": "stdout",
          "text": [
            "Downloading data from https://www.openslr.org/resources/83/line_index_all.csv\n",
            "1986139/1986139 [==============================] - 1s 1us/step\n",
            "Downloading data from https://www.openslr.org/resources/83/irish_english_male.zip\n",
            "164531638/164531638 [==============================] - 10s 0us/step\n",
            "Downloading data from https://www.openslr.org/resources/83/midlands_english_female.zip\n",
            "103085118/103085118 [==============================] - 7s 0us/step\n",
            "Downloading data from https://www.openslr.org/resources/83/midlands_english_male.zip\n",
            "166833961/166833961 [==============================] - 10s 0us/step\n",
            "Downloading data from https://www.openslr.org/resources/83/northern_english_female.zip\n",
            "314983063/314983063 [==============================] - 18s 0us/step\n",
            "Downloading data from https://www.openslr.org/resources/83/northern_english_male.zip\n",
            "817772034/817772034 [==============================] - 46s 0us/step\n",
            "Downloading data from https://www.openslr.org/resources/83/scottish_english_female.zip\n",
            "351443880/351443880 [==============================] - 21s 0us/step\n",
            "Downloading data from https://www.openslr.org/resources/83/scottish_english_male.zip\n",
            "620254118/620254118 [==============================] - 34s 0us/step\n",
            "Downloading data from https://www.openslr.org/resources/83/southern_english_female.zip\n",
            "1636701939/1636701939 [==============================] - 99s 0us/step\n",
            "Downloading data from https://www.openslr.org/resources/83/southern_english_male.zip\n",
            "1700955740/1700955740 [==============================] - 95s 0us/step\n",
            "Downloading data from https://www.openslr.org/resources/83/welsh_english_female.zip\n",
            "595683538/595683538 [==============================] - 37s 0us/step\n",
            "Downloading data from https://www.openslr.org/resources/83/welsh_english_male.zip\n",
            "757645790/757645790 [==============================] - 42s 0us/step\n"
          ]
        }
      ]
    },
    {
      "cell_type": "markdown",
      "source": [
        "## Load the data in a Dataframe\n",
        "\n",
        "Of the 3 columns (ID, filename and transcript), we are only interested in the filename column in order to read the audio file.\n",
        "We will ignore the other two."
      ],
      "metadata": {
        "id": "U2yrsmPoIFRF"
      }
    },
    {
      "cell_type": "code",
      "source": [
        "dataframe = pd.read_csv(line_index_file, names = [\"id\", \"filename\", \"transcript\"], usecols = [\"filename\"])\n",
        "dataframe.head()"
      ],
      "metadata": {
        "colab": {
          "base_uri": "https://localhost:8080/",
          "height": 206
        },
        "id": "Q_mF9nuQo706",
        "outputId": "70ab274b-9d64-4daf-b74f-16a7bd09a8c0"
      },
      "execution_count": 10,
      "outputs": [
        {
          "output_type": "execute_result",
          "data": {
            "text/plain": [
              "                 filename\n",
              "0   wef_12484_01482829612\n",
              "1   wef_12484_01345932698\n",
              "2   wef_12484_00999757777\n",
              "3   wef_12484_00036278823\n",
              "4   wef_12484_00458512623"
            ],
            "text/html": [
              "\n",
              "  <div id=\"df-b8cb0048-5ecf-49cd-8079-ecfb016c8afb\" class=\"colab-df-container\">\n",
              "    <div>\n",
              "<style scoped>\n",
              "    .dataframe tbody tr th:only-of-type {\n",
              "        vertical-align: middle;\n",
              "    }\n",
              "\n",
              "    .dataframe tbody tr th {\n",
              "        vertical-align: top;\n",
              "    }\n",
              "\n",
              "    .dataframe thead th {\n",
              "        text-align: right;\n",
              "    }\n",
              "</style>\n",
              "<table border=\"1\" class=\"dataframe\">\n",
              "  <thead>\n",
              "    <tr style=\"text-align: right;\">\n",
              "      <th></th>\n",
              "      <th>filename</th>\n",
              "    </tr>\n",
              "  </thead>\n",
              "  <tbody>\n",
              "    <tr>\n",
              "      <th>0</th>\n",
              "      <td>wef_12484_01482829612</td>\n",
              "    </tr>\n",
              "    <tr>\n",
              "      <th>1</th>\n",
              "      <td>wef_12484_01345932698</td>\n",
              "    </tr>\n",
              "    <tr>\n",
              "      <th>2</th>\n",
              "      <td>wef_12484_00999757777</td>\n",
              "    </tr>\n",
              "    <tr>\n",
              "      <th>3</th>\n",
              "      <td>wef_12484_00036278823</td>\n",
              "    </tr>\n",
              "    <tr>\n",
              "      <th>4</th>\n",
              "      <td>wef_12484_00458512623</td>\n",
              "    </tr>\n",
              "  </tbody>\n",
              "</table>\n",
              "</div>\n",
              "    <div class=\"colab-df-buttons\">\n",
              "\n",
              "  <div class=\"colab-df-container\">\n",
              "    <button class=\"colab-df-convert\" onclick=\"convertToInteractive('df-b8cb0048-5ecf-49cd-8079-ecfb016c8afb')\"\n",
              "            title=\"Convert this dataframe to an interactive table.\"\n",
              "            style=\"display:none;\">\n",
              "\n",
              "  <svg xmlns=\"http://www.w3.org/2000/svg\" height=\"24px\" viewBox=\"0 -960 960 960\">\n",
              "    <path d=\"M120-120v-720h720v720H120Zm60-500h600v-160H180v160Zm220 220h160v-160H400v160Zm0 220h160v-160H400v160ZM180-400h160v-160H180v160Zm440 0h160v-160H620v160ZM180-180h160v-160H180v160Zm440 0h160v-160H620v160Z\"/>\n",
              "  </svg>\n",
              "    </button>\n",
              "\n",
              "  <style>\n",
              "    .colab-df-container {\n",
              "      display:flex;\n",
              "      gap: 12px;\n",
              "    }\n",
              "\n",
              "    .colab-df-convert {\n",
              "      background-color: #E8F0FE;\n",
              "      border: none;\n",
              "      border-radius: 50%;\n",
              "      cursor: pointer;\n",
              "      display: none;\n",
              "      fill: #1967D2;\n",
              "      height: 32px;\n",
              "      padding: 0 0 0 0;\n",
              "      width: 32px;\n",
              "    }\n",
              "\n",
              "    .colab-df-convert:hover {\n",
              "      background-color: #E2EBFA;\n",
              "      box-shadow: 0px 1px 2px rgba(60, 64, 67, 0.3), 0px 1px 3px 1px rgba(60, 64, 67, 0.15);\n",
              "      fill: #174EA6;\n",
              "    }\n",
              "\n",
              "    .colab-df-buttons div {\n",
              "      margin-bottom: 4px;\n",
              "    }\n",
              "\n",
              "    [theme=dark] .colab-df-convert {\n",
              "      background-color: #3B4455;\n",
              "      fill: #D2E3FC;\n",
              "    }\n",
              "\n",
              "    [theme=dark] .colab-df-convert:hover {\n",
              "      background-color: #434B5C;\n",
              "      box-shadow: 0px 1px 3px 1px rgba(0, 0, 0, 0.15);\n",
              "      filter: drop-shadow(0px 1px 2px rgba(0, 0, 0, 0.3));\n",
              "      fill: #FFFFFF;\n",
              "    }\n",
              "  </style>\n",
              "\n",
              "    <script>\n",
              "      const buttonEl =\n",
              "        document.querySelector('#df-b8cb0048-5ecf-49cd-8079-ecfb016c8afb button.colab-df-convert');\n",
              "      buttonEl.style.display =\n",
              "        google.colab.kernel.accessAllowed ? 'block' : 'none';\n",
              "\n",
              "      async function convertToInteractive(key) {\n",
              "        const element = document.querySelector('#df-b8cb0048-5ecf-49cd-8079-ecfb016c8afb');\n",
              "        const dataTable =\n",
              "          await google.colab.kernel.invokeFunction('convertToInteractive',\n",
              "                                                    [key], {});\n",
              "        if (!dataTable) return;\n",
              "\n",
              "        const docLinkHtml = 'Like what you see? Visit the ' +\n",
              "          '<a target=\"_blank\" href=https://colab.research.google.com/notebooks/data_table.ipynb>data table notebook</a>'\n",
              "          + ' to learn more about interactive tables.';\n",
              "        element.innerHTML = '';\n",
              "        dataTable['output_type'] = 'display_data';\n",
              "        await google.colab.output.renderOutput(dataTable, element);\n",
              "        const docLink = document.createElement('div');\n",
              "        docLink.innerHTML = docLinkHtml;\n",
              "        element.appendChild(docLink);\n",
              "      }\n",
              "    </script>\n",
              "  </div>\n",
              "\n",
              "\n",
              "<div id=\"df-23e2c16c-4627-40af-8cb2-b3473a502589\">\n",
              "  <button class=\"colab-df-quickchart\" onclick=\"quickchart('df-23e2c16c-4627-40af-8cb2-b3473a502589')\"\n",
              "            title=\"Suggest charts\"\n",
              "            style=\"display:none;\">\n",
              "\n",
              "<svg xmlns=\"http://www.w3.org/2000/svg\" height=\"24px\"viewBox=\"0 0 24 24\"\n",
              "     width=\"24px\">\n",
              "    <g>\n",
              "        <path d=\"M19 3H5c-1.1 0-2 .9-2 2v14c0 1.1.9 2 2 2h14c1.1 0 2-.9 2-2V5c0-1.1-.9-2-2-2zM9 17H7v-7h2v7zm4 0h-2V7h2v10zm4 0h-2v-4h2v4z\"/>\n",
              "    </g>\n",
              "</svg>\n",
              "  </button>\n",
              "\n",
              "<style>\n",
              "  .colab-df-quickchart {\n",
              "      --bg-color: #E8F0FE;\n",
              "      --fill-color: #1967D2;\n",
              "      --hover-bg-color: #E2EBFA;\n",
              "      --hover-fill-color: #174EA6;\n",
              "      --disabled-fill-color: #AAA;\n",
              "      --disabled-bg-color: #DDD;\n",
              "  }\n",
              "\n",
              "  [theme=dark] .colab-df-quickchart {\n",
              "      --bg-color: #3B4455;\n",
              "      --fill-color: #D2E3FC;\n",
              "      --hover-bg-color: #434B5C;\n",
              "      --hover-fill-color: #FFFFFF;\n",
              "      --disabled-bg-color: #3B4455;\n",
              "      --disabled-fill-color: #666;\n",
              "  }\n",
              "\n",
              "  .colab-df-quickchart {\n",
              "    background-color: var(--bg-color);\n",
              "    border: none;\n",
              "    border-radius: 50%;\n",
              "    cursor: pointer;\n",
              "    display: none;\n",
              "    fill: var(--fill-color);\n",
              "    height: 32px;\n",
              "    padding: 0;\n",
              "    width: 32px;\n",
              "  }\n",
              "\n",
              "  .colab-df-quickchart:hover {\n",
              "    background-color: var(--hover-bg-color);\n",
              "    box-shadow: 0 1px 2px rgba(60, 64, 67, 0.3), 0 1px 3px 1px rgba(60, 64, 67, 0.15);\n",
              "    fill: var(--button-hover-fill-color);\n",
              "  }\n",
              "\n",
              "  .colab-df-quickchart-complete:disabled,\n",
              "  .colab-df-quickchart-complete:disabled:hover {\n",
              "    background-color: var(--disabled-bg-color);\n",
              "    fill: var(--disabled-fill-color);\n",
              "    box-shadow: none;\n",
              "  }\n",
              "\n",
              "  .colab-df-spinner {\n",
              "    border: 2px solid var(--fill-color);\n",
              "    border-color: transparent;\n",
              "    border-bottom-color: var(--fill-color);\n",
              "    animation:\n",
              "      spin 1s steps(1) infinite;\n",
              "  }\n",
              "\n",
              "  @keyframes spin {\n",
              "    0% {\n",
              "      border-color: transparent;\n",
              "      border-bottom-color: var(--fill-color);\n",
              "      border-left-color: var(--fill-color);\n",
              "    }\n",
              "    20% {\n",
              "      border-color: transparent;\n",
              "      border-left-color: var(--fill-color);\n",
              "      border-top-color: var(--fill-color);\n",
              "    }\n",
              "    30% {\n",
              "      border-color: transparent;\n",
              "      border-left-color: var(--fill-color);\n",
              "      border-top-color: var(--fill-color);\n",
              "      border-right-color: var(--fill-color);\n",
              "    }\n",
              "    40% {\n",
              "      border-color: transparent;\n",
              "      border-right-color: var(--fill-color);\n",
              "      border-top-color: var(--fill-color);\n",
              "    }\n",
              "    60% {\n",
              "      border-color: transparent;\n",
              "      border-right-color: var(--fill-color);\n",
              "    }\n",
              "    80% {\n",
              "      border-color: transparent;\n",
              "      border-right-color: var(--fill-color);\n",
              "      border-bottom-color: var(--fill-color);\n",
              "    }\n",
              "    90% {\n",
              "      border-color: transparent;\n",
              "      border-bottom-color: var(--fill-color);\n",
              "    }\n",
              "  }\n",
              "</style>\n",
              "\n",
              "  <script>\n",
              "    async function quickchart(key) {\n",
              "      const quickchartButtonEl =\n",
              "        document.querySelector('#' + key + ' button');\n",
              "      quickchartButtonEl.disabled = true;  // To prevent multiple clicks.\n",
              "      quickchartButtonEl.classList.add('colab-df-spinner');\n",
              "      try {\n",
              "        const charts = await google.colab.kernel.invokeFunction(\n",
              "            'suggestCharts', [key], {});\n",
              "      } catch (error) {\n",
              "        console.error('Error during call to suggestCharts:', error);\n",
              "      }\n",
              "      quickchartButtonEl.classList.remove('colab-df-spinner');\n",
              "      quickchartButtonEl.classList.add('colab-df-quickchart-complete');\n",
              "    }\n",
              "    (() => {\n",
              "      let quickchartButtonEl =\n",
              "        document.querySelector('#df-23e2c16c-4627-40af-8cb2-b3473a502589 button');\n",
              "      quickchartButtonEl.style.display =\n",
              "        google.colab.kernel.accessAllowed ? 'block' : 'none';\n",
              "    })();\n",
              "  </script>\n",
              "</div>\n",
              "\n",
              "    </div>\n",
              "  </div>\n"
            ]
          },
          "metadata": {},
          "execution_count": 10
        }
      ]
    },
    {
      "cell_type": "markdown",
      "source": [
        "Let's now preprocess the dataset by:\n",
        "\n",
        "* Adjusting the filename (removing a leading space & adding \".wav\" extension to the\n",
        "filename).\n",
        "* Creating a label using the first 2 characters of the filename which indicate the\n",
        "accent.\n",
        "* Shuffling the samples."
      ],
      "metadata": {
        "id": "NK20r3NDIMe3"
      }
    },
    {
      "cell_type": "code",
      "source": [
        "# The purpose of this function is to preprocess the dataframe by applying the following:\n",
        "# - Cleaning the filename from a leading space\n",
        "# - Generating a label column that is gender agnostic i.e.\n",
        "#   welsh english male and welsh english female for example are both labeled as\n",
        "#   welsh english\n",
        "# - Add extension .wav to the filename\n",
        "# - Shuffle samples\n",
        "def preprocess_dataframe(dataframe):\n",
        "    # Remove leading space in filename column\n",
        "    dataframe[\"filename\"] = dataframe.apply(lambda row: row[\"filename\"].strip(), axis=1)\n",
        "\n",
        "    # Create gender agnostic labels based on the filename first 2 letters\n",
        "    dataframe[\"label\"] = dataframe.apply(\n",
        "        lambda row: gender_agnostic_categories.index(row[\"filename\"][:2]), axis=1\n",
        "    )\n",
        "\n",
        "    # Add the file path to the name\n",
        "    dataframe[\"filename\"] = dataframe.apply(\n",
        "        lambda row: os.path.join(DATASET_DESTINATION, row[\"filename\"] + \".wav\"), axis=1\n",
        "    )\n",
        "\n",
        "    # Shuffle the samples\n",
        "    dataframe = dataframe.sample(frac=1, random_state=SEED).reset_index(drop=True)\n",
        "\n",
        "    return dataframe\n",
        "\n",
        "\n",
        "dataframe = preprocess_dataframe(dataframe)\n",
        "dataframe.head()"
      ],
      "metadata": {
        "colab": {
          "base_uri": "https://localhost:8080/",
          "height": 226
        },
        "id": "TrUNjAjEsyiy",
        "outputId": "0b0b524f-b12e-4ce3-f364-4df006c2265c"
      },
      "execution_count": 11,
      "outputs": [
        {
          "output_type": "execute_result",
          "data": {
            "text/plain": [
              "                                     filename  label\n",
              "0  /content/dataset/som_03853_01027933689.wav      4\n",
              "1  /content/dataset/som_04310_01833253760.wav      4\n",
              "2  /content/dataset/sof_06136_01210700905.wav      4\n",
              "3  /content/dataset/som_02484_00261230384.wav      4\n",
              "4  /content/dataset/nom_06136_00616878975.wav      2"
            ],
            "text/html": [
              "\n",
              "  <div id=\"df-39706470-26b8-41c5-9d89-c51294b863c8\" class=\"colab-df-container\">\n",
              "    <div>\n",
              "<style scoped>\n",
              "    .dataframe tbody tr th:only-of-type {\n",
              "        vertical-align: middle;\n",
              "    }\n",
              "\n",
              "    .dataframe tbody tr th {\n",
              "        vertical-align: top;\n",
              "    }\n",
              "\n",
              "    .dataframe thead th {\n",
              "        text-align: right;\n",
              "    }\n",
              "</style>\n",
              "<table border=\"1\" class=\"dataframe\">\n",
              "  <thead>\n",
              "    <tr style=\"text-align: right;\">\n",
              "      <th></th>\n",
              "      <th>filename</th>\n",
              "      <th>label</th>\n",
              "    </tr>\n",
              "  </thead>\n",
              "  <tbody>\n",
              "    <tr>\n",
              "      <th>0</th>\n",
              "      <td>/content/dataset/som_03853_01027933689.wav</td>\n",
              "      <td>4</td>\n",
              "    </tr>\n",
              "    <tr>\n",
              "      <th>1</th>\n",
              "      <td>/content/dataset/som_04310_01833253760.wav</td>\n",
              "      <td>4</td>\n",
              "    </tr>\n",
              "    <tr>\n",
              "      <th>2</th>\n",
              "      <td>/content/dataset/sof_06136_01210700905.wav</td>\n",
              "      <td>4</td>\n",
              "    </tr>\n",
              "    <tr>\n",
              "      <th>3</th>\n",
              "      <td>/content/dataset/som_02484_00261230384.wav</td>\n",
              "      <td>4</td>\n",
              "    </tr>\n",
              "    <tr>\n",
              "      <th>4</th>\n",
              "      <td>/content/dataset/nom_06136_00616878975.wav</td>\n",
              "      <td>2</td>\n",
              "    </tr>\n",
              "  </tbody>\n",
              "</table>\n",
              "</div>\n",
              "    <div class=\"colab-df-buttons\">\n",
              "\n",
              "  <div class=\"colab-df-container\">\n",
              "    <button class=\"colab-df-convert\" onclick=\"convertToInteractive('df-39706470-26b8-41c5-9d89-c51294b863c8')\"\n",
              "            title=\"Convert this dataframe to an interactive table.\"\n",
              "            style=\"display:none;\">\n",
              "\n",
              "  <svg xmlns=\"http://www.w3.org/2000/svg\" height=\"24px\" viewBox=\"0 -960 960 960\">\n",
              "    <path d=\"M120-120v-720h720v720H120Zm60-500h600v-160H180v160Zm220 220h160v-160H400v160Zm0 220h160v-160H400v160ZM180-400h160v-160H180v160Zm440 0h160v-160H620v160ZM180-180h160v-160H180v160Zm440 0h160v-160H620v160Z\"/>\n",
              "  </svg>\n",
              "    </button>\n",
              "\n",
              "  <style>\n",
              "    .colab-df-container {\n",
              "      display:flex;\n",
              "      gap: 12px;\n",
              "    }\n",
              "\n",
              "    .colab-df-convert {\n",
              "      background-color: #E8F0FE;\n",
              "      border: none;\n",
              "      border-radius: 50%;\n",
              "      cursor: pointer;\n",
              "      display: none;\n",
              "      fill: #1967D2;\n",
              "      height: 32px;\n",
              "      padding: 0 0 0 0;\n",
              "      width: 32px;\n",
              "    }\n",
              "\n",
              "    .colab-df-convert:hover {\n",
              "      background-color: #E2EBFA;\n",
              "      box-shadow: 0px 1px 2px rgba(60, 64, 67, 0.3), 0px 1px 3px 1px rgba(60, 64, 67, 0.15);\n",
              "      fill: #174EA6;\n",
              "    }\n",
              "\n",
              "    .colab-df-buttons div {\n",
              "      margin-bottom: 4px;\n",
              "    }\n",
              "\n",
              "    [theme=dark] .colab-df-convert {\n",
              "      background-color: #3B4455;\n",
              "      fill: #D2E3FC;\n",
              "    }\n",
              "\n",
              "    [theme=dark] .colab-df-convert:hover {\n",
              "      background-color: #434B5C;\n",
              "      box-shadow: 0px 1px 3px 1px rgba(0, 0, 0, 0.15);\n",
              "      filter: drop-shadow(0px 1px 2px rgba(0, 0, 0, 0.3));\n",
              "      fill: #FFFFFF;\n",
              "    }\n",
              "  </style>\n",
              "\n",
              "    <script>\n",
              "      const buttonEl =\n",
              "        document.querySelector('#df-39706470-26b8-41c5-9d89-c51294b863c8 button.colab-df-convert');\n",
              "      buttonEl.style.display =\n",
              "        google.colab.kernel.accessAllowed ? 'block' : 'none';\n",
              "\n",
              "      async function convertToInteractive(key) {\n",
              "        const element = document.querySelector('#df-39706470-26b8-41c5-9d89-c51294b863c8');\n",
              "        const dataTable =\n",
              "          await google.colab.kernel.invokeFunction('convertToInteractive',\n",
              "                                                    [key], {});\n",
              "        if (!dataTable) return;\n",
              "\n",
              "        const docLinkHtml = 'Like what you see? Visit the ' +\n",
              "          '<a target=\"_blank\" href=https://colab.research.google.com/notebooks/data_table.ipynb>data table notebook</a>'\n",
              "          + ' to learn more about interactive tables.';\n",
              "        element.innerHTML = '';\n",
              "        dataTable['output_type'] = 'display_data';\n",
              "        await google.colab.output.renderOutput(dataTable, element);\n",
              "        const docLink = document.createElement('div');\n",
              "        docLink.innerHTML = docLinkHtml;\n",
              "        element.appendChild(docLink);\n",
              "      }\n",
              "    </script>\n",
              "  </div>\n",
              "\n",
              "\n",
              "<div id=\"df-8c11bb86-bc95-4021-90e5-86f5f5b32aef\">\n",
              "  <button class=\"colab-df-quickchart\" onclick=\"quickchart('df-8c11bb86-bc95-4021-90e5-86f5f5b32aef')\"\n",
              "            title=\"Suggest charts\"\n",
              "            style=\"display:none;\">\n",
              "\n",
              "<svg xmlns=\"http://www.w3.org/2000/svg\" height=\"24px\"viewBox=\"0 0 24 24\"\n",
              "     width=\"24px\">\n",
              "    <g>\n",
              "        <path d=\"M19 3H5c-1.1 0-2 .9-2 2v14c0 1.1.9 2 2 2h14c1.1 0 2-.9 2-2V5c0-1.1-.9-2-2-2zM9 17H7v-7h2v7zm4 0h-2V7h2v10zm4 0h-2v-4h2v4z\"/>\n",
              "    </g>\n",
              "</svg>\n",
              "  </button>\n",
              "\n",
              "<style>\n",
              "  .colab-df-quickchart {\n",
              "      --bg-color: #E8F0FE;\n",
              "      --fill-color: #1967D2;\n",
              "      --hover-bg-color: #E2EBFA;\n",
              "      --hover-fill-color: #174EA6;\n",
              "      --disabled-fill-color: #AAA;\n",
              "      --disabled-bg-color: #DDD;\n",
              "  }\n",
              "\n",
              "  [theme=dark] .colab-df-quickchart {\n",
              "      --bg-color: #3B4455;\n",
              "      --fill-color: #D2E3FC;\n",
              "      --hover-bg-color: #434B5C;\n",
              "      --hover-fill-color: #FFFFFF;\n",
              "      --disabled-bg-color: #3B4455;\n",
              "      --disabled-fill-color: #666;\n",
              "  }\n",
              "\n",
              "  .colab-df-quickchart {\n",
              "    background-color: var(--bg-color);\n",
              "    border: none;\n",
              "    border-radius: 50%;\n",
              "    cursor: pointer;\n",
              "    display: none;\n",
              "    fill: var(--fill-color);\n",
              "    height: 32px;\n",
              "    padding: 0;\n",
              "    width: 32px;\n",
              "  }\n",
              "\n",
              "  .colab-df-quickchart:hover {\n",
              "    background-color: var(--hover-bg-color);\n",
              "    box-shadow: 0 1px 2px rgba(60, 64, 67, 0.3), 0 1px 3px 1px rgba(60, 64, 67, 0.15);\n",
              "    fill: var(--button-hover-fill-color);\n",
              "  }\n",
              "\n",
              "  .colab-df-quickchart-complete:disabled,\n",
              "  .colab-df-quickchart-complete:disabled:hover {\n",
              "    background-color: var(--disabled-bg-color);\n",
              "    fill: var(--disabled-fill-color);\n",
              "    box-shadow: none;\n",
              "  }\n",
              "\n",
              "  .colab-df-spinner {\n",
              "    border: 2px solid var(--fill-color);\n",
              "    border-color: transparent;\n",
              "    border-bottom-color: var(--fill-color);\n",
              "    animation:\n",
              "      spin 1s steps(1) infinite;\n",
              "  }\n",
              "\n",
              "  @keyframes spin {\n",
              "    0% {\n",
              "      border-color: transparent;\n",
              "      border-bottom-color: var(--fill-color);\n",
              "      border-left-color: var(--fill-color);\n",
              "    }\n",
              "    20% {\n",
              "      border-color: transparent;\n",
              "      border-left-color: var(--fill-color);\n",
              "      border-top-color: var(--fill-color);\n",
              "    }\n",
              "    30% {\n",
              "      border-color: transparent;\n",
              "      border-left-color: var(--fill-color);\n",
              "      border-top-color: var(--fill-color);\n",
              "      border-right-color: var(--fill-color);\n",
              "    }\n",
              "    40% {\n",
              "      border-color: transparent;\n",
              "      border-right-color: var(--fill-color);\n",
              "      border-top-color: var(--fill-color);\n",
              "    }\n",
              "    60% {\n",
              "      border-color: transparent;\n",
              "      border-right-color: var(--fill-color);\n",
              "    }\n",
              "    80% {\n",
              "      border-color: transparent;\n",
              "      border-right-color: var(--fill-color);\n",
              "      border-bottom-color: var(--fill-color);\n",
              "    }\n",
              "    90% {\n",
              "      border-color: transparent;\n",
              "      border-bottom-color: var(--fill-color);\n",
              "    }\n",
              "  }\n",
              "</style>\n",
              "\n",
              "  <script>\n",
              "    async function quickchart(key) {\n",
              "      const quickchartButtonEl =\n",
              "        document.querySelector('#' + key + ' button');\n",
              "      quickchartButtonEl.disabled = true;  // To prevent multiple clicks.\n",
              "      quickchartButtonEl.classList.add('colab-df-spinner');\n",
              "      try {\n",
              "        const charts = await google.colab.kernel.invokeFunction(\n",
              "            'suggestCharts', [key], {});\n",
              "      } catch (error) {\n",
              "        console.error('Error during call to suggestCharts:', error);\n",
              "      }\n",
              "      quickchartButtonEl.classList.remove('colab-df-spinner');\n",
              "      quickchartButtonEl.classList.add('colab-df-quickchart-complete');\n",
              "    }\n",
              "    (() => {\n",
              "      let quickchartButtonEl =\n",
              "        document.querySelector('#df-8c11bb86-bc95-4021-90e5-86f5f5b32aef button');\n",
              "      quickchartButtonEl.style.display =\n",
              "        google.colab.kernel.accessAllowed ? 'block' : 'none';\n",
              "    })();\n",
              "  </script>\n",
              "</div>\n",
              "\n",
              "    </div>\n",
              "  </div>\n"
            ]
          },
          "metadata": {},
          "execution_count": 11
        }
      ]
    },
    {
      "cell_type": "code",
      "source": [
        "split = int(len(dataframe) * (1 - VALIDATION_RATIO))\n",
        "train_df = dataframe[: split]\n",
        "valid_df = dataframe[split :]\n",
        "\n",
        "print(f\"We have {train_df.shape[0]} training samples & {valid_df.shape[0]} validation ones\")"
      ],
      "metadata": {
        "colab": {
          "base_uri": "https://localhost:8080/"
        },
        "id": "QHdzl9Nf0KAx",
        "outputId": "6568030d-6ab4-4cbd-ef99-593b93f8bd1e"
      },
      "execution_count": 12,
      "outputs": [
        {
          "output_type": "stream",
          "name": "stdout",
          "text": [
            "We have 16089 training samples & 1788 validation ones\n"
          ]
        }
      ]
    },
    {
      "cell_type": "markdown",
      "source": [
        "## Prepare a TensorFlow Dataset\n",
        "\n",
        "Next, we need to create a `tf.data.Dataset`.\n",
        "This is done by creating a `dataframe_to_dataset` function that does the following:\n",
        "\n",
        "* Create a dataset using filenames and labels.\n",
        "* Get the Yamnet embeddings by calling another function `filepath_to_embeddings`.\n",
        "* Apply caching, reshuffling and setting batch size.\n",
        "\n",
        "The `filepath_to_embeddings` does the following:\n",
        "\n",
        "* Load audio file.\n",
        "* Resample audio to 16 kHz.\n",
        "* Generate scores and embeddings from Yamnet model.\n",
        "* Since Yamnet generates multiple samples for each audio file,\n",
        "this function also duplicates the label for all the generated samples\n",
        "that have `score=0` (speech) whereas sets the label for the others as\n",
        "'other' indicating that this audio segment is not a speech and we won't label it as one of the accents.\n",
        "\n",
        "The below `load_16k_audio_file` is copied from the following tutorial\n",
        "[Transfer learning with YAMNet for environmental sound classification](https://www.tensorflow.org/tutorials/audio/transfer_learning_audio)"
      ],
      "metadata": {
        "id": "8ieBj46EIPj1"
      }
    },
    {
      "cell_type": "code",
      "source": [
        "@tf.function\n",
        "def load_16k_audio_wav(filename):\n",
        "    # Read file content\n",
        "    file_content = tf.io.read_file(filename)\n",
        "\n",
        "    # Decode audio wave\n",
        "    audio_wav, sample_rate = tf.audio.decode_wav(file_content, desired_channels=1)\n",
        "    audio_wav = tf.squeeze(audio_wav, axis=-1)\n",
        "    sample_rate = tf.cast(sample_rate, dtype=tf.int64)\n",
        "\n",
        "    # Resample to 16k\n",
        "    audio_wav = tfio.audio.resample(audio_wav, rate_in=sample_rate, rate_out=16000)\n",
        "\n",
        "    return audio_wav\n",
        "\n",
        "\n",
        "def filepath_to_embeddings(filename, label):\n",
        "    # Load 16k audio wave\n",
        "    audio_wav = load_16k_audio_wav(filename)\n",
        "\n",
        "    # Get audio embeddings & scores.\n",
        "    # The embeddings are the audio features extracted using transfer learning\n",
        "    # while scores will be used to identify time slots that are not speech\n",
        "    # which will then be gathered into a specific new category 'other'\n",
        "    scores, embeddings, _ = yamnet_model(audio_wav)\n",
        "\n",
        "    # Number of embeddings in order to know how many times to repeat the label\n",
        "    embeddings_num = tf.shape(embeddings)[0]\n",
        "    labels = tf.repeat(label, embeddings_num)\n",
        "\n",
        "    # Change labels for time-slots that are not speech into a new category 'other'\n",
        "    labels = tf.where(tf.argmax(scores, axis=1) == 0, label, len(class_names) - 1)\n",
        "\n",
        "    # Using one-hot in order to use AUC\n",
        "    return (embeddings, tf.one_hot(labels, len(class_names)))\n",
        "\n",
        "\n",
        "def dataframe_to_dataset(dataframe, batch_size=64):\n",
        "    dataset = tf.data.Dataset.from_tensor_slices(\n",
        "        (dataframe[\"filename\"], dataframe[\"label\"])\n",
        "    )\n",
        "\n",
        "    dataset = dataset.map(\n",
        "        lambda x, y: filepath_to_embeddings(x, y),\n",
        "        num_parallel_calls=tf.data.experimental.AUTOTUNE,\n",
        "    ).unbatch()\n",
        "\n",
        "    return dataset.cache().batch(batch_size).prefetch(tf.data.AUTOTUNE)\n",
        "\n",
        "\n",
        "train_ds = dataframe_to_dataset(train_df)\n",
        "valid_ds = dataframe_to_dataset(valid_df)"
      ],
      "metadata": {
        "colab": {
          "base_uri": "https://localhost:8080/"
        },
        "id": "G1ksFaNV3xII",
        "outputId": "c12a81d0-db7c-4d75-9ba0-1c5b9a6c49f9"
      },
      "execution_count": 13,
      "outputs": [
        {
          "output_type": "stream",
          "name": "stderr",
          "text": [
            "WARNING:tensorflow:Using a while_loop for converting IO>AudioResample cause there is no registered converter for this op.\n"
          ]
        }
      ]
    },
    {
      "cell_type": "markdown",
      "source": [
        "## Build the model\n",
        "\n",
        "The model that we use consists of:\n",
        "\n",
        "* An input layer which is the embedding output of the Yamnet classifier.\n",
        "* 4 dense hidden layers and 4 dropout layers.\n",
        "* An output dense layer.\n",
        "\n",
        "The model's hyperparameters were selected using\n",
        "[KerasTuner](https://keras.io/keras_tuner/)."
      ],
      "metadata": {
        "id": "P1JqqINvIXmR"
      }
    },
    {
      "cell_type": "code",
      "source": [
        "keras.backend.clear_session()\n",
        "\n",
        "def build_and_compile_model():\n",
        "    inputs = keras.Input(shape = (1024), name = \"embedding\")\n",
        "\n",
        "    x = keras.layers.Dense(256, activation = \"relu\", name = \"decse_1\")(inputs)\n",
        "    x = keras.layers.Dropout(0.15, name = \"dropout_1\")(x)\n",
        "\n",
        "    x = keras.layers.Dense(384, activation = \"relu\", name = \"dense_2\")(x)\n",
        "    x = keras.layers.Dropout(0.2, name = \"dropout_2\")(x)\n",
        "\n",
        "    x = keras.layers.Dense(192, activation = \"relu\", name = \"dense_3\")(x)\n",
        "    x = keras.layers.Dropout(0.25, name = \"dropout_3\")(x)\n",
        "\n",
        "    x = keras.layers.Dense(384, activation = \"relu\", name = \"dense_4\")(x)\n",
        "    x = keras.layers.Dropout(0.2, name = \"dropout_4\")(x)\n",
        "\n",
        "    outputs = keras.layers.Dense(len(class_names), activation = \"softmax\", name = \"output\")(x)\n",
        "\n",
        "    model = keras.Model(inputs = inputs, outputs = outputs, name = \"accent_recognition\")\n",
        "\n",
        "    model.compile(\n",
        "        optimizer = keras.optimizers.Adam(learning_rate=1.9644e-5),\n",
        "        loss = keras.losses.CategoricalCrossentropy(),\n",
        "        metrics = [\"accuracy\", keras.metrics.AUC(name = \"auc\")])\n",
        "    return model\n",
        "\n",
        "model = build_and_compile_model()\n",
        "model.summary()"
      ],
      "metadata": {
        "id": "pw8Dx1T7GAx9",
        "colab": {
          "base_uri": "https://localhost:8080/"
        },
        "outputId": "866ed228-2c81-4b81-a861-74982f0b8a36"
      },
      "execution_count": 14,
      "outputs": [
        {
          "output_type": "stream",
          "name": "stdout",
          "text": [
            "Model: \"accent_recognition\"\n",
            "_________________________________________________________________\n",
            " Layer (type)                Output Shape              Param #   \n",
            "=================================================================\n",
            " embedding (InputLayer)      [(None, 1024)]            0         \n",
            "                                                                 \n",
            " decse_1 (Dense)             (None, 256)               262400    \n",
            "                                                                 \n",
            " dropout_1 (Dropout)         (None, 256)               0         \n",
            "                                                                 \n",
            " dense_2 (Dense)             (None, 384)               98688     \n",
            "                                                                 \n",
            " dropout_2 (Dropout)         (None, 384)               0         \n",
            "                                                                 \n",
            " dense_3 (Dense)             (None, 192)               73920     \n",
            "                                                                 \n",
            " dropout_3 (Dropout)         (None, 192)               0         \n",
            "                                                                 \n",
            " dense_4 (Dense)             (None, 384)               74112     \n",
            "                                                                 \n",
            " dropout_4 (Dropout)         (None, 384)               0         \n",
            "                                                                 \n",
            " output (Dense)              (None, 7)                 2695      \n",
            "                                                                 \n",
            "=================================================================\n",
            "Total params: 511815 (1.95 MB)\n",
            "Trainable params: 511815 (1.95 MB)\n",
            "Non-trainable params: 0 (0.00 Byte)\n",
            "_________________________________________________________________\n"
          ]
        }
      ]
    },
    {
      "cell_type": "markdown",
      "source": [
        "## Class weights calculation\n",
        "\n",
        "Since the dataset is quite unbalanced, we wil use `class_weight` argument during training.\n",
        "\n",
        "Getting the class weights is a little tricky because even though we know the number of\n",
        "audio files for each class, it does not represent the number of samples for that class\n",
        "since Yamnet transforms each audio file into multiple audio samples of 0.96 seconds each.\n",
        "So every audio file will be split into a number of samples that is proportional to its length.\n",
        "\n",
        "Therefore, to get those weights, we have to calculate the number of samples for each class\n",
        "after preprocessing through Yamnet."
      ],
      "metadata": {
        "id": "kMcYABczIdmu"
      }
    },
    {
      "cell_type": "code",
      "source": [
        "class_counts = tf.zeros(shape=(len(class_names),), dtype=tf.int32)\n",
        "\n",
        "for x, y in iter(train_ds):\n",
        "    class_counts = class_counts + tf.math.bincount(\n",
        "        tf.cast(tf.math.argmax(y, axis=1), tf.int32), minlength=len(class_names)\n",
        "    )\n",
        "\n",
        "class_weight = {\n",
        "    i: tf.math.reduce_sum(class_counts).numpy() / class_counts[i].numpy()\n",
        "    for i in range(len(class_counts))\n",
        "}\n",
        "\n",
        "print(class_weight)"
      ],
      "metadata": {
        "id": "fn7RkBMdbun0"
      },
      "execution_count": null,
      "outputs": []
    },
    {
      "cell_type": "markdown",
      "source": [
        "## Callbacks\n",
        "\n",
        "We use Keras callbacks in order to:\n",
        "\n",
        "* Stop whenever the validation AUC stops improving.\n",
        "* Save the best model.\n",
        "* Call TensorBoard in order to later view the training and validation logs."
      ],
      "metadata": {
        "id": "d84IGpAwI3Dc"
      }
    },
    {
      "cell_type": "code",
      "source": [
        "early_stopping_cb = keras.callbacks.EarlyStopping(\n",
        "    monitor=\"val_auc\", patience=10, restore_best_weights=True\n",
        ")\n",
        "\n",
        "model_checkpoint_cb = keras.callbacks.ModelCheckpoint(\n",
        "    MODEL_NAME + \".h5\", monitor=\"val_auc\", save_best_only=True\n",
        ")\n",
        "\n",
        "tensorboard_cb = keras.callbacks.TensorBoard(\n",
        "    os.path.join(os.curdir, \"logs\", model.name)\n",
        ")\n",
        "\n",
        "callbacks = [early_stopping_cb, model_checkpoint_cb, tensorboard_cb]"
      ],
      "metadata": {
        "id": "-NqrHfxFEuyN"
      },
      "execution_count": 17,
      "outputs": []
    },
    {
      "cell_type": "code",
      "source": [
        "history = model.fit(\n",
        "    train_ds,\n",
        "    epochs=EPOCHS,\n",
        "    validation_data=valid_ds,\n",
        "    class_weight=class_weight,\n",
        "    callbacks=callbacks,\n",
        "    verbose=2)"
      ],
      "metadata": {
        "id": "OgVhZRqmEj67"
      },
      "execution_count": null,
      "outputs": []
    },
    {
      "cell_type": "code",
      "source": [
        "train_loss, train_acc, train_auc = model.evaluate(train_ds)\n",
        "valid_loss, valid_acc, valid_auc = model.evaluate(valid_ds)"
      ],
      "metadata": {
        "id": "y_3SVumwFPre"
      },
      "execution_count": null,
      "outputs": []
    },
    {
      "cell_type": "markdown",
      "source": [
        "Let's try to compare our model's performance to Yamnet's using one of Yamnet metrics (d-prime)\n",
        "Yamnet achieved a d-prime value of 2.318.\n",
        "Let's check our model's performance."
      ],
      "metadata": {
        "id": "_otExtBQJsTw"
      }
    },
    {
      "cell_type": "code",
      "source": [
        "# The following function calculates the d-prime score from the AUC\n",
        "def d_prime(auc):\n",
        "    standard_normal = stats.norm()\n",
        "    d_prime = standard_normal.ppf(auc) * np.sqrt(2.0)\n",
        "    return d_prime\n",
        "\n",
        "\n",
        "print(\n",
        "    \"train d-prime: {0:.3f}, validation d-prime: {1:.3f}\".format(\n",
        "        d_prime(train_auc), d_prime(valid_auc)\n",
        "    )\n",
        ")"
      ],
      "metadata": {
        "id": "1gxRFQu4FYQb"
      },
      "execution_count": null,
      "outputs": []
    },
    {
      "cell_type": "markdown",
      "source": [
        "We can see that the model achieves the following results:\n",
        "\n",
        "Results    | Training  | Validation\n",
        "-----------|-----------|------------\n",
        "Accuracy   | 54%       | 51%\n",
        "AUC        | 0.91      | 0.89\n",
        "d-prime    | 1.882     | 1.740\n",
        "\n",
        "\n",
        "\n",
        "\n",
        "## Confusion Matrix\n",
        "\n",
        "Let's now plot the confusion matrix for the validation dataset.\n",
        "\n",
        "The confusion matrix lets us see, for every class, not only how many samples were correctly classified,\n",
        "but also which other classes were the samples confused with.\n",
        "\n",
        "It allows us to calculate the precision and recall for every class."
      ],
      "metadata": {
        "id": "l2ZDOn1RJun0"
      }
    },
    {
      "cell_type": "code",
      "source": [
        "# Create x and y tensors\n",
        "x_valid = None\n",
        "y_valid = None\n",
        "\n",
        "for x, y in iter(valid_ds):\n",
        "    if x_valid is None:\n",
        "        x_valid = x.numpy()\n",
        "        y_valid = y.numpy()\n",
        "    else:\n",
        "        x_valid = np.concatenate((x_valid, x.numpy()), axis=0)\n",
        "        y_valid = np.concatenate((y_valid, y.numpy()), axis=0)\n",
        "\n",
        "# Generate predictions\n",
        "y_pred = model.predict(x_valid)\n",
        "\n",
        "# Calculate confusion matrix\n",
        "confusion_mtx = tf.math.confusion_matrix(\n",
        "    np.argmax(y_valid, axis=1), np.argmax(y_pred, axis=1)\n",
        ")\n",
        "\n",
        "# Plot the confusion matrix\n",
        "plt.figure(figsize=(10, 8))\n",
        "sns.heatmap(\n",
        "    confusion_mtx, xticklabels=class_names, yticklabels=class_names, annot=True, fmt=\"g\"\n",
        ")\n",
        "plt.xlabel(\"Prediction\")\n",
        "plt.ylabel(\"Label\")\n",
        "plt.title(\"Validation Confusion Matrix\")\n",
        "plt.show()"
      ],
      "metadata": {
        "id": "8NZMg1hSFcHx"
      },
      "execution_count": null,
      "outputs": []
    },
    {
      "cell_type": "markdown",
      "source": [
        "## Precision & recall\n",
        "\n",
        "For every class:\n",
        "\n",
        "* Recall is the ratio of correctly classified samples i.e. it shows how many samples\n",
        "of this specific class, the model is able to detect.\n",
        "It is the ratio of diagonal elements to the sum of all elements in the row.\n",
        "* Precision shows the accuracy of the classifier. It is the ratio of correctly predicted\n",
        "samples among the ones classified as belonging to this class.\n",
        "It is the ratio of diagonal elements to the sum of all elements in the column."
      ],
      "metadata": {
        "id": "xNbpIcqkKBQL"
      }
    },
    {
      "cell_type": "code",
      "source": [
        "for i, label in enumerate(class_names):\n",
        "    precision = confusion_mtx[i, i] / np.sum(confusion_mtx[:, i])\n",
        "    recall = confusion_mtx[i, i] / np.sum(confusion_mtx[i, :])\n",
        "    print(\n",
        "        \"{0:15} Precision:{1:.2f}%; Recall:{2:.2f}%\".format(\n",
        "            label, precision * 100, recall * 100\n",
        "        )\n",
        "    )"
      ],
      "metadata": {
        "id": "8vX8R4qzFvRv"
      },
      "execution_count": null,
      "outputs": []
    },
    {
      "cell_type": "markdown",
      "source": [
        "## Run inference on test data\n",
        "\n",
        "Let's now run a test on a single audio file.\n",
        "Let's check this example from [The Scottish Voice](https://www.thescottishvoice.org.uk/home/)\n",
        "\n",
        "We will:\n",
        "\n",
        "* Download the mp3 file.\n",
        "* Convert it to a 16k wav file.\n",
        "* Run the model on the wav file.\n",
        "* Plot the results."
      ],
      "metadata": {
        "id": "WMhCdAzMKF-6"
      }
    },
    {
      "cell_type": "code",
      "source": [
        "filename = \"audio-sample-Stuart\"\n",
        "url = \"https://www.thescottishvoice.org.uk/files/cm/files/\"\n",
        "\n",
        "if os.path.exists(filename + \".wav\") == False:\n",
        "    print(f\"Downloading {filename}.mp3 from {url}\")\n",
        "    command = f\"wget {url}{filename}.mp3\"\n",
        "    os.system(command)\n",
        "\n",
        "    print(f\"Converting mp3 to wav and resampling to 16 kHZ\")\n",
        "    command = (\n",
        "        f\"ffmpeg -hide_banner -loglevel panic -y -i {filename}.mp3 -acodec \"\n",
        "        f\"pcm_s16le -ac 1 -ar 16000 {filename}.wav\"\n",
        "    )\n",
        "    os.system(command)\n",
        "\n",
        "filename = filename + \".wav\""
      ],
      "metadata": {
        "id": "X5l3wavcFyXZ"
      },
      "execution_count": null,
      "outputs": []
    },
    {
      "cell_type": "markdown",
      "source": [
        "The below function `yamnet_class_names_from_csv` was copied and very slightly changed\n",
        "from this [Yamnet Notebook](https://colab.research.google.com/github/tensorflow/hub/blob/master/examples/colab/yamnet.ipynb)."
      ],
      "metadata": {
        "id": "x4buoHE4KK2i"
      }
    },
    {
      "cell_type": "code",
      "source": [
        "def yamnet_class_names_from_csv(yamnet_class_map_csv_text):\n",
        "    \"\"\"Returns list of class names corresponding to score vector.\"\"\"\n",
        "    yamnet_class_map_csv = io.StringIO(yamnet_class_map_csv_text)\n",
        "    yamnet_class_names = [\n",
        "        name for (class_index, mid, name) in csv.reader(yamnet_class_map_csv)\n",
        "    ]\n",
        "    yamnet_class_names = yamnet_class_names[1:]  # Skip CSV header\n",
        "    return yamnet_class_names\n",
        "\n",
        "\n",
        "yamnet_class_map_path = yamnet_model.class_map_path().numpy()\n",
        "yamnet_class_names = yamnet_class_names_from_csv(\n",
        "    tf.io.read_file(yamnet_class_map_path).numpy().decode(\"utf-8\")\n",
        ")\n",
        "\n",
        "\n",
        "def calculate_number_of_non_speech(scores):\n",
        "    number_of_non_speech = tf.math.reduce_sum(\n",
        "        tf.where(tf.math.argmax(scores, axis=1, output_type=tf.int32) != 0, 1, 0)\n",
        "    )\n",
        "\n",
        "    return number_of_non_speech\n",
        "\n",
        "\n",
        "def filename_to_predictions(filename):\n",
        "    # Load 16k audio wave\n",
        "    audio_wav = load_16k_audio_wav(filename)\n",
        "\n",
        "    # Get audio embeddings & scores.\n",
        "    scores, embeddings, mel_spectrogram = yamnet_model(audio_wav)\n",
        "\n",
        "    print(\n",
        "        \"Out of {} samples, {} are not speech\".format(\n",
        "            scores.shape[0], calculate_number_of_non_speech(scores)\n",
        "        )\n",
        "    )\n",
        "\n",
        "    # Predict the output of the accent recognition model with embeddings as input\n",
        "    predictions = model.predict(embeddings)\n",
        "\n",
        "    return audio_wav, predictions, mel_spectrogram"
      ],
      "metadata": {
        "id": "lZJNh9aFF2Zo"
      },
      "execution_count": null,
      "outputs": []
    },
    {
      "cell_type": "markdown",
      "source": [
        "Let's run the model on the audio file:"
      ],
      "metadata": {
        "id": "vURY5gx5KRO5"
      }
    },
    {
      "cell_type": "code",
      "source": [
        "audio_wav, predictions, mel_spectrogram = filename_to_predictions(filename)\n",
        "\n",
        "infered_class = class_names[predictions.mean(axis=0).argmax()]\n",
        "print(f\"The main accent is: {infered_class} English\")"
      ],
      "metadata": {
        "id": "ob6icxIaF94N"
      },
      "execution_count": null,
      "outputs": []
    },
    {
      "cell_type": "code",
      "source": [
        "Audio(audio_wav, rate=16000)"
      ],
      "metadata": {
        "id": "wUERtfm1GFUy"
      },
      "execution_count": null,
      "outputs": []
    },
    {
      "cell_type": "markdown",
      "source": [
        "The below function was copied from this [Yamnet notebook](tinyurl.com/4a8xn7at) and adjusted to our need.\n",
        "\n",
        "This function plots the following:\n",
        "\n",
        "* Audio waveform\n",
        "* Mel spectrogram\n",
        "* Predictions for every time step"
      ],
      "metadata": {
        "id": "FZe1QdyTKWOh"
      }
    },
    {
      "cell_type": "code",
      "source": [
        "plt.figure(figsize=(10, 6))\n",
        "\n",
        "# Plot the waveform.\n",
        "plt.subplot(3, 1, 1)\n",
        "plt.plot(audio_wav)\n",
        "plt.xlim([0, len(audio_wav)])\n",
        "\n",
        "# Plot the log-mel spectrogram (returned by the model).\n",
        "plt.subplot(3, 1, 2)\n",
        "plt.imshow(\n",
        "    mel_spectrogram.numpy().T, aspect=\"auto\", interpolation=\"nearest\", origin=\"lower\"\n",
        ")\n",
        "\n",
        "# Plot and label the model output scores for the top-scoring classes.\n",
        "mean_predictions = np.mean(predictions, axis=0)\n",
        "\n",
        "top_class_indices = np.argsort(mean_predictions)[::-1]\n",
        "plt.subplot(3, 1, 3)\n",
        "plt.imshow(\n",
        "    predictions[:, top_class_indices].T,\n",
        "    aspect=\"auto\",\n",
        "    interpolation=\"nearest\",\n",
        "    cmap=\"gray_r\",\n",
        ")\n",
        "\n",
        "# patch_padding = (PATCH_WINDOW_SECONDS / 2) / PATCH_HOP_SECONDS\n",
        "# values from the model documentation\n",
        "patch_padding = (0.025 / 2) / 0.01\n",
        "plt.xlim([-patch_padding - 0.5, predictions.shape[0] + patch_padding - 0.5])\n",
        "# Label the top_N classes.\n",
        "yticks = range(0, len(class_names), 1)\n",
        "plt.yticks(yticks, [class_names[top_class_indices[x]] for x in yticks])\n",
        "_ = plt.ylim(-0.5 + np.array([len(class_names), 0]))"
      ],
      "metadata": {
        "id": "EbAjyQgwGNNw"
      },
      "execution_count": null,
      "outputs": []
    }
  ],
  "metadata": {
    "colab": {
      "provenance": [],
      "authorship_tag": "ABX9TyPOrMDmQ3AXHDXQAyMm+GBe",
      "include_colab_link": true
    },
    "kernelspec": {
      "display_name": "Python 3",
      "name": "python3"
    },
    "language_info": {
      "name": "python"
    }
  },
  "nbformat": 4,
  "nbformat_minor": 0
}