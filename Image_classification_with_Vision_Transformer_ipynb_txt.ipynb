{
  "cells": [
    {
      "cell_type": "markdown",
      "metadata": {
        "id": "view-in-github",
        "colab_type": "text"
      },
      "source": [
        "<a href=\"https://colab.research.google.com/github/ritwiks9635/My_Neural_Network_Architecture/blob/main/Image_classification_with_Vision_Transformer_ipynb_txt.ipynb\" target=\"_parent\"><img src=\"https://colab.research.google.com/assets/colab-badge.svg\" alt=\"Open In Colab\"/></a>"
      ]
    },
    {
      "cell_type": "markdown",
      "source": [
        "# New Section"
      ],
      "metadata": {
        "id": "453WbptDIRkb"
      }
    },
    {
      "cell_type": "code",
      "source": [
        "pip install -U tensorflow-addons"
      ],
      "metadata": {
        "colab": {
          "base_uri": "https://localhost:8080/"
        },
        "id": "scs7oJvdpVYi",
        "outputId": "6c4f7438-6201-4f39-e28f-88b9aa7ddcdc"
      },
      "execution_count": 1,
      "outputs": [
        {
          "output_type": "stream",
          "name": "stdout",
          "text": [
            "Collecting tensorflow-addons\n",
            "  Downloading tensorflow_addons-0.21.0-cp310-cp310-manylinux_2_17_x86_64.manylinux2014_x86_64.whl (612 kB)\n",
            "\u001b[2K     \u001b[90m━━━━━━━━━━━━━━━━━━━━━━━━━━━━━━━━━━━━━━━\u001b[0m \u001b[32m612.1/612.1 kB\u001b[0m \u001b[31m7.5 MB/s\u001b[0m eta \u001b[36m0:00:00\u001b[0m\n",
            "\u001b[?25hRequirement already satisfied: packaging in /usr/local/lib/python3.10/dist-packages (from tensorflow-addons) (23.1)\n",
            "Collecting typeguard<3.0.0,>=2.7 (from tensorflow-addons)\n",
            "  Downloading typeguard-2.13.3-py3-none-any.whl (17 kB)\n",
            "Installing collected packages: typeguard, tensorflow-addons\n",
            "Successfully installed tensorflow-addons-0.21.0 typeguard-2.13.3\n"
          ]
        }
      ]
    },
    {
      "cell_type": "code",
      "source": [
        "import numpy as np\n",
        "import tensorflow as tf\n",
        "import tensorflow_addons as tfa\n",
        "from tensorflow import keras\n",
        "from tensorflow.keras import layers"
      ],
      "metadata": {
        "colab": {
          "base_uri": "https://localhost:8080/"
        },
        "id": "_0TRh978pXxF",
        "outputId": "83413875-7d7d-4f0a-c96b-6516cb4b560e"
      },
      "execution_count": 2,
      "outputs": [
        {
          "output_type": "stream",
          "name": "stderr",
          "text": [
            "/usr/local/lib/python3.10/dist-packages/tensorflow_addons/utils/tfa_eol_msg.py:23: UserWarning: \n",
            "\n",
            "TensorFlow Addons (TFA) has ended development and introduction of new features.\n",
            "TFA has entered a minimal maintenance and release mode until a planned end of life in May 2024.\n",
            "Please modify downstream libraries to take dependencies from other repositories in our TensorFlow community (e.g. Keras, Keras-CV, and Keras-NLP). \n",
            "\n",
            "For more information see: https://github.com/tensorflow/addons/issues/2807 \n",
            "\n",
            "  warnings.warn(\n"
          ]
        }
      ]
    },
    {
      "cell_type": "code",
      "source": [
        "n_classes = 100\n",
        "input_shape = (32,32,3)\n",
        "(x_train, y_train),(x_test, y_test) = keras.datasets.cifar100.load_data()\n",
        "x_train.shape, y_train.shape, x_test.shape, y_test.shape"
      ],
      "metadata": {
        "colab": {
          "base_uri": "https://localhost:8080/"
        },
        "id": "b7GuPITtpx0M",
        "outputId": "3933f291-56ea-4532-aeee-5d7755323e7c"
      },
      "execution_count": 3,
      "outputs": [
        {
          "output_type": "stream",
          "name": "stdout",
          "text": [
            "Downloading data from https://www.cs.toronto.edu/~kriz/cifar-100-python.tar.gz\n",
            "169001437/169001437 [==============================] - 2s 0us/step\n"
          ]
        },
        {
          "output_type": "execute_result",
          "data": {
            "text/plain": [
              "((50000, 32, 32, 3), (50000, 1), (10000, 32, 32, 3), (10000, 1))"
            ]
          },
          "metadata": {},
          "execution_count": 3
        }
      ]
    },
    {
      "cell_type": "code",
      "source": [
        "x_train[0]"
      ],
      "metadata": {
        "colab": {
          "base_uri": "https://localhost:8080/"
        },
        "id": "m-TTu8WVqyLa",
        "outputId": "9150f1e7-3d01-4edd-9287-24c9f7a74dde"
      },
      "execution_count": 4,
      "outputs": [
        {
          "output_type": "execute_result",
          "data": {
            "text/plain": [
              "array([[[255, 255, 255],\n",
              "        [255, 255, 255],\n",
              "        [255, 255, 255],\n",
              "        ...,\n",
              "        [195, 205, 193],\n",
              "        [212, 224, 204],\n",
              "        [182, 194, 167]],\n",
              "\n",
              "       [[255, 255, 255],\n",
              "        [254, 254, 254],\n",
              "        [254, 254, 254],\n",
              "        ...,\n",
              "        [170, 176, 150],\n",
              "        [161, 168, 130],\n",
              "        [146, 154, 113]],\n",
              "\n",
              "       [[255, 255, 255],\n",
              "        [254, 254, 254],\n",
              "        [255, 255, 255],\n",
              "        ...,\n",
              "        [189, 199, 169],\n",
              "        [166, 178, 130],\n",
              "        [121, 133,  87]],\n",
              "\n",
              "       ...,\n",
              "\n",
              "       [[148, 185,  79],\n",
              "        [142, 182,  57],\n",
              "        [140, 179,  60],\n",
              "        ...,\n",
              "        [ 30,  17,   1],\n",
              "        [ 65,  62,  15],\n",
              "        [ 76,  77,  20]],\n",
              "\n",
              "       [[122, 157,  66],\n",
              "        [120, 155,  58],\n",
              "        [126, 160,  71],\n",
              "        ...,\n",
              "        [ 22,  16,   3],\n",
              "        [ 97, 112,  56],\n",
              "        [141, 161,  87]],\n",
              "\n",
              "       [[ 87, 122,  41],\n",
              "        [ 88, 122,  39],\n",
              "        [101, 134,  56],\n",
              "        ...,\n",
              "        [ 34,  36,  10],\n",
              "        [105, 133,  59],\n",
              "        [138, 173,  79]]], dtype=uint8)"
            ]
          },
          "metadata": {},
          "execution_count": 4
        }
      ]
    },
    {
      "cell_type": "code",
      "source": [
        "learning_rate = 0.001\n",
        "weight_decay = 0.0001\n",
        "batch_size = 256\n",
        "num_epochs = 100\n",
        "image_size = 72  # We'll resize input images to this size\n",
        "patch_size = 6  # Size of the patches to be extract from the input images\n",
        "num_patches = (image_size // patch_size) ** 2\n",
        "projection_dim = 64\n",
        "num_heads = 4\n",
        "transformer_units = [\n",
        "    projection_dim * 2,\n",
        "    projection_dim,\n",
        "]  # Size of the transformer layers\n",
        "transformer_layers = 8\n",
        "mlp_head_units = [2048, 1024]  # Size of the dense layers of the final classifier"
      ],
      "metadata": {
        "id": "Y2WCwKOzrDMC"
      },
      "execution_count": 5,
      "outputs": []
    },
    {
      "cell_type": "code",
      "source": [
        "data_augmentation = tf.keras.Sequential([\n",
        "    tf.keras.layers.Normalization(),\n",
        "    tf.keras.layers.Resizing(image_size, image_size),\n",
        "    tf.keras.layers.RandomRotation(factor = 0.02),\n",
        "    tf.keras.layers.RandomFlip(\"horizontal\"),\n",
        "    tf.keras.layers.RandomZoom(height_factor = 0.2, width_factor = 0.2)\n",
        "    ])"
      ],
      "metadata": {
        "id": "rEzABOHtrd5A"
      },
      "execution_count": 6,
      "outputs": []
    },
    {
      "cell_type": "code",
      "source": [
        "data_augmentation.layers[0].adapt(x_train)"
      ],
      "metadata": {
        "id": "zFkooVEesyif"
      },
      "execution_count": 7,
      "outputs": []
    },
    {
      "cell_type": "markdown",
      "source": [
        "**Implement multilayer perceptron (MLP)**"
      ],
      "metadata": {
        "id": "_MJZWi63mQy8"
      }
    },
    {
      "cell_type": "code",
      "source": [
        "def mlp(x, hidden_units, dropout_rate):\n",
        "    for units in hidden_units:\n",
        "        x = tf.keras.layers.Dense(units, activation = tf.nn.gelu)(x)\n",
        "        x = tf.keras.layers.Dropout(dropout_rate)(x)\n",
        "    return x"
      ],
      "metadata": {
        "id": "qWmO5M11tCDw"
      },
      "execution_count": 8,
      "outputs": []
    },
    {
      "cell_type": "markdown",
      "source": [
        "**Implement patch creation as a layer**"
      ],
      "metadata": {
        "id": "-eIwBHCdm07E"
      }
    },
    {
      "cell_type": "code",
      "source": [
        "class Patches(layers.Layer):\n",
        "    def __init__(self, patch_size):\n",
        "        super().__init__()\n",
        "        self.patch_size = patch_size\n",
        "\n",
        "    def call(self, images):\n",
        "        batch_size = tf.shape(images)[0]\n",
        "        patches = tf.image.extract_patches(\n",
        "            images=images,\n",
        "            sizes=[1, self.patch_size, self.patch_size, 1],\n",
        "            strides=[1, self.patch_size, self.patch_size, 1],\n",
        "            rates=[1, 1, 1, 1],\n",
        "            padding=\"VALID\",\n",
        "        )\n",
        "        patch_dims = patches.shape[-1]\n",
        "        patches = tf.reshape(patches, [batch_size, -1, patch_dims])\n",
        "        return patches"
      ],
      "metadata": {
        "id": "S6yL03QWt1eO"
      },
      "execution_count": 15,
      "outputs": []
    },
    {
      "cell_type": "code",
      "source": [
        "import matplotlib.pyplot as plt\n",
        "plt.figure(figsize=(4,4))\n",
        "img = x_train[np.random.choice(range(x_train.shape[0]))]\n",
        "plt.imshow(img.astype(\"uint8\"))\n",
        "plt.axis(\"off\")\n",
        "\n",
        "resize = tf.image.resize(tf.convert_to_tensor([img]), size = (image_size, image_size))\n",
        "patches = Patches(patch_size)(resize)\n",
        "print(f\"Image size: {image_size} X {image_size}\")\n",
        "print(f\"Patch size: {patch_size} X {patch_size}\")\n",
        "print(f\"Patches per image: {patches.shape[1]}\")\n",
        "print(f\"Elements per patch: {patches.shape[-1]}\")\n",
        "n = int(np.sqrt(patches.shape[1]))\n",
        "plt.figure(figsize=(4,4))\n",
        "for i, patch in enumerate(patches[0]):\n",
        "    ax = plt.subplot(n,n,i+1)\n",
        "    patch_img = tf.reshape(patch, (patch_size,  patch_size, 3))\n",
        "    plt.imshow(patch_img.numpy().astype(\"uint8\"))\n",
        "    plt.axis(\"off\")"
      ],
      "metadata": {
        "id": "4gQNWWYhvZyT",
        "colab": {
          "base_uri": "https://localhost:8080/",
          "height": 759
        },
        "outputId": "66a3093a-cce8-480d-904a-204d2717552f"
      },
      "execution_count": 16,
      "outputs": [
        {
          "output_type": "stream",
          "name": "stdout",
          "text": [
            "Image size: 72 X 72\n",
            "Patch size: 6 X 6\n",
            "Patches per image: 144\n",
            "Elements per patch: 108\n"
          ]
        },
        {
          "output_type": "display_data",
          "data": {
            "text/plain": [
              "<Figure size 400x400 with 1 Axes>"
            ],
            "image/png": "[encoded data removed]"
          },
          "metadata": {}
        },
        {
          "output_type": "display_data",
          "data": {
            "text/plain": [
              "<Figure size 400x400 with 144 Axes>"
            ],
            "image/png": "[encoded data removed]"
          },
          "metadata": {}
        }
      ]
    },
    {
      "cell_type": "code",
      "source": [
        "###Implement the patch encoding layer###"
      ],
      "metadata": {
        "id": "TdK0vQsrnDm8"
      },
      "execution_count": null,
      "outputs": []
    },
    {
      "cell_type": "code",
      "source": [
        "class PatchEncoder(layers.Layer):\n",
        "    def __init__(self, num_patches, projection_dim):\n",
        "        super().__init__()\n",
        "        self.num_patches = num_patches\n",
        "        self.projection = layers.Dense(units=projection_dim)\n",
        "        self.position_embedding = layers.Embedding(\n",
        "            input_dim=num_patches, output_dim=projection_dim\n",
        "        )\n",
        "\n",
        "    def call(self, patch):\n",
        "        positions = tf.range(start=0, limit=self.num_patches, delta=1)\n",
        "        encoded = self.projection(patch) + self.position_embedding(positions)\n",
        "        return encoded"
      ],
      "metadata": {
        "id": "e04MlxNiTGRb"
      },
      "execution_count": 17,
      "outputs": []
    },
    {
      "cell_type": "markdown",
      "source": [
        "**Build the ViT model**"
      ],
      "metadata": {
        "id": "RwWGJdSonK4x"
      }
    },
    {
      "cell_type": "code",
      "source": [
        "def create_vit_classifier():\n",
        "    inputs = layers.Input(shape=input_shape)\n",
        "    # Augment data.\n",
        "    augmented = data_augmentation(inputs)\n",
        "    # Create patches.\n",
        "    patches = Patches(patch_size)(augmented)\n",
        "    # Encode patches.\n",
        "    encoded_patches = PatchEncoder(num_patches, projection_dim)(patches)\n",
        "\n",
        "    # Create multiple layers of the Transformer block.\n",
        "    for _ in range(transformer_layers):\n",
        "        # Layer normalization 1.\n",
        "        x1 = layers.LayerNormalization(epsilon=1e-6)(encoded_patches)\n",
        "        # Create a multi-head attention layer.\n",
        "        attention_output = layers.MultiHeadAttention(\n",
        "            num_heads=num_heads, key_dim=projection_dim, dropout=0.1\n",
        "        )(x1, x1)\n",
        "        # Skip connection 1.\n",
        "        x2 = layers.Add()([attention_output, encoded_patches])\n",
        "        # Layer normalization 2.\n",
        "        x3 = layers.LayerNormalization(epsilon=1e-6)(x2)\n",
        "        # MLP.\n",
        "        x3 = mlp(x3, hidden_units=transformer_units, dropout_rate=0.1)\n",
        "        # Skip connection 2.\n",
        "        encoded_patches = layers.Add()([x3, x2])\n",
        "\n",
        "    # Create a [batch_size, projection_dim] tensor.\n",
        "    representation = layers.LayerNormalization(epsilon=1e-6)(encoded_patches)\n",
        "    representation = layers.Flatten()(representation)\n",
        "    representation = layers.Dropout(0.5)(representation)\n",
        "    # Add MLP.\n",
        "    features = mlp(representation, hidden_units=mlp_head_units, dropout_rate=0.5)\n",
        "    # Classify outputs.\n",
        "    logits = layers.Dense(n_classes)(features)\n",
        "    # Create the Keras model.\n",
        "    model = keras.Model(inputs=inputs, outputs=logits)\n",
        "    return model"
      ],
      "metadata": {
        "id": "PELC5M7IYmYN"
      },
      "execution_count": 20,
      "outputs": []
    },
    {
      "cell_type": "code",
      "source": [
        "def run_experiment(model):\n",
        "    optimizer = tfa.optimizers.AdamW(\n",
        "        learning_rate=learning_rate, weight_decay=weight_decay\n",
        "    )\n",
        "\n",
        "    model.compile(\n",
        "        optimizer=optimizer,\n",
        "        loss=keras.losses.SparseCategoricalCrossentropy(from_logits=True),\n",
        "        metrics=[\n",
        "            keras.metrics.SparseCategoricalAccuracy(name=\"accuracy\"),\n",
        "            keras.metrics.SparseTopKCategoricalAccuracy(5, name=\"top-5-accuracy\"),\n",
        "        ],\n",
        "    )\n",
        "\n",
        "    checkpoint_filepath = \"/tmp/checkpoint\"\n",
        "    checkpoint_callback = keras.callbacks.ModelCheckpoint(\n",
        "        checkpoint_filepath,\n",
        "        monitor=\"val_accuracy\",\n",
        "        save_best_only=True,\n",
        "        save_weights_only=True,\n",
        "    )\n",
        "\n",
        "    history = model.fit(\n",
        "        x=x_train,\n",
        "        y=y_train,\n",
        "        batch_size=batch_size,\n",
        "        epochs=num_epochs,\n",
        "        validation_split=0.1,\n",
        "        callbacks=[checkpoint_callback],\n",
        "    )\n",
        "\n",
        "    model.load_weights(checkpoint_filepath)\n",
        "    _, accuracy, top_5_accuracy = model.evaluate(x_test, y_test)\n",
        "    print(f\"Test accuracy: {round(accuracy * 100, 2)}%\")\n",
        "    print(f\"Test top 5 accuracy: {round(top_5_accuracy * 100, 2)}%\")\n",
        "\n",
        "    return history\n",
        "\n",
        "\n",
        "vit_classifier = create_vit_classifier()\n",
        "history = run_experiment(vit_classifier)"
      ],
      "metadata": {
        "colab": {
          "base_uri": "https://localhost:8080/"
        },
        "id": "M_tkmixUY84I",
        "outputId": "f5c6d62a-d546-48bd-bd60-b844817b5a34"
      },
      "execution_count": null,
      "outputs": [
        {
          "output_type": "stream",
          "name": "stdout",
          "text": [
            "Epoch 1/100\n",
            "176/176 [==============================] - 79s 371ms/step - loss: 4.4646 - accuracy: 0.0476 - top-5-accuracy: 0.1652 - val_loss: 3.8744 - val_accuracy: 0.1058 - val_top-5-accuracy: 0.3046\n",
            "Epoch 2/100\n",
            "176/176 [==============================] - 64s 363ms/step - loss: 3.9483 - accuracy: 0.0952 - top-5-accuracy: 0.2895 - val_loss: 3.5619 - val_accuracy: 0.1620 - val_top-5-accuracy: 0.4106\n",
            "Epoch 3/100\n",
            "176/176 [==============================] - 69s 391ms/step - loss: 3.6953 - accuracy: 0.1316 - top-5-accuracy: 0.3659 - val_loss: 3.3783 - val_accuracy: 0.1942 - val_top-5-accuracy: 0.4524\n",
            "Epoch 4/100\n",
            "176/176 [==============================] - 66s 375ms/step - loss: 3.5242 - accuracy: 0.1580 - top-5-accuracy: 0.4130 - val_loss: 3.1880 - val_accuracy: 0.2220 - val_top-5-accuracy: 0.5154\n",
            "Epoch 5/100\n",
            "176/176 [==============================] - 69s 390ms/step - loss: 3.3739 - accuracy: 0.1842 - top-5-accuracy: 0.4566 - val_loss: 3.0363 - val_accuracy: 0.2638 - val_top-5-accuracy: 0.5496\n",
            "Epoch 6/100\n",
            "176/176 [==============================] - 67s 378ms/step - loss: 3.2386 - accuracy: 0.2109 - top-5-accuracy: 0.4937 - val_loss: 2.9640 - val_accuracy: 0.2750 - val_top-5-accuracy: 0.5708\n",
            "Epoch 7/100\n",
            "176/176 [==============================] - 71s 401ms/step - loss: 3.1181 - accuracy: 0.2361 - top-5-accuracy: 0.5274 - val_loss: 2.8470 - val_accuracy: 0.2940 - val_top-5-accuracy: 0.5948\n",
            "Epoch 8/100\n",
            "176/176 [==============================] - 71s 401ms/step - loss: 2.9961 - accuracy: 0.2590 - top-5-accuracy: 0.5566 - val_loss: 2.7180 - val_accuracy: 0.3162 - val_top-5-accuracy: 0.6218\n",
            "Epoch 9/100\n",
            "176/176 [==============================] - 71s 401ms/step - loss: 2.8792 - accuracy: 0.2774 - top-5-accuracy: 0.5860 - val_loss: 2.6140 - val_accuracy: 0.3418 - val_top-5-accuracy: 0.6420\n",
            "Epoch 10/100\n",
            "176/176 [==============================] - 71s 401ms/step - loss: 2.7790 - accuracy: 0.2973 - top-5-accuracy: 0.6088 - val_loss: 2.5399 - val_accuracy: 0.3514 - val_top-5-accuracy: 0.6594\n",
            "Epoch 11/100\n",
            "176/176 [==============================] - 67s 383ms/step - loss: 2.6834 - accuracy: 0.3184 - top-5-accuracy: 0.6297 - val_loss: 2.4716 - val_accuracy: 0.3680 - val_top-5-accuracy: 0.6762\n",
            "Epoch 12/100\n",
            "176/176 [==============================] - 66s 375ms/step - loss: 2.6056 - accuracy: 0.3334 - top-5-accuracy: 0.6467 - val_loss: 2.3860 - val_accuracy: 0.3862 - val_top-5-accuracy: 0.6950\n",
            "Epoch 13/100\n",
            "176/176 [==============================] - 67s 379ms/step - loss: 2.5228 - accuracy: 0.3520 - top-5-accuracy: 0.6670 - val_loss: 2.3503 - val_accuracy: 0.3930 - val_top-5-accuracy: 0.7000\n",
            "Epoch 14/100\n",
            "176/176 [==============================] - 71s 401ms/step - loss: 2.4440 - accuracy: 0.3693 - top-5-accuracy: 0.6847 - val_loss: 2.3152 - val_accuracy: 0.3954 - val_top-5-accuracy: 0.7066\n",
            "Epoch 15/100\n",
            "176/176 [==============================] - 70s 401ms/step - loss: 2.3873 - accuracy: 0.3806 - top-5-accuracy: 0.6962 - val_loss: 2.2527 - val_accuracy: 0.4174 - val_top-5-accuracy: 0.7168\n",
            "Epoch 16/100\n",
            "176/176 [==============================] - 64s 364ms/step - loss: 2.3183 - accuracy: 0.3933 - top-5-accuracy: 0.7113 - val_loss: 2.2541 - val_accuracy: 0.4166 - val_top-5-accuracy: 0.7172\n",
            "Epoch 17/100\n",
            "176/176 [==============================] - 71s 404ms/step - loss: 2.2514 - accuracy: 0.4067 - top-5-accuracy: 0.7246 - val_loss: 2.1996 - val_accuracy: 0.4292 - val_top-5-accuracy: 0.7306\n",
            "Epoch 18/100\n",
            "176/176 [==============================] - 70s 400ms/step - loss: 2.2096 - accuracy: 0.4179 - top-5-accuracy: 0.7320 - val_loss: 2.1483 - val_accuracy: 0.4388 - val_top-5-accuracy: 0.7380\n",
            "Epoch 19/100\n",
            "176/176 [==============================] - 70s 399ms/step - loss: 2.1407 - accuracy: 0.4325 - top-5-accuracy: 0.7465 - val_loss: 2.1099 - val_accuracy: 0.4472 - val_top-5-accuracy: 0.7476\n",
            "Epoch 20/100\n",
            "176/176 [==============================] - 66s 373ms/step - loss: 2.0801 - accuracy: 0.4450 - top-5-accuracy: 0.7602 - val_loss: 2.1061 - val_accuracy: 0.4558 - val_top-5-accuracy: 0.7454\n",
            "Epoch 21/100\n",
            "176/176 [==============================] - 71s 402ms/step - loss: 2.0269 - accuracy: 0.4552 - top-5-accuracy: 0.7707 - val_loss: 2.0450 - val_accuracy: 0.4564 - val_top-5-accuracy: 0.7616\n",
            "Epoch 22/100\n",
            "176/176 [==============================] - 69s 389ms/step - loss: 1.9901 - accuracy: 0.4646 - top-5-accuracy: 0.7759 - val_loss: 2.0663 - val_accuracy: 0.4586 - val_top-5-accuracy: 0.7490\n",
            "Epoch 23/100\n",
            "176/176 [==============================] - 68s 388ms/step - loss: 1.9281 - accuracy: 0.4774 - top-5-accuracy: 0.7884 - val_loss: 2.0215 - val_accuracy: 0.4754 - val_top-5-accuracy: 0.7662\n",
            "Epoch 24/100\n",
            "176/176 [==============================] - 64s 366ms/step - loss: 1.8891 - accuracy: 0.4863 - top-5-accuracy: 0.7981 - val_loss: 2.0435 - val_accuracy: 0.4574 - val_top-5-accuracy: 0.7594\n",
            "Epoch 25/100\n",
            "176/176 [==============================] - 71s 403ms/step - loss: 1.8388 - accuracy: 0.4981 - top-5-accuracy: 0.8053 - val_loss: 1.9775 - val_accuracy: 0.4760 - val_top-5-accuracy: 0.7672\n",
            "Epoch 26/100\n",
            "176/176 [==============================] - 66s 377ms/step - loss: 1.8056 - accuracy: 0.5066 - top-5-accuracy: 0.8092 - val_loss: 1.9622 - val_accuracy: 0.4824 - val_top-5-accuracy: 0.7744\n",
            "Epoch 27/100\n",
            "176/176 [==============================] - 68s 388ms/step - loss: 1.7694 - accuracy: 0.5154 - top-5-accuracy: 0.8172 - val_loss: 1.9223 - val_accuracy: 0.4860 - val_top-5-accuracy: 0.7858\n",
            "Epoch 28/100\n",
            "176/176 [==============================] - 71s 402ms/step - loss: 1.7210 - accuracy: 0.5235 - top-5-accuracy: 0.8272 - val_loss: 1.9092 - val_accuracy: 0.4934 - val_top-5-accuracy: 0.7882\n",
            "Epoch 29/100\n",
            "176/176 [==============================] - 70s 400ms/step - loss: 1.6842 - accuracy: 0.5348 - top-5-accuracy: 0.8315 - val_loss: 1.9019 - val_accuracy: 0.5018 - val_top-5-accuracy: 0.7870\n",
            "Epoch 30/100\n",
            "176/176 [==============================] - 65s 367ms/step - loss: 1.6595 - accuracy: 0.5422 - top-5-accuracy: 0.8379 - val_loss: 1.9067 - val_accuracy: 0.4982 - val_top-5-accuracy: 0.7926\n",
            "Epoch 31/100\n",
            "176/176 [==============================] - 71s 403ms/step - loss: 1.6194 - accuracy: 0.5481 - top-5-accuracy: 0.8454 - val_loss: 1.9005 - val_accuracy: 0.5064 - val_top-5-accuracy: 0.7896\n",
            "Epoch 32/100\n",
            "176/176 [==============================] - 70s 397ms/step - loss: 1.5911 - accuracy: 0.5567 - top-5-accuracy: 0.8488 - val_loss: 1.8689 - val_accuracy: 0.5106 - val_top-5-accuracy: 0.7954\n",
            "Epoch 33/100\n",
            "176/176 [==============================] - 64s 365ms/step - loss: 1.5511 - accuracy: 0.5647 - top-5-accuracy: 0.8547 - val_loss: 1.8874 - val_accuracy: 0.5030 - val_top-5-accuracy: 0.7962\n",
            "Epoch 34/100\n",
            "176/176 [==============================] - 65s 367ms/step - loss: 1.5354 - accuracy: 0.5698 - top-5-accuracy: 0.8586 - val_loss: 1.8856 - val_accuracy: 0.5040 - val_top-5-accuracy: 0.7914\n",
            "Epoch 35/100\n",
            "176/176 [==============================] - 71s 403ms/step - loss: 1.4899 - accuracy: 0.5825 - top-5-accuracy: 0.8671 - val_loss: 1.8534 - val_accuracy: 0.5152 - val_top-5-accuracy: 0.7956\n",
            "Epoch 36/100\n",
            "176/176 [==============================] - 70s 400ms/step - loss: 1.4622 - accuracy: 0.5855 - top-5-accuracy: 0.8706 - val_loss: 1.8531 - val_accuracy: 0.5170 - val_top-5-accuracy: 0.7986\n",
            "Epoch 37/100\n",
            "176/176 [==============================] - 70s 400ms/step - loss: 1.4354 - accuracy: 0.5924 - top-5-accuracy: 0.8753 - val_loss: 1.8577 - val_accuracy: 0.5194 - val_top-5-accuracy: 0.7976\n",
            "Epoch 38/100\n",
            "176/176 [==============================] - 64s 365ms/step - loss: 1.4210 - accuracy: 0.5967 - top-5-accuracy: 0.8761 - val_loss: 1.8715 - val_accuracy: 0.5158 - val_top-5-accuracy: 0.8004\n",
            "Epoch 39/100\n",
            "176/176 [==============================] - 71s 402ms/step - loss: 1.3851 - accuracy: 0.6086 - top-5-accuracy: 0.8808 - val_loss: 1.8478 - val_accuracy: 0.5200 - val_top-5-accuracy: 0.7990\n",
            "Epoch 40/100\n",
            "176/176 [==============================] - 70s 395ms/step - loss: 1.3710 - accuracy: 0.6081 - top-5-accuracy: 0.8861 - val_loss: 1.8231 - val_accuracy: 0.5288 - val_top-5-accuracy: 0.8012\n",
            "Epoch 41/100\n",
            "176/176 [==============================] - 64s 366ms/step - loss: 1.3545 - accuracy: 0.6123 - top-5-accuracy: 0.8865 - val_loss: 1.8436 - val_accuracy: 0.5250 - val_top-5-accuracy: 0.8014\n",
            "Epoch 42/100\n",
            "176/176 [==============================] - 64s 366ms/step - loss: 1.3307 - accuracy: 0.6174 - top-5-accuracy: 0.8913 - val_loss: 1.8510 - val_accuracy: 0.5278 - val_top-5-accuracy: 0.8028\n",
            "Epoch 43/100\n",
            "176/176 [==============================] - 71s 403ms/step - loss: 1.2928 - accuracy: 0.6289 - top-5-accuracy: 0.8965 - val_loss: 1.8209 - val_accuracy: 0.5324 - val_top-5-accuracy: 0.8084\n",
            "Epoch 44/100\n",
            "176/176 [==============================] - 65s 369ms/step - loss: 1.2813 - accuracy: 0.6319 - top-5-accuracy: 0.8972 - val_loss: 1.8599 - val_accuracy: 0.5292 - val_top-5-accuracy: 0.7976\n",
            "Epoch 45/100\n",
            "176/176 [==============================] - 65s 369ms/step - loss: 1.2675 - accuracy: 0.6337 - top-5-accuracy: 0.9006 - val_loss: 1.8844 - val_accuracy: 0.5174 - val_top-5-accuracy: 0.7960\n",
            "Epoch 46/100\n",
            "176/176 [==============================] - 65s 368ms/step - loss: 1.2424 - accuracy: 0.6436 - top-5-accuracy: 0.9046 - val_loss: 1.8448 - val_accuracy: 0.5304 - val_top-5-accuracy: 0.8074\n",
            "Epoch 47/100\n",
            "176/176 [==============================] - 65s 368ms/step - loss: 1.2266 - accuracy: 0.6458 - top-5-accuracy: 0.9051 - val_loss: 1.8857 - val_accuracy: 0.5128 - val_top-5-accuracy: 0.7978\n",
            "Epoch 48/100\n",
            "176/176 [==============================] - 65s 371ms/step - loss: 1.2217 - accuracy: 0.6439 - top-5-accuracy: 0.9076 - val_loss: 1.8391 - val_accuracy: 0.5264 - val_top-5-accuracy: 0.8032\n",
            "Epoch 49/100\n",
            "115/176 [==================>...........] - ETA: 21s - loss: 1.1824 - accuracy: 0.6568 - top-5-accuracy: 0.9114"
          ]
        }
      ]
    }
  ],
  "metadata": {
    "accelerator": "GPU",
    "colab": {
      "provenance": [],
      "include_colab_link": true
    },
    "kernelspec": {
      "display_name": "Python 3",
      "name": "python3"
    },
    "language_info": {
      "name": "python"
    }
  },
  "nbformat": 4,
  "nbformat_minor": 0
}