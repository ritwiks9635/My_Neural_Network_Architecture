{
  "cells": [
    {
      "cell_type": "markdown",
      "metadata": {
        "id": "view-in-github",
        "colab_type": "text"
      },
      "source": [
        "<a href=\"https://colab.research.google.com/github/ritwiks9635/My_Neural_Network_Architecture/blob/main/Using_pre_trained_word_embeddings.ipynb\" target=\"_parent\"><img src=\"https://colab.research.google.com/assets/colab-badge.svg\" alt=\"Open In Colab\"/></a>"
      ]
    },
    {
      "cell_type": "markdown",
      "metadata": {
        "id": "6B3g_782cEmG"
      },
      "source": [
        "#**Using pre-trained word embeddings**"
      ]
    },
    {
      "cell_type": "markdown",
      "source": [
        "## Introduction\n",
        "\n",
        "In this example, we show how to train a text classification model that uses pre-trained\n",
        "word embeddings.\n",
        "\n",
        "We'll work with the Newsgroup20 dataset, a set of 20,000 message board messages\n",
        "belonging to 20 different topic categories.\n",
        "\n",
        "For the pre-trained word embeddings, we'll use\n",
        "[GloVe embeddings](http://nlp.stanford.edu/projects/glove/)."
      ],
      "metadata": {
        "id": "qAdxX3EcnS03"
      }
    },
    {
      "cell_type": "code",
      "execution_count": 50,
      "metadata": {
        "id": "Tn4EVGrZcJlv"
      },
      "outputs": [],
      "source": [
        "import os\n",
        "\n",
        "# Only the TensorFlow backend supports string inputs.\n",
        "os.environ[\"KERAS_BACKEND\"] = \"tensorflow\"\n",
        "\n",
        "import pathlib\n",
        "import numpy as np\n",
        "import tensorflow as tf\n",
        "import tensorflow.data as tf_data\n",
        "import keras\n",
        "from keras import layers"
      ]
    },
    {
      "cell_type": "markdown",
      "source": [
        "## Download the Newsgroup20 data"
      ],
      "metadata": {
        "id": "O7BxJ-OwnVJ1"
      }
    },
    {
      "cell_type": "code",
      "execution_count": 2,
      "metadata": {
        "colab": {
          "base_uri": "https://localhost:8080/"
        },
        "id": "r6nV-ag1cOxX",
        "outputId": "a8a80c78-7c66-4dcd-b561-3b0d65a8b6f8"
      },
      "outputs": [
        {
          "output_type": "stream",
          "name": "stdout",
          "text": [
            "Downloading data from http://www.cs.cmu.edu/afs/cs.cmu.edu/project/theo-20/www/data/news20.tar.gz\n",
            "17329808/17329808 [==============================] - 3s 0us/step\n"
          ]
        }
      ],
      "source": [
        "data_path = keras.utils.get_file(\n",
        "    \"news20.tar.gz\",\n",
        "    \"http://www.cs.cmu.edu/afs/cs.cmu.edu/project/theo-20/www/data/news20.tar.gz\",\n",
        "    untar=True)"
      ]
    },
    {
      "cell_type": "code",
      "execution_count": 3,
      "metadata": {
        "colab": {
          "base_uri": "https://localhost:8080/"
        },
        "id": "6FqxEWu1cXoX",
        "outputId": "d6f721a6-e3cb-4867-c995-e527d76100e0"
      },
      "outputs": [
        {
          "output_type": "stream",
          "name": "stdout",
          "text": [
            "Number of directories: 20\n",
            "Directory names: ['comp.windows.x', 'sci.electronics', 'alt.atheism', 'misc.forsale', 'rec.sport.hockey', 'talk.religion.misc', 'comp.graphics', 'comp.os.ms-windows.misc', 'sci.space', 'comp.sys.mac.hardware', 'talk.politics.guns', 'soc.religion.christian', 'comp.sys.ibm.pc.hardware', 'talk.politics.mideast', 'sci.med', 'sci.crypt', 'rec.autos', 'rec.motorcycles', 'talk.politics.misc', 'rec.sport.baseball']\n",
            "Number of files in comp.graphics: 1000\n",
            "Some example filenames: ['61010', '60217', '61208', '60910', '61221']\n"
          ]
        }
      ],
      "source": [
        "data_dir = pathlib.Path(data_path).parent / \"20_newsgroup\"\n",
        "dirnames = os.listdir(data_dir)\n",
        "print(\"Number of directories:\", len(dirnames))\n",
        "print(\"Directory names:\", dirnames)\n",
        "\n",
        "fnames = os.listdir(data_dir / \"sci.space\")\n",
        "print(\"Number of files in comp.graphics:\", len(fnames))\n",
        "print(\"Some example filenames:\", fnames[:5])"
      ]
    },
    {
      "cell_type": "code",
      "execution_count": 4,
      "metadata": {
        "colab": {
          "base_uri": "https://localhost:8080/"
        },
        "id": "IdHT69YFflX4",
        "outputId": "1df8be2d-5624-41af-e04d-b7d2699803e4"
      },
      "outputs": [
        {
          "output_type": "stream",
          "name": "stdout",
          "text": [
            "Path: cantaloupe.srv.cs.cmu.edu!rochester!udel!news.intercon.com!digex.com!digex.com!not-for-mail\n",
            "From: prb@access.digex.com (Pat)\n",
            "Newsgroups: sci.space\n",
            "Subject: Re: NAVSTAR positions\n",
            "Date: 21 Apr 1993 18:23:05 -0400\n",
            "Organization: Express Access Online Communications, Greenbelt, MD USA\n",
            "Lines: 7\n",
            "Message-ID: <1r4hg9$sgi@access.digex.net>\n",
            "References: <1993Apr19.063455.26363@ericsson.se>\n",
            "NNTP-Posting-Host: access.digex.net\n",
            "\n",
            "  C-3's bird may be flaking out and expecting to die soon.\n",
            "\n",
            "or C-3  may orbit over  major users areas, and it may be\n",
            "needed to provide  redundancy on that plane  while b-4  may orbit\n",
            "over hicksville, and not have muc of a user community.\n",
            "\n",
            "pat\n",
            "\n"
          ]
        }
      ],
      "source": [
        "print(open(data_dir / \"sci.space\" / \"61010\").read())"
      ]
    },
    {
      "cell_type": "markdown",
      "source": [
        "As you can see, there are header lines that are leaking the file's category, either\n",
        "explicitly (the first line is literally the category name), or implicitly, e.g. via the\n",
        "`Organization` filed. Let's get rid of the headers:"
      ],
      "metadata": {
        "id": "xXuJftYQnhTx"
      }
    },
    {
      "cell_type": "code",
      "execution_count": 5,
      "metadata": {
        "colab": {
          "base_uri": "https://localhost:8080/"
        },
        "id": "RzZ7puwZga_J",
        "outputId": "1f5a8fa5-b07f-4c62-93a8-89f1b2a7728e"
      },
      "outputs": [
        {
          "output_type": "stream",
          "name": "stdout",
          "text": [
            "Processing alt.atheism, 1000 files found\n",
            "Processing comp.graphics, 1000 files found\n",
            "Processing comp.os.ms-windows.misc, 1000 files found\n",
            "Processing comp.sys.ibm.pc.hardware, 1000 files found\n",
            "Processing comp.sys.mac.hardware, 1000 files found\n",
            "Processing comp.windows.x, 1000 files found\n",
            "Processing misc.forsale, 1000 files found\n",
            "Processing rec.autos, 1000 files found\n",
            "Processing rec.motorcycles, 1000 files found\n",
            "Processing rec.sport.baseball, 1000 files found\n",
            "Processing rec.sport.hockey, 1000 files found\n",
            "Processing sci.crypt, 1000 files found\n",
            "Processing sci.electronics, 1000 files found\n",
            "Processing sci.med, 1000 files found\n",
            "Processing sci.space, 1000 files found\n",
            "Processing soc.religion.christian, 997 files found\n",
            "Processing talk.politics.guns, 1000 files found\n",
            "Processing talk.politics.mideast, 1000 files found\n",
            "Processing talk.politics.misc, 1000 files found\n",
            "Processing talk.religion.misc, 1000 files found\n",
            "Classes: ['alt.atheism', 'comp.graphics', 'comp.os.ms-windows.misc', 'comp.sys.ibm.pc.hardware', 'comp.sys.mac.hardware', 'comp.windows.x', 'misc.forsale', 'rec.autos', 'rec.motorcycles', 'rec.sport.baseball', 'rec.sport.hockey', 'sci.crypt', 'sci.electronics', 'sci.med', 'sci.space', 'soc.religion.christian', 'talk.politics.guns', 'talk.politics.mideast', 'talk.politics.misc', 'talk.religion.misc']\n",
            "Number of samples: 19997\n"
          ]
        }
      ],
      "source": [
        "samples = []\n",
        "labels = []\n",
        "class_names = []\n",
        "class_index = 0\n",
        "for dirname in sorted(os.listdir(data_dir)):\n",
        "    class_names.append(dirname)\n",
        "    dirpath = data_dir / dirname\n",
        "    fnames = os.listdir(dirpath)\n",
        "    print(\"Processing %s, %d files found\" % (dirname, len(fnames)))\n",
        "    for fname in fnames:\n",
        "        fpath = dirpath / fname\n",
        "        f = open(fpath, encoding=\"latin-1\")\n",
        "        content = f.read()\n",
        "        lines = content.split(\"\\n\")\n",
        "        lines = lines[10:]\n",
        "        content = \"\\n\".join(lines)\n",
        "        samples.append(content)\n",
        "        labels.append(class_index)\n",
        "    class_index += 1\n",
        "\n",
        "print(\"Classes:\", class_names)\n",
        "print(\"Number of samples:\", len(samples))"
      ]
    },
    {
      "cell_type": "markdown",
      "source": [
        "There's actually one category that doesn't have the expected number of files, but the\n",
        "difference is small enough that the problem remains a balanced classification problem.\n",
        "\n",
        "\n",
        "\n",
        "## Shuffle and split the data into training & validation sets"
      ],
      "metadata": {
        "id": "_7kXaEFPnm5p"
      }
    },
    {
      "cell_type": "code",
      "source": [
        "# Shuffle the data\n",
        "seed = 1337\n",
        "rng = np.random.RandomState(seed)\n",
        "rng.shuffle(samples)\n",
        "rng = np.random.RandomState(seed)\n",
        "rng.shuffle(labels)\n",
        "\n",
        "# Extract a training & validation split\n",
        "validation_split = 0.2\n",
        "num_validation_samples = int(validation_split * len(samples))\n",
        "train_samples = samples[:-num_validation_samples]\n",
        "val_samples = samples[-num_validation_samples:]\n",
        "train_labels = labels[:-num_validation_samples]\n",
        "val_labels = labels[-num_validation_samples:]"
      ],
      "metadata": {
        "id": "6lRbGSXdM5fn"
      },
      "execution_count": 6,
      "outputs": []
    },
    {
      "cell_type": "code",
      "source": [
        "len(train_samples), len(val_samples)"
      ],
      "metadata": {
        "colab": {
          "base_uri": "https://localhost:8080/"
        },
        "id": "m_Pxvs59NPRU",
        "outputId": "26c7c085-3e21-4c93-9012-4768ff2c9020"
      },
      "execution_count": 7,
      "outputs": [
        {
          "output_type": "execute_result",
          "data": {
            "text/plain": [
              "(15998, 3999)"
            ]
          },
          "metadata": {},
          "execution_count": 7
        }
      ]
    },
    {
      "cell_type": "markdown",
      "source": [
        "## Create a vocabulary index\n",
        "\n",
        "Let's use the `TextVectorization` to index the vocabulary found in the dataset.\n",
        "Later, we'll use the same layer instance to vectorize the samples.\n",
        "\n",
        "Our layer will only consider the top 20,000 words, and will truncate or pad sequences to\n",
        "be actually 200 tokens long."
      ],
      "metadata": {
        "id": "cXvNQOJanusO"
      }
    },
    {
      "cell_type": "code",
      "source": [
        "vectorizer = layers.TextVectorization(max_tokens = 20000, output_sequence_length = 200)\n",
        "text_ds = tf_data.Dataset.from_tensor_slices(train_samples).batch(128)\n",
        "vectorizer.adapt(text_ds)"
      ],
      "metadata": {
        "id": "chgsoaTkNcn9"
      },
      "execution_count": 10,
      "outputs": []
    },
    {
      "cell_type": "code",
      "source": [
        "vectorizer.get_vocabulary()[:10]"
      ],
      "metadata": {
        "colab": {
          "base_uri": "https://localhost:8080/"
        },
        "id": "HI_pQXQRS8UK",
        "outputId": "1ad1946d-e522-42f1-9917-e6409d219b6c"
      },
      "execution_count": 12,
      "outputs": [
        {
          "output_type": "execute_result",
          "data": {
            "text/plain": [
              "['', '[UNK]', 'the', 'to', 'of', 'a', 'and', 'in', 'is', 'i']"
            ]
          },
          "metadata": {},
          "execution_count": 12
        }
      ]
    },
    {
      "cell_type": "code",
      "source": [
        "vectorizer([[\"He have cat the cat is black and dog is cute\"]]).numpy()[0,:11]"
      ],
      "metadata": {
        "colab": {
          "base_uri": "https://localhost:8080/"
        },
        "id": "b9Q0S_FQTGmg",
        "outputId": "d5d350a2-7750-40be-9517-868ab701dc6f"
      },
      "execution_count": 19,
      "outputs": [
        {
          "output_type": "execute_result",
          "data": {
            "text/plain": [
              "array([  46,   19, 3463,    2, 3463,    8,  579,    6, 1915,    8, 7406])"
            ]
          },
          "metadata": {},
          "execution_count": 19
        }
      ]
    },
    {
      "cell_type": "code",
      "source": [
        "voc = vectorizer.get_vocabulary()\n",
        "word_index = dict(zip(voc, range(len(voc))))"
      ],
      "metadata": {
        "id": "mhxDamerULPU"
      },
      "execution_count": 22,
      "outputs": []
    },
    {
      "cell_type": "code",
      "source": [
        "txt = [\"the\", \"cat\", \"on\", \"the\", \"mat\"]\n",
        "[word_index[w] for w in txt]"
      ],
      "metadata": {
        "colab": {
          "base_uri": "https://localhost:8080/"
        },
        "id": "0UL1wV0DXSPs",
        "outputId": "56ddf2d8-c546-4da4-ddc0-ff59b0658b64"
      },
      "execution_count": 28,
      "outputs": [
        {
          "output_type": "execute_result",
          "data": {
            "text/plain": [
              "[2, 3463, 15, 2, 8267]"
            ]
          },
          "metadata": {},
          "execution_count": 28
        }
      ]
    },
    {
      "cell_type": "markdown",
      "source": [
        "## Load pre-trained word embeddings\n",
        "\n",
        "\n",
        "\n",
        "Let's download pre-trained GloVe embeddings (a 822M zip file).\n",
        "\n",
        "You'll need to run the following commands:"
      ],
      "metadata": {
        "id": "hKc-GjAzn3nk"
      }
    },
    {
      "cell_type": "code",
      "source": [
        "!wget https://downloads.cs.stanford.edu/nlp/data/glove.6B.zip\n",
        "!unzip -q glove.6B.zip"
      ],
      "metadata": {
        "colab": {
          "base_uri": "https://localhost:8080/"
        },
        "id": "4duOE-yjZABM",
        "outputId": "5418880e-e5d6-4aa7-9f68-f54da0f2855d"
      },
      "execution_count": 29,
      "outputs": [
        {
          "output_type": "stream",
          "name": "stdout",
          "text": [
            "--2023-12-05 14:54:43--  https://downloads.cs.stanford.edu/nlp/data/glove.6B.zip\n",
            "Resolving downloads.cs.stanford.edu (downloads.cs.stanford.edu)... 171.64.64.22\n",
            "Connecting to downloads.cs.stanford.edu (downloads.cs.stanford.edu)|171.64.64.22|:443... connected.\n",
            "HTTP request sent, awaiting response... 200 OK\n",
            "Length: 862182613 (822M) [application/zip]\n",
            "Saving to: ‘glove.6B.zip’\n",
            "\n",
            "glove.6B.zip        100%[===================>] 822.24M  4.76MB/s    in 3m 23s  \n",
            "\n",
            "2023-12-05 14:58:07 (4.04 MB/s) - ‘glove.6B.zip’ saved [862182613/862182613]\n",
            "\n"
          ]
        }
      ]
    },
    {
      "cell_type": "markdown",
      "source": [
        "The archive contains text-encoded vectors of various sizes: 50-dimensional,\n",
        "100-dimensional, 200-dimensional, 300-dimensional. We'll use the 100D ones.\n",
        "\n",
        "Let's make a dict mapping words (strings) to their NumPy vector representation:"
      ],
      "metadata": {
        "id": "NEf9odEFn-63"
      }
    },
    {
      "cell_type": "code",
      "source": [
        "path_to_glove_file = \"glove.6B.100d.txt\"\n",
        "\n",
        "embeddings_index = {}\n",
        "with open(path_to_glove_file) as f:\n",
        "    for line in f:\n",
        "        word, coefs = line.split(maxsplit=1)\n",
        "        coefs = np.fromstring(coefs, \"f\", sep=\" \")\n",
        "        embeddings_index[word] = coefs\n",
        "\n",
        "print(\"Found %s word vectors.\" % len(embeddings_index))"
      ],
      "metadata": {
        "colab": {
          "base_uri": "https://localhost:8080/"
        },
        "id": "Gyhql1-3eYCm",
        "outputId": "ba89f38d-2373-4852-f121-aa8b63973aa7"
      },
      "execution_count": 30,
      "outputs": [
        {
          "output_type": "stream",
          "name": "stdout",
          "text": [
            "Found 400000 word vectors.\n"
          ]
        }
      ]
    },
    {
      "cell_type": "code",
      "source": [
        "len(coefs)"
      ],
      "metadata": {
        "colab": {
          "base_uri": "https://localhost:8080/"
        },
        "id": "JO7rmFWWfxAo",
        "outputId": "4b4eeb60-f110-407e-eb79-95680e811925"
      },
      "execution_count": 33,
      "outputs": [
        {
          "output_type": "execute_result",
          "data": {
            "text/plain": [
              "100"
            ]
          },
          "metadata": {},
          "execution_count": 33
        }
      ]
    },
    {
      "cell_type": "markdown",
      "source": [
        "Now, let's prepare a corresponding embedding matrix that we can use in a Keras\n",
        "`Embedding` layer. It's a simple NumPy matrix where entry at index `i` is the pre-trained\n",
        "vector for the word of index `i` in our `vectorizer`'s vocabulary."
      ],
      "metadata": {
        "id": "Tle04XmAoCGG"
      }
    },
    {
      "cell_type": "code",
      "source": [
        "num_tokens = len(voc) + 2\n",
        "embedding_dim = 100\n",
        "hits = 0\n",
        "misses = 0\n",
        "\n",
        "# Prepare embedding matrix\n",
        "embedding_matrix = np.zeros((num_tokens, embedding_dim))\n",
        "for word, i in word_index.items():\n",
        "    embedding_vector = embeddings_index.get(word)\n",
        "    if embedding_vector is not None:\n",
        "        # Words not found in embedding index will be all-zeros.\n",
        "        # This includes the representation for \"padding\" and \"OOV\"\n",
        "        embedding_matrix[i] = embedding_vector\n",
        "        hits += 1\n",
        "    else:\n",
        "        misses += 1\n",
        "print(\"Converted %d words (%d misses)\" % (hits, misses))"
      ],
      "metadata": {
        "colab": {
          "base_uri": "https://localhost:8080/"
        },
        "id": "PcB6j390iC4q",
        "outputId": "7cee61a7-b1c0-4e93-ba73-5d820bda6ee2"
      },
      "execution_count": 40,
      "outputs": [
        {
          "output_type": "stream",
          "name": "stdout",
          "text": [
            "Converted 17981 words (2019 misses)\n"
          ]
        }
      ]
    },
    {
      "cell_type": "markdown",
      "source": [
        "Next, we load the pre-trained word embeddings matrix into an `Embedding` layer.\n",
        "\n",
        "Note that we set `trainable=False` so as to keep the embeddings fixed (we don't want to\n",
        "update them during training)."
      ],
      "metadata": {
        "id": "NkVEXFO3oL8O"
      }
    },
    {
      "cell_type": "code",
      "source": [
        "embedding_layer = layers.Embedding(num_tokens, embedding_dim, trainable = False)\n",
        "embedding_layer.build((1,))\n",
        "embedding_layer.set_weights([embedding_matrix])"
      ],
      "metadata": {
        "id": "i4LS4Gq8jMHZ"
      },
      "execution_count": 43,
      "outputs": []
    },
    {
      "cell_type": "code",
      "source": [
        "inputs = keras.Input(shape=(None,), dtype=\"int32\")\n",
        "embedded_sequences = embedding_layer(inputs)\n",
        "x = layers.Conv1D(128, 5, activation=\"relu\")(embedded_sequences)\n",
        "x = layers.MaxPooling1D(5)(x)\n",
        "x = layers.Conv1D(128, 5, activation=\"relu\")(x)\n",
        "x = layers.MaxPooling1D(5)(x)\n",
        "x = layers.Conv1D(128, 5, activation=\"relu\")(x)\n",
        "x = layers.GlobalMaxPooling1D()(x)\n",
        "x = layers.Dense(128, activation=\"relu\")(x)\n",
        "x = layers.Dropout(0.5)(x)\n",
        "outputs = layers.Dense(len(class_names), activation=\"softmax\")(x)\n",
        "model = keras.Model(inputs, outputs)\n",
        "model.summary()"
      ],
      "metadata": {
        "colab": {
          "base_uri": "https://localhost:8080/"
        },
        "id": "pbrIEreqlPI7",
        "outputId": "268b9d94-805a-4301-da3b-cbfaae34d148"
      },
      "execution_count": 45,
      "outputs": [
        {
          "output_type": "stream",
          "name": "stdout",
          "text": [
            "Model: \"model\"\n",
            "_________________________________________________________________\n",
            " Layer (type)                Output Shape              Param #   \n",
            "=================================================================\n",
            " input_2 (InputLayer)        [(None, None)]            0         \n",
            "                                                                 \n",
            " embedding_1 (Embedding)     (None, None, 100)         2000200   \n",
            "                                                                 \n",
            " conv1d (Conv1D)             (None, None, 128)         64128     \n",
            "                                                                 \n",
            " max_pooling1d (MaxPooling1  (None, None, 128)         0         \n",
            " D)                                                              \n",
            "                                                                 \n",
            " conv1d_1 (Conv1D)           (None, None, 128)         82048     \n",
            "                                                                 \n",
            " max_pooling1d_1 (MaxPoolin  (None, None, 128)         0         \n",
            " g1D)                                                            \n",
            "                                                                 \n",
            " conv1d_2 (Conv1D)           (None, None, 128)         82048     \n",
            "                                                                 \n",
            " global_max_pooling1d (Glob  (None, 128)               0         \n",
            " alMaxPooling1D)                                                 \n",
            "                                                                 \n",
            " dense (Dense)               (None, 128)               16512     \n",
            "                                                                 \n",
            " dropout (Dropout)           (None, 128)               0         \n",
            "                                                                 \n",
            " dense_1 (Dense)             (None, 20)                2580      \n",
            "                                                                 \n",
            "=================================================================\n",
            "Total params: 2247516 (8.57 MB)\n",
            "Trainable params: 247316 (966.08 KB)\n",
            "Non-trainable params: 2000200 (7.63 MB)\n",
            "_________________________________________________________________\n"
          ]
        }
      ]
    },
    {
      "cell_type": "markdown",
      "source": [
        "## Train the model\n",
        "\n",
        "First, convert our list-of-strings data to NumPy arrays of integer indices. The arrays\n",
        "are right-padded."
      ],
      "metadata": {
        "id": "4Bu9VCyKoUwU"
      }
    },
    {
      "cell_type": "code",
      "source": [
        "x_train = vectorizer(np.array([[s] for s in train_samples])).numpy()\n",
        "x_val = vectorizer(np.array([[s] for s in val_samples])).numpy()\n",
        "\n",
        "y_train = np.array(train_labels)\n",
        "y_val = np.array(val_labels)"
      ],
      "metadata": {
        "id": "hbDbWokamF_U"
      },
      "execution_count": 46,
      "outputs": []
    },
    {
      "cell_type": "markdown",
      "source": [
        "We use categorical crossentropy as our loss since we're doing softmax classification.\n",
        "Moreover, we use `sparse_categorical_crossentropy` since our labels are integers."
      ],
      "metadata": {
        "id": "M0qLBFRAoZxl"
      }
    },
    {
      "cell_type": "code",
      "source": [
        "model.compile(\n",
        "    loss=\"sparse_categorical_crossentropy\", optimizer=\"rmsprop\", metrics=[\"acc\"])\n",
        "model.fit(x_train, y_train, batch_size=128, epochs=20, validation_data=(x_val, y_val))"
      ],
      "metadata": {
        "colab": {
          "base_uri": "https://localhost:8080/"
        },
        "id": "r-f4TmiUmHOr",
        "outputId": "a5411fd7-ea15-42ef-f588-689fae7ed7c2"
      },
      "execution_count": 47,
      "outputs": [
        {
          "output_type": "stream",
          "name": "stdout",
          "text": [
            "Epoch 1/20\n",
            "125/125 [==============================] - 33s 250ms/step - loss: 2.7001 - acc: 0.1330 - val_loss: 2.1454 - val_acc: 0.2491\n",
            "Epoch 2/20\n",
            "125/125 [==============================] - 29s 232ms/step - loss: 2.0050 - acc: 0.3017 - val_loss: 1.6471 - val_acc: 0.4246\n",
            "Epoch 3/20\n",
            "125/125 [==============================] - 33s 264ms/step - loss: 1.5807 - acc: 0.4529 - val_loss: 1.3427 - val_acc: 0.5396\n",
            "Epoch 4/20\n",
            "125/125 [==============================] - 32s 258ms/step - loss: 1.3298 - acc: 0.5424 - val_loss: 1.1808 - val_acc: 0.5959\n",
            "Epoch 5/20\n",
            "125/125 [==============================] - 28s 224ms/step - loss: 1.1647 - acc: 0.6054 - val_loss: 1.0985 - val_acc: 0.6342\n",
            "Epoch 6/20\n",
            "125/125 [==============================] - 29s 229ms/step - loss: 1.0176 - acc: 0.6523 - val_loss: 1.0555 - val_acc: 0.6369\n",
            "Epoch 7/20\n",
            "125/125 [==============================] - 30s 241ms/step - loss: 0.9105 - acc: 0.6843 - val_loss: 1.1734 - val_acc: 0.6369\n",
            "Epoch 8/20\n",
            "125/125 [==============================] - 29s 230ms/step - loss: 0.8113 - acc: 0.7187 - val_loss: 1.1185 - val_acc: 0.6322\n",
            "Epoch 9/20\n",
            "125/125 [==============================] - 28s 227ms/step - loss: 0.7165 - acc: 0.7502 - val_loss: 1.0188 - val_acc: 0.6719\n",
            "Epoch 10/20\n",
            "125/125 [==============================] - 32s 260ms/step - loss: 0.6261 - acc: 0.7848 - val_loss: 1.0540 - val_acc: 0.6764\n",
            "Epoch 11/20\n",
            "125/125 [==============================] - 29s 234ms/step - loss: 0.5568 - acc: 0.8097 - val_loss: 0.9731 - val_acc: 0.7039\n",
            "Epoch 12/20\n",
            "125/125 [==============================] - 30s 239ms/step - loss: 0.4921 - acc: 0.8328 - val_loss: 1.0233 - val_acc: 0.6977\n",
            "Epoch 13/20\n",
            "125/125 [==============================] - 32s 253ms/step - loss: 0.4238 - acc: 0.8559 - val_loss: 1.1492 - val_acc: 0.6922\n",
            "Epoch 14/20\n",
            "125/125 [==============================] - 32s 257ms/step - loss: 0.3787 - acc: 0.8689 - val_loss: 1.0980 - val_acc: 0.7054\n",
            "Epoch 15/20\n",
            "125/125 [==============================] - 33s 265ms/step - loss: 0.3300 - acc: 0.8869 - val_loss: 1.0759 - val_acc: 0.7157\n",
            "Epoch 16/20\n",
            "125/125 [==============================] - 32s 257ms/step - loss: 0.2939 - acc: 0.8997 - val_loss: 1.1802 - val_acc: 0.7057\n",
            "Epoch 17/20\n",
            "125/125 [==============================] - 31s 247ms/step - loss: 0.2619 - acc: 0.9132 - val_loss: 1.1935 - val_acc: 0.7107\n",
            "Epoch 18/20\n",
            "125/125 [==============================] - 28s 228ms/step - loss: 0.2407 - acc: 0.9216 - val_loss: 1.3072 - val_acc: 0.7019\n",
            "Epoch 19/20\n",
            "125/125 [==============================] - 33s 262ms/step - loss: 0.2279 - acc: 0.9226 - val_loss: 1.3479 - val_acc: 0.6922\n",
            "Epoch 20/20\n",
            "125/125 [==============================] - 42s 338ms/step - loss: 0.2029 - acc: 0.9342 - val_loss: 1.5537 - val_acc: 0.6937\n"
          ]
        },
        {
          "output_type": "execute_result",
          "data": {
            "text/plain": [
              "<keras.src.callbacks.History at 0x7fe71df441c0>"
            ]
          },
          "metadata": {},
          "execution_count": 47
        }
      ]
    },
    {
      "cell_type": "markdown",
      "source": [
        "## Export an end-to-end model\n",
        "\n",
        "Now, we may want to export a `Model` object that takes as input a string of arbitrary\n",
        "length, rather than a sequence of indices. It would make the model much more portable,\n",
        "since you wouldn't have to worry about the input preprocessing pipeline.\n",
        "\n",
        "Our `vectorizer` is actually a Keras layer, so it's simple:"
      ],
      "metadata": {
        "id": "kV0PNy13oe44"
      }
    },
    {
      "cell_type": "code",
      "source": [
        "string_input = keras.Input(shape=(1,), dtype=\"string\")\n",
        "x = vectorizer(string_input)\n",
        "preds = model(x)\n",
        "end_to_end_model = keras.Model(string_input, preds)\n",
        "\n",
        "probabilities = end_to_end_model(\n",
        "    tf.convert_to_tensor(\n",
        "        [[\"this message is about computer graphics and 3D modeling\"]]\n",
        "    )\n",
        ")\n",
        "\n",
        "print(class_names[np.argmax(probabilities[0])])"
      ],
      "metadata": {
        "colab": {
          "base_uri": "https://localhost:8080/"
        },
        "id": "AznJXM4KmfcX",
        "outputId": "9a1e001a-64b4-4fdf-cbde-0d14c92272bd"
      },
      "execution_count": 51,
      "outputs": [
        {
          "output_type": "stream",
          "name": "stdout",
          "text": [
            "comp.graphics\n"
          ]
        }
      ]
    }
  ],
  "metadata": {
    "colab": {
      "provenance": [],
      "include_colab_link": true
    },
    "kernelspec": {
      "display_name": "Python 3",
      "name": "python3"
    },
    "language_info": {
      "codemirror_mode": {
        "name": "ipython",
        "version": 3
      },
      "file_extension": ".py",
      "mimetype": "text/x-python",
      "name": "python",
      "nbconvert_exporter": "python",
      "pygments_lexer": "ipython3",
      "version": "3.10.12"
    }
  },
  "nbformat": 4,
  "nbformat_minor": 0
}