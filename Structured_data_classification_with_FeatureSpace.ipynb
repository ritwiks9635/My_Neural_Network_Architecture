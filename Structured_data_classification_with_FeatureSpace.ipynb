{
  "cells": [
    {
      "cell_type": "markdown",
      "metadata": {
        "id": "view-in-github",
        "colab_type": "text"
      },
      "source": [
        "<a href=\"https://colab.research.google.com/github/ritwiks9635/My_Neural_Network_Architecture/blob/main/Structured_data_classification_with_FeatureSpace.ipynb\" target=\"_parent\"><img src=\"https://colab.research.google.com/assets/colab-badge.svg\" alt=\"Open In Colab\"/></a>"
      ]
    },
    {
      "cell_type": "markdown",
      "source": [
        "#**Structured data classification with FeatureSpace**"
      ],
      "metadata": {
        "id": "YJvUrTZkSL3Z"
      }
    },
    {
      "cell_type": "markdown",
      "source": [
        "## Introduction\n",
        "\n",
        "This example demonstrates how to do structured data classification\n",
        "(also known as tabular data classification), starting from a raw\n",
        "CSV file. Our data includes numerical features,\n",
        "and integer categorical features, and string categorical features.\n",
        "We will use the utility `keras.utils.FeatureSpace` to index,\n",
        "preprocess, and encode our features.\n",
        "\n",
        "The code is adapted from the example\n",
        "[Structured data classification from scratch](https://keras.io/examples/structured_data/structured_data_classification_from_scratch/).\n",
        "While the previous example managed its own low-level feature preprocessing and\n",
        "encoding with Keras preprocessing layers, in this example we\n",
        "delegate everything to `FeatureSpace`, making the workflow\n",
        "extremely quick and easy.\n",
        "\n",
        "### The dataset\n",
        "\n",
        "[Our dataset](https://archive.ics.uci.edu/ml/datasets/heart+Disease) is provided by the\n",
        "Cleveland Clinic Foundation for Heart Disease.\n",
        "It's a CSV file with 303 rows. Each row contains information about a patient (a\n",
        "**sample**), and each column describes an attribute of the patient (a **feature**). We\n",
        "use the features to predict whether a patient has a heart disease\n",
        "(**binary classification**).\n",
        "\n",
        "Here's the description of each feature:\n",
        "\n",
        "Column| Description| Feature Type\n",
        "------------|--------------------|----------------------\n",
        "Age | Age in years | Numerical\n",
        "Sex | (1 = male; 0 = female) | Categorical\n",
        "CP | Chest pain type (0, 1, 2, 3, 4) | Categorical\n",
        "Trestbpd | Resting blood pressure (in mm Hg on admission) | Numerical\n",
        "Chol | Serum cholesterol in mg/dl | Numerical\n",
        "FBS | fasting blood sugar in 120 mg/dl (1 = true; 0 = false) | Categorical\n",
        "RestECG | Resting electrocardiogram results (0, 1, 2) | Categorical\n",
        "Thalach | Maximum heart rate achieved | Numerical\n",
        "Exang | Exercise induced angina (1 = yes; 0 = no) | Categorical\n",
        "Oldpeak | ST depression induced by exercise relative to rest | Numerical\n",
        "Slope | Slope of the peak exercise ST segment | Numerical\n",
        "CA | Number of major vessels (0-3) colored by fluoroscopy | Both numerical & categorical\n",
        "Thal | 3 = normal; 6 = fixed defect; 7 = reversible defect | Categorical\n",
        "Target | Diagnosis of heart disease (1 = true; 0 = false) | Target"
      ],
      "metadata": {
        "id": "YlZla901sby7"
      }
    },
    {
      "cell_type": "code",
      "source": [
        "import os\n",
        "\n",
        "os.environ[\"KERAS_BACKEND\"] = \"tensorflow\"\n",
        "\n",
        "import tensorflow as tf\n",
        "import pandas as pd\n",
        "import keras\n",
        "from keras.utils import FeatureSpace"
      ],
      "metadata": {
        "id": "5kb3QoP8U8z0"
      },
      "execution_count": 1,
      "outputs": []
    },
    {
      "cell_type": "code",
      "source": [
        "file_url = \"http://storage.googleapis.com/download.tensorflow.org/data/heart.csv\"\n",
        "dataframe = pd.read_csv(file_url)"
      ],
      "metadata": {
        "id": "KZ8_ybwDVUAO"
      },
      "execution_count": 2,
      "outputs": []
    },
    {
      "cell_type": "code",
      "source": [
        "dataframe.head()"
      ],
      "metadata": {
        "colab": {
          "base_uri": "https://localhost:8080/",
          "height": 226
        },
        "id": "OzA4SSt3Vcql",
        "outputId": "c97d8c2e-e492-47b5-d851-bf447233e89b"
      },
      "execution_count": 4,
      "outputs": [
        {
          "output_type": "execute_result",
          "data": {
            "text/plain": [
              "   age  sex  cp  trestbps  chol  fbs  restecg  thalach  exang  oldpeak  slope  \\\n",
              "0   63    1   1       145   233    1        2      150      0      2.3      3   \n",
              "1   67    1   4       160   286    0        2      108      1      1.5      2   \n",
              "2   67    1   4       120   229    0        2      129      1      2.6      2   \n",
              "3   37    1   3       130   250    0        0      187      0      3.5      3   \n",
              "4   41    0   2       130   204    0        2      172      0      1.4      1   \n",
              "\n",
              "   ca        thal  target  \n",
              "0   0       fixed       0  \n",
              "1   3      normal       1  \n",
              "2   2  reversible       0  \n",
              "3   0      normal       0  \n",
              "4   0      normal       0  "
            ],
            "text/html": [
              "\n",
              "  <div id=\"df-06cab745-6d3c-4a3b-92d3-126aa75f865b\" class=\"colab-df-container\">\n",
              "    <div>\n",
              "<style scoped>\n",
              "    .dataframe tbody tr th:only-of-type {\n",
              "        vertical-align: middle;\n",
              "    }\n",
              "\n",
              "    .dataframe tbody tr th {\n",
              "        vertical-align: top;\n",
              "    }\n",
              "\n",
              "    .dataframe thead th {\n",
              "        text-align: right;\n",
              "    }\n",
              "</style>\n",
              "<table border=\"1\" class=\"dataframe\">\n",
              "  <thead>\n",
              "    <tr style=\"text-align: right;\">\n",
              "      <th></th>\n",
              "      <th>age</th>\n",
              "      <th>sex</th>\n",
              "      <th>cp</th>\n",
              "      <th>trestbps</th>\n",
              "      <th>chol</th>\n",
              "      <th>fbs</th>\n",
              "      <th>restecg</th>\n",
              "      <th>thalach</th>\n",
              "      <th>exang</th>\n",
              "      <th>oldpeak</th>\n",
              "      <th>slope</th>\n",
              "      <th>ca</th>\n",
              "      <th>thal</th>\n",
              "      <th>target</th>\n",
              "    </tr>\n",
              "  </thead>\n",
              "  <tbody>\n",
              "    <tr>\n",
              "      <th>0</th>\n",
              "      <td>63</td>\n",
              "      <td>1</td>\n",
              "      <td>1</td>\n",
              "      <td>145</td>\n",
              "      <td>233</td>\n",
              "      <td>1</td>\n",
              "      <td>2</td>\n",
              "      <td>150</td>\n",
              "      <td>0</td>\n",
              "      <td>2.3</td>\n",
              "      <td>3</td>\n",
              "      <td>0</td>\n",
              "      <td>fixed</td>\n",
              "      <td>0</td>\n",
              "    </tr>\n",
              "    <tr>\n",
              "      <th>1</th>\n",
              "      <td>67</td>\n",
              "      <td>1</td>\n",
              "      <td>4</td>\n",
              "      <td>160</td>\n",
              "      <td>286</td>\n",
              "      <td>0</td>\n",
              "      <td>2</td>\n",
              "      <td>108</td>\n",
              "      <td>1</td>\n",
              "      <td>1.5</td>\n",
              "      <td>2</td>\n",
              "      <td>3</td>\n",
              "      <td>normal</td>\n",
              "      <td>1</td>\n",
              "    </tr>\n",
              "    <tr>\n",
              "      <th>2</th>\n",
              "      <td>67</td>\n",
              "      <td>1</td>\n",
              "      <td>4</td>\n",
              "      <td>120</td>\n",
              "      <td>229</td>\n",
              "      <td>0</td>\n",
              "      <td>2</td>\n",
              "      <td>129</td>\n",
              "      <td>1</td>\n",
              "      <td>2.6</td>\n",
              "      <td>2</td>\n",
              "      <td>2</td>\n",
              "      <td>reversible</td>\n",
              "      <td>0</td>\n",
              "    </tr>\n",
              "    <tr>\n",
              "      <th>3</th>\n",
              "      <td>37</td>\n",
              "      <td>1</td>\n",
              "      <td>3</td>\n",
              "      <td>130</td>\n",
              "      <td>250</td>\n",
              "      <td>0</td>\n",
              "      <td>0</td>\n",
              "      <td>187</td>\n",
              "      <td>0</td>\n",
              "      <td>3.5</td>\n",
              "      <td>3</td>\n",
              "      <td>0</td>\n",
              "      <td>normal</td>\n",
              "      <td>0</td>\n",
              "    </tr>\n",
              "    <tr>\n",
              "      <th>4</th>\n",
              "      <td>41</td>\n",
              "      <td>0</td>\n",
              "      <td>2</td>\n",
              "      <td>130</td>\n",
              "      <td>204</td>\n",
              "      <td>0</td>\n",
              "      <td>2</td>\n",
              "      <td>172</td>\n",
              "      <td>0</td>\n",
              "      <td>1.4</td>\n",
              "      <td>1</td>\n",
              "      <td>0</td>\n",
              "      <td>normal</td>\n",
              "      <td>0</td>\n",
              "    </tr>\n",
              "  </tbody>\n",
              "</table>\n",
              "</div>\n",
              "    <div class=\"colab-df-buttons\">\n",
              "\n",
              "  <div class=\"colab-df-container\">\n",
              "    <button class=\"colab-df-convert\" onclick=\"convertToInteractive('df-06cab745-6d3c-4a3b-92d3-126aa75f865b')\"\n",
              "            title=\"Convert this dataframe to an interactive table.\"\n",
              "            style=\"display:none;\">\n",
              "\n",
              "  <svg xmlns=\"http://www.w3.org/2000/svg\" height=\"24px\" viewBox=\"0 -960 960 960\">\n",
              "    <path d=\"M120-120v-720h720v720H120Zm60-500h600v-160H180v160Zm220 220h160v-160H400v160Zm0 220h160v-160H400v160ZM180-400h160v-160H180v160Zm440 0h160v-160H620v160ZM180-180h160v-160H180v160Zm440 0h160v-160H620v160Z\"/>\n",
              "  </svg>\n",
              "    </button>\n",
              "\n",
              "  <style>\n",
              "    .colab-df-container {\n",
              "      display:flex;\n",
              "      gap: 12px;\n",
              "    }\n",
              "\n",
              "    .colab-df-convert {\n",
              "      background-color: #E8F0FE;\n",
              "      border: none;\n",
              "      border-radius: 50%;\n",
              "      cursor: pointer;\n",
              "      display: none;\n",
              "      fill: #1967D2;\n",
              "      height: 32px;\n",
              "      padding: 0 0 0 0;\n",
              "      width: 32px;\n",
              "    }\n",
              "\n",
              "    .colab-df-convert:hover {\n",
              "      background-color: #E2EBFA;\n",
              "      box-shadow: 0px 1px 2px rgba(60, 64, 67, 0.3), 0px 1px 3px 1px rgba(60, 64, 67, 0.15);\n",
              "      fill: #174EA6;\n",
              "    }\n",
              "\n",
              "    .colab-df-buttons div {\n",
              "      margin-bottom: 4px;\n",
              "    }\n",
              "\n",
              "    [theme=dark] .colab-df-convert {\n",
              "      background-color: #3B4455;\n",
              "      fill: #D2E3FC;\n",
              "    }\n",
              "\n",
              "    [theme=dark] .colab-df-convert:hover {\n",
              "      background-color: #434B5C;\n",
              "      box-shadow: 0px 1px 3px 1px rgba(0, 0, 0, 0.15);\n",
              "      filter: drop-shadow(0px 1px 2px rgba(0, 0, 0, 0.3));\n",
              "      fill: #FFFFFF;\n",
              "    }\n",
              "  </style>\n",
              "\n",
              "    <script>\n",
              "      const buttonEl =\n",
              "        document.querySelector('#df-06cab745-6d3c-4a3b-92d3-126aa75f865b button.colab-df-convert');\n",
              "      buttonEl.style.display =\n",
              "        google.colab.kernel.accessAllowed ? 'block' : 'none';\n",
              "\n",
              "      async function convertToInteractive(key) {\n",
              "        const element = document.querySelector('#df-06cab745-6d3c-4a3b-92d3-126aa75f865b');\n",
              "        const dataTable =\n",
              "          await google.colab.kernel.invokeFunction('convertToInteractive',\n",
              "                                                    [key], {});\n",
              "        if (!dataTable) return;\n",
              "\n",
              "        const docLinkHtml = 'Like what you see? Visit the ' +\n",
              "          '<a target=\"_blank\" href=https://colab.research.google.com/notebooks/data_table.ipynb>data table notebook</a>'\n",
              "          + ' to learn more about interactive tables.';\n",
              "        element.innerHTML = '';\n",
              "        dataTable['output_type'] = 'display_data';\n",
              "        await google.colab.output.renderOutput(dataTable, element);\n",
              "        const docLink = document.createElement('div');\n",
              "        docLink.innerHTML = docLinkHtml;\n",
              "        element.appendChild(docLink);\n",
              "      }\n",
              "    </script>\n",
              "  </div>\n",
              "\n",
              "\n",
              "<div id=\"df-328e69eb-199e-495d-b556-5d57b99e9d8d\">\n",
              "  <button class=\"colab-df-quickchart\" onclick=\"quickchart('df-328e69eb-199e-495d-b556-5d57b99e9d8d')\"\n",
              "            title=\"Suggest charts\"\n",
              "            style=\"display:none;\">\n",
              "\n",
              "<svg xmlns=\"http://www.w3.org/2000/svg\" height=\"24px\"viewBox=\"0 0 24 24\"\n",
              "     width=\"24px\">\n",
              "    <g>\n",
              "        <path d=\"M19 3H5c-1.1 0-2 .9-2 2v14c0 1.1.9 2 2 2h14c1.1 0 2-.9 2-2V5c0-1.1-.9-2-2-2zM9 17H7v-7h2v7zm4 0h-2V7h2v10zm4 0h-2v-4h2v4z\"/>\n",
              "    </g>\n",
              "</svg>\n",
              "  </button>\n",
              "\n",
              "<style>\n",
              "  .colab-df-quickchart {\n",
              "      --bg-color: #E8F0FE;\n",
              "      --fill-color: #1967D2;\n",
              "      --hover-bg-color: #E2EBFA;\n",
              "      --hover-fill-color: #174EA6;\n",
              "      --disabled-fill-color: #AAA;\n",
              "      --disabled-bg-color: #DDD;\n",
              "  }\n",
              "\n",
              "  [theme=dark] .colab-df-quickchart {\n",
              "      --bg-color: #3B4455;\n",
              "      --fill-color: #D2E3FC;\n",
              "      --hover-bg-color: #434B5C;\n",
              "      --hover-fill-color: #FFFFFF;\n",
              "      --disabled-bg-color: #3B4455;\n",
              "      --disabled-fill-color: #666;\n",
              "  }\n",
              "\n",
              "  .colab-df-quickchart {\n",
              "    background-color: var(--bg-color);\n",
              "    border: none;\n",
              "    border-radius: 50%;\n",
              "    cursor: pointer;\n",
              "    display: none;\n",
              "    fill: var(--fill-color);\n",
              "    height: 32px;\n",
              "    padding: 0;\n",
              "    width: 32px;\n",
              "  }\n",
              "\n",
              "  .colab-df-quickchart:hover {\n",
              "    background-color: var(--hover-bg-color);\n",
              "    box-shadow: 0 1px 2px rgba(60, 64, 67, 0.3), 0 1px 3px 1px rgba(60, 64, 67, 0.15);\n",
              "    fill: var(--button-hover-fill-color);\n",
              "  }\n",
              "\n",
              "  .colab-df-quickchart-complete:disabled,\n",
              "  .colab-df-quickchart-complete:disabled:hover {\n",
              "    background-color: var(--disabled-bg-color);\n",
              "    fill: var(--disabled-fill-color);\n",
              "    box-shadow: none;\n",
              "  }\n",
              "\n",
              "  .colab-df-spinner {\n",
              "    border: 2px solid var(--fill-color);\n",
              "    border-color: transparent;\n",
              "    border-bottom-color: var(--fill-color);\n",
              "    animation:\n",
              "      spin 1s steps(1) infinite;\n",
              "  }\n",
              "\n",
              "  @keyframes spin {\n",
              "    0% {\n",
              "      border-color: transparent;\n",
              "      border-bottom-color: var(--fill-color);\n",
              "      border-left-color: var(--fill-color);\n",
              "    }\n",
              "    20% {\n",
              "      border-color: transparent;\n",
              "      border-left-color: var(--fill-color);\n",
              "      border-top-color: var(--fill-color);\n",
              "    }\n",
              "    30% {\n",
              "      border-color: transparent;\n",
              "      border-left-color: var(--fill-color);\n",
              "      border-top-color: var(--fill-color);\n",
              "      border-right-color: var(--fill-color);\n",
              "    }\n",
              "    40% {\n",
              "      border-color: transparent;\n",
              "      border-right-color: var(--fill-color);\n",
              "      border-top-color: var(--fill-color);\n",
              "    }\n",
              "    60% {\n",
              "      border-color: transparent;\n",
              "      border-right-color: var(--fill-color);\n",
              "    }\n",
              "    80% {\n",
              "      border-color: transparent;\n",
              "      border-right-color: var(--fill-color);\n",
              "      border-bottom-color: var(--fill-color);\n",
              "    }\n",
              "    90% {\n",
              "      border-color: transparent;\n",
              "      border-bottom-color: var(--fill-color);\n",
              "    }\n",
              "  }\n",
              "</style>\n",
              "\n",
              "  <script>\n",
              "    async function quickchart(key) {\n",
              "      const quickchartButtonEl =\n",
              "        document.querySelector('#' + key + ' button');\n",
              "      quickchartButtonEl.disabled = true;  // To prevent multiple clicks.\n",
              "      quickchartButtonEl.classList.add('colab-df-spinner');\n",
              "      try {\n",
              "        const charts = await google.colab.kernel.invokeFunction(\n",
              "            'suggestCharts', [key], {});\n",
              "      } catch (error) {\n",
              "        console.error('Error during call to suggestCharts:', error);\n",
              "      }\n",
              "      quickchartButtonEl.classList.remove('colab-df-spinner');\n",
              "      quickchartButtonEl.classList.add('colab-df-quickchart-complete');\n",
              "    }\n",
              "    (() => {\n",
              "      let quickchartButtonEl =\n",
              "        document.querySelector('#df-328e69eb-199e-495d-b556-5d57b99e9d8d button');\n",
              "      quickchartButtonEl.style.display =\n",
              "        google.colab.kernel.accessAllowed ? 'block' : 'none';\n",
              "    })();\n",
              "  </script>\n",
              "</div>\n",
              "\n",
              "    </div>\n",
              "  </div>\n"
            ]
          },
          "metadata": {},
          "execution_count": 4
        }
      ]
    },
    {
      "cell_type": "code",
      "source": [
        "dataframe.info()"
      ],
      "metadata": {
        "colab": {
          "base_uri": "https://localhost:8080/"
        },
        "id": "JZv4oqPJVtwh",
        "outputId": "cca39f1a-561c-474d-958a-43b4aca28e4a"
      },
      "execution_count": 5,
      "outputs": [
        {
          "output_type": "stream",
          "name": "stdout",
          "text": [
            "<class 'pandas.core.frame.DataFrame'>\n",
            "RangeIndex: 303 entries, 0 to 302\n",
            "Data columns (total 14 columns):\n",
            " #   Column    Non-Null Count  Dtype  \n",
            "---  ------    --------------  -----  \n",
            " 0   age       303 non-null    int64  \n",
            " 1   sex       303 non-null    int64  \n",
            " 2   cp        303 non-null    int64  \n",
            " 3   trestbps  303 non-null    int64  \n",
            " 4   chol      303 non-null    int64  \n",
            " 5   fbs       303 non-null    int64  \n",
            " 6   restecg   303 non-null    int64  \n",
            " 7   thalach   303 non-null    int64  \n",
            " 8   exang     303 non-null    int64  \n",
            " 9   oldpeak   303 non-null    float64\n",
            " 10  slope     303 non-null    int64  \n",
            " 11  ca        303 non-null    int64  \n",
            " 12  thal      303 non-null    object \n",
            " 13  target    303 non-null    int64  \n",
            "dtypes: float64(1), int64(12), object(1)\n",
            "memory usage: 33.3+ KB\n"
          ]
        }
      ]
    },
    {
      "cell_type": "markdown",
      "source": [
        "The dataset includes 303 samples with 14 columns per sample\n",
        "(13 features, plus the target label):"
      ],
      "metadata": {
        "id": "WcPRLvXfslIJ"
      }
    },
    {
      "cell_type": "code",
      "source": [
        "dataframe.shape"
      ],
      "metadata": {
        "colab": {
          "base_uri": "https://localhost:8080/"
        },
        "id": "JAmepeNfVYkA",
        "outputId": "f2b567e2-7b22-4a0a-a036-7cb4bef04cf0"
      },
      "execution_count": 3,
      "outputs": [
        {
          "output_type": "execute_result",
          "data": {
            "text/plain": [
              "(303, 14)"
            ]
          },
          "metadata": {},
          "execution_count": 3
        }
      ]
    },
    {
      "cell_type": "code",
      "source": [
        "val_dataframe = dataframe.sample(frac = 0.2, random_state = 1337)\n",
        "train_dataframe = dataframe.drop(val_dataframe.index)\n",
        "\n",
        "print(\n",
        "    \"Using %d samples for training and %d for validation\"\n",
        "    % (len(train_dataframe), len(val_dataframe))\n",
        ")"
      ],
      "metadata": {
        "colab": {
          "base_uri": "https://localhost:8080/"
        },
        "id": "LM4Lisj1WLCG",
        "outputId": "632ebe66-9860-4a9b-f598-1ddf7823a352"
      },
      "execution_count": 6,
      "outputs": [
        {
          "output_type": "stream",
          "name": "stdout",
          "text": [
            "Using 242 samples for training and 61 for validation\n"
          ]
        }
      ]
    },
    {
      "cell_type": "code",
      "source": [
        "val_dataframe.shape"
      ],
      "metadata": {
        "colab": {
          "base_uri": "https://localhost:8080/"
        },
        "id": "07jZeLSNW8yE",
        "outputId": "ac328683-81c3-442d-cf56-a7089024406f"
      },
      "execution_count": 7,
      "outputs": [
        {
          "output_type": "execute_result",
          "data": {
            "text/plain": [
              "(61, 14)"
            ]
          },
          "metadata": {},
          "execution_count": 7
        }
      ]
    },
    {
      "cell_type": "markdown",
      "source": [
        "Let's generate `tf.data.Dataset` objects for each dataframe:"
      ],
      "metadata": {
        "id": "5bUNk7JZsxUJ"
      }
    },
    {
      "cell_type": "code",
      "source": [
        "def dataframe_to_dataset(dataframe):\n",
        "    dataframe = dataframe.copy()\n",
        "    labels = dataframe.pop(\"target\")\n",
        "    ds = tf.data.Dataset.from_tensor_slices((dict(dataframe), labels))\n",
        "    ds = ds.shuffle(buffer_size = len(dataframe))\n",
        "    return ds\n",
        "\n",
        "train_ds = dataframe_to_dataset(train_dataframe)\n",
        "val_ds = dataframe_to_dataset(val_dataframe)"
      ],
      "metadata": {
        "id": "I1g2ev5aX8UN"
      },
      "execution_count": 11,
      "outputs": []
    },
    {
      "cell_type": "code",
      "source": [
        "for x, y in train_ds.take(1):\n",
        "    print(\"Input:\", x)\n",
        "    print(\"Target:\", y)"
      ],
      "metadata": {
        "colab": {
          "base_uri": "https://localhost:8080/"
        },
        "id": "mi_6h3VJdNWn",
        "outputId": "6cc5cd0a-7899-4927-c677-06e2093ec469"
      },
      "execution_count": 14,
      "outputs": [
        {
          "output_type": "stream",
          "name": "stdout",
          "text": [
            "Input: {'age': <tf.Tensor: shape=(), dtype=int64, numpy=42>, 'sex': <tf.Tensor: shape=(), dtype=int64, numpy=0>, 'cp': <tf.Tensor: shape=(), dtype=int64, numpy=4>, 'trestbps': <tf.Tensor: shape=(), dtype=int64, numpy=102>, 'chol': <tf.Tensor: shape=(), dtype=int64, numpy=265>, 'fbs': <tf.Tensor: shape=(), dtype=int64, numpy=0>, 'restecg': <tf.Tensor: shape=(), dtype=int64, numpy=2>, 'thalach': <tf.Tensor: shape=(), dtype=int64, numpy=122>, 'exang': <tf.Tensor: shape=(), dtype=int64, numpy=0>, 'oldpeak': <tf.Tensor: shape=(), dtype=float64, numpy=0.6>, 'slope': <tf.Tensor: shape=(), dtype=int64, numpy=2>, 'ca': <tf.Tensor: shape=(), dtype=int64, numpy=0>, 'thal': <tf.Tensor: shape=(), dtype=string, numpy=b'normal'>}\n",
            "Target: tf.Tensor(0, shape=(), dtype=int64)\n"
          ]
        }
      ]
    },
    {
      "cell_type": "code",
      "source": [
        "train_ds = train_ds.batch(32)\n",
        "val_ds  = val_ds.batch(32)"
      ],
      "metadata": {
        "id": "8rZvDwh5dj4Y"
      },
      "execution_count": 15,
      "outputs": []
    },
    {
      "cell_type": "markdown",
      "source": [
        "## Configuring a `FeatureSpace`\n",
        "\n",
        "To configure how each feature should be preprocessed,\n",
        "we instantiate a `keras.utils.FeatureSpace`, and we\n",
        "pass to it a dictionary that maps the name of our features\n",
        "to a string that describes the feature type.\n",
        "\n",
        "We have a few \"integer categorical\" features such as `\"FBS\"`,\n",
        "one \"string categorical\" feature (`\"thal\"`),\n",
        "and a few numerical features, which we'd like to normalize\n",
        "-- except `\"age\"`, which we'd like to discretize into\n",
        "a number of bins.\n",
        "\n",
        "We also use the `crosses` argument\n",
        "to capture *feature interactions* for some categorical\n",
        "features, that is to say, create additional features\n",
        "that represent value co-occurrences for these categorical features.\n",
        "You can compute feature crosses like this for arbitrary sets of\n",
        "categorical features -- not just tuples of two features.\n",
        "Because the resulting co-occurences are hashed\n",
        "into a fixed-sized vector, you don't need to worry about whether\n",
        "the co-occurence space is too large."
      ],
      "metadata": {
        "id": "x347TT4Rs8Ox"
      }
    },
    {
      "cell_type": "code",
      "source": [
        "feature_space = FeatureSpace(\n",
        "    features={\n",
        "        # Categorical features encoded as integers\n",
        "        \"sex\": \"integer_categorical\",\n",
        "        \"cp\": \"integer_categorical\",\n",
        "        \"fbs\": \"integer_categorical\",\n",
        "        \"restecg\": \"integer_categorical\",\n",
        "        \"exang\": \"integer_categorical\",\n",
        "        \"ca\": \"integer_categorical\",\n",
        "        # Categorical feature encoded as string\n",
        "        \"thal\": \"string_categorical\",\n",
        "        # Numerical features to discretize\n",
        "        \"age\": \"float_discretized\",\n",
        "        # Numerical features to normalize\n",
        "        \"trestbps\": \"float_normalized\",\n",
        "        \"chol\": \"float_normalized\",\n",
        "        \"thalach\": \"float_normalized\",\n",
        "        \"oldpeak\": \"float_normalized\",\n",
        "        \"slope\": \"float_normalized\",\n",
        "    },\n",
        "    # We create additional features by hashing\n",
        "    # value co-occurrences for the\n",
        "    # following groups of categorical features.\n",
        "    crosses=[(\"sex\", \"age\"), (\"thal\", \"ca\")],\n",
        "    # The hashing space for these co-occurrences\n",
        "    # wil be 32-dimensional.\n",
        "    crossing_dim=32,\n",
        "    # Our utility will one-hot encode all categorical\n",
        "    # features and concat all features into a single\n",
        "    # vector (one vector per sample).\n",
        "    output_mode=\"concat\",\n",
        ")"
      ],
      "metadata": {
        "id": "7RumJwLOeCKe"
      },
      "execution_count": 16,
      "outputs": []
    },
    {
      "cell_type": "markdown",
      "source": [
        "## Further customizing a `FeatureSpace`\n",
        "\n",
        "Specifying the feature type via a string name is quick and easy,\n",
        "but sometimes you may want to further configure the preprocessing\n",
        "of each feature. For instance, in our case, our categorical\n",
        "features don't have a large set of possible values -- it's only\n",
        "a handful of values per feature (e.g. `1` and `0` for the feature `\"FBS\"`),\n",
        "and all possible values are represented in the training set.\n",
        "As a result, we don't need to reserve an index to represent \"out of vocabulary\" values\n",
        "for these features -- which would have been the default behavior.\n",
        "Below, we just specify `num_oov_indices=0` in each of these features\n",
        "to tell the feature preprocessor to skip \"out of vocabulary\" indexing.\n",
        "\n",
        "Other customizations you have access to include specifying the number of\n",
        "bins for discretizing features of type `\"float_discretized\"`,\n",
        "or the dimensionality of the hashing space for feature crossing."
      ],
      "metadata": {
        "id": "hsEubtPJtDzm"
      }
    },
    {
      "cell_type": "code",
      "source": [
        "feature_space = FeatureSpace(\n",
        "    features={\n",
        "        # Categorical features encoded as integers\n",
        "        \"sex\": FeatureSpace.integer_categorical(num_oov_indices=0),\n",
        "        \"cp\": FeatureSpace.integer_categorical(num_oov_indices=0),\n",
        "        \"fbs\": FeatureSpace.integer_categorical(num_oov_indices=0),\n",
        "        \"restecg\": FeatureSpace.integer_categorical(num_oov_indices=0),\n",
        "        \"exang\": FeatureSpace.integer_categorical(num_oov_indices=0),\n",
        "        \"ca\": FeatureSpace.integer_categorical(num_oov_indices=0),\n",
        "        # Categorical feature encoded as string\n",
        "        \"thal\": FeatureSpace.string_categorical(num_oov_indices=0),\n",
        "        # Numerical features to discretize\n",
        "        \"age\": FeatureSpace.float_discretized(num_bins=30),\n",
        "        # Numerical features to normalize\n",
        "        \"trestbps\": FeatureSpace.float_normalized(),\n",
        "        \"chol\": FeatureSpace.float_normalized(),\n",
        "        \"thalach\": FeatureSpace.float_normalized(),\n",
        "        \"oldpeak\": FeatureSpace.float_normalized(),\n",
        "        \"slope\": FeatureSpace.float_normalized(),\n",
        "    },\n",
        "    # Specify feature cross with a custom crossing dim.\n",
        "    crosses=[\n",
        "        FeatureSpace.cross(feature_names=(\"sex\", \"age\"), crossing_dim=64),\n",
        "        FeatureSpace.cross(\n",
        "            feature_names=(\"thal\", \"ca\"),\n",
        "            crossing_dim=16,\n",
        "        ),\n",
        "    ],\n",
        "    output_mode=\"concat\",\n",
        ")"
      ],
      "metadata": {
        "id": "JzEMIh4RemAn"
      },
      "execution_count": 18,
      "outputs": []
    },
    {
      "cell_type": "markdown",
      "source": [
        "## Adapt the `FeatureSpace` to the training data\n",
        "\n",
        "Before we start using the `FeatureSpace` to build a model, we have\n",
        "to adapt it to the training data. During `adapt()`, the `FeatureSpace` will:\n",
        "\n",
        "- Index the set of possible values for categorical features.\n",
        "- Compute the mean and variance for numerical features to normalize.\n",
        "- Compute the value boundaries for the different bins for numerical features to discretize.\n",
        "\n",
        "Note that `adapt()` should be called on a `tf.data.Dataset` which yields dicts\n",
        "of feature values -- no labels."
      ],
      "metadata": {
        "id": "8pj5wSGktHXz"
      }
    },
    {
      "cell_type": "code",
      "source": [
        "train_ds_with_no_labels = train_ds.map(lambda x, y : x)\n",
        "feature_space.adapt(train_ds_with_no_labels)"
      ],
      "metadata": {
        "id": "0T9okGXmfFyh"
      },
      "execution_count": 19,
      "outputs": []
    },
    {
      "cell_type": "markdown",
      "source": [
        "At this point, the `FeatureSpace` can be called on a dict of raw feature values, and will return a\n",
        "single concatenate vector for each sample, combining encoded features and feature crosses."
      ],
      "metadata": {
        "id": "hlkRAFj2tUc7"
      }
    },
    {
      "cell_type": "code",
      "source": [
        "for x, y in train_ds.take(1):\n",
        "    preprocessed_x = feature_space(x)\n",
        "    print(\"preprocessed_x.shape:\", preprocessed_x.shape)\n",
        "    print(\"preprocessed_x.dtype:\", preprocessed_x.dtype)"
      ],
      "metadata": {
        "colab": {
          "base_uri": "https://localhost:8080/"
        },
        "id": "I4ZLyHd5gUl7",
        "outputId": "b53db541-bfa5-4698-b2c6-b827fa474426"
      },
      "execution_count": 22,
      "outputs": [
        {
          "output_type": "stream",
          "name": "stdout",
          "text": [
            "preprocessed_x.shape: (32, 138)\n",
            "preprocessed_x.dtype: <dtype: 'float32'>\n"
          ]
        }
      ]
    },
    {
      "cell_type": "markdown",
      "source": [
        "## Two ways to manage preprocessing: as part of the `tf.data` pipeline, or in the model itself\n",
        "\n",
        "There are two ways in which you can leverage your `FeatureSpace`:\n",
        "\n",
        "### Asynchronous preprocessing in `tf.data`\n",
        "\n",
        "You can make it part of your data pipeline, before the model. This enables asynchronous parallel\n",
        "preprocessing of the data on CPU before it hits the model. Do this if you're training on GPU or TPU,\n",
        "or if you want to speed up preprocessing. Usually, this is always the right thing to do during training.\n",
        "\n",
        "### Synchronous preprocessing in the model\n",
        "\n",
        "You can make it part of your model. This means that the model will expect dicts of raw feature\n",
        "values, and the preprocessing batch will be done synchronously (in a blocking manner) before the\n",
        "rest of the forward pass. Do this if you want to have an end-to-end model that can process\n",
        "raw feature values -- but keep in mind that your model will only be able to run on CPU,\n",
        "since most types of feature preprocessing (e.g. string preprocessing) are not GPU or TPU compatible.\n",
        "\n",
        "Do not do this on GPU / TPU or in performance-sensitive settings. In general, you want to do in-model\n",
        "preprocessing when you do inference on CPU.\n",
        "\n",
        "In our case, we will apply the `FeatureSpace` in the tf.data pipeline during training, but we will\n",
        "do inference with an end-to-end model that includes the `FeatureSpace`.\n",
        "\n",
        "\n",
        "\n",
        "Let's create a training and validation dataset of preprocessed batches:"
      ],
      "metadata": {
        "id": "n9nXilCotbL2"
      }
    },
    {
      "cell_type": "code",
      "source": [
        "preprocessed_train_ds = train_ds.map(\n",
        "    lambda x, y : (feature_space(x), y), num_parallel_calls = tf.data.AUTOTUNE)\n",
        "preprocessed_train_ds = preprocessed_train_ds.prefetch(tf.data.AUTOTUNE)\n",
        "\n",
        "\n",
        "preprocessed_val_ds = val_ds.map(\n",
        "    lambda x, y : (feature_space(x), y), num_parallel_calls = tf.data.AUTOTUNE)\n",
        "preprocessed_val_ds = preprocessed_val_ds.prefetch(tf.data.AUTOTUNE)"
      ],
      "metadata": {
        "id": "L4THAS58heVO"
      },
      "execution_count": 23,
      "outputs": []
    },
    {
      "cell_type": "markdown",
      "source": [
        "## Build a model\n",
        "\n",
        "Time to build a model -- or rather two models:\n",
        "\n",
        "- A training model that expects preprocessed features (one sample = one vector)\n",
        "- An inference model that expects raw features (one sample = dict of raw feature values)"
      ],
      "metadata": {
        "id": "uqbgZISJtjTJ"
      }
    },
    {
      "cell_type": "code",
      "source": [
        "dict_inputs = feature_space.get_inputs()\n",
        "encoded_features =  feature_space.get_encoded_features()\n",
        "\n",
        "x = keras.layers.Dense(32, activation = \"relu\")(encoded_features)\n",
        "x = keras.layers.Dropout(0.5)(x)\n",
        "predictions = keras.layers.Dense(1, activation = \"sigmoid\")(x)\n",
        "\n",
        "training_model = keras.Model(encoded_features, predictions)\n",
        "\n",
        "training_model.compile(optimizer = \"adam\", loss = \"binary_crossentropy\", metrics = [\"accuracy\"])\n",
        "\n",
        "inference_model = keras.Model(dict_inputs, predictions)"
      ],
      "metadata": {
        "id": "2COSvx4Xkjze"
      },
      "execution_count": 30,
      "outputs": []
    },
    {
      "cell_type": "markdown",
      "source": [
        "## Train the model\n",
        "\n",
        "Let's train our model for 50 epochs. Note that feature preprocessing is happening\n",
        "as part of the tf.data pipeline, not as part of the model."
      ],
      "metadata": {
        "id": "H_ZzTPwRt3IL"
      }
    },
    {
      "cell_type": "code",
      "source": [
        "training_model.fit(\n",
        "        preprocessed_train_ds,\n",
        "        epochs = 20,\n",
        "        validation_data = preprocessed_val_ds,\n",
        "        )"
      ],
      "metadata": {
        "colab": {
          "base_uri": "https://localhost:8080/"
        },
        "id": "PKJ4bJUFnZEn",
        "outputId": "bbaa8fc2-60b4-4358-f919-8f5fccb9e345"
      },
      "execution_count": 31,
      "outputs": [
        {
          "output_type": "stream",
          "name": "stdout",
          "text": [
            "Epoch 1/20\n",
            "8/8 [==============================] - 1s 72ms/step - loss: 0.7376 - accuracy: 0.4628 - val_loss: 0.6740 - val_accuracy: 0.5738\n",
            "Epoch 2/20\n",
            "8/8 [==============================] - 0s 45ms/step - loss: 0.6665 - accuracy: 0.6116 - val_loss: 0.6026 - val_accuracy: 0.7541\n",
            "Epoch 3/20\n",
            "8/8 [==============================] - 0s 44ms/step - loss: 0.6325 - accuracy: 0.6281 - val_loss: 0.5473 - val_accuracy: 0.7541\n",
            "Epoch 4/20\n",
            "8/8 [==============================] - 0s 47ms/step - loss: 0.5673 - accuracy: 0.7355 - val_loss: 0.5071 - val_accuracy: 0.7541\n",
            "Epoch 5/20\n",
            "8/8 [==============================] - 0s 44ms/step - loss: 0.5176 - accuracy: 0.7893 - val_loss: 0.4760 - val_accuracy: 0.7541\n",
            "Epoch 6/20\n",
            "8/8 [==============================] - 0s 47ms/step - loss: 0.4878 - accuracy: 0.7810 - val_loss: 0.4530 - val_accuracy: 0.7705\n",
            "Epoch 7/20\n",
            "8/8 [==============================] - 0s 45ms/step - loss: 0.4602 - accuracy: 0.7934 - val_loss: 0.4358 - val_accuracy: 0.7705\n",
            "Epoch 8/20\n",
            "8/8 [==============================] - 0s 62ms/step - loss: 0.4572 - accuracy: 0.8017 - val_loss: 0.4216 - val_accuracy: 0.7869\n",
            "Epoch 9/20\n",
            "8/8 [==============================] - 1s 129ms/step - loss: 0.4470 - accuracy: 0.8058 - val_loss: 0.4107 - val_accuracy: 0.7705\n",
            "Epoch 10/20\n",
            "8/8 [==============================] - 0s 48ms/step - loss: 0.4164 - accuracy: 0.8264 - val_loss: 0.4017 - val_accuracy: 0.7705\n",
            "Epoch 11/20\n",
            "8/8 [==============================] - 1s 74ms/step - loss: 0.4250 - accuracy: 0.7893 - val_loss: 0.3947 - val_accuracy: 0.7869\n",
            "Epoch 12/20\n",
            "8/8 [==============================] - 1s 75ms/step - loss: 0.3985 - accuracy: 0.8388 - val_loss: 0.3884 - val_accuracy: 0.7869\n",
            "Epoch 13/20\n",
            "8/8 [==============================] - 1s 76ms/step - loss: 0.3649 - accuracy: 0.8388 - val_loss: 0.3836 - val_accuracy: 0.8033\n",
            "Epoch 14/20\n",
            "8/8 [==============================] - 0s 46ms/step - loss: 0.3515 - accuracy: 0.8512 - val_loss: 0.3808 - val_accuracy: 0.8033\n",
            "Epoch 15/20\n",
            "8/8 [==============================] - 0s 47ms/step - loss: 0.3587 - accuracy: 0.8388 - val_loss: 0.3778 - val_accuracy: 0.8197\n",
            "Epoch 16/20\n",
            "8/8 [==============================] - 0s 45ms/step - loss: 0.3243 - accuracy: 0.8926 - val_loss: 0.3755 - val_accuracy: 0.8197\n",
            "Epoch 17/20\n",
            "8/8 [==============================] - 0s 45ms/step - loss: 0.3450 - accuracy: 0.8678 - val_loss: 0.3738 - val_accuracy: 0.8197\n",
            "Epoch 18/20\n",
            "8/8 [==============================] - 0s 43ms/step - loss: 0.3489 - accuracy: 0.8636 - val_loss: 0.3732 - val_accuracy: 0.8361\n",
            "Epoch 19/20\n",
            "8/8 [==============================] - 0s 46ms/step - loss: 0.3261 - accuracy: 0.8719 - val_loss: 0.3732 - val_accuracy: 0.8361\n",
            "Epoch 20/20\n",
            "8/8 [==============================] - 0s 43ms/step - loss: 0.3391 - accuracy: 0.8512 - val_loss: 0.3726 - val_accuracy: 0.8361\n"
          ]
        },
        {
          "output_type": "execute_result",
          "data": {
            "text/plain": [
              "<keras.src.callbacks.History at 0x79cba44939a0>"
            ]
          },
          "metadata": {},
          "execution_count": 31
        }
      ]
    },
    {
      "cell_type": "markdown",
      "source": [
        "## Inference on new data with the end-to-end model\n",
        "\n",
        "Now, we can use our inference model (which includes the `FeatureSpace`)\n",
        "to make predictions based on dicts of raw features values, as follows:"
      ],
      "metadata": {
        "id": "Xff3ORDKt58h"
      }
    },
    {
      "cell_type": "code",
      "source": [
        "sample = {\n",
        "    \"age\": 60,\n",
        "    \"sex\": 1,\n",
        "    \"cp\": 1,\n",
        "    \"trestbps\": 145,\n",
        "    \"chol\": 233,\n",
        "    \"fbs\": 1,\n",
        "    \"restecg\": 2,\n",
        "    \"thalach\": 150,\n",
        "    \"exang\": 0,\n",
        "    \"oldpeak\": 2.3,\n",
        "    \"slope\": 3,\n",
        "    \"ca\": 0,\n",
        "    \"thal\": \"fixed\",\n",
        "}\n",
        "\n",
        "input_dict = {name: tf.convert_to_tensor([value]) for name, value in sample.items()}\n",
        "predictions = inference_model.predict(input_dict)\n",
        "\n",
        "print(\n",
        "    f\"This particular patient had a {100 * predictions[0][0]:.2f}% probability \"\n",
        "    \"of having a heart disease, as evaluated by our model.\"\n",
        ")"
      ],
      "metadata": {
        "colab": {
          "base_uri": "https://localhost:8080/"
        },
        "id": "m47VklU0qPwd",
        "outputId": "2746fae4-1772-4a9f-9800-fbad970bcb4e"
      },
      "execution_count": 32,
      "outputs": [
        {
          "output_type": "stream",
          "name": "stdout",
          "text": [
            "1/1 [==============================] - 1s 548ms/step\n",
            "This particular patient had a 42.48% probability of having a heart disease, as evaluated by our model.\n"
          ]
        }
      ]
    }
  ],
  "metadata": {
    "colab": {
      "provenance": [],
      "include_colab_link": true
    },
    "kernelspec": {
      "display_name": "Python 3",
      "name": "python3"
    },
    "language_info": {
      "codemirror_mode": {
        "name": "ipython",
        "version": 3
      },
      "file_extension": ".py",
      "mimetype": "text/x-python",
      "name": "python",
      "nbconvert_exporter": "python",
      "pygments_lexer": "ipython3",
      "version": "3.10.12"
    }
  },
  "nbformat": 4,
  "nbformat_minor": 0
}