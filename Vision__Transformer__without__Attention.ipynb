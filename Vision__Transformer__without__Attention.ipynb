{
  "metadata": {
    "kernelspec": {
      "display_name": "Python 3",
      "name": "python3"
    },
    "language_info": {
      "name": "python",
      "version": "3.10.12",
      "mimetype": "text/x-python",
      "codemirror_mode": {
        "name": "ipython",
        "version": 3
      },
      "pygments_lexer": "ipython3",
      "nbconvert_exporter": "python",
      "file_extension": ".py"
    },
    "colab": {
      "provenance": [],
      "gpuType": "T4",
      "include_colab_link": true
    },
    "accelerator": "GPU"
  },
  "nbformat_minor": 0,
  "nbformat": 4,
  "cells": [
    {
      "cell_type": "markdown",
      "metadata": {
        "id": "view-in-github",
        "colab_type": "text"
      },
      "source": [
        "<a href=\"https://colab.research.google.com/github/ritwiks9635/My_Neural_Network_Architecture/blob/main/Vision__Transformer__without__Attention.ipynb\" target=\"_parent\"><img src=\"https://colab.research.google.com/assets/colab-badge.svg\" alt=\"Open In Colab\"/></a>"
      ]
    },
    {
      "cell_type": "markdown",
      "source": [
        "# **A Vision Transformer without Attention**"
      ],
      "metadata": {
        "id": "yMskKbobT1TM"
      }
    },
    {
      "cell_type": "markdown",
      "source": [
        "***Introduction***\n",
        "\n",
        "Vision Transformers (ViTs) have sparked a wave of research at the intersection of Transformers and Computer Vision (CV).\n",
        "\n",
        "ViTs can simultaneously model long- and short-range dependencies, thanks to the Multi-Head Self-Attention mechanism in the Transformer block. Many researchers believe that the success of ViTs are purely due to the attention layer, and they seldom think about other parts of the ViT model.\n",
        "\n",
        "In the academic paper When Shift Operation Meets Vision Transformer: An Extremely Simple Alternative to Attention Mechanism the authors propose to demystify the success of ViTs with the introduction of a NO PARAMETER operation in place of the attention operation. They swap the attention operation with a shifting operation.\n",
        "\n",
        "In this example, we minimally implement the paper with close alignement to the author's official implementation."
      ],
      "metadata": {
        "id": "1QyY8tYhBjTL"
      }
    },
    {
      "cell_type": "code",
      "source": [
        "pip install tensorflow_addons"
      ],
      "metadata": {
        "colab": {
          "base_uri": "https://localhost:8080/"
        },
        "id": "pMp7nwmHTqeC",
        "outputId": "0a65b475-a259-4c7a-f8d1-4486b7cc46fe"
      },
      "execution_count": 1,
      "outputs": [
        {
          "output_type": "stream",
          "name": "stdout",
          "text": [
            "Collecting tensorflow_addons\n",
            "  Downloading tensorflow_addons-0.22.0-cp310-cp310-manylinux_2_17_x86_64.manylinux2014_x86_64.whl (612 kB)\n",
            "\u001b[2K     \u001b[90m━━━━━━━━━━━━━━━━━━━━━━━━━━━━━━━━━━━━━━━━\u001b[0m \u001b[32m612.3/612.3 kB\u001b[0m \u001b[31m6.3 MB/s\u001b[0m eta \u001b[36m0:00:00\u001b[0m\n",
            "\u001b[?25hRequirement already satisfied: packaging in /usr/local/lib/python3.10/dist-packages (from tensorflow_addons) (23.2)\n",
            "Collecting typeguard<3.0.0,>=2.7 (from tensorflow_addons)\n",
            "  Downloading typeguard-2.13.3-py3-none-any.whl (17 kB)\n",
            "Installing collected packages: typeguard, tensorflow_addons\n",
            "Successfully installed tensorflow_addons-0.22.0 typeguard-2.13.3\n"
          ]
        }
      ]
    },
    {
      "cell_type": "markdown",
      "source": [],
      "metadata": {
        "id": "Z5tUWSdKVNLa"
      }
    },
    {
      "cell_type": "code",
      "source": [
        "import numpy as np\n",
        "import matplotlib.pyplot as plt\n",
        "\n",
        "import tensorflow as tf\n",
        "from tensorflow import keras\n",
        "from tensorflow.keras import layers\n",
        "import tensorflow_addons as tfa\n",
        "\n",
        "import pathlib\n",
        "import glob\n",
        "\n",
        "seed = 42\n",
        "keras.utils.set_random_seed(seed)"
      ],
      "metadata": {
        "colab": {
          "base_uri": "https://localhost:8080/"
        },
        "id": "ygjkfmBEVOnz",
        "outputId": "ea0586ee-c3f4-4200-b0b0-6cf0ebbf844b"
      },
      "execution_count": 2,
      "outputs": [
        {
          "output_type": "stream",
          "name": "stderr",
          "text": [
            "/usr/local/lib/python3.10/dist-packages/tensorflow_addons/utils/tfa_eol_msg.py:23: UserWarning: \n",
            "\n",
            "TensorFlow Addons (TFA) has ended development and introduction of new features.\n",
            "TFA has entered a minimal maintenance and release mode until a planned end of life in May 2024.\n",
            "Please modify downstream libraries to take dependencies from other repositories in our TensorFlow community (e.g. Keras, Keras-CV, and Keras-NLP). \n",
            "\n",
            "For more information see: https://github.com/tensorflow/addons/issues/2807 \n",
            "\n",
            "  warnings.warn(\n"
          ]
        }
      ]
    },
    {
      "cell_type": "code",
      "source": [
        "class Config(object):\n",
        "    # DATA\n",
        "    batch_size = 256\n",
        "    buffer_size = batch_size * 2\n",
        "    input_shape = (32, 32, 3)\n",
        "    num_classes = 10\n",
        "\n",
        "    # AUGMENTATION\n",
        "    image_size = 48\n",
        "\n",
        "    # ARCHITECTURE\n",
        "    patch_size = 4\n",
        "    projected_dim = 96\n",
        "    num_shift_blocks_per_stages = [2, 4, 8, 2]\n",
        "    epsilon = 1e-5\n",
        "    stochastic_depth_rate = 0.2\n",
        "    mlp_dropout_rate = 0.2\n",
        "    num_div = 12\n",
        "    shift_pixel = 1\n",
        "    mlp_expand_ratio = 2\n",
        "\n",
        "    # OPTIMIZER\n",
        "    lr_start = 1e-5\n",
        "    lr_max = 1e-3\n",
        "    weight_decay = 1e-4\n",
        "\n",
        "    # TRAINING\n",
        "    epochs = 100\n",
        "\n",
        "    # INFERENCE\n",
        "    label_map = {\n",
        "        0: \"airplane\",\n",
        "        1: \"automobile\",\n",
        "        2: \"bird\",\n",
        "        3: \"cat\",\n",
        "        4: \"deer\",\n",
        "        5: \"dog\",\n",
        "        6: \"frog\",\n",
        "        7: \"horse\",\n",
        "        8: \"ship\",\n",
        "        9: \"truck\",\n",
        "    }\n",
        "    tf_ds_batch_size = 20\n",
        "\n",
        "\n",
        "config = Config()"
      ],
      "metadata": {
        "id": "feBUFQJBV32o"
      },
      "execution_count": 3,
      "outputs": []
    },
    {
      "cell_type": "code",
      "source": [
        "(x_train, y_train), (x_test, y_test) = keras.datasets.cifar10.load_data()\n",
        "\n",
        "(x_train, y_train), (x_val, y_val) = ((x_train[:40000], y_train[:40000]),(x_train[40000:], y_train[40000:]))\n",
        "\n",
        "AUTO = tf.data.AUTOTUNE\n",
        "train_ds = tf.data.Dataset.from_tensor_slices((x_train, y_train))\n",
        "train_ds = train_ds.shuffle(config.buffer_size).batch(config.batch_size).prefetch(AUTO)\n",
        "\n",
        "val_ds = tf.data.Dataset.from_tensor_slices((x_val, y_val))\n",
        "val_ds = val_ds.batch(config.batch_size).prefetch(AUTO)\n",
        "\n",
        "test_ds = tf.data.Dataset.from_tensor_slices((x_test, y_test))\n",
        "test_ds = test_ds.batch(config.batch_size).prefetch(AUTO)"
      ],
      "metadata": {
        "id": "nv40QtfPWYqf",
        "colab": {
          "base_uri": "https://localhost:8080/"
        },
        "outputId": "170ca2fb-dd1c-4396-f2b9-e3b591c02af2"
      },
      "execution_count": 4,
      "outputs": [
        {
          "output_type": "stream",
          "name": "stdout",
          "text": [
            "Downloading data from https://www.cs.toronto.edu/~kriz/cifar-10-python.tar.gz\n",
            "170498071/170498071 [==============================] - 4s 0us/step\n"
          ]
        }
      ]
    },
    {
      "cell_type": "code",
      "source": [
        "len(x_test)"
      ],
      "metadata": {
        "colab": {
          "base_uri": "https://localhost:8080/"
        },
        "id": "vZCiCQ2na31T",
        "outputId": "1e2a52f1-853d-4351-ed26-5cf06c47140c"
      },
      "execution_count": 5,
      "outputs": [
        {
          "output_type": "execute_result",
          "data": {
            "text/plain": [
              "10000"
            ]
          },
          "metadata": {},
          "execution_count": 5
        }
      ]
    },
    {
      "cell_type": "markdown",
      "source": [
        "***Data Augmentation***\n",
        "\n",
        "The augmentation pipeline consists of:\n",
        "Rescaling\n",
        "\n",
        "Resizing\n",
        "\n",
        "Random cropping\n",
        "\n",
        "Random horizontal flipping\n",
        "\n",
        "Note: The image data augmentation layers do not apply data transformations at inference time. This means that when these layers are called with training=False they behave differently. Refer to the documentation for more details."
      ],
      "metadata": {
        "id": "G2pNRMwJBW5I"
      }
    },
    {
      "cell_type": "code",
      "source": [
        "def get_augmention_model():\n",
        "  data_augmentation = keras.Sequential(\n",
        "    [\n",
        "        layers.Resizing(config.input_shape[0] + 20, config.input_shape[0] + 20),\n",
        "        layers.RandomCrop(config.image_size, config.image_size),\n",
        "        layers.RandomFlip(\"horizontal\"),\n",
        "        layers.Rescaling(1.0/255.0)\n",
        "    ])\n",
        "  return data_augmentation"
      ],
      "metadata": {
        "id": "TaAqcbk5bh4o"
      },
      "execution_count": 6,
      "outputs": []
    },
    {
      "cell_type": "markdown",
      "source": [
        "***The ShiftViT architecture***\n",
        "\n",
        "In this section, we build the architecture proposed in the ShiftViT paper.\n",
        "\n",
        "Figure 1: The entire architecutre of ShiftViT.Source\n",
        "\n",
        "The architecture as shown in Fig. 1, is inspired by Swin Transformer: Hierarchical Vision Transformer using Shifted Windows. Here the authors propose a modular architecture with 4 stages. Each stage works on its own spatial size, creating a hierarchical architecture.\n",
        "\n",
        "An input image of size HxWx3 is split into non-overlapping patches of size 4x4. This is done via the patchify layer which results in individual tokens of feature size 48 (4x4x3). Each stage comprises two parts:\n",
        "\n",
        "Embedding Generation\n",
        "Stacked Shift Blocks\n",
        "We discuss the stages and the modules in detail in what follows.\n",
        "\n",
        "Note: Compared to the official implementation we restructure some key components to better fit the Keras API.\n",
        "\n",
        "***The ShiftViT Block***\n",
        "\n",
        "Figure 2: From the Model to a Shift Block.\n",
        "Each stage in the ShiftViT architecture comprises of a Shift Block as shown in Fig 2.\n",
        "\n",
        "Figure 3: The Shift ViT Block. Source\n",
        "The Shift Block as shown in Fig. 3, comprises of the following:\n",
        "\n",
        "Shift Operation\n",
        "\n",
        "Linear Normalization\n",
        "\n",
        "MLP Layer"
      ],
      "metadata": {
        "id": "kPcQFkX7A3hW"
      }
    },
    {
      "cell_type": "code",
      "source": [
        "class MLP(layers.Layer):\n",
        "    \"\"\"Get the MLP layer for each shift block.\n",
        "\n",
        "    Args:\n",
        "        mlp_expand_ratio (int): The ratio with which the first feature map is expanded.\n",
        "        mlp_dropout_rate (float): The rate for dropout.\n",
        "    \"\"\"\n",
        "\n",
        "    def __init__(self, mlp_expand_ratio, mlp_dropout_rate, **kwargs):\n",
        "        super().__init__(**kwargs)\n",
        "        self.mlp_expand_ratio = mlp_expand_ratio\n",
        "        self.mlp_dropout_rate = mlp_dropout_rate\n",
        "\n",
        "    def build(self, input_shape):\n",
        "        input_channels = input_shape[-1]\n",
        "        initial_filters = int(self.mlp_expand_ratio * input_channels)\n",
        "\n",
        "        self.mlp = keras.Sequential(\n",
        "            [\n",
        "                layers.Dense(\n",
        "                    units=initial_filters,\n",
        "                    activation=tf.nn.gelu,\n",
        "                ),\n",
        "                layers.Dropout(rate=self.mlp_dropout_rate),\n",
        "                layers.Dense(units=input_channels),\n",
        "                layers.Dropout(rate=self.mlp_dropout_rate),\n",
        "            ]\n",
        "        )\n",
        "\n",
        "    def call(self, x):\n",
        "        x = self.mlp(x)\n",
        "        return x"
      ],
      "metadata": {
        "id": "caNo5tmOdQvJ"
      },
      "execution_count": 7,
      "outputs": []
    },
    {
      "cell_type": "markdown",
      "source": [
        "***The DropPath layer***\n",
        "\n",
        "Stochastic depth is a regularization technique that randomly drops a set of layers. During inference, the layers are kept as they are. It is very similar to Dropout, but it operates on a block of layers rather than on individual nodes present inside a layer."
      ],
      "metadata": {
        "id": "tVHitykPAp8C"
      }
    },
    {
      "cell_type": "code",
      "source": [
        "class DropPath(layers.Layer):\n",
        "    \"\"\"Drop Path also known as the Stochastic Depth layer.\n",
        "\n",
        "    Refernece:\n",
        "        - https://keras.io/examples/vision/cct/#stochastic-depth-for-regularization\n",
        "        - github.com:rwightman/pytorch-image-models\n",
        "    \"\"\"\n",
        "\n",
        "    def __init__(self, drop_path_prob, **kwargs):\n",
        "        super().__init__(**kwargs)\n",
        "        self.drop_path_prob = drop_path_prob\n",
        "\n",
        "    def call(self, x, training=False):\n",
        "        if training:\n",
        "            keep_prob = 1 - self.drop_path_prob\n",
        "            shape = (tf.shape(x)[0],) + (1,) * (len(tf.shape(x)) - 1)\n",
        "            random_tensor = keep_prob + tf.random.uniform(shape, 0, 1)\n",
        "            random_tensor = tf.floor(random_tensor)\n",
        "            return (x / keep_prob) * random_tensor\n",
        "        return x"
      ],
      "metadata": {
        "id": "Ta3oCkfLg_GN"
      },
      "execution_count": 8,
      "outputs": []
    },
    {
      "cell_type": "markdown",
      "source": [
        "***Block***\n",
        "\n",
        "The most important operation in this paper is the shift operation. In this section, we describe the shift operation and compare it with its original implementation provided by the authors.\n",
        "\n",
        "A generic feature map is assumed to have the shape [N, H, W, C]. Here we choose a num_div parameter that decides the division size of the channels. The first 4 divisions are shifted (1 pixel) in the left, right, up, and down direction. The remaining splits are kept as is. After partial shifting the shifted channels are padded and the overflown pixels are chopped off. This completes the partial shifting operation.\n",
        "\n",
        "In the original implementation, the code is approximately:\n",
        "\n",
        "out[:, g * 0:g * 1, :, :-1] = x[:, g * 0:g * 1, :, 1:]  # shift left\n",
        "out[:, g * 1:g * 2, :, 1:] = x[:, g * 1:g * 2, :, :-1]  # shift right\n",
        "out[:, g * 2:g * 3, :-1, :] = x[:, g * 2:g * 3, 1:, :]  # shift up\n",
        "out[:, g * 3:g * 4, 1:, :] = x[:, g * 3:g * 4, :-1, :]  # shift down\n",
        "\n",
        "out[:, g * 4:, :, :] = x[:, g * 4:, :, :]  # no shift\n",
        "In TensorFlow it would be infeasible for us to assign shifted channels to a tensor in the middle of the training process. This is why we have resorted to the following procedure:\n",
        "\n",
        "Split the channels with the num_div parameter.\n",
        "Select each of the first four spilts and shift and pad them in the respective directions.\n",
        "After shifting and padding, we concatenate the channel back.\n",
        "Figure 4: The TensorFlow style shifting\n",
        "The entire procedure is explained in the Fig. 4."
      ],
      "metadata": {
        "id": "YeM7VnplAcSd"
      }
    },
    {
      "cell_type": "code",
      "source": [
        "class ShiftViTBlock(layers.Layer):\n",
        "    \"\"\"A unit ShiftViT Block\n",
        "\n",
        "    Args:\n",
        "        shift_pixel (int): The number of pixels to shift. Default to 1.\n",
        "        mlp_expand_ratio (int): The ratio with which MLP features are\n",
        "            expanded. Default to 2.\n",
        "        mlp_dropout_rate (float): The dropout rate used in MLP.\n",
        "        num_div (int): The number of divisions of the feature map's channel.\n",
        "            Totally, 4/num_div of channels will be shifted. Defaults to 12.\n",
        "        epsilon (float): Epsilon constant.\n",
        "        drop_path_prob (float): The drop probability for drop path.\n",
        "    \"\"\"\n",
        "\n",
        "    def __init__(\n",
        "        self,\n",
        "        epsilon,\n",
        "        drop_path_prob,\n",
        "        mlp_dropout_rate,\n",
        "        num_div=12,\n",
        "        shift_pixel=1,\n",
        "        mlp_expand_ratio=2,\n",
        "        **kwargs,\n",
        "    ):\n",
        "        super().__init__(**kwargs)\n",
        "        self.shift_pixel = shift_pixel\n",
        "        self.mlp_expand_ratio = mlp_expand_ratio\n",
        "        self.mlp_dropout_rate = mlp_dropout_rate\n",
        "        self.num_div = num_div\n",
        "        self.epsilon = epsilon\n",
        "        self.drop_path_prob = drop_path_prob\n",
        "\n",
        "    def build(self, input_shape):\n",
        "        self.H = input_shape[1]\n",
        "        self.W = input_shape[2]\n",
        "        self.C = input_shape[3]\n",
        "        self.layer_norm = layers.LayerNormalization(epsilon=self.epsilon)\n",
        "        self.drop_path = (\n",
        "            DropPath(drop_path_prob=self.drop_path_prob)\n",
        "            if self.drop_path_prob > 0.0\n",
        "            else layers.Activation(\"linear\")\n",
        "        )\n",
        "        self.mlp = MLP(\n",
        "            mlp_expand_ratio=self.mlp_expand_ratio,\n",
        "            mlp_dropout_rate=self.mlp_dropout_rate,\n",
        "        )\n",
        "\n",
        "    def get_shift_pad(self, x, mode):\n",
        "        \"\"\"Shifts the channels according to the mode chosen.\"\"\"\n",
        "        if mode == \"left\":\n",
        "            offset_height = 0\n",
        "            offset_width = 0\n",
        "            target_height = 0\n",
        "            target_width = self.shift_pixel\n",
        "        elif mode == \"right\":\n",
        "            offset_height = 0\n",
        "            offset_width = self.shift_pixel\n",
        "            target_height = 0\n",
        "            target_width = self.shift_pixel\n",
        "        elif mode == \"up\":\n",
        "            offset_height = 0\n",
        "            offset_width = 0\n",
        "            target_height = self.shift_pixel\n",
        "            target_width = 0\n",
        "        else:\n",
        "            offset_height = self.shift_pixel\n",
        "            offset_width = 0\n",
        "            target_height = self.shift_pixel\n",
        "            target_width = 0\n",
        "        crop = tf.image.crop_to_bounding_box(\n",
        "            x,\n",
        "            offset_height=offset_height,\n",
        "            offset_width=offset_width,\n",
        "            target_height=self.H - target_height,\n",
        "            target_width=self.W - target_width,\n",
        "        )\n",
        "        shift_pad = tf.image.pad_to_bounding_box(\n",
        "            crop,\n",
        "            offset_height=offset_height,\n",
        "            offset_width=offset_width,\n",
        "            target_height=self.H,\n",
        "            target_width=self.W,\n",
        "        )\n",
        "        return shift_pad\n",
        "\n",
        "    def call(self, x, training=False):\n",
        "        # Split the feature maps\n",
        "        x_splits = tf.split(x, num_or_size_splits=self.C // self.num_div, axis=-1)\n",
        "\n",
        "        # Shift the feature maps\n",
        "        x_splits[0] = self.get_shift_pad(x_splits[0], mode=\"left\")\n",
        "        x_splits[1] = self.get_shift_pad(x_splits[1], mode=\"right\")\n",
        "        x_splits[2] = self.get_shift_pad(x_splits[2], mode=\"up\")\n",
        "        x_splits[3] = self.get_shift_pad(x_splits[3], mode=\"down\")\n",
        "\n",
        "        # Concatenate the shifted and unshifted feature maps\n",
        "        x = tf.concat(x_splits, axis=-1)\n",
        "\n",
        "        # Add the residual connection\n",
        "        shortcut = x\n",
        "        x = shortcut + self.drop_path(self.mlp(self.layer_norm(x)), training=training)\n",
        "        return x"
      ],
      "metadata": {
        "id": "frFtLoMRhKzh"
      },
      "execution_count": 9,
      "outputs": []
    },
    {
      "cell_type": "markdown",
      "source": [
        "***The ShiftViT blocks***\n",
        "\n",
        "Figure 5: Shift Blocks in the architecture. Source\n",
        "Each stage of the architecture has shift blocks as shown in Fig.5. Each of these blocks contain a variable number of stacked ShiftViT block (as built in the earlier section).\n",
        "Shift blocks are followed by a PatchMerging layer that scales down feature inputs. The PatchMerging layer helps in the pyramidal structure of the model."
      ],
      "metadata": {
        "id": "3YXs6BvgANYu"
      }
    },
    {
      "cell_type": "markdown",
      "source": [
        "***The PatchMerging layer***\n",
        "\n",
        "This layer merges the two adjacent tokens. This layer helps in scaling the features down spatially and increasing the features up channel wise. We use a Conv2D layer to merge the patches"
      ],
      "metadata": {
        "id": "xCmdpcwXACsq"
      }
    },
    {
      "cell_type": "code",
      "source": [
        "class PatchMerging(layers.Layer):\n",
        "    \"\"\"The Patch Merging layer.\n",
        "\n",
        "    Args:\n",
        "        epsilon (float): The epsilon constant.\n",
        "    \"\"\"\n",
        "\n",
        "    def __init__(self, epsilon, **kwargs):\n",
        "        super().__init__(**kwargs)\n",
        "        self.epsilon = epsilon\n",
        "\n",
        "    def build(self, input_shape):\n",
        "        filters = 2 * input_shape[-1]\n",
        "        self.reduction = layers.Conv2D(\n",
        "            filters=filters, kernel_size=2, strides=2, padding=\"same\", use_bias=False\n",
        "        )\n",
        "        self.layer_norm = layers.LayerNormalization(epsilon=self.epsilon)\n",
        "\n",
        "    def call(self, x):\n",
        "        # Apply the patch merging algorithm on the feature maps\n",
        "        x = self.layer_norm(x)\n",
        "        x = self.reduction(x)\n",
        "        return x"
      ],
      "metadata": {
        "id": "YSNfm8HchuK-"
      },
      "execution_count": 10,
      "outputs": []
    },
    {
      "cell_type": "markdown",
      "source": [
        "***Stacked Shift Blocks***\n",
        "\n",
        "Each stage will have a variable number of stacked ShiftViT Blocks, as suggested in the paper. This is a generic layer that will contain the stacked shift vit blocks with the patch merging layer as well. Combining the two operations (shift ViT block and patch merging) is a design choice we picked for better code reusability."
      ],
      "metadata": {
        "id": "GJmIwjlZ_6gE"
      }
    },
    {
      "cell_type": "code",
      "source": [
        "# Note: This layer will have a different depth of stacking\n",
        "# for different stages on the model.\n",
        "class StackedShiftBlocks(layers.Layer):\n",
        "    \"\"\"The layer containing stacked ShiftViTBlocks.\n",
        "\n",
        "    Args:\n",
        "        epsilon (float): The epsilon constant.\n",
        "        mlp_dropout_rate (float): The dropout rate used in the MLP block.\n",
        "        num_shift_blocks (int): The number of shift vit blocks for this stage.\n",
        "        stochastic_depth_rate (float): The maximum drop path rate chosen.\n",
        "        is_merge (boolean): A flag that determines the use of the Patch Merge\n",
        "            layer after the shift vit blocks.\n",
        "        num_div (int): The division of channels of the feature map. Defaults to 12.\n",
        "        shift_pixel (int): The number of pixels to shift. Defaults to 1.\n",
        "        mlp_expand_ratio (int): The ratio with which the initial dense layer of\n",
        "            the MLP is expanded Defaults to 2.\n",
        "    \"\"\"\n",
        "\n",
        "    def __init__(\n",
        "        self,\n",
        "        epsilon,\n",
        "        mlp_dropout_rate,\n",
        "        num_shift_blocks,\n",
        "        stochastic_depth_rate,\n",
        "        is_merge,\n",
        "        num_div=12,\n",
        "        shift_pixel=1,\n",
        "        mlp_expand_ratio=2,\n",
        "        **kwargs,\n",
        "    ):\n",
        "        super().__init__(**kwargs)\n",
        "        self.epsilon = epsilon\n",
        "        self.mlp_dropout_rate = mlp_dropout_rate\n",
        "        self.num_shift_blocks = num_shift_blocks\n",
        "        self.stochastic_depth_rate = stochastic_depth_rate\n",
        "        self.is_merge = is_merge\n",
        "        self.num_div = num_div\n",
        "        self.shift_pixel = shift_pixel\n",
        "        self.mlp_expand_ratio = mlp_expand_ratio\n",
        "\n",
        "    def build(self, input_shapes):\n",
        "        # Calculate stochastic depth probabilities.\n",
        "        # Reference: https://keras.io/examples/vision/cct/#the-final-cct-model\n",
        "        dpr = [\n",
        "            x\n",
        "            for x in np.linspace(\n",
        "                start=0, stop=self.stochastic_depth_rate, num=self.num_shift_blocks\n",
        "            )\n",
        "        ]\n",
        "\n",
        "        # Build the shift blocks as a list of ShiftViT Blocks\n",
        "        self.shift_blocks = list()\n",
        "        for num in range(self.num_shift_blocks):\n",
        "            self.shift_blocks.append(\n",
        "                ShiftViTBlock(\n",
        "                    num_div=self.num_div,\n",
        "                    epsilon=self.epsilon,\n",
        "                    drop_path_prob=dpr[num],\n",
        "                    mlp_dropout_rate=self.mlp_dropout_rate,\n",
        "                    shift_pixel=self.shift_pixel,\n",
        "                    mlp_expand_ratio=self.mlp_expand_ratio,\n",
        "                )\n",
        "            )\n",
        "        if self.is_merge:\n",
        "            self.patch_merge = PatchMerging(epsilon=self.epsilon)\n",
        "\n",
        "    def call(self, x, training=False):\n",
        "        for shift_block in self.shift_blocks:\n",
        "            x = shift_block(x, training=training)\n",
        "        if self.is_merge:\n",
        "            x = self.patch_merge(x)\n",
        "        return x\n",
        "\n",
        "    # Since this is a custom layer, we need to overwrite get_config()\n",
        "    # so that model can be easily saved & loaded after training\n",
        "    def get_config(self):\n",
        "        config = super().get_config()\n",
        "        config.update(\n",
        "            {\n",
        "                \"epsilon\": self.epsilon,\n",
        "                \"mlp_dropout_rate\": self.mlp_dropout_rate,\n",
        "                \"num_shift_blocks\": self.num_shift_blocks,\n",
        "                \"stochastic_depth_rate\": self.stochastic_depth_rate,\n",
        "                \"is_merge\": self.is_merge,\n",
        "                \"num_div\": self.num_div,\n",
        "                \"shift_pixel\": self.shift_pixel,\n",
        "                \"mlp_expand_ratio\": self.mlp_expand_ratio,\n",
        "            }\n",
        "        )\n",
        "        return config"
      ],
      "metadata": {
        "id": "HQeFP-SxsWhp"
      },
      "execution_count": 11,
      "outputs": []
    },
    {
      "cell_type": "markdown",
      "source": [
        "***The ShiftViT model***\n",
        "\n",
        "Build the ShiftViT custom model."
      ],
      "metadata": {
        "id": "gh9DmGtU_yrq"
      }
    },
    {
      "cell_type": "code",
      "source": [
        "class ShiftViTModel(keras.Model):\n",
        "    \"\"\"The ShiftViT Model.\n",
        "\n",
        "    Args:\n",
        "        data_augmentation (keras.Model): A data augmentation model.\n",
        "        projected_dim (int): The dimension to which the patches of the image are\n",
        "            projected.\n",
        "        patch_size (int): The patch size of the images.\n",
        "        num_shift_blocks_per_stages (list[int]): A list of all the number of shit\n",
        "            blocks per stage.\n",
        "        epsilon (float): The epsilon constant.\n",
        "        mlp_dropout_rate (float): The dropout rate used in the MLP block.\n",
        "        stochastic_depth_rate (float): The maximum drop rate probability.\n",
        "        num_div (int): The number of divisions of the channesl of the feature\n",
        "            map. Defaults to 12.\n",
        "        shift_pixel (int): The number of pixel to shift. Default to 1.\n",
        "        mlp_expand_ratio (int): The ratio with which the initial mlp dense layer\n",
        "            is expanded to. Defaults to 2.\n",
        "    \"\"\"\n",
        "\n",
        "    def __init__(\n",
        "        self,\n",
        "        data_augmentation,\n",
        "        projected_dim,\n",
        "        patch_size,\n",
        "        num_shift_blocks_per_stages,\n",
        "        epsilon,\n",
        "        mlp_dropout_rate,\n",
        "        stochastic_depth_rate,\n",
        "        num_div=12,\n",
        "        shift_pixel=1,\n",
        "        mlp_expand_ratio=2,\n",
        "        **kwargs,\n",
        "    ):\n",
        "        super().__init__(**kwargs)\n",
        "        self.data_augmentation = data_augmentation\n",
        "        self.patch_projection = layers.Conv2D(\n",
        "            filters=projected_dim,\n",
        "            kernel_size=patch_size,\n",
        "            strides=patch_size,\n",
        "            padding=\"same\",\n",
        "        )\n",
        "        self.stages = list()\n",
        "        for index, num_shift_blocks in enumerate(num_shift_blocks_per_stages):\n",
        "            if index == len(num_shift_blocks_per_stages) - 1:\n",
        "                # This is the last stage, do not use the patch merge here.\n",
        "                is_merge = False\n",
        "            else:\n",
        "                is_merge = True\n",
        "            # Build the stages.\n",
        "            self.stages.append(\n",
        "                StackedShiftBlocks(\n",
        "                    epsilon=epsilon,\n",
        "                    mlp_dropout_rate=mlp_dropout_rate,\n",
        "                    num_shift_blocks=num_shift_blocks,\n",
        "                    stochastic_depth_rate=stochastic_depth_rate,\n",
        "                    is_merge=is_merge,\n",
        "                    num_div=num_div,\n",
        "                    shift_pixel=shift_pixel,\n",
        "                    mlp_expand_ratio=mlp_expand_ratio,\n",
        "                )\n",
        "            )\n",
        "        self.global_avg_pool = layers.GlobalAveragePooling2D()\n",
        "\n",
        "        self.classifier = layers.Dense(config.num_classes)\n",
        "\n",
        "    def get_config(self):\n",
        "        config = super().get_config()\n",
        "        config.update(\n",
        "            {\n",
        "                \"data_augmentation\": self.data_augmentation,\n",
        "                \"patch_projection\": self.patch_projection,\n",
        "                \"stages\": self.stages,\n",
        "                \"global_avg_pool\": self.global_avg_pool,\n",
        "                \"classifier\": self.classifier,\n",
        "            }\n",
        "        )\n",
        "        return config\n",
        "\n",
        "    def _calculate_loss(self, data, training=False):\n",
        "        (images, labels) = data\n",
        "\n",
        "        # Augment the images\n",
        "        augmented_images = self.data_augmentation(images, training=training)\n",
        "\n",
        "        # Create patches and project the pathces.\n",
        "        projected_patches = self.patch_projection(augmented_images)\n",
        "\n",
        "        # Pass through the stages\n",
        "        x = projected_patches\n",
        "        for stage in self.stages:\n",
        "            x = stage(x, training=training)\n",
        "\n",
        "        # Get the logits.\n",
        "        x = self.global_avg_pool(x)\n",
        "        logits = self.classifier(x)\n",
        "\n",
        "        # Calculate the loss and return it.\n",
        "        total_loss = self.compiled_loss(labels, logits)\n",
        "        return total_loss, labels, logits\n",
        "\n",
        "    def train_step(self, inputs):\n",
        "        with tf.GradientTape() as tape:\n",
        "            total_loss, labels, logits = self._calculate_loss(\n",
        "                data=inputs, training=True\n",
        "            )\n",
        "\n",
        "        # Apply gradients.\n",
        "        train_vars = [\n",
        "            self.data_augmentation.trainable_variables,\n",
        "            self.patch_projection.trainable_variables,\n",
        "            self.global_avg_pool.trainable_variables,\n",
        "            self.classifier.trainable_variables,\n",
        "        ]\n",
        "        train_vars = train_vars + [stage.trainable_variables for stage in self.stages]\n",
        "\n",
        "        # Optimize the gradients.\n",
        "        grads = tape.gradient(total_loss, train_vars)\n",
        "        trainable_variable_list = []\n",
        "        for (grad, var) in zip(grads, train_vars):\n",
        "            for g, v in zip(grad, var):\n",
        "                trainable_variable_list.append((g, v))\n",
        "        self.optimizer.apply_gradients(trainable_variable_list)\n",
        "\n",
        "        # Update the metrics\n",
        "        self.compiled_metrics.update_state(labels, logits)\n",
        "        return {m.name: m.result() for m in self.metrics}\n",
        "\n",
        "    def test_step(self, data):\n",
        "        _, labels, logits = self._calculate_loss(data=data, training=False)\n",
        "\n",
        "        # Update the metrics\n",
        "        self.compiled_metrics.update_state(labels, logits)\n",
        "        return {m.name: m.result() for m in self.metrics}\n",
        "\n",
        "    def call(self, images):\n",
        "        augmented_images = self.data_augmentation(images)\n",
        "        x = self.patch_projection(augmented_images)\n",
        "        for stage in self.stages:\n",
        "            x = stage(x, training=False)\n",
        "        x = self.global_avg_pool(x)\n",
        "        logits = self.classifier(x)\n",
        "        return logits"
      ],
      "metadata": {
        "id": "P8zbX2SSs3tc"
      },
      "execution_count": 12,
      "outputs": []
    },
    {
      "cell_type": "markdown",
      "source": [
        "***Instantiate the model***"
      ],
      "metadata": {
        "id": "ZDttlse6_rAo"
      }
    },
    {
      "cell_type": "code",
      "source": [
        "model = ShiftViTModel(\n",
        "    data_augmentation=get_augmention_model(),\n",
        "    projected_dim=config.projected_dim,\n",
        "    patch_size=config.patch_size,\n",
        "    num_shift_blocks_per_stages=config.num_shift_blocks_per_stages,\n",
        "    epsilon=config.epsilon,\n",
        "    mlp_dropout_rate=config.mlp_dropout_rate,\n",
        "    stochastic_depth_rate=config.stochastic_depth_rate,\n",
        "    num_div=config.num_div,\n",
        "    shift_pixel=config.shift_pixel,\n",
        "    mlp_expand_ratio=config.mlp_expand_ratio,\n",
        ")"
      ],
      "metadata": {
        "id": "B6O2eCWrtGz_"
      },
      "execution_count": 14,
      "outputs": []
    },
    {
      "cell_type": "markdown",
      "source": [
        "***Learning rate schedule***\n",
        "\n",
        "In many experiments, we want to warm up the model with a slowly increasing learning rate and then cool down the model with a slowly decaying learning rate. In the warmup cosine decay, the learning rate linearly increases for the warmup steps and then decays with a cosine decay."
      ],
      "metadata": {
        "id": "oW_dwR0C_iF1"
      }
    },
    {
      "cell_type": "code",
      "source": [
        "# Some code is taken from:\n",
        "# https://www.kaggle.com/ashusma/training-rfcx-tensorflow-tpu-effnet-b2.\n",
        "class WarmUpCosine(keras.optimizers.schedules.LearningRateSchedule):\n",
        "    \"\"\"A LearningRateSchedule that uses a warmup cosine decay schedule.\"\"\"\n",
        "\n",
        "    def __init__(self, lr_start, lr_max, warmup_steps, total_steps):\n",
        "        \"\"\"\n",
        "        Args:\n",
        "            lr_start: The initial learning rate\n",
        "            lr_max: The maximum learning rate to which lr should increase to in\n",
        "                the warmup steps\n",
        "            warmup_steps: The number of steps for which the model warms up\n",
        "            total_steps: The total number of steps for the model training\n",
        "        \"\"\"\n",
        "        super().__init__()\n",
        "        self.lr_start = lr_start\n",
        "        self.lr_max = lr_max\n",
        "        self.warmup_steps = warmup_steps\n",
        "        self.total_steps = total_steps\n",
        "        self.pi = tf.constant(np.pi)\n",
        "\n",
        "    def __call__(self, step):\n",
        "        # Check whether the total number of steps is larger than the warmup\n",
        "        # steps. If not, then throw a value error.\n",
        "        if self.total_steps < self.warmup_steps:\n",
        "            raise ValueError(\n",
        "                f\"Total number of steps {self.total_steps} must be\"\n",
        "                + f\"larger or equal to warmup steps {self.warmup_steps}.\"\n",
        "            )\n",
        "\n",
        "        # `cos_annealed_lr` is a graph that increases to 1 from the initial\n",
        "        # step to the warmup step. After that this graph decays to -1 at the\n",
        "        # final step mark.\n",
        "        cos_annealed_lr = tf.cos(\n",
        "            self.pi\n",
        "            * (tf.cast(step, tf.float32) - self.warmup_steps)\n",
        "            / tf.cast(self.total_steps - self.warmup_steps, tf.float32)\n",
        "        )\n",
        "\n",
        "        # Shift the mean of the `cos_annealed_lr` graph to 1. Now the grpah goes\n",
        "        # from 0 to 2. Normalize the graph with 0.5 so that now it goes from 0\n",
        "        # to 1. With the normalized graph we scale it with `lr_max` such that\n",
        "        # it goes from 0 to `lr_max`\n",
        "        learning_rate = 0.5 * self.lr_max * (1 + cos_annealed_lr)\n",
        "\n",
        "        # Check whether warmup_steps is more than 0.\n",
        "        if self.warmup_steps > 0:\n",
        "            # Check whether lr_max is larger that lr_start. If not, throw a value\n",
        "            # error.\n",
        "            if self.lr_max < self.lr_start:\n",
        "                raise ValueError(\n",
        "                    f\"lr_start {self.lr_start} must be smaller or\"\n",
        "                    + f\"equal to lr_max {self.lr_max}.\"\n",
        "                )\n",
        "\n",
        "            # Calculate the slope with which the learning rate should increase\n",
        "            # in the warumup schedule. The formula for slope is m = ((b-a)/steps)\n",
        "            slope = (self.lr_max - self.lr_start) / self.warmup_steps\n",
        "\n",
        "            # With the formula for a straight line (y = mx+c) build the warmup\n",
        "            # schedule\n",
        "            warmup_rate = slope * tf.cast(step, tf.float32) + self.lr_start\n",
        "\n",
        "            # When the current step is lesser that warmup steps, get the line\n",
        "            # graph. When the current step is greater than the warmup steps, get\n",
        "            # the scaled cos graph.\n",
        "            learning_rate = tf.where(\n",
        "                step < self.warmup_steps, warmup_rate, learning_rate\n",
        "            )\n",
        "\n",
        "        # When the current step is more that the total steps, return 0 else return\n",
        "        # the calculated graph.\n",
        "        return tf.where(\n",
        "            step > self.total_steps, 0.0, learning_rate, name=\"learning_rate\"\n",
        "        )\n",
        "\n",
        "    def get_config(self):\n",
        "        config = {\n",
        "            \"lr_start\": self.lr_start,\n",
        "            \"lr_max\": self.lr_max,\n",
        "            \"total_steps\": self.total_steps,\n",
        "            \"warmup_steps\": self.warmup_steps,\n",
        "        }\n",
        "        return config"
      ],
      "metadata": {
        "id": "_vX-BUVetdhQ"
      },
      "execution_count": 15,
      "outputs": []
    },
    {
      "cell_type": "code",
      "source": [
        "\n",
        "# pass sample data to the model so that input shape is available at the time of\n",
        "# saving the model\n",
        "sample_ds, _ = next(iter(train_ds))\n",
        "model(sample_ds, training=False)\n",
        "\n",
        "# Get the total number of steps for training.\n",
        "total_steps = int((len(x_train) / config.batch_size) * config.epochs)\n",
        "\n",
        "# Calculate the number of steps for warmup.\n",
        "warmup_epoch_percentage = 0.15\n",
        "warmup_steps = int(total_steps * warmup_epoch_percentage)\n",
        "\n",
        "# Initialize the warmupcosine schedule.\n",
        "scheduled_lrs = WarmUpCosine(\n",
        "    lr_start=1e-5,\n",
        "    lr_max=1e-3,\n",
        "    warmup_steps=warmup_steps,\n",
        "    total_steps=total_steps,\n",
        ")\n",
        "\n",
        "# Get the optimizer.\n",
        "optimizer = tfa.optimizers.AdamW(\n",
        "    learning_rate=scheduled_lrs, weight_decay=config.weight_decay\n",
        ")\n",
        "\n",
        "# Compile and pretrain the model.\n",
        "model.compile(\n",
        "    optimizer=optimizer,\n",
        "    loss=keras.losses.SparseCategoricalCrossentropy(from_logits=True),\n",
        "    metrics=[\n",
        "        keras.metrics.SparseCategoricalAccuracy(name=\"accuracy\"),\n",
        "        keras.metrics.SparseTopKCategoricalAccuracy(5, name=\"top-5-accuracy\"),\n",
        "    ],\n",
        ")\n",
        "\n",
        "# Train the model\n",
        "history = model.fit(\n",
        "    train_ds,\n",
        "    epochs=config.epochs,\n",
        "    validation_data=val_ds,\n",
        "    callbacks=[\n",
        "        keras.callbacks.EarlyStopping(\n",
        "            monitor=\"val_accuracy\",\n",
        "            patience=5,\n",
        "            mode=\"auto\",\n",
        "        )\n",
        "    ],\n",
        ")\n",
        "\n",
        "# Evaluate the model with the test dataset.\n",
        "print(\"TESTING\")\n",
        "loss, acc_top1, acc_top5 = model.evaluate(test_ds)\n",
        "print(f\"Loss: {loss:0.2f}\")\n",
        "print(f\"Top 1 test accuracy: {acc_top1*100:0.2f}%\")\n",
        "print(f\"Top 5 test accuracy: {acc_top5*100:0.2f}%\")"
      ],
      "metadata": {
        "colab": {
          "base_uri": "https://localhost:8080/"
        },
        "id": "JDI0c64Et8xU",
        "outputId": "abb06991-65a1-4006-f50f-472d446852fd"
      },
      "execution_count": 16,
      "outputs": [
        {
          "output_type": "stream",
          "name": "stdout",
          "text": [
            "Epoch 1/100\n",
            "157/157 [==============================] - 52s 190ms/step - loss: 2.3725 - accuracy: 0.1493 - top-5-accuracy: 0.6082 - val_loss: 2.1262 - val_accuracy: 0.2647 - val_top-5-accuracy: 0.7758\n",
            "Epoch 2/100\n",
            "157/157 [==============================] - 27s 169ms/step - loss: 1.9447 - accuracy: 0.2919 - top-5-accuracy: 0.8089 - val_loss: 1.9171 - val_accuracy: 0.3461 - val_top-5-accuracy: 0.8727\n",
            "Epoch 3/100\n",
            "157/157 [==============================] - 26s 168ms/step - loss: 1.7015 - accuracy: 0.3846 - top-5-accuracy: 0.8764 - val_loss: 1.5880 - val_accuracy: 0.4434 - val_top-5-accuracy: 0.9021\n",
            "Epoch 4/100\n",
            "157/157 [==============================] - 26s 169ms/step - loss: 1.5642 - accuracy: 0.4336 - top-5-accuracy: 0.9057 - val_loss: 1.4331 - val_accuracy: 0.4861 - val_top-5-accuracy: 0.9242\n",
            "Epoch 5/100\n",
            "157/157 [==============================] - 27s 169ms/step - loss: 1.4580 - accuracy: 0.4733 - top-5-accuracy: 0.9201 - val_loss: 1.4172 - val_accuracy: 0.4932 - val_top-5-accuracy: 0.9332\n",
            "Epoch 6/100\n",
            "157/157 [==============================] - 27s 170ms/step - loss: 1.3759 - accuracy: 0.5061 - top-5-accuracy: 0.9319 - val_loss: 1.3523 - val_accuracy: 0.5273 - val_top-5-accuracy: 0.9375\n",
            "Epoch 7/100\n",
            "157/157 [==============================] - 27s 173ms/step - loss: 1.3097 - accuracy: 0.5310 - top-5-accuracy: 0.9401 - val_loss: 1.3015 - val_accuracy: 0.5399 - val_top-5-accuracy: 0.9425\n",
            "Epoch 8/100\n",
            "157/157 [==============================] - 27s 171ms/step - loss: 1.2536 - accuracy: 0.5510 - top-5-accuracy: 0.9456 - val_loss: 1.1906 - val_accuracy: 0.5841 - val_top-5-accuracy: 0.9526\n",
            "Epoch 9/100\n",
            "157/157 [==============================] - 27s 169ms/step - loss: 1.2037 - accuracy: 0.5675 - top-5-accuracy: 0.9513 - val_loss: 1.1903 - val_accuracy: 0.5781 - val_top-5-accuracy: 0.9511\n",
            "Epoch 10/100\n",
            "157/157 [==============================] - 27s 169ms/step - loss: 1.1610 - accuracy: 0.5855 - top-5-accuracy: 0.9561 - val_loss: 1.1892 - val_accuracy: 0.5870 - val_top-5-accuracy: 0.9494\n",
            "Epoch 11/100\n",
            "157/157 [==============================] - 27s 171ms/step - loss: 1.1205 - accuracy: 0.6026 - top-5-accuracy: 0.9569 - val_loss: 1.0872 - val_accuracy: 0.6117 - val_top-5-accuracy: 0.9622\n",
            "Epoch 12/100\n",
            "157/157 [==============================] - 27s 169ms/step - loss: 1.0754 - accuracy: 0.6179 - top-5-accuracy: 0.9617 - val_loss: 1.2408 - val_accuracy: 0.5756 - val_top-5-accuracy: 0.9426\n",
            "Epoch 13/100\n",
            "157/157 [==============================] - 27s 169ms/step - loss: 1.0642 - accuracy: 0.6232 - top-5-accuracy: 0.9641 - val_loss: 1.0573 - val_accuracy: 0.6245 - val_top-5-accuracy: 0.9641\n",
            "Epoch 14/100\n",
            "157/157 [==============================] - 27s 169ms/step - loss: 1.0102 - accuracy: 0.6417 - top-5-accuracy: 0.9668 - val_loss: 1.0307 - val_accuracy: 0.6412 - val_top-5-accuracy: 0.9652\n",
            "Epoch 15/100\n",
            "157/157 [==============================] - 27s 170ms/step - loss: 1.0006 - accuracy: 0.6469 - top-5-accuracy: 0.9681 - val_loss: 1.0143 - val_accuracy: 0.6513 - val_top-5-accuracy: 0.9658\n",
            "Epoch 16/100\n",
            "157/157 [==============================] - 27s 169ms/step - loss: 0.9614 - accuracy: 0.6609 - top-5-accuracy: 0.9709 - val_loss: 1.0200 - val_accuracy: 0.6330 - val_top-5-accuracy: 0.9674\n",
            "Epoch 17/100\n",
            "157/157 [==============================] - 27s 170ms/step - loss: 0.9226 - accuracy: 0.6752 - top-5-accuracy: 0.9732 - val_loss: 1.0271 - val_accuracy: 0.6498 - val_top-5-accuracy: 0.9620\n",
            "Epoch 18/100\n",
            "157/157 [==============================] - 27s 170ms/step - loss: 0.8742 - accuracy: 0.6913 - top-5-accuracy: 0.9771 - val_loss: 0.8965 - val_accuracy: 0.6906 - val_top-5-accuracy: 0.9738\n",
            "Epoch 19/100\n",
            "157/157 [==============================] - 27s 170ms/step - loss: 0.8425 - accuracy: 0.7034 - top-5-accuracy: 0.9778 - val_loss: 0.8448 - val_accuracy: 0.7050 - val_top-5-accuracy: 0.9755\n",
            "Epoch 20/100\n",
            "157/157 [==============================] - 27s 170ms/step - loss: 0.8222 - accuracy: 0.7106 - top-5-accuracy: 0.9801 - val_loss: 0.8198 - val_accuracy: 0.7161 - val_top-5-accuracy: 0.9795\n",
            "Epoch 21/100\n",
            "157/157 [==============================] - 27s 171ms/step - loss: 0.7845 - accuracy: 0.7211 - top-5-accuracy: 0.9816 - val_loss: 0.8789 - val_accuracy: 0.7022 - val_top-5-accuracy: 0.9724\n",
            "Epoch 22/100\n",
            "157/157 [==============================] - 27s 171ms/step - loss: 0.7540 - accuracy: 0.7343 - top-5-accuracy: 0.9837 - val_loss: 0.7877 - val_accuracy: 0.7289 - val_top-5-accuracy: 0.9797\n",
            "Epoch 23/100\n",
            "157/157 [==============================] - 27s 169ms/step - loss: 0.7432 - accuracy: 0.7375 - top-5-accuracy: 0.9841 - val_loss: 0.8022 - val_accuracy: 0.7200 - val_top-5-accuracy: 0.9793\n",
            "Epoch 24/100\n",
            "157/157 [==============================] - 27s 171ms/step - loss: 0.7284 - accuracy: 0.7449 - top-5-accuracy: 0.9858 - val_loss: 0.8412 - val_accuracy: 0.7115 - val_top-5-accuracy: 0.9778\n",
            "Epoch 25/100\n",
            "157/157 [==============================] - 27s 169ms/step - loss: 0.7123 - accuracy: 0.7469 - top-5-accuracy: 0.9861 - val_loss: 0.7986 - val_accuracy: 0.7249 - val_top-5-accuracy: 0.9790\n",
            "Epoch 26/100\n",
            "157/157 [==============================] - 27s 170ms/step - loss: 0.6821 - accuracy: 0.7597 - top-5-accuracy: 0.9869 - val_loss: 0.7693 - val_accuracy: 0.7421 - val_top-5-accuracy: 0.9814\n",
            "Epoch 27/100\n",
            "157/157 [==============================] - 27s 170ms/step - loss: 0.6589 - accuracy: 0.7697 - top-5-accuracy: 0.9881 - val_loss: 0.7579 - val_accuracy: 0.7419 - val_top-5-accuracy: 0.9835\n",
            "Epoch 28/100\n",
            "157/157 [==============================] - 27s 170ms/step - loss: 0.6441 - accuracy: 0.7744 - top-5-accuracy: 0.9898 - val_loss: 0.7735 - val_accuracy: 0.7383 - val_top-5-accuracy: 0.9797\n",
            "Epoch 29/100\n",
            "157/157 [==============================] - 27s 169ms/step - loss: 0.6401 - accuracy: 0.7743 - top-5-accuracy: 0.9885 - val_loss: 0.7671 - val_accuracy: 0.7452 - val_top-5-accuracy: 0.9798\n",
            "Epoch 30/100\n",
            "157/157 [==============================] - 27s 171ms/step - loss: 0.6185 - accuracy: 0.7823 - top-5-accuracy: 0.9901 - val_loss: 0.7633 - val_accuracy: 0.7416 - val_top-5-accuracy: 0.9802\n",
            "Epoch 31/100\n",
            "157/157 [==============================] - 27s 170ms/step - loss: 0.6044 - accuracy: 0.7860 - top-5-accuracy: 0.9898 - val_loss: 0.7273 - val_accuracy: 0.7581 - val_top-5-accuracy: 0.9814\n",
            "Epoch 32/100\n",
            "157/157 [==============================] - 27s 169ms/step - loss: 0.5819 - accuracy: 0.7940 - top-5-accuracy: 0.9915 - val_loss: 0.7320 - val_accuracy: 0.7526 - val_top-5-accuracy: 0.9822\n",
            "Epoch 33/100\n",
            "157/157 [==============================] - 27s 171ms/step - loss: 0.5742 - accuracy: 0.7964 - top-5-accuracy: 0.9919 - val_loss: 0.7307 - val_accuracy: 0.7587 - val_top-5-accuracy: 0.9821\n",
            "Epoch 34/100\n",
            "157/157 [==============================] - 27s 170ms/step - loss: 0.5554 - accuracy: 0.8039 - top-5-accuracy: 0.9926 - val_loss: 0.7108 - val_accuracy: 0.7682 - val_top-5-accuracy: 0.9836\n",
            "Epoch 35/100\n",
            "157/157 [==============================] - 27s 170ms/step - loss: 0.5419 - accuracy: 0.8072 - top-5-accuracy: 0.9928 - val_loss: 0.7343 - val_accuracy: 0.7599 - val_top-5-accuracy: 0.9847\n",
            "Epoch 36/100\n",
            "157/157 [==============================] - 27s 170ms/step - loss: 0.5191 - accuracy: 0.8174 - top-5-accuracy: 0.9937 - val_loss: 0.7459 - val_accuracy: 0.7568 - val_top-5-accuracy: 0.9814\n",
            "Epoch 37/100\n",
            "157/157 [==============================] - 27s 170ms/step - loss: 0.5086 - accuracy: 0.8192 - top-5-accuracy: 0.9940 - val_loss: 0.7416 - val_accuracy: 0.7530 - val_top-5-accuracy: 0.9850\n",
            "Epoch 38/100\n",
            "157/157 [==============================] - 27s 171ms/step - loss: 0.4993 - accuracy: 0.8232 - top-5-accuracy: 0.9941 - val_loss: 0.7157 - val_accuracy: 0.7671 - val_top-5-accuracy: 0.9829\n",
            "Epoch 39/100\n",
            "157/157 [==============================] - 27s 170ms/step - loss: 0.4752 - accuracy: 0.8306 - top-5-accuracy: 0.9952 - val_loss: 0.7147 - val_accuracy: 0.7649 - val_top-5-accuracy: 0.9848\n",
            "TESTING\n",
            "40/40 [==============================] - 2s 59ms/step - loss: 0.7410 - accuracy: 0.7567 - top-5-accuracy: 0.9828\n",
            "Loss: 0.74\n",
            "Top 1 test accuracy: 75.67%\n",
            "Top 5 test accuracy: 98.28%\n"
          ]
        }
      ]
    },
    {
      "cell_type": "markdown",
      "source": [
        "***Save trained model***\n",
        "\n",
        "Since we created the model by Subclassing, we can't save the model in HDF5 format.\n",
        "\n",
        "It can be saved in TF SavedModel format only. In general, this is the recommended format for saving models as well."
      ],
      "metadata": {
        "id": "pVnVuz112tgN"
      }
    },
    {
      "cell_type": "code",
      "source": [
        "model.save(\"ShiftViT\")"
      ],
      "metadata": {
        "id": "2GUm8Z550Ag_"
      },
      "execution_count": 17,
      "outputs": []
    },
    {
      "cell_type": "markdown",
      "source": [
        "***Model inference***\n",
        "\n",
        "**Download sample data for inference**"
      ],
      "metadata": {
        "id": "jnqMGcQE2ioX"
      }
    },
    {
      "cell_type": "code",
      "source": [
        "!wget -q 'https://tinyurl.com/2p9483sw' -O inference_set.zip\n",
        "!unzip -q inference_set.zip"
      ],
      "metadata": {
        "id": "VOfO5Cy50FyU"
      },
      "execution_count": 18,
      "outputs": []
    },
    {
      "cell_type": "code",
      "source": [
        "# Custom objects are not included when the model is saved.\n",
        "# At loading time, these objects need to be passed for reconstruction of the model\n",
        "saved_model = tf.keras.models.load_model(\n",
        "    \"ShiftViT\",\n",
        "    custom_objects={\"WarmUpCosine\": WarmUpCosine, \"AdamW\": tfa.optimizers.AdamW},\n",
        ")"
      ],
      "metadata": {
        "id": "DRlhGjuM1i-W"
      },
      "execution_count": 19,
      "outputs": []
    },
    {
      "cell_type": "markdown",
      "source": [
        "***Utility functions for inference***"
      ],
      "metadata": {
        "id": "_LGaM4c02UNJ"
      }
    },
    {
      "cell_type": "code",
      "source": [
        "def process_image(img_path):\n",
        "    # read image file from string path\n",
        "    img = tf.io.read_file(img_path)\n",
        "\n",
        "    # decode jpeg to uint8 tensor\n",
        "    img = tf.io.decode_jpeg(img, channels=3)\n",
        "\n",
        "    # resize image to match input size accepted by model\n",
        "    # use `method` as `nearest` to preserve dtype of input passed to `resize()`\n",
        "    img = tf.image.resize(\n",
        "        img, [config.input_shape[0], config.input_shape[1]], method=\"nearest\"\n",
        "    )\n",
        "    return img\n",
        "\n",
        "\n",
        "def create_tf_dataset(image_dir):\n",
        "    data_dir = pathlib.Path(image_dir)\n",
        "\n",
        "    # create tf.data dataset using directory of images\n",
        "    predict_ds = tf.data.Dataset.list_files(str(data_dir / \"*.jpg\"), shuffle=False)\n",
        "\n",
        "    # use map to convert string paths to uint8 image tensors\n",
        "    # setting `num_parallel_calls' helps in processing multiple images parallely\n",
        "    predict_ds = predict_ds.map(process_image, num_parallel_calls=AUTO)\n",
        "\n",
        "    # create a Prefetch Dataset for better latency & throughput\n",
        "    predict_ds = predict_ds.batch(config.tf_ds_batch_size).prefetch(AUTO)\n",
        "    return predict_ds\n",
        "\n",
        "\n",
        "def predict(predict_ds):\n",
        "    # ShiftViT model returns logits (non-normalized predictions)\n",
        "    logits = saved_model.predict(predict_ds)\n",
        "\n",
        "    # normalize predictions by calling softmax()\n",
        "    probabilities = tf.nn.softmax(logits)\n",
        "    return probabilities\n",
        "\n",
        "\n",
        "def get_predicted_class(probabilities):\n",
        "    pred_label = np.argmax(probabilities)\n",
        "    predicted_class = config.label_map[pred_label]\n",
        "    return predicted_class\n",
        "\n",
        "\n",
        "def get_confidence_scores(probabilities):\n",
        "    # get the indices of the probability scores sorted in descending order\n",
        "    labels = np.argsort(probabilities)[::-1]\n",
        "    confidences = {\n",
        "        config.label_map[label]: np.round((probabilities[label]) * 100, 2)\n",
        "        for label in labels\n",
        "    }\n",
        "    return confidences"
      ],
      "metadata": {
        "id": "X37Fg6gH1mM-"
      },
      "execution_count": 20,
      "outputs": []
    },
    {
      "cell_type": "code",
      "source": [
        "img_dir = \"inference_set\"\n",
        "predict_ds = create_tf_dataset(img_dir)\n",
        "probabilities = predict(predict_ds)\n",
        "print(f\"probabilities: {probabilities[0]}\")\n",
        "confidences = get_confidence_scores(probabilities[0])\n",
        "print(confidences)"
      ],
      "metadata": {
        "colab": {
          "base_uri": "https://localhost:8080/"
        },
        "id": "SCaYekXu1wWg",
        "outputId": "c267db59-d1be-439e-da36-fcea3779f9e0"
      },
      "execution_count": 21,
      "outputs": [
        {
          "output_type": "stream",
          "name": "stdout",
          "text": [
            "1/1 [==============================] - 2s 2s/step\n",
            "probabilities: [9.9790812e-01 1.7290583e-06 8.1658807e-05 2.7093054e-05 1.5788730e-05\n",
            " 1.9483309e-06 7.6940869e-06 2.6148241e-06 1.9510021e-03 2.3278919e-06]\n",
            "{'airplane': 99.79, 'ship': 0.2, 'bird': 0.01, 'cat': 0.0, 'deer': 0.0, 'frog': 0.0, 'horse': 0.0, 'truck': 0.0, 'dog': 0.0, 'automobile': 0.0}\n"
          ]
        }
      ]
    },
    {
      "cell_type": "code",
      "source": [
        "plt.figure(figsize=(10, 10))\n",
        "for images in predict_ds:\n",
        "    for i in range(min(6, probabilities.shape[0])):\n",
        "        ax = plt.subplot(3, 3, i + 1)\n",
        "        plt.imshow(images[i].numpy().astype(\"uint8\"))\n",
        "        predicted_class = get_predicted_class(probabilities[i])\n",
        "        plt.title(predicted_class)\n",
        "        plt.axis(\"off\")"
      ],
      "metadata": {
        "colab": {
          "base_uri": "https://localhost:8080/",
          "height": 238
        },
        "id": "W8O7wbq814tj",
        "outputId": "10f3d649-d9a9-4ead-da2e-404644da756d"
      },
      "execution_count": 22,
      "outputs": [
        {
          "output_type": "display_data",
          "data": {
            "text/plain": [
              "<Figure size 1000x1000 with 6 Axes>"
            ],
            "image/png": "[encoded data removed]"
          },
          "metadata": {}
        }
      ]
    },
    {
      "cell_type": "markdown",
      "source": [
        "***Conclusion***\n",
        "\n",
        "The most impactful contribution of the paper is not the novel architecture, but the idea that hierarchical ViTs trained with no attention can perform quite well. This opens up the question of how essential attention is to the performance of ViTs.\n",
        "\n",
        "For curious minds, we would suggest reading the ConvNexT paper which attends more to the training paradigms and architectural details of ViTs rather than providing a novel architecture based on attention.\n",
        "\n",
        "Acknowledgements:\n",
        "\n",
        "We would like to thank PyImageSearch for providing us with resources that helped in the completion of this project.\n",
        "We would like to thank JarvisLabs.ai for providing with the GPU credits.\n",
        "We would like to thank Manim Community for the manim library.A personal note of thanks to Puja Roychowdhury for helping us with the Learning Rate Schedule."
      ],
      "metadata": {
        "id": "2HmDFPx-2Enw"
      }
    }
  ]
}