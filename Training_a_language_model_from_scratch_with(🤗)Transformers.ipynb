{
  "cells": [
    {
      "cell_type": "markdown",
      "metadata": {
        "id": "view-in-github",
        "colab_type": "text"
      },
      "source": [
        "<a href=\"https://colab.research.google.com/github/ritwiks9635/My_Neural_Network_Architecture/blob/main/Training_a_language_model_from_scratch_with(%F0%9F%A4%97)Transformers.ipynb\" target=\"_parent\"><img src=\"https://colab.research.google.com/assets/colab-badge.svg\" alt=\"Open In Colab\"/></a>"
      ]
    },
    {
      "cell_type": "markdown",
      "source": [
        "#**Training a language model from scratch with 🤗 Transformers and TPUs**"
      ],
      "metadata": {
        "id": "xxmZxB7nOHcj"
      }
    },
    {
      "cell_type": "markdown",
      "source": [
        "## Introduction\n",
        "\n",
        "In this example, we cover how to train a masked language model using TensorFlow,\n",
        "[🤗 Transformers](https://huggingface.co/transformers/index),\n",
        "and TPUs.\n",
        "\n",
        "TPU training is a useful skill to have: TPU pods are high-performance and extremely\n",
        "scalable, making it easy to train models at any scale from a few tens of millions of\n",
        "parameters up to truly enormous sizes: Google's PaLM model\n",
        "(over 500 billion parameters!) was trained entirely on TPU pods.\n",
        "\n",
        "We've previously written a\n",
        "[**tutorial**](https://huggingface.co/docs/transformers/main/perf_train_tpu_tf)\n",
        "and a\n",
        "[**Colab example**](https://colab.research.google.com/github/huggingface/notebooks/blob/main/examples/tpu_training-tf.ipynb)\n",
        "showing small-scale TPU training with TensorFlow and introducing the core concepts you\n",
        "need to understand to get your model working on TPU. However, our Colab example doesn't\n",
        "contain all the steps needed to train a language model from scratch such as\n",
        "training the tokenizer. So, we wanted to provide a consolidated example of\n",
        "walking you through every critical step involved there.\n",
        "\n",
        "As in our Colab example, we're taking advantage of TensorFlow's very clean TPU support\n",
        "via XLA and `TPUStrategy`. We'll also be benefiting from the fact that the majority of\n",
        "the TensorFlow models in 🤗 Transformers are fully\n",
        "[XLA-compatible](https://huggingface.co/blog/tf-xla-generate).\n",
        "So surprisingly, little work is needed to get them to run on TPU.\n",
        "\n",
        "This example is designed to be **scalable** and much closer to a realistic training run\n",
        "-- although we only use a BERT-sized model by default, the code could be expanded to a\n",
        "much larger model and a much more powerful TPU pod slice by changing a few configuration\n",
        "options.\n",
        "\n",
        "The following diagram gives you a pictorial overview of the steps involved in training a\n",
        "language model with 🤗 Transformers using TensorFlow and TPUs:\n",
        "\n",
        "![https://huggingface.co/datasets/huggingface/documentation-images/resolve/main/blog/tf_tpu/tf_tpu_steps.png](https://huggingface.co/datasets/huggingface/documentation-images/resolve/main/blog/tf_tpu/tf_tpu_steps.png)\n",
        "\n",
        "*(Contents of this example overlap with\n",
        "[this blog post](https://huggingface.co/blog/tf_tpu)).*\n",
        "\n",
        "\n",
        "\n",
        "## Data\n",
        "\n",
        "We use the\n",
        "[WikiText dataset (v1)](https://huggingface.co/datasets/wikitext).\n",
        "You can head over to the\n",
        "[dataset page on the Hugging Face Hub](https://huggingface.co/datasets/wikitext)\n",
        "to explore the dataset.\n",
        "\n",
        "![data_preview_wikitext](https://huggingface.co/datasets/sayakpaul/sample-datasets/resolve/main/data_preview_wikitext.png)\n",
        "\n",
        "Since the dataset is already available on the Hub in a compatible format, we can easily\n",
        "load and interact with it using\n",
        "[🤗 datasets](https://hf.co/docs/datasets).\n",
        "However, training a language model from scratch also requires a separate\n",
        "tokenizer training step. We skip that part in this example for brevity, but,\n",
        "here's a gist of what we can do to train a tokenizer from scratch:\n",
        "\n",
        "- Load the `train` split of the WikiText using 🤗 datasets.\n",
        "- Leverage\n",
        "[🤗 tokenizers](https://huggingface.co/docs/tokenizers/index)\n",
        "to train a\n",
        "[**Unigram model**](https://huggingface.co/course/chapter6/7?fw=pt).\n",
        "- Upload the trained tokenizer on the Hub.\n",
        "\n",
        "You can find the tokenizer training\n",
        "code\n",
        "[**here**](https://github.com/huggingface/transformers/tree/main/examples/tensorflow/language-modeling-tpu#training-a-tokenizer)\n",
        "and the tokenizer\n",
        "[**here**](https://huggingface.co/tf-tpu/unigram-tokenizer-wikitext).\n",
        "This script also allows you to run it with\n",
        "[**any compatible dataset**](https://huggingface.co/datasets?task_ids=task_ids:language-modeling)\n",
        "from the Hub.\n",
        "\"\"\"\n",
        "\n",
        "\n",
        "## Tokenizing the data and creating TFRecord\n",
        "\n",
        "Once the tokenizer is trained, we can use it on all the dataset splits\n",
        "(`train`, `validation`, and `test` in this case) and create TFRecord shards out of them.\n",
        "Having the data splits spread across multiple TFRecord shards helps with massively\n",
        "parallel processing as opposed to having each split in single TFRecord files.\n",
        "\n",
        "We tokenize the samples individually. We then take a batch of samples, concatenate them\n",
        "together, and split them into several chunks of a fixed size (128 in our case). We follow\n",
        "this strategy rather than tokenizing a batch of samples with a fixed length to avoid\n",
        "aggressively discarding text content (because of truncation).\n",
        "\n",
        "We then take these tokenized samples in batches and serialize those batches as multiple\n",
        "TFRecord shards, where the total dataset length and individual shard size determine the\n",
        "number of shards. Finally, these shards are pushed to a\n",
        "[Google Cloud Storage (GCS) bucket](https://cloud.google.com/storage/docs/json_api/v1/buckets).\n",
        "\n",
        "If you're using a TPU node for training, then the data needs to be streamed from a GCS\n",
        "bucket since the node host memory is very small. But for TPU VMs, we can use datasets\n",
        "locally or even attach persistent storage to those VMs. Since TPU nodes (which is what we\n",
        "have in a Colab) are still quite heavily used, we based our example on using a GCS bucket\n",
        "for data storage.\n",
        "\n",
        "You can see all of this in code in\n",
        "[this script](https://github.com/huggingface/transformers/blob/main/examples/tensorflow/language-modeling-tpu/prepare_tfrecord_shards.py).\n",
        "For convenience, we have also hosted the resultant TFRecord shards in\n",
        "[this repository](https://huggingface.co/datasets/tf-tpu/wikitext-v1-tfrecords)\n",
        "on the Hub.\n",
        "\n",
        "Once the data is tokenized and serialized into TFRecord shards, we can proceed toward\n",
        "training."
      ],
      "metadata": {
        "id": "WuIf_7Uh3q-G"
      }
    },
    {
      "cell_type": "code",
      "source": [
        "!pip install transformers -q\n",
        "!pip install --upgrade tensorflow==2.2"
      ],
      "metadata": {
        "id": "tmHPTy3zOMjE"
      },
      "execution_count": null,
      "outputs": []
    },
    {
      "cell_type": "code",
      "source": [
        "import os\n",
        "import re\n",
        "\n",
        "import tensorflow as tf\n",
        "\n",
        "import transformers"
      ],
      "metadata": {
        "id": "dKyquoSiOVlM"
      },
      "execution_count": null,
      "outputs": []
    },
    {
      "cell_type": "markdown",
      "source": [
        "### Initialize TPUs\n",
        "\n",
        "\n",
        "\n",
        "Then let's connect to our TPU and determine the distribution strategy:"
      ],
      "metadata": {
        "id": "BXVfrTVK4Mgx"
      }
    },
    {
      "cell_type": "code",
      "source": [
        "tpu = tf.distribute.cluster_resolver.TPUClusterResolver()\n",
        "\n",
        "tf.config.experimental_connect_to_cluster(tpu)\n",
        "tf.tpu.experimental.initialize_tpu_system(tpu)\n",
        "\n",
        "strategy = tf.distribute.TPUStrategy(tpu)\n",
        "\n",
        "print(f\"Available number of replicas: {strategy.num_replicas_in_sync}\")"
      ],
      "metadata": {
        "id": "KpCieWvpO2Ik",
        "colab": {
          "base_uri": "https://localhost:8080/"
        },
        "outputId": "130b7b07-cf3d-4718-aa29-d8bf7424ee87"
      },
      "execution_count": null,
      "outputs": [
        {
          "output_type": "stream",
          "name": "stdout",
          "text": [
            "Available number of replicas: 8\n"
          ]
        }
      ]
    },
    {
      "cell_type": "markdown",
      "source": [
        "We then load the tokenizer. For more details on the tokenizer, check out\n",
        "[its repository](https://huggingface.co/tf-tpu/unigram-tokenizer-wikitext).\n",
        "For the model, we use RoBERTa (the base variant), introduced in\n",
        "[this paper](https://arxiv.org/abs/1907.11692).\n",
        "\n",
        "\n",
        "\n",
        "### Initialize the tokenizer"
      ],
      "metadata": {
        "id": "GNCS3gkx4TgC"
      }
    },
    {
      "cell_type": "code",
      "source": [
        "tokenizer = \"tf-tpu/unigram-tokenizer-wikitext\"\n",
        "pretrained_model_config = \"roberta-base\"\n",
        "\n",
        "tokenizer = transformers.AutoTokenizer.from_pretrained(tokenizer)\n",
        "config = transformers.AutoConfig.from_pretrained(pretrained_model_config)\n",
        "config.vocab_size = tokenizer.vocab_size"
      ],
      "metadata": {
        "colab": {
          "base_uri": "https://localhost:8080/",
          "height": 369,
          "referenced_widgets": [
            "91a2157c7ea4494bb996e6139537c434",
            "d94011b9c3bf4abc9a6e3a8d619bbd17",
            "65d4078356ea4c40b68a833f32acd9ac",
            "5089e8ebd20342bc983922f11cf75aa9",
            "e02cb9b10560469a9fe7a8dfa72929af",
            "a8182e7ecebf4090adbbb490df9ec222",
            "b90c5065d8c342818ebd546215577984",
            "7deb548bc5e34d9f84416ddb3b3b4598",
            "80efc132ea224aacb2b1ef523765af72",
            "dc66baccc4bb43798b369fd0cd51c0c5",
            "584301f770824aa7b0051c4a4e5b7648",
            "97f056b4569e4bd9b15dbeed81189ea6",
            "303811ae08414291974fd33092fac5ec",
            "d6c525daef21493c8c60aea2d38a5be5",
            "a3b4381c38bf4d1f8d02d263c6627a7a",
            "6fb4ed007dce48afabde68b66d92aa2f",
            "bb4d6cca26254191a6394b2ebe45cab3",
            "817a28bf83f2468fa50b4e7ff9a3a3cc",
            "b519009950864d21ab2db5fd135bc243",
            "095a85f98a2842299b365c3db588b1b7",
            "ce8583b1af4a44bbb001054a5f81f8d1",
            "d512dd6fd20c4b049d4fbd2f14274c3e",
            "ec45249a20604508930f0b3899e967b5",
            "4dd676ce62984c61aada1ab1bed106c7",
            "1fdb72d5eef54e9caa5a06c554e99546",
            "a1f9260093854865b0d7e13e4e825720",
            "2aaa515a94b64cc188febfb978ed9209",
            "8188b35c9ab14819a4fd55804af51d81",
            "dc5269872ced4dbfb115fd8e51892152",
            "811cff18fd7c4ff6bbc5635c89752ef2",
            "5a4f010d5865496c8b8f040fe78d9e09",
            "ecd764ffe0ee47d0b31da92314f7c563",
            "7ef76734c02c4576b9525e125003a566",
            "dc0580d0a50a4260b01cf007e10f700f",
            "0bf3fba3de5e42d8a6ecf5aff3af1d92",
            "f17693a6e96a49eba3b6714628b3d31a",
            "06b855c2b511457a89b944eb1ced8ba4",
            "c37d0761fed44171bdff4476d55e6181",
            "b2b1acb7e9604abf8d45bbee74ed3461",
            "8afd3866b93b44ee966f4c257d5b212a",
            "0b53923cfdaf4943a88721f99bef4422",
            "6479c3c5ecc44d269f940a8aeed74a93",
            "964764d5789f40388220da9a338adab2",
            "dd944d6275c3460fa640f3cd37ec4f56"
          ]
        },
        "id": "BdVc5_FkPbyr",
        "outputId": "221c8e39-2f99-4c2e-e3e1-4af53701e999"
      },
      "execution_count": null,
      "outputs": [
        {
          "output_type": "display_data",
          "data": {
            "text/plain": [
              "tokenizer_config.json:   0%|          | 0.00/483 [00:00<?, ?B/s]"
            ],
            "application/vnd.jupyter.widget-view+json": {
              "version_major": 2,
              "version_minor": 0,
              "model_id": "91a2157c7ea4494bb996e6139537c434"
            }
          },
          "metadata": {}
        },
        {
          "output_type": "display_data",
          "data": {
            "text/plain": [
              "tokenizer.json:   0%|          | 0.00/1.61M [00:00<?, ?B/s]"
            ],
            "application/vnd.jupyter.widget-view+json": {
              "version_major": 2,
              "version_minor": 0,
              "model_id": "97f056b4569e4bd9b15dbeed81189ea6"
            }
          },
          "metadata": {}
        },
        {
          "output_type": "display_data",
          "data": {
            "text/plain": [
              "special_tokens_map.json:   0%|          | 0.00/286 [00:00<?, ?B/s]"
            ],
            "application/vnd.jupyter.widget-view+json": {
              "version_major": 2,
              "version_minor": 0,
              "model_id": "ec45249a20604508930f0b3899e967b5"
            }
          },
          "metadata": {}
        },
        {
          "output_type": "display_data",
          "data": {
            "text/plain": [
              "config.json:   0%|          | 0.00/481 [00:00<?, ?B/s]"
            ],
            "application/vnd.jupyter.widget-view+json": {
              "version_major": 2,
              "version_minor": 0,
              "model_id": "dc0580d0a50a4260b01cf007e10f700f"
            }
          },
          "metadata": {}
        }
      ]
    },
    {
      "cell_type": "markdown",
      "source": [
        "### Prepare the datasets\n",
        "\n",
        "\n",
        "\n",
        "We now load the TFRecord shards of the WikiText dataset (which the Hugging Face team\n",
        "prepared beforehand for this example):"
      ],
      "metadata": {
        "id": "8Gc8wf9m4aas"
      }
    },
    {
      "cell_type": "code",
      "source": [
        "train_dataset_path = \"gs://tf-tpu-training-resources/train\"\n",
        "eval_dataset_path = \"gs://tf-tpu-training-resources/validation\"\n",
        "\n",
        "training_records = tf.io.gfile.glob(os.path.join(train_dataset_path, \"*.tfrecord\"))\n",
        "eval_records = tf.io.gfile.glob(os.path.join(eval_dataset_path, \"*.tfrecord\"))"
      ],
      "metadata": {
        "id": "WwUGnTBMPqaD"
      },
      "execution_count": null,
      "outputs": []
    },
    {
      "cell_type": "code",
      "source": [
        "training_records[0]"
      ],
      "metadata": {
        "colab": {
          "base_uri": "https://localhost:8080/",
          "height": 53
        },
        "id": "0HAFOCQPRJHL",
        "outputId": "2cc9c77e-e9a9-4b8e-e8b0-1774d04374b2"
      },
      "execution_count": null,
      "outputs": [
        {
          "output_type": "execute_result",
          "data": {
            "text/plain": [
              "'gs://tf-tpu-training-resources/train/wikitext-0-5000.tfrecord'"
            ],
            "application/vnd.google.colaboratory.intrinsic+json": {
              "type": "string"
            }
          },
          "metadata": {},
          "execution_count": 6
        }
      ]
    },
    {
      "cell_type": "markdown",
      "source": [
        "Now, we will write a utility to count the number of training samples we have. We need to\n",
        "know this value in order properly initialize our optimizer later:"
      ],
      "metadata": {
        "id": "wFSzSmSQ4kf4"
      }
    },
    {
      "cell_type": "code",
      "source": [
        "def count_samples(file_path):\n",
        "    num_samples = 0\n",
        "    for file in file_path:\n",
        "        filename = file.split(\"/\")[-1]\n",
        "        sample_count = re.search(r\"-\\d+-(\\d+)\\.tfrecord\", filename).group(1)\n",
        "        sample_count = int(sample_count)\n",
        "        num_samples += sample_count\n",
        "\n",
        "    return num_samples\n",
        "\n",
        "\n",
        "num_train_samples = count_samples(training_records)\n",
        "print(f\"Number of total training samples: {num_train_samples}\")"
      ],
      "metadata": {
        "colab": {
          "base_uri": "https://localhost:8080/"
        },
        "id": "L9o9nqkBSVyd",
        "outputId": "69ca3f6b-cf03-47ab-f9ff-3c80ab0705a0"
      },
      "execution_count": null,
      "outputs": [
        {
          "output_type": "stream",
          "name": "stdout",
          "text": [
            "Number of total training samples: 300917\n"
          ]
        }
      ]
    },
    {
      "cell_type": "markdown",
      "source": [
        "Let's now prepare our datasets for training and evaluation. We start by writing our\n",
        "utilities. First, we need to be able to decode the TFRecords:"
      ],
      "metadata": {
        "id": "tnpSO3L44vi4"
      }
    },
    {
      "cell_type": "code",
      "source": [
        "max_sequence_length = 512\n",
        "\n",
        "def decode_fn(example):\n",
        "    features = {\n",
        "        \"input_ids\": tf.io.FixedLenFeature(\n",
        "            dtype=tf.int64, shape=(max_sequence_length,)\n",
        "        ),\n",
        "        \"attention_mask\": tf.io.FixedLenFeature(\n",
        "            dtype=tf.int64, shape=(max_sequence_length,)\n",
        "        ),\n",
        "    }\n",
        "    return tf.io.parse_single_example(example, features)"
      ],
      "metadata": {
        "id": "izATZEwDUMN5"
      },
      "execution_count": null,
      "outputs": []
    },
    {
      "cell_type": "markdown",
      "source": [
        "Here, `max_sequence_length` needs to be the same as the one used during preparing the\n",
        "TFRecord shards.Refer to\n",
        "[this script](https://github.com/huggingface/transformers/blob/main/examples/tensorflow/language-modeling-tpu/prepare_tfrecord_shards.py)\n",
        "for more details.\n",
        "\n",
        "Next up, we have our masking utility that is responsible for masking parts of the inputs\n",
        "and preparing labels for the masked language model to learn from. We leverage the\n",
        "[`DataCollatorForLanguageModeling`](https://huggingface.co/docs/transformers/v4.29.1/en/main_classes/data_collator#transformers.DataCollatorForLanguageModeling)\n",
        "for this purpose."
      ],
      "metadata": {
        "id": "XcSXh3Db40ir"
      }
    },
    {
      "cell_type": "code",
      "source": [
        "# We use a standard masking probability of 0.15. `mlm_probability` denotes\n",
        "# probability with which we mask the input tokens in a sequence.\n",
        "mlm_probability = 0.15\n",
        "data_collator = transformers.DataCollatorForLanguageModeling(\n",
        "    tokenizer=tokenizer, mlm_probability=mlm_probability, mlm=True, return_tensors=\"tf\")\n",
        "\n",
        "\n",
        "def mask_with_collator(batch):\n",
        "    special_tokens_mask = (\n",
        "        ~tf.cast(batch[\"attention_mask\"], tf.bool)\n",
        "        | (batch[\"input_ids\"] == tokenizer.cls_token_id)\n",
        "        | (batch[\"input_ids\"] == tokenizer.sep_token_id)\n",
        "    )\n",
        "    batch[\"input_ids\"], batch[\"labels\"] = data_collator.tf_mask_tokens(\n",
        "        batch[\"input_ids\"],\n",
        "        vocab_size=len(tokenizer),\n",
        "        mask_token_id=tokenizer.mask_token_id,\n",
        "        special_tokens_mask=special_tokens_mask,\n",
        "    )\n",
        "    return batch"
      ],
      "metadata": {
        "id": "2sBGy22ZUrxG"
      },
      "execution_count": null,
      "outputs": []
    },
    {
      "cell_type": "markdown",
      "source": [
        "And now is the time to write the final data preparation utility to put it all together in\n",
        "a `tf.data.Dataset` object:"
      ],
      "metadata": {
        "id": "C_Ps6C7P43kl"
      }
    },
    {
      "cell_type": "code",
      "source": [
        "auto = tf.data.AUTOTUNE\n",
        "shuffle_buffer_size = 2**18\n",
        "\n",
        "def prepare_dataset(\n",
        "    records, decode_fn, mask_fn, batch_size, shuffle, shuffle_buffer_size=None):\n",
        "    num_samples = count_samples(records)\n",
        "    dataset = tf.data.Dataset.from_tensor_slices(records)\n",
        "    if shuffle:\n",
        "        dataset = dataset.shuffle(len(dataset))\n",
        "    dataset = tf.data.TFRecordDataset(dataset, num_parallel_reads=auto)\n",
        "    # TF can't infer the total sample count because it doesn't read\n",
        "    #  all the records yet, so we assert it here.\n",
        "    dataset = dataset.apply(tf.data.experimental.assert_cardinality(num_samples))\n",
        "    dataset = dataset.map(decode_fn, num_parallel_calls=auto)\n",
        "    if shuffle:\n",
        "        assert shuffle_buffer_size is not None\n",
        "        dataset = dataset.shuffle(shuffle_buffer_size)\n",
        "    dataset = dataset.batch(batch_size, drop_remainder=True)\n",
        "    dataset = dataset.map(mask_fn, num_parallel_calls=auto)\n",
        "    dataset = dataset.prefetch(auto)\n",
        "    return dataset"
      ],
      "metadata": {
        "id": "t8AGAXU4Iv4B"
      },
      "execution_count": null,
      "outputs": []
    },
    {
      "cell_type": "code",
      "source": [
        "per_replica_batch_size = 16  # Change as needed.\n",
        "batch_size = per_replica_batch_size * strategy.num_replicas_in_sync\n",
        "shuffle_buffer_size = 2**18  # Default corresponds to a 1GB buffer for seq_len 512\n",
        "\n",
        "train_dataset = prepare_dataset(\n",
        "            training_records,\n",
        "            decode_fn = decode_fn,\n",
        "            mask_fn = mask_with_collator,\n",
        "            batch_size = batch_size,\n",
        "            shuffle = True,\n",
        "            shuffle_buffer_size = shuffle_buffer_size)\n",
        "\n",
        "\n",
        "eval_dataset = prepare_dataset(\n",
        "            eval_records,\n",
        "            decode_fn = decode_fn,\n",
        "            mask_fn = mask_with_collator,\n",
        "            batch_size = batch_size,\n",
        "            shuffle = False,\n",
        "            )"
      ],
      "metadata": {
        "id": "kYe4uNAwPezR"
      },
      "execution_count": null,
      "outputs": []
    },
    {
      "cell_type": "code",
      "source": [
        "single_batch = next(iter(train_dataset))\n",
        "print(single_batch.keys())"
      ],
      "metadata": {
        "colab": {
          "base_uri": "https://localhost:8080/"
        },
        "id": "I0HPRDQRwTCX",
        "outputId": "e6a29166-acfe-42c4-c9c5-456d69a845cd"
      },
      "execution_count": null,
      "outputs": [
        {
          "output_type": "stream",
          "name": "stdout",
          "text": [
            "dict_keys(['attention_mask', 'input_ids', 'labels'])\n"
          ]
        }
      ]
    },
    {
      "cell_type": "code",
      "source": [
        "single_batch['labels']"
      ],
      "metadata": {
        "colab": {
          "base_uri": "https://localhost:8080/"
        },
        "id": "3EDixVMSxc9a",
        "outputId": "57ce29fc-91ca-493a-8329-1d0e47495fe3"
      },
      "execution_count": null,
      "outputs": [
        {
          "output_type": "execute_result",
          "data": {
            "text/plain": [
              "<tf.Tensor: shape=(128, 512), dtype=int64, numpy=\n",
              "array([[  37, -100, -100, ..., -100, -100, 3327],\n",
              "       [-100, 1314, -100, ..., -100, -100, -100],\n",
              "       [-100, -100,  189, ..., -100, -100,    5],\n",
              "       ...,\n",
              "       [  14, -100, -100, ..., -100, -100, -100],\n",
              "       [-100, -100, -100, ..., -100, -100, -100],\n",
              "       [   5, -100, -100, ..., -100, -100, -100]])>"
            ]
          },
          "metadata": {},
          "execution_count": 15
        }
      ]
    },
    {
      "cell_type": "markdown",
      "source": [
        "* `input_ids` denotes the tokenized versions of the input samples containing the mask\n",
        "tokens as well.\n",
        "* `attention_mask` denotes the mask to be used when performing attention operations.\n",
        "* `labels` denotes the actual values of masked tokens the model is supposed to learn from."
      ],
      "metadata": {
        "id": "ncWvZHMr5J75"
      }
    },
    {
      "cell_type": "code",
      "source": [
        "for k in single_batch:\n",
        "    if k == \"input_ids\":\n",
        "        input_ids = single_batch[k]\n",
        "        print(f\"Input shape: {input_ids.shape}\")\n",
        "    if k == \"labels\":\n",
        "        labels = single_batch[k]\n",
        "        print(f\"Label shape: {labels.shape}\")"
      ],
      "metadata": {
        "colab": {
          "base_uri": "https://localhost:8080/"
        },
        "id": "WrL_ffHYxuNn",
        "outputId": "3885477a-e4b7-4250-b1f6-ab3e35a86689"
      },
      "execution_count": null,
      "outputs": [
        {
          "output_type": "stream",
          "name": "stdout",
          "text": [
            "Input shape: (128, 512)\n",
            "Label shape: (128, 512)\n"
          ]
        }
      ]
    },
    {
      "cell_type": "markdown",
      "source": [
        "Now, we can leverage our `tokenizer` to investigate the values of the tokens. Let's start\n",
        "with `input_ids`:"
      ],
      "metadata": {
        "id": "6v3oCMAf5SKg"
      }
    },
    {
      "cell_type": "code",
      "source": [
        "idx = 0\n",
        "print(\"Taking the first sample:\\n\")\n",
        "print(tokenizer.decode(input_ids[idx].numpy()))"
      ],
      "metadata": {
        "colab": {
          "base_uri": "https://localhost:8080/"
        },
        "id": "N41eq53ax6Ad",
        "outputId": "1b4185bf-f16d-46f0-e8a4-da486495bbeb"
      },
      "execution_count": null,
      "outputs": [
        {
          "output_type": "stream",
          "name": "stdout",
          "text": [
            "Taking the first sample:\n",
            "\n",
            "[MASK] resembling inedible species ( the model ) [MASK] Such a mimicry[MASK][MASK]is referred[MASK] as Batesian and is most commonly known in the example between the limen[MASK]idine viceroy butterfly in relation[MASK] the inedible[MASK]danaine monarch [MASK] The viceroy is,[MASK] fact,[MASK] toxic than the monarch and[MASK] resemblance should be considered[MASK] a[MASK] of Müllerian mimicr[MASK]. In Müllerian mimic[MASK]y[MASK][MASK] inedible species[MASK][MASK] usually withinagingき taxonomic order, find it advantageous[MASK][MASK] each other[MASK]s[MASK] as to reduce the sampling rate by predators that[MASK] to[MASK] about the insects'inedibility.[MASK][MASK]a from the[MASK]toxic genus Heliconius form one of the most well @-[MASK] known Müllerian complexes. The adult[MASK][MASK] the[MASK] species now resemble each other so well, the species cannot be[MASK][MASK] without close morphological observation and, in some cases, dissection or genetic analysis. \n",
            "[SEP][CLS] Moths evidently are [MASK] to hear the range emitted by[MASK] ][MASK]s[MASK], which in effect cause[MASK][MASK] moths to make evasive maneuvers because bats are a main predator of moths. Ultra[MASK]onic frequencies trigger a reflex action in the noctuid moth that cause it to drop[MASK]a few inches in its flight[MASK] evade attack. Tiger moths in a defense emit[MASK]s[MASK] the same range of the bats, which interfere with[MASK] bats and foil their attempts to echolocate it Make[MASK] \n",
            "[SEP][CLS][SEP][CLS] =[MASK]= = Poll[MASK]ation = = = \n",
            "[SEP][CLS][SEP][CLS] Most species of Lepidoptera engage in some[MASK][MASK] ent[MASK]m[MASK]ly ( more specifically[MASK][MASK]y and phalae[MASK]ophily for butterflies and moths, respectively ), or the pollination of flowers. Most adult[MASK]ies and moths feed on the[MASK] inside[MASK]s [MASK] using their pro[MASK]os[MASK]es to[MASK] the nectar[MASK]hidden[MASK]at the base of[MASK] petals. In the process,[MASK] adults brush against the[MASK]\n"
          ]
        }
      ]
    },
    {
      "cell_type": "markdown",
      "source": [
        "As expected, the decoded tokens contain the special tokens including the mask tokens as\n",
        "well. Let's now investigate the mask tokens:"
      ],
      "metadata": {
        "id": "-YnzrMLU5XVa"
      }
    },
    {
      "cell_type": "code",
      "source": [
        "# Taking the first 30 tokens of the first sequence.\n",
        "print(labels[0].numpy()[:30])"
      ],
      "metadata": {
        "colab": {
          "base_uri": "https://localhost:8080/"
        },
        "id": "BPjQ7P3ZyLq0",
        "outputId": "1cc4a57a-98e4-4ba4-933c-2d579373f663"
      },
      "execution_count": null,
      "outputs": [
        {
          "output_type": "stream",
          "name": "stdout",
          "text": [
            "[  37 -100 -100 -100 -100 -100 -100 -100 -100 -100 -100 -100 -100 -100\n",
            "    9 -100 -100 -100 -100 -100 -100 1453    5 -100 -100 -100   15 -100\n",
            " -100 -100]\n"
          ]
        }
      ]
    },
    {
      "cell_type": "markdown",
      "source": [
        "Here, `-100` means that the corresponding tokens in the `input_ids` are NOT masked and\n",
        "non `-100` values denote the actual values of the masked tokens.\n",
        "\n",
        "\n",
        "\n",
        "## Initialize the mode and and the optimizer\n",
        "\n",
        "\n",
        "\n",
        "With the datasets prepared, we now initialize and compile our model and optimizer within\n",
        "the `strategy.scope()`:"
      ],
      "metadata": {
        "id": "KOfjTdUh5gci"
      }
    },
    {
      "cell_type": "code",
      "source": [
        "# For this example, we keep this value to 10. But for a realistic run, start with 500.\n",
        "num_epochs = 10\n",
        "steps_per_epoch = num_train_samples // (\n",
        "    per_replica_batch_size * strategy.num_replicas_in_sync\n",
        ")\n",
        "total_train_steps = steps_per_epoch * num_epochs\n",
        "learning_rate = 0.0001\n",
        "weight_decay_rate = 1e-3\n",
        "\n",
        "with strategy.scope():\n",
        "    model = transformers.TFAutoModelForMaskedLM.from_config(config)\n",
        "    model(\n",
        "        model.dummy_inputs\n",
        "    )  # Pass some dummy inputs through the model to ensure all the weights are built\n",
        "    optimizer, schedule = transformers.create_optimizer(\n",
        "        num_train_steps=total_train_steps,\n",
        "        num_warmup_steps=total_train_steps // 20,\n",
        "        init_lr=learning_rate,\n",
        "        weight_decay_rate=weight_decay_rate,\n",
        "    )\n",
        "    model.compile(optimizer=optimizer, metrics=[\"accuracy\"])"
      ],
      "metadata": {
        "id": "vRwh9cxRyQux"
      },
      "execution_count": null,
      "outputs": []
    },
    {
      "cell_type": "markdown",
      "source": [
        "\n",
        "A couple of things to note here:\n",
        "* The\n",
        "[`create_optimizer()`](https://huggingface.co/docs/transformers/main_classes/optimizer_schedules#transformers.create_optimizer)\n",
        "function creates an Adam optimizer with a learning rate schedule using a warmup phase\n",
        "followed by a linear decay. Since we're using weight decay here, under the hood,\n",
        "`create_optimizer()` instantiates\n",
        "[the right variant of Adam](https://github.com/huggingface/transformers/blob/118e9810687dd713b6be07af79e80eeb1d916908/src/transformers/optimization_tf.py#L172)\n",
        "to enable weight decay.\n",
        "* While compiling the model, we're NOT using any `loss` argument. This is because\n",
        "the TensorFlow models internally compute the loss when expected labels are provided.\n",
        "Based on the model type and the labels being used, `transformers` will automatically\n",
        "infer the loss to use.\n",
        "\n",
        "\n",
        "\n",
        "### Start training!\n",
        "\n",
        "\n",
        "\n",
        "Next, we set up a handy callback to push the intermediate training checkpoints to the\n",
        "Hugging Face Hub. To be able to operationalize this callback, we need to log in to our\n",
        "Hugging Face account (if you don't have one, you create one\n",
        "[here](https://huggingface.co/join) for free). Execute the code below for logging in:"
      ],
      "metadata": {
        "id": "1IUFMaB35s_F"
      }
    },
    {
      "cell_type": "code",
      "source": [
        "from huggingface_hub import notebook_login\n",
        "\n",
        "notebook_login()"
      ],
      "metadata": {
        "colab": {
          "base_uri": "https://localhost:8080/",
          "height": 113,
          "referenced_widgets": [
            "d5174a47c1d74227a445d9ee859afbd7",
            "544b994bea04427f8279b68c1e71c22a",
            "8fffb9e4892246e9967f8c310c24a344",
            "b2c4a1f01a9f43c7920c9c2e028d320f",
            "966588f0e4e44527805e730dea1bbf23",
            "a7ee19d8e021455589222820a1d32640",
            "c79a0ca09f184a1082ed3a6382807c9e",
            "4a6ee3900abf4c95bebb582e2aa1a1e8",
            "25ad9e2a053040fc811194d69a2333b4",
            "71f418c2cb944f1582770b0c995c9541",
            "74e3be16b2664291a480b9b2093e529d",
            "1d662c17d7a54682a9aa2e7e2649722c",
            "ede744283a4f47b6bbc05b2fedac2952",
            "e704771fd037477fbf0fd3863fafb481",
            "fc22893984e64c0fb19e839f44d934a3",
            "f6da7d1ca5394ef5926c087c3b278870",
            "e2e6d82a99a5478ea993d701bbb48a65",
            "c743fbb3457a4bb5b5ef1f2e59822d1f",
            "12d02ac537d6484abacf92b45ad6d632",
            "3dd4d3fc1973440ab2a78c5d4dd5c970",
            "baaa85c18e2d474baf198d71b7a50efa",
            "06dbe98de4cb459daec3843b85e7a52f",
            "0ecbbd05e592478a98c9c360db34241e",
            "1e8f68eec6794ae0bb509acc62ebf4bb",
            "383759249f1f436ea46dae2be2c7a336",
            "e1857f92a80b48c2a87d57f44654e22b",
            "00fc5f3b2a4f49ab8966d8232cfbb334",
            "cdb7c6c326744a31a626da4617b3c776",
            "5bbe04a8b85543eb9820dfa29bee2949"
          ]
        },
        "id": "ywcGteTyyj1C",
        "outputId": "edd10238-8fa2-4a4a-cde1-ba2ec151acac"
      },
      "execution_count": null,
      "outputs": [
        {
          "output_type": "display_data",
          "data": {
            "text/plain": [
              "VBox(children=(HTML(value='<center> <img\\nsrc=https://huggingface.co/front/assets/huggingface_logo-noborder.sv…"
            ],
            "application/vnd.jupyter.widget-view+json": {
              "version_major": 2,
              "version_minor": 0,
              "model_id": "d5174a47c1d74227a445d9ee859afbd7"
            }
          },
          "metadata": {}
        }
      ]
    },
    {
      "cell_type": "markdown",
      "source": [
        "Let's now define the\n",
        "[`PushToHubCallback`](https://huggingface.co/docs/transformers/main_classes/keras_callbacks#transformers.PushToHubCallback):"
      ],
      "metadata": {
        "id": "C0fTjKMf55mt"
      }
    },
    {
      "cell_type": "code",
      "source": [
        "hub_model_id = output_dir = \"masked-lm-tpu\"\n",
        "\n",
        "callbacks = []\n",
        "callbacks.append(\n",
        "    transformers.PushToHubCallback(\n",
        "        output_dir=output_dir, hub_model_id=hub_model_id, tokenizer=tokenizer\n",
        "    )\n",
        ")"
      ],
      "metadata": {
        "colab": {
          "base_uri": "https://localhost:8080/"
        },
        "id": "lgCJ0PkI0HBB",
        "outputId": "18b494bb-f3b2-4e77-9a75-4abd78fb939a"
      },
      "execution_count": null,
      "outputs": [
        {
          "output_type": "stream",
          "name": "stderr",
          "text": [
            "/usr/local/lib/python3.10/dist-packages/huggingface_hub/utils/_deprecation.py:127: FutureWarning: 'Repository' (from 'huggingface_hub.repository') is deprecated and will be removed from version '1.0'. Please prefer the http-based alternatives instead. Given its large adoption in legacy code, the complete removal is only planned on next major release.\n",
            "For more details, please read https://huggingface.co/docs/huggingface_hub/concepts/git_vs_http.\n",
            "  warnings.warn(warning_message, FutureWarning)\n",
            "Cloning https://huggingface.co/Ritwik1998/masked-lm-tpu into local empty directory.\n",
            "WARNING:huggingface_hub.repository:Cloning https://huggingface.co/Ritwik1998/masked-lm-tpu into local empty directory.\n"
          ]
        }
      ]
    },
    {
      "cell_type": "code",
      "source": [
        "# In the interest of the runtime of this example,\n",
        "# we limit the number of batches to just 2.\n",
        "model.fit(\n",
        "    train_dataset.take(2),\n",
        "    validation_data=eval_dataset.take(2),\n",
        "    epochs=num_epochs,\n",
        "    callbacks=callbacks,\n",
        ")\n",
        "\n",
        "# After training we also serialize the final model.\n",
        "model.save_pretrained(output_dir)"
      ],
      "metadata": {
        "colab": {
          "base_uri": "https://localhost:8080/"
        },
        "id": "_Fwy-SYN0N22",
        "outputId": "6f35fc46-3db3-4108-ac00-c9ef3d727802"
      },
      "execution_count": null,
      "outputs": [
        {
          "output_type": "stream",
          "name": "stdout",
          "text": [
            "Epoch 1/10\n",
            "2/2 [==============================] - 103s 32s/step - loss: 10.2835 - accuracy: 7.6294e-06 - val_loss: 10.2748 - val_accuracy: 0.0000e+00\n",
            "Epoch 2/10\n",
            "2/2 [==============================] - 9s 3s/step - loss: 10.2791 - accuracy: 7.6294e-06 - val_loss: 10.2665 - val_accuracy: 7.6294e-06\n",
            "Epoch 3/10\n",
            "2/2 [==============================] - ETA: 0s - loss: 10.2586 - accuracy: 0.0000e+00"
          ]
        },
        {
          "output_type": "stream",
          "name": "stderr",
          "text": [
            "WARNING:tensorflow:Callback method `on_train_batch_end` is slow compared to the batch time (batch time: 0.0122s vs `on_train_batch_end` time: 9.0211s). Check your callbacks.\n"
          ]
        },
        {
          "output_type": "stream",
          "name": "stdout",
          "text": [
            "\b\b\b\b\b\b\b\b\b\b\b\b\b\b\b\b\b\b\b\b\b\b\b\b\b\b\b\b\b\b\b\b\b\b\b\b\b\b\b\b\b\b\b\b\b\b\b\b\b\b\b\b\b\b\b\b\b\b\b\b\b\b\b\b\b\b\b\b\b\b\b\b\b\b\b\b\b\b\b\b\b\b\b\b\b\r2/2 [==============================] - 54s 47s/step - loss: 10.2586 - accuracy: 0.0000e+00 - val_loss: 10.2434 - val_accuracy: 7.6294e-06\n",
            "Epoch 4/10\n",
            "2/2 [==============================] - 8s 3s/step - loss: 10.2455 - accuracy: 7.6294e-06 - val_loss: 10.2100 - val_accuracy: 7.6294e-06\n",
            "Epoch 5/10\n",
            "2/2 [==============================] - 55s 48s/step - loss: 10.2063 - accuracy: 0.0000e+00 - val_loss: 10.1620 - val_accuracy: 7.6294e-06\n",
            "Epoch 6/10\n",
            "2/2 [==============================] - 9s 3s/step - loss: 10.1658 - accuracy: 0.0000e+00 - val_loss: 10.1147 - val_accuracy: 0.0000e+00\n",
            "Epoch 7/10\n",
            "2/2 [==============================] - 54s 48s/step - loss: 10.1174 - accuracy: 0.0000e+00 - val_loss: 10.0558 - val_accuracy: 0.0000e+00\n",
            "Epoch 8/10\n",
            "2/2 [==============================] - 9s 3s/step - loss: 10.0613 - accuracy: 1.5259e-05 - val_loss: 9.9800 - val_accuracy: 1.8311e-04\n",
            "Epoch 9/10\n",
            "2/2 [==============================] - 50s 44s/step - loss: 9.9915 - accuracy: 1.9073e-04 - val_loss: 9.9088 - val_accuracy: 0.0015\n",
            "Epoch 10/10\n",
            "2/2 [==============================] - 8s 3s/step - loss: 9.9147 - accuracy: 0.0017 - val_loss: 9.8122 - val_accuracy: 0.0119\n"
          ]
        }
      ]
    },
    {
      "cell_type": "code",
      "source": [
        "from transformers import pipeline\n",
        "\n",
        "# Replace your `model_id` here.\n",
        "# Here, we're using a model that the Hugging Face team trained for longer.\n",
        "model_id = \"tf-tpu/roberta-base-epochs-500-no-wd\"\n",
        "unmasker = pipeline(\"fill-mask\", model=model_id, framework=\"tf\")\n",
        "print(unmasker(\"Goal of my life is to [MASK].\"))"
      ],
      "metadata": {
        "id": "KqmsewJN2FBq"
      },
      "execution_count": null,
      "outputs": []
    }
  ],
  "metadata": {
    "colab": {
      "provenance": [],
      "include_colab_link": true
    },
    "kernelspec": {
      "display_name": "Python 3",
      "name": "python3"
    },
    "language_info": {
      "codemirror_mode": {
        "name": "ipython",
        "version": 3
      },
      "file_extension": ".py",
      "mimetype": "text/x-python",
      "name": "python",
      "nbconvert_exporter": "python",
      "pygments_lexer": "ipython3",
      "version": "3.10.12"
    },
    "widgets": {
      "application/vnd.jupyter.widget-state+json": {
        "91a2157c7ea4494bb996e6139537c434": {
          "model_module": "@jupyter-widgets/controls",
          "model_name": "HBoxModel",
          "model_module_version": "1.5.0",
          "state": {
            "_dom_classes": [],
            "_model_module": "@jupyter-widgets/controls",
            "_model_module_version": "1.5.0",
            "_model_name": "HBoxModel",
            "_view_count": null,
            "_view_module": "@jupyter-widgets/controls",
            "_view_module_version": "1.5.0",
            "_view_name": "HBoxView",
            "box_style": "",
            "children": [
              "IPY_MODEL_d94011b9c3bf4abc9a6e3a8d619bbd17",
              "IPY_MODEL_65d4078356ea4c40b68a833f32acd9ac",
              "IPY_MODEL_5089e8ebd20342bc983922f11cf75aa9"
            ],
            "layout": "IPY_MODEL_e02cb9b10560469a9fe7a8dfa72929af"
          }
        },
        "d94011b9c3bf4abc9a6e3a8d619bbd17": {
          "model_module": "@jupyter-widgets/controls",
          "model_name": "HTMLModel",
          "model_module_version": "1.5.0",
          "state": {
            "_dom_classes": [],
            "_model_module": "@jupyter-widgets/controls",
            "_model_module_version": "1.5.0",
            "_model_name": "HTMLModel",
            "_view_count": null,
            "_view_module": "@jupyter-widgets/controls",
            "_view_module_version": "1.5.0",
            "_view_name": "HTMLView",
            "description": "",
            "description_tooltip": null,
            "layout": "IPY_MODEL_a8182e7ecebf4090adbbb490df9ec222",
            "placeholder": "​",
            "style": "IPY_MODEL_b90c5065d8c342818ebd546215577984",
            "value": "tokenizer_config.json: 100%"
          }
        },
        "65d4078356ea4c40b68a833f32acd9ac": {
          "model_module": "@jupyter-widgets/controls",
          "model_name": "FloatProgressModel",
          "model_module_version": "1.5.0",
          "state": {
            "_dom_classes": [],
            "_model_module": "@jupyter-widgets/controls",
            "_model_module_version": "1.5.0",
            "_model_name": "FloatProgressModel",
            "_view_count": null,
            "_view_module": "@jupyter-widgets/controls",
            "_view_module_version": "1.5.0",
            "_view_name": "ProgressView",
            "bar_style": "success",
            "description": "",
            "description_tooltip": null,
            "layout": "IPY_MODEL_7deb548bc5e34d9f84416ddb3b3b4598",
            "max": 483,
            "min": 0,
            "orientation": "horizontal",
            "style": "IPY_MODEL_80efc132ea224aacb2b1ef523765af72",
            "value": 483
          }
        },
        "5089e8ebd20342bc983922f11cf75aa9": {
          "model_module": "@jupyter-widgets/controls",
          "model_name": "HTMLModel",
          "model_module_version": "1.5.0",
          "state": {
            "_dom_classes": [],
            "_model_module": "@jupyter-widgets/controls",
            "_model_module_version": "1.5.0",
            "_model_name": "HTMLModel",
            "_view_count": null,
            "_view_module": "@jupyter-widgets/controls",
            "_view_module_version": "1.5.0",
            "_view_name": "HTMLView",
            "description": "",
            "description_tooltip": null,
            "layout": "IPY_MODEL_dc66baccc4bb43798b369fd0cd51c0c5",
            "placeholder": "​",
            "style": "IPY_MODEL_584301f770824aa7b0051c4a4e5b7648",
            "value": " 483/483 [00:00&lt;00:00, 16.1kB/s]"
          }
        },
        "e02cb9b10560469a9fe7a8dfa72929af": {
          "model_module": "@jupyter-widgets/base",
          "model_name": "LayoutModel",
          "model_module_version": "1.2.0",
          "state": {
            "_model_module": "@jupyter-widgets/base",
            "_model_module_version": "1.2.0",
            "_model_name": "LayoutModel",
            "_view_count": null,
            "_view_module": "@jupyter-widgets/base",
            "_view_module_version": "1.2.0",
            "_view_name": "LayoutView",
            "align_content": null,
            "align_items": null,
            "align_self": null,
            "border": null,
            "bottom": null,
            "display": null,
            "flex": null,
            "flex_flow": null,
            "grid_area": null,
            "grid_auto_columns": null,
            "grid_auto_flow": null,
            "grid_auto_rows": null,
            "grid_column": null,
            "grid_gap": null,
            "grid_row": null,
            "grid_template_areas": null,
            "grid_template_columns": null,
            "grid_template_rows": null,
            "height": null,
            "justify_content": null,
            "justify_items": null,
            "left": null,
            "margin": null,
            "max_height": null,
            "max_width": null,
            "min_height": null,
            "min_width": null,
            "object_fit": null,
            "object_position": null,
            "order": null,
            "overflow": null,
            "overflow_x": null,
            "overflow_y": null,
            "padding": null,
            "right": null,
            "top": null,
            "visibility": null,
            "width": null
          }
        },
        "a8182e7ecebf4090adbbb490df9ec222": {
          "model_module": "@jupyter-widgets/base",
          "model_name": "LayoutModel",
          "model_module_version": "1.2.0",
          "state": {
            "_model_module": "@jupyter-widgets/base",
            "_model_module_version": "1.2.0",
            "_model_name": "LayoutModel",
            "_view_count": null,
            "_view_module": "@jupyter-widgets/base",
            "_view_module_version": "1.2.0",
            "_view_name": "LayoutView",
            "align_content": null,
            "align_items": null,
            "align_self": null,
            "border": null,
            "bottom": null,
            "display": null,
            "flex": null,
            "flex_flow": null,
            "grid_area": null,
            "grid_auto_columns": null,
            "grid_auto_flow": null,
            "grid_auto_rows": null,
            "grid_column": null,
            "grid_gap": null,
            "grid_row": null,
            "grid_template_areas": null,
            "grid_template_columns": null,
            "grid_template_rows": null,
            "height": null,
            "justify_content": null,
            "justify_items": null,
            "left": null,
            "margin": null,
            "max_height": null,
            "max_width": null,
            "min_height": null,
            "min_width": null,
            "object_fit": null,
            "object_position": null,
            "order": null,
            "overflow": null,
            "overflow_x": null,
            "overflow_y": null,
            "padding": null,
            "right": null,
            "top": null,
            "visibility": null,
            "width": null
          }
        },
        "b90c5065d8c342818ebd546215577984": {
          "model_module": "@jupyter-widgets/controls",
          "model_name": "DescriptionStyleModel",
          "model_module_version": "1.5.0",
          "state": {
            "_model_module": "@jupyter-widgets/controls",
            "_model_module_version": "1.5.0",
            "_model_name": "DescriptionStyleModel",
            "_view_count": null,
            "_view_module": "@jupyter-widgets/base",
            "_view_module_version": "1.2.0",
            "_view_name": "StyleView",
            "description_width": ""
          }
        },
        "7deb548bc5e34d9f84416ddb3b3b4598": {
          "model_module": "@jupyter-widgets/base",
          "model_name": "LayoutModel",
          "model_module_version": "1.2.0",
          "state": {
            "_model_module": "@jupyter-widgets/base",
            "_model_module_version": "1.2.0",
            "_model_name": "LayoutModel",
            "_view_count": null,
            "_view_module": "@jupyter-widgets/base",
            "_view_module_version": "1.2.0",
            "_view_name": "LayoutView",
            "align_content": null,
            "align_items": null,
            "align_self": null,
            "border": null,
            "bottom": null,
            "display": null,
            "flex": null,
            "flex_flow": null,
            "grid_area": null,
            "grid_auto_columns": null,
            "grid_auto_flow": null,
            "grid_auto_rows": null,
            "grid_column": null,
            "grid_gap": null,
            "grid_row": null,
            "grid_template_areas": null,
            "grid_template_columns": null,
            "grid_template_rows": null,
            "height": null,
            "justify_content": null,
            "justify_items": null,
            "left": null,
            "margin": null,
            "max_height": null,
            "max_width": null,
            "min_height": null,
            "min_width": null,
            "object_fit": null,
            "object_position": null,
            "order": null,
            "overflow": null,
            "overflow_x": null,
            "overflow_y": null,
            "padding": null,
            "right": null,
            "top": null,
            "visibility": null,
            "width": null
          }
        },
        "80efc132ea224aacb2b1ef523765af72": {
          "model_module": "@jupyter-widgets/controls",
          "model_name": "ProgressStyleModel",
          "model_module_version": "1.5.0",
          "state": {
            "_model_module": "@jupyter-widgets/controls",
            "_model_module_version": "1.5.0",
            "_model_name": "ProgressStyleModel",
            "_view_count": null,
            "_view_module": "@jupyter-widgets/base",
            "_view_module_version": "1.2.0",
            "_view_name": "StyleView",
            "bar_color": null,
            "description_width": ""
          }
        },
        "dc66baccc4bb43798b369fd0cd51c0c5": {
          "model_module": "@jupyter-widgets/base",
          "model_name": "LayoutModel",
          "model_module_version": "1.2.0",
          "state": {
            "_model_module": "@jupyter-widgets/base",
            "_model_module_version": "1.2.0",
            "_model_name": "LayoutModel",
            "_view_count": null,
            "_view_module": "@jupyter-widgets/base",
            "_view_module_version": "1.2.0",
            "_view_name": "LayoutView",
            "align_content": null,
            "align_items": null,
            "align_self": null,
            "border": null,
            "bottom": null,
            "display": null,
            "flex": null,
            "flex_flow": null,
            "grid_area": null,
            "grid_auto_columns": null,
            "grid_auto_flow": null,
            "grid_auto_rows": null,
            "grid_column": null,
            "grid_gap": null,
            "grid_row": null,
            "grid_template_areas": null,
            "grid_template_columns": null,
            "grid_template_rows": null,
            "height": null,
            "justify_content": null,
            "justify_items": null,
            "left": null,
            "margin": null,
            "max_height": null,
            "max_width": null,
            "min_height": null,
            "min_width": null,
            "object_fit": null,
            "object_position": null,
            "order": null,
            "overflow": null,
            "overflow_x": null,
            "overflow_y": null,
            "padding": null,
            "right": null,
            "top": null,
            "visibility": null,
            "width": null
          }
        },
        "584301f770824aa7b0051c4a4e5b7648": {
          "model_module": "@jupyter-widgets/controls",
          "model_name": "DescriptionStyleModel",
          "model_module_version": "1.5.0",
          "state": {
            "_model_module": "@jupyter-widgets/controls",
            "_model_module_version": "1.5.0",
            "_model_name": "DescriptionStyleModel",
            "_view_count": null,
            "_view_module": "@jupyter-widgets/base",
            "_view_module_version": "1.2.0",
            "_view_name": "StyleView",
            "description_width": ""
          }
        },
        "97f056b4569e4bd9b15dbeed81189ea6": {
          "model_module": "@jupyter-widgets/controls",
          "model_name": "HBoxModel",
          "model_module_version": "1.5.0",
          "state": {
            "_dom_classes": [],
            "_model_module": "@jupyter-widgets/controls",
            "_model_module_version": "1.5.0",
            "_model_name": "HBoxModel",
            "_view_count": null,
            "_view_module": "@jupyter-widgets/controls",
            "_view_module_version": "1.5.0",
            "_view_name": "HBoxView",
            "box_style": "",
            "children": [
              "IPY_MODEL_303811ae08414291974fd33092fac5ec",
              "IPY_MODEL_d6c525daef21493c8c60aea2d38a5be5",
              "IPY_MODEL_a3b4381c38bf4d1f8d02d263c6627a7a"
            ],
            "layout": "IPY_MODEL_6fb4ed007dce48afabde68b66d92aa2f"
          }
        },
        "303811ae08414291974fd33092fac5ec": {
          "model_module": "@jupyter-widgets/controls",
          "model_name": "HTMLModel",
          "model_module_version": "1.5.0",
          "state": {
            "_dom_classes": [],
            "_model_module": "@jupyter-widgets/controls",
            "_model_module_version": "1.5.0",
            "_model_name": "HTMLModel",
            "_view_count": null,
            "_view_module": "@jupyter-widgets/controls",
            "_view_module_version": "1.5.0",
            "_view_name": "HTMLView",
            "description": "",
            "description_tooltip": null,
            "layout": "IPY_MODEL_bb4d6cca26254191a6394b2ebe45cab3",
            "placeholder": "​",
            "style": "IPY_MODEL_817a28bf83f2468fa50b4e7ff9a3a3cc",
            "value": "tokenizer.json: 100%"
          }
        },
        "d6c525daef21493c8c60aea2d38a5be5": {
          "model_module": "@jupyter-widgets/controls",
          "model_name": "FloatProgressModel",
          "model_module_version": "1.5.0",
          "state": {
            "_dom_classes": [],
            "_model_module": "@jupyter-widgets/controls",
            "_model_module_version": "1.5.0",
            "_model_name": "FloatProgressModel",
            "_view_count": null,
            "_view_module": "@jupyter-widgets/controls",
            "_view_module_version": "1.5.0",
            "_view_name": "ProgressView",
            "bar_style": "success",
            "description": "",
            "description_tooltip": null,
            "layout": "IPY_MODEL_b519009950864d21ab2db5fd135bc243",
            "max": 1612329,
            "min": 0,
            "orientation": "horizontal",
            "style": "IPY_MODEL_095a85f98a2842299b365c3db588b1b7",
            "value": 1612329
          }
        },
        "a3b4381c38bf4d1f8d02d263c6627a7a": {
          "model_module": "@jupyter-widgets/controls",
          "model_name": "HTMLModel",
          "model_module_version": "1.5.0",
          "state": {
            "_dom_classes": [],
            "_model_module": "@jupyter-widgets/controls",
            "_model_module_version": "1.5.0",
            "_model_name": "HTMLModel",
            "_view_count": null,
            "_view_module": "@jupyter-widgets/controls",
            "_view_module_version": "1.5.0",
            "_view_name": "HTMLView",
            "description": "",
            "description_tooltip": null,
            "layout": "IPY_MODEL_ce8583b1af4a44bbb001054a5f81f8d1",
            "placeholder": "​",
            "style": "IPY_MODEL_d512dd6fd20c4b049d4fbd2f14274c3e",
            "value": " 1.61M/1.61M [00:00&lt;00:00, 16.9MB/s]"
          }
        },
        "6fb4ed007dce48afabde68b66d92aa2f": {
          "model_module": "@jupyter-widgets/base",
          "model_name": "LayoutModel",
          "model_module_version": "1.2.0",
          "state": {
            "_model_module": "@jupyter-widgets/base",
            "_model_module_version": "1.2.0",
            "_model_name": "LayoutModel",
            "_view_count": null,
            "_view_module": "@jupyter-widgets/base",
            "_view_module_version": "1.2.0",
            "_view_name": "LayoutView",
            "align_content": null,
            "align_items": null,
            "align_self": null,
            "border": null,
            "bottom": null,
            "display": null,
            "flex": null,
            "flex_flow": null,
            "grid_area": null,
            "grid_auto_columns": null,
            "grid_auto_flow": null,
            "grid_auto_rows": null,
            "grid_column": null,
            "grid_gap": null,
            "grid_row": null,
            "grid_template_areas": null,
            "grid_template_columns": null,
            "grid_template_rows": null,
            "height": null,
            "justify_content": null,
            "justify_items": null,
            "left": null,
            "margin": null,
            "max_height": null,
            "max_width": null,
            "min_height": null,
            "min_width": null,
            "object_fit": null,
            "object_position": null,
            "order": null,
            "overflow": null,
            "overflow_x": null,
            "overflow_y": null,
            "padding": null,
            "right": null,
            "top": null,
            "visibility": null,
            "width": null
          }
        },
        "bb4d6cca26254191a6394b2ebe45cab3": {
          "model_module": "@jupyter-widgets/base",
          "model_name": "LayoutModel",
          "model_module_version": "1.2.0",
          "state": {
            "_model_module": "@jupyter-widgets/base",
            "_model_module_version": "1.2.0",
            "_model_name": "LayoutModel",
            "_view_count": null,
            "_view_module": "@jupyter-widgets/base",
            "_view_module_version": "1.2.0",
            "_view_name": "LayoutView",
            "align_content": null,
            "align_items": null,
            "align_self": null,
            "border": null,
            "bottom": null,
            "display": null,
            "flex": null,
            "flex_flow": null,
            "grid_area": null,
            "grid_auto_columns": null,
            "grid_auto_flow": null,
            "grid_auto_rows": null,
            "grid_column": null,
            "grid_gap": null,
            "grid_row": null,
            "grid_template_areas": null,
            "grid_template_columns": null,
            "grid_template_rows": null,
            "height": null,
            "justify_content": null,
            "justify_items": null,
            "left": null,
            "margin": null,
            "max_height": null,
            "max_width": null,
            "min_height": null,
            "min_width": null,
            "object_fit": null,
            "object_position": null,
            "order": null,
            "overflow": null,
            "overflow_x": null,
            "overflow_y": null,
            "padding": null,
            "right": null,
            "top": null,
            "visibility": null,
            "width": null
          }
        },
        "817a28bf83f2468fa50b4e7ff9a3a3cc": {
          "model_module": "@jupyter-widgets/controls",
          "model_name": "DescriptionStyleModel",
          "model_module_version": "1.5.0",
          "state": {
            "_model_module": "@jupyter-widgets/controls",
            "_model_module_version": "1.5.0",
            "_model_name": "DescriptionStyleModel",
            "_view_count": null,
            "_view_module": "@jupyter-widgets/base",
            "_view_module_version": "1.2.0",
            "_view_name": "StyleView",
            "description_width": ""
          }
        },
        "b519009950864d21ab2db5fd135bc243": {
          "model_module": "@jupyter-widgets/base",
          "model_name": "LayoutModel",
          "model_module_version": "1.2.0",
          "state": {
            "_model_module": "@jupyter-widgets/base",
            "_model_module_version": "1.2.0",
            "_model_name": "LayoutModel",
            "_view_count": null,
            "_view_module": "@jupyter-widgets/base",
            "_view_module_version": "1.2.0",
            "_view_name": "LayoutView",
            "align_content": null,
            "align_items": null,
            "align_self": null,
            "border": null,
            "bottom": null,
            "display": null,
            "flex": null,
            "flex_flow": null,
            "grid_area": null,
            "grid_auto_columns": null,
            "grid_auto_flow": null,
            "grid_auto_rows": null,
            "grid_column": null,
            "grid_gap": null,
            "grid_row": null,
            "grid_template_areas": null,
            "grid_template_columns": null,
            "grid_template_rows": null,
            "height": null,
            "justify_content": null,
            "justify_items": null,
            "left": null,
            "margin": null,
            "max_height": null,
            "max_width": null,
            "min_height": null,
            "min_width": null,
            "object_fit": null,
            "object_position": null,
            "order": null,
            "overflow": null,
            "overflow_x": null,
            "overflow_y": null,
            "padding": null,
            "right": null,
            "top": null,
            "visibility": null,
            "width": null
          }
        },
        "095a85f98a2842299b365c3db588b1b7": {
          "model_module": "@jupyter-widgets/controls",
          "model_name": "ProgressStyleModel",
          "model_module_version": "1.5.0",
          "state": {
            "_model_module": "@jupyter-widgets/controls",
            "_model_module_version": "1.5.0",
            "_model_name": "ProgressStyleModel",
            "_view_count": null,
            "_view_module": "@jupyter-widgets/base",
            "_view_module_version": "1.2.0",
            "_view_name": "StyleView",
            "bar_color": null,
            "description_width": ""
          }
        },
        "ce8583b1af4a44bbb001054a5f81f8d1": {
          "model_module": "@jupyter-widgets/base",
          "model_name": "LayoutModel",
          "model_module_version": "1.2.0",
          "state": {
            "_model_module": "@jupyter-widgets/base",
            "_model_module_version": "1.2.0",
            "_model_name": "LayoutModel",
            "_view_count": null,
            "_view_module": "@jupyter-widgets/base",
            "_view_module_version": "1.2.0",
            "_view_name": "LayoutView",
            "align_content": null,
            "align_items": null,
            "align_self": null,
            "border": null,
            "bottom": null,
            "display": null,
            "flex": null,
            "flex_flow": null,
            "grid_area": null,
            "grid_auto_columns": null,
            "grid_auto_flow": null,
            "grid_auto_rows": null,
            "grid_column": null,
            "grid_gap": null,
            "grid_row": null,
            "grid_template_areas": null,
            "grid_template_columns": null,
            "grid_template_rows": null,
            "height": null,
            "justify_content": null,
            "justify_items": null,
            "left": null,
            "margin": null,
            "max_height": null,
            "max_width": null,
            "min_height": null,
            "min_width": null,
            "object_fit": null,
            "object_position": null,
            "order": null,
            "overflow": null,
            "overflow_x": null,
            "overflow_y": null,
            "padding": null,
            "right": null,
            "top": null,
            "visibility": null,
            "width": null
          }
        },
        "d512dd6fd20c4b049d4fbd2f14274c3e": {
          "model_module": "@jupyter-widgets/controls",
          "model_name": "DescriptionStyleModel",
          "model_module_version": "1.5.0",
          "state": {
            "_model_module": "@jupyter-widgets/controls",
            "_model_module_version": "1.5.0",
            "_model_name": "DescriptionStyleModel",
            "_view_count": null,
            "_view_module": "@jupyter-widgets/base",
            "_view_module_version": "1.2.0",
            "_view_name": "StyleView",
            "description_width": ""
          }
        },
        "ec45249a20604508930f0b3899e967b5": {
          "model_module": "@jupyter-widgets/controls",
          "model_name": "HBoxModel",
          "model_module_version": "1.5.0",
          "state": {
            "_dom_classes": [],
            "_model_module": "@jupyter-widgets/controls",
            "_model_module_version": "1.5.0",
            "_model_name": "HBoxModel",
            "_view_count": null,
            "_view_module": "@jupyter-widgets/controls",
            "_view_module_version": "1.5.0",
            "_view_name": "HBoxView",
            "box_style": "",
            "children": [
              "IPY_MODEL_4dd676ce62984c61aada1ab1bed106c7",
              "IPY_MODEL_1fdb72d5eef54e9caa5a06c554e99546",
              "IPY_MODEL_a1f9260093854865b0d7e13e4e825720"
            ],
            "layout": "IPY_MODEL_2aaa515a94b64cc188febfb978ed9209"
          }
        },
        "4dd676ce62984c61aada1ab1bed106c7": {
          "model_module": "@jupyter-widgets/controls",
          "model_name": "HTMLModel",
          "model_module_version": "1.5.0",
          "state": {
            "_dom_classes": [],
            "_model_module": "@jupyter-widgets/controls",
            "_model_module_version": "1.5.0",
            "_model_name": "HTMLModel",
            "_view_count": null,
            "_view_module": "@jupyter-widgets/controls",
            "_view_module_version": "1.5.0",
            "_view_name": "HTMLView",
            "description": "",
            "description_tooltip": null,
            "layout": "IPY_MODEL_8188b35c9ab14819a4fd55804af51d81",
            "placeholder": "​",
            "style": "IPY_MODEL_dc5269872ced4dbfb115fd8e51892152",
            "value": "special_tokens_map.json: 100%"
          }
        },
        "1fdb72d5eef54e9caa5a06c554e99546": {
          "model_module": "@jupyter-widgets/controls",
          "model_name": "FloatProgressModel",
          "model_module_version": "1.5.0",
          "state": {
            "_dom_classes": [],
            "_model_module": "@jupyter-widgets/controls",
            "_model_module_version": "1.5.0",
            "_model_name": "FloatProgressModel",
            "_view_count": null,
            "_view_module": "@jupyter-widgets/controls",
            "_view_module_version": "1.5.0",
            "_view_name": "ProgressView",
            "bar_style": "success",
            "description": "",
            "description_tooltip": null,
            "layout": "IPY_MODEL_811cff18fd7c4ff6bbc5635c89752ef2",
            "max": 286,
            "min": 0,
            "orientation": "horizontal",
            "style": "IPY_MODEL_5a4f010d5865496c8b8f040fe78d9e09",
            "value": 286
          }
        },
        "a1f9260093854865b0d7e13e4e825720": {
          "model_module": "@jupyter-widgets/controls",
          "model_name": "HTMLModel",
          "model_module_version": "1.5.0",
          "state": {
            "_dom_classes": [],
            "_model_module": "@jupyter-widgets/controls",
            "_model_module_version": "1.5.0",
            "_model_name": "HTMLModel",
            "_view_count": null,
            "_view_module": "@jupyter-widgets/controls",
            "_view_module_version": "1.5.0",
            "_view_name": "HTMLView",
            "description": "",
            "description_tooltip": null,
            "layout": "IPY_MODEL_ecd764ffe0ee47d0b31da92314f7c563",
            "placeholder": "​",
            "style": "IPY_MODEL_7ef76734c02c4576b9525e125003a566",
            "value": " 286/286 [00:00&lt;00:00, 15.1kB/s]"
          }
        },
        "2aaa515a94b64cc188febfb978ed9209": {
          "model_module": "@jupyter-widgets/base",
          "model_name": "LayoutModel",
          "model_module_version": "1.2.0",
          "state": {
            "_model_module": "@jupyter-widgets/base",
            "_model_module_version": "1.2.0",
            "_model_name": "LayoutModel",
            "_view_count": null,
            "_view_module": "@jupyter-widgets/base",
            "_view_module_version": "1.2.0",
            "_view_name": "LayoutView",
            "align_content": null,
            "align_items": null,
            "align_self": null,
            "border": null,
            "bottom": null,
            "display": null,
            "flex": null,
            "flex_flow": null,
            "grid_area": null,
            "grid_auto_columns": null,
            "grid_auto_flow": null,
            "grid_auto_rows": null,
            "grid_column": null,
            "grid_gap": null,
            "grid_row": null,
            "grid_template_areas": null,
            "grid_template_columns": null,
            "grid_template_rows": null,
            "height": null,
            "justify_content": null,
            "justify_items": null,
            "left": null,
            "margin": null,
            "max_height": null,
            "max_width": null,
            "min_height": null,
            "min_width": null,
            "object_fit": null,
            "object_position": null,
            "order": null,
            "overflow": null,
            "overflow_x": null,
            "overflow_y": null,
            "padding": null,
            "right": null,
            "top": null,
            "visibility": null,
            "width": null
          }
        },
        "8188b35c9ab14819a4fd55804af51d81": {
          "model_module": "@jupyter-widgets/base",
          "model_name": "LayoutModel",
          "model_module_version": "1.2.0",
          "state": {
            "_model_module": "@jupyter-widgets/base",
            "_model_module_version": "1.2.0",
            "_model_name": "LayoutModel",
            "_view_count": null,
            "_view_module": "@jupyter-widgets/base",
            "_view_module_version": "1.2.0",
            "_view_name": "LayoutView",
            "align_content": null,
            "align_items": null,
            "align_self": null,
            "border": null,
            "bottom": null,
            "display": null,
            "flex": null,
            "flex_flow": null,
            "grid_area": null,
            "grid_auto_columns": null,
            "grid_auto_flow": null,
            "grid_auto_rows": null,
            "grid_column": null,
            "grid_gap": null,
            "grid_row": null,
            "grid_template_areas": null,
            "grid_template_columns": null,
            "grid_template_rows": null,
            "height": null,
            "justify_content": null,
            "justify_items": null,
            "left": null,
            "margin": null,
            "max_height": null,
            "max_width": null,
            "min_height": null,
            "min_width": null,
            "object_fit": null,
            "object_position": null,
            "order": null,
            "overflow": null,
            "overflow_x": null,
            "overflow_y": null,
            "padding": null,
            "right": null,
            "top": null,
            "visibility": null,
            "width": null
          }
        },
        "dc5269872ced4dbfb115fd8e51892152": {
          "model_module": "@jupyter-widgets/controls",
          "model_name": "DescriptionStyleModel",
          "model_module_version": "1.5.0",
          "state": {
            "_model_module": "@jupyter-widgets/controls",
            "_model_module_version": "1.5.0",
            "_model_name": "DescriptionStyleModel",
            "_view_count": null,
            "_view_module": "@jupyter-widgets/base",
            "_view_module_version": "1.2.0",
            "_view_name": "StyleView",
            "description_width": ""
          }
        },
        "811cff18fd7c4ff6bbc5635c89752ef2": {
          "model_module": "@jupyter-widgets/base",
          "model_name": "LayoutModel",
          "model_module_version": "1.2.0",
          "state": {
            "_model_module": "@jupyter-widgets/base",
            "_model_module_version": "1.2.0",
            "_model_name": "LayoutModel",
            "_view_count": null,
            "_view_module": "@jupyter-widgets/base",
            "_view_module_version": "1.2.0",
            "_view_name": "LayoutView",
            "align_content": null,
            "align_items": null,
            "align_self": null,
            "border": null,
            "bottom": null,
            "display": null,
            "flex": null,
            "flex_flow": null,
            "grid_area": null,
            "grid_auto_columns": null,
            "grid_auto_flow": null,
            "grid_auto_rows": null,
            "grid_column": null,
            "grid_gap": null,
            "grid_row": null,
            "grid_template_areas": null,
            "grid_template_columns": null,
            "grid_template_rows": null,
            "height": null,
            "justify_content": null,
            "justify_items": null,
            "left": null,
            "margin": null,
            "max_height": null,
            "max_width": null,
            "min_height": null,
            "min_width": null,
            "object_fit": null,
            "object_position": null,
            "order": null,
            "overflow": null,
            "overflow_x": null,
            "overflow_y": null,
            "padding": null,
            "right": null,
            "top": null,
            "visibility": null,
            "width": null
          }
        },
        "5a4f010d5865496c8b8f040fe78d9e09": {
          "model_module": "@jupyter-widgets/controls",
          "model_name": "ProgressStyleModel",
          "model_module_version": "1.5.0",
          "state": {
            "_model_module": "@jupyter-widgets/controls",
            "_model_module_version": "1.5.0",
            "_model_name": "ProgressStyleModel",
            "_view_count": null,
            "_view_module": "@jupyter-widgets/base",
            "_view_module_version": "1.2.0",
            "_view_name": "StyleView",
            "bar_color": null,
            "description_width": ""
          }
        },
        "ecd764ffe0ee47d0b31da92314f7c563": {
          "model_module": "@jupyter-widgets/base",
          "model_name": "LayoutModel",
          "model_module_version": "1.2.0",
          "state": {
            "_model_module": "@jupyter-widgets/base",
            "_model_module_version": "1.2.0",
            "_model_name": "LayoutModel",
            "_view_count": null,
            "_view_module": "@jupyter-widgets/base",
            "_view_module_version": "1.2.0",
            "_view_name": "LayoutView",
            "align_content": null,
            "align_items": null,
            "align_self": null,
            "border": null,
            "bottom": null,
            "display": null,
            "flex": null,
            "flex_flow": null,
            "grid_area": null,
            "grid_auto_columns": null,
            "grid_auto_flow": null,
            "grid_auto_rows": null,
            "grid_column": null,
            "grid_gap": null,
            "grid_row": null,
            "grid_template_areas": null,
            "grid_template_columns": null,
            "grid_template_rows": null,
            "height": null,
            "justify_content": null,
            "justify_items": null,
            "left": null,
            "margin": null,
            "max_height": null,
            "max_width": null,
            "min_height": null,
            "min_width": null,
            "object_fit": null,
            "object_position": null,
            "order": null,
            "overflow": null,
            "overflow_x": null,
            "overflow_y": null,
            "padding": null,
            "right": null,
            "top": null,
            "visibility": null,
            "width": null
          }
        },
        "7ef76734c02c4576b9525e125003a566": {
          "model_module": "@jupyter-widgets/controls",
          "model_name": "DescriptionStyleModel",
          "model_module_version": "1.5.0",
          "state": {
            "_model_module": "@jupyter-widgets/controls",
            "_model_module_version": "1.5.0",
            "_model_name": "DescriptionStyleModel",
            "_view_count": null,
            "_view_module": "@jupyter-widgets/base",
            "_view_module_version": "1.2.0",
            "_view_name": "StyleView",
            "description_width": ""
          }
        },
        "dc0580d0a50a4260b01cf007e10f700f": {
          "model_module": "@jupyter-widgets/controls",
          "model_name": "HBoxModel",
          "model_module_version": "1.5.0",
          "state": {
            "_dom_classes": [],
            "_model_module": "@jupyter-widgets/controls",
            "_model_module_version": "1.5.0",
            "_model_name": "HBoxModel",
            "_view_count": null,
            "_view_module": "@jupyter-widgets/controls",
            "_view_module_version": "1.5.0",
            "_view_name": "HBoxView",
            "box_style": "",
            "children": [
              "IPY_MODEL_0bf3fba3de5e42d8a6ecf5aff3af1d92",
              "IPY_MODEL_f17693a6e96a49eba3b6714628b3d31a",
              "IPY_MODEL_06b855c2b511457a89b944eb1ced8ba4"
            ],
            "layout": "IPY_MODEL_c37d0761fed44171bdff4476d55e6181"
          }
        },
        "0bf3fba3de5e42d8a6ecf5aff3af1d92": {
          "model_module": "@jupyter-widgets/controls",
          "model_name": "HTMLModel",
          "model_module_version": "1.5.0",
          "state": {
            "_dom_classes": [],
            "_model_module": "@jupyter-widgets/controls",
            "_model_module_version": "1.5.0",
            "_model_name": "HTMLModel",
            "_view_count": null,
            "_view_module": "@jupyter-widgets/controls",
            "_view_module_version": "1.5.0",
            "_view_name": "HTMLView",
            "description": "",
            "description_tooltip": null,
            "layout": "IPY_MODEL_b2b1acb7e9604abf8d45bbee74ed3461",
            "placeholder": "​",
            "style": "IPY_MODEL_8afd3866b93b44ee966f4c257d5b212a",
            "value": "config.json: 100%"
          }
        },
        "f17693a6e96a49eba3b6714628b3d31a": {
          "model_module": "@jupyter-widgets/controls",
          "model_name": "FloatProgressModel",
          "model_module_version": "1.5.0",
          "state": {
            "_dom_classes": [],
            "_model_module": "@jupyter-widgets/controls",
            "_model_module_version": "1.5.0",
            "_model_name": "FloatProgressModel",
            "_view_count": null,
            "_view_module": "@jupyter-widgets/controls",
            "_view_module_version": "1.5.0",
            "_view_name": "ProgressView",
            "bar_style": "success",
            "description": "",
            "description_tooltip": null,
            "layout": "IPY_MODEL_0b53923cfdaf4943a88721f99bef4422",
            "max": 481,
            "min": 0,
            "orientation": "horizontal",
            "style": "IPY_MODEL_6479c3c5ecc44d269f940a8aeed74a93",
            "value": 481
          }
        },
        "06b855c2b511457a89b944eb1ced8ba4": {
          "model_module": "@jupyter-widgets/controls",
          "model_name": "HTMLModel",
          "model_module_version": "1.5.0",
          "state": {
            "_dom_classes": [],
            "_model_module": "@jupyter-widgets/controls",
            "_model_module_version": "1.5.0",
            "_model_name": "HTMLModel",
            "_view_count": null,
            "_view_module": "@jupyter-widgets/controls",
            "_view_module_version": "1.5.0",
            "_view_name": "HTMLView",
            "description": "",
            "description_tooltip": null,
            "layout": "IPY_MODEL_964764d5789f40388220da9a338adab2",
            "placeholder": "​",
            "style": "IPY_MODEL_dd944d6275c3460fa640f3cd37ec4f56",
            "value": " 481/481 [00:00&lt;00:00, 19.2kB/s]"
          }
        },
        "c37d0761fed44171bdff4476d55e6181": {
          "model_module": "@jupyter-widgets/base",
          "model_name": "LayoutModel",
          "model_module_version": "1.2.0",
          "state": {
            "_model_module": "@jupyter-widgets/base",
            "_model_module_version": "1.2.0",
            "_model_name": "LayoutModel",
            "_view_count": null,
            "_view_module": "@jupyter-widgets/base",
            "_view_module_version": "1.2.0",
            "_view_name": "LayoutView",
            "align_content": null,
            "align_items": null,
            "align_self": null,
            "border": null,
            "bottom": null,
            "display": null,
            "flex": null,
            "flex_flow": null,
            "grid_area": null,
            "grid_auto_columns": null,
            "grid_auto_flow": null,
            "grid_auto_rows": null,
            "grid_column": null,
            "grid_gap": null,
            "grid_row": null,
            "grid_template_areas": null,
            "grid_template_columns": null,
            "grid_template_rows": null,
            "height": null,
            "justify_content": null,
            "justify_items": null,
            "left": null,
            "margin": null,
            "max_height": null,
            "max_width": null,
            "min_height": null,
            "min_width": null,
            "object_fit": null,
            "object_position": null,
            "order": null,
            "overflow": null,
            "overflow_x": null,
            "overflow_y": null,
            "padding": null,
            "right": null,
            "top": null,
            "visibility": null,
            "width": null
          }
        },
        "b2b1acb7e9604abf8d45bbee74ed3461": {
          "model_module": "@jupyter-widgets/base",
          "model_name": "LayoutModel",
          "model_module_version": "1.2.0",
          "state": {
            "_model_module": "@jupyter-widgets/base",
            "_model_module_version": "1.2.0",
            "_model_name": "LayoutModel",
            "_view_count": null,
            "_view_module": "@jupyter-widgets/base",
            "_view_module_version": "1.2.0",
            "_view_name": "LayoutView",
            "align_content": null,
            "align_items": null,
            "align_self": null,
            "border": null,
            "bottom": null,
            "display": null,
            "flex": null,
            "flex_flow": null,
            "grid_area": null,
            "grid_auto_columns": null,
            "grid_auto_flow": null,
            "grid_auto_rows": null,
            "grid_column": null,
            "grid_gap": null,
            "grid_row": null,
            "grid_template_areas": null,
            "grid_template_columns": null,
            "grid_template_rows": null,
            "height": null,
            "justify_content": null,
            "justify_items": null,
            "left": null,
            "margin": null,
            "max_height": null,
            "max_width": null,
            "min_height": null,
            "min_width": null,
            "object_fit": null,
            "object_position": null,
            "order": null,
            "overflow": null,
            "overflow_x": null,
            "overflow_y": null,
            "padding": null,
            "right": null,
            "top": null,
            "visibility": null,
            "width": null
          }
        },
        "8afd3866b93b44ee966f4c257d5b212a": {
          "model_module": "@jupyter-widgets/controls",
          "model_name": "DescriptionStyleModel",
          "model_module_version": "1.5.0",
          "state": {
            "_model_module": "@jupyter-widgets/controls",
            "_model_module_version": "1.5.0",
            "_model_name": "DescriptionStyleModel",
            "_view_count": null,
            "_view_module": "@jupyter-widgets/base",
            "_view_module_version": "1.2.0",
            "_view_name": "StyleView",
            "description_width": ""
          }
        },
        "0b53923cfdaf4943a88721f99bef4422": {
          "model_module": "@jupyter-widgets/base",
          "model_name": "LayoutModel",
          "model_module_version": "1.2.0",
          "state": {
            "_model_module": "@jupyter-widgets/base",
            "_model_module_version": "1.2.0",
            "_model_name": "LayoutModel",
            "_view_count": null,
            "_view_module": "@jupyter-widgets/base",
            "_view_module_version": "1.2.0",
            "_view_name": "LayoutView",
            "align_content": null,
            "align_items": null,
            "align_self": null,
            "border": null,
            "bottom": null,
            "display": null,
            "flex": null,
            "flex_flow": null,
            "grid_area": null,
            "grid_auto_columns": null,
            "grid_auto_flow": null,
            "grid_auto_rows": null,
            "grid_column": null,
            "grid_gap": null,
            "grid_row": null,
            "grid_template_areas": null,
            "grid_template_columns": null,
            "grid_template_rows": null,
            "height": null,
            "justify_content": null,
            "justify_items": null,
            "left": null,
            "margin": null,
            "max_height": null,
            "max_width": null,
            "min_height": null,
            "min_width": null,
            "object_fit": null,
            "object_position": null,
            "order": null,
            "overflow": null,
            "overflow_x": null,
            "overflow_y": null,
            "padding": null,
            "right": null,
            "top": null,
            "visibility": null,
            "width": null
          }
        },
        "6479c3c5ecc44d269f940a8aeed74a93": {
          "model_module": "@jupyter-widgets/controls",
          "model_name": "ProgressStyleModel",
          "model_module_version": "1.5.0",
          "state": {
            "_model_module": "@jupyter-widgets/controls",
            "_model_module_version": "1.5.0",
            "_model_name": "ProgressStyleModel",
            "_view_count": null,
            "_view_module": "@jupyter-widgets/base",
            "_view_module_version": "1.2.0",
            "_view_name": "StyleView",
            "bar_color": null,
            "description_width": ""
          }
        },
        "964764d5789f40388220da9a338adab2": {
          "model_module": "@jupyter-widgets/base",
          "model_name": "LayoutModel",
          "model_module_version": "1.2.0",
          "state": {
            "_model_module": "@jupyter-widgets/base",
            "_model_module_version": "1.2.0",
            "_model_name": "LayoutModel",
            "_view_count": null,
            "_view_module": "@jupyter-widgets/base",
            "_view_module_version": "1.2.0",
            "_view_name": "LayoutView",
            "align_content": null,
            "align_items": null,
            "align_self": null,
            "border": null,
            "bottom": null,
            "display": null,
            "flex": null,
            "flex_flow": null,
            "grid_area": null,
            "grid_auto_columns": null,
            "grid_auto_flow": null,
            "grid_auto_rows": null,
            "grid_column": null,
            "grid_gap": null,
            "grid_row": null,
            "grid_template_areas": null,
            "grid_template_columns": null,
            "grid_template_rows": null,
            "height": null,
            "justify_content": null,
            "justify_items": null,
            "left": null,
            "margin": null,
            "max_height": null,
            "max_width": null,
            "min_height": null,
            "min_width": null,
            "object_fit": null,
            "object_position": null,
            "order": null,
            "overflow": null,
            "overflow_x": null,
            "overflow_y": null,
            "padding": null,
            "right": null,
            "top": null,
            "visibility": null,
            "width": null
          }
        },
        "dd944d6275c3460fa640f3cd37ec4f56": {
          "model_module": "@jupyter-widgets/controls",
          "model_name": "DescriptionStyleModel",
          "model_module_version": "1.5.0",
          "state": {
            "_model_module": "@jupyter-widgets/controls",
            "_model_module_version": "1.5.0",
            "_model_name": "DescriptionStyleModel",
            "_view_count": null,
            "_view_module": "@jupyter-widgets/base",
            "_view_module_version": "1.2.0",
            "_view_name": "StyleView",
            "description_width": ""
          }
        },
        "d5174a47c1d74227a445d9ee859afbd7": {
          "model_module": "@jupyter-widgets/controls",
          "model_name": "VBoxModel",
          "model_module_version": "1.5.0",
          "state": {
            "_dom_classes": [],
            "_model_module": "@jupyter-widgets/controls",
            "_model_module_version": "1.5.0",
            "_model_name": "VBoxModel",
            "_view_count": null,
            "_view_module": "@jupyter-widgets/controls",
            "_view_module_version": "1.5.0",
            "_view_name": "VBoxView",
            "box_style": "",
            "children": [
              "IPY_MODEL_baaa85c18e2d474baf198d71b7a50efa",
              "IPY_MODEL_06dbe98de4cb459daec3843b85e7a52f",
              "IPY_MODEL_0ecbbd05e592478a98c9c360db34241e"
            ],
            "layout": "IPY_MODEL_c79a0ca09f184a1082ed3a6382807c9e"
          }
        },
        "544b994bea04427f8279b68c1e71c22a": {
          "model_module": "@jupyter-widgets/controls",
          "model_name": "HTMLModel",
          "model_module_version": "1.5.0",
          "state": {
            "_dom_classes": [],
            "_model_module": "@jupyter-widgets/controls",
            "_model_module_version": "1.5.0",
            "_model_name": "HTMLModel",
            "_view_count": null,
            "_view_module": "@jupyter-widgets/controls",
            "_view_module_version": "1.5.0",
            "_view_name": "HTMLView",
            "description": "",
            "description_tooltip": null,
            "layout": "IPY_MODEL_4a6ee3900abf4c95bebb582e2aa1a1e8",
            "placeholder": "​",
            "style": "IPY_MODEL_25ad9e2a053040fc811194d69a2333b4",
            "value": "<center> <img\nsrc=https://huggingface.co/front/assets/huggingface_logo-noborder.svg\nalt='Hugging Face'> <br> Copy a token from <a\nhref=\"https://huggingface.co/settings/tokens\" target=\"_blank\">your Hugging Face\ntokens page</a> and paste it below. <br> Immediately click login after copying\nyour token or it might be stored in plain text in this notebook file. </center>"
          }
        },
        "8fffb9e4892246e9967f8c310c24a344": {
          "model_module": "@jupyter-widgets/controls",
          "model_name": "PasswordModel",
          "model_module_version": "1.5.0",
          "state": {
            "_dom_classes": [],
            "_model_module": "@jupyter-widgets/controls",
            "_model_module_version": "1.5.0",
            "_model_name": "PasswordModel",
            "_view_count": null,
            "_view_module": "@jupyter-widgets/controls",
            "_view_module_version": "1.5.0",
            "_view_name": "PasswordView",
            "continuous_update": true,
            "description": "Token:",
            "description_tooltip": null,
            "disabled": false,
            "layout": "IPY_MODEL_71f418c2cb944f1582770b0c995c9541",
            "placeholder": "​",
            "style": "IPY_MODEL_74e3be16b2664291a480b9b2093e529d",
            "value": ""
          }
        },
        "b2c4a1f01a9f43c7920c9c2e028d320f": {
          "model_module": "@jupyter-widgets/controls",
          "model_name": "CheckboxModel",
          "model_module_version": "1.5.0",
          "state": {
            "_dom_classes": [],
            "_model_module": "@jupyter-widgets/controls",
            "_model_module_version": "1.5.0",
            "_model_name": "CheckboxModel",
            "_view_count": null,
            "_view_module": "@jupyter-widgets/controls",
            "_view_module_version": "1.5.0",
            "_view_name": "CheckboxView",
            "description": "Add token as git credential?",
            "description_tooltip": null,
            "disabled": false,
            "indent": true,
            "layout": "IPY_MODEL_1d662c17d7a54682a9aa2e7e2649722c",
            "style": "IPY_MODEL_ede744283a4f47b6bbc05b2fedac2952",
            "value": false
          }
        },
        "966588f0e4e44527805e730dea1bbf23": {
          "model_module": "@jupyter-widgets/controls",
          "model_name": "ButtonModel",
          "model_module_version": "1.5.0",
          "state": {
            "_dom_classes": [],
            "_model_module": "@jupyter-widgets/controls",
            "_model_module_version": "1.5.0",
            "_model_name": "ButtonModel",
            "_view_count": null,
            "_view_module": "@jupyter-widgets/controls",
            "_view_module_version": "1.5.0",
            "_view_name": "ButtonView",
            "button_style": "",
            "description": "Login",
            "disabled": false,
            "icon": "",
            "layout": "IPY_MODEL_e704771fd037477fbf0fd3863fafb481",
            "style": "IPY_MODEL_fc22893984e64c0fb19e839f44d934a3",
            "tooltip": ""
          }
        },
        "a7ee19d8e021455589222820a1d32640": {
          "model_module": "@jupyter-widgets/controls",
          "model_name": "HTMLModel",
          "model_module_version": "1.5.0",
          "state": {
            "_dom_classes": [],
            "_model_module": "@jupyter-widgets/controls",
            "_model_module_version": "1.5.0",
            "_model_name": "HTMLModel",
            "_view_count": null,
            "_view_module": "@jupyter-widgets/controls",
            "_view_module_version": "1.5.0",
            "_view_name": "HTMLView",
            "description": "",
            "description_tooltip": null,
            "layout": "IPY_MODEL_f6da7d1ca5394ef5926c087c3b278870",
            "placeholder": "​",
            "style": "IPY_MODEL_e2e6d82a99a5478ea993d701bbb48a65",
            "value": "\n<b>Pro Tip:</b> If you don't already have one, you can create a dedicated\n'notebooks' token with 'write' access, that you can then easily reuse for all\nnotebooks. </center>"
          }
        },
        "c79a0ca09f184a1082ed3a6382807c9e": {
          "model_module": "@jupyter-widgets/base",
          "model_name": "LayoutModel",
          "model_module_version": "1.2.0",
          "state": {
            "_model_module": "@jupyter-widgets/base",
            "_model_module_version": "1.2.0",
            "_model_name": "LayoutModel",
            "_view_count": null,
            "_view_module": "@jupyter-widgets/base",
            "_view_module_version": "1.2.0",
            "_view_name": "LayoutView",
            "align_content": null,
            "align_items": "center",
            "align_self": null,
            "border": null,
            "bottom": null,
            "display": "flex",
            "flex": null,
            "flex_flow": "column",
            "grid_area": null,
            "grid_auto_columns": null,
            "grid_auto_flow": null,
            "grid_auto_rows": null,
            "grid_column": null,
            "grid_gap": null,
            "grid_row": null,
            "grid_template_areas": null,
            "grid_template_columns": null,
            "grid_template_rows": null,
            "height": null,
            "justify_content": null,
            "justify_items": null,
            "left": null,
            "margin": null,
            "max_height": null,
            "max_width": null,
            "min_height": null,
            "min_width": null,
            "object_fit": null,
            "object_position": null,
            "order": null,
            "overflow": null,
            "overflow_x": null,
            "overflow_y": null,
            "padding": null,
            "right": null,
            "top": null,
            "visibility": null,
            "width": "50%"
          }
        },
        "4a6ee3900abf4c95bebb582e2aa1a1e8": {
          "model_module": "@jupyter-widgets/base",
          "model_name": "LayoutModel",
          "model_module_version": "1.2.0",
          "state": {
            "_model_module": "@jupyter-widgets/base",
            "_model_module_version": "1.2.0",
            "_model_name": "LayoutModel",
            "_view_count": null,
            "_view_module": "@jupyter-widgets/base",
            "_view_module_version": "1.2.0",
            "_view_name": "LayoutView",
            "align_content": null,
            "align_items": null,
            "align_self": null,
            "border": null,
            "bottom": null,
            "display": null,
            "flex": null,
            "flex_flow": null,
            "grid_area": null,
            "grid_auto_columns": null,
            "grid_auto_flow": null,
            "grid_auto_rows": null,
            "grid_column": null,
            "grid_gap": null,
            "grid_row": null,
            "grid_template_areas": null,
            "grid_template_columns": null,
            "grid_template_rows": null,
            "height": null,
            "justify_content": null,
            "justify_items": null,
            "left": null,
            "margin": null,
            "max_height": null,
            "max_width": null,
            "min_height": null,
            "min_width": null,
            "object_fit": null,
            "object_position": null,
            "order": null,
            "overflow": null,
            "overflow_x": null,
            "overflow_y": null,
            "padding": null,
            "right": null,
            "top": null,
            "visibility": null,
            "width": null
          }
        },
        "25ad9e2a053040fc811194d69a2333b4": {
          "model_module": "@jupyter-widgets/controls",
          "model_name": "DescriptionStyleModel",
          "model_module_version": "1.5.0",
          "state": {
            "_model_module": "@jupyter-widgets/controls",
            "_model_module_version": "1.5.0",
            "_model_name": "DescriptionStyleModel",
            "_view_count": null,
            "_view_module": "@jupyter-widgets/base",
            "_view_module_version": "1.2.0",
            "_view_name": "StyleView",
            "description_width": ""
          }
        },
        "71f418c2cb944f1582770b0c995c9541": {
          "model_module": "@jupyter-widgets/base",
          "model_name": "LayoutModel",
          "model_module_version": "1.2.0",
          "state": {
            "_model_module": "@jupyter-widgets/base",
            "_model_module_version": "1.2.0",
            "_model_name": "LayoutModel",
            "_view_count": null,
            "_view_module": "@jupyter-widgets/base",
            "_view_module_version": "1.2.0",
            "_view_name": "LayoutView",
            "align_content": null,
            "align_items": null,
            "align_self": null,
            "border": null,
            "bottom": null,
            "display": null,
            "flex": null,
            "flex_flow": null,
            "grid_area": null,
            "grid_auto_columns": null,
            "grid_auto_flow": null,
            "grid_auto_rows": null,
            "grid_column": null,
            "grid_gap": null,
            "grid_row": null,
            "grid_template_areas": null,
            "grid_template_columns": null,
            "grid_template_rows": null,
            "height": null,
            "justify_content": null,
            "justify_items": null,
            "left": null,
            "margin": null,
            "max_height": null,
            "max_width": null,
            "min_height": null,
            "min_width": null,
            "object_fit": null,
            "object_position": null,
            "order": null,
            "overflow": null,
            "overflow_x": null,
            "overflow_y": null,
            "padding": null,
            "right": null,
            "top": null,
            "visibility": null,
            "width": null
          }
        },
        "74e3be16b2664291a480b9b2093e529d": {
          "model_module": "@jupyter-widgets/controls",
          "model_name": "DescriptionStyleModel",
          "model_module_version": "1.5.0",
          "state": {
            "_model_module": "@jupyter-widgets/controls",
            "_model_module_version": "1.5.0",
            "_model_name": "DescriptionStyleModel",
            "_view_count": null,
            "_view_module": "@jupyter-widgets/base",
            "_view_module_version": "1.2.0",
            "_view_name": "StyleView",
            "description_width": ""
          }
        },
        "1d662c17d7a54682a9aa2e7e2649722c": {
          "model_module": "@jupyter-widgets/base",
          "model_name": "LayoutModel",
          "model_module_version": "1.2.0",
          "state": {
            "_model_module": "@jupyter-widgets/base",
            "_model_module_version": "1.2.0",
            "_model_name": "LayoutModel",
            "_view_count": null,
            "_view_module": "@jupyter-widgets/base",
            "_view_module_version": "1.2.0",
            "_view_name": "LayoutView",
            "align_content": null,
            "align_items": null,
            "align_self": null,
            "border": null,
            "bottom": null,
            "display": null,
            "flex": null,
            "flex_flow": null,
            "grid_area": null,
            "grid_auto_columns": null,
            "grid_auto_flow": null,
            "grid_auto_rows": null,
            "grid_column": null,
            "grid_gap": null,
            "grid_row": null,
            "grid_template_areas": null,
            "grid_template_columns": null,
            "grid_template_rows": null,
            "height": null,
            "justify_content": null,
            "justify_items": null,
            "left": null,
            "margin": null,
            "max_height": null,
            "max_width": null,
            "min_height": null,
            "min_width": null,
            "object_fit": null,
            "object_position": null,
            "order": null,
            "overflow": null,
            "overflow_x": null,
            "overflow_y": null,
            "padding": null,
            "right": null,
            "top": null,
            "visibility": null,
            "width": null
          }
        },
        "ede744283a4f47b6bbc05b2fedac2952": {
          "model_module": "@jupyter-widgets/controls",
          "model_name": "DescriptionStyleModel",
          "model_module_version": "1.5.0",
          "state": {
            "_model_module": "@jupyter-widgets/controls",
            "_model_module_version": "1.5.0",
            "_model_name": "DescriptionStyleModel",
            "_view_count": null,
            "_view_module": "@jupyter-widgets/base",
            "_view_module_version": "1.2.0",
            "_view_name": "StyleView",
            "description_width": ""
          }
        },
        "e704771fd037477fbf0fd3863fafb481": {
          "model_module": "@jupyter-widgets/base",
          "model_name": "LayoutModel",
          "model_module_version": "1.2.0",
          "state": {
            "_model_module": "@jupyter-widgets/base",
            "_model_module_version": "1.2.0",
            "_model_name": "LayoutModel",
            "_view_count": null,
            "_view_module": "@jupyter-widgets/base",
            "_view_module_version": "1.2.0",
            "_view_name": "LayoutView",
            "align_content": null,
            "align_items": null,
            "align_self": null,
            "border": null,
            "bottom": null,
            "display": null,
            "flex": null,
            "flex_flow": null,
            "grid_area": null,
            "grid_auto_columns": null,
            "grid_auto_flow": null,
            "grid_auto_rows": null,
            "grid_column": null,
            "grid_gap": null,
            "grid_row": null,
            "grid_template_areas": null,
            "grid_template_columns": null,
            "grid_template_rows": null,
            "height": null,
            "justify_content": null,
            "justify_items": null,
            "left": null,
            "margin": null,
            "max_height": null,
            "max_width": null,
            "min_height": null,
            "min_width": null,
            "object_fit": null,
            "object_position": null,
            "order": null,
            "overflow": null,
            "overflow_x": null,
            "overflow_y": null,
            "padding": null,
            "right": null,
            "top": null,
            "visibility": null,
            "width": null
          }
        },
        "fc22893984e64c0fb19e839f44d934a3": {
          "model_module": "@jupyter-widgets/controls",
          "model_name": "ButtonStyleModel",
          "model_module_version": "1.5.0",
          "state": {
            "_model_module": "@jupyter-widgets/controls",
            "_model_module_version": "1.5.0",
            "_model_name": "ButtonStyleModel",
            "_view_count": null,
            "_view_module": "@jupyter-widgets/base",
            "_view_module_version": "1.2.0",
            "_view_name": "StyleView",
            "button_color": null,
            "font_weight": ""
          }
        },
        "f6da7d1ca5394ef5926c087c3b278870": {
          "model_module": "@jupyter-widgets/base",
          "model_name": "LayoutModel",
          "model_module_version": "1.2.0",
          "state": {
            "_model_module": "@jupyter-widgets/base",
            "_model_module_version": "1.2.0",
            "_model_name": "LayoutModel",
            "_view_count": null,
            "_view_module": "@jupyter-widgets/base",
            "_view_module_version": "1.2.0",
            "_view_name": "LayoutView",
            "align_content": null,
            "align_items": null,
            "align_self": null,
            "border": null,
            "bottom": null,
            "display": null,
            "flex": null,
            "flex_flow": null,
            "grid_area": null,
            "grid_auto_columns": null,
            "grid_auto_flow": null,
            "grid_auto_rows": null,
            "grid_column": null,
            "grid_gap": null,
            "grid_row": null,
            "grid_template_areas": null,
            "grid_template_columns": null,
            "grid_template_rows": null,
            "height": null,
            "justify_content": null,
            "justify_items": null,
            "left": null,
            "margin": null,
            "max_height": null,
            "max_width": null,
            "min_height": null,
            "min_width": null,
            "object_fit": null,
            "object_position": null,
            "order": null,
            "overflow": null,
            "overflow_x": null,
            "overflow_y": null,
            "padding": null,
            "right": null,
            "top": null,
            "visibility": null,
            "width": null
          }
        },
        "e2e6d82a99a5478ea993d701bbb48a65": {
          "model_module": "@jupyter-widgets/controls",
          "model_name": "DescriptionStyleModel",
          "model_module_version": "1.5.0",
          "state": {
            "_model_module": "@jupyter-widgets/controls",
            "_model_module_version": "1.5.0",
            "_model_name": "DescriptionStyleModel",
            "_view_count": null,
            "_view_module": "@jupyter-widgets/base",
            "_view_module_version": "1.2.0",
            "_view_name": "StyleView",
            "description_width": ""
          }
        },
        "c743fbb3457a4bb5b5ef1f2e59822d1f": {
          "model_module": "@jupyter-widgets/controls",
          "model_name": "LabelModel",
          "model_module_version": "1.5.0",
          "state": {
            "_dom_classes": [],
            "_model_module": "@jupyter-widgets/controls",
            "_model_module_version": "1.5.0",
            "_model_name": "LabelModel",
            "_view_count": null,
            "_view_module": "@jupyter-widgets/controls",
            "_view_module_version": "1.5.0",
            "_view_name": "LabelView",
            "description": "",
            "description_tooltip": null,
            "layout": "IPY_MODEL_12d02ac537d6484abacf92b45ad6d632",
            "placeholder": "​",
            "style": "IPY_MODEL_3dd4d3fc1973440ab2a78c5d4dd5c970",
            "value": "Connecting..."
          }
        },
        "12d02ac537d6484abacf92b45ad6d632": {
          "model_module": "@jupyter-widgets/base",
          "model_name": "LayoutModel",
          "model_module_version": "1.2.0",
          "state": {
            "_model_module": "@jupyter-widgets/base",
            "_model_module_version": "1.2.0",
            "_model_name": "LayoutModel",
            "_view_count": null,
            "_view_module": "@jupyter-widgets/base",
            "_view_module_version": "1.2.0",
            "_view_name": "LayoutView",
            "align_content": null,
            "align_items": null,
            "align_self": null,
            "border": null,
            "bottom": null,
            "display": null,
            "flex": null,
            "flex_flow": null,
            "grid_area": null,
            "grid_auto_columns": null,
            "grid_auto_flow": null,
            "grid_auto_rows": null,
            "grid_column": null,
            "grid_gap": null,
            "grid_row": null,
            "grid_template_areas": null,
            "grid_template_columns": null,
            "grid_template_rows": null,
            "height": null,
            "justify_content": null,
            "justify_items": null,
            "left": null,
            "margin": null,
            "max_height": null,
            "max_width": null,
            "min_height": null,
            "min_width": null,
            "object_fit": null,
            "object_position": null,
            "order": null,
            "overflow": null,
            "overflow_x": null,
            "overflow_y": null,
            "padding": null,
            "right": null,
            "top": null,
            "visibility": null,
            "width": null
          }
        },
        "3dd4d3fc1973440ab2a78c5d4dd5c970": {
          "model_module": "@jupyter-widgets/controls",
          "model_name": "DescriptionStyleModel",
          "model_module_version": "1.5.0",
          "state": {
            "_model_module": "@jupyter-widgets/controls",
            "_model_module_version": "1.5.0",
            "_model_name": "DescriptionStyleModel",
            "_view_count": null,
            "_view_module": "@jupyter-widgets/base",
            "_view_module_version": "1.2.0",
            "_view_name": "StyleView",
            "description_width": ""
          }
        },
        "baaa85c18e2d474baf198d71b7a50efa": {
          "model_module": "@jupyter-widgets/controls",
          "model_name": "LabelModel",
          "model_module_version": "1.5.0",
          "state": {
            "_dom_classes": [],
            "_model_module": "@jupyter-widgets/controls",
            "_model_module_version": "1.5.0",
            "_model_name": "LabelModel",
            "_view_count": null,
            "_view_module": "@jupyter-widgets/controls",
            "_view_module_version": "1.5.0",
            "_view_name": "LabelView",
            "description": "",
            "description_tooltip": null,
            "layout": "IPY_MODEL_1e8f68eec6794ae0bb509acc62ebf4bb",
            "placeholder": "​",
            "style": "IPY_MODEL_383759249f1f436ea46dae2be2c7a336",
            "value": "Token is valid (permission: write)."
          }
        },
        "06dbe98de4cb459daec3843b85e7a52f": {
          "model_module": "@jupyter-widgets/controls",
          "model_name": "LabelModel",
          "model_module_version": "1.5.0",
          "state": {
            "_dom_classes": [],
            "_model_module": "@jupyter-widgets/controls",
            "_model_module_version": "1.5.0",
            "_model_name": "LabelModel",
            "_view_count": null,
            "_view_module": "@jupyter-widgets/controls",
            "_view_module_version": "1.5.0",
            "_view_name": "LabelView",
            "description": "",
            "description_tooltip": null,
            "layout": "IPY_MODEL_e1857f92a80b48c2a87d57f44654e22b",
            "placeholder": "​",
            "style": "IPY_MODEL_00fc5f3b2a4f49ab8966d8232cfbb334",
            "value": "Your token has been saved to /root/.cache/huggingface/token"
          }
        },
        "0ecbbd05e592478a98c9c360db34241e": {
          "model_module": "@jupyter-widgets/controls",
          "model_name": "LabelModel",
          "model_module_version": "1.5.0",
          "state": {
            "_dom_classes": [],
            "_model_module": "@jupyter-widgets/controls",
            "_model_module_version": "1.5.0",
            "_model_name": "LabelModel",
            "_view_count": null,
            "_view_module": "@jupyter-widgets/controls",
            "_view_module_version": "1.5.0",
            "_view_name": "LabelView",
            "description": "",
            "description_tooltip": null,
            "layout": "IPY_MODEL_cdb7c6c326744a31a626da4617b3c776",
            "placeholder": "​",
            "style": "IPY_MODEL_5bbe04a8b85543eb9820dfa29bee2949",
            "value": "Login successful"
          }
        },
        "1e8f68eec6794ae0bb509acc62ebf4bb": {
          "model_module": "@jupyter-widgets/base",
          "model_name": "LayoutModel",
          "model_module_version": "1.2.0",
          "state": {
            "_model_module": "@jupyter-widgets/base",
            "_model_module_version": "1.2.0",
            "_model_name": "LayoutModel",
            "_view_count": null,
            "_view_module": "@jupyter-widgets/base",
            "_view_module_version": "1.2.0",
            "_view_name": "LayoutView",
            "align_content": null,
            "align_items": null,
            "align_self": null,
            "border": null,
            "bottom": null,
            "display": null,
            "flex": null,
            "flex_flow": null,
            "grid_area": null,
            "grid_auto_columns": null,
            "grid_auto_flow": null,
            "grid_auto_rows": null,
            "grid_column": null,
            "grid_gap": null,
            "grid_row": null,
            "grid_template_areas": null,
            "grid_template_columns": null,
            "grid_template_rows": null,
            "height": null,
            "justify_content": null,
            "justify_items": null,
            "left": null,
            "margin": null,
            "max_height": null,
            "max_width": null,
            "min_height": null,
            "min_width": null,
            "object_fit": null,
            "object_position": null,
            "order": null,
            "overflow": null,
            "overflow_x": null,
            "overflow_y": null,
            "padding": null,
            "right": null,
            "top": null,
            "visibility": null,
            "width": null
          }
        },
        "383759249f1f436ea46dae2be2c7a336": {
          "model_module": "@jupyter-widgets/controls",
          "model_name": "DescriptionStyleModel",
          "model_module_version": "1.5.0",
          "state": {
            "_model_module": "@jupyter-widgets/controls",
            "_model_module_version": "1.5.0",
            "_model_name": "DescriptionStyleModel",
            "_view_count": null,
            "_view_module": "@jupyter-widgets/base",
            "_view_module_version": "1.2.0",
            "_view_name": "StyleView",
            "description_width": ""
          }
        },
        "e1857f92a80b48c2a87d57f44654e22b": {
          "model_module": "@jupyter-widgets/base",
          "model_name": "LayoutModel",
          "model_module_version": "1.2.0",
          "state": {
            "_model_module": "@jupyter-widgets/base",
            "_model_module_version": "1.2.0",
            "_model_name": "LayoutModel",
            "_view_count": null,
            "_view_module": "@jupyter-widgets/base",
            "_view_module_version": "1.2.0",
            "_view_name": "LayoutView",
            "align_content": null,
            "align_items": null,
            "align_self": null,
            "border": null,
            "bottom": null,
            "display": null,
            "flex": null,
            "flex_flow": null,
            "grid_area": null,
            "grid_auto_columns": null,
            "grid_auto_flow": null,
            "grid_auto_rows": null,
            "grid_column": null,
            "grid_gap": null,
            "grid_row": null,
            "grid_template_areas": null,
            "grid_template_columns": null,
            "grid_template_rows": null,
            "height": null,
            "justify_content": null,
            "justify_items": null,
            "left": null,
            "margin": null,
            "max_height": null,
            "max_width": null,
            "min_height": null,
            "min_width": null,
            "object_fit": null,
            "object_position": null,
            "order": null,
            "overflow": null,
            "overflow_x": null,
            "overflow_y": null,
            "padding": null,
            "right": null,
            "top": null,
            "visibility": null,
            "width": null
          }
        },
        "00fc5f3b2a4f49ab8966d8232cfbb334": {
          "model_module": "@jupyter-widgets/controls",
          "model_name": "DescriptionStyleModel",
          "model_module_version": "1.5.0",
          "state": {
            "_model_module": "@jupyter-widgets/controls",
            "_model_module_version": "1.5.0",
            "_model_name": "DescriptionStyleModel",
            "_view_count": null,
            "_view_module": "@jupyter-widgets/base",
            "_view_module_version": "1.2.0",
            "_view_name": "StyleView",
            "description_width": ""
          }
        },
        "cdb7c6c326744a31a626da4617b3c776": {
          "model_module": "@jupyter-widgets/base",
          "model_name": "LayoutModel",
          "model_module_version": "1.2.0",
          "state": {
            "_model_module": "@jupyter-widgets/base",
            "_model_module_version": "1.2.0",
            "_model_name": "LayoutModel",
            "_view_count": null,
            "_view_module": "@jupyter-widgets/base",
            "_view_module_version": "1.2.0",
            "_view_name": "LayoutView",
            "align_content": null,
            "align_items": null,
            "align_self": null,
            "border": null,
            "bottom": null,
            "display": null,
            "flex": null,
            "flex_flow": null,
            "grid_area": null,
            "grid_auto_columns": null,
            "grid_auto_flow": null,
            "grid_auto_rows": null,
            "grid_column": null,
            "grid_gap": null,
            "grid_row": null,
            "grid_template_areas": null,
            "grid_template_columns": null,
            "grid_template_rows": null,
            "height": null,
            "justify_content": null,
            "justify_items": null,
            "left": null,
            "margin": null,
            "max_height": null,
            "max_width": null,
            "min_height": null,
            "min_width": null,
            "object_fit": null,
            "object_position": null,
            "order": null,
            "overflow": null,
            "overflow_x": null,
            "overflow_y": null,
            "padding": null,
            "right": null,
            "top": null,
            "visibility": null,
            "width": null
          }
        },
        "5bbe04a8b85543eb9820dfa29bee2949": {
          "model_module": "@jupyter-widgets/controls",
          "model_name": "DescriptionStyleModel",
          "model_module_version": "1.5.0",
          "state": {
            "_model_module": "@jupyter-widgets/controls",
            "_model_module_version": "1.5.0",
            "_model_name": "DescriptionStyleModel",
            "_view_count": null,
            "_view_module": "@jupyter-widgets/base",
            "_view_module_version": "1.2.0",
            "_view_name": "StyleView",
            "description_width": ""
          }
        }
      }
    },
    "accelerator": "TPU"
  },
  "nbformat": 4,
  "nbformat_minor": 0
}